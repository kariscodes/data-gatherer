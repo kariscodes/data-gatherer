{
 "cells": [
  {
   "cell_type": "markdown",
   "metadata": {},
   "source": [
    "## 기상청의 대구 코드 확인\n",
    "+ 작성: 김지훈\n",
    "+ 수정: 임경호"
   ]
  },
  {
   "cell_type": "code",
   "execution_count": 7,
   "metadata": {},
   "outputs": [],
   "source": [
    "#라이브러리 설치\n",
    "import pandas as pd\n",
    "import requests\n",
    "import warnings\n",
    "warnings.filterwarnings('ignore')"
   ]
  },
  {
   "cell_type": "code",
   "execution_count": 8,
   "metadata": {},
   "outputs": [],
   "source": [
    "url = \"https://apihub.kma.go.kr/api/typ01/url/stn_inf.php\"\n",
    "params ={'inf' : 'SFC',\n",
    "         'stn' : '',\n",
    "         'authKey' : '853B8q9uTi6dwfKvbq4uqQ'} #코드 수정\n",
    "response = requests.get(url, params=params, verify=False)"
   ]
  },
  {
   "cell_type": "code",
   "execution_count": 9,
   "metadata": {},
   "outputs": [
    {
     "name": "stdout",
     "output_type": "stream",
     "text": [
      "정상\n"
     ]
    }
   ],
   "source": [
    "if response.status_code == 200:     # URL GET '200 정상'\n",
    "    print(\"정상\")"
   ]
  },
  {
   "cell_type": "code",
   "execution_count": 10,
   "metadata": {},
   "outputs": [],
   "source": [
    "if response.status_code == 200:     # URL GET '200 정상'\n",
    "    text = response.text\n",
    "    text = text.replace(\"#\",\"\").split(\"\\n\")\n",
    "\n",
    "    text = text[1:-2]\n",
    "    for i,l in enumerate(text):\n",
    "        l = l.strip().replace(\" \",\",\").split(',')\n",
    "        l = [i for i in l if i != '']\n",
    "        l = \",\".join(l)\n",
    "        text[i] = l\n",
    "        \n",
    "    # column name setting\n",
    "    col_name1 =  text[0].split(',')\n",
    "    col_name2 = text[1].split(',')\n",
    "    col_name2 = [i.replace(\"-\",\"\") for i in col_name2]\n",
    "    col_name = [n1+\"(\"+n2+\")\" for n1,n2 in zip(col_name1,col_name2)]\n",
    "    col_name = [c.replace(\"()\",\"\") for c in col_name]\n",
    "\n",
    "    df_temp = pd.DataFrame(text[2:])[0].str.split(\",\", expand=True)\n",
    "\n",
    "    df_temp = df_temp.drop(14, axis = 1)\n",
    "    df_temp.columns = col_name\n",
    "    daegu_num = df_temp[df_temp['STN_KO']==\"대구\"] #대구 지역번호 >> 143\n",
    "    # print(\"대구의 행 번호와 STN(ID)는 각각 :  \", daegu_num['STN(ID)'])\n",
    "    daegu_num"
   ]
  },
  {
   "cell_type": "code",
   "execution_count": 11,
   "metadata": {},
   "outputs": [
    {
     "data": {
      "text/html": [
       "<div>\n",
       "<style scoped>\n",
       "    .dataframe tbody tr th:only-of-type {\n",
       "        vertical-align: middle;\n",
       "    }\n",
       "\n",
       "    .dataframe tbody tr th {\n",
       "        vertical-align: top;\n",
       "    }\n",
       "\n",
       "    .dataframe thead th {\n",
       "        text-align: right;\n",
       "    }\n",
       "</style>\n",
       "<table border=\"1\" class=\"dataframe\">\n",
       "  <thead>\n",
       "    <tr style=\"text-align: right;\">\n",
       "      <th></th>\n",
       "      <th>STN(ID)</th>\n",
       "      <th>LON(degee)</th>\n",
       "      <th>LAT(degree)</th>\n",
       "      <th>STN_SP</th>\n",
       "      <th>HT(m)</th>\n",
       "      <th>HT_PA(m)</th>\n",
       "      <th>HT_TA(m)</th>\n",
       "      <th>HT_WD(m)</th>\n",
       "      <th>HT_RN(m)</th>\n",
       "      <th>STN(AD)</th>\n",
       "      <th>STN_KO</th>\n",
       "      <th>STN_EN</th>\n",
       "      <th>FCT_ID</th>\n",
       "      <th>LAW_ID</th>\n",
       "      <th>BASIN</th>\n",
       "    </tr>\n",
       "  </thead>\n",
       "  <tbody>\n",
       "    <tr>\n",
       "      <th>27</th>\n",
       "      <td>143</td>\n",
       "      <td>128.65296000</td>\n",
       "      <td>35.87797000</td>\n",
       "      <td>71401</td>\n",
       "      <td>54.27</td>\n",
       "      <td>55.52</td>\n",
       "      <td>1.80</td>\n",
       "      <td>10.00</td>\n",
       "      <td>0.60</td>\n",
       "      <td>143</td>\n",
       "      <td>대구</td>\n",
       "      <td>Daegu</td>\n",
       "      <td>11H10701</td>\n",
       "      <td>2714010300</td>\n",
       "      <td>None</td>\n",
       "    </tr>\n",
       "  </tbody>\n",
       "</table>\n",
       "</div>"
      ],
      "text/plain": [
       "   STN(ID)    LON(degee)  LAT(degree) STN_SP  HT(m) HT_PA(m) HT_TA(m)  \\\n",
       "27     143  128.65296000  35.87797000  71401  54.27    55.52     1.80   \n",
       "\n",
       "   HT_WD(m) HT_RN(m) STN(AD) STN_KO STN_EN    FCT_ID      LAW_ID BASIN  \n",
       "27    10.00     0.60     143     대구  Daegu  11H10701  2714010300  None  "
      ]
     },
     "execution_count": 11,
     "metadata": {},
     "output_type": "execute_result"
    }
   ],
   "source": [
    "daegu_num"
   ]
  }
 ],
 "metadata": {
  "kernelspec": {
   "display_name": "data-gatherer-venv",
   "language": "python",
   "name": "python3"
  },
  "language_info": {
   "codemirror_mode": {
    "name": "ipython",
    "version": 3
   },
   "file_extension": ".py",
   "mimetype": "text/x-python",
   "name": "python",
   "nbconvert_exporter": "python",
   "pygments_lexer": "ipython3",
   "version": "3.10.8"
  },
  "orig_nbformat": 4
 },
 "nbformat": 4,
 "nbformat_minor": 2
}
