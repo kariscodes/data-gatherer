{
 "cells": [
  {
   "cell_type": "markdown",
   "id": "8cfb654b",
   "metadata": {},
   "source": [
    "# 기상청 지상 관측자료 - 일자료(기간 조회)\n",
    "+ API: 기상청 API 허브 https://apihub.kma.go.kr/\n",
    "+ 참고자료 : https://leedakyeong.tistory.com/entry/Python-Crawling-API-%ED%99%9C%EC%9A%A9%ED%95%98%EC%97%AC-%EA%B3%BC%EA%B1%B0-%EA%B8%B0%EC%83%81-%EA%B4%80%EC%B8%A1-%EB%8D%B0%EC%9D%B4%ED%84%B0-%EB%B6%88%EB%9F%AC%EC%98%A4%EA%B8%B0\n",
    "+ 작성: 임경호"
   ]
  },
  {
   "cell_type": "markdown",
   "id": "1d7eb466",
   "metadata": {},
   "source": [
    "### 1. 데이터를 가져올 날짜 설정"
   ]
  },
  {
   "cell_type": "code",
   "execution_count": 1,
   "id": "e54f0339",
   "metadata": {},
   "outputs": [],
   "source": [
    "import requests\n",
    "import warnings\n",
    "warnings.filterwarnings('ignore')\n",
    "\n",
    "import pandas as pd\n",
    "\n",
    "# user-defined modules\n",
    "import sys\n",
    "module_path = \"D:\\PythonProject\\data-gatherer\\common\"\n",
    "sys.path.append(module_path)\n",
    "import dbconnect\n",
    "import myutil"
   ]
  },
  {
   "cell_type": "code",
   "execution_count": 2,
   "id": "d34ceeae",
   "metadata": {},
   "outputs": [],
   "source": [
    "# 날씨 데이터를 가져올 기간 지정\n",
    "start_date = '20110101'\n",
    "end_date = '20111231'"
   ]
  },
  {
   "cell_type": "markdown",
   "id": "70b11076",
   "metadata": {},
   "source": [
    "### 2. API를 활용한 데이터 수집 "
   ]
  },
  {
   "cell_type": "code",
   "execution_count": 3,
   "id": "488e9361",
   "metadata": {},
   "outputs": [],
   "source": [
    "# url = 'https://apihub.kma.go.kr/api/typ01/url/kma_sfcdd3.php?tm1=20151211&tm2=20151214&stn=108&help=1&authKey=853B8q9uTi6dwfKvbq4uqQ'\n",
    "url = 'https://apihub.kma.go.kr/api/typ01/url/kma_sfcdd3.php'\n",
    "key = \"853B8q9uTi6dwfKvbq4uqQ\"      #개인 인증키\n",
    "region = 143                        # STN(ID) 대구 지역코드\n",
    "# 컬럼 설정: 해당 API 특성 상 사용할 컬럼명을 미리 지정해줘야 사용가능\n",
    "col_name =[\"TM\",\"STN\",\"WS_AVG\",\"WR_DAY\",\"WD_MAX\",\"WS_MAX\",\n",
    "           \"WS_MAX_TM\", \"WD_INS\", \"WS_INS\",\"WS_INS_TM\",\"TA_AVG\",\"TA_MAX\",\n",
    "           \"TA_MAX_TM\",\"TA_MIN\",\"TA_MIN_TM\", \"TD_AVG\", \"TS_AVG\", \"TG_MIN\",\n",
    "           \"HM_AVG\",\"HM_MIN\",\"HM_MIN_TM\", \"PV_AVG\", \"EV_S\", \"EV_L\", \n",
    "           \"FG_DUR\",\"PA_AVG\",\"PS_AVG\", \"PS_MAX\", \"PS_MAX_TM\", \"PS_MIN\",\n",
    "           \"PS_MIN_TM\",\"CA_TOT\",\"SS_DAY\", \"SS_DUR\", \"SS_CMB\", \"SI_DAY\",\n",
    "           \"SI_60M_MAX\",\"SI_60M_MAX_TM\",\"RN_DAY\", \"RN_D99\", \"RN_DUR\", \"RN_60M_MAX\",\n",
    "           \"RN_60M_MAX_TM\",\"RN_10M_MAX\",\"RN_10M_MAX_TM\", \"RN_POW_MAX\", \"RN_POW_MAX_TM\", \"SD_NEW\",\n",
    "           \"SD_NEW_TM\",\"SD_MAX\",\"SD_MAX_TM\", \"TE_05\", \"TE_10\", \"TE_15\",\n",
    "           \"TE_30\", \"TE_50\"\n",
    "           ]\n",
    "\n",
    "params ={'tm1' : start_date,     # 시작 날짜\n",
    "         'tm2' : end_date,       # 끝 날짜\n",
    "         'stn' : region,    # 지역번호\n",
    "         'help' : 0,        # 0: 설명이 안나옴, 1: 설명이 나옴 \n",
    "         'authKey' : key}\n",
    "\n",
    "response = requests.get(url, params=params, verify=False)"
   ]
  },
  {
   "cell_type": "code",
   "execution_count": 4,
   "id": "3741369f",
   "metadata": {},
   "outputs": [],
   "source": [
    "if response.status_code == 200:     # URL GET '200 정상'\n",
    "    text = response.text\n",
    "    text = text.split(\"\\n\")[5:-2] #앞의 필요없는  5줄 부분과 뒤의 필요없는 2줄 부분을 제거\n",
    "    \n",
    "    df_weather = pd.DataFrame(text)[0].str.split(expand=True) #데이터프레임 컬럼으로 변경\n",
    "    df_weather.columns = col_name"
   ]
  },
  {
   "cell_type": "code",
   "execution_count": null,
   "id": "4b7191c2",
   "metadata": {},
   "outputs": [],
   "source": [
    "df_weather"
   ]
  },
  {
   "cell_type": "markdown",
   "id": "b11e1cbf",
   "metadata": {},
   "source": [
    "### 3. 데이터 전처리"
   ]
  },
  {
   "cell_type": "code",
   "execution_count": null,
   "id": "17374f6e",
   "metadata": {},
   "outputs": [],
   "source": [
    "#데이터 전처리 \n",
    "df_weather= df_weather[['TM','TA_AVG','TA_MAX','TA_MIN']] #필요한 부분만 추출>|날짜|평균기온|최고기온|최저기온|\n",
    "df_weather.columns = ['date_id','ta_avg','ta_max','ta_min'] #컬럼명 변경 > SQL과 똑같이 설정\n",
    "\n",
    "#타입 변경\n",
    "df_weather['ta_avg'] = df_weather['ta_avg'].astype(float) #실수형으로 변경\n",
    "df_weather['ta_max'] = df_weather['ta_max'].astype(float) #실수형으로 변경\n",
    "df_weather['ta_min'] = df_weather['ta_min'].astype(float) #실수형으로 변경\n",
    "\n",
    "#기온 편차 컬럼 생성\n",
    "df_weather['ta_diff'] = df_weather['ta_max']-df_weather['ta_min'] \n",
    "df_weather"
   ]
  },
  {
   "cell_type": "markdown",
   "id": "a45cab11",
   "metadata": {},
   "source": [
    "### 4. 테이블에 데이터 저장 (mdw.weather)"
   ]
  },
  {
   "cell_type": "code",
   "execution_count": 8,
   "metadata": {},
   "outputs": [],
   "source": [
    "import datetime as dt\n",
    "dt_now = dt.datetime.now()\n",
    "dt_now_str = dt_now.strftime('%Y-%m-%d %H:%M:%S')\n",
    "\n",
    "user_name = 'lkh'\n",
    "\n",
    "conn = dbconnect.db_connect(\"DEMO_DW\")\n",
    "cur = conn.cursor()\n",
    "\n",
    "for row in df_weather.itertuples():\n",
    "    sql = \"insert into weather (date_id, ta_avg, ta_max, ta_min, ta_diff, create_datetime, create_id) \\\n",
    "                        values (%s, %s, %s, %s, %s, %s, %s)\"\n",
    "    cur.execute(sql, (row[1], row[2], row[3], row[4], row[5], dt_now_str, user_name))\n",
    "conn.commit()\n",
    "conn.close()"
   ]
  }
 ],
 "metadata": {
  "kernelspec": {
   "display_name": "Python 3 (ipykernel)",
   "language": "python",
   "name": "python3"
  },
  "language_info": {
   "codemirror_mode": {
    "name": "ipython",
    "version": 3
   },
   "file_extension": ".py",
   "mimetype": "text/x-python",
   "name": "python",
   "nbconvert_exporter": "python",
   "pygments_lexer": "ipython3",
   "version": "3.10.8"
  }
 },
 "nbformat": 4,
 "nbformat_minor": 5
}
