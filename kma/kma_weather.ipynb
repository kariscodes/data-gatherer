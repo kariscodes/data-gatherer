{
 "cells": [
  {
   "cell_type": "markdown",
   "id": "8cfb654b",
   "metadata": {},
   "source": [
    "# 기상청 지상 관측자료 - 일자료(기간 조회)\n",
    "+ API: 기상청 API 허브 https://apihub.kma.go.kr/\n",
    "+ 참고자료 : https://leedakyeong.tistory.com/entry/Python-Crawling-API-%ED%99%9C%EC%9A%A9%ED%95%98%EC%97%AC-%EA%B3%BC%EA%B1%B0-%EA%B8%B0%EC%83%81-%EA%B4%80%EC%B8%A1-%EB%8D%B0%EC%9D%B4%ED%84%B0-%EB%B6%88%EB%9F%AC%EC%98%A4%EA%B8%B0\n",
    "+ 작성: 김지훈\n",
    "+ 수정: 임경호"
   ]
  },
  {
   "cell_type": "markdown",
   "id": "1d7eb466",
   "metadata": {},
   "source": [
    "### 1. 데이터를 가져올 날짜 설정"
   ]
  },
  {
   "cell_type": "code",
   "execution_count": 11,
   "id": "e54f0339",
   "metadata": {},
   "outputs": [],
   "source": [
    "import requests\n",
    "import warnings\n",
    "warnings.filterwarnings('ignore')\n",
    "\n",
    "import pandas as pd\n",
    "\n",
    "# user-defined modules\n",
    "import sys\n",
    "module_path = \"D:\\PythonProject\\data-gatherer\\common\"\n",
    "sys.path.append(module_path)\n",
    "import dbconnect\n",
    "import myutil"
   ]
  },
  {
   "cell_type": "code",
   "execution_count": 12,
   "id": "0a555596",
   "metadata": {},
   "outputs": [],
   "source": [
    "conn = dbconnect.db_connect(\"DEMO_DW\")\n",
    "cur = conn.cursor()\n",
    "\n",
    "query = f'SELECT date_id FROM weather ORDER BY date_id DESC LIMIT 1'\n",
    "cur.execute(query)\n",
    "\n",
    "row = cur.fetchone()\n",
    "last_date = row[0]     # 저장된 데이터의 마지막 일자\n",
    "\n",
    "conn.close()"
   ]
  },
  {
   "cell_type": "code",
   "execution_count": 13,
   "id": "d34ceeae",
   "metadata": {},
   "outputs": [
    {
     "name": "stdout",
     "output_type": "stream",
     "text": [
      "날씨 테이블에는 20230726까지 데이터가 저장되어 있으며, 이 날짜 이후인 20230727부터 20230726까지 날씨 데이터를 가져와야 합니다.\n"
     ]
    }
   ],
   "source": [
    "# 2023년 1월 1일부터 2023년 6월 30일까지 데이터 일괄 저장\n",
    "start_date = myutil.get_next_day(last_date)\n",
    "end_date = myutil.get_previous_day()\n",
    "print(f'날씨 테이블에는 {last_date}까지 데이터가 저장되어 있으며, 이 날짜 이후인 {start_date}부터 {end_date}까지 날씨 데이터를 가져와야 합니다.')"
   ]
  },
  {
   "cell_type": "markdown",
   "id": "70b11076",
   "metadata": {},
   "source": [
    "### 2. API를 활용한 데이터 수집 "
   ]
  },
  {
   "cell_type": "code",
   "execution_count": 4,
   "id": "488e9361",
   "metadata": {},
   "outputs": [],
   "source": [
    "# url = 'https://apihub.kma.go.kr/api/typ01/url/kma_sfcdd3.php?tm1=20151211&tm2=20151214&stn=108&help=1&authKey=853B8q9uTi6dwfKvbq4uqQ'\n",
    "url = 'https://apihub.kma.go.kr/api/typ01/url/kma_sfcdd3.php'\n",
    "key = \"853B8q9uTi6dwfKvbq4uqQ\"      #개인 인증키\n",
    "region = 143                        # STN(ID) 대구 지역코드\n",
    "# 컬럼 설정: 해당 API 특성 상 사용할 컬럼명을 미리 지정해줘야 사용가능\n",
    "col_name =[\"TM\",\"STN\",\"WS_AVG\",\"WR_DAY\",\"WD_MAX\",\"WS_MAX\",\n",
    "           \"WS_MAX_TM\", \"WD_INS\", \"WS_INS\",\"WS_INS_TM\",\"TA_AVG\",\"TA_MAX\",\n",
    "           \"TA_MAX_TM\",\"TA_MIN\",\"TA_MIN_TM\", \"TD_AVG\", \"TS_AVG\", \"TG_MIN\",\n",
    "           \"HM_AVG\",\"HM_MIN\",\"HM_MIN_TM\", \"PV_AVG\", \"EV_S\", \"EV_L\", \n",
    "           \"FG_DUR\",\"PA_AVG\",\"PS_AVG\", \"PS_MAX\", \"PS_MAX_TM\", \"PS_MIN\",\n",
    "           \"PS_MIN_TM\",\"CA_TOT\",\"SS_DAY\", \"SS_DUR\", \"SS_CMB\", \"SI_DAY\",\n",
    "           \"SI_60M_MAX\",\"SI_60M_MAX_TM\",\"RN_DAY\", \"RN_D99\", \"RN_DUR\", \"RN_60M_MAX\",\n",
    "           \"RN_60M_MAX_TM\",\"RN_10M_MAX\",\"RN_10M_MAX_TM\", \"RN_POW_MAX\", \"RN_POW_MAX_TM\", \"SD_NEW\",\n",
    "           \"SD_NEW_TM\",\"SD_MAX\",\"SD_MAX_TM\", \"TE_05\", \"TE_10\", \"TE_15\",\n",
    "           \"TE_30\", \"TE_50\"\n",
    "           ]\n",
    "#데이터 수집 시작 날짜와 끝 날짜를 작성 \n",
    "# start_date = 20230701 #시작 날짜(수정) \n",
    "# end_date = 20230702 # 끝 날짜 (수정)"
   ]
  },
  {
   "cell_type": "code",
   "execution_count": 5,
   "id": "2a9acc22",
   "metadata": {},
   "outputs": [],
   "source": [
    "params ={'tm1' : start_date,     # 시작 날짜\n",
    "         'tm2' : end_date,       # 끝 날짜\n",
    "         'stn' : region,    # 지역번호\n",
    "         'help' : 0,        # 0: 설명이 안나옴, 1: 설명이 나옴 \n",
    "         'authKey' : key}\n",
    "\n",
    "response = requests.get(url, params=params, verify=False)"
   ]
  },
  {
   "cell_type": "code",
   "execution_count": 6,
   "id": "3741369f",
   "metadata": {},
   "outputs": [],
   "source": [
    "if response.status_code == 200:     # URL GET '200 정상'\n",
    "    text = response.text\n",
    "    text = text.split(\"\\n\")[5:-2] #앞의 필요없는  5줄 부분과 뒤의 필요없는 2줄 부분을 제거\n",
    "    \n",
    "    df_weather = pd.DataFrame(text)[0].str.split(expand=True) #데이터프레임 컬럼으로 변경\n",
    "    df_weather.columns = col_name"
   ]
  },
  {
   "cell_type": "code",
   "execution_count": 7,
   "id": "4b7191c2",
   "metadata": {},
   "outputs": [
    {
     "data": {
      "text/html": [
       "<div>\n",
       "<style scoped>\n",
       "    .dataframe tbody tr th:only-of-type {\n",
       "        vertical-align: middle;\n",
       "    }\n",
       "\n",
       "    .dataframe tbody tr th {\n",
       "        vertical-align: top;\n",
       "    }\n",
       "\n",
       "    .dataframe thead th {\n",
       "        text-align: right;\n",
       "    }\n",
       "</style>\n",
       "<table border=\"1\" class=\"dataframe\">\n",
       "  <thead>\n",
       "    <tr style=\"text-align: right;\">\n",
       "      <th></th>\n",
       "      <th>TM</th>\n",
       "      <th>STN</th>\n",
       "      <th>WS_AVG</th>\n",
       "      <th>WR_DAY</th>\n",
       "      <th>WD_MAX</th>\n",
       "      <th>WS_MAX</th>\n",
       "      <th>WS_MAX_TM</th>\n",
       "      <th>WD_INS</th>\n",
       "      <th>WS_INS</th>\n",
       "      <th>WS_INS_TM</th>\n",
       "      <th>...</th>\n",
       "      <th>RN_POW_MAX_TM</th>\n",
       "      <th>SD_NEW</th>\n",
       "      <th>SD_NEW_TM</th>\n",
       "      <th>SD_MAX</th>\n",
       "      <th>SD_MAX_TM</th>\n",
       "      <th>TE_05</th>\n",
       "      <th>TE_10</th>\n",
       "      <th>TE_15</th>\n",
       "      <th>TE_30</th>\n",
       "      <th>TE_50</th>\n",
       "    </tr>\n",
       "  </thead>\n",
       "  <tbody>\n",
       "    <tr>\n",
       "      <th>0</th>\n",
       "      <td>20230724</td>\n",
       "      <td>143</td>\n",
       "      <td>1.3</td>\n",
       "      <td>1099</td>\n",
       "      <td>25</td>\n",
       "      <td>4.4</td>\n",
       "      <td>1501</td>\n",
       "      <td>27</td>\n",
       "      <td>7.6</td>\n",
       "      <td>1453</td>\n",
       "      <td>...</td>\n",
       "      <td>-9</td>\n",
       "      <td>-9.0</td>\n",
       "      <td>-9</td>\n",
       "      <td>-9.0</td>\n",
       "      <td>-9</td>\n",
       "      <td>-99.0</td>\n",
       "      <td>-99.0</td>\n",
       "      <td>-99.0</td>\n",
       "      <td>-99.0</td>\n",
       "      <td>-99.0</td>\n",
       "    </tr>\n",
       "    <tr>\n",
       "      <th>1</th>\n",
       "      <td>20230725</td>\n",
       "      <td>143</td>\n",
       "      <td>1.3</td>\n",
       "      <td>1143</td>\n",
       "      <td>25</td>\n",
       "      <td>5.5</td>\n",
       "      <td>1609</td>\n",
       "      <td>25</td>\n",
       "      <td>11.0</td>\n",
       "      <td>1600</td>\n",
       "      <td>...</td>\n",
       "      <td>-9</td>\n",
       "      <td>-9.0</td>\n",
       "      <td>-9</td>\n",
       "      <td>-9.0</td>\n",
       "      <td>-9</td>\n",
       "      <td>-99.0</td>\n",
       "      <td>-99.0</td>\n",
       "      <td>-99.0</td>\n",
       "      <td>-99.0</td>\n",
       "      <td>-99.0</td>\n",
       "    </tr>\n",
       "    <tr>\n",
       "      <th>2</th>\n",
       "      <td>20230726</td>\n",
       "      <td>143</td>\n",
       "      <td>1.4</td>\n",
       "      <td>1207</td>\n",
       "      <td>29</td>\n",
       "      <td>5.7</td>\n",
       "      <td>1913</td>\n",
       "      <td>32</td>\n",
       "      <td>10.5</td>\n",
       "      <td>1906</td>\n",
       "      <td>...</td>\n",
       "      <td>-9</td>\n",
       "      <td>-9.0</td>\n",
       "      <td>-9</td>\n",
       "      <td>-9.0</td>\n",
       "      <td>-9</td>\n",
       "      <td>-99.0</td>\n",
       "      <td>-99.0</td>\n",
       "      <td>-99.0</td>\n",
       "      <td>-99.0</td>\n",
       "      <td>-99.0</td>\n",
       "    </tr>\n",
       "  </tbody>\n",
       "</table>\n",
       "<p>3 rows × 56 columns</p>\n",
       "</div>"
      ],
      "text/plain": [
       "         TM  STN WS_AVG WR_DAY WD_MAX WS_MAX WS_MAX_TM WD_INS WS_INS  \\\n",
       "0  20230724  143    1.3   1099     25    4.4      1501     27    7.6   \n",
       "1  20230725  143    1.3   1143     25    5.5      1609     25   11.0   \n",
       "2  20230726  143    1.4   1207     29    5.7      1913     32   10.5   \n",
       "\n",
       "  WS_INS_TM  ... RN_POW_MAX_TM SD_NEW SD_NEW_TM SD_MAX SD_MAX_TM  TE_05  \\\n",
       "0      1453  ...            -9   -9.0        -9   -9.0        -9  -99.0   \n",
       "1      1600  ...            -9   -9.0        -9   -9.0        -9  -99.0   \n",
       "2      1906  ...            -9   -9.0        -9   -9.0        -9  -99.0   \n",
       "\n",
       "   TE_10  TE_15  TE_30  TE_50  \n",
       "0  -99.0  -99.0  -99.0  -99.0  \n",
       "1  -99.0  -99.0  -99.0  -99.0  \n",
       "2  -99.0  -99.0  -99.0  -99.0  \n",
       "\n",
       "[3 rows x 56 columns]"
      ]
     },
     "execution_count": 7,
     "metadata": {},
     "output_type": "execute_result"
    }
   ],
   "source": [
    "df_weather"
   ]
  },
  {
   "cell_type": "markdown",
   "id": "b11e1cbf",
   "metadata": {},
   "source": [
    "### 3. 데이터 전처리"
   ]
  },
  {
   "cell_type": "code",
   "execution_count": 8,
   "id": "17374f6e",
   "metadata": {},
   "outputs": [
    {
     "data": {
      "text/html": [
       "<div>\n",
       "<style scoped>\n",
       "    .dataframe tbody tr th:only-of-type {\n",
       "        vertical-align: middle;\n",
       "    }\n",
       "\n",
       "    .dataframe tbody tr th {\n",
       "        vertical-align: top;\n",
       "    }\n",
       "\n",
       "    .dataframe thead th {\n",
       "        text-align: right;\n",
       "    }\n",
       "</style>\n",
       "<table border=\"1\" class=\"dataframe\">\n",
       "  <thead>\n",
       "    <tr style=\"text-align: right;\">\n",
       "      <th></th>\n",
       "      <th>date_id</th>\n",
       "      <th>ta_avg</th>\n",
       "      <th>ta_max</th>\n",
       "      <th>ta_min</th>\n",
       "      <th>ta_diff</th>\n",
       "    </tr>\n",
       "  </thead>\n",
       "  <tbody>\n",
       "    <tr>\n",
       "      <th>0</th>\n",
       "      <td>20230724</td>\n",
       "      <td>26.6</td>\n",
       "      <td>30.5</td>\n",
       "      <td>24.3</td>\n",
       "      <td>6.2</td>\n",
       "    </tr>\n",
       "    <tr>\n",
       "      <th>1</th>\n",
       "      <td>20230725</td>\n",
       "      <td>27.3</td>\n",
       "      <td>32.2</td>\n",
       "      <td>24.6</td>\n",
       "      <td>7.6</td>\n",
       "    </tr>\n",
       "    <tr>\n",
       "      <th>2</th>\n",
       "      <td>20230726</td>\n",
       "      <td>27.2</td>\n",
       "      <td>33.1</td>\n",
       "      <td>23.8</td>\n",
       "      <td>9.3</td>\n",
       "    </tr>\n",
       "  </tbody>\n",
       "</table>\n",
       "</div>"
      ],
      "text/plain": [
       "    date_id  ta_avg  ta_max  ta_min  ta_diff\n",
       "0  20230724    26.6    30.5    24.3      6.2\n",
       "1  20230725    27.3    32.2    24.6      7.6\n",
       "2  20230726    27.2    33.1    23.8      9.3"
      ]
     },
     "execution_count": 8,
     "metadata": {},
     "output_type": "execute_result"
    }
   ],
   "source": [
    "#데이터 전처리 \n",
    "df_weather= df_weather[['TM','TA_AVG','TA_MAX','TA_MIN']] #필요한 부분만 추출>|날짜|평균기온|최고기온|최저기온|\n",
    "df_weather.columns = ['date_id','ta_avg','ta_max','ta_min'] #컬럼명 변경 > SQL과 똑같이 설정\n",
    "\n",
    "#타입 변경\n",
    "df_weather['ta_avg'] = df_weather['ta_avg'].astype(float) #실수형으로 변경\n",
    "df_weather['ta_max'] = df_weather['ta_max'].astype(float) #실수형으로 변경\n",
    "df_weather['ta_min'] = df_weather['ta_min'].astype(float) #실수형으로 변경\n",
    "\n",
    "#기온 편차 컬럼 생성\n",
    "df_weather['ta_diff'] = df_weather['ta_max']-df_weather['ta_min'] \n",
    "df_weather"
   ]
  },
  {
   "cell_type": "markdown",
   "id": "a45cab11",
   "metadata": {},
   "source": [
    "### 4. 테이블에 데이터 저장 (mdw.weather)"
   ]
  },
  {
   "cell_type": "code",
   "execution_count": 9,
   "metadata": {},
   "outputs": [],
   "source": [
    "import datetime as dt\n",
    "dt_now = dt.datetime.now()\n",
    "dt_now_str = dt_now.strftime('%Y-%m-%d %H:%M:%S')\n",
    "\n",
    "user_name = 'lkh'"
   ]
  },
  {
   "cell_type": "code",
   "execution_count": 10,
   "id": "5bca38d6",
   "metadata": {},
   "outputs": [],
   "source": [
    "conn = dbconnect.db_connect(\"DEMO_DW\")\n",
    "cur = conn.cursor()\n",
    "\n",
    "for row in df_weather.itertuples():\n",
    "    sql = \"insert into weather (date_id, ta_avg, ta_max, ta_min, ta_diff, create_datetime, create_id) \\\n",
    "                        values (%s, %s, %s, %s, %s, %s, %s)\"\n",
    "    cur.execute(sql, (row[1], row[2], row[3], row[4], row[5], dt_now_str, user_name))\n",
    "conn.commit()\n",
    "conn.close()"
   ]
  }
 ],
 "metadata": {
  "kernelspec": {
   "display_name": "Python 3 (ipykernel)",
   "language": "python",
   "name": "python3"
  },
  "language_info": {
   "codemirror_mode": {
    "name": "ipython",
    "version": 3
   },
   "file_extension": ".py",
   "mimetype": "text/x-python",
   "name": "python",
   "nbconvert_exporter": "python",
   "pygments_lexer": "ipython3",
   "version": "3.10.8"
  }
 },
 "nbformat": 4,
 "nbformat_minor": 5
}
