{
 "cells": [
  {
   "cell_type": "markdown",
   "metadata": {},
   "source": [
    "## 연도별 기온 분포: 일부 지정한 월 (시각화2)\n",
    "+ 작성: 임경호"
   ]
  },
  {
   "cell_type": "markdown",
   "metadata": {},
   "source": [
    "### 1. DB에 저장된 기온 데이터 가져오기"
   ]
  },
  {
   "cell_type": "code",
   "execution_count": 32,
   "metadata": {},
   "outputs": [],
   "source": [
    "import pandas as pd\n",
    "\n",
    "# user-defined modules\n",
    "import sys\n",
    "module_path = \"D:\\PythonProject\\data-gatherer\\common\"\n",
    "sys.path.append(module_path)\n",
    "import dbconnect\n",
    "import myutil\n",
    "\n",
    "# DB에 저장된 기온 시작일\n",
    "beg_date = '20120101'\n",
    "# 직전일\n",
    "end_date = myutil.get_previous_day()   \n",
    "\n",
    "engine = dbconnect.db_engine(\"DEMO_DW\")\n",
    "query = \"\"\"SELECT date_id, ta_avg, ta_max, ta_min, ta_diff \\\n",
    "             FROM weather \\\n",
    "            WHERE date_id between %(date1)s and %(date2)s \\\n",
    "            ORDER BY date_id;\"\"\"\n",
    "\n",
    "# sql execution with parameters\n",
    "df_weather = pd.read_sql(sql=query, con=engine, params={'date1' : beg_date, 'date2' : end_date})\n",
    "\n",
    "#이상치 제거\n",
    "index0 = df_weather[df_weather['ta_avg'] <= -50].index \n",
    "# print(index0) \n",
    "df_weather = df_weather.drop(index0)"
   ]
  },
  {
   "cell_type": "code",
   "execution_count": 33,
   "metadata": {},
   "outputs": [
    {
     "data": {
      "text/plain": [
       "(4215, 5)"
      ]
     },
     "execution_count": 33,
     "metadata": {},
     "output_type": "execute_result"
    }
   ],
   "source": [
    "df_weather.shape"
   ]
  },
  {
   "cell_type": "code",
   "execution_count": 34,
   "metadata": {},
   "outputs": [
    {
     "data": {
      "text/html": [
       "<div>\n",
       "<style scoped>\n",
       "    .dataframe tbody tr th:only-of-type {\n",
       "        vertical-align: middle;\n",
       "    }\n",
       "\n",
       "    .dataframe tbody tr th {\n",
       "        vertical-align: top;\n",
       "    }\n",
       "\n",
       "    .dataframe thead th {\n",
       "        text-align: right;\n",
       "    }\n",
       "</style>\n",
       "<table border=\"1\" class=\"dataframe\">\n",
       "  <thead>\n",
       "    <tr style=\"text-align: right;\">\n",
       "      <th></th>\n",
       "      <th>date_id</th>\n",
       "      <th>ta_avg</th>\n",
       "      <th>ta_max</th>\n",
       "      <th>ta_min</th>\n",
       "      <th>ta_diff</th>\n",
       "    </tr>\n",
       "  </thead>\n",
       "  <tbody>\n",
       "    <tr>\n",
       "      <th>0</th>\n",
       "      <td>20120101</td>\n",
       "      <td>1.2</td>\n",
       "      <td>5.6</td>\n",
       "      <td>-3.1</td>\n",
       "      <td>8.7</td>\n",
       "    </tr>\n",
       "    <tr>\n",
       "      <th>1</th>\n",
       "      <td>20120102</td>\n",
       "      <td>-1.0</td>\n",
       "      <td>4.5</td>\n",
       "      <td>-4.4</td>\n",
       "      <td>8.9</td>\n",
       "    </tr>\n",
       "    <tr>\n",
       "      <th>2</th>\n",
       "      <td>20120103</td>\n",
       "      <td>-0.1</td>\n",
       "      <td>3.8</td>\n",
       "      <td>-2.6</td>\n",
       "      <td>6.4</td>\n",
       "    </tr>\n",
       "    <tr>\n",
       "      <th>3</th>\n",
       "      <td>20120104</td>\n",
       "      <td>-3.2</td>\n",
       "      <td>-0.4</td>\n",
       "      <td>-4.8</td>\n",
       "      <td>4.4</td>\n",
       "    </tr>\n",
       "    <tr>\n",
       "      <th>4</th>\n",
       "      <td>20120105</td>\n",
       "      <td>-2.1</td>\n",
       "      <td>3.1</td>\n",
       "      <td>-5.6</td>\n",
       "      <td>8.7</td>\n",
       "    </tr>\n",
       "    <tr>\n",
       "      <th>...</th>\n",
       "      <td>...</td>\n",
       "      <td>...</td>\n",
       "      <td>...</td>\n",
       "      <td>...</td>\n",
       "      <td>...</td>\n",
       "    </tr>\n",
       "    <tr>\n",
       "      <th>4212</th>\n",
       "      <td>20230714</td>\n",
       "      <td>25.6</td>\n",
       "      <td>27.8</td>\n",
       "      <td>24.4</td>\n",
       "      <td>3.4</td>\n",
       "    </tr>\n",
       "    <tr>\n",
       "      <th>4213</th>\n",
       "      <td>20230715</td>\n",
       "      <td>27.0</td>\n",
       "      <td>29.9</td>\n",
       "      <td>24.0</td>\n",
       "      <td>5.9</td>\n",
       "    </tr>\n",
       "    <tr>\n",
       "      <th>4214</th>\n",
       "      <td>20230716</td>\n",
       "      <td>24.4</td>\n",
       "      <td>27.8</td>\n",
       "      <td>22.8</td>\n",
       "      <td>5.0</td>\n",
       "    </tr>\n",
       "    <tr>\n",
       "      <th>4215</th>\n",
       "      <td>20230717</td>\n",
       "      <td>26.7</td>\n",
       "      <td>32.4</td>\n",
       "      <td>23.1</td>\n",
       "      <td>9.3</td>\n",
       "    </tr>\n",
       "    <tr>\n",
       "      <th>4216</th>\n",
       "      <td>20230718</td>\n",
       "      <td>23.7</td>\n",
       "      <td>24.8</td>\n",
       "      <td>22.4</td>\n",
       "      <td>2.4</td>\n",
       "    </tr>\n",
       "  </tbody>\n",
       "</table>\n",
       "<p>4215 rows × 5 columns</p>\n",
       "</div>"
      ],
      "text/plain": [
       "       date_id  ta_avg  ta_max  ta_min  ta_diff\n",
       "0     20120101     1.2     5.6    -3.1      8.7\n",
       "1     20120102    -1.0     4.5    -4.4      8.9\n",
       "2     20120103    -0.1     3.8    -2.6      6.4\n",
       "3     20120104    -3.2    -0.4    -4.8      4.4\n",
       "4     20120105    -2.1     3.1    -5.6      8.7\n",
       "...        ...     ...     ...     ...      ...\n",
       "4212  20230714    25.6    27.8    24.4      3.4\n",
       "4213  20230715    27.0    29.9    24.0      5.9\n",
       "4214  20230716    24.4    27.8    22.8      5.0\n",
       "4215  20230717    26.7    32.4    23.1      9.3\n",
       "4216  20230718    23.7    24.8    22.4      2.4\n",
       "\n",
       "[4215 rows x 5 columns]"
      ]
     },
     "execution_count": 34,
     "metadata": {},
     "output_type": "execute_result"
    }
   ],
   "source": [
    "df_weather"
   ]
  },
  {
   "cell_type": "markdown",
   "metadata": {},
   "source": [
    "### 2. 기온 데이터 연월 평균 분포 구성"
   ]
  },
  {
   "cell_type": "code",
   "execution_count": 35,
   "metadata": {},
   "outputs": [],
   "source": [
    "df_weather.insert(1, 'year', df_weather['date_id'].str[0:4])\n",
    "df_weather.insert(2, 'month', df_weather['date_id'].str[4:6])\n",
    "# df_fx_all_save = df_fx_all_save.drop('cur_unit', axis=1)"
   ]
  },
  {
   "cell_type": "code",
   "execution_count": 36,
   "metadata": {},
   "outputs": [
    {
     "data": {
      "text/html": [
       "<div>\n",
       "<style scoped>\n",
       "    .dataframe tbody tr th:only-of-type {\n",
       "        vertical-align: middle;\n",
       "    }\n",
       "\n",
       "    .dataframe tbody tr th {\n",
       "        vertical-align: top;\n",
       "    }\n",
       "\n",
       "    .dataframe thead th {\n",
       "        text-align: right;\n",
       "    }\n",
       "</style>\n",
       "<table border=\"1\" class=\"dataframe\">\n",
       "  <thead>\n",
       "    <tr style=\"text-align: right;\">\n",
       "      <th></th>\n",
       "      <th>date_id</th>\n",
       "      <th>year</th>\n",
       "      <th>month</th>\n",
       "      <th>ta_avg</th>\n",
       "      <th>ta_max</th>\n",
       "      <th>ta_min</th>\n",
       "      <th>ta_diff</th>\n",
       "    </tr>\n",
       "  </thead>\n",
       "  <tbody>\n",
       "    <tr>\n",
       "      <th>0</th>\n",
       "      <td>20120101</td>\n",
       "      <td>2012</td>\n",
       "      <td>01</td>\n",
       "      <td>1.2</td>\n",
       "      <td>5.6</td>\n",
       "      <td>-3.1</td>\n",
       "      <td>8.7</td>\n",
       "    </tr>\n",
       "    <tr>\n",
       "      <th>1</th>\n",
       "      <td>20120102</td>\n",
       "      <td>2012</td>\n",
       "      <td>01</td>\n",
       "      <td>-1.0</td>\n",
       "      <td>4.5</td>\n",
       "      <td>-4.4</td>\n",
       "      <td>8.9</td>\n",
       "    </tr>\n",
       "    <tr>\n",
       "      <th>2</th>\n",
       "      <td>20120103</td>\n",
       "      <td>2012</td>\n",
       "      <td>01</td>\n",
       "      <td>-0.1</td>\n",
       "      <td>3.8</td>\n",
       "      <td>-2.6</td>\n",
       "      <td>6.4</td>\n",
       "    </tr>\n",
       "    <tr>\n",
       "      <th>3</th>\n",
       "      <td>20120104</td>\n",
       "      <td>2012</td>\n",
       "      <td>01</td>\n",
       "      <td>-3.2</td>\n",
       "      <td>-0.4</td>\n",
       "      <td>-4.8</td>\n",
       "      <td>4.4</td>\n",
       "    </tr>\n",
       "    <tr>\n",
       "      <th>4</th>\n",
       "      <td>20120105</td>\n",
       "      <td>2012</td>\n",
       "      <td>01</td>\n",
       "      <td>-2.1</td>\n",
       "      <td>3.1</td>\n",
       "      <td>-5.6</td>\n",
       "      <td>8.7</td>\n",
       "    </tr>\n",
       "    <tr>\n",
       "      <th>...</th>\n",
       "      <td>...</td>\n",
       "      <td>...</td>\n",
       "      <td>...</td>\n",
       "      <td>...</td>\n",
       "      <td>...</td>\n",
       "      <td>...</td>\n",
       "      <td>...</td>\n",
       "    </tr>\n",
       "    <tr>\n",
       "      <th>4212</th>\n",
       "      <td>20230714</td>\n",
       "      <td>2023</td>\n",
       "      <td>07</td>\n",
       "      <td>25.6</td>\n",
       "      <td>27.8</td>\n",
       "      <td>24.4</td>\n",
       "      <td>3.4</td>\n",
       "    </tr>\n",
       "    <tr>\n",
       "      <th>4213</th>\n",
       "      <td>20230715</td>\n",
       "      <td>2023</td>\n",
       "      <td>07</td>\n",
       "      <td>27.0</td>\n",
       "      <td>29.9</td>\n",
       "      <td>24.0</td>\n",
       "      <td>5.9</td>\n",
       "    </tr>\n",
       "    <tr>\n",
       "      <th>4214</th>\n",
       "      <td>20230716</td>\n",
       "      <td>2023</td>\n",
       "      <td>07</td>\n",
       "      <td>24.4</td>\n",
       "      <td>27.8</td>\n",
       "      <td>22.8</td>\n",
       "      <td>5.0</td>\n",
       "    </tr>\n",
       "    <tr>\n",
       "      <th>4215</th>\n",
       "      <td>20230717</td>\n",
       "      <td>2023</td>\n",
       "      <td>07</td>\n",
       "      <td>26.7</td>\n",
       "      <td>32.4</td>\n",
       "      <td>23.1</td>\n",
       "      <td>9.3</td>\n",
       "    </tr>\n",
       "    <tr>\n",
       "      <th>4216</th>\n",
       "      <td>20230718</td>\n",
       "      <td>2023</td>\n",
       "      <td>07</td>\n",
       "      <td>23.7</td>\n",
       "      <td>24.8</td>\n",
       "      <td>22.4</td>\n",
       "      <td>2.4</td>\n",
       "    </tr>\n",
       "  </tbody>\n",
       "</table>\n",
       "<p>4215 rows × 7 columns</p>\n",
       "</div>"
      ],
      "text/plain": [
       "       date_id  year month  ta_avg  ta_max  ta_min  ta_diff\n",
       "0     20120101  2012    01     1.2     5.6    -3.1      8.7\n",
       "1     20120102  2012    01    -1.0     4.5    -4.4      8.9\n",
       "2     20120103  2012    01    -0.1     3.8    -2.6      6.4\n",
       "3     20120104  2012    01    -3.2    -0.4    -4.8      4.4\n",
       "4     20120105  2012    01    -2.1     3.1    -5.6      8.7\n",
       "...        ...   ...   ...     ...     ...     ...      ...\n",
       "4212  20230714  2023    07    25.6    27.8    24.4      3.4\n",
       "4213  20230715  2023    07    27.0    29.9    24.0      5.9\n",
       "4214  20230716  2023    07    24.4    27.8    22.8      5.0\n",
       "4215  20230717  2023    07    26.7    32.4    23.1      9.3\n",
       "4216  20230718  2023    07    23.7    24.8    22.4      2.4\n",
       "\n",
       "[4215 rows x 7 columns]"
      ]
     },
     "execution_count": 36,
     "metadata": {},
     "output_type": "execute_result"
    }
   ],
   "source": [
    "df_weather"
   ]
  },
  {
   "cell_type": "code",
   "execution_count": 37,
   "metadata": {},
   "outputs": [
    {
     "data": {
      "text/html": [
       "<div>\n",
       "<style scoped>\n",
       "    .dataframe tbody tr th:only-of-type {\n",
       "        vertical-align: middle;\n",
       "    }\n",
       "\n",
       "    .dataframe tbody tr th {\n",
       "        vertical-align: top;\n",
       "    }\n",
       "\n",
       "    .dataframe thead th {\n",
       "        text-align: right;\n",
       "    }\n",
       "</style>\n",
       "<table border=\"1\" class=\"dataframe\">\n",
       "  <thead>\n",
       "    <tr style=\"text-align: right;\">\n",
       "      <th></th>\n",
       "      <th></th>\n",
       "      <th>mean_ta_avg</th>\n",
       "      <th>mean_ta_max</th>\n",
       "      <th>mean_ta_min</th>\n",
       "      <th>mean_ta_diff</th>\n",
       "    </tr>\n",
       "    <tr>\n",
       "      <th>year</th>\n",
       "      <th>month</th>\n",
       "      <th></th>\n",
       "      <th></th>\n",
       "      <th></th>\n",
       "      <th></th>\n",
       "    </tr>\n",
       "  </thead>\n",
       "  <tbody>\n",
       "    <tr>\n",
       "      <th rowspan=\"5\" valign=\"top\">2012</th>\n",
       "      <th>01</th>\n",
       "      <td>0.841935</td>\n",
       "      <td>5.112903</td>\n",
       "      <td>-2.819355</td>\n",
       "      <td>7.932258</td>\n",
       "    </tr>\n",
       "    <tr>\n",
       "      <th>02</th>\n",
       "      <td>1.075862</td>\n",
       "      <td>5.937931</td>\n",
       "      <td>-3.175862</td>\n",
       "      <td>9.113793</td>\n",
       "    </tr>\n",
       "    <tr>\n",
       "      <th>03</th>\n",
       "      <td>7.674194</td>\n",
       "      <td>12.712903</td>\n",
       "      <td>3.493548</td>\n",
       "      <td>9.219355</td>\n",
       "    </tr>\n",
       "    <tr>\n",
       "      <th>04</th>\n",
       "      <td>15.080000</td>\n",
       "      <td>21.316667</td>\n",
       "      <td>9.533333</td>\n",
       "      <td>11.783333</td>\n",
       "    </tr>\n",
       "    <tr>\n",
       "      <th>05</th>\n",
       "      <td>20.116129</td>\n",
       "      <td>26.154839</td>\n",
       "      <td>15.070968</td>\n",
       "      <td>11.083871</td>\n",
       "    </tr>\n",
       "    <tr>\n",
       "      <th>...</th>\n",
       "      <th>...</th>\n",
       "      <td>...</td>\n",
       "      <td>...</td>\n",
       "      <td>...</td>\n",
       "      <td>...</td>\n",
       "    </tr>\n",
       "    <tr>\n",
       "      <th rowspan=\"5\" valign=\"top\">2023</th>\n",
       "      <th>03</th>\n",
       "      <td>11.751613</td>\n",
       "      <td>18.783871</td>\n",
       "      <td>5.374194</td>\n",
       "      <td>13.409677</td>\n",
       "    </tr>\n",
       "    <tr>\n",
       "      <th>04</th>\n",
       "      <td>14.843333</td>\n",
       "      <td>20.906667</td>\n",
       "      <td>8.773333</td>\n",
       "      <td>12.133333</td>\n",
       "    </tr>\n",
       "    <tr>\n",
       "      <th>05</th>\n",
       "      <td>19.280645</td>\n",
       "      <td>25.061290</td>\n",
       "      <td>13.751613</td>\n",
       "      <td>11.309677</td>\n",
       "    </tr>\n",
       "    <tr>\n",
       "      <th>06</th>\n",
       "      <td>24.033333</td>\n",
       "      <td>29.586667</td>\n",
       "      <td>19.283333</td>\n",
       "      <td>10.303333</td>\n",
       "    </tr>\n",
       "    <tr>\n",
       "      <th>07</th>\n",
       "      <td>25.933333</td>\n",
       "      <td>30.205556</td>\n",
       "      <td>22.633333</td>\n",
       "      <td>7.572222</td>\n",
       "    </tr>\n",
       "  </tbody>\n",
       "</table>\n",
       "<p>139 rows × 4 columns</p>\n",
       "</div>"
      ],
      "text/plain": [
       "            mean_ta_avg  mean_ta_max  mean_ta_min  mean_ta_diff\n",
       "year month                                                     \n",
       "2012 01        0.841935     5.112903    -2.819355      7.932258\n",
       "     02        1.075862     5.937931    -3.175862      9.113793\n",
       "     03        7.674194    12.712903     3.493548      9.219355\n",
       "     04       15.080000    21.316667     9.533333     11.783333\n",
       "     05       20.116129    26.154839    15.070968     11.083871\n",
       "...                 ...          ...          ...           ...\n",
       "2023 03       11.751613    18.783871     5.374194     13.409677\n",
       "     04       14.843333    20.906667     8.773333     12.133333\n",
       "     05       19.280645    25.061290    13.751613     11.309677\n",
       "     06       24.033333    29.586667    19.283333     10.303333\n",
       "     07       25.933333    30.205556    22.633333      7.572222\n",
       "\n",
       "[139 rows x 4 columns]"
      ]
     },
     "execution_count": 37,
     "metadata": {},
     "output_type": "execute_result"
    }
   ],
   "source": [
    "# 연월(year-month) 기온 평균\n",
    "df_weather_ym = df_weather.groupby(['year', 'month']).agg(mean_ta_avg = ('ta_avg', 'mean'),\n",
    "                                                          mean_ta_max = ('ta_max', 'mean'),\n",
    "                                                          mean_ta_min = ('ta_min', 'mean'),\n",
    "                                                          mean_ta_diff = ('ta_diff', 'mean'))\n",
    "df_weather_ym"
   ]
  },
  {
   "cell_type": "code",
   "execution_count": 38,
   "metadata": {},
   "outputs": [
    {
     "data": {
      "text/html": [
       "<div>\n",
       "<style scoped>\n",
       "    .dataframe tbody tr th:only-of-type {\n",
       "        vertical-align: middle;\n",
       "    }\n",
       "\n",
       "    .dataframe tbody tr th {\n",
       "        vertical-align: top;\n",
       "    }\n",
       "\n",
       "    .dataframe thead th {\n",
       "        text-align: right;\n",
       "    }\n",
       "</style>\n",
       "<table border=\"1\" class=\"dataframe\">\n",
       "  <thead>\n",
       "    <tr style=\"text-align: right;\">\n",
       "      <th></th>\n",
       "      <th>year</th>\n",
       "      <th>month</th>\n",
       "      <th>mean_ta_avg</th>\n",
       "      <th>mean_ta_max</th>\n",
       "      <th>mean_ta_min</th>\n",
       "      <th>mean_ta_diff</th>\n",
       "    </tr>\n",
       "  </thead>\n",
       "  <tbody>\n",
       "    <tr>\n",
       "      <th>0</th>\n",
       "      <td>2012</td>\n",
       "      <td>01</td>\n",
       "      <td>0.841935</td>\n",
       "      <td>5.112903</td>\n",
       "      <td>-2.819355</td>\n",
       "      <td>7.932258</td>\n",
       "    </tr>\n",
       "    <tr>\n",
       "      <th>1</th>\n",
       "      <td>2012</td>\n",
       "      <td>02</td>\n",
       "      <td>1.075862</td>\n",
       "      <td>5.937931</td>\n",
       "      <td>-3.175862</td>\n",
       "      <td>9.113793</td>\n",
       "    </tr>\n",
       "    <tr>\n",
       "      <th>2</th>\n",
       "      <td>2012</td>\n",
       "      <td>03</td>\n",
       "      <td>7.674194</td>\n",
       "      <td>12.712903</td>\n",
       "      <td>3.493548</td>\n",
       "      <td>9.219355</td>\n",
       "    </tr>\n",
       "    <tr>\n",
       "      <th>3</th>\n",
       "      <td>2012</td>\n",
       "      <td>04</td>\n",
       "      <td>15.080000</td>\n",
       "      <td>21.316667</td>\n",
       "      <td>9.533333</td>\n",
       "      <td>11.783333</td>\n",
       "    </tr>\n",
       "    <tr>\n",
       "      <th>4</th>\n",
       "      <td>2012</td>\n",
       "      <td>05</td>\n",
       "      <td>20.116129</td>\n",
       "      <td>26.154839</td>\n",
       "      <td>15.070968</td>\n",
       "      <td>11.083871</td>\n",
       "    </tr>\n",
       "    <tr>\n",
       "      <th>...</th>\n",
       "      <td>...</td>\n",
       "      <td>...</td>\n",
       "      <td>...</td>\n",
       "      <td>...</td>\n",
       "      <td>...</td>\n",
       "      <td>...</td>\n",
       "    </tr>\n",
       "    <tr>\n",
       "      <th>134</th>\n",
       "      <td>2023</td>\n",
       "      <td>03</td>\n",
       "      <td>11.751613</td>\n",
       "      <td>18.783871</td>\n",
       "      <td>5.374194</td>\n",
       "      <td>13.409677</td>\n",
       "    </tr>\n",
       "    <tr>\n",
       "      <th>135</th>\n",
       "      <td>2023</td>\n",
       "      <td>04</td>\n",
       "      <td>14.843333</td>\n",
       "      <td>20.906667</td>\n",
       "      <td>8.773333</td>\n",
       "      <td>12.133333</td>\n",
       "    </tr>\n",
       "    <tr>\n",
       "      <th>136</th>\n",
       "      <td>2023</td>\n",
       "      <td>05</td>\n",
       "      <td>19.280645</td>\n",
       "      <td>25.061290</td>\n",
       "      <td>13.751613</td>\n",
       "      <td>11.309677</td>\n",
       "    </tr>\n",
       "    <tr>\n",
       "      <th>137</th>\n",
       "      <td>2023</td>\n",
       "      <td>06</td>\n",
       "      <td>24.033333</td>\n",
       "      <td>29.586667</td>\n",
       "      <td>19.283333</td>\n",
       "      <td>10.303333</td>\n",
       "    </tr>\n",
       "    <tr>\n",
       "      <th>138</th>\n",
       "      <td>2023</td>\n",
       "      <td>07</td>\n",
       "      <td>25.933333</td>\n",
       "      <td>30.205556</td>\n",
       "      <td>22.633333</td>\n",
       "      <td>7.572222</td>\n",
       "    </tr>\n",
       "  </tbody>\n",
       "</table>\n",
       "<p>139 rows × 6 columns</p>\n",
       "</div>"
      ],
      "text/plain": [
       "     year month  mean_ta_avg  mean_ta_max  mean_ta_min  mean_ta_diff\n",
       "0    2012    01     0.841935     5.112903    -2.819355      7.932258\n",
       "1    2012    02     1.075862     5.937931    -3.175862      9.113793\n",
       "2    2012    03     7.674194    12.712903     3.493548      9.219355\n",
       "3    2012    04    15.080000    21.316667     9.533333     11.783333\n",
       "4    2012    05    20.116129    26.154839    15.070968     11.083871\n",
       "..    ...   ...          ...          ...          ...           ...\n",
       "134  2023    03    11.751613    18.783871     5.374194     13.409677\n",
       "135  2023    04    14.843333    20.906667     8.773333     12.133333\n",
       "136  2023    05    19.280645    25.061290    13.751613     11.309677\n",
       "137  2023    06    24.033333    29.586667    19.283333     10.303333\n",
       "138  2023    07    25.933333    30.205556    22.633333      7.572222\n",
       "\n",
       "[139 rows x 6 columns]"
      ]
     },
     "execution_count": 38,
     "metadata": {},
     "output_type": "execute_result"
    }
   ],
   "source": [
    "df_weather_ym.reset_index(inplace=True)\n",
    "df_weather_ym"
   ]
  },
  {
   "cell_type": "markdown",
   "metadata": {},
   "source": [
    "### 3. 기온 데이터 분포 Graph"
   ]
  },
  {
   "cell_type": "code",
   "execution_count": 41,
   "metadata": {},
   "outputs": [
    {
     "data": {
      "application/vnd.plotly.v1+json": {
       "config": {
        "plotlyServerURL": "https://plot.ly"
       },
       "data": [
        {
         "customdata": [
          [
           "05",
           26.154838709677417,
           15.070967741935483,
           11.083870967741936
          ],
          [
           "05",
           26.75483870967742,
           14.612903225806452,
           12.141935483870967
          ],
          [
           "05",
           27.92258064516129,
           15.067741935483872,
           12.85483870967742
          ],
          [
           "05",
           27.980645161290322,
           15.412903225806453,
           12.567741935483872
          ],
          [
           "05",
           26.68064516129032,
           13.587096774193547,
           13.093548387096773
          ],
          [
           "05",
           27.480645161290322,
           14.47741935483871,
           13.003225806451612
          ],
          [
           "05",
           24.812903225806455,
           14.187096774193549,
           10.625806451612902
          ],
          [
           "05",
           27.532258064516128,
           13.55483870967742,
           13.97741935483871
          ],
          [
           "05",
           25.725806451612904,
           14.025806451612903,
           11.7
          ],
          [
           "05",
           24.293548387096774,
           12.8,
           11.493548387096775
          ],
          [
           "05",
           27.429032258064513,
           14.09032258064516,
           13.338709677419354
          ],
          [
           "05",
           25.061290322580643,
           13.751612903225807,
           11.30967741935484
          ]
         ],
         "hovertemplate": "month=%{customdata[0]}<br>year=%{x}<br>mean_ta_avg=%{y}<br>mean_ta_max=%{customdata[1]}<br>mean_ta_min=%{customdata[2]}<br>mean_ta_diff=%{customdata[3]}<extra></extra>",
         "legendgroup": "05",
         "line": {
          "color": "#636efa",
          "dash": "solid"
         },
         "marker": {
          "symbol": "circle"
         },
         "mode": "lines",
         "name": "05",
         "orientation": "v",
         "showlegend": true,
         "type": "scatter",
         "x": [
          "2012",
          "2013",
          "2014",
          "2015",
          "2016",
          "2017",
          "2018",
          "2019",
          "2020",
          "2021",
          "2022",
          "2023"
         ],
         "xaxis": "x",
         "y": [
          20.116129032258065,
          20.287096774193547,
          21.238709677419354,
          21.693548387096776,
          20.048387096774192,
          20.84193548387097,
          19.241935483870968,
          20.690322580645162,
          19.432258064516127,
          18.293548387096774,
          20.693548387096776,
          19.280645161290323
         ],
         "yaxis": "y"
        },
        {
         "customdata": [
          [
           "06",
           28.32,
           19.209999999999997,
           9.110000000000001
          ],
          [
           "06",
           29.490000000000002,
           20.196666666666665,
           9.293333333333333
          ],
          [
           "06",
           28.36,
           19.383333333333333,
           8.976666666666667
          ],
          [
           "06",
           28.490000000000002,
           18.316666666666666,
           10.173333333333334
          ],
          [
           "06",
           28.25,
           19.103333333333335,
           9.146666666666667
          ],
          [
           "06",
           30.009999999999998,
           17.916666666666668,
           12.093333333333334
          ],
          [
           "06",
           28.726666666666667,
           18.69,
           10.036666666666667
          ],
          [
           "06",
           28.540000000000003,
           17.763333333333332,
           10.776666666666667
          ],
          [
           "06",
           30.493333333333332,
           19.276666666666664,
           11.216666666666667
          ],
          [
           "06",
           28.543333333333333,
           18.91,
           9.633333333333333
          ],
          [
           "06",
           29.706666666666667,
           19.790000000000003,
           9.916666666666666
          ],
          [
           "06",
           29.586666666666666,
           19.283333333333335,
           10.303333333333335
          ]
         ],
         "hovertemplate": "month=%{customdata[0]}<br>year=%{x}<br>mean_ta_avg=%{y}<br>mean_ta_max=%{customdata[1]}<br>mean_ta_min=%{customdata[2]}<br>mean_ta_diff=%{customdata[3]}<extra></extra>",
         "legendgroup": "06",
         "line": {
          "color": "#EF553B",
          "dash": "solid"
         },
         "marker": {
          "symbol": "circle"
         },
         "mode": "lines",
         "name": "06",
         "orientation": "v",
         "showlegend": true,
         "type": "scatter",
         "x": [
          "2012",
          "2013",
          "2014",
          "2015",
          "2016",
          "2017",
          "2018",
          "2019",
          "2020",
          "2021",
          "2022",
          "2023"
         ],
         "xaxis": "x",
         "y": [
          23.173333333333336,
          24.303333333333335,
          23.36,
          22.883333333333333,
          23.39333333333333,
          23.316666666666666,
          23.55666666666667,
          22.753333333333334,
          24.496666666666666,
          23.19333333333333,
          24.303333333333335,
          24.033333333333335
         ],
         "yaxis": "y"
        },
        {
         "customdata": [
          [
           "07",
           32.07096774193548,
           23.716129032258067,
           8.35483870967742
          ],
          [
           "07",
           33.28387096774193,
           25.067741935483873,
           8.216129032258063
          ],
          [
           "07",
           31.932258064516127,
           23.135483870967743,
           8.796774193548387
          ],
          [
           "07",
           29.47741935483871,
           21.299999999999997,
           8.17741935483871
          ],
          [
           "07",
           31.45483870967742,
           22.61935483870968,
           8.83548387096774
          ],
          [
           "07",
           33.06666666666667,
           24.063333333333333,
           9.003333333333334
          ],
          [
           "07",
           33.12903225806452,
           24.016129032258064,
           9.112903225806452
          ],
          [
           "07",
           30.0258064516129,
           22.32903225806452,
           7.696774193548387
          ],
          [
           "07",
           26.84193548387097,
           20.177419354838708,
           6.664516129032258
          ],
          [
           "07",
           32.08064516129032,
           22.86774193548387,
           9.212903225806452
          ],
          [
           "07",
           32.42258064516129,
           23.69677419354839,
           8.725806451612904
          ],
          [
           "07",
           30.205555555555552,
           22.633333333333333,
           7.572222222222223
          ]
         ],
         "hovertemplate": "month=%{customdata[0]}<br>year=%{x}<br>mean_ta_avg=%{y}<br>mean_ta_max=%{customdata[1]}<br>mean_ta_min=%{customdata[2]}<br>mean_ta_diff=%{customdata[3]}<extra></extra>",
         "legendgroup": "07",
         "line": {
          "color": "#00cc96",
          "dash": "solid"
         },
         "marker": {
          "symbol": "circle"
         },
         "mode": "lines",
         "name": "07",
         "orientation": "v",
         "showlegend": true,
         "type": "scatter",
         "x": [
          "2012",
          "2013",
          "2014",
          "2015",
          "2016",
          "2017",
          "2018",
          "2019",
          "2020",
          "2021",
          "2022",
          "2023"
         ],
         "xaxis": "x",
         "y": [
          27.506451612903227,
          28.748387096774195,
          26.96451612903226,
          25.0258064516129,
          26.39032258064516,
          27.993333333333332,
          28.174193548387095,
          25.816129032258065,
          23.151612903225807,
          26.94193548387097,
          27.490322580645163,
          25.933333333333334
         ],
         "yaxis": "y"
        }
       ],
       "layout": {
        "legend": {
         "title": {
          "text": "month"
         },
         "tracegroupgap": 0
        },
        "template": {
         "data": {
          "bar": [
           {
            "error_x": {
             "color": "#2a3f5f"
            },
            "error_y": {
             "color": "#2a3f5f"
            },
            "marker": {
             "line": {
              "color": "#E5ECF6",
              "width": 0.5
             },
             "pattern": {
              "fillmode": "overlay",
              "size": 10,
              "solidity": 0.2
             }
            },
            "type": "bar"
           }
          ],
          "barpolar": [
           {
            "marker": {
             "line": {
              "color": "#E5ECF6",
              "width": 0.5
             },
             "pattern": {
              "fillmode": "overlay",
              "size": 10,
              "solidity": 0.2
             }
            },
            "type": "barpolar"
           }
          ],
          "carpet": [
           {
            "aaxis": {
             "endlinecolor": "#2a3f5f",
             "gridcolor": "white",
             "linecolor": "white",
             "minorgridcolor": "white",
             "startlinecolor": "#2a3f5f"
            },
            "baxis": {
             "endlinecolor": "#2a3f5f",
             "gridcolor": "white",
             "linecolor": "white",
             "minorgridcolor": "white",
             "startlinecolor": "#2a3f5f"
            },
            "type": "carpet"
           }
          ],
          "choropleth": [
           {
            "colorbar": {
             "outlinewidth": 0,
             "ticks": ""
            },
            "type": "choropleth"
           }
          ],
          "contour": [
           {
            "colorbar": {
             "outlinewidth": 0,
             "ticks": ""
            },
            "colorscale": [
             [
              0,
              "#0d0887"
             ],
             [
              0.1111111111111111,
              "#46039f"
             ],
             [
              0.2222222222222222,
              "#7201a8"
             ],
             [
              0.3333333333333333,
              "#9c179e"
             ],
             [
              0.4444444444444444,
              "#bd3786"
             ],
             [
              0.5555555555555556,
              "#d8576b"
             ],
             [
              0.6666666666666666,
              "#ed7953"
             ],
             [
              0.7777777777777778,
              "#fb9f3a"
             ],
             [
              0.8888888888888888,
              "#fdca26"
             ],
             [
              1,
              "#f0f921"
             ]
            ],
            "type": "contour"
           }
          ],
          "contourcarpet": [
           {
            "colorbar": {
             "outlinewidth": 0,
             "ticks": ""
            },
            "type": "contourcarpet"
           }
          ],
          "heatmap": [
           {
            "colorbar": {
             "outlinewidth": 0,
             "ticks": ""
            },
            "colorscale": [
             [
              0,
              "#0d0887"
             ],
             [
              0.1111111111111111,
              "#46039f"
             ],
             [
              0.2222222222222222,
              "#7201a8"
             ],
             [
              0.3333333333333333,
              "#9c179e"
             ],
             [
              0.4444444444444444,
              "#bd3786"
             ],
             [
              0.5555555555555556,
              "#d8576b"
             ],
             [
              0.6666666666666666,
              "#ed7953"
             ],
             [
              0.7777777777777778,
              "#fb9f3a"
             ],
             [
              0.8888888888888888,
              "#fdca26"
             ],
             [
              1,
              "#f0f921"
             ]
            ],
            "type": "heatmap"
           }
          ],
          "heatmapgl": [
           {
            "colorbar": {
             "outlinewidth": 0,
             "ticks": ""
            },
            "colorscale": [
             [
              0,
              "#0d0887"
             ],
             [
              0.1111111111111111,
              "#46039f"
             ],
             [
              0.2222222222222222,
              "#7201a8"
             ],
             [
              0.3333333333333333,
              "#9c179e"
             ],
             [
              0.4444444444444444,
              "#bd3786"
             ],
             [
              0.5555555555555556,
              "#d8576b"
             ],
             [
              0.6666666666666666,
              "#ed7953"
             ],
             [
              0.7777777777777778,
              "#fb9f3a"
             ],
             [
              0.8888888888888888,
              "#fdca26"
             ],
             [
              1,
              "#f0f921"
             ]
            ],
            "type": "heatmapgl"
           }
          ],
          "histogram": [
           {
            "marker": {
             "pattern": {
              "fillmode": "overlay",
              "size": 10,
              "solidity": 0.2
             }
            },
            "type": "histogram"
           }
          ],
          "histogram2d": [
           {
            "colorbar": {
             "outlinewidth": 0,
             "ticks": ""
            },
            "colorscale": [
             [
              0,
              "#0d0887"
             ],
             [
              0.1111111111111111,
              "#46039f"
             ],
             [
              0.2222222222222222,
              "#7201a8"
             ],
             [
              0.3333333333333333,
              "#9c179e"
             ],
             [
              0.4444444444444444,
              "#bd3786"
             ],
             [
              0.5555555555555556,
              "#d8576b"
             ],
             [
              0.6666666666666666,
              "#ed7953"
             ],
             [
              0.7777777777777778,
              "#fb9f3a"
             ],
             [
              0.8888888888888888,
              "#fdca26"
             ],
             [
              1,
              "#f0f921"
             ]
            ],
            "type": "histogram2d"
           }
          ],
          "histogram2dcontour": [
           {
            "colorbar": {
             "outlinewidth": 0,
             "ticks": ""
            },
            "colorscale": [
             [
              0,
              "#0d0887"
             ],
             [
              0.1111111111111111,
              "#46039f"
             ],
             [
              0.2222222222222222,
              "#7201a8"
             ],
             [
              0.3333333333333333,
              "#9c179e"
             ],
             [
              0.4444444444444444,
              "#bd3786"
             ],
             [
              0.5555555555555556,
              "#d8576b"
             ],
             [
              0.6666666666666666,
              "#ed7953"
             ],
             [
              0.7777777777777778,
              "#fb9f3a"
             ],
             [
              0.8888888888888888,
              "#fdca26"
             ],
             [
              1,
              "#f0f921"
             ]
            ],
            "type": "histogram2dcontour"
           }
          ],
          "mesh3d": [
           {
            "colorbar": {
             "outlinewidth": 0,
             "ticks": ""
            },
            "type": "mesh3d"
           }
          ],
          "parcoords": [
           {
            "line": {
             "colorbar": {
              "outlinewidth": 0,
              "ticks": ""
             }
            },
            "type": "parcoords"
           }
          ],
          "pie": [
           {
            "automargin": true,
            "type": "pie"
           }
          ],
          "scatter": [
           {
            "fillpattern": {
             "fillmode": "overlay",
             "size": 10,
             "solidity": 0.2
            },
            "type": "scatter"
           }
          ],
          "scatter3d": [
           {
            "line": {
             "colorbar": {
              "outlinewidth": 0,
              "ticks": ""
             }
            },
            "marker": {
             "colorbar": {
              "outlinewidth": 0,
              "ticks": ""
             }
            },
            "type": "scatter3d"
           }
          ],
          "scattercarpet": [
           {
            "marker": {
             "colorbar": {
              "outlinewidth": 0,
              "ticks": ""
             }
            },
            "type": "scattercarpet"
           }
          ],
          "scattergeo": [
           {
            "marker": {
             "colorbar": {
              "outlinewidth": 0,
              "ticks": ""
             }
            },
            "type": "scattergeo"
           }
          ],
          "scattergl": [
           {
            "marker": {
             "colorbar": {
              "outlinewidth": 0,
              "ticks": ""
             }
            },
            "type": "scattergl"
           }
          ],
          "scattermapbox": [
           {
            "marker": {
             "colorbar": {
              "outlinewidth": 0,
              "ticks": ""
             }
            },
            "type": "scattermapbox"
           }
          ],
          "scatterpolar": [
           {
            "marker": {
             "colorbar": {
              "outlinewidth": 0,
              "ticks": ""
             }
            },
            "type": "scatterpolar"
           }
          ],
          "scatterpolargl": [
           {
            "marker": {
             "colorbar": {
              "outlinewidth": 0,
              "ticks": ""
             }
            },
            "type": "scatterpolargl"
           }
          ],
          "scatterternary": [
           {
            "marker": {
             "colorbar": {
              "outlinewidth": 0,
              "ticks": ""
             }
            },
            "type": "scatterternary"
           }
          ],
          "surface": [
           {
            "colorbar": {
             "outlinewidth": 0,
             "ticks": ""
            },
            "colorscale": [
             [
              0,
              "#0d0887"
             ],
             [
              0.1111111111111111,
              "#46039f"
             ],
             [
              0.2222222222222222,
              "#7201a8"
             ],
             [
              0.3333333333333333,
              "#9c179e"
             ],
             [
              0.4444444444444444,
              "#bd3786"
             ],
             [
              0.5555555555555556,
              "#d8576b"
             ],
             [
              0.6666666666666666,
              "#ed7953"
             ],
             [
              0.7777777777777778,
              "#fb9f3a"
             ],
             [
              0.8888888888888888,
              "#fdca26"
             ],
             [
              1,
              "#f0f921"
             ]
            ],
            "type": "surface"
           }
          ],
          "table": [
           {
            "cells": {
             "fill": {
              "color": "#EBF0F8"
             },
             "line": {
              "color": "white"
             }
            },
            "header": {
             "fill": {
              "color": "#C8D4E3"
             },
             "line": {
              "color": "white"
             }
            },
            "type": "table"
           }
          ]
         },
         "layout": {
          "annotationdefaults": {
           "arrowcolor": "#2a3f5f",
           "arrowhead": 0,
           "arrowwidth": 1
          },
          "autotypenumbers": "strict",
          "coloraxis": {
           "colorbar": {
            "outlinewidth": 0,
            "ticks": ""
           }
          },
          "colorscale": {
           "diverging": [
            [
             0,
             "#8e0152"
            ],
            [
             0.1,
             "#c51b7d"
            ],
            [
             0.2,
             "#de77ae"
            ],
            [
             0.3,
             "#f1b6da"
            ],
            [
             0.4,
             "#fde0ef"
            ],
            [
             0.5,
             "#f7f7f7"
            ],
            [
             0.6,
             "#e6f5d0"
            ],
            [
             0.7,
             "#b8e186"
            ],
            [
             0.8,
             "#7fbc41"
            ],
            [
             0.9,
             "#4d9221"
            ],
            [
             1,
             "#276419"
            ]
           ],
           "sequential": [
            [
             0,
             "#0d0887"
            ],
            [
             0.1111111111111111,
             "#46039f"
            ],
            [
             0.2222222222222222,
             "#7201a8"
            ],
            [
             0.3333333333333333,
             "#9c179e"
            ],
            [
             0.4444444444444444,
             "#bd3786"
            ],
            [
             0.5555555555555556,
             "#d8576b"
            ],
            [
             0.6666666666666666,
             "#ed7953"
            ],
            [
             0.7777777777777778,
             "#fb9f3a"
            ],
            [
             0.8888888888888888,
             "#fdca26"
            ],
            [
             1,
             "#f0f921"
            ]
           ],
           "sequentialminus": [
            [
             0,
             "#0d0887"
            ],
            [
             0.1111111111111111,
             "#46039f"
            ],
            [
             0.2222222222222222,
             "#7201a8"
            ],
            [
             0.3333333333333333,
             "#9c179e"
            ],
            [
             0.4444444444444444,
             "#bd3786"
            ],
            [
             0.5555555555555556,
             "#d8576b"
            ],
            [
             0.6666666666666666,
             "#ed7953"
            ],
            [
             0.7777777777777778,
             "#fb9f3a"
            ],
            [
             0.8888888888888888,
             "#fdca26"
            ],
            [
             1,
             "#f0f921"
            ]
           ]
          },
          "colorway": [
           "#636efa",
           "#EF553B",
           "#00cc96",
           "#ab63fa",
           "#FFA15A",
           "#19d3f3",
           "#FF6692",
           "#B6E880",
           "#FF97FF",
           "#FECB52"
          ],
          "font": {
           "color": "#2a3f5f"
          },
          "geo": {
           "bgcolor": "white",
           "lakecolor": "white",
           "landcolor": "#E5ECF6",
           "showlakes": true,
           "showland": true,
           "subunitcolor": "white"
          },
          "hoverlabel": {
           "align": "left"
          },
          "hovermode": "closest",
          "mapbox": {
           "style": "light"
          },
          "paper_bgcolor": "white",
          "plot_bgcolor": "#E5ECF6",
          "polar": {
           "angularaxis": {
            "gridcolor": "white",
            "linecolor": "white",
            "ticks": ""
           },
           "bgcolor": "#E5ECF6",
           "radialaxis": {
            "gridcolor": "white",
            "linecolor": "white",
            "ticks": ""
           }
          },
          "scene": {
           "xaxis": {
            "backgroundcolor": "#E5ECF6",
            "gridcolor": "white",
            "gridwidth": 2,
            "linecolor": "white",
            "showbackground": true,
            "ticks": "",
            "zerolinecolor": "white"
           },
           "yaxis": {
            "backgroundcolor": "#E5ECF6",
            "gridcolor": "white",
            "gridwidth": 2,
            "linecolor": "white",
            "showbackground": true,
            "ticks": "",
            "zerolinecolor": "white"
           },
           "zaxis": {
            "backgroundcolor": "#E5ECF6",
            "gridcolor": "white",
            "gridwidth": 2,
            "linecolor": "white",
            "showbackground": true,
            "ticks": "",
            "zerolinecolor": "white"
           }
          },
          "shapedefaults": {
           "line": {
            "color": "#2a3f5f"
           }
          },
          "ternary": {
           "aaxis": {
            "gridcolor": "white",
            "linecolor": "white",
            "ticks": ""
           },
           "baxis": {
            "gridcolor": "white",
            "linecolor": "white",
            "ticks": ""
           },
           "bgcolor": "#E5ECF6",
           "caxis": {
            "gridcolor": "white",
            "linecolor": "white",
            "ticks": ""
           }
          },
          "title": {
           "x": 0.05
          },
          "xaxis": {
           "automargin": true,
           "gridcolor": "white",
           "linecolor": "white",
           "ticks": "",
           "title": {
            "standoff": 15
           },
           "zerolinecolor": "white",
           "zerolinewidth": 2
          },
          "yaxis": {
           "automargin": true,
           "gridcolor": "white",
           "linecolor": "white",
           "ticks": "",
           "title": {
            "standoff": 15
           },
           "zerolinecolor": "white",
           "zerolinewidth": 2
          }
         }
        },
        "title": {
         "text": "Yearly Weather <Month: ['05', '06', '07']> (from 2012 to 2023)"
        },
        "xaxis": {
         "anchor": "y",
         "domain": [
          0,
          1
         ],
         "title": {
          "text": "year"
         }
        },
        "yaxis": {
         "anchor": "x",
         "domain": [
          0,
          1
         ],
         "title": {
          "text": "mean_ta_avg"
         }
        }
       }
      }
     },
     "metadata": {},
     "output_type": "display_data"
    },
    {
     "data": {
      "text/plain": [
       "True"
      ]
     },
     "execution_count": 41,
     "metadata": {},
     "output_type": "execute_result"
    }
   ],
   "source": [
    "\"\"\" \n",
    "plotly 패키지\n",
    "# pip install plotly\n",
    "# 만일 plotly 패키지의 코드가 잘 동작하지 않을 경우에는 command line에서 다음 코드 실행\n",
    "# > pip install --upgrade nbformat\n",
    "\"\"\"\n",
    "import plotly.express as px\n",
    "import webbrowser\n",
    "\n",
    "month = ['05', '06', '07']\n",
    "beg_year = beg_date[0:4]\n",
    "end_year = end_date[0:4]\n",
    "df_weather_m = df_weather_ym.query('month in @month')\n",
    "graph_title = f'Yearly Weather <Month: {month}> (from {beg_year} to {end_year})'\n",
    "# points: all or outliers\n",
    "fig = px.line(df_weather_m, title=graph_title, x='year', y='mean_ta_avg', hover_data=df_weather_m.columns, color='month')\n",
    "fig.show()\n",
    "file_path = f\"D:\\PythonProject\\data-gatherer\\kma\\output\\연도별 기온분포(line).html\"\n",
    "fig.write_html(file_path)\n",
    "webbrowser.open_new_tab(file_path)"
   ]
  }
 ],
 "metadata": {
  "kernelspec": {
   "display_name": "data-gatherer-venv",
   "language": "python",
   "name": "python3"
  },
  "language_info": {
   "codemirror_mode": {
    "name": "ipython",
    "version": 3
   },
   "file_extension": ".py",
   "mimetype": "text/x-python",
   "name": "python",
   "nbconvert_exporter": "python",
   "pygments_lexer": "ipython3",
   "version": "3.10.8"
  },
  "orig_nbformat": 4
 },
 "nbformat": 4,
 "nbformat_minor": 2
}
