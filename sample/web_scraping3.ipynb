{
 "cells": [
  {
   "cell_type": "markdown",
   "metadata": {},
   "source": [
    "* 사업보고서의 \"재무제표 주석\" 문서의 소제목 리스트 뽑기"
   ]
  },
  {
   "cell_type": "code",
   "execution_count": 62,
   "metadata": {},
   "outputs": [],
   "source": [
    "from bs4 import BeautifulSoup\n",
    "import re\n",
    "\n",
    "file_path = \"D:/PythonProject/data-gatherer/sample/data/삼성전자_재무제표주석.html\"\n",
    "with open(file_path,'rt', encoding='utf-8') as file:\n",
    "    page = file.read() \n",
    "    soup = BeautifulSoup(page)\n",
    "\n",
    "html_doc = soup.text\n",
    "tags = soup.find_all('p')\n",
    "subtitle_list = []\n",
    "for t in tags:\n",
    "    subjects = re.findall('\\d+[.]+\\s+[^0-9]+', t.text)  # 숫자+'.'+공백+숫자가아닌모든문자열 \n",
    "    # subjects = re.findall('\\d+[.]+\\s+[가-힣]+', t.text)  # 숫자+'.'+공백+문자열(한글)  \n",
    "    # subjects = re.findall('\\d+[.]+\\s+\\w+', t.text)  # 숫자+'.'+공백+문자열(한글)      \n",
    "    if len(subjects) > 0:\n",
    "        for s in subjects:\n",
    "            subtitle = s.split(\":\")[0]\n",
    "            if not subtitle.__contains__('주석'):\n",
    "                subtitle_list.append(subtitle)\n",
    "            if subtitle.__contains__('순확정급여부채'):\n",
    "                value = s\n",
    "                # print(s)\n",
    "                # print(subtitle)"
   ]
  },
  {
   "cell_type": "code",
   "execution_count": 63,
   "metadata": {},
   "outputs": [
    {
     "data": {
      "text/plain": [
       "['1. 일반적 사항',\n",
       " '2. 중요한 회계처리방침',\n",
       " '3. 중요한 회계추정 및 가정',\n",
       " '4. 범주별 금융상품',\n",
       " '5. 금융자산의 양도',\n",
       " '6. 공정가치금융자산',\n",
       " '7. 매출채권 및 미수금',\n",
       " '8. 재고자산',\n",
       " '9. 종속기업, 관계기업 및 공동기업 투자',\n",
       " '10. 유형자산',\n",
       " '11. 무형자산',\n",
       " '12. 차입금',\n",
       " '13. 사채',\n",
       " '14. 순확정급여부채(자산)',\n",
       " '15. 충당부채',\n",
       " '16. 우발부채와 약정사항',\n",
       " '17. 계약부채',\n",
       " '18. 자본금',\n",
       " '19. 이익잉여금',\n",
       " '20. 기타자본항목',\n",
       " '21. 비용의 성격별 분류',\n",
       " '22. 판매비와관리비',\n",
       " '23. 기타수익 및 기타비용',\n",
       " '24. 금융수익 및 금융비용',\n",
       " '25. 법인세비용',\n",
       " '26. 주당이익',\n",
       " '27. 현금흐름표',\n",
       " '28. 재무위험관리',\n",
       " '29. 부문별 보고',\n",
       " '30. 특수관계자와의 거래',\n",
       " '31. 보고기간 후 사건회사는 보고기간종료일 이후 ']"
      ]
     },
     "execution_count": 63,
     "metadata": {},
     "output_type": "execute_result"
    }
   ],
   "source": [
    "subtitle_list"
   ]
  },
  {
   "cell_type": "code",
   "execution_count": 61,
   "metadata": {},
   "outputs": [
    {
     "name": "stdout",
     "output_type": "stream",
     "text": [
      "14 15\n",
      "14. 순확정급여부채(자산) 15. 충당부채\n",
      "141467 152898\n"
     ]
    },
    {
     "data": {
      "text/plain": [
       "[            0\n",
       " 0  (단위 : 백만원),\n",
       "                         구 분           당기말           전기말\n",
       " 0      기금이 적립된 확정급여채무의 현재가치      10729126      11155187\n",
       " 1  기금이 적립되지 않은 확정급여채무의 현재가치         29546         18449\n",
       " 2                       소 계      10758672      11173636\n",
       " 3              사외적립자산의 공정가치  (15,168,895)  (13,497,927)\n",
       " 4             순확정급여부채(자산) 계   (4,410,223)   (2,324,291),\n",
       "             0\n",
       " 0  (단위 : 백만원),\n",
       "          구 분        당기        전기\n",
       " 0     당기근무원가   1030033    907450\n",
       " 1  순이자원가(수익)  (91,902)  (40,104)\n",
       " 2          계    938131    867346,\n",
       "             0\n",
       " 0  (단위 : 백만원),\n",
       "          구 분      당기      전기\n",
       " 0       매출원가  373835  341934\n",
       " 1  판매비와관리비 등  564296  525412\n",
       " 2          계  938131  867346,\n",
       "             0\n",
       " 0  (단위 : 백만원),\n",
       "                            구 분              당기              전기\n",
       " 0                           기초        11173636         9754082\n",
       " 1                       당기근무원가         1030033          907450\n",
       " 2                         이자원가          401973          296029\n",
       " 3               확정급여채무의 재측정요소:  확정급여채무의 재측정요소:  확정급여채무의 재측정요소:\n",
       " 4  - 인구통계적가정의 변동으로 인한  보험수리적손익               -               -\n",
       " 5    - 재무적가정의 변동으로 인한  보험수리적손익     (1,779,803)          150624\n",
       " 6                - 기타사항에 의한 효과          356672          429051\n",
       " 7                        급여지급액       (455,787)       (374,416)\n",
       " 8                           기타           31948           10816\n",
       " 9                           기말        10758672        11173636,\n",
       "             0\n",
       " 0  (단위 : 백만원),\n",
       "              구 분         당기         전기\n",
       " 0             기초   13497927   10916538\n",
       " 1   사외적립자산의 이자수익     493875     336133\n",
       " 2  사외적립자산의 재측정요소  (249,943)  (128,336)\n",
       " 3       사용자의 기여금    1757800    2640100\n",
       " 4          급여지급액  (355,311)  (276,733)\n",
       " 5             기타      24547      10225\n",
       " 6             기말   15168895   13497927,\n",
       "           0\n",
       " 0  (단위 : %),\n",
       "                      구 분  당기말  전기말\n",
       " 0                    할인율  6.1  3.8\n",
       " 1  미래임금상승률 (인플레이션 효과 포함)  5.8  5.3,\n",
       "           0\n",
       " 0  (단위 : %),\n",
       "       구 분     당기말     전기말\n",
       " 0    할인율:    할인율:    할인율:\n",
       " 1  1%p 증가      92      91\n",
       " 2  1%p 감소     109     110\n",
       " 3  임금상승률:  임금상승률:  임금상승률:\n",
       " 4  1%p 증가     109     110\n",
       " 5  1%p 감소      92      91]"
      ]
     },
     "execution_count": 61,
     "metadata": {},
     "output_type": "execute_result"
    }
   ],
   "source": [
    "from bs4 import BeautifulSoup\n",
    "import re\n",
    "\n",
    "file_path = \"D:/PythonProject/data-gatherer/sample/data/삼성전자_재무제표주석.html\"\n",
    "with open(file_path,'rt', encoding='utf-8') as file:\n",
    "    page = file.read()      # html document\n",
    "    soup = BeautifulSoup(page)\n",
    "\n",
    "html_doc = soup.text\n",
    "tags = soup.find_all('p')\n",
    "sub_title_list = []\n",
    "for t in tags:\n",
    "    subjects = re.findall('\\d+[.]+\\s+[^0-9]+', t.text)  # 숫자+'.'+공백+숫자가아닌모든문자열      \n",
    "    if len(subjects) > 0:\n",
    "        for s in subjects:\n",
    "            sub_title = s.split(\":\")[0]\n",
    "            if not sub_title.__contains__('주석'):\n",
    "                sub_title_list.append(sub_title)\n",
    "            if sub_title.__contains__('순확정급여부채'):\n",
    "                this_title = sub_title\n",
    "                start_no = this_title.split(\".\")[0]\n",
    "                end_no = end_no = str(int(start_no) + 1)\n",
    "                print(start_no, end_no)\n",
    "\n",
    "next_title = None\n",
    "for st in sub_title_list:\n",
    "    if st.startswith(end_no):\n",
    "        next_title = st\n",
    "        \n",
    "print(this_title, next_title)\n",
    "\n",
    "p0 = page.find(this_title)\n",
    "p1 = page.find(next_title)\n",
    "print(p0, p1)\n",
    "\n",
    "part_html = page[p0-3:p1-3]     # 문서 Slicing\n",
    "\n",
    "data_list = pd.read_html(part_html)\n",
    "\n",
    "data_list"
   ]
  }
 ],
 "metadata": {
  "kernelspec": {
   "display_name": "data-gatherer-venv",
   "language": "python",
   "name": "python3"
  },
  "language_info": {
   "codemirror_mode": {
    "name": "ipython",
    "version": 3
   },
   "file_extension": ".py",
   "mimetype": "text/x-python",
   "name": "python",
   "nbconvert_exporter": "python",
   "pygments_lexer": "ipython3",
   "version": "3.10.8"
  }
 },
 "nbformat": 4,
 "nbformat_minor": 2
}
