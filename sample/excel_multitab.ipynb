{
 "cells": [
  {
   "cell_type": "code",
   "execution_count": 37,
   "metadata": {},
   "outputs": [],
   "source": [
    "from openpyxl import load_workbook\n",
    "import pandas as pd\n",
    "\n",
    "file_path = \"D:\\PythonProject\\data-gatherer\\sample\\data\\sample_multitab.xlsx\""
   ]
  },
  {
   "cell_type": "code",
   "execution_count": 38,
   "metadata": {},
   "outputs": [],
   "source": [
    "# 엑셀 파일의 모든 sheet name 가져오기\n",
    "wb = load_workbook(filename=file_path, read_only=True)\n",
    "sheet_names = wb.sheetnames\n",
    "wb.close()"
   ]
  },
  {
   "cell_type": "code",
   "execution_count": 39,
   "metadata": {},
   "outputs": [],
   "source": [
    "# 엑셀 파일의 모든 data 읽기\n",
    "dict_data = {}\n",
    "hdr_row = 4\n",
    "use_cols= [3, 4, 5, 6, 7]\n",
    "for sn in sheet_names:\n",
    "    try:\n",
    "        df_data = pd.read_excel(file_path, sheet_name=sn, header=hdr_row, usecols=use_cols)\n",
    "    except Exception as ex:     \n",
    "        print(f'엑셀파일의 시트 {sn}을 읽는 중 에러가 발생 했습니다: {ex}')\n",
    "        break        \n",
    "    dict_data[sn] = df_data"
   ]
  },
  {
   "cell_type": "code",
   "execution_count": 40,
   "metadata": {},
   "outputs": [
    {
     "name": "stdout",
     "output_type": "stream",
     "text": [
      "  Unnamed: 3      컬럼_1      컬럼_2      컬럼_3      컬럼_4\n",
      "0        난수1  0.152153  0.779665  0.811245  0.098304\n",
      "1        난수2  0.568168  0.609143  0.613707  0.859951\n",
      "2        난수3  0.464177  0.123166  0.882515  0.924954\n",
      "3        난수4  0.748830  0.636031  0.070928  0.236058\n",
      "4        난수5  0.705169  0.397171  0.462667  0.889048\n",
      "5        난수6  0.480635  0.180511  0.929903  0.412258\n",
      "6        난수7  0.162513  0.733843  0.864737  0.240434\n",
      "7        난수8  0.729658  0.494511  0.090088  0.213942\n",
      "8        난수9  0.941379  0.081181  0.974590  0.825934\n",
      "  Unnamed: 3      컬럼_1      컬럼_2      컬럼_3      컬럼_4\n",
      "0        난수1  0.052299  0.559318  0.621657  0.735207\n",
      "1        난수2  0.124799  0.390894  0.484531  0.485423\n",
      "2        난수3  0.438095  0.612629  0.247012  0.247334\n",
      "3        난수4  0.578874  0.446011  0.216755  0.294399\n",
      "4        난수5  0.340184  0.802964  0.210644  0.698355\n",
      "5        난수6  0.275962  0.818990  0.358279  0.702256\n",
      "6        난수7  0.189052  0.735287  0.870360  0.325870\n",
      "7        난수8  0.087654  0.955459  0.958234  0.444022\n",
      "8        난수9  0.765029  0.185076  0.261045  0.855789\n",
      "  Unnamed: 3      컬럼_1      컬럼_2      컬럼_3      컬럼_4\n",
      "0        난수1  0.271427  0.534669  0.406902  0.721781\n",
      "1        난수2  0.407378  0.705350  0.861543  0.518493\n",
      "2        난수3  0.872876  0.420814  0.632597  0.884129\n",
      "3        난수4  0.885722  0.045442  0.263995  0.731988\n",
      "4        난수5  0.001720  0.502775  0.843858  0.720779\n",
      "5        난수6  0.766835  0.564645  0.209781  0.965020\n",
      "6        난수7  0.414370  0.596061  0.501474  0.308260\n",
      "7        난수8  0.268436  0.098538  0.249109  0.006450\n",
      "8        난수9  0.892720  0.559879  0.859040  0.670453\n"
     ]
    }
   ],
   "source": [
    "# 읽은 데이터 표시\n",
    "for k, v in dict_data.items():\n",
    "    print(v)"
   ]
  },
  {
   "cell_type": "code",
   "execution_count": 41,
   "metadata": {},
   "outputs": [],
   "source": [
    "# # DB 테이블에 저장\n",
    "# import sys\n",
    "# module_path = \"D:\\PythonProject\\data-gatherer\\common\"\n",
    "# sys.path.append(module_path)\n",
    "# import dbconnect\n",
    "\n",
    "# conn = dbconnect.db_connect(\"DEMO_DW\")\n",
    "# cur = conn.cursor()\n",
    "\n",
    "# for k, v_df in dict_data.items():\n",
    "#     for row in v_df.itertuples():\n",
    "#         sql = \"insert into <테이블명> (기준날짜, 컬럼_0, 컬럼_1, 컬럼_2, 컬럼_3, 컬럼_4) \\\n",
    "#                               values (%s, %s, %s, %s, %s, %s)\"\n",
    "#         cur.execute(sql, (<기준날짜>, row[1], row[2], row[3], row[4], row[5])\n",
    "\n",
    "# conn.commit()\n",
    "# conn.close()"
   ]
  }
 ],
 "metadata": {
  "kernelspec": {
   "display_name": "data-gatherer-venv",
   "language": "python",
   "name": "python3"
  },
  "language_info": {
   "codemirror_mode": {
    "name": "ipython",
    "version": 3
   },
   "file_extension": ".py",
   "mimetype": "text/x-python",
   "name": "python",
   "nbconvert_exporter": "python",
   "pygments_lexer": "ipython3",
   "version": "3.10.8"
  },
  "orig_nbformat": 4
 },
 "nbformat": 4,
 "nbformat_minor": 2
}
