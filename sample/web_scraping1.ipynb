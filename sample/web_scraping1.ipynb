{
 "cells": [
  {
   "attachments": {},
   "cell_type": "markdown",
   "metadata": {},
   "source": [
    "### 테이블이 있는 웹페이지로부터 테이블을 추출하여 데이터프레임으로 저장\n",
    "* pandas 'read_html' : 웹 페이지로부터 테이블을 추출하여 데이터프레임으로 저장하는 코드\n",
    "   - pd.read_html('테이블이 존재하는 URL')"
   ]
  },
  {
   "cell_type": "code",
   "execution_count": 24,
   "metadata": {},
   "outputs": [],
   "source": [
    "import pandas as pd\n",
    "\n",
    "html_data = pd.read_html('http://m.infostock.co.kr/sector/sector_detail.asp?code=64&theme=2%uCC28%uC804%uC9C0&mode=w')"
   ]
  },
  {
   "cell_type": "code",
   "execution_count": 25,
   "metadata": {},
   "outputs": [
    {
     "data": {
      "text/plain": [
       "[    0   1   2     3   4\n",
       " 0 NaN NaN NaN  회원가입 NaN,\n",
       "                         0                                                  1\n",
       " 0                     테마명                                               2차전지\n",
       " 1                    테마개요  2차전지(Secondary battery)란 한 번 쓰고 버리는 배터리가 아닌 재충...\n",
       " 2                 테마 히스토리  (2022-10-27)  국내 배터리업계 호실적 지속 전망 등에 상승(주도주 : S...\n",
       " 3                    관련종목                                             테마편입사유\n",
       " 4    - LG에너지솔루션  (373220)  LG그룹 계열의 전지사업 전문 업체. LG화학의 전지사업 부문이 물적분할되어 설립됐...\n",
       " ..                    ...                                                ...\n",
       " 105     - 더블유씨피  (393890)  EV용 2차전지 습식 분리막 생산 및 판매 업체. 2차전지 분리막 사업을 단일 사업...\n",
       " 106     - 탑머티리얼  (360070)  2차전지 소부장기업으로 시스템 엔지니어링 사업과 전극소재 제조를 주된 사업으로 영위...\n",
       " 107    - 글로벌에스엠  (900070)  자회사 및 손자회사들이 각종 전자제품 및 기계 등의 체결 부품으로 사용되는 스크류,...\n",
       " 108        - 톱텍  (108230)  2차전지장비 공장자동화 사업을 영위하고 있으며, 19년7월 SK배터리아메리카에 2차...\n",
       " 109     - 성우하이텍  (015750)  전기차용 배터리를 보호하는 복합소재 시트 크로스 멤버 개발 및 배터리 시스템 어셈블...\n",
       " \n",
       " [110 rows x 2 columns]]"
      ]
     },
     "execution_count": 25,
     "metadata": {},
     "output_type": "execute_result"
    }
   ],
   "source": [
    "html_data"
   ]
  },
  {
   "cell_type": "code",
   "execution_count": 26,
   "metadata": {},
   "outputs": [
    {
     "data": {
      "text/plain": [
       "list"
      ]
     },
     "execution_count": 26,
     "metadata": {},
     "output_type": "execute_result"
    }
   ],
   "source": [
    "type(html_data)"
   ]
  },
  {
   "cell_type": "code",
   "execution_count": 27,
   "metadata": {},
   "outputs": [
    {
     "data": {
      "text/plain": [
       "2"
      ]
     },
     "execution_count": 27,
     "metadata": {},
     "output_type": "execute_result"
    }
   ],
   "source": [
    "len(html_data)"
   ]
  },
  {
   "cell_type": "code",
   "execution_count": 28,
   "metadata": {},
   "outputs": [
    {
     "data": {
      "text/html": [
       "<div>\n",
       "<style scoped>\n",
       "    .dataframe tbody tr th:only-of-type {\n",
       "        vertical-align: middle;\n",
       "    }\n",
       "\n",
       "    .dataframe tbody tr th {\n",
       "        vertical-align: top;\n",
       "    }\n",
       "\n",
       "    .dataframe thead th {\n",
       "        text-align: right;\n",
       "    }\n",
       "</style>\n",
       "<table border=\"1\" class=\"dataframe\">\n",
       "  <thead>\n",
       "    <tr style=\"text-align: right;\">\n",
       "      <th></th>\n",
       "      <th>0</th>\n",
       "      <th>1</th>\n",
       "      <th>2</th>\n",
       "      <th>3</th>\n",
       "      <th>4</th>\n",
       "    </tr>\n",
       "  </thead>\n",
       "  <tbody>\n",
       "    <tr>\n",
       "      <th>0</th>\n",
       "      <td>NaN</td>\n",
       "      <td>NaN</td>\n",
       "      <td>NaN</td>\n",
       "      <td>회원가입</td>\n",
       "      <td>NaN</td>\n",
       "    </tr>\n",
       "  </tbody>\n",
       "</table>\n",
       "</div>"
      ],
      "text/plain": [
       "    0   1   2     3   4\n",
       "0 NaN NaN NaN  회원가입 NaN"
      ]
     },
     "execution_count": 28,
     "metadata": {},
     "output_type": "execute_result"
    }
   ],
   "source": [
    "html_data[0]"
   ]
  },
  {
   "cell_type": "code",
   "execution_count": 29,
   "metadata": {},
   "outputs": [
    {
     "data": {
      "text/html": [
       "<div>\n",
       "<style scoped>\n",
       "    .dataframe tbody tr th:only-of-type {\n",
       "        vertical-align: middle;\n",
       "    }\n",
       "\n",
       "    .dataframe tbody tr th {\n",
       "        vertical-align: top;\n",
       "    }\n",
       "\n",
       "    .dataframe thead th {\n",
       "        text-align: right;\n",
       "    }\n",
       "</style>\n",
       "<table border=\"1\" class=\"dataframe\">\n",
       "  <thead>\n",
       "    <tr style=\"text-align: right;\">\n",
       "      <th></th>\n",
       "      <th>0</th>\n",
       "      <th>1</th>\n",
       "    </tr>\n",
       "  </thead>\n",
       "  <tbody>\n",
       "    <tr>\n",
       "      <th>0</th>\n",
       "      <td>테마명</td>\n",
       "      <td>2차전지</td>\n",
       "    </tr>\n",
       "    <tr>\n",
       "      <th>1</th>\n",
       "      <td>테마개요</td>\n",
       "      <td>2차전지(Secondary battery)란 한 번 쓰고 버리는 배터리가 아닌 재충...</td>\n",
       "    </tr>\n",
       "    <tr>\n",
       "      <th>2</th>\n",
       "      <td>테마 히스토리</td>\n",
       "      <td>(2022-10-27)  국내 배터리업계 호실적 지속 전망 등에 상승(주도주 : S...</td>\n",
       "    </tr>\n",
       "    <tr>\n",
       "      <th>3</th>\n",
       "      <td>관련종목</td>\n",
       "      <td>테마편입사유</td>\n",
       "    </tr>\n",
       "    <tr>\n",
       "      <th>4</th>\n",
       "      <td>- LG에너지솔루션  (373220)</td>\n",
       "      <td>LG그룹 계열의 전지사업 전문 업체. LG화학의 전지사업 부문이 물적분할되어 설립됐...</td>\n",
       "    </tr>\n",
       "    <tr>\n",
       "      <th>...</th>\n",
       "      <td>...</td>\n",
       "      <td>...</td>\n",
       "    </tr>\n",
       "    <tr>\n",
       "      <th>105</th>\n",
       "      <td>- 더블유씨피  (393890)</td>\n",
       "      <td>EV용 2차전지 습식 분리막 생산 및 판매 업체. 2차전지 분리막 사업을 단일 사업...</td>\n",
       "    </tr>\n",
       "    <tr>\n",
       "      <th>106</th>\n",
       "      <td>- 탑머티리얼  (360070)</td>\n",
       "      <td>2차전지 소부장기업으로 시스템 엔지니어링 사업과 전극소재 제조를 주된 사업으로 영위...</td>\n",
       "    </tr>\n",
       "    <tr>\n",
       "      <th>107</th>\n",
       "      <td>- 글로벌에스엠  (900070)</td>\n",
       "      <td>자회사 및 손자회사들이 각종 전자제품 및 기계 등의 체결 부품으로 사용되는 스크류,...</td>\n",
       "    </tr>\n",
       "    <tr>\n",
       "      <th>108</th>\n",
       "      <td>- 톱텍  (108230)</td>\n",
       "      <td>2차전지장비 공장자동화 사업을 영위하고 있으며, 19년7월 SK배터리아메리카에 2차...</td>\n",
       "    </tr>\n",
       "    <tr>\n",
       "      <th>109</th>\n",
       "      <td>- 성우하이텍  (015750)</td>\n",
       "      <td>전기차용 배터리를 보호하는 복합소재 시트 크로스 멤버 개발 및 배터리 시스템 어셈블...</td>\n",
       "    </tr>\n",
       "  </tbody>\n",
       "</table>\n",
       "<p>110 rows × 2 columns</p>\n",
       "</div>"
      ],
      "text/plain": [
       "                        0                                                  1\n",
       "0                     테마명                                               2차전지\n",
       "1                    테마개요  2차전지(Secondary battery)란 한 번 쓰고 버리는 배터리가 아닌 재충...\n",
       "2                 테마 히스토리  (2022-10-27)  국내 배터리업계 호실적 지속 전망 등에 상승(주도주 : S...\n",
       "3                    관련종목                                             테마편입사유\n",
       "4    - LG에너지솔루션  (373220)  LG그룹 계열의 전지사업 전문 업체. LG화학의 전지사업 부문이 물적분할되어 설립됐...\n",
       "..                    ...                                                ...\n",
       "105     - 더블유씨피  (393890)  EV용 2차전지 습식 분리막 생산 및 판매 업체. 2차전지 분리막 사업을 단일 사업...\n",
       "106     - 탑머티리얼  (360070)  2차전지 소부장기업으로 시스템 엔지니어링 사업과 전극소재 제조를 주된 사업으로 영위...\n",
       "107    - 글로벌에스엠  (900070)  자회사 및 손자회사들이 각종 전자제품 및 기계 등의 체결 부품으로 사용되는 스크류,...\n",
       "108        - 톱텍  (108230)  2차전지장비 공장자동화 사업을 영위하고 있으며, 19년7월 SK배터리아메리카에 2차...\n",
       "109     - 성우하이텍  (015750)  전기차용 배터리를 보호하는 복합소재 시트 크로스 멤버 개발 및 배터리 시스템 어셈블...\n",
       "\n",
       "[110 rows x 2 columns]"
      ]
     },
     "execution_count": 29,
     "metadata": {},
     "output_type": "execute_result"
    }
   ],
   "source": [
    "html_data[1]"
   ]
  },
  {
   "cell_type": "code",
   "execution_count": 30,
   "metadata": {},
   "outputs": [
    {
     "data": {
      "text/plain": [
       "pandas.core.frame.DataFrame"
      ]
     },
     "execution_count": 30,
     "metadata": {},
     "output_type": "execute_result"
    }
   ],
   "source": [
    "type(html_data[1])"
   ]
  },
  {
   "cell_type": "code",
   "execution_count": 31,
   "metadata": {},
   "outputs": [],
   "source": [
    "df_html_data = html_data[1]"
   ]
  },
  {
   "cell_type": "code",
   "execution_count": 32,
   "metadata": {},
   "outputs": [],
   "source": [
    "# 처음 세 개 줄은 개요 설명이므로 삭제 (세 번째 이후 데이터부터 가져온다)\n",
    "df_html_data = df_html_data[3:]"
   ]
  },
  {
   "cell_type": "code",
   "execution_count": 33,
   "metadata": {},
   "outputs": [
    {
     "data": {
      "text/html": [
       "<div>\n",
       "<style scoped>\n",
       "    .dataframe tbody tr th:only-of-type {\n",
       "        vertical-align: middle;\n",
       "    }\n",
       "\n",
       "    .dataframe tbody tr th {\n",
       "        vertical-align: top;\n",
       "    }\n",
       "\n",
       "    .dataframe thead th {\n",
       "        text-align: right;\n",
       "    }\n",
       "</style>\n",
       "<table border=\"1\" class=\"dataframe\">\n",
       "  <thead>\n",
       "    <tr style=\"text-align: right;\">\n",
       "      <th></th>\n",
       "      <th>0</th>\n",
       "      <th>1</th>\n",
       "    </tr>\n",
       "  </thead>\n",
       "  <tbody>\n",
       "    <tr>\n",
       "      <th>3</th>\n",
       "      <td>관련종목</td>\n",
       "      <td>테마편입사유</td>\n",
       "    </tr>\n",
       "    <tr>\n",
       "      <th>4</th>\n",
       "      <td>- LG에너지솔루션  (373220)</td>\n",
       "      <td>LG그룹 계열의 전지사업 전문 업체. LG화학의 전지사업 부문이 물적분할되어 설립됐...</td>\n",
       "    </tr>\n",
       "    <tr>\n",
       "      <th>5</th>\n",
       "      <td>- 삼성SDI  (006400)</td>\n",
       "      <td>소형전지(휴대폰, 태블릿PC, 전기자전거 용), 자동차전지(하이브리드카, 전기차 용...</td>\n",
       "    </tr>\n",
       "    <tr>\n",
       "      <th>6</th>\n",
       "      <td>- SK이노베이션  (096770)</td>\n",
       "      <td>SK그룹 계열의 종합에너지기업. 21년10월 배터리사업(이차전지사업, E-Mobil...</td>\n",
       "    </tr>\n",
       "    <tr>\n",
       "      <th>7</th>\n",
       "      <td>- 에코프로  (086520)</td>\n",
       "      <td>양극활물질 등 2차전지 사업을 분할하여 에코프로비엠을 신규 설립한 뒤 종속회사로 보유.</td>\n",
       "    </tr>\n",
       "    <tr>\n",
       "      <th>...</th>\n",
       "      <td>...</td>\n",
       "      <td>...</td>\n",
       "    </tr>\n",
       "    <tr>\n",
       "      <th>105</th>\n",
       "      <td>- 더블유씨피  (393890)</td>\n",
       "      <td>EV용 2차전지 습식 분리막 생산 및 판매 업체. 2차전지 분리막 사업을 단일 사업...</td>\n",
       "    </tr>\n",
       "    <tr>\n",
       "      <th>106</th>\n",
       "      <td>- 탑머티리얼  (360070)</td>\n",
       "      <td>2차전지 소부장기업으로 시스템 엔지니어링 사업과 전극소재 제조를 주된 사업으로 영위...</td>\n",
       "    </tr>\n",
       "    <tr>\n",
       "      <th>107</th>\n",
       "      <td>- 글로벌에스엠  (900070)</td>\n",
       "      <td>자회사 및 손자회사들이 각종 전자제품 및 기계 등의 체결 부품으로 사용되는 스크류,...</td>\n",
       "    </tr>\n",
       "    <tr>\n",
       "      <th>108</th>\n",
       "      <td>- 톱텍  (108230)</td>\n",
       "      <td>2차전지장비 공장자동화 사업을 영위하고 있으며, 19년7월 SK배터리아메리카에 2차...</td>\n",
       "    </tr>\n",
       "    <tr>\n",
       "      <th>109</th>\n",
       "      <td>- 성우하이텍  (015750)</td>\n",
       "      <td>전기차용 배터리를 보호하는 복합소재 시트 크로스 멤버 개발 및 배터리 시스템 어셈블...</td>\n",
       "    </tr>\n",
       "  </tbody>\n",
       "</table>\n",
       "<p>107 rows × 2 columns</p>\n",
       "</div>"
      ],
      "text/plain": [
       "                        0                                                  1\n",
       "3                    관련종목                                             테마편입사유\n",
       "4    - LG에너지솔루션  (373220)  LG그룹 계열의 전지사업 전문 업체. LG화학의 전지사업 부문이 물적분할되어 설립됐...\n",
       "5       - 삼성SDI  (006400)  소형전지(휴대폰, 태블릿PC, 전기자전거 용), 자동차전지(하이브리드카, 전기차 용...\n",
       "6     - SK이노베이션  (096770)  SK그룹 계열의 종합에너지기업. 21년10월 배터리사업(이차전지사업, E-Mobil...\n",
       "7        - 에코프로  (086520)   양극활물질 등 2차전지 사업을 분할하여 에코프로비엠을 신규 설립한 뒤 종속회사로 보유.\n",
       "..                    ...                                                ...\n",
       "105     - 더블유씨피  (393890)  EV용 2차전지 습식 분리막 생산 및 판매 업체. 2차전지 분리막 사업을 단일 사업...\n",
       "106     - 탑머티리얼  (360070)  2차전지 소부장기업으로 시스템 엔지니어링 사업과 전극소재 제조를 주된 사업으로 영위...\n",
       "107    - 글로벌에스엠  (900070)  자회사 및 손자회사들이 각종 전자제품 및 기계 등의 체결 부품으로 사용되는 스크류,...\n",
       "108        - 톱텍  (108230)  2차전지장비 공장자동화 사업을 영위하고 있으며, 19년7월 SK배터리아메리카에 2차...\n",
       "109     - 성우하이텍  (015750)  전기차용 배터리를 보호하는 복합소재 시트 크로스 멤버 개발 및 배터리 시스템 어셈블...\n",
       "\n",
       "[107 rows x 2 columns]"
      ]
     },
     "execution_count": 33,
     "metadata": {},
     "output_type": "execute_result"
    }
   ],
   "source": [
    "df_html_data"
   ]
  },
  {
   "attachments": {},
   "cell_type": "markdown",
   "metadata": {},
   "source": [
    "#### 첫번째 행을 데이터프레임의 제목으로 설정"
   ]
  },
  {
   "cell_type": "code",
   "execution_count": 34,
   "metadata": {},
   "outputs": [
    {
     "data": {
      "text/plain": [
       "0      관련종목\n",
       "1    테마편입사유\n",
       "Name: 3, dtype: object"
      ]
     },
     "execution_count": 34,
     "metadata": {},
     "output_type": "execute_result"
    }
   ],
   "source": [
    "# 첫번째 행\n",
    "df_html_data.iloc[0]"
   ]
  },
  {
   "cell_type": "code",
   "execution_count": 35,
   "metadata": {},
   "outputs": [
    {
     "data": {
      "text/html": [
       "<div>\n",
       "<style scoped>\n",
       "    .dataframe tbody tr th:only-of-type {\n",
       "        vertical-align: middle;\n",
       "    }\n",
       "\n",
       "    .dataframe tbody tr th {\n",
       "        vertical-align: top;\n",
       "    }\n",
       "\n",
       "    .dataframe thead th {\n",
       "        text-align: right;\n",
       "    }\n",
       "</style>\n",
       "<table border=\"1\" class=\"dataframe\">\n",
       "  <thead>\n",
       "    <tr style=\"text-align: right;\">\n",
       "      <th></th>\n",
       "      <th>관련종목</th>\n",
       "      <th>테마편입사유</th>\n",
       "    </tr>\n",
       "  </thead>\n",
       "  <tbody>\n",
       "    <tr>\n",
       "      <th>3</th>\n",
       "      <td>관련종목</td>\n",
       "      <td>테마편입사유</td>\n",
       "    </tr>\n",
       "    <tr>\n",
       "      <th>4</th>\n",
       "      <td>- LG에너지솔루션  (373220)</td>\n",
       "      <td>LG그룹 계열의 전지사업 전문 업체. LG화학의 전지사업 부문이 물적분할되어 설립됐...</td>\n",
       "    </tr>\n",
       "    <tr>\n",
       "      <th>5</th>\n",
       "      <td>- 삼성SDI  (006400)</td>\n",
       "      <td>소형전지(휴대폰, 태블릿PC, 전기자전거 용), 자동차전지(하이브리드카, 전기차 용...</td>\n",
       "    </tr>\n",
       "    <tr>\n",
       "      <th>6</th>\n",
       "      <td>- SK이노베이션  (096770)</td>\n",
       "      <td>SK그룹 계열의 종합에너지기업. 21년10월 배터리사업(이차전지사업, E-Mobil...</td>\n",
       "    </tr>\n",
       "    <tr>\n",
       "      <th>7</th>\n",
       "      <td>- 에코프로  (086520)</td>\n",
       "      <td>양극활물질 등 2차전지 사업을 분할하여 에코프로비엠을 신규 설립한 뒤 종속회사로 보유.</td>\n",
       "    </tr>\n",
       "    <tr>\n",
       "      <th>...</th>\n",
       "      <td>...</td>\n",
       "      <td>...</td>\n",
       "    </tr>\n",
       "    <tr>\n",
       "      <th>105</th>\n",
       "      <td>- 더블유씨피  (393890)</td>\n",
       "      <td>EV용 2차전지 습식 분리막 생산 및 판매 업체. 2차전지 분리막 사업을 단일 사업...</td>\n",
       "    </tr>\n",
       "    <tr>\n",
       "      <th>106</th>\n",
       "      <td>- 탑머티리얼  (360070)</td>\n",
       "      <td>2차전지 소부장기업으로 시스템 엔지니어링 사업과 전극소재 제조를 주된 사업으로 영위...</td>\n",
       "    </tr>\n",
       "    <tr>\n",
       "      <th>107</th>\n",
       "      <td>- 글로벌에스엠  (900070)</td>\n",
       "      <td>자회사 및 손자회사들이 각종 전자제품 및 기계 등의 체결 부품으로 사용되는 스크류,...</td>\n",
       "    </tr>\n",
       "    <tr>\n",
       "      <th>108</th>\n",
       "      <td>- 톱텍  (108230)</td>\n",
       "      <td>2차전지장비 공장자동화 사업을 영위하고 있으며, 19년7월 SK배터리아메리카에 2차...</td>\n",
       "    </tr>\n",
       "    <tr>\n",
       "      <th>109</th>\n",
       "      <td>- 성우하이텍  (015750)</td>\n",
       "      <td>전기차용 배터리를 보호하는 복합소재 시트 크로스 멤버 개발 및 배터리 시스템 어셈블...</td>\n",
       "    </tr>\n",
       "  </tbody>\n",
       "</table>\n",
       "<p>107 rows × 2 columns</p>\n",
       "</div>"
      ],
      "text/plain": [
       "                     관련종목                                             테마편입사유\n",
       "3                    관련종목                                             테마편입사유\n",
       "4    - LG에너지솔루션  (373220)  LG그룹 계열의 전지사업 전문 업체. LG화학의 전지사업 부문이 물적분할되어 설립됐...\n",
       "5       - 삼성SDI  (006400)  소형전지(휴대폰, 태블릿PC, 전기자전거 용), 자동차전지(하이브리드카, 전기차 용...\n",
       "6     - SK이노베이션  (096770)  SK그룹 계열의 종합에너지기업. 21년10월 배터리사업(이차전지사업, E-Mobil...\n",
       "7        - 에코프로  (086520)   양극활물질 등 2차전지 사업을 분할하여 에코프로비엠을 신규 설립한 뒤 종속회사로 보유.\n",
       "..                    ...                                                ...\n",
       "105     - 더블유씨피  (393890)  EV용 2차전지 습식 분리막 생산 및 판매 업체. 2차전지 분리막 사업을 단일 사업...\n",
       "106     - 탑머티리얼  (360070)  2차전지 소부장기업으로 시스템 엔지니어링 사업과 전극소재 제조를 주된 사업으로 영위...\n",
       "107    - 글로벌에스엠  (900070)  자회사 및 손자회사들이 각종 전자제품 및 기계 등의 체결 부품으로 사용되는 스크류,...\n",
       "108        - 톱텍  (108230)  2차전지장비 공장자동화 사업을 영위하고 있으며, 19년7월 SK배터리아메리카에 2차...\n",
       "109     - 성우하이텍  (015750)  전기차용 배터리를 보호하는 복합소재 시트 크로스 멤버 개발 및 배터리 시스템 어셈블...\n",
       "\n",
       "[107 rows x 2 columns]"
      ]
     },
     "execution_count": 35,
     "metadata": {},
     "output_type": "execute_result"
    }
   ],
   "source": [
    "df_html_data.columns = df_html_data.iloc[0].to_list()\n",
    "df_html_data"
   ]
  },
  {
   "cell_type": "code",
   "execution_count": 36,
   "metadata": {},
   "outputs": [],
   "source": [
    "# 첫번째 행 삭제 (첫 번째 이후 데이터부터 가져온다)\n",
    "df_html_data = df_html_data[1:]"
   ]
  },
  {
   "cell_type": "code",
   "execution_count": 37,
   "metadata": {},
   "outputs": [
    {
     "data": {
      "text/html": [
       "<div>\n",
       "<style scoped>\n",
       "    .dataframe tbody tr th:only-of-type {\n",
       "        vertical-align: middle;\n",
       "    }\n",
       "\n",
       "    .dataframe tbody tr th {\n",
       "        vertical-align: top;\n",
       "    }\n",
       "\n",
       "    .dataframe thead th {\n",
       "        text-align: right;\n",
       "    }\n",
       "</style>\n",
       "<table border=\"1\" class=\"dataframe\">\n",
       "  <thead>\n",
       "    <tr style=\"text-align: right;\">\n",
       "      <th></th>\n",
       "      <th>관련종목</th>\n",
       "      <th>테마편입사유</th>\n",
       "    </tr>\n",
       "  </thead>\n",
       "  <tbody>\n",
       "    <tr>\n",
       "      <th>4</th>\n",
       "      <td>- LG에너지솔루션  (373220)</td>\n",
       "      <td>LG그룹 계열의 전지사업 전문 업체. LG화학의 전지사업 부문이 물적분할되어 설립됐...</td>\n",
       "    </tr>\n",
       "    <tr>\n",
       "      <th>5</th>\n",
       "      <td>- 삼성SDI  (006400)</td>\n",
       "      <td>소형전지(휴대폰, 태블릿PC, 전기자전거 용), 자동차전지(하이브리드카, 전기차 용...</td>\n",
       "    </tr>\n",
       "    <tr>\n",
       "      <th>6</th>\n",
       "      <td>- SK이노베이션  (096770)</td>\n",
       "      <td>SK그룹 계열의 종합에너지기업. 21년10월 배터리사업(이차전지사업, E-Mobil...</td>\n",
       "    </tr>\n",
       "    <tr>\n",
       "      <th>7</th>\n",
       "      <td>- 에코프로  (086520)</td>\n",
       "      <td>양극활물질 등 2차전지 사업을 분할하여 에코프로비엠을 신규 설립한 뒤 종속회사로 보유.</td>\n",
       "    </tr>\n",
       "    <tr>\n",
       "      <th>8</th>\n",
       "      <td>- 엘앤에프  (066970)</td>\n",
       "      <td>2차전지 양극활물질 생산, 판매업체.</td>\n",
       "    </tr>\n",
       "    <tr>\n",
       "      <th>...</th>\n",
       "      <td>...</td>\n",
       "      <td>...</td>\n",
       "    </tr>\n",
       "    <tr>\n",
       "      <th>105</th>\n",
       "      <td>- 더블유씨피  (393890)</td>\n",
       "      <td>EV용 2차전지 습식 분리막 생산 및 판매 업체. 2차전지 분리막 사업을 단일 사업...</td>\n",
       "    </tr>\n",
       "    <tr>\n",
       "      <th>106</th>\n",
       "      <td>- 탑머티리얼  (360070)</td>\n",
       "      <td>2차전지 소부장기업으로 시스템 엔지니어링 사업과 전극소재 제조를 주된 사업으로 영위...</td>\n",
       "    </tr>\n",
       "    <tr>\n",
       "      <th>107</th>\n",
       "      <td>- 글로벌에스엠  (900070)</td>\n",
       "      <td>자회사 및 손자회사들이 각종 전자제품 및 기계 등의 체결 부품으로 사용되는 스크류,...</td>\n",
       "    </tr>\n",
       "    <tr>\n",
       "      <th>108</th>\n",
       "      <td>- 톱텍  (108230)</td>\n",
       "      <td>2차전지장비 공장자동화 사업을 영위하고 있으며, 19년7월 SK배터리아메리카에 2차...</td>\n",
       "    </tr>\n",
       "    <tr>\n",
       "      <th>109</th>\n",
       "      <td>- 성우하이텍  (015750)</td>\n",
       "      <td>전기차용 배터리를 보호하는 복합소재 시트 크로스 멤버 개발 및 배터리 시스템 어셈블...</td>\n",
       "    </tr>\n",
       "  </tbody>\n",
       "</table>\n",
       "<p>106 rows × 2 columns</p>\n",
       "</div>"
      ],
      "text/plain": [
       "                     관련종목                                             테마편입사유\n",
       "4    - LG에너지솔루션  (373220)  LG그룹 계열의 전지사업 전문 업체. LG화학의 전지사업 부문이 물적분할되어 설립됐...\n",
       "5       - 삼성SDI  (006400)  소형전지(휴대폰, 태블릿PC, 전기자전거 용), 자동차전지(하이브리드카, 전기차 용...\n",
       "6     - SK이노베이션  (096770)  SK그룹 계열의 종합에너지기업. 21년10월 배터리사업(이차전지사업, E-Mobil...\n",
       "7        - 에코프로  (086520)   양극활물질 등 2차전지 사업을 분할하여 에코프로비엠을 신규 설립한 뒤 종속회사로 보유.\n",
       "8        - 엘앤에프  (066970)                               2차전지 양극활물질 생산, 판매업체.\n",
       "..                    ...                                                ...\n",
       "105     - 더블유씨피  (393890)  EV용 2차전지 습식 분리막 생산 및 판매 업체. 2차전지 분리막 사업을 단일 사업...\n",
       "106     - 탑머티리얼  (360070)  2차전지 소부장기업으로 시스템 엔지니어링 사업과 전극소재 제조를 주된 사업으로 영위...\n",
       "107    - 글로벌에스엠  (900070)  자회사 및 손자회사들이 각종 전자제품 및 기계 등의 체결 부품으로 사용되는 스크류,...\n",
       "108        - 톱텍  (108230)  2차전지장비 공장자동화 사업을 영위하고 있으며, 19년7월 SK배터리아메리카에 2차...\n",
       "109     - 성우하이텍  (015750)  전기차용 배터리를 보호하는 복합소재 시트 크로스 멤버 개발 및 배터리 시스템 어셈블...\n",
       "\n",
       "[106 rows x 2 columns]"
      ]
     },
     "execution_count": 37,
     "metadata": {},
     "output_type": "execute_result"
    }
   ],
   "source": [
    "df_html_data"
   ]
  },
  {
   "cell_type": "code",
   "execution_count": 38,
   "metadata": {},
   "outputs": [],
   "source": [
    "# 인덱스 reset\n",
    "df_html_data = df_html_data.reset_index(drop=True)"
   ]
  },
  {
   "cell_type": "code",
   "execution_count": 39,
   "metadata": {},
   "outputs": [
    {
     "data": {
      "text/html": [
       "<div>\n",
       "<style scoped>\n",
       "    .dataframe tbody tr th:only-of-type {\n",
       "        vertical-align: middle;\n",
       "    }\n",
       "\n",
       "    .dataframe tbody tr th {\n",
       "        vertical-align: top;\n",
       "    }\n",
       "\n",
       "    .dataframe thead th {\n",
       "        text-align: right;\n",
       "    }\n",
       "</style>\n",
       "<table border=\"1\" class=\"dataframe\">\n",
       "  <thead>\n",
       "    <tr style=\"text-align: right;\">\n",
       "      <th></th>\n",
       "      <th>관련종목</th>\n",
       "      <th>테마편입사유</th>\n",
       "    </tr>\n",
       "  </thead>\n",
       "  <tbody>\n",
       "    <tr>\n",
       "      <th>0</th>\n",
       "      <td>- LG에너지솔루션  (373220)</td>\n",
       "      <td>LG그룹 계열의 전지사업 전문 업체. LG화학의 전지사업 부문이 물적분할되어 설립됐...</td>\n",
       "    </tr>\n",
       "    <tr>\n",
       "      <th>1</th>\n",
       "      <td>- 삼성SDI  (006400)</td>\n",
       "      <td>소형전지(휴대폰, 태블릿PC, 전기자전거 용), 자동차전지(하이브리드카, 전기차 용...</td>\n",
       "    </tr>\n",
       "    <tr>\n",
       "      <th>2</th>\n",
       "      <td>- SK이노베이션  (096770)</td>\n",
       "      <td>SK그룹 계열의 종합에너지기업. 21년10월 배터리사업(이차전지사업, E-Mobil...</td>\n",
       "    </tr>\n",
       "    <tr>\n",
       "      <th>3</th>\n",
       "      <td>- 에코프로  (086520)</td>\n",
       "      <td>양극활물질 등 2차전지 사업을 분할하여 에코프로비엠을 신규 설립한 뒤 종속회사로 보유.</td>\n",
       "    </tr>\n",
       "    <tr>\n",
       "      <th>4</th>\n",
       "      <td>- 엘앤에프  (066970)</td>\n",
       "      <td>2차전지 양극활물질 생산, 판매업체.</td>\n",
       "    </tr>\n",
       "    <tr>\n",
       "      <th>...</th>\n",
       "      <td>...</td>\n",
       "      <td>...</td>\n",
       "    </tr>\n",
       "    <tr>\n",
       "      <th>101</th>\n",
       "      <td>- 더블유씨피  (393890)</td>\n",
       "      <td>EV용 2차전지 습식 분리막 생산 및 판매 업체. 2차전지 분리막 사업을 단일 사업...</td>\n",
       "    </tr>\n",
       "    <tr>\n",
       "      <th>102</th>\n",
       "      <td>- 탑머티리얼  (360070)</td>\n",
       "      <td>2차전지 소부장기업으로 시스템 엔지니어링 사업과 전극소재 제조를 주된 사업으로 영위...</td>\n",
       "    </tr>\n",
       "    <tr>\n",
       "      <th>103</th>\n",
       "      <td>- 글로벌에스엠  (900070)</td>\n",
       "      <td>자회사 및 손자회사들이 각종 전자제품 및 기계 등의 체결 부품으로 사용되는 스크류,...</td>\n",
       "    </tr>\n",
       "    <tr>\n",
       "      <th>104</th>\n",
       "      <td>- 톱텍  (108230)</td>\n",
       "      <td>2차전지장비 공장자동화 사업을 영위하고 있으며, 19년7월 SK배터리아메리카에 2차...</td>\n",
       "    </tr>\n",
       "    <tr>\n",
       "      <th>105</th>\n",
       "      <td>- 성우하이텍  (015750)</td>\n",
       "      <td>전기차용 배터리를 보호하는 복합소재 시트 크로스 멤버 개발 및 배터리 시스템 어셈블...</td>\n",
       "    </tr>\n",
       "  </tbody>\n",
       "</table>\n",
       "<p>106 rows × 2 columns</p>\n",
       "</div>"
      ],
      "text/plain": [
       "                     관련종목                                             테마편입사유\n",
       "0    - LG에너지솔루션  (373220)  LG그룹 계열의 전지사업 전문 업체. LG화학의 전지사업 부문이 물적분할되어 설립됐...\n",
       "1       - 삼성SDI  (006400)  소형전지(휴대폰, 태블릿PC, 전기자전거 용), 자동차전지(하이브리드카, 전기차 용...\n",
       "2     - SK이노베이션  (096770)  SK그룹 계열의 종합에너지기업. 21년10월 배터리사업(이차전지사업, E-Mobil...\n",
       "3        - 에코프로  (086520)   양극활물질 등 2차전지 사업을 분할하여 에코프로비엠을 신규 설립한 뒤 종속회사로 보유.\n",
       "4        - 엘앤에프  (066970)                               2차전지 양극활물질 생산, 판매업체.\n",
       "..                    ...                                                ...\n",
       "101     - 더블유씨피  (393890)  EV용 2차전지 습식 분리막 생산 및 판매 업체. 2차전지 분리막 사업을 단일 사업...\n",
       "102     - 탑머티리얼  (360070)  2차전지 소부장기업으로 시스템 엔지니어링 사업과 전극소재 제조를 주된 사업으로 영위...\n",
       "103    - 글로벌에스엠  (900070)  자회사 및 손자회사들이 각종 전자제품 및 기계 등의 체결 부품으로 사용되는 스크류,...\n",
       "104        - 톱텍  (108230)  2차전지장비 공장자동화 사업을 영위하고 있으며, 19년7월 SK배터리아메리카에 2차...\n",
       "105     - 성우하이텍  (015750)  전기차용 배터리를 보호하는 복합소재 시트 크로스 멤버 개발 및 배터리 시스템 어셈블...\n",
       "\n",
       "[106 rows x 2 columns]"
      ]
     },
     "execution_count": 39,
     "metadata": {},
     "output_type": "execute_result"
    }
   ],
   "source": [
    "df_html_data"
   ]
  }
 ],
 "metadata": {
  "kernelspec": {
   "display_name": "data-gatherer-venv",
   "language": "python",
   "name": "python3"
  },
  "language_info": {
   "codemirror_mode": {
    "name": "ipython",
    "version": 3
   },
   "file_extension": ".py",
   "mimetype": "text/x-python",
   "name": "python",
   "nbconvert_exporter": "python",
   "pygments_lexer": "ipython3",
   "version": "3.10.8"
  },
  "orig_nbformat": 4
 },
 "nbformat": 4,
 "nbformat_minor": 2
}
