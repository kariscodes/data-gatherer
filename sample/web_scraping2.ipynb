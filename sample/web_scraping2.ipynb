{
 "cells": [
  {
   "attachments": {},
   "cell_type": "markdown",
   "metadata": {},
   "source": [
    "### 네이버 시장지표"
   ]
  },
  {
   "cell_type": "code",
   "execution_count": 18,
   "metadata": {},
   "outputs": [],
   "source": [
    "from bs4 import BeautifulSoup\n",
    "# import urllib.request as req\n",
    "import requests\n",
    "\n",
    "url = \"http://finance.naver.com/marketindex\"\n",
    "# res = req.urlopen(url)\n",
    "req = requests.get(url)\n",
    "# soup = BeautifulSoup(res, \"html.parser\")\n",
    "soup = BeautifulSoup(req.content.decode('euc-kr', 'replace'), \"html.parser\")"
   ]
  },
  {
   "cell_type": "code",
   "execution_count": 19,
   "metadata": {},
   "outputs": [
    {
     "name": "stdout",
     "output_type": "stream",
     "text": [
      "USD/KRW:  1,308.00   2023.07.10 21:27  하나은행 기준\n"
     ]
    }
   ],
   "source": [
    "# CSS Selector를 이용하여 가져오기\n",
    "usd_krw = soup.select_one(\"#exchangeList > li.on > a.head.usd > div > span.value\")\n",
    "usd_krw_time = soup.select_one(\"#exchangeList > li:nth-child(1) > div > span.time\")\n",
    "usd_krw_source = soup.select_one(\"#exchangeList > li:nth-child(1) > div > span.source\")\n",
    "if usd_krw is not None:\n",
    "    print(\"USD/KRW: \", usd_krw.string, \" \", usd_krw_time.string, \"\", usd_krw_source.string)"
   ]
  }
 ],
 "metadata": {
  "kernelspec": {
   "display_name": "data-gatherer.venv",
   "language": "python",
   "name": "python3"
  },
  "language_info": {
   "codemirror_mode": {
    "name": "ipython",
    "version": 3
   },
   "file_extension": ".py",
   "mimetype": "text/x-python",
   "name": "python",
   "nbconvert_exporter": "python",
   "pygments_lexer": "ipython3",
   "version": "3.10.8"
  },
  "orig_nbformat": 4
 },
 "nbformat": 4,
 "nbformat_minor": 2
}
