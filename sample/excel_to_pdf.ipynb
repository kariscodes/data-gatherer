{
 "cells": [
  {
   "cell_type": "markdown",
   "metadata": {},
   "source": [
    "### Excel 파일을 PDF로 변환하기\n",
    "+ Reference: https://wikidocs.net/158161"
   ]
  },
  {
   "cell_type": "code",
   "execution_count": 7,
   "metadata": {},
   "outputs": [],
   "source": [
    "import win32com.client\n",
    "\n",
    "excel = win32com.client.DispatchEx(\"Excel.Application\")\n",
    "excel.Visible = False\n",
    "\n",
    "# 파일명은 full path로 지정\n",
    "excel_file = \"D:\\PythonProject\\data-gatherer\\sample\\data\\sample_doc.xlsx\"\n",
    "pdf_file = \"D:\\PythonProject\\data-gatherer\\sample\\data\\sample_doc.pdf\"\n",
    "    \n",
    "wb = excel.Workbooks.Open(excel_file)\n",
    "ws = wb.ActiveSheet\n",
    "\n",
    "# Type=0 \"PDF\", Type=1 \"XPS\"\n",
    "ws.ExportAsFixedFormat(Type=0, Filename=pdf_file)    \n",
    "\n",
    "wb.application.displayalerts = False  # This stops the popup asking for a save\n",
    "wb.Close()\n",
    "\n",
    "excel.Quit()"
   ]
  }
 ],
 "metadata": {
  "kernelspec": {
   "display_name": "data-gatherer-venv",
   "language": "python",
   "name": "python3"
  },
  "language_info": {
   "codemirror_mode": {
    "name": "ipython",
    "version": 3
   },
   "file_extension": ".py",
   "mimetype": "text/x-python",
   "name": "python",
   "nbconvert_exporter": "python",
   "pygments_lexer": "ipython3",
   "version": "3.10.8"
  },
  "orig_nbformat": 4
 },
 "nbformat": 4,
 "nbformat_minor": 2
}
