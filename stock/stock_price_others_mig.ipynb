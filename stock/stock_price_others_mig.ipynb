{
 "cells": [
  {
   "attachments": {},
   "cell_type": "markdown",
   "metadata": {},
   "source": [
    "## 주식 가격 (동종사)"
   ]
  },
  {
   "attachments": {},
   "cell_type": "markdown",
   "metadata": {},
   "source": [
    "### 과거 데이터 일괄로 가져와서 저장"
   ]
  },
  {
   "cell_type": "code",
   "execution_count": 17,
   "metadata": {},
   "outputs": [],
   "source": [
    "# 동종사 코드\n",
    "stock_codes = [\n",
    "    '004690',   # 삼천리\n",
    "    '017390',   # 서울도시가스\n",
    "    '034590',   # 인천도시가스\n",
    "    '267290'    # 경동도시가스\n",
    "]\n",
    "\n",
    "# 과거 기간\n",
    "start_date = '20101224' # 대성에너지 주가 데이터 시작일(2010-12-24)부터 데이터 가져옴\n",
    "end_date = '20230903'   # 2023년 9월 3일까지"
   ]
  },
  {
   "cell_type": "code",
   "execution_count": 18,
   "metadata": {},
   "outputs": [
    {
     "name": "stdout",
     "output_type": "stream",
     "text": [
      "주식 종목 004690, 3129건의 데이터 저장\n",
      "주식 종목 017390, 3129건의 데이터 저장\n",
      "주식 종목 034590, 3129건의 데이터 저장\n",
      "주식 종목 267290, 1555건의 데이터 저장\n"
     ]
    }
   ],
   "source": [
    "from pykrx import stock\n",
    "import sys\n",
    "module_path = \"D:\\PythonProject\\data-gatherer\\common\"\n",
    "sys.path.append(module_path)\n",
    "import dbconnect\n",
    "\n",
    "conn = dbconnect.db_connect(\"DEMO_DW\")\n",
    "cur = conn.cursor()\n",
    "\n",
    "for stock_code in stock_codes:\n",
    "    # 특정기간 특정 종목의 OHLCV\n",
    "    ohlcv = stock.get_market_ohlcv(start_date, end_date, stock_code)\n",
    "    df_ohlcv = ohlcv.reset_index()\n",
    "    # 날짜 형식 변환 => 문자열 yyyymmdd\n",
    "    df_ohlcv['날짜'] = df_ohlcv['날짜'].astype('str')\n",
    "    df_ohlcv['날짜'] = df_ohlcv['날짜'].str.replace('-', '')\n",
    "    print(f'주식 종목 {stock_code}, {df_ohlcv.shape[0]}건의 데이터 저장')\n",
    "    for row in df_ohlcv.itertuples():\n",
    "        sql = \"insert into stock_price (stock_code, tr_date, open, high, low, close, volume, tr_amount, fluctuation_rate) \\\n",
    "                                values (%s, %s, %s, %s, %s, %s, %s, %s, %s)\"\n",
    "        cur.execute(sql, (stock_code, row[1], row[2], row[3], row[4], row[5], row[6], row[7], round(row[8],2)))\n",
    "    conn.commit()\n",
    "\n",
    "conn.close()"
   ]
  }
 ],
 "metadata": {
  "kernelspec": {
   "display_name": "data-gatherer-venv",
   "language": "python",
   "name": "python3"
  },
  "language_info": {
   "codemirror_mode": {
    "name": "ipython",
    "version": 3
   },
   "file_extension": ".py",
   "mimetype": "text/x-python",
   "name": "python",
   "nbconvert_exporter": "python",
   "pygments_lexer": "ipython3",
   "version": "3.10.8"
  },
  "orig_nbformat": 4
 },
 "nbformat": 4,
 "nbformat_minor": 2
}
