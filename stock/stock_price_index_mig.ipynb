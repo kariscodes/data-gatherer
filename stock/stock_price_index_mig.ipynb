{
 "cells": [
  {
   "attachments": {},
   "cell_type": "markdown",
   "metadata": {},
   "source": [
    "## 주식 가격 (KOSPI 지수)"
   ]
  },
  {
   "attachments": {},
   "cell_type": "markdown",
   "metadata": {},
   "source": [
    "### 과거 데이터 일괄로 가져와서 저장"
   ]
  },
  {
   "cell_type": "code",
   "execution_count": 5,
   "metadata": {},
   "outputs": [],
   "source": [
    "# 네이버 금융\n",
    "import FinanceDataReader as fdr\n",
    "\n",
    "index_code = 'KS11'     # KOSPI\n",
    "# start_date = '2010-12-24'       # 20101224\n",
    "# end_date = '2023-09-03'\n",
    "start_date = '2023-09-04'       # 20101224\n",
    "end_date = '2023-09-07'\n",
    "\n",
    "idx_price = fdr.DataReader(index_code, start=start_date, end=end_date)\n",
    "# print(idx_price.head())\n",
    "# print(idx_price.tail())"
   ]
  },
  {
   "cell_type": "code",
   "execution_count": 6,
   "metadata": {},
   "outputs": [
    {
     "data": {
      "text/plain": [
       "(3, 7)"
      ]
     },
     "execution_count": 6,
     "metadata": {},
     "output_type": "execute_result"
    }
   ],
   "source": [
    "df_idx_price = idx_price.reset_index()\n",
    "df_idx_price.shape"
   ]
  },
  {
   "cell_type": "code",
   "execution_count": 7,
   "metadata": {},
   "outputs": [
    {
     "data": {
      "text/plain": [
       "Date         0\n",
       "Open         0\n",
       "High         0\n",
       "Low          0\n",
       "Close        0\n",
       "Adj Close    0\n",
       "Volume       0\n",
       "dtype: int64"
      ]
     },
     "execution_count": 7,
     "metadata": {},
     "output_type": "execute_result"
    }
   ],
   "source": [
    "# 결측치 데이터 개수 확인 (by 컬럼)\n",
    "df_idx_price.isnull().sum()"
   ]
  },
  {
   "cell_type": "code",
   "execution_count": 8,
   "metadata": {},
   "outputs": [
    {
     "data": {
      "text/html": [
       "<div>\n",
       "<style scoped>\n",
       "    .dataframe tbody tr th:only-of-type {\n",
       "        vertical-align: middle;\n",
       "    }\n",
       "\n",
       "    .dataframe tbody tr th {\n",
       "        vertical-align: top;\n",
       "    }\n",
       "\n",
       "    .dataframe thead th {\n",
       "        text-align: right;\n",
       "    }\n",
       "</style>\n",
       "<table border=\"1\" class=\"dataframe\">\n",
       "  <thead>\n",
       "    <tr style=\"text-align: right;\">\n",
       "      <th></th>\n",
       "      <th>Date</th>\n",
       "      <th>Open</th>\n",
       "      <th>High</th>\n",
       "      <th>Low</th>\n",
       "      <th>Close</th>\n",
       "      <th>Adj Close</th>\n",
       "      <th>Volume</th>\n",
       "    </tr>\n",
       "  </thead>\n",
       "  <tbody>\n",
       "  </tbody>\n",
       "</table>\n",
       "</div>"
      ],
      "text/plain": [
       "Empty DataFrame\n",
       "Columns: [Date, Open, High, Low, Close, Adj Close, Volume]\n",
       "Index: []"
      ]
     },
     "execution_count": 8,
     "metadata": {},
     "output_type": "execute_result"
    }
   ],
   "source": [
    "# 종가 데이터의 결측치 확인\n",
    "df_idx_price[df_idx_price['Close'].isnull()]"
   ]
  },
  {
   "cell_type": "code",
   "execution_count": 9,
   "metadata": {},
   "outputs": [],
   "source": [
    "# 종가 데이터의 결측치 데이터 행 삭제\n",
    "df_idx_price.dropna(subset = ['Close'], inplace=True)"
   ]
  },
  {
   "cell_type": "code",
   "execution_count": 10,
   "metadata": {},
   "outputs": [
    {
     "data": {
      "text/plain": [
       "(3, 7)"
      ]
     },
     "execution_count": 10,
     "metadata": {},
     "output_type": "execute_result"
    }
   ],
   "source": [
    "df_idx_price.shape"
   ]
  },
  {
   "cell_type": "code",
   "execution_count": 11,
   "metadata": {},
   "outputs": [
    {
     "name": "stdout",
     "output_type": "stream",
     "text": [
      "KS11, 3건의 데이터를 저장합니다.\n",
      "KS11, 3건의 데이터 저장 완료!\n"
     ]
    }
   ],
   "source": [
    "import sys\n",
    "module_path = \"D:\\PythonProject\\data-gatherer\\common\"\n",
    "sys.path.append(module_path)\n",
    "import dbconnect\n",
    "\n",
    "conn = dbconnect.db_connect(\"DEMO_DW\")\n",
    "cur = conn.cursor()\n",
    "\n",
    "# Date 형식 변환 => 문자열 yyyymmdd\n",
    "df_idx_price['Date'] = df_idx_price['Date'].astype('str')\n",
    "df_idx_price['Date'] = df_idx_price['Date'].str.replace('-', '')\n",
    "print(f'{index_code}, {df_idx_price.shape[0]}건의 데이터를 저장합니다.')\n",
    "# 수정종가(Adj. Close) 저장하지 않음. \n",
    "for row in df_idx_price.itertuples():\n",
    "    sql = \"insert into stock_price (stock_code, tr_date, open, high, low, close, volume) \\\n",
    "                            values (%s, %s, %s, %s, %s, %s, %s)\"\n",
    "    cur.execute(sql, (index_code, row[1], row[2], row[3], row[4], row[5], row[7]))\n",
    "conn.commit()\n",
    "print(f'{index_code}, {df_idx_price.shape[0]}건의 데이터 저장 완료!')\n",
    "conn.close()"
   ]
  }
 ],
 "metadata": {
  "kernelspec": {
   "display_name": "data-gatherer-venv",
   "language": "python",
   "name": "python3"
  },
  "language_info": {
   "codemirror_mode": {
    "name": "ipython",
    "version": 3
   },
   "file_extension": ".py",
   "mimetype": "text/x-python",
   "name": "python",
   "nbconvert_exporter": "python",
   "pygments_lexer": "ipython3",
   "version": "3.10.8"
  },
  "orig_nbformat": 4
 },
 "nbformat": 4,
 "nbformat_minor": 2
}
