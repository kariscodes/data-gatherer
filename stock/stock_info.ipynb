{
 "cells": [
  {
   "attachments": {},
   "cell_type": "markdown",
   "metadata": {},
   "source": [
    "### 주식 정보 Crawling (from 네이버 금융)\n",
    "- Ref. https://bigdata-doctrine.tistory.com/3"
   ]
  },
  {
   "cell_type": "code",
   "execution_count": 1,
   "metadata": {},
   "outputs": [],
   "source": [
    "# 수집할 증권 데이터의 셀렉터\n",
    "per_selector = \"#_per\"\n",
    "pbr_selector = \"#_pbr\"\n",
    "eps_selector = \"#_eps\"\n",
    "dividend_selector = \"#_dvr\"\n",
    "\n",
    "per_list = []\n",
    "pbr_list = []\n",
    "eps_list = []\n",
    "dividend_list = []\n",
    "\n",
    "# 수집할 주식 종목 리스트\n",
    "ticker_list = ['267290', '117580', '004690', '017390', '034590']"
   ]
  },
  {
   "cell_type": "code",
   "execution_count": 2,
   "metadata": {},
   "outputs": [],
   "source": [
    "# 크롤링을 사용하여 증권 데이터 수집하기\n",
    "\n",
    "import requests\n",
    "from bs4 import BeautifulSoup\n",
    "\n",
    "# ticker = \"005930\"\n",
    "for ticker in ticker_list:\n",
    "    url = f\"https://finance.naver.com/item/main.naver?code={ticker}\"\n",
    "    # headers={'User-agent':'Mozilla/5.0'}\n",
    "    # 수집하는 주체가 봇이 아닌 유저임을 알리기 위함.\n",
    "    # 이 코드를 삽입하지 않을 경우 봇으로 인지해 크롤링을 할 수 없습니다\n",
    "    html = requests.get(url, headers={'User-agent':'Mozilla/5.0'})  \n",
    "    soup = BeautifulSoup(html.text, \"lxml\")\n",
    "\n",
    "    per = soup.select(per_selector)\n",
    "    pbr = soup.select(pbr_selector)\n",
    "    eps = soup.select(eps_selector)\n",
    "    dividend = soup.select(dividend_selector)\n",
    "\n",
    "    if not per:  # 리스트가 비어있을 경우 None으로 변환\n",
    "        per = [None]\n",
    "    for pe in per:\n",
    "        if pe != None:\n",
    "            per_text = pe.text\n",
    "            per_text = per_text.replace(\",\", \"\")  # float변환을 위해 따옴표 제거\n",
    "            per_list.append(float(per_text))\n",
    "        else:\n",
    "            per_text = pe\n",
    "            per_list.append(per_text)\n",
    "\n",
    "    if not pbr:  # 리스트가 비어있을 경우 None으로 변환\n",
    "        pbr = [None]\n",
    "    for pb in pbr:\n",
    "        if pb != None:\n",
    "            pbr_text = pb.text\n",
    "            pbr_text = pbr_text.replace(\",\", \"\")  # float변환을 위해 따옴표 제거\n",
    "            pbr_list.append(float(pbr_text))\n",
    "        else:\n",
    "            pbr_text = pb\n",
    "            pbr_list.append(pbr_text)\n",
    "            \n",
    "    if not eps:  # 리스트가 비어있을 경우 None으로 변환\n",
    "        eps = [None]\n",
    "    for e in eps:\n",
    "        if e != None:\n",
    "            eps_text = e.text\n",
    "            eps_text = eps_text.replace(\",\", \"\")  # float변환을 위해 따옴표 제거\n",
    "            eps_list.append(float(eps_text))\n",
    "        else:\n",
    "            eps_text = e\n",
    "            eps_list.append(eps_text)            \n",
    "        \n",
    "    if not dividend:  # 리스트가 비어있을 경우 None으로 변환\n",
    "        dividend = [None]\n",
    "    for d in dividend:\n",
    "        if d != None:\n",
    "            dividend_text = d.text\n",
    "            dividend_text = dividend_text.replace(\",\", \"\")  # float변환을 위해 따옴표 제거\n",
    "            dividend_list.append(float(dividend_text))\n",
    "        else:\n",
    "            dividend_text = d\n",
    "            dividend_list.append(dividend_text)"
   ]
  },
  {
   "cell_type": "code",
   "execution_count": 3,
   "metadata": {},
   "outputs": [
    {
     "data": {
      "text/plain": [
       "(['267290', '117580', '004690', '017390', '034590'],\n",
       " [4.73, 125.32, 5.74, 23.16, 9.4],\n",
       " [0.29, 0.66, 0.25, 0.25, 0.53],\n",
       " [4153.0, 62.0, 18490.0, 2941.0, 2734.0],\n",
       " [4.45, 3.22, 2.83, 2.57, 4.86])"
      ]
     },
     "execution_count": 3,
     "metadata": {},
     "output_type": "execute_result"
    }
   ],
   "source": [
    "ticker_list, per_list, pbr_list, eps_list, dividend_list"
   ]
  },
  {
   "cell_type": "code",
   "execution_count": 4,
   "metadata": {},
   "outputs": [],
   "source": [
    "from pykrx import stock\n",
    "\n",
    "stock_names = []\n",
    "for ticker in ticker_list:\n",
    "    stock_names.append(stock.get_market_ticker_name(ticker))"
   ]
  },
  {
   "cell_type": "code",
   "execution_count": 5,
   "metadata": {},
   "outputs": [
    {
     "data": {
      "text/plain": [
       "['경동도시가스', '대성에너지', '삼천리', '서울가스', '인천도시가스']"
      ]
     },
     "execution_count": 5,
     "metadata": {},
     "output_type": "execute_result"
    }
   ],
   "source": [
    "stock_names"
   ]
  },
  {
   "cell_type": "code",
   "execution_count": 6,
   "metadata": {},
   "outputs": [
    {
     "data": {
      "text/html": [
       "<div>\n",
       "<style scoped>\n",
       "    .dataframe tbody tr th:only-of-type {\n",
       "        vertical-align: middle;\n",
       "    }\n",
       "\n",
       "    .dataframe tbody tr th {\n",
       "        vertical-align: top;\n",
       "    }\n",
       "\n",
       "    .dataframe thead th {\n",
       "        text-align: right;\n",
       "    }\n",
       "</style>\n",
       "<table border=\"1\" class=\"dataframe\">\n",
       "  <thead>\n",
       "    <tr style=\"text-align: right;\">\n",
       "      <th></th>\n",
       "      <th>Ticker</th>\n",
       "      <th>Stock Name</th>\n",
       "      <th>PER</th>\n",
       "      <th>PBR</th>\n",
       "      <th>EPS</th>\n",
       "      <th>Dividend</th>\n",
       "    </tr>\n",
       "  </thead>\n",
       "  <tbody>\n",
       "    <tr>\n",
       "      <th>0</th>\n",
       "      <td>267290</td>\n",
       "      <td>경동도시가스</td>\n",
       "      <td>4.73</td>\n",
       "      <td>0.29</td>\n",
       "      <td>4153.0</td>\n",
       "      <td>4.45</td>\n",
       "    </tr>\n",
       "    <tr>\n",
       "      <th>1</th>\n",
       "      <td>117580</td>\n",
       "      <td>대성에너지</td>\n",
       "      <td>125.32</td>\n",
       "      <td>0.66</td>\n",
       "      <td>62.0</td>\n",
       "      <td>3.22</td>\n",
       "    </tr>\n",
       "    <tr>\n",
       "      <th>2</th>\n",
       "      <td>004690</td>\n",
       "      <td>삼천리</td>\n",
       "      <td>5.74</td>\n",
       "      <td>0.25</td>\n",
       "      <td>18490.0</td>\n",
       "      <td>2.83</td>\n",
       "    </tr>\n",
       "    <tr>\n",
       "      <th>3</th>\n",
       "      <td>017390</td>\n",
       "      <td>서울가스</td>\n",
       "      <td>23.16</td>\n",
       "      <td>0.25</td>\n",
       "      <td>2941.0</td>\n",
       "      <td>2.57</td>\n",
       "    </tr>\n",
       "    <tr>\n",
       "      <th>4</th>\n",
       "      <td>034590</td>\n",
       "      <td>인천도시가스</td>\n",
       "      <td>9.40</td>\n",
       "      <td>0.53</td>\n",
       "      <td>2734.0</td>\n",
       "      <td>4.86</td>\n",
       "    </tr>\n",
       "  </tbody>\n",
       "</table>\n",
       "</div>"
      ],
      "text/plain": [
       "   Ticker Stock Name     PER   PBR      EPS  Dividend\n",
       "0  267290     경동도시가스    4.73  0.29   4153.0      4.45\n",
       "1  117580      대성에너지  125.32  0.66     62.0      3.22\n",
       "2  004690        삼천리    5.74  0.25  18490.0      2.83\n",
       "3  017390       서울가스   23.16  0.25   2941.0      2.57\n",
       "4  034590     인천도시가스    9.40  0.53   2734.0      4.86"
      ]
     },
     "execution_count": 6,
     "metadata": {},
     "output_type": "execute_result"
    }
   ],
   "source": [
    "import pandas as pd\n",
    "\n",
    "# 복수의 리스트를 하나의 데이터프레임으로 병합\n",
    "# df_stock = pd.DataFrame(zip(ticker_list, stock_names, pers, pbrs, dividend_yields))\n",
    "# df_stock.columns = ['Ticker', 'Stock Name', 'PER', 'PBR', 'Dividend Yield']\n",
    "df_stock = pd.DataFrame({'Ticker' : ticker_list, 'Stock Name' : stock_names, 'PER' : per_list, 'PBR' : pbr_list, 'EPS' : eps_list, 'Dividend' : dividend_list})\n",
    "df_stock "
   ]
  }
 ],
 "metadata": {
  "kernelspec": {
   "display_name": "data-gatherer-venv",
   "language": "python",
   "name": "python3"
  },
  "language_info": {
   "codemirror_mode": {
    "name": "ipython",
    "version": 3
   },
   "file_extension": ".py",
   "mimetype": "text/x-python",
   "name": "python",
   "nbconvert_exporter": "python",
   "pygments_lexer": "ipython3",
   "version": "3.10.8"
  },
  "orig_nbformat": 4
 },
 "nbformat": 4,
 "nbformat_minor": 2
}
