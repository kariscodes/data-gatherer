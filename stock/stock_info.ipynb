{
 "cells": [
  {
   "attachments": {},
   "cell_type": "markdown",
   "metadata": {},
   "source": [
    "### 주식 정보 Crawling (from 네이버 금융)\n",
    "- Ref. https://bigdata-doctrine.tistory.com/3"
   ]
  },
  {
   "cell_type": "code",
   "execution_count": 63,
   "metadata": {},
   "outputs": [],
   "source": [
    "# 수집할 증권 데이터의 셀렉터\n",
    "per_selector = \"#_per\"\n",
    "pbr_selector = \"#_pbr\"\n",
    "eps_selector = \"#_eps\"\n",
    "dividend_selector = \"#_dvr\"\n",
    "\n",
    "per_list = []\n",
    "pbr_list = []\n",
    "eps_list = []\n",
    "dividend_list = []\n",
    "\n",
    "# 수집할 주식 종목 리스트\n",
    "ticker_list = ['267290', '117580', '004690', '017390', '034590']"
   ]
  },
  {
   "cell_type": "code",
   "execution_count": 64,
   "metadata": {},
   "outputs": [
    {
     "data": {
      "text/plain": [
       "(['267290', '117580', '004690', '017390', '034590'], [], [], [], [])"
      ]
     },
     "execution_count": 64,
     "metadata": {},
     "output_type": "execute_result"
    }
   ],
   "source": [
    "ticker_list, per_list, pbr_list, eps_list, dividend_list"
   ]
  },
  {
   "cell_type": "code",
   "execution_count": 65,
   "metadata": {},
   "outputs": [],
   "source": [
    "# 크롤링을 사용하여 증권 데이터 수집하기\n",
    "\n",
    "import requests\n",
    "from bs4 import BeautifulSoup\n",
    "\n",
    "# ticker = \"005930\"\n",
    "for ticker in ticker_list:\n",
    "    url = f\"https://finance.naver.com/item/main.naver?code={ticker}\"\n",
    "    # headers={'User-agent':'Mozilla/5.0'}\n",
    "    # 수집하는 주체가 봇이 아닌 유저임을 알리기 위함.\n",
    "    # 이 코드를 삽입하지 않을 경우 봇으로 인지해 크롤링을 할 수 없습니다\n",
    "    html = requests.get(url, headers={'User-agent':'Mozilla/5.0'})  \n",
    "    soup = BeautifulSoup(html.text, \"lxml\")\n",
    "\n",
    "    per = soup.select(per_selector)\n",
    "    pbr = soup.select(pbr_selector)\n",
    "    eps = soup.select(eps_selector)\n",
    "    dividend = soup.select(dividend_selector)\n",
    "\n",
    "    if not per:  # 리스트가 비어있을 경우 None으로 변환\n",
    "        per = [None]\n",
    "    for pe in per:\n",
    "        if pe != None:\n",
    "            per_text = pe.text\n",
    "            per_text = per_text.replace(\",\", \"\")  # float변환을 위해 따옴표 제거\n",
    "            per_list.append(float(per_text))\n",
    "        else:\n",
    "            per_text = pe\n",
    "            per_list.append(per_text)\n",
    "\n",
    "    if not pbr:  # 리스트가 비어있을 경우 None으로 변환\n",
    "        pbr = [None]\n",
    "    for pb in pbr:\n",
    "        if pb != None:\n",
    "            pbr_text = pb.text\n",
    "            pbr_text = pbr_text.replace(\",\", \"\")  # float변환을 위해 따옴표 제거\n",
    "            pbr_list.append(float(pbr_text))\n",
    "        else:\n",
    "            pbr_text = pb\n",
    "            pbr_list.append(pbr_text)\n",
    "            \n",
    "    if not eps:  # 리스트가 비어있을 경우 None으로 변환\n",
    "        eps = [None]\n",
    "    for e in eps:\n",
    "        if e != None:\n",
    "            eps_text = e.text\n",
    "            eps_text = eps_text.replace(\",\", \"\")  # float변환을 위해 따옴표 제거\n",
    "            eps_list.append(float(eps_text))\n",
    "        else:\n",
    "            eps_text = e\n",
    "            eps_list.append(eps_text)            \n",
    "        \n",
    "    if not dividend:  # 리스트가 비어있을 경우 None으로 변환\n",
    "        dividend = [None]\n",
    "    for d in dividend:\n",
    "        if d != None:\n",
    "            dividend_text = d.text\n",
    "            dividend_text = dividend_text.replace(\",\", \"\")  # float변환을 위해 따옴표 제거\n",
    "            dividend_list.append(float(dividend_text))\n",
    "        else:\n",
    "            dividend_text = d\n",
    "            dividend_list.append(dividend_text)"
   ]
  },
  {
   "cell_type": "code",
   "execution_count": 66,
   "metadata": {},
   "outputs": [
    {
     "data": {
      "text/plain": [
       "(['267290', '117580', '004690', '017390', '034590'],\n",
       " [4.96, 134.84, 5.82, 23.02, 9.49],\n",
       " [0.3, 0.71, 0.25, 0.25, 0.53],\n",
       " [4153.0, 62.0, 18490.0, 2941.0, 2734.0],\n",
       " [4.25, 2.99, 2.79, 2.59, 4.82])"
      ]
     },
     "execution_count": 66,
     "metadata": {},
     "output_type": "execute_result"
    }
   ],
   "source": [
    "ticker_list, per_list, pbr_list, eps_list, dividend_list"
   ]
  },
  {
   "cell_type": "code",
   "execution_count": 67,
   "metadata": {},
   "outputs": [],
   "source": [
    "from pykrx import stock\n",
    "\n",
    "stock_names = []\n",
    "for ticker in ticker_list:\n",
    "    stock_names.append(stock.get_market_ticker_name(ticker))"
   ]
  },
  {
   "cell_type": "code",
   "execution_count": 68,
   "metadata": {},
   "outputs": [
    {
     "data": {
      "text/plain": [
       "['경동도시가스', '대성에너지', '삼천리', '서울가스', '인천도시가스']"
      ]
     },
     "execution_count": 68,
     "metadata": {},
     "output_type": "execute_result"
    }
   ],
   "source": [
    "stock_names"
   ]
  },
  {
   "cell_type": "code",
   "execution_count": 74,
   "metadata": {},
   "outputs": [
    {
     "data": {
      "text/html": [
       "<div>\n",
       "<style scoped>\n",
       "    .dataframe tbody tr th:only-of-type {\n",
       "        vertical-align: middle;\n",
       "    }\n",
       "\n",
       "    .dataframe tbody tr th {\n",
       "        vertical-align: top;\n",
       "    }\n",
       "\n",
       "    .dataframe thead th {\n",
       "        text-align: right;\n",
       "    }\n",
       "</style>\n",
       "<table border=\"1\" class=\"dataframe\">\n",
       "  <thead>\n",
       "    <tr style=\"text-align: right;\">\n",
       "      <th></th>\n",
       "      <th>Ticker</th>\n",
       "      <th>Stock Name</th>\n",
       "      <th>PER</th>\n",
       "      <th>PBR</th>\n",
       "      <th>EPS</th>\n",
       "      <th>Dividend</th>\n",
       "    </tr>\n",
       "  </thead>\n",
       "  <tbody>\n",
       "    <tr>\n",
       "      <th>0</th>\n",
       "      <td>267290</td>\n",
       "      <td>경동도시가스</td>\n",
       "      <td>4.96</td>\n",
       "      <td>0.30</td>\n",
       "      <td>4153.0</td>\n",
       "      <td>4.25</td>\n",
       "    </tr>\n",
       "    <tr>\n",
       "      <th>1</th>\n",
       "      <td>117580</td>\n",
       "      <td>대성에너지</td>\n",
       "      <td>134.84</td>\n",
       "      <td>0.71</td>\n",
       "      <td>62.0</td>\n",
       "      <td>2.99</td>\n",
       "    </tr>\n",
       "    <tr>\n",
       "      <th>2</th>\n",
       "      <td>004690</td>\n",
       "      <td>삼천리</td>\n",
       "      <td>5.82</td>\n",
       "      <td>0.25</td>\n",
       "      <td>18490.0</td>\n",
       "      <td>2.79</td>\n",
       "    </tr>\n",
       "    <tr>\n",
       "      <th>3</th>\n",
       "      <td>017390</td>\n",
       "      <td>서울가스</td>\n",
       "      <td>23.02</td>\n",
       "      <td>0.25</td>\n",
       "      <td>2941.0</td>\n",
       "      <td>2.59</td>\n",
       "    </tr>\n",
       "    <tr>\n",
       "      <th>4</th>\n",
       "      <td>034590</td>\n",
       "      <td>인천도시가스</td>\n",
       "      <td>9.49</td>\n",
       "      <td>0.53</td>\n",
       "      <td>2734.0</td>\n",
       "      <td>4.82</td>\n",
       "    </tr>\n",
       "  </tbody>\n",
       "</table>\n",
       "</div>"
      ],
      "text/plain": [
       "   Ticker Stock Name     PER   PBR      EPS  Dividend\n",
       "0  267290     경동도시가스    4.96  0.30   4153.0      4.25\n",
       "1  117580      대성에너지  134.84  0.71     62.0      2.99\n",
       "2  004690        삼천리    5.82  0.25  18490.0      2.79\n",
       "3  017390       서울가스   23.02  0.25   2941.0      2.59\n",
       "4  034590     인천도시가스    9.49  0.53   2734.0      4.82"
      ]
     },
     "execution_count": 74,
     "metadata": {},
     "output_type": "execute_result"
    }
   ],
   "source": [
    "import pandas as pd\n",
    "\n",
    "# 복수의 리스트를 하나의 데이터프레임으로 병합\n",
    "# df_stock = pd.DataFrame(zip(ticker_list, stock_names, pers, pbrs, dividend_yields))\n",
    "# df_stock.columns = ['Ticker', 'Stock Name', 'PER', 'PBR', 'Dividend Yield']\n",
    "df_stock = pd.DataFrame({'Ticker' : ticker_list, 'Stock Name' : stock_names, 'PER' : per_list, 'PBR' : pbr_list, 'EPS' : eps_list, 'Dividend' : dividend_list})\n",
    "df_stock "
   ]
  }
 ],
 "metadata": {
  "kernelspec": {
   "display_name": "data-gatherer-venv",
   "language": "python",
   "name": "python3"
  },
  "language_info": {
   "codemirror_mode": {
    "name": "ipython",
    "version": 3
   },
   "file_extension": ".py",
   "mimetype": "text/x-python",
   "name": "python",
   "nbconvert_exporter": "python",
   "pygments_lexer": "ipython3",
   "version": "3.10.8"
  },
  "orig_nbformat": 4
 },
 "nbformat": 4,
 "nbformat_minor": 2
}
