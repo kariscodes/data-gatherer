{
 "cells": [
  {
   "attachments": {},
   "cell_type": "markdown",
   "metadata": {},
   "source": [
    "## 주식 가격 수집 및 저장 (대성에너지)\n",
    "+ 저장된 데이터 마지막 일자의 다음날부터 현재일 기준 직전일까지 데이터를 일괄로 가져와서 저장\n",
    "+ 작성: 임경호"
   ]
  },
  {
   "cell_type": "markdown",
   "metadata": {},
   "source": [
    "#### 0. 데이터를 가져올 날짜 설정"
   ]
  },
  {
   "cell_type": "code",
   "execution_count": 1,
   "metadata": {},
   "outputs": [],
   "source": [
    "import sys\n",
    "module_path = \"D:\\PythonProject\\data-gatherer\\common\"\n",
    "sys.path.append(module_path)\n",
    "import dbconnect\n",
    "import myutil\n",
    "\n",
    "stock_code = '117580'   # 대성에너지 stock code\n",
    "\n",
    "conn = dbconnect.db_connect(\"DEMO_DW\")\n",
    "cur = conn.cursor()\n",
    "\n",
    "query = f'SELECT tr_date FROM stock_price where stock_code = {stock_code} ORDER BY tr_date DESC LIMIT 1'\n",
    "cur.execute(query)\n",
    "\n",
    "row = cur.fetchone()\n",
    "last_date = row[0]     # 저장된 데이터의 마지막 일자\n",
    "\n",
    "conn.close()\n",
    "\n",
    "start_date = myutil.get_next_day(last_date)\n",
    "end_date = myutil.get_previous_day()"
   ]
  },
  {
   "cell_type": "code",
   "execution_count": 2,
   "metadata": {},
   "outputs": [
    {
     "data": {
      "text/plain": [
       "('117580', '20230901', '20230902', '20230907')"
      ]
     },
     "execution_count": 2,
     "metadata": {},
     "output_type": "execute_result"
    }
   ],
   "source": [
    "stock_code, last_date, start_date, end_date"
   ]
  },
  {
   "attachments": {},
   "cell_type": "markdown",
   "metadata": {},
   "source": [
    "#### 1. 주가 데이터 가져오기"
   ]
  },
  {
   "cell_type": "code",
   "execution_count": 3,
   "metadata": {},
   "outputs": [],
   "source": [
    "from pykrx import stock\n",
    "\n",
    "# 특정기간 특정 종목의 OHLCV\n",
    "ohlcv = stock.get_market_ohlcv(start_date, end_date, stock_code)"
   ]
  },
  {
   "cell_type": "code",
   "execution_count": 4,
   "metadata": {},
   "outputs": [
    {
     "data": {
      "text/plain": [
       "(4, 7)"
      ]
     },
     "execution_count": 4,
     "metadata": {},
     "output_type": "execute_result"
    }
   ],
   "source": [
    "ohlcv.shape"
   ]
  },
  {
   "cell_type": "code",
   "execution_count": 5,
   "metadata": {},
   "outputs": [
    {
     "data": {
      "text/html": [
       "<div>\n",
       "<style scoped>\n",
       "    .dataframe tbody tr th:only-of-type {\n",
       "        vertical-align: middle;\n",
       "    }\n",
       "\n",
       "    .dataframe tbody tr th {\n",
       "        vertical-align: top;\n",
       "    }\n",
       "\n",
       "    .dataframe thead th {\n",
       "        text-align: right;\n",
       "    }\n",
       "</style>\n",
       "<table border=\"1\" class=\"dataframe\">\n",
       "  <thead>\n",
       "    <tr style=\"text-align: right;\">\n",
       "      <th></th>\n",
       "      <th>시가</th>\n",
       "      <th>고가</th>\n",
       "      <th>저가</th>\n",
       "      <th>종가</th>\n",
       "      <th>거래량</th>\n",
       "      <th>거래대금</th>\n",
       "      <th>등락률</th>\n",
       "    </tr>\n",
       "    <tr>\n",
       "      <th>날짜</th>\n",
       "      <th></th>\n",
       "      <th></th>\n",
       "      <th></th>\n",
       "      <th></th>\n",
       "      <th></th>\n",
       "      <th></th>\n",
       "      <th></th>\n",
       "    </tr>\n",
       "  </thead>\n",
       "  <tbody>\n",
       "    <tr>\n",
       "      <th>2023-09-04</th>\n",
       "      <td>7090</td>\n",
       "      <td>7280</td>\n",
       "      <td>7090</td>\n",
       "      <td>7180</td>\n",
       "      <td>40489</td>\n",
       "      <td>290737810</td>\n",
       "      <td>0.28</td>\n",
       "    </tr>\n",
       "    <tr>\n",
       "      <th>2023-09-05</th>\n",
       "      <td>7120</td>\n",
       "      <td>7260</td>\n",
       "      <td>7120</td>\n",
       "      <td>7170</td>\n",
       "      <td>25627</td>\n",
       "      <td>183971070</td>\n",
       "      <td>-0.14</td>\n",
       "    </tr>\n",
       "    <tr>\n",
       "      <th>2023-09-06</th>\n",
       "      <td>7460</td>\n",
       "      <td>7640</td>\n",
       "      <td>7230</td>\n",
       "      <td>7230</td>\n",
       "      <td>193029</td>\n",
       "      <td>1425395400</td>\n",
       "      <td>0.84</td>\n",
       "    </tr>\n",
       "    <tr>\n",
       "      <th>2023-09-07</th>\n",
       "      <td>7260</td>\n",
       "      <td>7580</td>\n",
       "      <td>7150</td>\n",
       "      <td>7500</td>\n",
       "      <td>294428</td>\n",
       "      <td>2201411510</td>\n",
       "      <td>3.73</td>\n",
       "    </tr>\n",
       "  </tbody>\n",
       "</table>\n",
       "</div>"
      ],
      "text/plain": [
       "              시가    고가    저가    종가     거래량        거래대금   등락률\n",
       "날짜                                                          \n",
       "2023-09-04  7090  7280  7090  7180   40489   290737810  0.28\n",
       "2023-09-05  7120  7260  7120  7170   25627   183971070 -0.14\n",
       "2023-09-06  7460  7640  7230  7230  193029  1425395400  0.84\n",
       "2023-09-07  7260  7580  7150  7500  294428  2201411510  3.73"
      ]
     },
     "execution_count": 5,
     "metadata": {},
     "output_type": "execute_result"
    }
   ],
   "source": [
    "ohlcv"
   ]
  },
  {
   "attachments": {},
   "cell_type": "markdown",
   "metadata": {},
   "source": [
    "#### 2. 데이터 변환 및 전처리"
   ]
  },
  {
   "cell_type": "code",
   "execution_count": 6,
   "metadata": {},
   "outputs": [
    {
     "data": {
      "text/html": [
       "<div>\n",
       "<style scoped>\n",
       "    .dataframe tbody tr th:only-of-type {\n",
       "        vertical-align: middle;\n",
       "    }\n",
       "\n",
       "    .dataframe tbody tr th {\n",
       "        vertical-align: top;\n",
       "    }\n",
       "\n",
       "    .dataframe thead th {\n",
       "        text-align: right;\n",
       "    }\n",
       "</style>\n",
       "<table border=\"1\" class=\"dataframe\">\n",
       "  <thead>\n",
       "    <tr style=\"text-align: right;\">\n",
       "      <th></th>\n",
       "      <th>날짜</th>\n",
       "      <th>시가</th>\n",
       "      <th>고가</th>\n",
       "      <th>저가</th>\n",
       "      <th>종가</th>\n",
       "      <th>거래량</th>\n",
       "      <th>거래대금</th>\n",
       "      <th>등락률</th>\n",
       "    </tr>\n",
       "  </thead>\n",
       "  <tbody>\n",
       "    <tr>\n",
       "      <th>0</th>\n",
       "      <td>2023-09-04</td>\n",
       "      <td>7090</td>\n",
       "      <td>7280</td>\n",
       "      <td>7090</td>\n",
       "      <td>7180</td>\n",
       "      <td>40489</td>\n",
       "      <td>290737810</td>\n",
       "      <td>0.28</td>\n",
       "    </tr>\n",
       "    <tr>\n",
       "      <th>1</th>\n",
       "      <td>2023-09-05</td>\n",
       "      <td>7120</td>\n",
       "      <td>7260</td>\n",
       "      <td>7120</td>\n",
       "      <td>7170</td>\n",
       "      <td>25627</td>\n",
       "      <td>183971070</td>\n",
       "      <td>-0.14</td>\n",
       "    </tr>\n",
       "    <tr>\n",
       "      <th>2</th>\n",
       "      <td>2023-09-06</td>\n",
       "      <td>7460</td>\n",
       "      <td>7640</td>\n",
       "      <td>7230</td>\n",
       "      <td>7230</td>\n",
       "      <td>193029</td>\n",
       "      <td>1425395400</td>\n",
       "      <td>0.84</td>\n",
       "    </tr>\n",
       "    <tr>\n",
       "      <th>3</th>\n",
       "      <td>2023-09-07</td>\n",
       "      <td>7260</td>\n",
       "      <td>7580</td>\n",
       "      <td>7150</td>\n",
       "      <td>7500</td>\n",
       "      <td>294428</td>\n",
       "      <td>2201411510</td>\n",
       "      <td>3.73</td>\n",
       "    </tr>\n",
       "  </tbody>\n",
       "</table>\n",
       "</div>"
      ],
      "text/plain": [
       "          날짜    시가    고가    저가    종가     거래량        거래대금   등락률\n",
       "0 2023-09-04  7090  7280  7090  7180   40489   290737810  0.28\n",
       "1 2023-09-05  7120  7260  7120  7170   25627   183971070 -0.14\n",
       "2 2023-09-06  7460  7640  7230  7230  193029  1425395400  0.84\n",
       "3 2023-09-07  7260  7580  7150  7500  294428  2201411510  3.73"
      ]
     },
     "execution_count": 6,
     "metadata": {},
     "output_type": "execute_result"
    }
   ],
   "source": [
    "df_ohlcv = ohlcv.reset_index()\n",
    "df_ohlcv"
   ]
  },
  {
   "cell_type": "code",
   "execution_count": 7,
   "metadata": {},
   "outputs": [],
   "source": [
    "# 날짜 형식 변환 => 문자열 yyyymmdd\n",
    "df_ohlcv['날짜'] = df_ohlcv['날짜'].astype('str')\n",
    "df_ohlcv['날짜'] = df_ohlcv['날짜'].str.replace('-', '')"
   ]
  },
  {
   "cell_type": "code",
   "execution_count": 8,
   "metadata": {},
   "outputs": [
    {
     "data": {
      "text/html": [
       "<div>\n",
       "<style scoped>\n",
       "    .dataframe tbody tr th:only-of-type {\n",
       "        vertical-align: middle;\n",
       "    }\n",
       "\n",
       "    .dataframe tbody tr th {\n",
       "        vertical-align: top;\n",
       "    }\n",
       "\n",
       "    .dataframe thead th {\n",
       "        text-align: right;\n",
       "    }\n",
       "</style>\n",
       "<table border=\"1\" class=\"dataframe\">\n",
       "  <thead>\n",
       "    <tr style=\"text-align: right;\">\n",
       "      <th></th>\n",
       "      <th>날짜</th>\n",
       "      <th>시가</th>\n",
       "      <th>고가</th>\n",
       "      <th>저가</th>\n",
       "      <th>종가</th>\n",
       "      <th>거래량</th>\n",
       "      <th>거래대금</th>\n",
       "      <th>등락률</th>\n",
       "    </tr>\n",
       "  </thead>\n",
       "  <tbody>\n",
       "    <tr>\n",
       "      <th>0</th>\n",
       "      <td>20230904</td>\n",
       "      <td>7090</td>\n",
       "      <td>7280</td>\n",
       "      <td>7090</td>\n",
       "      <td>7180</td>\n",
       "      <td>40489</td>\n",
       "      <td>290737810</td>\n",
       "      <td>0.28</td>\n",
       "    </tr>\n",
       "    <tr>\n",
       "      <th>1</th>\n",
       "      <td>20230905</td>\n",
       "      <td>7120</td>\n",
       "      <td>7260</td>\n",
       "      <td>7120</td>\n",
       "      <td>7170</td>\n",
       "      <td>25627</td>\n",
       "      <td>183971070</td>\n",
       "      <td>-0.14</td>\n",
       "    </tr>\n",
       "    <tr>\n",
       "      <th>2</th>\n",
       "      <td>20230906</td>\n",
       "      <td>7460</td>\n",
       "      <td>7640</td>\n",
       "      <td>7230</td>\n",
       "      <td>7230</td>\n",
       "      <td>193029</td>\n",
       "      <td>1425395400</td>\n",
       "      <td>0.84</td>\n",
       "    </tr>\n",
       "    <tr>\n",
       "      <th>3</th>\n",
       "      <td>20230907</td>\n",
       "      <td>7260</td>\n",
       "      <td>7580</td>\n",
       "      <td>7150</td>\n",
       "      <td>7500</td>\n",
       "      <td>294428</td>\n",
       "      <td>2201411510</td>\n",
       "      <td>3.73</td>\n",
       "    </tr>\n",
       "  </tbody>\n",
       "</table>\n",
       "</div>"
      ],
      "text/plain": [
       "         날짜    시가    고가    저가    종가     거래량        거래대금   등락률\n",
       "0  20230904  7090  7280  7090  7180   40489   290737810  0.28\n",
       "1  20230905  7120  7260  7120  7170   25627   183971070 -0.14\n",
       "2  20230906  7460  7640  7230  7230  193029  1425395400  0.84\n",
       "3  20230907  7260  7580  7150  7500  294428  2201411510  3.73"
      ]
     },
     "execution_count": 8,
     "metadata": {},
     "output_type": "execute_result"
    }
   ],
   "source": [
    "df_ohlcv"
   ]
  },
  {
   "attachments": {},
   "cell_type": "markdown",
   "metadata": {},
   "source": [
    "#### 3. DB 테이블에 저장"
   ]
  },
  {
   "cell_type": "code",
   "execution_count": 9,
   "metadata": {},
   "outputs": [],
   "source": [
    "conn = dbconnect.db_connect(\"DEMO_DW\")\n",
    "cur = conn.cursor()\n",
    "\n",
    "for row in df_ohlcv.itertuples():\n",
    "    sql = \"insert into stock_price (stock_code, tr_date, open, high, low, close, volume, tr_amount, fluctuation_rate) \\\n",
    "                            values (%s, %s, %s, %s, %s, %s, %s, %s, %s)\"\n",
    "    cur.execute(sql, (stock_code, row[1], row[2], row[3], row[4], row[5], row[6], row[7], round(row[8],2)))\n",
    "conn.commit()\n",
    "conn.close()"
   ]
  }
 ],
 "metadata": {
  "kernelspec": {
   "display_name": "data-gatherer-venv",
   "language": "python",
   "name": "python3"
  },
  "language_info": {
   "codemirror_mode": {
    "name": "ipython",
    "version": 3
   },
   "file_extension": ".py",
   "mimetype": "text/x-python",
   "name": "python",
   "nbconvert_exporter": "python",
   "pygments_lexer": "ipython3",
   "version": "3.10.8"
  },
  "orig_nbformat": 4
 },
 "nbformat": 4,
 "nbformat_minor": 2
}
