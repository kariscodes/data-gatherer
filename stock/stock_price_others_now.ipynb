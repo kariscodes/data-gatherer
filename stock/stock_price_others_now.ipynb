{
 "cells": [
  {
   "attachments": {},
   "cell_type": "markdown",
   "metadata": {},
   "source": [
    "## 주식 가격 (동종사)"
   ]
  },
  {
   "cell_type": "code",
   "execution_count": 17,
   "metadata": {},
   "outputs": [],
   "source": [
    "from pykrx import stock\n",
    "import sys\n",
    "module_path = \"D:\\PythonProject\\data-gatherer\\common\"\n",
    "sys.path.append(module_path)\n",
    "import dbconnect\n",
    "import myutil\n",
    "\n",
    "# 동종사 코드\n",
    "stock_codes = [\n",
    "    '004690',   # 삼천리\n",
    "    '017390',   # 서울도시가스\n",
    "    '034590',   # 인천도시가스\n",
    "    '267290'    # 경동도시가스\n",
    "]"
   ]
  },
  {
   "cell_type": "code",
   "execution_count": null,
   "metadata": {},
   "outputs": [],
   "source": [
    "conn = dbconnect.db_connect(\"DEMO_DW\")\n",
    "cur = conn.cursor()\n",
    "\n",
    "for stock_code in stock_codes:\n",
    "    # 저장된 데이터의 마지막 일자 가져오기\n",
    "    query = f'SELECT tr_date FROM stock_price where stock_code = {stock_code} ORDER BY tr_date DESC LIMIT 1'\n",
    "    cur.execute(query)\n",
    "    row = cur.fetchone()\n",
    "    last_date = row[0]     # 저장된 데이터의 마지막 일자\n",
    "    # KRX에서 데이터를 가져올 시작일과 종료일 설정\n",
    "    start_date = myutil.get_next_day(last_date)\n",
    "    end_date = myutil.get_previous_day()\n",
    "    # 특정기간 특정 종목의 OHLCV\n",
    "    ohlcv = stock.get_market_ohlcv(start_date, end_date, stock_code)\n",
    "    df_ohlcv = ohlcv.reset_index()\n",
    "    # 날짜 형식 변환 => 문자열 yyyymmdd\n",
    "    df_ohlcv['날짜'] = df_ohlcv['날짜'].astype('str')\n",
    "    df_ohlcv['날짜'] = df_ohlcv['날짜'].str.replace('-', '')\n",
    "    print(f'주식 종목 {stock_code}, {start_date}에서 {end_date}까지의 가격정보 {df_ohlcv.shape[0]}건의 데이터 저장')\n",
    "    for row in df_ohlcv.itertuples():\n",
    "        sql = \"insert into stock_price (stock_code, tr_date, open, high, low, close, volume, tr_amount, fluctuation_rate) \\\n",
    "                                values (%s, %s, %s, %s, %s, %s, %s, %s, %s)\"\n",
    "        cur.execute(sql, (stock_code, row[1], row[2], row[3], row[4], row[5], row[6], row[7], round(row[8],2)))\n",
    "    conn.commit()\n",
    "\n",
    "conn.close()"
   ]
  }
 ],
 "metadata": {
  "kernelspec": {
   "display_name": "data-gatherer-venv",
   "language": "python",
   "name": "python3"
  },
  "language_info": {
   "codemirror_mode": {
    "name": "ipython",
    "version": 3
   },
   "file_extension": ".py",
   "mimetype": "text/x-python",
   "name": "python",
   "nbconvert_exporter": "python",
   "pygments_lexer": "ipython3",
   "version": "3.10.8"
  },
  "orig_nbformat": 4
 },
 "nbformat": 4,
 "nbformat_minor": 2
}
