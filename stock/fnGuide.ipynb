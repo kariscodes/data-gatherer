{
 "cells": [
  {
   "cell_type": "markdown",
   "metadata": {},
   "source": [
    "## fnGuide - 주식 종목 정보"
   ]
  },
  {
   "cell_type": "code",
   "execution_count": 34,
   "metadata": {},
   "outputs": [],
   "source": [
    "import requests \n",
    "from bs4 import BeautifulSoup\n",
    "\n",
    "stock = 'A117580'   # 대성에너지\n",
    "url = f\"http://comp.fnguide.com/SVO2/ASP/SVD_Main.asp?pGB=1&gicode={stock}\"\n",
    "resp = requests.get(url)\n",
    "html = resp.text\n",
    "\n",
    "soup = BeautifulSoup(html, \"lxml\")      # pip install html5lib    "
   ]
  },
  {
   "cell_type": "code",
   "execution_count": 36,
   "metadata": {},
   "outputs": [],
   "source": [
    "# 시세현황 기준일자\n",
    "selector_ref_date = '#div1 > div.um_topbar.botbd_n.bmshadow > div > div.topbar_lft > span'\n",
    "# 종가/ 전일대비\n",
    "selector_close_price = '#svdMainGrid1 > table > tbody > tr.rwf > td:nth-child(2)'\n",
    "# 52주 최고가/최저가\n",
    "selector_one_year = '#svdMainGrid1 > table > tbody > tr:nth-child(2) > td:nth-child(2)'\n",
    "# 시가총액(보통주, 억원)\n",
    "selector_market_cap = '#svdMainGrid1 > table > tbody > tr:nth-child(5) > td:nth-child(2)'\n",
    "# 거래량\n",
    "selector_volume = '#svdMainGrid1 > table > tbody > tr.rwf > td.cle.r'\n",
    "# 거래대금(억원)\n",
    "selector_tr_amt = '#svdMainGrid1 > table > tbody > tr:nth-child(2) > td.cle.r'\n",
    "# 외국인 보유비중(%)\n",
    "selector_foreigner = '#svdMainGrid1 > table > tbody > tr:nth-child(3) > td.cle.r'\n",
    "\n",
    "v_ref_date = soup.select_one(selector_ref_date).get_text()\n",
    "v_close_price = soup.select_one(selector_close_price).get_text()\n",
    "v_one_year = soup.select_one(selector_one_year).get_text()\n",
    "v_market_cap = soup.select_one(selector_market_cap).get_text()\n",
    "v_volume = soup.select_one(selector_volume).get_text()\n",
    "v_tr_amt = soup.select_one(selector_tr_amt).get_text()\n",
    "v_foreigner = soup.select_one(selector_foreigner).get_text()\n"
   ]
  },
  {
   "cell_type": "code",
   "execution_count": 37,
   "metadata": {},
   "outputs": [
    {
     "data": {
      "text/plain": [
       "('[2023/07/17]', '7,800/ +10', '15,500/ 7,780', '2,145', ' 50,242', ' 4')"
      ]
     },
     "execution_count": 37,
     "metadata": {},
     "output_type": "execute_result"
    }
   ],
   "source": [
    "v_ref_date, v_close_price, v_one_year, v_market_cap, v_volume, v_tr_amt"
   ]
  },
  {
   "cell_type": "code",
   "execution_count": 45,
   "metadata": {},
   "outputs": [],
   "source": [
    "year, month, day = v_ref_date.replace('[', '').replace(']', '').split('/')"
   ]
  },
  {
   "cell_type": "code",
   "execution_count": 46,
   "metadata": {},
   "outputs": [
    {
     "data": {
      "text/plain": [
       "('2023', '07', '17')"
      ]
     },
     "execution_count": 46,
     "metadata": {},
     "output_type": "execute_result"
    }
   ],
   "source": [
    "year, month, day"
   ]
  }
 ],
 "metadata": {
  "kernelspec": {
   "display_name": "data-gatherer-venv",
   "language": "python",
   "name": "python3"
  },
  "language_info": {
   "codemirror_mode": {
    "name": "ipython",
    "version": 3
   },
   "file_extension": ".py",
   "mimetype": "text/x-python",
   "name": "python",
   "nbconvert_exporter": "python",
   "pygments_lexer": "ipython3",
   "version": "3.10.8"
  },
  "orig_nbformat": 4
 },
 "nbformat": 4,
 "nbformat_minor": 2
}
