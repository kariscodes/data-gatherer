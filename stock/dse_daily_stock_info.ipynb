{
 "cells": [
  {
   "cell_type": "markdown",
   "metadata": {},
   "source": [
    "## 대성에너지 주가 동향 Daily Report"
   ]
  },
  {
   "cell_type": "code",
   "execution_count": 23,
   "metadata": {},
   "outputs": [],
   "source": [
    "import requests \n",
    "from bs4 import BeautifulSoup\n",
    "from datetime import datetime\n",
    "from dateutil.relativedelta import relativedelta\n",
    "\n",
    "ticker = '117580'   # 대성에너지"
   ]
  },
  {
   "cell_type": "markdown",
   "metadata": {},
   "source": [
    "### 1. 주식 정보 가져오기"
   ]
  },
  {
   "cell_type": "code",
   "execution_count": 24,
   "metadata": {},
   "outputs": [],
   "source": [
    "# fnGuide 주식 정보\n",
    "url = f\"http://comp.fnguide.com/SVO2/ASP/SVD_Main.asp?pGB=1&gicode=A{ticker}\"\n",
    "resp = requests.get(url)\n",
    "\n",
    "if resp == 200:\n",
    "    soup = BeautifulSoup(resp.text, \"lxml\")\n",
    "    \n",
    "    # 시세현황 기준일자\n",
    "    selector_ref_date = '#div1 > div.um_topbar.botbd_n.bmshadow > div > div.topbar_lft > span'\n",
    "    # 종가/ 전일대비\n",
    "    selector_close_price = '#svdMainGrid1 > table > tbody > tr.rwf > td:nth-child(2)'\n",
    "    # 52주 최고가/최저가\n",
    "    selector_one_year = '#svdMainGrid1 > table > tbody > tr:nth-child(2) > td:nth-child(2)'\n",
    "    # 시가총액(보통주, 억원)\n",
    "    selector_market_cap = '#svdMainGrid1 > table > tbody > tr:nth-child(5) > td:nth-child(2)'\n",
    "    # 거래량\n",
    "    selector_volume = '#svdMainGrid1 > table > tbody > tr.rwf > td.cle.r'\n",
    "    # 거래대금(억원)\n",
    "    selector_tr_amt = '#svdMainGrid1 > table > tbody > tr:nth-child(2) > td.cle.r'\n",
    "    # 외국인 보유비중(%)\n",
    "    selector_foreigner = '#svdMainGrid1 > table > tbody > tr:nth-child(3) > td.cle.r'\n",
    "\n",
    "    v_ref_date = soup.select_one(selector_ref_date).get_text()\n",
    "    v_close_price = soup.select_one(selector_close_price).get_text()\n",
    "    v_one_year = soup.select_one(selector_one_year).get_text()\n",
    "    v_market_cap = soup.select_one(selector_market_cap).get_text()\n",
    "    v_volume = soup.select_one(selector_volume).get_text()\n",
    "    v_tr_amt = soup.select_one(selector_tr_amt).get_text()\n",
    "    v_foreigner = soup.select_one(selector_foreigner).get_text()    "
   ]
  },
  {
   "cell_type": "code",
   "execution_count": 26,
   "metadata": {},
   "outputs": [
    {
     "data": {
      "text/plain": [
       "('[2023/07/17]',\n",
       " '73,300/ -100',\n",
       " '73,400/ 52,600',\n",
       " '4,375,851',\n",
       " ' 10,060,049',\n",
       " ' 7,368',\n",
       " '53.01')"
      ]
     },
     "execution_count": 26,
     "metadata": {},
     "output_type": "execute_result"
    }
   ],
   "source": [
    "v_ref_date, v_close_price, v_one_year, v_market_cap, v_volume, v_tr_amt, v_foreigner"
   ]
  },
  {
   "cell_type": "markdown",
   "metadata": {},
   "source": [
    "### 2. 주식 가격 가져오기 (6개월)"
   ]
  },
  {
   "cell_type": "code",
   "execution_count": 27,
   "metadata": {},
   "outputs": [],
   "source": [
    "year, month, day = v_ref_date.replace('[', '').replace(']', '').split('/')\n",
    "\n",
    "# today = dt.datetime.now()                         # Today\n",
    "# date_to = today.strftime(\"%Y%m%d\")\n",
    "# past_date = today + relativedelta(months=-6)      # 6개월 전\n",
    "\n",
    "ref_date = year + month + day                           # 기준일\n",
    "dt_ref_date = datetime.strptime(ref_date, \"%Y%m%d\")\n",
    "dt_past_date = dt_ref_date + relativedelta(months=-6)    # 6개월 전\n",
    "date_from = dt_past_date.strftime('%Y%m%d')\n",
    "date_to = ref_date"
   ]
  },
  {
   "cell_type": "code",
   "execution_count": 28,
   "metadata": {},
   "outputs": [
    {
     "data": {
      "text/plain": [
       "('20230117', '20230717')"
      ]
     },
     "execution_count": 28,
     "metadata": {},
     "output_type": "execute_result"
    }
   ],
   "source": [
    "date_from, date_to"
   ]
  },
  {
   "cell_type": "code",
   "execution_count": 29,
   "metadata": {},
   "outputs": [],
   "source": [
    "from pykrx import stock\n",
    "\n",
    "# 해당 종목의 지정한 기간의 주식 거래 현황\n",
    "df_period_price = stock.get_market_ohlcv(date_from, date_to, ticker) "
   ]
  },
  {
   "cell_type": "code",
   "execution_count": 32,
   "metadata": {},
   "outputs": [
    {
     "data": {
      "text/plain": [
       "(123, 7)"
      ]
     },
     "execution_count": 32,
     "metadata": {},
     "output_type": "execute_result"
    }
   ],
   "source": [
    "df_period_price.shape"
   ]
  },
  {
   "cell_type": "code",
   "execution_count": 30,
   "metadata": {},
   "outputs": [],
   "source": [
    "df_recent_price = df_period_price.tail(5).sort_values('날짜', ascending=False).reset_index()"
   ]
  },
  {
   "cell_type": "code",
   "execution_count": 31,
   "metadata": {},
   "outputs": [
    {
     "data": {
      "text/html": [
       "<div>\n",
       "<style scoped>\n",
       "    .dataframe tbody tr th:only-of-type {\n",
       "        vertical-align: middle;\n",
       "    }\n",
       "\n",
       "    .dataframe tbody tr th {\n",
       "        vertical-align: top;\n",
       "    }\n",
       "\n",
       "    .dataframe thead th {\n",
       "        text-align: right;\n",
       "    }\n",
       "</style>\n",
       "<table border=\"1\" class=\"dataframe\">\n",
       "  <thead>\n",
       "    <tr style=\"text-align: right;\">\n",
       "      <th></th>\n",
       "      <th>날짜</th>\n",
       "      <th>시가</th>\n",
       "      <th>고가</th>\n",
       "      <th>저가</th>\n",
       "      <th>종가</th>\n",
       "      <th>거래량</th>\n",
       "      <th>거래대금</th>\n",
       "      <th>등락률</th>\n",
       "    </tr>\n",
       "  </thead>\n",
       "  <tbody>\n",
       "    <tr>\n",
       "      <th>0</th>\n",
       "      <td>2023-07-17</td>\n",
       "      <td>7750</td>\n",
       "      <td>7900</td>\n",
       "      <td>7730</td>\n",
       "      <td>7800</td>\n",
       "      <td>50242</td>\n",
       "      <td>391124830</td>\n",
       "      <td>0.13</td>\n",
       "    </tr>\n",
       "    <tr>\n",
       "      <th>1</th>\n",
       "      <td>2023-07-14</td>\n",
       "      <td>7870</td>\n",
       "      <td>7870</td>\n",
       "      <td>7740</td>\n",
       "      <td>7790</td>\n",
       "      <td>42639</td>\n",
       "      <td>331877980</td>\n",
       "      <td>-0.64</td>\n",
       "    </tr>\n",
       "    <tr>\n",
       "      <th>2</th>\n",
       "      <td>2023-07-13</td>\n",
       "      <td>7830</td>\n",
       "      <td>7940</td>\n",
       "      <td>7830</td>\n",
       "      <td>7840</td>\n",
       "      <td>46989</td>\n",
       "      <td>369399500</td>\n",
       "      <td>0.13</td>\n",
       "    </tr>\n",
       "    <tr>\n",
       "      <th>3</th>\n",
       "      <td>2023-07-12</td>\n",
       "      <td>7860</td>\n",
       "      <td>7950</td>\n",
       "      <td>7780</td>\n",
       "      <td>7830</td>\n",
       "      <td>35778</td>\n",
       "      <td>280653850</td>\n",
       "      <td>0.64</td>\n",
       "    </tr>\n",
       "    <tr>\n",
       "      <th>4</th>\n",
       "      <td>2023-07-11</td>\n",
       "      <td>7750</td>\n",
       "      <td>7860</td>\n",
       "      <td>7750</td>\n",
       "      <td>7780</td>\n",
       "      <td>38975</td>\n",
       "      <td>303867390</td>\n",
       "      <td>0.00</td>\n",
       "    </tr>\n",
       "  </tbody>\n",
       "</table>\n",
       "</div>"
      ],
      "text/plain": [
       "          날짜    시가    고가    저가    종가    거래량       거래대금   등락률\n",
       "0 2023-07-17  7750  7900  7730  7800  50242  391124830  0.13\n",
       "1 2023-07-14  7870  7870  7740  7790  42639  331877980 -0.64\n",
       "2 2023-07-13  7830  7940  7830  7840  46989  369399500  0.13\n",
       "3 2023-07-12  7860  7950  7780  7830  35778  280653850  0.64\n",
       "4 2023-07-11  7750  7860  7750  7780  38975  303867390  0.00"
      ]
     },
     "execution_count": 31,
     "metadata": {},
     "output_type": "execute_result"
    }
   ],
   "source": [
    "df_recent_price"
   ]
  },
  {
   "cell_type": "markdown",
   "metadata": {},
   "source": [
    "### 3. 엑셀로 저장"
   ]
  }
 ],
 "metadata": {
  "kernelspec": {
   "display_name": "data-gatherer-venv",
   "language": "python",
   "name": "python3"
  },
  "language_info": {
   "codemirror_mode": {
    "name": "ipython",
    "version": 3
   },
   "file_extension": ".py",
   "mimetype": "text/x-python",
   "name": "python",
   "nbconvert_exporter": "python",
   "pygments_lexer": "ipython3",
   "version": "3.10.8"
  },
  "orig_nbformat": 4
 },
 "nbformat": 4,
 "nbformat_minor": 2
}
