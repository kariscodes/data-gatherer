{
 "cells": [
  {
   "cell_type": "markdown",
   "metadata": {},
   "source": [
    "## 대성에너지 주가 동향 Daily Report"
   ]
  },
  {
   "cell_type": "code",
   "execution_count": 51,
   "metadata": {},
   "outputs": [],
   "source": [
    "import requests \n",
    "from bs4 import BeautifulSoup\n",
    "from datetime import datetime\n",
    "from dateutil.relativedelta import relativedelta\n",
    "\n",
    "ticker = '117580'   # 대성에너지"
   ]
  },
  {
   "cell_type": "markdown",
   "metadata": {},
   "source": [
    "### 1. 주식 정보 가져오기"
   ]
  },
  {
   "cell_type": "code",
   "execution_count": 52,
   "metadata": {},
   "outputs": [],
   "source": [
    "# fnGuide 주식 정보\n",
    "url = f\"http://comp.fnguide.com/SVO2/ASP/SVD_Main.asp?pGB=1&gicode=A{ticker}\"\n",
    "resp = requests.get(url)\n",
    "\n",
    "if resp.status_code == 200:\n",
    "    soup = BeautifulSoup(resp.text, \"lxml\")\n",
    "    \n",
    "    # 시세현황 기준일자\n",
    "    selector_ref_date = '#div1 > div.um_topbar.botbd_n.bmshadow > div > div.topbar_lft > span'\n",
    "    # 종가/ 전일대비\n",
    "    selector_close_price = '#svdMainGrid1 > table > tbody > tr.rwf > td:nth-child(2)'\n",
    "    # 52주 최고가/최저가\n",
    "    selector_one_year = '#svdMainGrid1 > table > tbody > tr:nth-child(2) > td:nth-child(2)'\n",
    "    # 시가총액(보통주, 억원)\n",
    "    selector_market_cap = '#svdMainGrid1 > table > tbody > tr:nth-child(5) > td:nth-child(2)'\n",
    "    # 거래량\n",
    "    selector_volume = '#svdMainGrid1 > table > tbody > tr.rwf > td.cle.r'\n",
    "    # 거래대금(억원)\n",
    "    selector_tr_amt = '#svdMainGrid1 > table > tbody > tr:nth-child(2) > td.cle.r'\n",
    "    # 외국인 보유비중(%)\n",
    "    selector_foreigner = '#svdMainGrid1 > table > tbody > tr:nth-child(3) > td.cle.r'\n",
    "\n",
    "    v_ref_date = soup.select_one(selector_ref_date).get_text()\n",
    "    v_close_price = soup.select_one(selector_close_price).get_text()\n",
    "    v_one_year = soup.select_one(selector_one_year).get_text()\n",
    "    v_market_cap = soup.select_one(selector_market_cap).get_text()\n",
    "    v_volume = soup.select_one(selector_volume).get_text()\n",
    "    v_tr_amt = soup.select_one(selector_tr_amt).get_text()\n",
    "    v_foreigner = soup.select_one(selector_foreigner).get_text()    "
   ]
  },
  {
   "cell_type": "code",
   "execution_count": 53,
   "metadata": {},
   "outputs": [
    {
     "data": {
      "text/plain": [
       "('[2023/07/18]',\n",
       " '7,740/ -60',\n",
       " '15,500/ 7,740',\n",
       " '2,129',\n",
       " ' 42,671',\n",
       " ' 3',\n",
       " '0.48')"
      ]
     },
     "execution_count": 53,
     "metadata": {},
     "output_type": "execute_result"
    }
   ],
   "source": [
    "v_ref_date, v_close_price, v_one_year, v_market_cap, v_volume, v_tr_amt, v_foreigner"
   ]
  },
  {
   "cell_type": "markdown",
   "metadata": {},
   "source": [
    "### 2. 주식 가격 가져오기 (6개월)"
   ]
  },
  {
   "cell_type": "code",
   "execution_count": 54,
   "metadata": {},
   "outputs": [],
   "source": [
    "year, month, day = v_ref_date.replace('[', '').replace(']', '').split('/')\n",
    "\n",
    "# today = dt.datetime.now()                         # Today\n",
    "# date_to = today.strftime(\"%Y%m%d\")\n",
    "# past_date = today + relativedelta(months=-6)      # 6개월 전\n",
    "\n",
    "ref_date = year + month + day                           # 기준일\n",
    "dt_ref_date = datetime.strptime(ref_date, \"%Y%m%d\")\n",
    "dt_past_date = dt_ref_date + relativedelta(months=-6)    # 6개월 전\n",
    "date_from = dt_past_date.strftime('%Y%m%d')\n",
    "date_to = ref_date"
   ]
  },
  {
   "cell_type": "code",
   "execution_count": 55,
   "metadata": {},
   "outputs": [
    {
     "data": {
      "text/plain": [
       "('20230118', '20230718')"
      ]
     },
     "execution_count": 55,
     "metadata": {},
     "output_type": "execute_result"
    }
   ],
   "source": [
    "date_from, date_to"
   ]
  },
  {
   "cell_type": "code",
   "execution_count": 77,
   "metadata": {},
   "outputs": [],
   "source": [
    "# pip install pykrx\n",
    "from pykrx import stock\n",
    "\n",
    "# 해당 종목의 지정한 기간의 주식 거래 현황\n",
    "df_period_price = stock.get_market_ohlcv(date_from, date_to, ticker) "
   ]
  },
  {
   "cell_type": "code",
   "execution_count": 78,
   "metadata": {},
   "outputs": [],
   "source": [
    "df_period_price = df_period_price.reset_index()\n",
    "df_period_price = df_period_price.astype({'날짜' : 'string'})"
   ]
  },
  {
   "cell_type": "code",
   "execution_count": 125,
   "metadata": {},
   "outputs": [],
   "source": [
    "max_row = df_period_price.shape[0]"
   ]
  },
  {
   "cell_type": "code",
   "execution_count": 79,
   "metadata": {},
   "outputs": [
    {
     "data": {
      "text/plain": [
       "날짜      string[python]\n",
       "시가               int32\n",
       "고가               int32\n",
       "저가               int32\n",
       "종가               int32\n",
       "거래량              int32\n",
       "거래대금             int64\n",
       "등락률            float32\n",
       "dtype: object"
      ]
     },
     "execution_count": 79,
     "metadata": {},
     "output_type": "execute_result"
    }
   ],
   "source": [
    "df_period_price.dtypes"
   ]
  },
  {
   "cell_type": "code",
   "execution_count": 90,
   "metadata": {},
   "outputs": [],
   "source": [
    "df_recent_price = df_period_price.tail(5).sort_values('날짜', ascending=False).reset_index(drop=True)"
   ]
  },
  {
   "cell_type": "code",
   "execution_count": 91,
   "metadata": {},
   "outputs": [
    {
     "data": {
      "text/html": [
       "<div>\n",
       "<style scoped>\n",
       "    .dataframe tbody tr th:only-of-type {\n",
       "        vertical-align: middle;\n",
       "    }\n",
       "\n",
       "    .dataframe tbody tr th {\n",
       "        vertical-align: top;\n",
       "    }\n",
       "\n",
       "    .dataframe thead th {\n",
       "        text-align: right;\n",
       "    }\n",
       "</style>\n",
       "<table border=\"1\" class=\"dataframe\">\n",
       "  <thead>\n",
       "    <tr style=\"text-align: right;\">\n",
       "      <th></th>\n",
       "      <th>날짜</th>\n",
       "      <th>시가</th>\n",
       "      <th>고가</th>\n",
       "      <th>저가</th>\n",
       "      <th>종가</th>\n",
       "      <th>거래량</th>\n",
       "      <th>거래대금</th>\n",
       "      <th>등락률</th>\n",
       "    </tr>\n",
       "  </thead>\n",
       "  <tbody>\n",
       "    <tr>\n",
       "      <th>0</th>\n",
       "      <td>2023-07-18</td>\n",
       "      <td>7770</td>\n",
       "      <td>7850</td>\n",
       "      <td>7710</td>\n",
       "      <td>7740</td>\n",
       "      <td>42671</td>\n",
       "      <td>331198060</td>\n",
       "      <td>-0.77</td>\n",
       "    </tr>\n",
       "    <tr>\n",
       "      <th>1</th>\n",
       "      <td>2023-07-17</td>\n",
       "      <td>7750</td>\n",
       "      <td>7900</td>\n",
       "      <td>7730</td>\n",
       "      <td>7800</td>\n",
       "      <td>50242</td>\n",
       "      <td>391124830</td>\n",
       "      <td>0.13</td>\n",
       "    </tr>\n",
       "    <tr>\n",
       "      <th>2</th>\n",
       "      <td>2023-07-14</td>\n",
       "      <td>7870</td>\n",
       "      <td>7870</td>\n",
       "      <td>7740</td>\n",
       "      <td>7790</td>\n",
       "      <td>42639</td>\n",
       "      <td>331877980</td>\n",
       "      <td>-0.64</td>\n",
       "    </tr>\n",
       "    <tr>\n",
       "      <th>3</th>\n",
       "      <td>2023-07-13</td>\n",
       "      <td>7830</td>\n",
       "      <td>7940</td>\n",
       "      <td>7830</td>\n",
       "      <td>7840</td>\n",
       "      <td>46989</td>\n",
       "      <td>369399500</td>\n",
       "      <td>0.13</td>\n",
       "    </tr>\n",
       "    <tr>\n",
       "      <th>4</th>\n",
       "      <td>2023-07-12</td>\n",
       "      <td>7860</td>\n",
       "      <td>7950</td>\n",
       "      <td>7780</td>\n",
       "      <td>7830</td>\n",
       "      <td>35778</td>\n",
       "      <td>280653850</td>\n",
       "      <td>0.64</td>\n",
       "    </tr>\n",
       "  </tbody>\n",
       "</table>\n",
       "</div>"
      ],
      "text/plain": [
       "           날짜    시가    고가    저가    종가    거래량       거래대금   등락률\n",
       "0  2023-07-18  7770  7850  7710  7740  42671  331198060 -0.77\n",
       "1  2023-07-17  7750  7900  7730  7800  50242  391124830  0.13\n",
       "2  2023-07-14  7870  7870  7740  7790  42639  331877980 -0.64\n",
       "3  2023-07-13  7830  7940  7830  7840  46989  369399500  0.13\n",
       "4  2023-07-12  7860  7950  7780  7830  35778  280653850  0.64"
      ]
     },
     "execution_count": 91,
     "metadata": {},
     "output_type": "execute_result"
    }
   ],
   "source": [
    "df_recent_price"
   ]
  },
  {
   "cell_type": "markdown",
   "metadata": {},
   "source": [
    "### 3. 엑셀로 저장"
   ]
  },
  {
   "cell_type": "code",
   "execution_count": 135,
   "metadata": {},
   "outputs": [],
   "source": [
    "# pip install openpyxl\n",
    "from openpyxl import Workbook\n",
    "from openpyxl.chart import Reference, LineChart, BarChart\n",
    "from openpyxl.styles import Font, Border, Side, PatternFill, Alignment\n",
    "import datetime\n",
    "\n",
    "wb = Workbook()\n",
    "ws = wb.active  # 현재 활성화된 sheet 가져옴\n",
    "ws.title = \"DailyReport\"\n",
    "\n",
    "# 열 너비 지정\n",
    "ws.column_dimensions[\"A\"].width = 22     \n",
    "ws.column_dimensions[\"B\"].width = 8     \n",
    "ws.column_dimensions[\"C\"].width = 8    \n",
    "ws.column_dimensions[\"D\"].width = 18    \n",
    "ws.column_dimensions[\"E\"].width = 16    \n",
    "\n",
    "# ws[\"A1\"] = 1\n",
    "ROW_TITLE = 1\n",
    "ROW_NO_1 = 3\n",
    "ROW_NO_2 = 9\n",
    "ROW_NO_3 = 18\n",
    "\n",
    "# 행 높이\n",
    "ws.row_dimensions[ROW_TITLE].height = 40        # 제목 행 높이 지정\n",
    "ws.row_dimensions[ROW_NO_1].height = 25        # 소제목 행 높이 지정\n",
    "ws.row_dimensions[ROW_NO_2].height = 25        # 소제목 행 높이 지정\n",
    "ws.row_dimensions[ROW_NO_3].height = 25        # 소제목 행 높이 지정\n",
    "\n",
    "title = ws.cell(row=ROW_TITLE, column=1)\n",
    "sub_1 = ws.cell(row=ROW_NO_1, column=1)\n",
    "sub_2 = ws.cell(row=ROW_NO_2, column=1)\n",
    "sub_3 = ws.cell(row=ROW_NO_3, column=1)\n",
    "ref_1 = ws.cell(row=ROW_NO_1, column=5)     # 출처 fnGuide\n",
    "\n",
    "# Font 스타일 적용\n",
    "title.font = Font(color=\"0000FF\", size=20, bold=True)\n",
    "sub_1.font = Font(size=13, italic=True, bold=True)\n",
    "sub_2.font = Font(size=13, italic=True, bold=True)\n",
    "sub_3.font = Font(size=13, italic=True, bold=True)\n",
    "ref_1.font = Font(color=\"0000FF\", size=9, underline=\"single\")\n",
    "\n",
    "# 정렬\n",
    "title.alignment = Alignment(horizontal=\"left\", vertical=\"center\")\n",
    "sub_1.alignment = Alignment(horizontal=\"left\", vertical=\"center\")\n",
    "sub_2.alignment = Alignment(horizontal=\"left\", vertical=\"center\")\n",
    "sub_3.alignment = Alignment(horizontal=\"left\", vertical=\"center\")\n",
    "ref_1.alignment = Alignment(horizontal=\"right\", vertical=\"bottom\")\n",
    "\n",
    "# 테두리 적용\n",
    "thin_border = Border(left=Side(style=\"thin\"),\n",
    "                     right=Side(style=\"thin\"),\n",
    "                     top=Side(style=\"thin\"),\n",
    "                     bottom=Side(style=\"thin\"))\n",
    "\n",
    "for col in range(1, 6):\n",
    "    ws.cell(row=ROW_NO_1+2, column=col).border = thin_border\n",
    "    ws.cell(row=ROW_NO_1+3, column=col).border = thin_border\n",
    "    ws.cell(row=ROW_NO_1+4, column=col).border = thin_border\n",
    "    ws.cell(row=ROW_NO_2+2, column=col).border = thin_border\n",
    "    ws.cell(row=ROW_NO_2+3, column=col).border = thin_border\n",
    "    ws.cell(row=ROW_NO_2+4, column=col).border = thin_border\n",
    "    ws.cell(row=ROW_NO_2+5, column=col).border = thin_border\n",
    "    ws.cell(row=ROW_NO_2+6, column=col).border = thin_border\n",
    "    ws.cell(row=ROW_NO_2+7, column=col).border = thin_border\n",
    "    \n",
    "# 셀 병합\n",
    "ws.merge_cells(\"B5:C5\")\n",
    "ws.merge_cells(\"B6:C6\")\n",
    "ws.merge_cells(\"B7:C7\")\n",
    "\n",
    "ws.cell(row=ROW_TITLE, column=1, value=\"대성에너지 일일 주가 동향 \"+v_ref_date)\n",
    "\n",
    "ws.cell(row=ROW_NO_1, column=1, value=\"1. 일일 현황\")\n",
    "ws.cell(row=ROW_NO_1, column=5, value=\"(출처: fnGuide)\")\n",
    "\n",
    "ws.cell(row=ROW_NO_1+2, column=1, value=\"종가/ 전일대비\")\n",
    "ws.cell(row=ROW_NO_1+2, column=2).value = v_close_price\n",
    "ws.cell(row=ROW_NO_1+2, column=2).alignment = Alignment(horizontal=\"right\", vertical=\"center\")\n",
    "ws.cell(row=ROW_NO_1+3, column=1, value=\"52주 최고/최저\")\n",
    "ws.cell(row=ROW_NO_1+3, column=2).value = v_one_year\n",
    "ws.cell(row=ROW_NO_1+3, column=2).alignment = Alignment(horizontal=\"right\", vertical=\"center\")\n",
    "ws.cell(row=ROW_NO_1+4, column=1, value=\"시가총액(보통주, 억원)\")\n",
    "ws.cell(row=ROW_NO_1+4, column=2).value = v_market_cap\n",
    "ws.cell(row=ROW_NO_1+4, column=2).alignment = Alignment(horizontal=\"right\", vertical=\"center\")\n",
    "\n",
    "ws.cell(row=ROW_NO_1+2, column=4, value=\"거래량\")\n",
    "ws.cell(row=ROW_NO_1+2, column=5).value = v_volume\n",
    "ws.cell(row=ROW_NO_1+2, column=5).alignment = Alignment(horizontal=\"right\", vertical=\"center\")\n",
    "ws.cell(row=ROW_NO_1+3, column=4, value=\"거래대금(억원)\")\n",
    "ws.cell(row=ROW_NO_1+3, column=5).value=v_tr_amt\n",
    "ws.cell(row=ROW_NO_1+3, column=5).alignment = Alignment(horizontal=\"right\", vertical=\"center\")\n",
    "ws.cell(row=ROW_NO_1+4, column=4, value=\"외국인 보유비중(%)\")\n",
    "ws.cell(row=ROW_NO_1+4, column=5).value = v_foreigner\n",
    "ws.cell(row=ROW_NO_1+4, column=5).alignment = Alignment(horizontal=\"right\", vertical=\"center\")\n",
    "\n",
    "for row in range(ROW_NO_1+2, ROW_NO_1+5):\n",
    "    ws.cell(row=row, column=1).fill = PatternFill(fgColor=\"99ccff\", fill_type=\"solid\")\n",
    "    ws.cell(row=row, column=4).fill = PatternFill(fgColor=\"99ccff\", fill_type=\"solid\")\n",
    "\n",
    "\n",
    "ws.cell(row=ROW_NO_2, column=1, value=\"2. 최근 일주일 거래 현황\")\n",
    "\n",
    "ws.cell(row=ROW_NO_2+2, column=1, value='날짜')\n",
    "ws.cell(row=ROW_NO_2+2, column=2, value='종가')\n",
    "ws.cell(row=ROW_NO_2+2, column=3, value='등락률')\n",
    "ws.cell(row=ROW_NO_2+2, column=4, value='거래량')\n",
    "ws.cell(row=ROW_NO_2+2, column=5, value='거래대금')\n",
    "for col in range(1, 6):\n",
    "    ws.cell(row=ROW_NO_2+2, column=col).alignment = Alignment(horizontal=\"center\", vertical=\"center\")\n",
    "    ws.cell(row=ROW_NO_2+2, column=col).fill = PatternFill(fgColor=\"99ccff\", fill_type=\"solid\")\n",
    "    \n",
    "for idx, data in df_recent_price.iterrows():\n",
    "    ws.cell(row=idx+ROW_NO_2+3, column=1).value = data['날짜']\n",
    "    ws.cell(row=idx+ROW_NO_2+3, column=1).alignment = Alignment(horizontal=\"center\", vertical=\"center\")\n",
    "    ws.cell(row=idx+ROW_NO_2+3, column=2).value = data['종가']\n",
    "    ws.cell(row=idx+ROW_NO_2+3, column=2).alignment = Alignment(horizontal=\"right\", vertical=\"center\")\n",
    "    ws.cell(row=idx+ROW_NO_2+3, column=3).value = data['등락률']\n",
    "    ws.cell(row=idx+ROW_NO_2+3, column=3).alignment = Alignment(horizontal=\"right\", vertical=\"center\")\n",
    "    ws.cell(row=idx+ROW_NO_2+3, column=4).value = data['거래량']\n",
    "    ws.cell(row=idx+ROW_NO_2+3, column=4).alignment = Alignment(horizontal=\"right\", vertical=\"center\")\n",
    "    ws.cell(row=idx+ROW_NO_2+3, column=5).value = data['거래대금']\n",
    "    ws.cell(row=idx+ROW_NO_2+3, column=5).alignment = Alignment(horizontal=\"right\", vertical=\"center\")\n",
    "\n",
    "ws.cell(row=ROW_NO_3, column=1, value=\"3. 주가 및 거래량 추이 (최근 6개월)\")\n",
    "\n",
    "\"\"\" BEGIN: 데이터 Sheet \"\"\"\n",
    "\n",
    "ws_data = wb.create_sheet(\"DataSheet\", 2)        # 2번째 index에 sheet 생성\n",
    "\n",
    "# 열 너비 지정\n",
    "ws_data.column_dimensions[\"A\"].width = 15     \n",
    "ws_data.column_dimensions[\"B\"].width = 15    \n",
    "ws_data.column_dimensions[\"C\"].width = 15   \n",
    "ws_data.column_dimensions[\"D\"].width = 15    \n",
    "ws_data.column_dimensions[\"E\"].width = 25  \n",
    "\n",
    "# 1줄씩 데이터 넣기\n",
    "ws_data.append([\"날짜\", \"종가\", \"등락률\", \"거래량\", \"거래대금\"])\n",
    "for index, data in df_period_price.iterrows():\n",
    "    ws_data.append([data['날짜'], data['종가'], data['등락률'], data['거래량'], data['거래대금']])\n",
    "\n",
    "\"\"\" END: 데이터 Sheet \"\"\"\n",
    "\n",
    "value = Reference(ws_data, min_row=1, max_row=max_row+1, min_col=2, max_col=2)\n",
    "category = Reference(ws_data, min_row=1, max_row=max_row+1, min_col=1)\n",
    "\n",
    "line_chart = LineChart()\n",
    "line_chart.set_categories(category)\n",
    "line_chart.add_data(value, titles_from_data=True)\n",
    "line_chart.title = \"주가(종가) 동향\"\n",
    "line_chart.style = 10\n",
    "# line_chart.x_axis.title = \"날짜\"\n",
    "# line_chart.y_axis.title = \"종가\"\n",
    "\n",
    "ws.add_chart(line_chart, \"A20\")   # 차트 넣을 위치\n",
    "\n",
    "bar_chart = BarChart()\n",
    "bar_chart.set_categories(category)\n",
    "bar_chart.add_data(value, titles_from_data=True)\n",
    "bar_chart.title = \"거래량\"\n",
    "# bar_chart.x_axis.title = \"날짜\"\n",
    "# bar_chart.y_axis.title = \"거래량\"\n",
    "\n",
    "ws.add_chart(bar_chart, \"A33\")   # 차트 넣을 위치\n",
    "\n",
    "# 파일명은 full path로 지정\n",
    "excel_file = \"D:\\PythonProject\\data-gatherer\\stock\\data\\dse_daily_price.xlsx\"\n",
    "wb.save(excel_file)\n",
    "wb.close()"
   ]
  },
  {
   "cell_type": "markdown",
   "metadata": {},
   "source": [
    "### 4. Excel 파일을 PDF로 변환하기"
   ]
  },
  {
   "cell_type": "code",
   "execution_count": 136,
   "metadata": {},
   "outputs": [
    {
     "ename": "com_error",
     "evalue": "(-2147352567, '예외가 발생했습니다.', (0, 'Microsoft Excel', '문서가 저장되지 않았습니다. 문서가 열려 있거나 문서를 저장할 때 오류가 발생했습니다.', 'xlmain11.chm', 0, -2146827284), None)",
     "output_type": "error",
     "traceback": [
      "\u001b[1;31m---------------------------------------------------------------------------\u001b[0m",
      "\u001b[1;31mcom_error\u001b[0m                                 Traceback (most recent call last)",
      "Cell \u001b[1;32mIn[136], line 11\u001b[0m\n\u001b[0;32m      9\u001b[0m \u001b[39m# Type=0 \"PDF\", Type=1 \"XPS\"\u001b[39;00m\n\u001b[0;32m     10\u001b[0m pdf_file \u001b[39m=\u001b[39m \u001b[39m\"\u001b[39m\u001b[39mD:\u001b[39m\u001b[39m\\\u001b[39m\u001b[39mPythonProject\u001b[39m\u001b[39m\\\u001b[39m\u001b[39mdata-gatherer\u001b[39m\u001b[39m\\\u001b[39m\u001b[39msample\u001b[39m\u001b[39m\\\u001b[39m\u001b[39mdata\u001b[39m\u001b[39m\\\u001b[39m\u001b[39msample_doc.pdf\u001b[39m\u001b[39m\"\u001b[39m\n\u001b[1;32m---> 11\u001b[0m ws\u001b[39m.\u001b[39;49mExportAsFixedFormat(Type\u001b[39m=\u001b[39;49m\u001b[39m0\u001b[39;49m, Filename\u001b[39m=\u001b[39;49mpdf_file)    \n\u001b[0;32m     13\u001b[0m wb\u001b[39m.\u001b[39mapplication\u001b[39m.\u001b[39mdisplayalerts \u001b[39m=\u001b[39m \u001b[39mFalse\u001b[39;00m  \u001b[39m# This stops the popup asking for a save\u001b[39;00m\n\u001b[0;32m     14\u001b[0m wb\u001b[39m.\u001b[39mClose()\n",
      "File \u001b[1;32m<COMObject <unknown>>:4\u001b[0m, in \u001b[0;36mExportAsFixedFormat\u001b[1;34m(self, Type, Filename, Quality, IncludeDocProperties, IgnorePrintAreas, From, To, OpenAfterPublish, FixedFormatExtClassPtr, WorkIdentity)\u001b[0m\n",
      "\u001b[1;31mcom_error\u001b[0m: (-2147352567, '예외가 발생했습니다.', (0, 'Microsoft Excel', '문서가 저장되지 않았습니다. 문서가 열려 있거나 문서를 저장할 때 오류가 발생했습니다.', 'xlmain11.chm', 0, -2146827284), None)"
     ]
    }
   ],
   "source": [
    "import win32com.client\n",
    "\n",
    "excel = win32com.client.DispatchEx(\"Excel.Application\")\n",
    "excel.Visible = False\n",
    "    \n",
    "wb = excel.Workbooks.Open(excel_file)\n",
    "ws = wb.ActiveSheet\n",
    "\n",
    "# Type=0 \"PDF\", Type=1 \"XPS\"\n",
    "pdf_file = \"D:\\PythonProject\\data-gatherer\\sample\\data\\sample_doc.pdf\"\n",
    "ws.ExportAsFixedFormat(Type=0, Filename=pdf_file)    \n",
    "\n",
    "wb.application.displayalerts = False  # This stops the popup asking for a save\n",
    "wb.Close()\n",
    "\n",
    "excel.Quit()"
   ]
  },
  {
   "cell_type": "markdown",
   "metadata": {},
   "source": [
    "### 5. 이메일 발송"
   ]
  },
  {
   "cell_type": "code",
   "execution_count": 14,
   "metadata": {},
   "outputs": [],
   "source": [
    "# Email 수신자 목록\n",
    "\n",
    "import csv\n",
    "\n",
    "receiver_file = \"D:\\PythonProject\\data-gatherer\\stock\\data\\email_receiver.csv\"\n",
    "f = open(receiver_file, 'r', encoding='utf-8')\n",
    "lines = csv.reader(f)\n",
    "receiver_list = []\n",
    "for line in lines:\n",
    "    # print(line)\n",
    "    receiver_list.append(line[0])\n",
    "f.close()\n",
    "\n",
    "email_receivers = ', '.join(receiver_list)  "
   ]
  },
  {
   "cell_type": "code",
   "execution_count": 12,
   "metadata": {},
   "outputs": [
    {
     "data": {
      "text/plain": [
       "['stewart@daesung.com', 'kyungho.lim@gmail.com']"
      ]
     },
     "execution_count": 12,
     "metadata": {},
     "output_type": "execute_result"
    }
   ],
   "source": [
    "receiver_list"
   ]
  },
  {
   "cell_type": "code",
   "execution_count": 13,
   "metadata": {},
   "outputs": [
    {
     "data": {
      "text/plain": [
       "'stewart@daesung.com, kyungho.lim@gmail.com'"
      ]
     },
     "execution_count": 13,
     "metadata": {},
     "output_type": "execute_result"
    }
   ],
   "source": [
    "email_receivers"
   ]
  },
  {
   "cell_type": "code",
   "execution_count": null,
   "metadata": {},
   "outputs": [],
   "source": [
    "\"\"\" Send email with attachment \"\"\"\n",
    "\"\"\"\n",
    "<< Prerequisites >>\n",
    "구글 이메일 계정 사용\n",
    "1. 보안 - 2단계 인증 사용 설정\n",
    "2. 앱 비밀번호 생성: 앱-메일, 기기-Windows 컴퓨터 선택 => 앱 비밀번호 생성\n",
    "\n",
    "\"\"\"\n",
    "EMAIL_ADDRESS = \"kyungho.lim@gmail.com\"\n",
    "EMAIL_PASSWORD = \"zqwsuqdrtmnzvccx\"   # Windows 컴퓨터용 앱 비밀번호\n",
    "\n",
    "import smtplib\n",
    "# from account import *\n",
    "from email.message import EmailMessage\n",
    "import os\n",
    "\n",
    "msg = EmailMessage()\n",
    "\n",
    "msg[\"Subject\"] = \"대성에너지 일일 주가 동향\"+v_ref_date\n",
    "\n",
    "msg[\"From\"] = EMAIL_ADDRESS\n",
    "\n",
    "# 수신자가 여러명일 경우 콤마(,)로 구분하여 문자열 생성, msg[\"To\"]에 할당\n",
    "msg[\"To\"] = email_receivers\n",
    "\n",
    "# 본문\n",
    "msg.set_content(\"대성에너지 일일 주가 동향\"+v_ref_date+\"입니다. 첨부파일을 다운로드 하십시오.\")\n",
    "\n",
    "\"\"\"\n",
    "MIME type 전체 목록 참조하여 보내는 파일형식에 맞는 maintype과 subtype 지정\n",
    "=> https://developer.mozilla.org/ko/docs/Web/HTTP/Basics_of_HTTP/MIME_types/Common_types\n",
    "\"\"\"\n",
    "with open(\"learning_output/sample_document.pdf\", \"rb\") as f:\n",
    "    # msg.add_attachment(f.read(), maintype=\"application\", subtype=\"pdf\", filename=f.name)\n",
    "    file_name = os.path.basename(f.name)\n",
    "    msg.add_attachment(f.read(), maintype=\"application\", subtype=\"pdf\", filename=file_name)\n",
    "\n",
    "# 메일 발송\n",
    "with smtplib.SMTP(\"smtp.gmail.com\", 587) as smtp:   # port no. 587\n",
    "    smtp.ehlo()         # 연결이 잘 수립되는지 확인\n",
    "    smtp.starttls()     # 모든 내용이 암호화되어 전송\n",
    "    smtp.login(EMAIL_ADDRESS, EMAIL_PASSWORD)   # 로그인\n",
    "    \n",
    "    smtp.send_message(msg)"
   ]
  }
 ],
 "metadata": {
  "kernelspec": {
   "display_name": "data-gatherer-venv",
   "language": "python",
   "name": "python3"
  },
  "language_info": {
   "codemirror_mode": {
    "name": "ipython",
    "version": 3
   },
   "file_extension": ".py",
   "mimetype": "text/x-python",
   "name": "python",
   "nbconvert_exporter": "python",
   "pygments_lexer": "ipython3",
   "version": "3.10.8"
  },
  "orig_nbformat": 4
 },
 "nbformat": 4,
 "nbformat_minor": 2
}
