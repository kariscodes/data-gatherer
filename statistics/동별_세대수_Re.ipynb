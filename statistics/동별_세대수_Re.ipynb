{
 "cells": [
  {
   "cell_type": "markdown",
   "id": "6ef2cef5",
   "metadata": {},
   "source": [
    "## 동별 세대수 가져오기\n",
    "+ 작성: 김지훈\n",
    "+ 수정: 임경호"
   ]
  },
  {
   "cell_type": "markdown",
   "id": "82814239",
   "metadata": {},
   "source": [
    "### 1. 지정한 년월에 사용 가능한 최신의 법정동, 행정동 코드 자료를 테이블에서 가져온다."
   ]
  },
  {
   "cell_type": "code",
   "execution_count": 1,
   "id": "8e895f95",
   "metadata": {},
   "outputs": [],
   "source": [
    "import pandas as pd\n",
    "import requests\n",
    "from tqdm.notebook import tqdm\n",
    "import json\n",
    "from datetime import datetime\n",
    "import calendar\n",
    "\n",
    "import sys\n",
    "module_path = \"D:\\PythonProject\\data-gatherer\\common\"\n",
    "sys.path.append(module_path)\n",
    "import dbconnect"
   ]
  },
  {
   "cell_type": "code",
   "execution_count": 2,
   "id": "4dcac93e",
   "metadata": {},
   "outputs": [],
   "source": [
    "#추출하고자 하는 년월\n",
    "input_year = 2023\n",
    "input_month = 7\n",
    "# 년월: yyyymm 형식 문자열\n",
    "month = str(input_year) + str(input_month).zfill(2)\n",
    "# month = '202306'   \n",
    "last_day = calendar.monthrange(input_year, input_month)[1]\n",
    "# print(year, month, last_day)\n",
    "month_end_date = datetime(input_year, input_month, last_day).strftime(\"%Y%m%d\")"
   ]
  },
  {
   "cell_type": "code",
   "execution_count": 3,
   "id": "5cefdd4c",
   "metadata": {},
   "outputs": [],
   "source": [
    "# 해당 년월에 사용가능한, 저장된 데이터의 마지막 일자 가져오기\n",
    "conn = dbconnect.db_connect(\"DEMO_DM\")\n",
    "cur = conn.cursor()\n",
    "\n",
    "query = \"SELECT 업데이트일자 FROM city WHERE 업데이트일자 <= '\" + month_end_date + \"' ORDER BY 업데이트일자 DESC LIMIT 1\"\n",
    "cur.execute(query)\n",
    "row = cur.fetchone()\n",
    "stored_date = row[0]     \n",
    "\n",
    "conn.close()"
   ]
  },
  {
   "cell_type": "code",
   "execution_count": 4,
   "id": "81cba7e9",
   "metadata": {},
   "outputs": [],
   "source": [
    "# 지역코드 테이블에서 데이터 읽어오기\n",
    "engine = dbconnect.db_engine(\"DEMO_DM\")\n",
    "query = \"SELECT * FROM city WHERE 업데이트일자 = '\" + stored_date + \"'\"\n",
    "result = pd.read_sql(query, engine)"
   ]
  },
  {
   "cell_type": "code",
   "execution_count": 5,
   "id": "0a633d7c",
   "metadata": {},
   "outputs": [
    {
     "data": {
      "text/html": [
       "<div>\n",
       "<style scoped>\n",
       "    .dataframe tbody tr th:only-of-type {\n",
       "        vertical-align: middle;\n",
       "    }\n",
       "\n",
       "    .dataframe tbody tr th {\n",
       "        vertical-align: top;\n",
       "    }\n",
       "\n",
       "    .dataframe thead th {\n",
       "        text-align: right;\n",
       "    }\n",
       "</style>\n",
       "<table border=\"1\" class=\"dataframe\">\n",
       "  <thead>\n",
       "    <tr style=\"text-align: right;\">\n",
       "      <th></th>\n",
       "      <th>업데이트일자</th>\n",
       "      <th>행정동코드</th>\n",
       "      <th>시도명</th>\n",
       "      <th>시군구명</th>\n",
       "      <th>읍면동명</th>\n",
       "      <th>법정동코드</th>\n",
       "      <th>동리명</th>\n",
       "    </tr>\n",
       "  </thead>\n",
       "  <tbody>\n",
       "    <tr>\n",
       "      <th>0</th>\n",
       "      <td>20230703</td>\n",
       "      <td>2700000000</td>\n",
       "      <td>대구광역시</td>\n",
       "      <td></td>\n",
       "      <td></td>\n",
       "      <td>2700000000</td>\n",
       "      <td>대구광역시</td>\n",
       "    </tr>\n",
       "    <tr>\n",
       "      <th>1</th>\n",
       "      <td>20230703</td>\n",
       "      <td>2711000000</td>\n",
       "      <td>대구광역시</td>\n",
       "      <td>중구</td>\n",
       "      <td></td>\n",
       "      <td>2711000000</td>\n",
       "      <td>중구</td>\n",
       "    </tr>\n",
       "    <tr>\n",
       "      <th>2</th>\n",
       "      <td>20230703</td>\n",
       "      <td>2711051700</td>\n",
       "      <td>대구광역시</td>\n",
       "      <td>중구</td>\n",
       "      <td>동인동</td>\n",
       "      <td>2711010100</td>\n",
       "      <td>동인동1가</td>\n",
       "    </tr>\n",
       "    <tr>\n",
       "      <th>3</th>\n",
       "      <td>20230703</td>\n",
       "      <td>2711051700</td>\n",
       "      <td>대구광역시</td>\n",
       "      <td>중구</td>\n",
       "      <td>동인동</td>\n",
       "      <td>2711010200</td>\n",
       "      <td>동인동2가</td>\n",
       "    </tr>\n",
       "    <tr>\n",
       "      <th>4</th>\n",
       "      <td>20230703</td>\n",
       "      <td>2711051700</td>\n",
       "      <td>대구광역시</td>\n",
       "      <td>중구</td>\n",
       "      <td>동인동</td>\n",
       "      <td>2711010300</td>\n",
       "      <td>동인동3가</td>\n",
       "    </tr>\n",
       "    <tr>\n",
       "      <th>...</th>\n",
       "      <td>...</td>\n",
       "      <td>...</td>\n",
       "      <td>...</td>\n",
       "      <td>...</td>\n",
       "      <td>...</td>\n",
       "      <td>...</td>\n",
       "      <td>...</td>\n",
       "    </tr>\n",
       "    <tr>\n",
       "      <th>792</th>\n",
       "      <td>20230703</td>\n",
       "      <td>4785032000</td>\n",
       "      <td>경상북도</td>\n",
       "      <td>칠곡군</td>\n",
       "      <td>동명면</td>\n",
       "      <td>4785032034</td>\n",
       "      <td>남원리</td>\n",
       "    </tr>\n",
       "    <tr>\n",
       "      <th>793</th>\n",
       "      <td>20230703</td>\n",
       "      <td>4785032000</td>\n",
       "      <td>경상북도</td>\n",
       "      <td>칠곡군</td>\n",
       "      <td>동명면</td>\n",
       "      <td>4785032035</td>\n",
       "      <td>득명리</td>\n",
       "    </tr>\n",
       "    <tr>\n",
       "      <th>794</th>\n",
       "      <td>20230703</td>\n",
       "      <td>4785032000</td>\n",
       "      <td>경상북도</td>\n",
       "      <td>칠곡군</td>\n",
       "      <td>동명면</td>\n",
       "      <td>4785032036</td>\n",
       "      <td>기성리</td>\n",
       "    </tr>\n",
       "    <tr>\n",
       "      <th>795</th>\n",
       "      <td>20230703</td>\n",
       "      <td>4785032000</td>\n",
       "      <td>경상북도</td>\n",
       "      <td>칠곡군</td>\n",
       "      <td>동명면</td>\n",
       "      <td>4785032037</td>\n",
       "      <td>구덕리</td>\n",
       "    </tr>\n",
       "    <tr>\n",
       "      <th>796</th>\n",
       "      <td>20230703</td>\n",
       "      <td>4785032000</td>\n",
       "      <td>경상북도</td>\n",
       "      <td>칠곡군</td>\n",
       "      <td>동명면</td>\n",
       "      <td>4785032038</td>\n",
       "      <td>봉암리</td>\n",
       "    </tr>\n",
       "  </tbody>\n",
       "</table>\n",
       "<p>797 rows × 7 columns</p>\n",
       "</div>"
      ],
      "text/plain": [
       "       업데이트일자       행정동코드    시도명 시군구명 읍면동명       법정동코드    동리명\n",
       "0    20230703  2700000000  대구광역시            2700000000  대구광역시\n",
       "1    20230703  2711000000  대구광역시   중구       2711000000     중구\n",
       "2    20230703  2711051700  대구광역시   중구  동인동  2711010100  동인동1가\n",
       "3    20230703  2711051700  대구광역시   중구  동인동  2711010200  동인동2가\n",
       "4    20230703  2711051700  대구광역시   중구  동인동  2711010300  동인동3가\n",
       "..        ...         ...    ...  ...  ...         ...    ...\n",
       "792  20230703  4785032000   경상북도  칠곡군  동명면  4785032034    남원리\n",
       "793  20230703  4785032000   경상북도  칠곡군  동명면  4785032035    득명리\n",
       "794  20230703  4785032000   경상북도  칠곡군  동명면  4785032036    기성리\n",
       "795  20230703  4785032000   경상북도  칠곡군  동명면  4785032037    구덕리\n",
       "796  20230703  4785032000   경상북도  칠곡군  동명면  4785032038    봉암리\n",
       "\n",
       "[797 rows x 7 columns]"
      ]
     },
     "execution_count": 5,
     "metadata": {},
     "output_type": "execute_result"
    }
   ],
   "source": [
    "df_code_table = result.copy()\n",
    "df_code_table"
   ]
  },
  {
   "cell_type": "markdown",
   "id": "3b9b540d",
   "metadata": {},
   "source": [
    "### 2. 세대수 데이터 추출을 위한 법정동 코드 전처리"
   ]
  },
  {
   "cell_type": "markdown",
   "id": "5837b790",
   "metadata": {},
   "source": [
    "Open API를 사용하기 위해 **법정동 코드를 전처리**하는 과정입니다.  \n",
    "- 해당 API는 법정동코드를 입력하였을 때, 값이 나오도록 되어 있습니다.  \n",
    "- API사용 할 때, **구, 시, 리**의 법정동 코드를 제거하고 **동,읍,면** 법정동 코드만 남겨둬야합니다. "
   ]
  },
  {
   "cell_type": "markdown",
   "id": "b564119f",
   "metadata": {},
   "source": [
    "법정동 코드는 총 10자리로 10자리의 구성은 아래와 같습니다.  \n",
    " - 시도(2) + 시군구(3) + 읍면동(3) + 리(2)"
   ]
  },
  {
   "cell_type": "code",
   "execution_count": 6,
   "id": "f290e760",
   "metadata": {},
   "outputs": [
    {
     "data": {
      "text/plain": [
       "(797, 7)"
      ]
     },
     "execution_count": 6,
     "metadata": {},
     "output_type": "execute_result"
    }
   ],
   "source": [
    "# 전제 코드 데이터\n",
    "df_code_table_pre = df_code_table.copy()\n",
    "df_code_table_pre.shape"
   ]
  },
  {
   "cell_type": "code",
   "execution_count": 7,
   "id": "1ab3fb73",
   "metadata": {},
   "outputs": [
    {
     "data": {
      "text/plain": [
       "(352, 7)"
      ]
     },
     "execution_count": 7,
     "metadata": {},
     "output_type": "execute_result"
    }
   ],
   "source": [
    "# '시군구' 단위 및 '읍면동' 단위의 데이터만 남겨놓는다\n",
    "df_code_table_pre = df_code_table_pre[df_code_table_pre['법정동코드'].str.endswith('00')]\n",
    "# '시군구' 단위 데이터 삭제\n",
    "idx = df_code_table_pre[df_code_table_pre['법정동코드'].str.endswith('00000')].index\n",
    "df_code_table_pre.drop(idx, inplace=True)\n",
    "# 최종적으로 '읍면동' 코드만 남는다.\n",
    "df_code_table_pre.shape"
   ]
  },
  {
   "cell_type": "markdown",
   "id": "5bc14fdf",
   "metadata": {},
   "source": [
    "### 각 지역별로 Data Set 구성"
   ]
  },
  {
   "cell_type": "code",
   "execution_count": 8,
   "id": "048c63aa",
   "metadata": {},
   "outputs": [],
   "source": [
    "#구 별로 법정동코드를 추출하여 list형식으로 변환\n",
    "def make_code_list_for_daegu(df,gu_name):\n",
    "    df_gu= df[df['시군구명']==gu_name]\n",
    "    list_gu=  df_gu['법정동코드']\n",
    "    list_gu = list_gu.unique()\n",
    "    return list_gu"
   ]
  },
  {
   "cell_type": "code",
   "execution_count": 9,
   "id": "4ab4bd0f",
   "metadata": {},
   "outputs": [],
   "source": [
    "# 각 도시별 법정동 코드 불러오기\n",
    "\n",
    "#대구광역시\n",
    "df_daegu_code = df_code_table_pre[df_code_table_pre['시도명'].str.contains('대구광역시')]\n",
    "df_daegu_code= df_daegu_code.dropna(subset=['읍면동명']) #null값 제거\n",
    "idx = df_daegu_code[df_daegu_code['법정동코드'].str[-4:] == \"0000\"].index #리 값 제거\n",
    "df_daegu_code.drop(idx , inplace=True)\n",
    "\n",
    "list_daegu_cd =  df_daegu_code['법정동코드']\n",
    "list_daegu_cd = list_daegu_cd.unique() #대구광역시의 법정동코드\n",
    "\n",
    "#중간에 오류가 날 수 있어 구별로 나누어 작업 진행\n",
    "dict_region_codes = {}  # 딕셔너리\n",
    "dict_region_codes[\"남구\"] =  make_code_list_for_daegu(df_daegu_code,\"남구\")\n",
    "dict_region_codes[\"달서구\"] =  make_code_list_for_daegu(df_daegu_code,\"달서구\")\n",
    "dict_region_codes[\"달성군\"] =  make_code_list_for_daegu(df_daegu_code,\"달성군\")\n",
    "dict_region_codes[\"동구\"] =  make_code_list_for_daegu(df_daegu_code,\"동구\")\n",
    "dict_region_codes[\"북구\"] =  make_code_list_for_daegu(df_daegu_code,\"북구\")\n",
    "dict_region_codes[\"서구\"] =  make_code_list_for_daegu(df_daegu_code,\"서구\")\n",
    "dict_region_codes[\"수성구\"] =  make_code_list_for_daegu(df_daegu_code,\"수성구\")\n",
    "dict_region_codes[\"중구\"] =  make_code_list_for_daegu(df_daegu_code,\"중구\")\n",
    "\n",
    "#경산시\n",
    "df_gyeongsan_code= df_code_table_pre[df_code_table_pre['시군구명']=='경산시'] \n",
    "df_gyeongsan_code= df_gyeongsan_code.dropna(subset=['읍면동명'])\n",
    "list_gyeongsan_cd =  df_gyeongsan_code['법정동코드']\n",
    "dict_region_codes[\"경산시\"] = list_gyeongsan_cd.unique()#유일한 값만 남겨둠\n",
    "\n",
    "#고령군\n",
    "df_goryeong_code= df_code_table_pre[df_code_table_pre['시군구명']=='고령군']\n",
    "df_goryeong_code= df_goryeong_code.dropna(subset=['읍면동명'])\n",
    "list_goryeong_cd =  df_goryeong_code['법정동코드']\n",
    "dict_region_codes[\"고령군\"] = list_goryeong_cd.unique()#유일한 값만 남겨둠\n",
    "\n",
    "#칠곡군 동명면\n",
    "df_dongmyeong_code= df_code_table_pre[df_code_table_pre['읍면동명']=='동명면']\n",
    "list_dongmyeong_cd =  df_dongmyeong_code['법정동코드']\n",
    "dict_region_codes[\"칠곡군\"] = list_dongmyeong_cd.unique()#유일한 값만 남겨둠\n"
   ]
  },
  {
   "cell_type": "code",
   "execution_count": 11,
   "id": "47ef85ed",
   "metadata": {},
   "outputs": [
    {
     "name": "stdout",
     "output_type": "stream",
     "text": [
      "남구\t3\n",
      "달서구\t24\n",
      "달성군\t9\n",
      "동구\t45\n",
      "북구\t31\n",
      "서구\t9\n",
      "수성구\t26\n",
      "중구\t57\n",
      "경산시\t36\n",
      "고령군\t8\n",
      "칠곡군\t1\n"
     ]
    }
   ],
   "source": [
    "# 각 지역별로 지역코드(동별) 개수 확인\n",
    "for key in dict_region_codes:\n",
    "    print(f'{key}\\t{len(dict_region_codes[key])}')"
   ]
  },
  {
   "cell_type": "markdown",
   "id": "20573707",
   "metadata": {},
   "source": [
    "### 3. Open API를 이용한 세대수 데이터 추출"
   ]
  },
  {
   "cell_type": "code",
   "execution_count": 12,
   "id": "377236a4",
   "metadata": {},
   "outputs": [],
   "source": [
    "import warnings\n",
    "from time import sleep\n",
    "warnings.filterwarnings(action='ignore')"
   ]
  },
  {
   "cell_type": "code",
   "execution_count": 13,
   "id": "db07685d",
   "metadata": {},
   "outputs": [],
   "source": [
    "service_url = 'http://apis.data.go.kr/1741000/stdgPpltnHhStus'\n",
    "# 일반 인증키(Encoding)\t\n",
    "api_key = 'IVgu%2FZBjA6hpLryyEOpySC2RhogOhaJIUqlXN8Uyj3Gxw4s3dX0qMxfgXMTLl60%2Fs2EYAMUsyyzTqwVOnjoIhg%3D%3D'\n",
    "level = '4'     # 조회결과구분. 광역시도 단위 : 1, 시군구 단위 : 2, 읍면동 단위 : 3, 읍면동 통반 단위 : 4(기본값 : 4)\n",
    "reg_code = '1'  # 등록구분. 전체:1, 거주자:2, 거주불명자:3, 재외국민:4(기본값 : 1)\n",
    "req_type = 'json'   # 타입. XML, JSON(기본값 : XML)\n",
    "pageRows = '8000'    # 페이지 크기. 페이지당 목록 수(1~100)(기본값 : 10)\n",
    "pageNo = '1'        # 페이지 번호. 기본값 : 1"
   ]
  },
  {
   "cell_type": "code",
   "execution_count": 14,
   "id": "ca627e67",
   "metadata": {},
   "outputs": [],
   "source": [
    "#법정동 코드를 이용한 행정동/법정동별 세대수를 API로 구하는 함수\n",
    "def make_hh_data(df,list_cd,month):\n",
    "    for i in tqdm(list_cd): \n",
    "        url = f'{service_url}/selectStdgPpltnHhStus?serviceKey={api_key}&stdgCd={i}&srchFrYm={month}&srchToYm={month}&lv={level}&regSeCd={reg_code}&type={req_type}&numOfRows={pageRows}&pageNo={pageNo}'\n",
    "        # url = 'https://apis.data.go.kr/1741000/stdgPpltnHhStus/selectStdgPpltnHhStus?serviceKey=IVgu%2FZBjA6hpLryyEOpySC2RhogOhaJIUqlXN8Uyj3Gxw4s3dX0qMxfgXMTLl60%2Fs2EYAMUsyyzTqwVOnjoIhg%3D%3D&stdgCd='+i+'&srchFrYm='+month+'&srchToYm='+month+'&lv=4&regSeCd=1&type=json&numOfRows=8000&pageNo=1'\n",
    "        response = requests.get(url,verify=False)\n",
    "        #데이터 값 출력해보기\n",
    "        contents = response.text\n",
    "        json_ob = json.loads(contents)\n",
    "        body = json_ob['Response']['items']['item']\n",
    "        dataframe = pd.json_normalize(body)\n",
    "        df = pd.concat([df,dataframe],axis = 0) #데이터 결합\n",
    "    return df\n",
    "\n",
    "#시군구별 세대수를 알아보는 함수 >> 시군구 자료와 데이터 비교\n",
    "def know_hhcnt(df):\n",
    "    df['hhCnt'] =df['hhCnt'].astype(str).astype(int)\n",
    "    df['femlNmprCnt'] =df['femlNmprCnt'].astype(str).astype(int)\n",
    "    df['totNmprCnt'] =df['totNmprCnt'].astype(str).astype(int)\n",
    "    df['maleNmprCnt'] =df['maleNmprCnt'].astype(str).astype(int)\n",
    "    know_hhcnt = df.groupby('sggNm').sum()\n",
    "    return know_hhcnt\n",
    "\n",
    "#기존의 표와 같이 보기 편하게 순서 변경 및 컬럼 변경\n",
    "def name_sort_change(df):\n",
    "    #이름 변경\n",
    "    df.rename(columns={'hhCnt':'세대수','tong':'통','femlNmprCnt':'여자인구수','stdgCd':'법정동코드','maleFemlRate':'남여비율',\n",
    "                       'stdgNm':'법정동명','ban':'반','totNmprCnt':'총인구수','ctpvNm':'시도명','maleNmprCnt':'남자인구수',\n",
    "                       'sggNm':'시군구명','dongNm':'행정동명','hhNmpr':'세대당인구','admmCd':'행정기관코드',\n",
    "                       'statsYm':'통계년월','liNm':'리명'},inplace=True)\n",
    "    #기존의 표와 같이 순서 변경\n",
    "    df = df[['통계년월','법정동코드','시도명','시군구명','법정동명','리명','행정기관코드','행정동명','통',\n",
    "             '반','총인구수','세대수','세대당인구','남자인구수','여자인구수','남여비율']]\n",
    "    df['업데이트일자'] = datetime.now().strftime(\"%Y%m%d\")\n",
    "    return df"
   ]
  },
  {
   "cell_type": "code",
   "execution_count": 15,
   "id": "204a43e1",
   "metadata": {},
   "outputs": [
    {
     "name": "stdout",
     "output_type": "stream",
     "text": [
      "{'남구': 0, '달서구': 0, '달성군': 0, '동구': 0, '북구': 0, '서구': 0, '수성구': 0, '중구': 0, '경산시': 0, '고령군': 0, '칠곡군': 0}\n"
     ]
    }
   ],
   "source": [
    "# 각 지역별로 데이터 수집 결과 초기화\n",
    "dict_region_results = {}\n",
    "for key in dict_region_codes:\n",
    "    dict_region_results[key] = 0\n",
    "print(dict_region_results)"
   ]
  },
  {
   "cell_type": "code",
   "execution_count": 16,
   "id": "84abe664",
   "metadata": {},
   "outputs": [
    {
     "name": "stdout",
     "output_type": "stream",
     "text": [
      "남구  try  0\n"
     ]
    },
    {
     "data": {
      "application/vnd.jupyter.widget-view+json": {
       "model_id": "01213e1cb4e64f2fab29520b76eddbb7",
       "version_major": 2,
       "version_minor": 0
      },
      "text/plain": [
       "  0%|          | 0/3 [00:00<?, ?it/s]"
      ]
     },
     "metadata": {},
     "output_type": "display_data"
    },
    {
     "name": "stdout",
     "output_type": "stream",
     "text": [
      "달서구  try  0\n"
     ]
    },
    {
     "data": {
      "application/vnd.jupyter.widget-view+json": {
       "model_id": "cf672ecbf58a4548baa8712207dd8533",
       "version_major": 2,
       "version_minor": 0
      },
      "text/plain": [
       "  0%|          | 0/24 [00:00<?, ?it/s]"
      ]
     },
     "metadata": {},
     "output_type": "display_data"
    },
    {
     "name": "stdout",
     "output_type": "stream",
     "text": [
      "달성군  try  0\n"
     ]
    },
    {
     "data": {
      "application/vnd.jupyter.widget-view+json": {
       "model_id": "fff1bfdfa4a942c9aae517e111666dab",
       "version_major": 2,
       "version_minor": 0
      },
      "text/plain": [
       "  0%|          | 0/9 [00:00<?, ?it/s]"
      ]
     },
     "metadata": {},
     "output_type": "display_data"
    },
    {
     "name": "stdout",
     "output_type": "stream",
     "text": [
      "동구  try  0\n"
     ]
    },
    {
     "data": {
      "application/vnd.jupyter.widget-view+json": {
       "model_id": "3c8a5125559c45bdbc5f6654bc38e137",
       "version_major": 2,
       "version_minor": 0
      },
      "text/plain": [
       "  0%|          | 0/45 [00:00<?, ?it/s]"
      ]
     },
     "metadata": {},
     "output_type": "display_data"
    },
    {
     "name": "stdout",
     "output_type": "stream",
     "text": [
      "북구  try  0\n"
     ]
    },
    {
     "data": {
      "application/vnd.jupyter.widget-view+json": {
       "model_id": "9f2a6e0933db4690883c277e8cb8e612",
       "version_major": 2,
       "version_minor": 0
      },
      "text/plain": [
       "  0%|          | 0/31 [00:00<?, ?it/s]"
      ]
     },
     "metadata": {},
     "output_type": "display_data"
    },
    {
     "name": "stdout",
     "output_type": "stream",
     "text": [
      "서구  try  0\n"
     ]
    },
    {
     "data": {
      "application/vnd.jupyter.widget-view+json": {
       "model_id": "7f157e549fe042e18066c3b39ff9addd",
       "version_major": 2,
       "version_minor": 0
      },
      "text/plain": [
       "  0%|          | 0/9 [00:00<?, ?it/s]"
      ]
     },
     "metadata": {},
     "output_type": "display_data"
    },
    {
     "name": "stdout",
     "output_type": "stream",
     "text": [
      "수성구  try  0\n"
     ]
    },
    {
     "data": {
      "application/vnd.jupyter.widget-view+json": {
       "model_id": "594cf9a65d974e5aaa2aab88c2f7c215",
       "version_major": 2,
       "version_minor": 0
      },
      "text/plain": [
       "  0%|          | 0/26 [00:00<?, ?it/s]"
      ]
     },
     "metadata": {},
     "output_type": "display_data"
    },
    {
     "name": "stdout",
     "output_type": "stream",
     "text": [
      "수성구  try  1\n"
     ]
    },
    {
     "data": {
      "application/vnd.jupyter.widget-view+json": {
       "model_id": "6964d5fc494342f4b697646f46a1764f",
       "version_major": 2,
       "version_minor": 0
      },
      "text/plain": [
       "  0%|          | 0/26 [00:00<?, ?it/s]"
      ]
     },
     "metadata": {},
     "output_type": "display_data"
    },
    {
     "name": "stdout",
     "output_type": "stream",
     "text": [
      "중구  try  0\n"
     ]
    },
    {
     "data": {
      "application/vnd.jupyter.widget-view+json": {
       "model_id": "e6707fd74b7a4f53a75352e5270e0b90",
       "version_major": 2,
       "version_minor": 0
      },
      "text/plain": [
       "  0%|          | 0/57 [00:00<?, ?it/s]"
      ]
     },
     "metadata": {},
     "output_type": "display_data"
    },
    {
     "name": "stdout",
     "output_type": "stream",
     "text": [
      "경산시  try  0\n"
     ]
    },
    {
     "data": {
      "application/vnd.jupyter.widget-view+json": {
       "model_id": "eac08a7146c84ba58a24ce7d2204adb7",
       "version_major": 2,
       "version_minor": 0
      },
      "text/plain": [
       "  0%|          | 0/36 [00:00<?, ?it/s]"
      ]
     },
     "metadata": {},
     "output_type": "display_data"
    },
    {
     "name": "stdout",
     "output_type": "stream",
     "text": [
      "고령군  try  0\n"
     ]
    },
    {
     "data": {
      "application/vnd.jupyter.widget-view+json": {
       "model_id": "27bec6fda3134f098d7e5fdd5fa57a66",
       "version_major": 2,
       "version_minor": 0
      },
      "text/plain": [
       "  0%|          | 0/8 [00:00<?, ?it/s]"
      ]
     },
     "metadata": {},
     "output_type": "display_data"
    },
    {
     "name": "stdout",
     "output_type": "stream",
     "text": [
      "칠곡군  try  0\n"
     ]
    },
    {
     "data": {
      "application/vnd.jupyter.widget-view+json": {
       "model_id": "00145dd2799e4a26882deac91b49f922",
       "version_major": 2,
       "version_minor": 0
      },
      "text/plain": [
       "  0%|          | 0/1 [00:00<?, ?it/s]"
      ]
     },
     "metadata": {},
     "output_type": "display_data"
    },
    {
     "name": "stdout",
     "output_type": "stream",
     "text": [
      "각 지역별 데이터 수집 결과\n",
      "남구\t1\n",
      "달서구\t1\n",
      "달성군\t1\n",
      "동구\t1\n",
      "북구\t1\n",
      "서구\t1\n",
      "수성구\t1\n",
      "중구\t1\n",
      "경산시\t1\n",
      "고령군\t1\n",
      "칠곡군\t1\n"
     ]
    }
   ],
   "source": [
    "# 각 지역별로 API 호출하여 동별 세대수 데이터 가져오기\n",
    "dict_region_data = {}\n",
    "for key in dict_region_results:\n",
    "    # 최대 5회 시도\n",
    "    num_retry = 5\n",
    "    for retry in range(num_retry):\n",
    "        try:\n",
    "            print(key, \" try \", retry)\n",
    "            df_region_cd_list = dict_region_codes[key]\n",
    "            df_region_data = pd.DataFrame()\n",
    "            df_region_data = make_hh_data(df_region_data, df_region_cd_list, month) #남구\n",
    "            dict_region_data[key] = df_region_data\n",
    "            dict_region_results[key] = 1    # 성공\n",
    "            break\n",
    "        except Exception:\n",
    "            continue\n",
    "    sleep(5)\n",
    "    \n",
    "# 각 지역별로 데이터 수집 결과 확인: 성공(1), 실패(0)\n",
    "print(\"각 지역별 데이터 수집 결과\")\n",
    "for key in dict_region_results:\n",
    "    print(f'{key}\\t{dict_region_results[key]}')"
   ]
  },
  {
   "cell_type": "code",
   "execution_count": 17,
   "id": "de22e9e2",
   "metadata": {},
   "outputs": [
    {
     "data": {
      "text/plain": [
       "(27655, 16)"
      ]
     },
     "execution_count": 17,
     "metadata": {},
     "output_type": "execute_result"
    }
   ],
   "source": [
    "df_house_hold = pd.DataFrame()\n",
    "for key in dict_region_data:\n",
    "    df_house_hold = pd.concat([df_house_hold, dict_region_data[key]], axis = 0)\n",
    "df_house_hold.shape"
   ]
  },
  {
   "cell_type": "code",
   "execution_count": 18,
   "id": "6b485304",
   "metadata": {},
   "outputs": [
    {
     "data": {
      "text/html": [
       "<div>\n",
       "<style scoped>\n",
       "    .dataframe tbody tr th:only-of-type {\n",
       "        vertical-align: middle;\n",
       "    }\n",
       "\n",
       "    .dataframe tbody tr th {\n",
       "        vertical-align: top;\n",
       "    }\n",
       "\n",
       "    .dataframe thead th {\n",
       "        text-align: right;\n",
       "    }\n",
       "</style>\n",
       "<table border=\"1\" class=\"dataframe\">\n",
       "  <thead>\n",
       "    <tr style=\"text-align: right;\">\n",
       "      <th></th>\n",
       "      <th>hhCnt</th>\n",
       "      <th>tong</th>\n",
       "      <th>femlNmprCnt</th>\n",
       "      <th>stdgCd</th>\n",
       "      <th>maleFemlRate</th>\n",
       "      <th>stdgNm</th>\n",
       "      <th>ban</th>\n",
       "      <th>totNmprCnt</th>\n",
       "      <th>ctpvNm</th>\n",
       "      <th>maleNmprCnt</th>\n",
       "      <th>sggNm</th>\n",
       "      <th>dongNm</th>\n",
       "      <th>hhNmpr</th>\n",
       "      <th>admmCd</th>\n",
       "      <th>statsYm</th>\n",
       "      <th>liNm</th>\n",
       "    </tr>\n",
       "  </thead>\n",
       "  <tbody>\n",
       "    <tr>\n",
       "      <th>0</th>\n",
       "      <td>9</td>\n",
       "      <td>1</td>\n",
       "      <td>6</td>\n",
       "      <td>2720010100</td>\n",
       "      <td>0.83</td>\n",
       "      <td>이천동</td>\n",
       "      <td>1</td>\n",
       "      <td>11</td>\n",
       "      <td>대구광역시</td>\n",
       "      <td>5</td>\n",
       "      <td>남구</td>\n",
       "      <td>이천동</td>\n",
       "      <td>1.22</td>\n",
       "      <td>2720051500</td>\n",
       "      <td>202307</td>\n",
       "      <td>NaN</td>\n",
       "    </tr>\n",
       "    <tr>\n",
       "      <th>1</th>\n",
       "      <td>25</td>\n",
       "      <td>1</td>\n",
       "      <td>24</td>\n",
       "      <td>2720010100</td>\n",
       "      <td>0.96</td>\n",
       "      <td>이천동</td>\n",
       "      <td>2</td>\n",
       "      <td>47</td>\n",
       "      <td>대구광역시</td>\n",
       "      <td>23</td>\n",
       "      <td>남구</td>\n",
       "      <td>이천동</td>\n",
       "      <td>1.88</td>\n",
       "      <td>2720051500</td>\n",
       "      <td>202307</td>\n",
       "      <td>NaN</td>\n",
       "    </tr>\n",
       "    <tr>\n",
       "      <th>2</th>\n",
       "      <td>35</td>\n",
       "      <td>1</td>\n",
       "      <td>26</td>\n",
       "      <td>2720010100</td>\n",
       "      <td>1.12</td>\n",
       "      <td>이천동</td>\n",
       "      <td>4</td>\n",
       "      <td>55</td>\n",
       "      <td>대구광역시</td>\n",
       "      <td>29</td>\n",
       "      <td>남구</td>\n",
       "      <td>이천동</td>\n",
       "      <td>1.57</td>\n",
       "      <td>2720051500</td>\n",
       "      <td>202307</td>\n",
       "      <td>NaN</td>\n",
       "    </tr>\n",
       "    <tr>\n",
       "      <th>3</th>\n",
       "      <td>52</td>\n",
       "      <td>1</td>\n",
       "      <td>35</td>\n",
       "      <td>2720010100</td>\n",
       "      <td>1.03</td>\n",
       "      <td>이천동</td>\n",
       "      <td>5</td>\n",
       "      <td>71</td>\n",
       "      <td>대구광역시</td>\n",
       "      <td>36</td>\n",
       "      <td>남구</td>\n",
       "      <td>이천동</td>\n",
       "      <td>1.37</td>\n",
       "      <td>2720051500</td>\n",
       "      <td>202307</td>\n",
       "      <td>NaN</td>\n",
       "    </tr>\n",
       "    <tr>\n",
       "      <th>4</th>\n",
       "      <td>55</td>\n",
       "      <td>2</td>\n",
       "      <td>69</td>\n",
       "      <td>2720010100</td>\n",
       "      <td>0.88</td>\n",
       "      <td>이천동</td>\n",
       "      <td>1</td>\n",
       "      <td>130</td>\n",
       "      <td>대구광역시</td>\n",
       "      <td>61</td>\n",
       "      <td>남구</td>\n",
       "      <td>이천동</td>\n",
       "      <td>2.36</td>\n",
       "      <td>2720051500</td>\n",
       "      <td>202307</td>\n",
       "      <td>NaN</td>\n",
       "    </tr>\n",
       "    <tr>\n",
       "      <th>...</th>\n",
       "      <td>...</td>\n",
       "      <td>...</td>\n",
       "      <td>...</td>\n",
       "      <td>...</td>\n",
       "      <td>...</td>\n",
       "      <td>...</td>\n",
       "      <td>...</td>\n",
       "      <td>...</td>\n",
       "      <td>...</td>\n",
       "      <td>...</td>\n",
       "      <td>...</td>\n",
       "      <td>...</td>\n",
       "      <td>...</td>\n",
       "      <td>...</td>\n",
       "      <td>...</td>\n",
       "      <td>...</td>\n",
       "    </tr>\n",
       "    <tr>\n",
       "      <th>63</th>\n",
       "      <td>18</td>\n",
       "      <td>17</td>\n",
       "      <td>18</td>\n",
       "      <td>4785032038</td>\n",
       "      <td>1.11</td>\n",
       "      <td>동명면</td>\n",
       "      <td>3</td>\n",
       "      <td>38</td>\n",
       "      <td>경상북도</td>\n",
       "      <td>20</td>\n",
       "      <td>칠곡군</td>\n",
       "      <td>동명면</td>\n",
       "      <td>2.11</td>\n",
       "      <td>4785032000</td>\n",
       "      <td>202307</td>\n",
       "      <td>봉암리</td>\n",
       "    </tr>\n",
       "    <tr>\n",
       "      <th>64</th>\n",
       "      <td>27</td>\n",
       "      <td>17</td>\n",
       "      <td>17</td>\n",
       "      <td>4785032038</td>\n",
       "      <td>1.53</td>\n",
       "      <td>동명면</td>\n",
       "      <td>4</td>\n",
       "      <td>43</td>\n",
       "      <td>경상북도</td>\n",
       "      <td>26</td>\n",
       "      <td>칠곡군</td>\n",
       "      <td>동명면</td>\n",
       "      <td>1.59</td>\n",
       "      <td>4785032000</td>\n",
       "      <td>202307</td>\n",
       "      <td>봉암리</td>\n",
       "    </tr>\n",
       "    <tr>\n",
       "      <th>65</th>\n",
       "      <td>12</td>\n",
       "      <td>17</td>\n",
       "      <td>10</td>\n",
       "      <td>4785032038</td>\n",
       "      <td>1.30</td>\n",
       "      <td>동명면</td>\n",
       "      <td>5</td>\n",
       "      <td>23</td>\n",
       "      <td>경상북도</td>\n",
       "      <td>13</td>\n",
       "      <td>칠곡군</td>\n",
       "      <td>동명면</td>\n",
       "      <td>1.92</td>\n",
       "      <td>4785032000</td>\n",
       "      <td>202307</td>\n",
       "      <td>봉암리</td>\n",
       "    </tr>\n",
       "    <tr>\n",
       "      <th>66</th>\n",
       "      <td>71</td>\n",
       "      <td>17</td>\n",
       "      <td>48</td>\n",
       "      <td>4785032038</td>\n",
       "      <td>1.50</td>\n",
       "      <td>동명면</td>\n",
       "      <td>6</td>\n",
       "      <td>120</td>\n",
       "      <td>경상북도</td>\n",
       "      <td>72</td>\n",
       "      <td>칠곡군</td>\n",
       "      <td>동명면</td>\n",
       "      <td>1.69</td>\n",
       "      <td>4785032000</td>\n",
       "      <td>202307</td>\n",
       "      <td>봉암리</td>\n",
       "    </tr>\n",
       "    <tr>\n",
       "      <th>67</th>\n",
       "      <td>26</td>\n",
       "      <td>17</td>\n",
       "      <td>20</td>\n",
       "      <td>4785032038</td>\n",
       "      <td>1.20</td>\n",
       "      <td>동명면</td>\n",
       "      <td>7</td>\n",
       "      <td>44</td>\n",
       "      <td>경상북도</td>\n",
       "      <td>24</td>\n",
       "      <td>칠곡군</td>\n",
       "      <td>동명면</td>\n",
       "      <td>1.69</td>\n",
       "      <td>4785032000</td>\n",
       "      <td>202307</td>\n",
       "      <td>봉암리</td>\n",
       "    </tr>\n",
       "  </tbody>\n",
       "</table>\n",
       "<p>27655 rows × 16 columns</p>\n",
       "</div>"
      ],
      "text/plain": [
       "   hhCnt tong femlNmprCnt      stdgCd maleFemlRate stdgNm ban totNmprCnt  \\\n",
       "0      9    1           6  2720010100         0.83    이천동   1         11   \n",
       "1     25    1          24  2720010100         0.96    이천동   2         47   \n",
       "2     35    1          26  2720010100         1.12    이천동   4         55   \n",
       "3     52    1          35  2720010100         1.03    이천동   5         71   \n",
       "4     55    2          69  2720010100         0.88    이천동   1        130   \n",
       "..   ...  ...         ...         ...          ...    ...  ..        ...   \n",
       "63    18   17          18  4785032038         1.11    동명면   3         38   \n",
       "64    27   17          17  4785032038         1.53    동명면   4         43   \n",
       "65    12   17          10  4785032038         1.30    동명면   5         23   \n",
       "66    71   17          48  4785032038         1.50    동명면   6        120   \n",
       "67    26   17          20  4785032038         1.20    동명면   7         44   \n",
       "\n",
       "   ctpvNm maleNmprCnt sggNm dongNm hhNmpr      admmCd statsYm liNm  \n",
       "0   대구광역시           5    남구    이천동   1.22  2720051500  202307  NaN  \n",
       "1   대구광역시          23    남구    이천동   1.88  2720051500  202307  NaN  \n",
       "2   대구광역시          29    남구    이천동   1.57  2720051500  202307  NaN  \n",
       "3   대구광역시          36    남구    이천동   1.37  2720051500  202307  NaN  \n",
       "4   대구광역시          61    남구    이천동   2.36  2720051500  202307  NaN  \n",
       "..    ...         ...   ...    ...    ...         ...     ...  ...  \n",
       "63   경상북도          20   칠곡군    동명면   2.11  4785032000  202307  봉암리  \n",
       "64   경상북도          26   칠곡군    동명면   1.59  4785032000  202307  봉암리  \n",
       "65   경상북도          13   칠곡군    동명면   1.92  4785032000  202307  봉암리  \n",
       "66   경상북도          72   칠곡군    동명면   1.69  4785032000  202307  봉암리  \n",
       "67   경상북도          24   칠곡군    동명면   1.69  4785032000  202307  봉암리  \n",
       "\n",
       "[27655 rows x 16 columns]"
      ]
     },
     "execution_count": 18,
     "metadata": {},
     "output_type": "execute_result"
    }
   ],
   "source": [
    "df_house_hold"
   ]
  },
  {
   "cell_type": "code",
   "execution_count": 19,
   "id": "b4298dab",
   "metadata": {},
   "outputs": [],
   "source": [
    "# df_house_hold.drop_duplicates(keep = 'first',inplace=True) #중복값 제거 >> 중복값이 있을 때 첫번째 값만 남겨둠"
   ]
  },
  {
   "cell_type": "code",
   "execution_count": 20,
   "id": "d8b8315b",
   "metadata": {},
   "outputs": [
    {
     "name": "stdout",
     "output_type": "stream",
     "text": [
      "        hhCnt                                               tong  femlNmprCnt  \\\n",
      "sggNm                                                                           \n",
      "경산시    129170  1234566789101112133536141515373737373737373838...       132810   \n",
      "고령군     16919  1111111112222222223262645678889101112131415161...        14689   \n",
      "남구      76471  1111222223333344444455555566666667777778888888...        73516   \n",
      "달서구    236819  1111112222223333334444455555566666677777788888...       271465   \n",
      "달성군    114071  1111111111112222222222233333333344444444555555...       129545   \n",
      "동구     161108  1111111111111111111111111111111222222222222222...       173627   \n",
      "북구     192659  1191919191920202020202021212121211111122222233...       214392   \n",
      "서구      81747  1111111111111111111112222222222222222222222333...        80236   \n",
      "수성구    171298  1111111111111111111111111111122222222222222222...       211164   \n",
      "중구      43214  1111122333334455554455162323232323232366666677...        44410   \n",
      "칠곡군      2963  1111112222233333334445555667777888881010101011...         2532   \n",
      "\n",
      "                                                  stdgCd  \\\n",
      "sggNm                                                      \n",
      "경산시    4729025021472902502147290250214729025021472902...   \n",
      "고령군    4783025321478302532147830253214783025321478302...   \n",
      "남구     2720010100272001010027200101002720010100272001...   \n",
      "달서구    2729010100272901010027290101002729010100272901...   \n",
      "달성군    2771025021277102502127710250212771025021277102...   \n",
      "동구     2714010100271401010027140101002714010100271401...   \n",
      "북구     2723010300272301030027230103002723010300272301...   \n",
      "서구     2717010100271701010027170101002717010100271701...   \n",
      "수성구    2726010100272601010027260101002726010100272601...   \n",
      "중구     2711010100271101010027110101002711010100271101...   \n",
      "칠곡군    4785032030478503203047850320304785032030478503...   \n",
      "\n",
      "                                            maleFemlRate  \\\n",
      "sggNm                                                      \n",
      "경산시    1.071.080.600.980.891.000.910.911.041.061.200....   \n",
      "고령군    1.000.820.880.861.251.091.381.071.421.120.401....   \n",
      "남구     0.830.961.121.030.880.930.820.690.940.790.930....   \n",
      "달서구    1.040.700.811.041.000.680.710.840.970.830.861....   \n",
      "달성군    1.131.051.770.921.201.210.940.771.151.007.001....   \n",
      "동구     0.951.081.300.900.940.500.700.960.750.981.001....   \n",
      "북구     0.501.031.271.081.011.090.990.911.051.151.071....   \n",
      "서구     1.330.931.040.461.460.970.950.781.381.181.030....   \n",
      "수성구    1.330.500.881.401.181.560.871.370.760.710.470....   \n",
      "중구     0.950.860.002.000.001.000.001.080.770.510.880....   \n",
      "칠곡군    0.632.330.871.220.971.001.031.261.151.501.281....   \n",
      "\n",
      "                                                  stdgNm  \\\n",
      "sggNm                                                      \n",
      "경산시    하양읍하양읍하양읍하양읍하양읍하양읍하양읍하양읍하양읍하양읍하양읍하양읍하양읍하양읍하양읍하...   \n",
      "고령군    대가야읍대가야읍대가야읍대가야읍대가야읍대가야읍대가야읍대가야읍대가야읍대가야읍대가야읍대가...   \n",
      "남구     이천동이천동이천동이천동이천동이천동이천동이천동이천동이천동이천동이천동이천동이천동이천동이...   \n",
      "달서구    성당동성당동성당동성당동성당동성당동성당동성당동성당동성당동성당동성당동성당동성당동성당동성...   \n",
      "달성군    화원읍화원읍화원읍화원읍화원읍화원읍화원읍화원읍화원읍화원읍화원읍화원읍화원읍화원읍화원읍화...   \n",
      "동구     신암동신암동신암동신암동신암동신암동신암동신암동신암동신암동신암동신암동신암동신암동신암동신...   \n",
      "북구     고성동1가고성동1가고성동1가고성동1가고성동1가고성동1가고성동1가고성동1가고성동1가고...   \n",
      "서구     내당동내당동내당동내당동내당동내당동내당동내당동내당동내당동내당동내당동내당동내당동내당동내...   \n",
      "수성구    범어동범어동범어동범어동범어동범어동범어동범어동범어동범어동범어동범어동범어동범어동범어동범...   \n",
      "중구     동인동1가동인동1가동인동1가동인동1가동인동1가동인동1가동인동1가동인동1가동인동1가동...   \n",
      "칠곡군    동명면동명면동명면동명면동명면동명면동명면동명면동명면동명면동명면동명면동명면동명면동명면동...   \n",
      "\n",
      "                                                     ban  totNmprCnt  \\\n",
      "sggNm                                                                  \n",
      "경산시    3121234561234567123451231234512367891213123567...      267246   \n",
      "고령군    1234567818910141719205453121232123231231212121...       30206   \n",
      "남구     1245123451234512345612345612345671234561234567...      140768   \n",
      "달서구    1234561234561234561234612345612345612345612345...      533248   \n",
      "달성군    1234567891011121234567891022123456789123456781...      263023   \n",
      "동구     1111122222333344445555566666778111112222233334...      340568   \n",
      "북구     1123451234561234512345123456123451234561234561...      425718   \n",
      "서구     1112223334445556677891112223334445556667778111...      159603   \n",
      "수성구    1111222233334444555566667788911122233344455566...      407697   \n",
      "중구     1245634123451334564512712345671234561234561234...       85296   \n",
      "칠곡군    1234512345123456712312341212341234512341212312...        5172   \n",
      "\n",
      "                                                  ctpvNm  maleNmprCnt  \\\n",
      "sggNm                                                                   \n",
      "경산시    경상북도경상북도경상북도경상북도경상북도경상북도경상북도경상북도경상북도경상북도경상북도경상...       134436   \n",
      "고령군    경상북도경상북도경상북도경상북도경상북도경상북도경상북도경상북도경상북도경상북도경상북도경상...        15517   \n",
      "남구     대구광역시대구광역시대구광역시대구광역시대구광역시대구광역시대구광역시대구광역시대구광역시대...        67252   \n",
      "달서구    대구광역시대구광역시대구광역시대구광역시대구광역시대구광역시대구광역시대구광역시대구광역시대...       261783   \n",
      "달성군    대구광역시대구광역시대구광역시대구광역시대구광역시대구광역시대구광역시대구광역시대구광역시대...       133478   \n",
      "동구     대구광역시대구광역시대구광역시대구광역시대구광역시대구광역시대구광역시대구광역시대구광역시대...       166941   \n",
      "북구     대구광역시대구광역시대구광역시대구광역시대구광역시대구광역시대구광역시대구광역시대구광역시대...       211326   \n",
      "서구     대구광역시대구광역시대구광역시대구광역시대구광역시대구광역시대구광역시대구광역시대구광역시대...        79367   \n",
      "수성구    대구광역시대구광역시대구광역시대구광역시대구광역시대구광역시대구광역시대구광역시대구광역시대...       196533   \n",
      "중구     대구광역시대구광역시대구광역시대구광역시대구광역시대구광역시대구광역시대구광역시대구광역시대...        40886   \n",
      "칠곡군    경상북도경상북도경상북도경상북도경상북도경상북도경상북도경상북도경상북도경상북도경상북도경상...         2640   \n",
      "\n",
      "                                                  dongNm  \\\n",
      "sggNm                                                      \n",
      "경산시    하양읍하양읍하양읍하양읍하양읍하양읍하양읍하양읍하양읍하양읍하양읍하양읍하양읍하양읍하양읍하...   \n",
      "고령군    대가야읍대가야읍대가야읍대가야읍대가야읍대가야읍대가야읍대가야읍대가야읍대가야읍대가야읍대가...   \n",
      "남구     이천동이천동이천동이천동이천동이천동이천동이천동이천동이천동이천동이천동이천동이천동이천동이...   \n",
      "달서구    성당동성당동성당동성당동성당동성당동성당동성당동성당동성당동성당동성당동성당동성당동성당동성...   \n",
      "달성군    화원읍화원읍화원읍화원읍화원읍화원읍화원읍화원읍화원읍화원읍화원읍화원읍화원읍화원읍화원읍화...   \n",
      "동구     신암5동신암3동신암1동신암4동신암2동신암2동신암1동신암3동신암5동신암4동신암1동신암...   \n",
      "북구     고성동고성동고성동고성동고성동고성동고성동고성동고성동고성동고성동고성동고성동고성동고성동고...   \n",
      "서구     내당4동내당1동내당2.3동내당2.3동내당4동내당1동내당4동내당2.3동내당1동내당4동...   \n",
      "수성구    범어4동범어3동범어1동범어2동범어4동범어1동범어3동범어2동범어4동범어2동범어1동범어...   \n",
      "중구     동인동동인동동인동동인동동인동동인동동인동동인동동인동동인동동인동동인동동인동동인동동인동동...   \n",
      "칠곡군    동명면동명면동명면동명면동명면동명면동명면동명면동명면동명면동명면동명면동명면동명면동명면동...   \n",
      "\n",
      "                                                  hhNmpr  \\\n",
      "sggNm                                                      \n",
      "경산시    1.471.561.641.472.322.002.582.292.331.871.821....   \n",
      "고령군    1.431.821.961.681.421.641.902.071.453.073.502....   \n",
      "남구     1.221.881.571.372.362.432.172.262.412.432.242....   \n",
      "달서구    2.041.501.551.682.131.682.321.441.781.961.811....   \n",
      "달성군    1.782.221.591.821.652.001.881.771.651.761.001....   \n",
      "동구     2.311.661.231.831.671.251.421.641.882.022.002....   \n",
      "북구     1.382.312.232.452.492.582.662.592.782.592.582....   \n",
      "서구     1.442.811.761.891.382.521.642.003.001.572.261....   \n",
      "수성구    3.841.561.411.633.651.441.442.093.481.961.131....   \n",
      "중구     2.651.441.001.001.001.001.001.982.021.622.032....   \n",
      "칠곡군    1.291.671.681.431.692.001.711.942.001.671.831....   \n",
      "\n",
      "                                                  admmCd  \\\n",
      "sggNm                                                      \n",
      "경산시    4729025000472902500047290250004729025000472902...   \n",
      "고령군    4783025300478302530047830253004783025300478302...   \n",
      "남구     2720051500272005150027200515002720051500272005...   \n",
      "달서구    2729051500272905150027290515002729051500272905...   \n",
      "달성군    2771025000277102500027710250002771025000277102...   \n",
      "동구     2714054100271405300027140510002714054000271405...   \n",
      "북구     2723051000272305100027230510002723051000272305...   \n",
      "서구     2717054000271705100027170525002717052500271705...   \n",
      "수성구    2726054000272605300027260510002726052000272605...   \n",
      "중구     2711051700271105170027110517002711051700271105...   \n",
      "칠곡군    4785032000478503200047850320004785032000478503...   \n",
      "\n",
      "                                                 statsYm  \\\n",
      "sggNm                                                      \n",
      "경산시    2023072023072023072023072023072023072023072023...   \n",
      "고령군    2023072023072023072023072023072023072023072023...   \n",
      "남구     2023072023072023072023072023072023072023072023...   \n",
      "달서구    2023072023072023072023072023072023072023072023...   \n",
      "달성군    2023072023072023072023072023072023072023072023...   \n",
      "동구     2023072023072023072023072023072023072023072023...   \n",
      "북구     2023072023072023072023072023072023072023072023...   \n",
      "서구     2023072023072023072023072023072023072023072023...   \n",
      "수성구    2023072023072023072023072023072023072023072023...   \n",
      "중구     2023072023072023072023072023072023072023072023...   \n",
      "칠곡군    2023072023072023072023072023072023072023072023...   \n",
      "\n",
      "                                                    liNm  \n",
      "sggNm                                                     \n",
      "경산시    금락리금락리금락리금락리금락리금락리금락리금락리금락리동서리동서리동서리동서리동서리동서리동...  \n",
      "고령군    쾌빈리쾌빈리쾌빈리쾌빈리쾌빈리쾌빈리쾌빈리쾌빈리쾌빈리쾌빈리쾌빈리쾌빈리쾌빈리쾌빈리쾌빈리쾌...  \n",
      "남구                                                     0  \n",
      "달서구                                                    0  \n",
      "달성군    천내리천내리천내리천내리천내리천내리천내리천내리천내리천내리천내리천내리천내리천내리천내리천...  \n",
      "동구                                                     0  \n",
      "북구                                                     0  \n",
      "서구                                                     0  \n",
      "수성구                                                    0  \n",
      "중구                                                     0  \n",
      "칠곡군    금암리금암리금암리금암리금암리금암리금암리금암리금암리금암리금암리금암리금암리금암리금암리금...  \n"
     ]
    }
   ],
   "source": [
    "print(know_hhcnt(df_house_hold))"
   ]
  },
  {
   "cell_type": "code",
   "execution_count": 21,
   "id": "cc0cd0f0",
   "metadata": {},
   "outputs": [],
   "source": [
    "#데이터 컬럼명 변경 및 위치 변경\n",
    "df_house_hold = name_sort_change(df_house_hold)"
   ]
  },
  {
   "cell_type": "code",
   "execution_count": 22,
   "id": "7bfe2051",
   "metadata": {},
   "outputs": [],
   "source": [
    "# NaN 값을 공백으로 변환 (Table에 저장하기 위함)\n",
    "df_house_hold['리명'] = df_house_hold['리명'].fillna('')"
   ]
  },
  {
   "cell_type": "code",
   "execution_count": 23,
   "id": "65febe48",
   "metadata": {},
   "outputs": [
    {
     "data": {
      "text/html": [
       "<div>\n",
       "<style scoped>\n",
       "    .dataframe tbody tr th:only-of-type {\n",
       "        vertical-align: middle;\n",
       "    }\n",
       "\n",
       "    .dataframe tbody tr th {\n",
       "        vertical-align: top;\n",
       "    }\n",
       "\n",
       "    .dataframe thead th {\n",
       "        text-align: right;\n",
       "    }\n",
       "</style>\n",
       "<table border=\"1\" class=\"dataframe\">\n",
       "  <thead>\n",
       "    <tr style=\"text-align: right;\">\n",
       "      <th></th>\n",
       "      <th>통계년월</th>\n",
       "      <th>법정동코드</th>\n",
       "      <th>시도명</th>\n",
       "      <th>시군구명</th>\n",
       "      <th>법정동명</th>\n",
       "      <th>리명</th>\n",
       "      <th>행정기관코드</th>\n",
       "      <th>행정동명</th>\n",
       "      <th>통</th>\n",
       "      <th>반</th>\n",
       "      <th>총인구수</th>\n",
       "      <th>세대수</th>\n",
       "      <th>세대당인구</th>\n",
       "      <th>남자인구수</th>\n",
       "      <th>여자인구수</th>\n",
       "      <th>남여비율</th>\n",
       "      <th>업데이트일자</th>\n",
       "    </tr>\n",
       "  </thead>\n",
       "  <tbody>\n",
       "    <tr>\n",
       "      <th>0</th>\n",
       "      <td>202307</td>\n",
       "      <td>2720010100</td>\n",
       "      <td>대구광역시</td>\n",
       "      <td>남구</td>\n",
       "      <td>이천동</td>\n",
       "      <td></td>\n",
       "      <td>2720051500</td>\n",
       "      <td>이천동</td>\n",
       "      <td>1</td>\n",
       "      <td>1</td>\n",
       "      <td>11</td>\n",
       "      <td>9</td>\n",
       "      <td>1.22</td>\n",
       "      <td>5</td>\n",
       "      <td>6</td>\n",
       "      <td>0.83</td>\n",
       "      <td>20230904</td>\n",
       "    </tr>\n",
       "    <tr>\n",
       "      <th>1</th>\n",
       "      <td>202307</td>\n",
       "      <td>2720010100</td>\n",
       "      <td>대구광역시</td>\n",
       "      <td>남구</td>\n",
       "      <td>이천동</td>\n",
       "      <td></td>\n",
       "      <td>2720051500</td>\n",
       "      <td>이천동</td>\n",
       "      <td>1</td>\n",
       "      <td>2</td>\n",
       "      <td>47</td>\n",
       "      <td>25</td>\n",
       "      <td>1.88</td>\n",
       "      <td>23</td>\n",
       "      <td>24</td>\n",
       "      <td>0.96</td>\n",
       "      <td>20230904</td>\n",
       "    </tr>\n",
       "    <tr>\n",
       "      <th>2</th>\n",
       "      <td>202307</td>\n",
       "      <td>2720010100</td>\n",
       "      <td>대구광역시</td>\n",
       "      <td>남구</td>\n",
       "      <td>이천동</td>\n",
       "      <td></td>\n",
       "      <td>2720051500</td>\n",
       "      <td>이천동</td>\n",
       "      <td>1</td>\n",
       "      <td>4</td>\n",
       "      <td>55</td>\n",
       "      <td>35</td>\n",
       "      <td>1.57</td>\n",
       "      <td>29</td>\n",
       "      <td>26</td>\n",
       "      <td>1.12</td>\n",
       "      <td>20230904</td>\n",
       "    </tr>\n",
       "    <tr>\n",
       "      <th>3</th>\n",
       "      <td>202307</td>\n",
       "      <td>2720010100</td>\n",
       "      <td>대구광역시</td>\n",
       "      <td>남구</td>\n",
       "      <td>이천동</td>\n",
       "      <td></td>\n",
       "      <td>2720051500</td>\n",
       "      <td>이천동</td>\n",
       "      <td>1</td>\n",
       "      <td>5</td>\n",
       "      <td>71</td>\n",
       "      <td>52</td>\n",
       "      <td>1.37</td>\n",
       "      <td>36</td>\n",
       "      <td>35</td>\n",
       "      <td>1.03</td>\n",
       "      <td>20230904</td>\n",
       "    </tr>\n",
       "    <tr>\n",
       "      <th>4</th>\n",
       "      <td>202307</td>\n",
       "      <td>2720010100</td>\n",
       "      <td>대구광역시</td>\n",
       "      <td>남구</td>\n",
       "      <td>이천동</td>\n",
       "      <td></td>\n",
       "      <td>2720051500</td>\n",
       "      <td>이천동</td>\n",
       "      <td>2</td>\n",
       "      <td>1</td>\n",
       "      <td>130</td>\n",
       "      <td>55</td>\n",
       "      <td>2.36</td>\n",
       "      <td>61</td>\n",
       "      <td>69</td>\n",
       "      <td>0.88</td>\n",
       "      <td>20230904</td>\n",
       "    </tr>\n",
       "  </tbody>\n",
       "</table>\n",
       "</div>"
      ],
      "text/plain": [
       "     통계년월       법정동코드    시도명 시군구명 법정동명 리명      행정기관코드 행정동명  통  반  총인구수  세대수  \\\n",
       "0  202307  2720010100  대구광역시   남구  이천동     2720051500  이천동  1  1    11    9   \n",
       "1  202307  2720010100  대구광역시   남구  이천동     2720051500  이천동  1  2    47   25   \n",
       "2  202307  2720010100  대구광역시   남구  이천동     2720051500  이천동  1  4    55   35   \n",
       "3  202307  2720010100  대구광역시   남구  이천동     2720051500  이천동  1  5    71   52   \n",
       "4  202307  2720010100  대구광역시   남구  이천동     2720051500  이천동  2  1   130   55   \n",
       "\n",
       "  세대당인구  남자인구수  여자인구수  남여비율    업데이트일자  \n",
       "0  1.22      5      6  0.83  20230904  \n",
       "1  1.88     23     24  0.96  20230904  \n",
       "2  1.57     29     26  1.12  20230904  \n",
       "3  1.37     36     35  1.03  20230904  \n",
       "4  2.36     61     69  0.88  20230904  "
      ]
     },
     "execution_count": 23,
     "metadata": {},
     "output_type": "execute_result"
    }
   ],
   "source": [
    "df_house_hold.head()"
   ]
  },
  {
   "cell_type": "markdown",
   "id": "550582b0",
   "metadata": {},
   "source": [
    "# 5. 법정동, 행정동 세대수 데이터  SQL에 삽입 "
   ]
  },
  {
   "cell_type": "code",
   "execution_count": 24,
   "id": "97ebb5aa",
   "metadata": {},
   "outputs": [],
   "source": [
    "conn = dbconnect.db_connect(\"DEMO_DW\")\n",
    "cursor = conn.cursor()\n",
    "\n",
    "query = f'SELECT EXISTS (SELECT * FROM household_dong WHERE 통계년월 = {month})'\n",
    "\n",
    "cursor.execute(query)\n",
    "row = cursor.fetchone()\n",
    "data_exist = row[0]     # 저장된 데이터의 유무(1 - 데이터 있음)\n",
    "\n",
    "conn.close()"
   ]
  },
  {
   "cell_type": "code",
   "execution_count": 25,
   "id": "8157c1e4",
   "metadata": {},
   "outputs": [
    {
     "name": "stdout",
     "output_type": "stream",
     "text": [
      "202307 데이터를 저장하였습니다.\n"
     ]
    }
   ],
   "source": [
    "if data_exist == 1:      # 데이터 존재하면\n",
    "    print(f'{month} 에 데이터가 존재합니다.')\n",
    "else:\n",
    "    conn = dbconnect.db_connect(\"DEMO_DW\")\n",
    "    cur = conn.cursor()\n",
    "\n",
    "    for row in df_house_hold.itertuples():\n",
    "        sql = \"insert into household_dong (통계년월, 법정동코드, 시도명, 시군구명, 법정동명, 리명, \\\n",
    "                                           행정기관코드, 행정동명, 통, 반, 총인구수, 세대수, 세대당인구, \\\n",
    "                                           남자인구수, 여자인구수, 남여비율, 업데이트일자) \\\n",
    "               values (%s, %s, %s, %s, %s, %s, %s, %s, %s, %s, %s, %s, %s, %s, %s, %s, %s)\"\n",
    "        cur.execute(sql, (row[1], row[2], row[3], row[4], row[5], row[6], row[7], row[8], row[9], row[10], row[11], row[12], row[13], row[14], row[15], row[16], row[17]))\n",
    "\n",
    "    conn.commit()\n",
    "    print(f'{month} 데이터를 저장하였습니다.')\n",
    "    conn.close()"
   ]
  }
 ],
 "metadata": {
  "kernelspec": {
   "display_name": "Python 3 (ipykernel)",
   "language": "python",
   "name": "python3"
  },
  "language_info": {
   "codemirror_mode": {
    "name": "ipython",
    "version": 3
   },
   "file_extension": ".py",
   "mimetype": "text/x-python",
   "name": "python",
   "nbconvert_exporter": "python",
   "pygments_lexer": "ipython3",
   "version": "3.10.8"
  }
 },
 "nbformat": 4,
 "nbformat_minor": 5
}
