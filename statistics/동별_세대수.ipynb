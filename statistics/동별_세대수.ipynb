{
 "cells": [
  {
   "cell_type": "markdown",
   "id": "50af04a9",
   "metadata": {},
   "source": [
    "## 동별 세대수 가져오기\n",
    "+ 작성: 김지훈"
   ]
  },
  {
   "cell_type": "markdown",
   "id": "82814239",
   "metadata": {},
   "source": [
    "### 1. 지정한 년월에 사용 가능한 최신의 법정동, 행정동 코드 자료를 테이블에서 가져온다."
   ]
  },
  {
   "cell_type": "code",
   "execution_count": 31,
   "id": "8e895f95",
   "metadata": {},
   "outputs": [],
   "source": [
    "#라이브러리 설치\n",
    "\n",
    "import pandas as pd\n",
    "# from pandas.io.json import json_normalize\n",
    "import requests\n",
    "import os\n",
    "from tqdm.notebook import tqdm\n",
    "import time\n",
    "import pprint\n",
    "import json\n",
    "import pymysql\n",
    "import csv\n",
    "from urllib.parse import quote\n",
    "from sqlalchemy import create_engine\n",
    "import sqlalchemy\n",
    "from datetime import datetime, timedelta\n",
    "from dateutil.relativedelta import relativedelta\n",
    "import calendar"
   ]
  },
  {
   "cell_type": "code",
   "execution_count": 59,
   "id": "4dcac93e",
   "metadata": {},
   "outputs": [],
   "source": [
    "#추출하고자 하는 년월\n",
    "input_year = 2023\n",
    "input_month = 6\n",
    "month = '202306'   # yyyymm 형식\n",
    "last_day = calendar.monthrange(input_year, input_month)[1]\n",
    "# print(year, month, last_day)\n",
    "month_end_date = datetime(input_year, input_month, last_day).strftime(\"%Y%m%d\")"
   ]
  },
  {
   "cell_type": "code",
   "execution_count": 48,
   "id": "d5866950",
   "metadata": {},
   "outputs": [],
   "source": [
    "import sys\n",
    "module_path = \"D:\\PythonProject\\data-gatherer\\common\"\n",
    "sys.path.append(module_path)\n",
    "import dbconnect"
   ]
  },
  {
   "cell_type": "code",
   "execution_count": 49,
   "id": "5cefdd4c",
   "metadata": {},
   "outputs": [],
   "source": [
    "# 해당 년월에 사용가능한, 저장된 데이터의 마지막 일자 가져오기\n",
    "conn = dbconnect.db_connect(\"DEMO_DM\")\n",
    "cur = conn.cursor()\n",
    "\n",
    "query = \"SELECT 업데이트일자 FROM city WHERE 업데이트일자 <= '\" + month_end_date + \"' ORDER BY 업데이트일자 DESC LIMIT 1\"\n",
    "cur.execute(query)\n",
    "row = cur.fetchone()\n",
    "stored_date = row[0]     \n",
    "\n",
    "conn.close()"
   ]
  },
  {
   "cell_type": "code",
   "execution_count": 50,
   "id": "81cba7e9",
   "metadata": {},
   "outputs": [],
   "source": [
    "# city 테이블에서 데이터 읽어오기\n",
    "# conn = engine.connect()\n",
    "query = \"SELECT * FROM city WHERE 업데이트일자 = '\" + stored_date + \"'\"\n",
    "# result = pd.read_sql_query(query, conn)\n",
    "# engine = get_engine()\n",
    "engine = dbconnect.db_engine(\"DEMO_DM\")\n",
    "result = pd.read_sql(query, engine)"
   ]
  },
  {
   "cell_type": "code",
   "execution_count": 51,
   "id": "0a633d7c",
   "metadata": {},
   "outputs": [
    {
     "data": {
      "text/html": [
       "<div>\n",
       "<style scoped>\n",
       "    .dataframe tbody tr th:only-of-type {\n",
       "        vertical-align: middle;\n",
       "    }\n",
       "\n",
       "    .dataframe tbody tr th {\n",
       "        vertical-align: top;\n",
       "    }\n",
       "\n",
       "    .dataframe thead th {\n",
       "        text-align: right;\n",
       "    }\n",
       "</style>\n",
       "<table border=\"1\" class=\"dataframe\">\n",
       "  <thead>\n",
       "    <tr style=\"text-align: right;\">\n",
       "      <th></th>\n",
       "      <th>업데이트일자</th>\n",
       "      <th>행정동코드</th>\n",
       "      <th>시도명</th>\n",
       "      <th>시군구명</th>\n",
       "      <th>읍면동명</th>\n",
       "      <th>법정동코드</th>\n",
       "      <th>동리명</th>\n",
       "    </tr>\n",
       "  </thead>\n",
       "  <tbody>\n",
       "    <tr>\n",
       "      <th>0</th>\n",
       "      <td>20230611</td>\n",
       "      <td>2700000000</td>\n",
       "      <td>대구광역시</td>\n",
       "      <td>None</td>\n",
       "      <td>None</td>\n",
       "      <td>2700000000</td>\n",
       "      <td>대구광역시</td>\n",
       "    </tr>\n",
       "    <tr>\n",
       "      <th>1</th>\n",
       "      <td>20230611</td>\n",
       "      <td>2711000000</td>\n",
       "      <td>대구광역시</td>\n",
       "      <td>중구</td>\n",
       "      <td>None</td>\n",
       "      <td>2711000000</td>\n",
       "      <td>중구</td>\n",
       "    </tr>\n",
       "    <tr>\n",
       "      <th>2</th>\n",
       "      <td>20230611</td>\n",
       "      <td>2711051700</td>\n",
       "      <td>대구광역시</td>\n",
       "      <td>중구</td>\n",
       "      <td>동인동</td>\n",
       "      <td>2711010100</td>\n",
       "      <td>동인동1가</td>\n",
       "    </tr>\n",
       "    <tr>\n",
       "      <th>3</th>\n",
       "      <td>20230611</td>\n",
       "      <td>2711051700</td>\n",
       "      <td>대구광역시</td>\n",
       "      <td>중구</td>\n",
       "      <td>동인동</td>\n",
       "      <td>2711010200</td>\n",
       "      <td>동인동2가</td>\n",
       "    </tr>\n",
       "    <tr>\n",
       "      <th>4</th>\n",
       "      <td>20230611</td>\n",
       "      <td>2711051700</td>\n",
       "      <td>대구광역시</td>\n",
       "      <td>중구</td>\n",
       "      <td>동인동</td>\n",
       "      <td>2711010300</td>\n",
       "      <td>동인동3가</td>\n",
       "    </tr>\n",
       "    <tr>\n",
       "      <th>...</th>\n",
       "      <td>...</td>\n",
       "      <td>...</td>\n",
       "      <td>...</td>\n",
       "      <td>...</td>\n",
       "      <td>...</td>\n",
       "      <td>...</td>\n",
       "      <td>...</td>\n",
       "    </tr>\n",
       "    <tr>\n",
       "      <th>691</th>\n",
       "      <td>20230611</td>\n",
       "      <td>4785032000</td>\n",
       "      <td>경상북도</td>\n",
       "      <td>칠곡군</td>\n",
       "      <td>동명면</td>\n",
       "      <td>4785032034</td>\n",
       "      <td>남원리</td>\n",
       "    </tr>\n",
       "    <tr>\n",
       "      <th>692</th>\n",
       "      <td>20230611</td>\n",
       "      <td>4785032000</td>\n",
       "      <td>경상북도</td>\n",
       "      <td>칠곡군</td>\n",
       "      <td>동명면</td>\n",
       "      <td>4785032035</td>\n",
       "      <td>득명리</td>\n",
       "    </tr>\n",
       "    <tr>\n",
       "      <th>693</th>\n",
       "      <td>20230611</td>\n",
       "      <td>4785032000</td>\n",
       "      <td>경상북도</td>\n",
       "      <td>칠곡군</td>\n",
       "      <td>동명면</td>\n",
       "      <td>4785032036</td>\n",
       "      <td>기성리</td>\n",
       "    </tr>\n",
       "    <tr>\n",
       "      <th>694</th>\n",
       "      <td>20230611</td>\n",
       "      <td>4785032000</td>\n",
       "      <td>경상북도</td>\n",
       "      <td>칠곡군</td>\n",
       "      <td>동명면</td>\n",
       "      <td>4785032037</td>\n",
       "      <td>구덕리</td>\n",
       "    </tr>\n",
       "    <tr>\n",
       "      <th>695</th>\n",
       "      <td>20230611</td>\n",
       "      <td>4785032000</td>\n",
       "      <td>경상북도</td>\n",
       "      <td>칠곡군</td>\n",
       "      <td>동명면</td>\n",
       "      <td>4785032038</td>\n",
       "      <td>봉암리</td>\n",
       "    </tr>\n",
       "  </tbody>\n",
       "</table>\n",
       "<p>696 rows × 7 columns</p>\n",
       "</div>"
      ],
      "text/plain": [
       "       업데이트일자       행정동코드    시도명  시군구명  읍면동명       법정동코드    동리명\n",
       "0    20230611  2700000000  대구광역시  None  None  2700000000  대구광역시\n",
       "1    20230611  2711000000  대구광역시    중구  None  2711000000     중구\n",
       "2    20230611  2711051700  대구광역시    중구   동인동  2711010100  동인동1가\n",
       "3    20230611  2711051700  대구광역시    중구   동인동  2711010200  동인동2가\n",
       "4    20230611  2711051700  대구광역시    중구   동인동  2711010300  동인동3가\n",
       "..        ...         ...    ...   ...   ...         ...    ...\n",
       "691  20230611  4785032000   경상북도   칠곡군   동명면  4785032034    남원리\n",
       "692  20230611  4785032000   경상북도   칠곡군   동명면  4785032035    득명리\n",
       "693  20230611  4785032000   경상북도   칠곡군   동명면  4785032036    기성리\n",
       "694  20230611  4785032000   경상북도   칠곡군   동명면  4785032037    구덕리\n",
       "695  20230611  4785032000   경상북도   칠곡군   동명면  4785032038    봉암리\n",
       "\n",
       "[696 rows x 7 columns]"
      ]
     },
     "execution_count": 51,
     "metadata": {},
     "output_type": "execute_result"
    }
   ],
   "source": [
    "df_code_table = result.copy()\n",
    "df_code_table"
   ]
  },
  {
   "cell_type": "markdown",
   "id": "3b9b540d",
   "metadata": {},
   "source": [
    "### 2. 세대수 데이터 추출을 위한 법정동 코드 전처리"
   ]
  },
  {
   "cell_type": "markdown",
   "id": "5837b790",
   "metadata": {},
   "source": [
    "Open API를 사용하기 위해 **법정동 코드를 전처리**하는 과정입니다.  \n",
    "- 해당 API는 법정동코드를 입력하였을 때, 값이 나오도록 되어 있습니다.  \n",
    "- API사용 할 때, **구, 시, 리**의 법정동 코드를 제거하고 **동,읍,면** 법정동 코드만 남겨둬야합니다. "
   ]
  },
  {
   "cell_type": "markdown",
   "id": "b564119f",
   "metadata": {},
   "source": [
    "법정동 코드는 총 10자리로 10자리의 구성은 아래와 같습니다.  \n",
    " - 시도(2) + 시군구(3) + 읍면동(3) + 리(2)"
   ]
  },
  {
   "cell_type": "code",
   "execution_count": 52,
   "id": "f290e760",
   "metadata": {},
   "outputs": [
    {
     "data": {
      "text/plain": [
       "(696, 7)"
      ]
     },
     "execution_count": 52,
     "metadata": {},
     "output_type": "execute_result"
    }
   ],
   "source": [
    "# 전제 코드 데이터\n",
    "df_code_table_pre = df_code_table.copy()\n",
    "df_code_table_pre.shape"
   ]
  },
  {
   "cell_type": "code",
   "execution_count": 53,
   "id": "1ab3fb73",
   "metadata": {},
   "outputs": [
    {
     "data": {
      "text/plain": [
       "(344, 7)"
      ]
     },
     "execution_count": 53,
     "metadata": {},
     "output_type": "execute_result"
    }
   ],
   "source": [
    "# '시군구' 단위 및 '읍면동' 단위의 데이터만 남겨놓는다\n",
    "df_code_table_pre = df_code_table_pre[df_code_table_pre['법정동코드'].str.endswith('00')]\n",
    "# '시군구' 단위 데이터 삭제\n",
    "idx = df_code_table_pre[df_code_table_pre['법정동코드'].str.endswith('00000')].index\n",
    "df_code_table_pre.drop(idx, inplace=True)\n",
    "# 최종적으로 '읍면동' 코드만 남는다.\n",
    "df_code_table_pre.shape"
   ]
  },
  {
   "cell_type": "code",
   "execution_count": 54,
   "id": "048c63aa",
   "metadata": {},
   "outputs": [],
   "source": [
    "#구 별로 법정동코드를 추출하여 list형식으로 변환\n",
    "def make_code_list_for_daegu(df,gu_name):\n",
    "    df_gu= df[df['시군구명']==gu_name]\n",
    "    list_gu=  df_gu['법정동코드']\n",
    "    list_gu = list_gu.unique()\n",
    "    return list_gu"
   ]
  },
  {
   "cell_type": "code",
   "execution_count": 55,
   "id": "4ab4bd0f",
   "metadata": {},
   "outputs": [],
   "source": [
    "# 각 도시별 법정동 코드 불러오기\n",
    "\n",
    "#대구광역시\n",
    "df_daegu_code = df_code_table_pre[df_code_table_pre['시도명'].str.contains('대구광역시')]\n",
    "df_daegu_code= df_daegu_code.dropna(subset=['읍면동명']) #null값 제거\n",
    "idx = df_daegu_code[df_daegu_code['법정동코드'].str[-4:] == \"0000\"].index #리 값 제거\n",
    "df_daegu_code.drop(idx , inplace=True)\n",
    "\n",
    "list_daegu_cd =  df_daegu_code['법정동코드']\n",
    "list_daegu_cd = list_daegu_cd.unique() #대구광역시의 법정동코드\n",
    "\n",
    "#중간에 오류가 날 수 있어 구별로 나누어 작업 진행\n",
    "list_daegu_nam_gu_cd =  make_code_list_for_daegu(df_daegu_code,\"남구\")\n",
    "list_daegu_dalseo_gu_cd =  make_code_list_for_daegu(df_daegu_code,\"달서구\")\n",
    "list_daegu_dalseong_gun_cd =  make_code_list_for_daegu(df_daegu_code,\"달성군\")\n",
    "list_daegu_dong_gu_cd =  make_code_list_for_daegu(df_daegu_code,\"동구\")\n",
    "list_daegu_buk_gu_cd =  make_code_list_for_daegu(df_daegu_code,\"북구\")\n",
    "list_daegu_seo_gu_cd =  make_code_list_for_daegu(df_daegu_code,\"서구\")\n",
    "list_daegu_suseong_gu_cd =  make_code_list_for_daegu(df_daegu_code,\"수성구\")\n",
    "list_daegu_jung_gu_cd =  make_code_list_for_daegu(df_daegu_code,\"중구\")\n",
    "\n",
    "#경산시\n",
    "df_gyeongsan_code= df_code_table_pre[df_code_table_pre['시군구명']=='경산시'] \n",
    "df_gyeongsan_code= df_gyeongsan_code.dropna(subset=['읍면동명'])\n",
    "list_gyeongsan_cd =  df_gyeongsan_code['법정동코드']\n",
    "list_gyeongsan_cd = list_gyeongsan_cd.unique()#유일한 값만 남겨둠\n",
    "\n",
    "#고령군\n",
    "df_goryeong_code= df_code_table_pre[df_code_table_pre['시군구명']=='고령군']\n",
    "df_goryeong_code= df_goryeong_code.dropna(subset=['읍면동명'])\n",
    "list_goryeong_cd =  df_goryeong_code['법정동코드']\n",
    "list_goryeong_cd = list_goryeong_cd.unique()#유일한 값만 남겨둠\n",
    "\n",
    "#칠곡군 동명면\n",
    "df_dongmyeong_code= df_code_table_pre[df_code_table_pre['읍면동명']=='동명면']\n",
    "list_dongmyeong_cd =  df_dongmyeong_code['법정동코드']\n",
    "list_dongmyeong_cd = list_dongmyeong_cd.unique()#유일한 값만 남겨둠\n"
   ]
  },
  {
   "cell_type": "code",
   "execution_count": 56,
   "id": "b7eaf616",
   "metadata": {},
   "outputs": [
    {
     "name": "stdout",
     "output_type": "stream",
     "text": [
      "대구 :  204\n",
      "경산 :  36\n",
      "고령 :  8\n",
      "칠곡군 동명면 :  1\n"
     ]
    }
   ],
   "source": [
    "#개수 확인 (23년 6월 16일 기준으로 주석 작성)\n",
    "daegu_len = len(list_daegu_nam_gu_cd)+len(list_daegu_dalseo_gu_cd)+len(list_daegu_dalseong_gun_cd)+len(list_daegu_dong_gu_cd)+len(list_daegu_buk_gu_cd)+len(list_daegu_seo_gu_cd)+len(list_daegu_suseong_gu_cd)+len(list_daegu_jung_gu_cd)\n",
    "print(\"대구 : \",daegu_len) #204\n",
    "print(\"경산 : \", len(list_gyeongsan_cd)) #36\n",
    "print(\"고령 : \", len(list_goryeong_cd)) #8\n",
    "print(\"칠곡군 동명면 : \", len(list_dongmyeong_cd)) #1"
   ]
  },
  {
   "cell_type": "markdown",
   "id": "20573707",
   "metadata": {},
   "source": [
    "### 3. Open API를 이용한 세대수 데이터 추출"
   ]
  },
  {
   "cell_type": "code",
   "execution_count": 57,
   "id": "377236a4",
   "metadata": {},
   "outputs": [],
   "source": [
    "import warnings\n",
    "from time import sleep\n",
    "warnings.filterwarnings(action='ignore')"
   ]
  },
  {
   "cell_type": "code",
   "execution_count": 67,
   "id": "db07685d",
   "metadata": {},
   "outputs": [],
   "source": [
    "service_url = 'http://apis.data.go.kr/1741000/stdgPpltnHhStus'\n",
    "# 일반 인증키(Encoding)\t\n",
    "api_key = 'IVgu%2FZBjA6hpLryyEOpySC2RhogOhaJIUqlXN8Uyj3Gxw4s3dX0qMxfgXMTLl60%2Fs2EYAMUsyyzTqwVOnjoIhg%3D%3D'\n",
    "level = '4'     # 조회결과구분. 광역시도 단위 : 1, 시군구 단위 : 2, 읍면동 단위 : 3, 읍면동 통반 단위 : 4(기본값 : 4)\n",
    "reg_code = '1'  # 등록구분. 전체:1, 거주자:2, 거주불명자:3, 재외국민:4(기본값 : 1)\n",
    "req_type = 'json'   # 타입. XML, JSON(기본값 : XML)\n",
    "pageRows = '8000'    # 페이지 크기. 페이지당 목록 수(1~100)(기본값 : 10)\n",
    "pageNo = '1'        # 페이지 번호. 기본값 : 1"
   ]
  },
  {
   "cell_type": "code",
   "execution_count": 87,
   "id": "ca627e67",
   "metadata": {},
   "outputs": [],
   "source": [
    "#법정동 코드를 이용한 행정동/법정동별 세대수를 API로 구하는 함수\n",
    "def make_hh_data(df,list_cd,month):\n",
    "    for i in tqdm(list_cd): \n",
    "        url = f'{service_url}/selectStdgPpltnHhStus?serviceKey={api_key}&stdgCd={i}&srchFrYm={month}&srchToYm={month}&lv={level}&regSeCd={reg_code}&type={req_type}&numOfRows={pageRows}&pageNo={pageNo}'\n",
    "        # url = 'https://apis.data.go.kr/1741000/stdgPpltnHhStus/selectStdgPpltnHhStus?serviceKey=IVgu%2FZBjA6hpLryyEOpySC2RhogOhaJIUqlXN8Uyj3Gxw4s3dX0qMxfgXMTLl60%2Fs2EYAMUsyyzTqwVOnjoIhg%3D%3D&stdgCd='+i+'&srchFrYm='+month+'&srchToYm='+month+'&lv=4&regSeCd=1&type=json&numOfRows=8000&pageNo=1'\n",
    "        response = requests.get(url,verify=False)\n",
    "        #데이터 값 출력해보기\n",
    "        contents = response.text\n",
    "        json_ob = json.loads(contents)\n",
    "        body = json_ob['Response']['items']['item']\n",
    "        dataframe = pd.json_normalize(body)\n",
    "        df = pd.concat([df,dataframe],axis = 0) #데이터 결합\n",
    "    return df\n",
    "\n",
    "#시군구별 세대수를 알아보는 함수 >> 시군구 자료와 데이터 비교\n",
    "def know_hhcnt(df):\n",
    "    df['hhCnt'] =df['hhCnt'].astype(str).astype(int)\n",
    "    df['femlNmprCnt'] =df['femlNmprCnt'].astype(str).astype(int)\n",
    "    df['totNmprCnt'] =df['totNmprCnt'].astype(str).astype(int)\n",
    "    df['maleNmprCnt'] =df['maleNmprCnt'].astype(str).astype(int)\n",
    "    know_hhcnt = df.groupby('sggNm').sum()\n",
    "    return know_hhcnt\n",
    "\n",
    "#기존의 표와 같이 보기 편하게 순서 변경 및 컬럼 변경\n",
    "def name_sort_change(df):\n",
    "    #이름 변경\n",
    "    df.rename(columns={'hhCnt':'세대수','tong':'통','femlNmprCnt':'여자인구수','stdgCd':'법정동코드','maleFemlRate':'남여비율',\n",
    "                       'stdgNm':'법정동명','ban':'반','totNmprCnt':'총인구수','ctpvNm':'시도명','maleNmprCnt':'남자인구수',\n",
    "                       'sggNm':'시군구명','dongNm':'행정동명','hhNmpr':'세대당인구','admmCd':'행정기관코드',\n",
    "                       'statsYm':'통계년월','liNm':'리명'},inplace=True)\n",
    "    #기존의 표와 같이 순서 변경\n",
    "    df = df[['통계년월','법정동코드','시도명','시군구명','법정동명','리명','행정기관코드','행정동명','통',\n",
    "             '반','총인구수','세대수','세대당인구','남자인구수','여자인구수','남여비율']]\n",
    "    df['업데이트일자'] = datetime.now().strftime(\"%Y%m%d\")\n",
    "    return df"
   ]
  },
  {
   "cell_type": "code",
   "execution_count": 69,
   "id": "84abe664",
   "metadata": {},
   "outputs": [
    {
     "data": {
      "application/vnd.jupyter.widget-view+json": {
       "model_id": "b21600bf3d7b45aa82c07db7e3b1d000",
       "version_major": 2,
       "version_minor": 0
      },
      "text/plain": [
       "  0%|          | 0/3 [00:00<?, ?it/s]"
      ]
     },
     "metadata": {},
     "output_type": "display_data"
    }
   ],
   "source": [
    "num_retry = 5\n",
    "남구_성공 = 0\n",
    "while 남구_성공 < 1:\n",
    "    try:\n",
    "        df_daegu_nam_gu = pd.DataFrame()\n",
    "        df_daegu_nam_gu = make_hh_data(df_daegu_nam_gu,list_daegu_nam_gu_cd,month) #남구\n",
    "        남구_성공 = 1\n",
    "    except Exception as e:\n",
    "        for retry in range(num_retry):\n",
    "            try:\n",
    "                print(\"retry\")\n",
    "                df_daegu_nam_gu = pd.DataFrame()\n",
    "                df_daegu_nam_gu = make_hh_data(df_daegu_nam_gu,list_daegu_nam_gu_cd,month) #남구\n",
    "                남구_성공 = 1\n",
    "                break\n",
    "            except Exception:\n",
    "                continue"
   ]
  },
  {
   "cell_type": "code",
   "execution_count": 71,
   "id": "269bd902",
   "metadata": {},
   "outputs": [
    {
     "data": {
      "text/plain": [
       "(1977, 15)"
      ]
     },
     "execution_count": 71,
     "metadata": {},
     "output_type": "execute_result"
    }
   ],
   "source": [
    "df_daegu_nam_gu.shape"
   ]
  },
  {
   "cell_type": "code",
   "execution_count": null,
   "id": "d27fe969",
   "metadata": {},
   "outputs": [],
   "source": [
    "num_retry = 5\n",
    "달서구_성공 = 0\n",
    "while 달서구_성공 < 1:\n",
    "    try:\n",
    "        df_daegu_dalseo_gu = pd.DataFrame()\n",
    "        df_daegu_dalseo_gu = make_hh_data(df_daegu_dalseo_gu,list_daegu_dalseo_gu_cd,month) #달서구\n",
    "        달서구_성공 = 1\n",
    "    except Exception as e:\n",
    "        for retry in range(num_retry):\n",
    "            try:\n",
    "                print(\"retry\")\n",
    "                df_daegu_dalseo_gu = pd.DataFrame()\n",
    "                df_daegu_dalseo_gu = make_hh_data(df_daegu_dalseo_gu,list_daegu_dalseo_gu_cd,month) #달서구\n",
    "                달서구_성공 = 1\n",
    "                break\n",
    "            except Exception:\n",
    "                continue"
   ]
  },
  {
   "cell_type": "code",
   "execution_count": 72,
   "id": "8506a2a4",
   "metadata": {},
   "outputs": [
    {
     "data": {
      "text/plain": [
       "(5580, 15)"
      ]
     },
     "execution_count": 72,
     "metadata": {},
     "output_type": "execute_result"
    }
   ],
   "source": [
    "df_daegu_dalseo_gu.shape"
   ]
  },
  {
   "cell_type": "code",
   "execution_count": 73,
   "id": "eb1119dd",
   "metadata": {},
   "outputs": [
    {
     "data": {
      "application/vnd.jupyter.widget-view+json": {
       "model_id": "af151348613046d48c299a2c63ad6703",
       "version_major": 2,
       "version_minor": 0
      },
      "text/plain": [
       "  0%|          | 0/9 [00:00<?, ?it/s]"
      ]
     },
     "metadata": {},
     "output_type": "display_data"
    }
   ],
   "source": [
    "num_retry = 5\n",
    "달성군_성공 = 0\n",
    "while 달성군_성공 < 1:\n",
    "    try:\n",
    "        df_daegu_dalseong_gun = pd.DataFrame()\n",
    "        df_daegu_dalseong_gun = make_hh_data(df_daegu_dalseong_gun,list_daegu_dalseong_gun_cd,month) #달성군\n",
    "\n",
    "        달성군_성공 = 1\n",
    "    except Exception as e:\n",
    "        for retry in range(num_retry):\n",
    "            try:\n",
    "                print(\"retry\")\n",
    "                df_daegu_dalseong_gun = pd.DataFrame()\n",
    "                df_daegu_dalseong_gun = make_hh_data(df_daegu_dalseong_gun,list_daegu_dalseong_gun_cd,month) #달성군\n",
    "\n",
    "                달성군_성공 = 1\n",
    "                break\n",
    "            except Exception:\n",
    "                continue"
   ]
  },
  {
   "cell_type": "code",
   "execution_count": 74,
   "id": "49f43017",
   "metadata": {},
   "outputs": [
    {
     "data": {
      "application/vnd.jupyter.widget-view+json": {
       "model_id": "14dd5a6f757a4a0d921313d228bcab44",
       "version_major": 2,
       "version_minor": 0
      },
      "text/plain": [
       "  0%|          | 0/45 [00:00<?, ?it/s]"
      ]
     },
     "metadata": {},
     "output_type": "display_data"
    },
    {
     "name": "stdout",
     "output_type": "stream",
     "text": [
      "retry\n"
     ]
    },
    {
     "data": {
      "application/vnd.jupyter.widget-view+json": {
       "model_id": "4804e0d23a2a4ed4a3a6157ae73f7da4",
       "version_major": 2,
       "version_minor": 0
      },
      "text/plain": [
       "  0%|          | 0/45 [00:00<?, ?it/s]"
      ]
     },
     "metadata": {},
     "output_type": "display_data"
    },
    {
     "name": "stdout",
     "output_type": "stream",
     "text": [
      "retry\n"
     ]
    },
    {
     "data": {
      "application/vnd.jupyter.widget-view+json": {
       "model_id": "42c001836439429ea0ebb4ee0c8e60ad",
       "version_major": 2,
       "version_minor": 0
      },
      "text/plain": [
       "  0%|          | 0/45 [00:00<?, ?it/s]"
      ]
     },
     "metadata": {},
     "output_type": "display_data"
    },
    {
     "name": "stdout",
     "output_type": "stream",
     "text": [
      "retry\n"
     ]
    },
    {
     "data": {
      "application/vnd.jupyter.widget-view+json": {
       "model_id": "c787516015054db888a909554820aa91",
       "version_major": 2,
       "version_minor": 0
      },
      "text/plain": [
       "  0%|          | 0/45 [00:00<?, ?it/s]"
      ]
     },
     "metadata": {},
     "output_type": "display_data"
    }
   ],
   "source": [
    "num_retry = 5\n",
    "동구_성공 = 0\n",
    "while 동구_성공 < 1:\n",
    "    try:\n",
    "        df_daegu_dong_gu = pd.DataFrame()\n",
    "        df_daegu_dong_gu = make_hh_data(df_daegu_dong_gu,list_daegu_dong_gu_cd,month) #동구\n",
    "        동구_성공 = 1\n",
    "    except Exception as e:\n",
    "        for retry in range(num_retry):\n",
    "            try:\n",
    "                print(\"retry\")\n",
    "                df_daegu_dong_gu = pd.DataFrame()\n",
    "                df_daegu_dong_gu = make_hh_data(df_daegu_dong_gu,list_daegu_dong_gu_cd,month) #동구\n",
    "                동구_성공 = 1\n",
    "                break\n",
    "            except Exception:\n",
    "                continue"
   ]
  },
  {
   "cell_type": "code",
   "execution_count": 75,
   "id": "e41caedb",
   "metadata": {},
   "outputs": [
    {
     "data": {
      "application/vnd.jupyter.widget-view+json": {
       "model_id": "86bc81fd665b4323b137772113f98cb4",
       "version_major": 2,
       "version_minor": 0
      },
      "text/plain": [
       "  0%|          | 0/31 [00:00<?, ?it/s]"
      ]
     },
     "metadata": {},
     "output_type": "display_data"
    },
    {
     "name": "stdout",
     "output_type": "stream",
     "text": [
      "retry\n"
     ]
    },
    {
     "data": {
      "application/vnd.jupyter.widget-view+json": {
       "model_id": "1d620df8a91149a394cda5a2b317188f",
       "version_major": 2,
       "version_minor": 0
      },
      "text/plain": [
       "  0%|          | 0/31 [00:00<?, ?it/s]"
      ]
     },
     "metadata": {},
     "output_type": "display_data"
    },
    {
     "name": "stdout",
     "output_type": "stream",
     "text": [
      "retry\n"
     ]
    },
    {
     "data": {
      "application/vnd.jupyter.widget-view+json": {
       "model_id": "fe431d0a56494ab899855d1f9501eb5a",
       "version_major": 2,
       "version_minor": 0
      },
      "text/plain": [
       "  0%|          | 0/31 [00:00<?, ?it/s]"
      ]
     },
     "metadata": {},
     "output_type": "display_data"
    }
   ],
   "source": [
    "num_retry = 5\n",
    "북구_성공 = 0\n",
    "while 북구_성공 < 1:\n",
    "    try:\n",
    "        df_daegu_buk_gu = pd.DataFrame()\n",
    "        df_daegu_buk_gu = make_hh_data(df_daegu_buk_gu,list_daegu_buk_gu_cd,month) #북구\n",
    "        북구_성공 = 1\n",
    "    except Exception as e:\n",
    "        for retry in range(num_retry):\n",
    "            try:\n",
    "                print(\"retry\")\n",
    "                df_daegu_buk_gu = pd.DataFrame()\n",
    "                df_daegu_buk_gu = make_hh_data(df_daegu_buk_gu,list_daegu_buk_gu_cd,month) #북구\n",
    "                북구_성공 = 1\n",
    "                break\n",
    "            except Exception:\n",
    "                continue"
   ]
  },
  {
   "cell_type": "code",
   "execution_count": 76,
   "id": "752c4307",
   "metadata": {},
   "outputs": [
    {
     "data": {
      "application/vnd.jupyter.widget-view+json": {
       "model_id": "b0e7e6fcd4dc4ecfbbcaba676b75bd7d",
       "version_major": 2,
       "version_minor": 0
      },
      "text/plain": [
       "  0%|          | 0/9 [00:00<?, ?it/s]"
      ]
     },
     "metadata": {},
     "output_type": "display_data"
    },
    {
     "name": "stdout",
     "output_type": "stream",
     "text": [
      "retry\n"
     ]
    },
    {
     "data": {
      "application/vnd.jupyter.widget-view+json": {
       "model_id": "6c28268fc8da4040b996eec72390c5fe",
       "version_major": 2,
       "version_minor": 0
      },
      "text/plain": [
       "  0%|          | 0/9 [00:00<?, ?it/s]"
      ]
     },
     "metadata": {},
     "output_type": "display_data"
    },
    {
     "name": "stdout",
     "output_type": "stream",
     "text": [
      "retry\n"
     ]
    },
    {
     "data": {
      "application/vnd.jupyter.widget-view+json": {
       "model_id": "9b8e22f241524cfbabd5e8fc033b676a",
       "version_major": 2,
       "version_minor": 0
      },
      "text/plain": [
       "  0%|          | 0/9 [00:00<?, ?it/s]"
      ]
     },
     "metadata": {},
     "output_type": "display_data"
    }
   ],
   "source": [
    "num_retry = 5\n",
    "서구_성공 = 0\n",
    "while 서구_성공 < 1:\n",
    "    try:\n",
    "        df_daegu_seo_gu = pd.DataFrame()\n",
    "        df_daegu_seo_gu = make_hh_data(df_daegu_seo_gu,list_daegu_seo_gu_cd,month) #서구\n",
    "        서구_성공 = 1\n",
    "    except Exception as e:\n",
    "        for retry in range(num_retry):\n",
    "            try:\n",
    "                print(\"retry\")\n",
    "                df_daegu_seo_gu = pd.DataFrame()\n",
    "                df_daegu_seo_gu = make_hh_data(df_daegu_seo_gu,list_daegu_seo_gu_cd,month) #서구\n",
    "                서구_성공 = 1\n",
    "                break\n",
    "            except Exception:\n",
    "                continue"
   ]
  },
  {
   "cell_type": "code",
   "execution_count": 77,
   "id": "548fc114",
   "metadata": {},
   "outputs": [
    {
     "data": {
      "application/vnd.jupyter.widget-view+json": {
       "model_id": "5ddbf39d98b0412fb1d2a911acf2bd68",
       "version_major": 2,
       "version_minor": 0
      },
      "text/plain": [
       "  0%|          | 0/26 [00:00<?, ?it/s]"
      ]
     },
     "metadata": {},
     "output_type": "display_data"
    }
   ],
   "source": [
    "num_retry = 5\n",
    "수성구_성공 = 0\n",
    "while 수성구_성공 < 1:\n",
    "    try:\n",
    "        df_daegu_suseong_gu = pd.DataFrame()\n",
    "        df_daegu_suseong_gu = make_hh_data(df_daegu_suseong_gu,list_daegu_suseong_gu_cd,month) #수성구\n",
    "\n",
    "        수성구_성공 = 1\n",
    "    except Exception as e:\n",
    "        for retry in range(num_retry):\n",
    "            try:\n",
    "                print(\"retry\")\n",
    "                df_daegu_suseong_gu = pd.DataFrame()\n",
    "                df_daegu_suseong_gu = make_hh_data(df_daegu_suseong_gu,list_daegu_suseong_gu_cd,month) #수성구\n",
    "\n",
    "                수성구_성공 = 1\n",
    "                break\n",
    "            except Exception:\n",
    "                continue"
   ]
  },
  {
   "cell_type": "code",
   "execution_count": 78,
   "id": "645fbc8d",
   "metadata": {},
   "outputs": [
    {
     "data": {
      "application/vnd.jupyter.widget-view+json": {
       "model_id": "eb9b85ff9ef8492a84e4b8afb8e2fabd",
       "version_major": 2,
       "version_minor": 0
      },
      "text/plain": [
       "  0%|          | 0/57 [00:00<?, ?it/s]"
      ]
     },
     "metadata": {},
     "output_type": "display_data"
    }
   ],
   "source": [
    "num_retry = 5\n",
    "중구_성공 = 0\n",
    "while 중구_성공 < 1:\n",
    "    try:\n",
    "        df_daegu_jung_gu = pd.DataFrame()\n",
    "        df_daegu_jung_gu = make_hh_data(df_daegu_jung_gu,list_daegu_jung_gu_cd,month) #중구\n",
    "        중구_성공 = 1\n",
    "    except Exception as e:\n",
    "        for retry in range(num_retry):\n",
    "            try:\n",
    "                print(\"retry\")\n",
    "                df_daegu_jung_gu = pd.DataFrame()\n",
    "                df_daegu_jung_gu = make_hh_data(df_daegu_jung_gu,list_daegu_jung_gu_cd,month) #중구\n",
    "                중구_성공 = 1\n",
    "                break\n",
    "            except Exception:\n",
    "                continue"
   ]
  },
  {
   "cell_type": "code",
   "execution_count": 79,
   "id": "9b81ed29",
   "metadata": {},
   "outputs": [
    {
     "data": {
      "application/vnd.jupyter.widget-view+json": {
       "model_id": "1635ef4cddf9455a988ef0d8785782ab",
       "version_major": 2,
       "version_minor": 0
      },
      "text/plain": [
       "  0%|          | 0/36 [00:00<?, ?it/s]"
      ]
     },
     "metadata": {},
     "output_type": "display_data"
    },
    {
     "name": "stdout",
     "output_type": "stream",
     "text": [
      "retry\n"
     ]
    },
    {
     "data": {
      "application/vnd.jupyter.widget-view+json": {
       "model_id": "c5c3cdf35d3049fcba342f6b98e24c49",
       "version_major": 2,
       "version_minor": 0
      },
      "text/plain": [
       "  0%|          | 0/36 [00:00<?, ?it/s]"
      ]
     },
     "metadata": {},
     "output_type": "display_data"
    },
    {
     "name": "stdout",
     "output_type": "stream",
     "text": [
      "retry\n"
     ]
    },
    {
     "data": {
      "application/vnd.jupyter.widget-view+json": {
       "model_id": "4b7b414a933849febd94a0ad3c430eed",
       "version_major": 2,
       "version_minor": 0
      },
      "text/plain": [
       "  0%|          | 0/36 [00:00<?, ?it/s]"
      ]
     },
     "metadata": {},
     "output_type": "display_data"
    }
   ],
   "source": [
    "#경상북도 경산\n",
    "num_retry = 5\n",
    "경산_성공 = 0\n",
    "while 경산_성공 < 1:\n",
    "    try:\n",
    "        df_gyeongsan = pd.DataFrame()\n",
    "        df_gyeongsan = make_hh_data(df_gyeongsan,list_gyeongsan_cd,month) #경산\n",
    "\n",
    "        경산_성공 = 1\n",
    "    except Exception as e:\n",
    "        for retry in range(num_retry):\n",
    "            try:\n",
    "                print(\"retry\")\n",
    "                df_gyeongsan = pd.DataFrame()\n",
    "                df_gyeongsan = make_hh_data(df_gyeongsan,list_gyeongsan_cd,month) #경산\n",
    "\n",
    "                경산_성공 = 1\n",
    "                break\n",
    "            except Exception:\n",
    "                continue"
   ]
  },
  {
   "cell_type": "code",
   "execution_count": 80,
   "id": "e45f0d2b",
   "metadata": {},
   "outputs": [
    {
     "data": {
      "application/vnd.jupyter.widget-view+json": {
       "model_id": "a559231871844f5a8c6459f39f9b27b9",
       "version_major": 2,
       "version_minor": 0
      },
      "text/plain": [
       "  0%|          | 0/8 [00:00<?, ?it/s]"
      ]
     },
     "metadata": {},
     "output_type": "display_data"
    },
    {
     "name": "stdout",
     "output_type": "stream",
     "text": [
      "retry\n"
     ]
    },
    {
     "data": {
      "application/vnd.jupyter.widget-view+json": {
       "model_id": "22cba4bf37984a669327b43a55e0bc17",
       "version_major": 2,
       "version_minor": 0
      },
      "text/plain": [
       "  0%|          | 0/8 [00:00<?, ?it/s]"
      ]
     },
     "metadata": {},
     "output_type": "display_data"
    },
    {
     "data": {
      "application/vnd.jupyter.widget-view+json": {
       "model_id": "06a96d58026f4e64a86340e0306b5f48",
       "version_major": 2,
       "version_minor": 0
      },
      "text/plain": [
       "  0%|          | 0/1 [00:00<?, ?it/s]"
      ]
     },
     "metadata": {},
     "output_type": "display_data"
    }
   ],
   "source": [
    "#경상북도 고령, 동명면\n",
    "num_retry = 5\n",
    "고령_동명면_성공 = 0\n",
    "while 고령_동명면_성공 < 1:\n",
    "    try:\n",
    "\n",
    "        df_goryeong = pd.DataFrame()\n",
    "        df_goryeong = make_hh_data(df_goryeong,list_goryeong_cd,month) #고령\n",
    "\n",
    "        df_dongmyeong= pd.DataFrame()\n",
    "        df_dongmyeong = make_hh_data(df_dongmyeong,list_dongmyeong_cd,month) #동명면\n",
    "        \n",
    "        고령_동명면_성공 = 1\n",
    "    except Exception as e:\n",
    "        for retry in range(num_retry):\n",
    "            try:\n",
    "                print(\"retry\")\n",
    "\n",
    "                df_goryeong = pd.DataFrame()\n",
    "                df_goryeong = make_hh_data(df_goryeong,list_goryeong_cd,month) #고령\n",
    "                \n",
    "                df_dongmyeong= pd.DataFrame()\n",
    "                df_dongmyeong = make_hh_data(df_dongmyeong,list_dongmyeong_cd,month) #동명면\n",
    "                \n",
    "\n",
    "                고령_동명면_성공 = 1\n",
    "                break\n",
    "            except Exception:\n",
    "                continue"
   ]
  },
  {
   "cell_type": "code",
   "execution_count": 81,
   "id": "2be98458",
   "metadata": {},
   "outputs": [
    {
     "name": "stdout",
     "output_type": "stream",
     "text": [
      "모두 성공\n"
     ]
    }
   ],
   "source": [
    "if(남구_성공==1 & 달서구_성공==1 & 달성군_성공==1 & 동구_성공==1 & 북구_성공==1\n",
    "  & 서구_성공==1 & 수성구_성공==1 & 중구_성공==1 & 경산_성공==1 & 고령_동명면_성공==1) :\n",
    "    print(\"모두 성공\")\n",
    "    \n",
    "elif (남구_성공 != 1):\n",
    "    print(\"남구 실패\")\n",
    "        \n",
    "elif (달서구_성공 != 1):\n",
    "    print(\"달서구 실패\")\n",
    "    \n",
    "elif (달성군_성공 != 1):\n",
    "    print(\"달성군 실패\")\n",
    "        \n",
    "elif (동구_성공 != 1):\n",
    "    print(\"동구 실패\")\n",
    "    \n",
    "elif (북구_성공 != 1):\n",
    "    print(\"북구 실패\")\n",
    "        \n",
    "elif (서구_성공 != 1):\n",
    "    print(\"서구 실패\")\n",
    "    \n",
    "elif (수성구_성공 != 1):\n",
    "    print(\"수성구 실패\")\n",
    "        \n",
    "elif (중구_성공 != 1):\n",
    "    print(\"중구 실패\")\n",
    "    \n",
    "elif (경산_성공 != 1):\n",
    "    print(\"경산 실패\")\n",
    "        \n",
    "elif (고령_동명면_성공 != 1):\n",
    "    print(\"고령, 동명면 실패\")\n",
    "    "
   ]
  },
  {
   "cell_type": "code",
   "execution_count": 108,
   "id": "b4298dab",
   "metadata": {},
   "outputs": [
    {
     "name": "stdout",
     "output_type": "stream",
     "text": [
      "대구 데이터 길이 :  24825\n",
      "경상북도 데이터 길이 :  2766\n",
      "총 데이터 길이 :  27591\n"
     ]
    },
    {
     "data": {
      "text/html": [
       "<div>\n",
       "<style scoped>\n",
       "    .dataframe tbody tr th:only-of-type {\n",
       "        vertical-align: middle;\n",
       "    }\n",
       "\n",
       "    .dataframe tbody tr th {\n",
       "        vertical-align: top;\n",
       "    }\n",
       "\n",
       "    .dataframe thead th {\n",
       "        text-align: right;\n",
       "    }\n",
       "</style>\n",
       "<table border=\"1\" class=\"dataframe\">\n",
       "  <thead>\n",
       "    <tr style=\"text-align: right;\">\n",
       "      <th></th>\n",
       "      <th>hhCnt</th>\n",
       "      <th>tong</th>\n",
       "      <th>femlNmprCnt</th>\n",
       "      <th>stdgCd</th>\n",
       "      <th>maleFemlRate</th>\n",
       "      <th>stdgNm</th>\n",
       "      <th>ban</th>\n",
       "      <th>totNmprCnt</th>\n",
       "      <th>ctpvNm</th>\n",
       "      <th>maleNmprCnt</th>\n",
       "      <th>sggNm</th>\n",
       "      <th>dongNm</th>\n",
       "      <th>hhNmpr</th>\n",
       "      <th>admmCd</th>\n",
       "      <th>statsYm</th>\n",
       "      <th>liNm</th>\n",
       "    </tr>\n",
       "  </thead>\n",
       "  <tbody>\n",
       "    <tr>\n",
       "      <th>0</th>\n",
       "      <td>9</td>\n",
       "      <td>1</td>\n",
       "      <td>6</td>\n",
       "      <td>2720010100</td>\n",
       "      <td>0.83</td>\n",
       "      <td>이천동</td>\n",
       "      <td>1</td>\n",
       "      <td>11</td>\n",
       "      <td>대구광역시</td>\n",
       "      <td>5</td>\n",
       "      <td>남구</td>\n",
       "      <td>이천동</td>\n",
       "      <td>1.22</td>\n",
       "      <td>2720051500</td>\n",
       "      <td>202306</td>\n",
       "      <td>NaN</td>\n",
       "    </tr>\n",
       "    <tr>\n",
       "      <th>1</th>\n",
       "      <td>25</td>\n",
       "      <td>1</td>\n",
       "      <td>24</td>\n",
       "      <td>2720010100</td>\n",
       "      <td>0.96</td>\n",
       "      <td>이천동</td>\n",
       "      <td>2</td>\n",
       "      <td>47</td>\n",
       "      <td>대구광역시</td>\n",
       "      <td>23</td>\n",
       "      <td>남구</td>\n",
       "      <td>이천동</td>\n",
       "      <td>1.88</td>\n",
       "      <td>2720051500</td>\n",
       "      <td>202306</td>\n",
       "      <td>NaN</td>\n",
       "    </tr>\n",
       "    <tr>\n",
       "      <th>2</th>\n",
       "      <td>35</td>\n",
       "      <td>1</td>\n",
       "      <td>26</td>\n",
       "      <td>2720010100</td>\n",
       "      <td>1.12</td>\n",
       "      <td>이천동</td>\n",
       "      <td>4</td>\n",
       "      <td>55</td>\n",
       "      <td>대구광역시</td>\n",
       "      <td>29</td>\n",
       "      <td>남구</td>\n",
       "      <td>이천동</td>\n",
       "      <td>1.57</td>\n",
       "      <td>2720051500</td>\n",
       "      <td>202306</td>\n",
       "      <td>NaN</td>\n",
       "    </tr>\n",
       "    <tr>\n",
       "      <th>3</th>\n",
       "      <td>50</td>\n",
       "      <td>1</td>\n",
       "      <td>34</td>\n",
       "      <td>2720010100</td>\n",
       "      <td>1.03</td>\n",
       "      <td>이천동</td>\n",
       "      <td>5</td>\n",
       "      <td>69</td>\n",
       "      <td>대구광역시</td>\n",
       "      <td>35</td>\n",
       "      <td>남구</td>\n",
       "      <td>이천동</td>\n",
       "      <td>1.38</td>\n",
       "      <td>2720051500</td>\n",
       "      <td>202306</td>\n",
       "      <td>NaN</td>\n",
       "    </tr>\n",
       "    <tr>\n",
       "      <th>4</th>\n",
       "      <td>55</td>\n",
       "      <td>2</td>\n",
       "      <td>70</td>\n",
       "      <td>2720010100</td>\n",
       "      <td>0.89</td>\n",
       "      <td>이천동</td>\n",
       "      <td>1</td>\n",
       "      <td>132</td>\n",
       "      <td>대구광역시</td>\n",
       "      <td>62</td>\n",
       "      <td>남구</td>\n",
       "      <td>이천동</td>\n",
       "      <td>2.40</td>\n",
       "      <td>2720051500</td>\n",
       "      <td>202306</td>\n",
       "      <td>NaN</td>\n",
       "    </tr>\n",
       "  </tbody>\n",
       "</table>\n",
       "</div>"
      ],
      "text/plain": [
       "  hhCnt tong femlNmprCnt      stdgCd maleFemlRate stdgNm ban totNmprCnt  \\\n",
       "0     9    1           6  2720010100         0.83    이천동   1         11   \n",
       "1    25    1          24  2720010100         0.96    이천동   2         47   \n",
       "2    35    1          26  2720010100         1.12    이천동   4         55   \n",
       "3    50    1          34  2720010100         1.03    이천동   5         69   \n",
       "4    55    2          70  2720010100         0.89    이천동   1        132   \n",
       "\n",
       "  ctpvNm maleNmprCnt sggNm dongNm hhNmpr      admmCd statsYm liNm  \n",
       "0  대구광역시           5    남구    이천동   1.22  2720051500  202306  NaN  \n",
       "1  대구광역시          23    남구    이천동   1.88  2720051500  202306  NaN  \n",
       "2  대구광역시          29    남구    이천동   1.57  2720051500  202306  NaN  \n",
       "3  대구광역시          35    남구    이천동   1.38  2720051500  202306  NaN  \n",
       "4  대구광역시          62    남구    이천동   2.40  2720051500  202306  NaN  "
      ]
     },
     "execution_count": 108,
     "metadata": {},
     "output_type": "execute_result"
    }
   ],
   "source": [
    "df_daegu = pd.concat([df_daegu_nam_gu,df_daegu_dalseo_gu,df_daegu_dalseong_gun,df_daegu_dong_gu,df_daegu_seo_gu,df_daegu_suseong_gu,df_daegu_buk_gu,df_daegu_jung_gu],axis = 0)\n",
    "df_daegu.drop_duplicates(keep = 'first',inplace=True) #중복값 제거 >> 중복값이 있을 때 첫번째 값만 남겨둠\n",
    "df_gyeongsang = pd.concat([df_gyeongsan,df_dongmyeong,df_goryeong],axis = 0)\n",
    "df_gyeongsang.drop_duplicates(keep = 'first',inplace=True) #중복값 제거 >> 중복값이 있을 때 첫번째 값만 남겨둠\n",
    "print('대구 데이터 길이 : ',len(df_daegu))\n",
    "print('경상북도 데이터 길이 : ',len(df_gyeongsang))\n",
    "df_house_hold = pd.concat([df_daegu,df_gyeongsang],axis = 0) # 도시별 데이터 결합\n",
    "print(\"총 데이터 길이 : \",len(df_house_hold))\n",
    "df_house_hold.head(5)"
   ]
  },
  {
   "cell_type": "code",
   "execution_count": 109,
   "id": "d8b8315b",
   "metadata": {},
   "outputs": [
    {
     "name": "stdout",
     "output_type": "stream",
     "text": [
      "        hhCnt                                               tong  femlNmprCnt  \\\n",
      "sggNm                                                                           \n",
      "경산시    129053  1234567891011121335361415153737373737373738383...       132794   \n",
      "고령군     16906  1111111112222222223262645678889101112131415161...        14675   \n",
      "남구      76592  1111222223333344444455555566666667777778888888...        73736   \n",
      "달서구    236791  1111112222223333334444455555566666677777788888...       271747   \n",
      "달성군    113996  1111111111112222222222233333333344444444555555...       129547   \n",
      "동구     160720  1111111111111111111111111111111222222222222222...       173316   \n",
      "북구     192580  1141919191919202020202020212121212111111222222...       214649   \n",
      "서구      81819  1111111111111111111112222222222222222222222333...        80377   \n",
      "수성구    171299  1111111111111111111111111111122222222222222222...       211396   \n",
      "중구      42582  1111122333334455554455162323232323232366666677...        43725   \n",
      "칠곡군      2969  1111122222333333344455556677778888810101010111...         2541   \n",
      "\n",
      "                                                  stdgCd  \\\n",
      "sggNm                                                      \n",
      "경산시    4729025021472902502147290250214729025021472902...   \n",
      "고령군    4783025321478302532147830253214783025321478302...   \n",
      "남구     2720010100272001010027200101002720010100272001...   \n",
      "달서구    2729010100272901010027290101002729010100272901...   \n",
      "달성군    2771025021277102502127710250212771025021277102...   \n",
      "동구     2714010100271401010027140101002714010100271401...   \n",
      "북구     2723010300272301030027230103002723010300272301...   \n",
      "서구     2717010100271701010027170101002717010100271701...   \n",
      "수성구    2726010100272601010027260101002726010100272601...   \n",
      "중구     2711010100271101010027110101002711010100271101...   \n",
      "칠곡군    4785032030478503203047850320304785032030478503...   \n",
      "\n",
      "                                            maleFemlRate  \\\n",
      "sggNm                                                      \n",
      "경산시    1.071.090.601.010.890.910.901.031.061.190.930....   \n",
      "고령군    1.000.820.880.861.251.091.441.071.461.110.401....   \n",
      "남구     0.830.961.121.030.890.950.820.690.970.780.920....   \n",
      "달서구    1.040.650.831.071.000.680.680.810.940.830.841....   \n",
      "달성군    1.141.031.720.921.361.210.970.801.150.977.001....   \n",
      "동구     0.940.911.300.961.050.960.630.760.980.451.240....   \n",
      "북구     0.501.001.141.221.021.101.171.020.861.130.981....   \n",
      "서구     0.931.311.041.001.440.461.380.910.811.030.791....   \n",
      "수성구    1.400.560.771.211.351.560.871.160.740.800.700....   \n",
      "중구     0.960.860.002.000.001.000.001.110.770.510.880....   \n",
      "칠곡군    0.682.330.871.220.971.001.241.151.501.301.301....   \n",
      "\n",
      "                                                  stdgNm  \\\n",
      "sggNm                                                      \n",
      "경산시    하양읍하양읍하양읍하양읍하양읍하양읍하양읍하양읍하양읍하양읍하양읍하양읍하양읍하양읍하양읍하...   \n",
      "고령군    대가야읍대가야읍대가야읍대가야읍대가야읍대가야읍대가야읍대가야읍대가야읍대가야읍대가야읍대가...   \n",
      "남구     이천동이천동이천동이천동이천동이천동이천동이천동이천동이천동이천동이천동이천동이천동이천동이...   \n",
      "달서구    성당동성당동성당동성당동성당동성당동성당동성당동성당동성당동성당동성당동성당동성당동성당동성...   \n",
      "달성군    화원읍화원읍화원읍화원읍화원읍화원읍화원읍화원읍화원읍화원읍화원읍화원읍화원읍화원읍화원읍화...   \n",
      "동구     신암동신암동신암동신암동신암동신암동신암동신암동신암동신암동신암동신암동신암동신암동신암동신...   \n",
      "북구     고성동1가고성동1가고성동1가고성동1가고성동1가고성동1가고성동1가고성동1가고성동1가고...   \n",
      "서구     내당동내당동내당동내당동내당동내당동내당동내당동내당동내당동내당동내당동내당동내당동내당동내...   \n",
      "수성구    범어동범어동범어동범어동범어동범어동범어동범어동범어동범어동범어동범어동범어동범어동범어동범...   \n",
      "중구     동인동1가동인동1가동인동1가동인동1가동인동1가동인동1가동인동1가동인동1가동인동1가동...   \n",
      "칠곡군    동명면동명면동명면동명면동명면동명면동명면동명면동명면동명면동명면동명면동명면동명면동명면동...   \n",
      "\n",
      "                                                     ban  totNmprCnt  \\\n",
      "sggNm                                                                  \n",
      "경산시    2123456123456712345123123451236789121312356789...      267305   \n",
      "고령군    1234567818910141719205453121232123231231212121...       30225   \n",
      "남구     1245123451234512345612345612345671234561234567...      141212   \n",
      "달서구    1234561234561234561234612345612345612345612345...      533810   \n",
      "달성군    1234567891011121234567891022123456789123456781...      263031   \n",
      "동구     1111122222333344445555566666778111112222233334...      339988   \n",
      "북구     1612345123456123451234512345612345123456123456...      426284   \n",
      "서구     1112223334445556677891112223334445556667778111...      159908   \n",
      "수성구    1111222233334444555566667788911122233344455566...      408238   \n",
      "중구     1245634123451334564512712345671234561234561234...       83945   \n",
      "칠곡군    1234512345123456712312341212341234512341212312...        5188   \n",
      "\n",
      "                                                  ctpvNm  maleNmprCnt  \\\n",
      "sggNm                                                                   \n",
      "경산시    경상북도경상북도경상북도경상북도경상북도경상북도경상북도경상북도경상북도경상북도경상북도경상...       134511   \n",
      "고령군    경상북도경상북도경상북도경상북도경상북도경상북도경상북도경상북도경상북도경상북도경상북도경상...        15550   \n",
      "남구     대구광역시대구광역시대구광역시대구광역시대구광역시대구광역시대구광역시대구광역시대구광역시대...        67476   \n",
      "달서구    대구광역시대구광역시대구광역시대구광역시대구광역시대구광역시대구광역시대구광역시대구광역시대...       262063   \n",
      "달성군    대구광역시대구광역시대구광역시대구광역시대구광역시대구광역시대구광역시대구광역시대구광역시대...       133484   \n",
      "동구     대구광역시대구광역시대구광역시대구광역시대구광역시대구광역시대구광역시대구광역시대구광역시대...       166672   \n",
      "북구     대구광역시대구광역시대구광역시대구광역시대구광역시대구광역시대구광역시대구광역시대구광역시대...       211635   \n",
      "서구     대구광역시대구광역시대구광역시대구광역시대구광역시대구광역시대구광역시대구광역시대구광역시대...        79531   \n",
      "수성구    대구광역시대구광역시대구광역시대구광역시대구광역시대구광역시대구광역시대구광역시대구광역시대...       196842   \n",
      "중구     대구광역시대구광역시대구광역시대구광역시대구광역시대구광역시대구광역시대구광역시대구광역시대...        40220   \n",
      "칠곡군    경상북도경상북도경상북도경상북도경상북도경상북도경상북도경상북도경상북도경상북도경상북도경상...         2647   \n",
      "\n",
      "                                                  dongNm  \\\n",
      "sggNm                                                      \n",
      "경산시    하양읍하양읍하양읍하양읍하양읍하양읍하양읍하양읍하양읍하양읍하양읍하양읍하양읍하양읍하양읍하...   \n",
      "고령군    대가야읍대가야읍대가야읍대가야읍대가야읍대가야읍대가야읍대가야읍대가야읍대가야읍대가야읍대가...   \n",
      "남구     이천동이천동이천동이천동이천동이천동이천동이천동이천동이천동이천동이천동이천동이천동이천동이...   \n",
      "달서구    성당동성당동성당동성당동성당동성당동성당동성당동성당동성당동성당동성당동성당동성당동성당동성...   \n",
      "달성군    화원읍화원읍화원읍화원읍화원읍화원읍화원읍화원읍화원읍화원읍화원읍화원읍화원읍화원읍화원읍화...   \n",
      "동구     신암2동신암4동신암1동신암5동신암3동신암3동신암1동신암5동신암4동신암2동신암3동신암...   \n",
      "북구     고성동고성동고성동고성동고성동고성동고성동고성동고성동고성동고성동고성동고성동고성동고성동고...   \n",
      "서구     내당1동내당4동내당2.3동내당1동내당4동내당2.3동내당1동내당4동내당2.3동내당1동...   \n",
      "수성구    범어2동범어3동범어1동범어4동범어2동범어1동범어3동범어4동범어4동범어3동범어2동범어...   \n",
      "중구     동인동동인동동인동동인동동인동동인동동인동동인동동인동동인동동인동동인동동인동동인동동인동동...   \n",
      "칠곡군    동명면동명면동명면동명면동명면동명면동명면동명면동명면동명면동명면동명면동명면동명면동명면동...   \n",
      "\n",
      "                                                  hhNmpr  \\\n",
      "sggNm                                                      \n",
      "경산시    1.471.561.641.482.312.582.282.331.891.811.902....   \n",
      "고령군    1.431.821.961.681.421.641.862.071.603.093.502....   \n",
      "남구     1.221.881.571.382.402.432.172.262.442.542.252....   \n",
      "달서구    2.041.531.551.652.121.682.381.421.821.961.791....   \n",
      "달성군    1.812.171.611.831.652.001.851.801.651.741.001....   \n",
      "동구     1.671.801.232.321.681.641.411.862.021.261.572....   \n",
      "북구     1.381.002.472.292.412.642.552.622.582.722.602....   \n",
      "서구     2.811.451.762.481.411.893.001.632.102.261.711....   \n",
      "수성구    1.631.561.443.882.031.441.443.633.531.471.981....   \n",
      "중구     2.621.441.001.001.001.001.002.002.021.622.032....   \n",
      "칠곡군    1.281.671.681.431.691.691.952.001.671.881.701....   \n",
      "\n",
      "                                                  admmCd  \\\n",
      "sggNm                                                      \n",
      "경산시    4729025000472902500047290250004729025000472902...   \n",
      "고령군    4783025300478302530047830253004783025300478302...   \n",
      "남구     2720051500272005150027200515002720051500272005...   \n",
      "달서구    2729051500272905150027290515002729051500272905...   \n",
      "달성군    2771025000277102500027710250002771025000277102...   \n",
      "동구     2714052000271405400027140510002714054100271405...   \n",
      "북구     2723051000272305100027230510002723051000272305...   \n",
      "서구     2717051000271705400027170525002717051000271705...   \n",
      "수성구    2726052000272605300027260510002726054000272605...   \n",
      "중구     2711051700271105170027110517002711051700271105...   \n",
      "칠곡군    4785032000478503200047850320004785032000478503...   \n",
      "\n",
      "                                                 statsYm  \\\n",
      "sggNm                                                      \n",
      "경산시    2023062023062023062023062023062023062023062023...   \n",
      "고령군    2023062023062023062023062023062023062023062023...   \n",
      "남구     2023062023062023062023062023062023062023062023...   \n",
      "달서구    2023062023062023062023062023062023062023062023...   \n",
      "달성군    2023062023062023062023062023062023062023062023...   \n",
      "동구     2023062023062023062023062023062023062023062023...   \n",
      "북구     2023062023062023062023062023062023062023062023...   \n",
      "서구     2023062023062023062023062023062023062023062023...   \n",
      "수성구    2023062023062023062023062023062023062023062023...   \n",
      "중구     2023062023062023062023062023062023062023062023...   \n",
      "칠곡군    2023062023062023062023062023062023062023062023...   \n",
      "\n",
      "                                                    liNm  \n",
      "sggNm                                                     \n",
      "경산시    금락리금락리금락리금락리금락리금락리금락리금락리동서리동서리동서리동서리동서리동서리동서리도...  \n",
      "고령군    쾌빈리쾌빈리쾌빈리쾌빈리쾌빈리쾌빈리쾌빈리쾌빈리쾌빈리쾌빈리쾌빈리쾌빈리쾌빈리쾌빈리쾌빈리쾌...  \n",
      "남구                                                     0  \n",
      "달서구                                                    0  \n",
      "달성군    천내리천내리천내리천내리천내리천내리천내리천내리천내리천내리천내리천내리천내리천내리천내리천...  \n",
      "동구                                                     0  \n",
      "북구                                                     0  \n",
      "서구                                                     0  \n",
      "수성구                                                    0  \n",
      "중구                                                     0  \n",
      "칠곡군    금암리금암리금암리금암리금암리금암리금암리금암리금암리금암리금암리금암리금암리금암리금암리금...  \n"
     ]
    }
   ],
   "source": [
    "print(know_hhcnt(df_house_hold))"
   ]
  },
  {
   "cell_type": "code",
   "execution_count": 110,
   "id": "cc0cd0f0",
   "metadata": {},
   "outputs": [],
   "source": [
    "#데이터 컬럼명 변경 및 위치 변경\n",
    "df_house_hold = name_sort_change(df_house_hold)"
   ]
  },
  {
   "cell_type": "code",
   "execution_count": 112,
   "id": "7bfe2051",
   "metadata": {},
   "outputs": [],
   "source": [
    "# NaN 값을 공백으로 변환 (Table에 저장하기 위함)\n",
    "df_house_hold['리명'] = df_house_hold['리명'].fillna('')"
   ]
  },
  {
   "cell_type": "code",
   "execution_count": 113,
   "id": "65febe48",
   "metadata": {},
   "outputs": [
    {
     "data": {
      "text/html": [
       "<div>\n",
       "<style scoped>\n",
       "    .dataframe tbody tr th:only-of-type {\n",
       "        vertical-align: middle;\n",
       "    }\n",
       "\n",
       "    .dataframe tbody tr th {\n",
       "        vertical-align: top;\n",
       "    }\n",
       "\n",
       "    .dataframe thead th {\n",
       "        text-align: right;\n",
       "    }\n",
       "</style>\n",
       "<table border=\"1\" class=\"dataframe\">\n",
       "  <thead>\n",
       "    <tr style=\"text-align: right;\">\n",
       "      <th></th>\n",
       "      <th>통계년월</th>\n",
       "      <th>법정동코드</th>\n",
       "      <th>시도명</th>\n",
       "      <th>시군구명</th>\n",
       "      <th>법정동명</th>\n",
       "      <th>리명</th>\n",
       "      <th>행정기관코드</th>\n",
       "      <th>행정동명</th>\n",
       "      <th>통</th>\n",
       "      <th>반</th>\n",
       "      <th>총인구수</th>\n",
       "      <th>세대수</th>\n",
       "      <th>세대당인구</th>\n",
       "      <th>남자인구수</th>\n",
       "      <th>여자인구수</th>\n",
       "      <th>남여비율</th>\n",
       "      <th>업데이트일자</th>\n",
       "    </tr>\n",
       "  </thead>\n",
       "  <tbody>\n",
       "    <tr>\n",
       "      <th>0</th>\n",
       "      <td>202306</td>\n",
       "      <td>2720010100</td>\n",
       "      <td>대구광역시</td>\n",
       "      <td>남구</td>\n",
       "      <td>이천동</td>\n",
       "      <td></td>\n",
       "      <td>2720051500</td>\n",
       "      <td>이천동</td>\n",
       "      <td>1</td>\n",
       "      <td>1</td>\n",
       "      <td>11</td>\n",
       "      <td>9</td>\n",
       "      <td>1.22</td>\n",
       "      <td>5</td>\n",
       "      <td>6</td>\n",
       "      <td>0.83</td>\n",
       "      <td>20230711</td>\n",
       "    </tr>\n",
       "    <tr>\n",
       "      <th>1</th>\n",
       "      <td>202306</td>\n",
       "      <td>2720010100</td>\n",
       "      <td>대구광역시</td>\n",
       "      <td>남구</td>\n",
       "      <td>이천동</td>\n",
       "      <td></td>\n",
       "      <td>2720051500</td>\n",
       "      <td>이천동</td>\n",
       "      <td>1</td>\n",
       "      <td>2</td>\n",
       "      <td>47</td>\n",
       "      <td>25</td>\n",
       "      <td>1.88</td>\n",
       "      <td>23</td>\n",
       "      <td>24</td>\n",
       "      <td>0.96</td>\n",
       "      <td>20230711</td>\n",
       "    </tr>\n",
       "    <tr>\n",
       "      <th>2</th>\n",
       "      <td>202306</td>\n",
       "      <td>2720010100</td>\n",
       "      <td>대구광역시</td>\n",
       "      <td>남구</td>\n",
       "      <td>이천동</td>\n",
       "      <td></td>\n",
       "      <td>2720051500</td>\n",
       "      <td>이천동</td>\n",
       "      <td>1</td>\n",
       "      <td>4</td>\n",
       "      <td>55</td>\n",
       "      <td>35</td>\n",
       "      <td>1.57</td>\n",
       "      <td>29</td>\n",
       "      <td>26</td>\n",
       "      <td>1.12</td>\n",
       "      <td>20230711</td>\n",
       "    </tr>\n",
       "    <tr>\n",
       "      <th>3</th>\n",
       "      <td>202306</td>\n",
       "      <td>2720010100</td>\n",
       "      <td>대구광역시</td>\n",
       "      <td>남구</td>\n",
       "      <td>이천동</td>\n",
       "      <td></td>\n",
       "      <td>2720051500</td>\n",
       "      <td>이천동</td>\n",
       "      <td>1</td>\n",
       "      <td>5</td>\n",
       "      <td>69</td>\n",
       "      <td>50</td>\n",
       "      <td>1.38</td>\n",
       "      <td>35</td>\n",
       "      <td>34</td>\n",
       "      <td>1.03</td>\n",
       "      <td>20230711</td>\n",
       "    </tr>\n",
       "    <tr>\n",
       "      <th>4</th>\n",
       "      <td>202306</td>\n",
       "      <td>2720010100</td>\n",
       "      <td>대구광역시</td>\n",
       "      <td>남구</td>\n",
       "      <td>이천동</td>\n",
       "      <td></td>\n",
       "      <td>2720051500</td>\n",
       "      <td>이천동</td>\n",
       "      <td>2</td>\n",
       "      <td>1</td>\n",
       "      <td>132</td>\n",
       "      <td>55</td>\n",
       "      <td>2.40</td>\n",
       "      <td>62</td>\n",
       "      <td>70</td>\n",
       "      <td>0.89</td>\n",
       "      <td>20230711</td>\n",
       "    </tr>\n",
       "  </tbody>\n",
       "</table>\n",
       "</div>"
      ],
      "text/plain": [
       "     통계년월       법정동코드    시도명 시군구명 법정동명 리명      행정기관코드 행정동명  통  반  총인구수  세대수  \\\n",
       "0  202306  2720010100  대구광역시   남구  이천동     2720051500  이천동  1  1    11    9   \n",
       "1  202306  2720010100  대구광역시   남구  이천동     2720051500  이천동  1  2    47   25   \n",
       "2  202306  2720010100  대구광역시   남구  이천동     2720051500  이천동  1  4    55   35   \n",
       "3  202306  2720010100  대구광역시   남구  이천동     2720051500  이천동  1  5    69   50   \n",
       "4  202306  2720010100  대구광역시   남구  이천동     2720051500  이천동  2  1   132   55   \n",
       "\n",
       "  세대당인구  남자인구수  여자인구수  남여비율    업데이트일자  \n",
       "0  1.22      5      6  0.83  20230711  \n",
       "1  1.88     23     24  0.96  20230711  \n",
       "2  1.57     29     26  1.12  20230711  \n",
       "3  1.38     35     34  1.03  20230711  \n",
       "4  2.40     62     70  0.89  20230711  "
      ]
     },
     "execution_count": 113,
     "metadata": {},
     "output_type": "execute_result"
    }
   ],
   "source": [
    "df_house_hold.head()"
   ]
  },
  {
   "cell_type": "markdown",
   "id": "550582b0",
   "metadata": {},
   "source": [
    "# 5. 법정동, 행정동 세대수 데이터  SQL에 삽입 "
   ]
  },
  {
   "cell_type": "code",
   "execution_count": 114,
   "id": "97ebb5aa",
   "metadata": {},
   "outputs": [],
   "source": [
    "conn = dbconnect.db_connect(\"DEMO_DW\")\n",
    "cursor = conn.cursor()\n",
    "\n",
    "query = f'SELECT EXISTS (SELECT * FROM household_dong WHERE 통계년월 = {month})'\n",
    "\n",
    "cursor.execute(query)\n",
    "row = cursor.fetchone()\n",
    "data_exist = row[0]     # 저장된 데이터의 유무(1 - 데이터 있음)\n",
    "\n",
    "conn.close()"
   ]
  },
  {
   "cell_type": "code",
   "execution_count": 115,
   "id": "8157c1e4",
   "metadata": {},
   "outputs": [
    {
     "name": "stdout",
     "output_type": "stream",
     "text": [
      "202306 데이터를 저장하였습니다.\n"
     ]
    }
   ],
   "source": [
    "if data_exist == 1:      # 데이터 존재하면\n",
    "    print(f'{month} 에 데이터가 존재합니다.')\n",
    "else:\n",
    "    conn = dbconnect.db_connect(\"DEMO_DW\")\n",
    "    cur = conn.cursor()\n",
    "\n",
    "    for row in df_house_hold.itertuples():\n",
    "        sql = \"insert into household_dong (통계년월, 법정동코드, 시도명, 시군구명, 법정동명, 리명, \\\n",
    "                                           행정기관코드, 행정동명, 통, 반, 총인구수, 세대수, 세대당인구, \\\n",
    "                                           남자인구수, 여자인구수, 남여비율, 업데이트일자) \\\n",
    "               values (%s, %s, %s, %s, %s, %s, %s, %s, %s, %s, %s, %s, %s, %s, %s, %s, %s)\"\n",
    "        cur.execute(sql, (row[1], row[2], row[3], row[4], row[5], row[6], row[7], row[8], row[9], row[10], row[11], row[12], row[13], row[14], row[15], row[16], row[17]))\n",
    "\n",
    "    conn.commit()\n",
    "    print(f'{month} 데이터를 저장하였습니다.')\n",
    "    conn.close()"
   ]
  }
 ],
 "metadata": {
  "kernelspec": {
   "display_name": "Python 3 (ipykernel)",
   "language": "python",
   "name": "python3"
  },
  "language_info": {
   "codemirror_mode": {
    "name": "ipython",
    "version": 3
   },
   "file_extension": ".py",
   "mimetype": "text/x-python",
   "name": "python",
   "nbconvert_exporter": "python",
   "pygments_lexer": "ipython3",
   "version": "3.10.8"
  }
 },
 "nbformat": 4,
 "nbformat_minor": 5
}
