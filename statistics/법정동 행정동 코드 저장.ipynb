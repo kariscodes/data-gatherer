{
 "cells": [
  {
   "cell_type": "markdown",
   "id": "82814239",
   "metadata": {},
   "source": [
    "## 법정동, 행정동 코드매핑 자료 다운로드 및 저장\n",
    "#### '행정기관(행정동) 및 관할구역(법정동) 변경내역' 파일(가장 최신파일) 다운로드, 저장\n",
    "###### https://www.mois.go.kr/frt/bbs/type001/commonSelectBoardList.do?bbsId=BBSMSTR_000000000052\n",
    "\n",
    "압축 파일 중, mdm.city 테이블 생성을 위해 **KIKmix** 로 시작하는 파일만 사용합니다. (법정동/ 행정동 코드 모두 나와 있는 자료)"
   ]
  },
  {
   "cell_type": "code",
   "execution_count": 1,
   "id": "8e895f95",
   "metadata": {},
   "outputs": [],
   "source": [
    "#라이브러리 설치\n",
    "\n",
    "import pandas as pd\n",
    "import os\n",
    "\n",
    "import sys\n",
    "module_path = \"D:\\PythonProject\\data-gatherer\\common\"\n",
    "sys.path.append(module_path)\n",
    "import dbconnect"
   ]
  },
  {
   "cell_type": "code",
   "execution_count": 2,
   "id": "66a77e67",
   "metadata": {},
   "outputs": [
    {
     "name": "stdout",
     "output_type": "stream",
     "text": [
      "업데이트 일자 :  20230703\n"
     ]
    }
   ],
   "source": [
    "#파일 경로를 설정 및 파일 읽기\n",
    "# path = 'C:/Users/user/Desktop/인수인계/인수인계_데이터/행정동_법정동/jsocde20230611/KIKmix.20230611.xlsx'\n",
    "file_path = 'D:\\PythonProject\\data-gatherer\\statistics\\data\\jscode20230703\\jscode20230703\\KIKmix.20230703.xlsx'\n",
    "#업데이트 날짜 기록하기 위해 파일 경로의 일부를 추출\n",
    "basename = os.path.basename(file_path)      # 파일명 + 확장자\n",
    "filename = os.path.splitext(basename)[0]    # 확장자를 뺀 파일명\n",
    "update_date = filename.split(\".\")[1]\n",
    "print(\"업데이트 일자 : \",update_date)      "
   ]
  },
  {
   "cell_type": "code",
   "execution_count": 3,
   "id": "6c2636bb",
   "metadata": {},
   "outputs": [],
   "source": [
    "conn = dbconnect.db_connect(\"DEMO_DM\")\n",
    "cursor = conn.cursor()\n",
    "\n",
    "query = f'SELECT EXISTS (SELECT * FROM city WHERE 업데이트일자 = {update_date})'\n",
    "\n",
    "cursor.execute(query)\n",
    "row = cursor.fetchone()\n",
    "data_exist = row[0]     # 저장된 데이터의 유무(1 - 데이터 있음)\n",
    "\n",
    "conn.close()"
   ]
  },
  {
   "cell_type": "code",
   "execution_count": 4,
   "id": "2acdba0c",
   "metadata": {},
   "outputs": [
    {
     "name": "stdout",
     "output_type": "stream",
     "text": [
      "20230703 일자에 데이터가 존재합니다.\n"
     ]
    }
   ],
   "source": [
    "if data_exist == 1:      # 데이터 존재하면\n",
    "    print(f'{update_date} 일자에 데이터가 존재합니다.')"
   ]
  },
  {
   "cell_type": "markdown",
   "id": "4e234eeb",
   "metadata": {},
   "source": [
    "### 파일의 데이터 읽기"
   ]
  },
  {
   "cell_type": "code",
   "execution_count": 23,
   "id": "957a748f",
   "metadata": {},
   "outputs": [
    {
     "data": {
      "text/html": [
       "<div>\n",
       "<style scoped>\n",
       "    .dataframe tbody tr th:only-of-type {\n",
       "        vertical-align: middle;\n",
       "    }\n",
       "\n",
       "    .dataframe tbody tr th {\n",
       "        vertical-align: top;\n",
       "    }\n",
       "\n",
       "    .dataframe thead th {\n",
       "        text-align: right;\n",
       "    }\n",
       "</style>\n",
       "<table border=\"1\" class=\"dataframe\">\n",
       "  <thead>\n",
       "    <tr style=\"text-align: right;\">\n",
       "      <th></th>\n",
       "      <th>행정동코드</th>\n",
       "      <th>시도명</th>\n",
       "      <th>시군구명</th>\n",
       "      <th>읍면동명</th>\n",
       "      <th>법정동코드</th>\n",
       "      <th>동리명</th>\n",
       "      <th>생성일자</th>\n",
       "      <th>말소일자</th>\n",
       "    </tr>\n",
       "  </thead>\n",
       "  <tbody>\n",
       "    <tr>\n",
       "      <th>0</th>\n",
       "      <td>1100000000</td>\n",
       "      <td>서울특별시</td>\n",
       "      <td>NaN</td>\n",
       "      <td>NaN</td>\n",
       "      <td>1100000000</td>\n",
       "      <td>서울특별시</td>\n",
       "      <td>19880423</td>\n",
       "      <td>NaN</td>\n",
       "    </tr>\n",
       "    <tr>\n",
       "      <th>1</th>\n",
       "      <td>1111000000</td>\n",
       "      <td>서울특별시</td>\n",
       "      <td>종로구</td>\n",
       "      <td>NaN</td>\n",
       "      <td>1111000000</td>\n",
       "      <td>종로구</td>\n",
       "      <td>19880423</td>\n",
       "      <td>NaN</td>\n",
       "    </tr>\n",
       "    <tr>\n",
       "      <th>2</th>\n",
       "      <td>1111051500</td>\n",
       "      <td>서울특별시</td>\n",
       "      <td>종로구</td>\n",
       "      <td>청운효자동</td>\n",
       "      <td>1111010100</td>\n",
       "      <td>청운동</td>\n",
       "      <td>20081101</td>\n",
       "      <td>NaN</td>\n",
       "    </tr>\n",
       "    <tr>\n",
       "      <th>3</th>\n",
       "      <td>1111051500</td>\n",
       "      <td>서울특별시</td>\n",
       "      <td>종로구</td>\n",
       "      <td>청운효자동</td>\n",
       "      <td>1111010200</td>\n",
       "      <td>신교동</td>\n",
       "      <td>20081101</td>\n",
       "      <td>NaN</td>\n",
       "    </tr>\n",
       "    <tr>\n",
       "      <th>4</th>\n",
       "      <td>1111051500</td>\n",
       "      <td>서울특별시</td>\n",
       "      <td>종로구</td>\n",
       "      <td>청운효자동</td>\n",
       "      <td>1111010300</td>\n",
       "      <td>궁정동</td>\n",
       "      <td>20081101</td>\n",
       "      <td>NaN</td>\n",
       "    </tr>\n",
       "  </tbody>\n",
       "</table>\n",
       "</div>"
      ],
      "text/plain": [
       "        행정동코드    시도명 시군구명   읍면동명       법정동코드    동리명      생성일자  말소일자\n",
       "0  1100000000  서울특별시  NaN    NaN  1100000000  서울특별시  19880423   NaN\n",
       "1  1111000000  서울특별시  종로구    NaN  1111000000    종로구  19880423   NaN\n",
       "2  1111051500  서울특별시  종로구  청운효자동  1111010100    청운동  20081101   NaN\n",
       "3  1111051500  서울특별시  종로구  청운효자동  1111010200    신교동  20081101   NaN\n",
       "4  1111051500  서울특별시  종로구  청운효자동  1111010300    궁정동  20081101   NaN"
      ]
     },
     "execution_count": 23,
     "metadata": {},
     "output_type": "execute_result"
    }
   ],
   "source": [
    "df_code = pd.read_excel(file_path)\n",
    "df_code.head()"
   ]
  },
  {
   "cell_type": "code",
   "execution_count": 28,
   "id": "25cbf26e",
   "metadata": {},
   "outputs": [
    {
     "data": {
      "text/html": [
       "<div>\n",
       "<style scoped>\n",
       "    .dataframe tbody tr th:only-of-type {\n",
       "        vertical-align: middle;\n",
       "    }\n",
       "\n",
       "    .dataframe tbody tr th {\n",
       "        vertical-align: top;\n",
       "    }\n",
       "\n",
       "    .dataframe thead th {\n",
       "        text-align: right;\n",
       "    }\n",
       "</style>\n",
       "<table border=\"1\" class=\"dataframe\">\n",
       "  <thead>\n",
       "    <tr style=\"text-align: right;\">\n",
       "      <th></th>\n",
       "      <th>업데이트일자</th>\n",
       "      <th>행정동코드</th>\n",
       "      <th>시도명</th>\n",
       "      <th>시군구명</th>\n",
       "      <th>읍면동명</th>\n",
       "      <th>법정동코드</th>\n",
       "      <th>동리명</th>\n",
       "    </tr>\n",
       "  </thead>\n",
       "  <tbody>\n",
       "    <tr>\n",
       "      <th>0</th>\n",
       "      <td>20230703</td>\n",
       "      <td>2700000000</td>\n",
       "      <td>대구광역시</td>\n",
       "      <td></td>\n",
       "      <td></td>\n",
       "      <td>2700000000</td>\n",
       "      <td>대구광역시</td>\n",
       "    </tr>\n",
       "    <tr>\n",
       "      <th>1</th>\n",
       "      <td>20230703</td>\n",
       "      <td>2711000000</td>\n",
       "      <td>대구광역시</td>\n",
       "      <td>중구</td>\n",
       "      <td></td>\n",
       "      <td>2711000000</td>\n",
       "      <td>중구</td>\n",
       "    </tr>\n",
       "    <tr>\n",
       "      <th>2</th>\n",
       "      <td>20230703</td>\n",
       "      <td>2711051700</td>\n",
       "      <td>대구광역시</td>\n",
       "      <td>중구</td>\n",
       "      <td>동인동</td>\n",
       "      <td>2711010100</td>\n",
       "      <td>동인동1가</td>\n",
       "    </tr>\n",
       "    <tr>\n",
       "      <th>3</th>\n",
       "      <td>20230703</td>\n",
       "      <td>2711051700</td>\n",
       "      <td>대구광역시</td>\n",
       "      <td>중구</td>\n",
       "      <td>동인동</td>\n",
       "      <td>2711010200</td>\n",
       "      <td>동인동2가</td>\n",
       "    </tr>\n",
       "    <tr>\n",
       "      <th>4</th>\n",
       "      <td>20230703</td>\n",
       "      <td>2711051700</td>\n",
       "      <td>대구광역시</td>\n",
       "      <td>중구</td>\n",
       "      <td>동인동</td>\n",
       "      <td>2711010300</td>\n",
       "      <td>동인동3가</td>\n",
       "    </tr>\n",
       "  </tbody>\n",
       "</table>\n",
       "</div>"
      ],
      "text/plain": [
       "     업데이트일자       행정동코드    시도명 시군구명 읍면동명       법정동코드    동리명\n",
       "0  20230703  2700000000  대구광역시            2700000000  대구광역시\n",
       "1  20230703  2711000000  대구광역시   중구       2711000000     중구\n",
       "2  20230703  2711051700  대구광역시   중구  동인동  2711010100  동인동1가\n",
       "3  20230703  2711051700  대구광역시   중구  동인동  2711010200  동인동2가\n",
       "4  20230703  2711051700  대구광역시   중구  동인동  2711010300  동인동3가"
      ]
     },
     "execution_count": 28,
     "metadata": {},
     "output_type": "execute_result"
    }
   ],
   "source": [
    "#법정동, 행정동을 나타낸 테이블 생성 > 대구, 경산시, 고령군, 동명면에 한정\n",
    "df_daegu_table = df_code[df_code['시도명'].str.contains('대구광역시')]\n",
    "df_gyeongsan_table = df_code[df_code['시군구명']=='경산시']\n",
    "df_goryeong_table = df_code[df_code['시군구명']=='고령군']\n",
    "df_dongmyeong_table = df_code[df_code['읍면동명']=='동명면']\n",
    "\n",
    "df_code_table = pd.concat([df_daegu_table,df_gyeongsan_table,df_goryeong_table,df_dongmyeong_table],axis = 0) #데이터 결합\n",
    "df_code_table.reset_index(inplace= True, drop=  True)\n",
    "df_code_table['업데이트일자'] = update_date\n",
    "\n",
    "# NaN 값을 공백으로 변환 (Table에 저장하기 위함)\n",
    "df_code_table['시군구명'] = df_code_table['시군구명'].fillna('')\n",
    "df_code_table['읍면동명'] = df_code_table['읍면동명'].fillna('')\n",
    "\n",
    "#순서 변경\n",
    "df_code_table=df_code_table[['업데이트일자','행정동코드','시도명','시군구명','읍면동명','법정동코드','동리명']]\n",
    "df_code_table['행정동코드'] =df_code_table['행정동코드'].apply(str)\n",
    "df_code_table['법정동코드'] =df_code_table['법정동코드'].apply(str)\n",
    "df_code_table.head()"
   ]
  },
  {
   "cell_type": "markdown",
   "id": "04db9129",
   "metadata": {},
   "source": [
    "### 데이터를 테이블에 저장\n",
    "형식을 지정한 후 **mdm.city** 테이블에 데이터를 삽입해 줍니다.  \n",
    "mdm.city는 법정동, 행정동 관련 정보가 있는 테이블 입니다."
   ]
  },
  {
   "cell_type": "code",
   "execution_count": 29,
   "id": "774d52fb",
   "metadata": {},
   "outputs": [],
   "source": [
    "conn = dbconnect.db_connect(\"DEMO_DM\")\n",
    "cur = conn.cursor()\n",
    "\n",
    "for row in df_code_table.itertuples():\n",
    "    sql = \"insert into city (업데이트일자, 행정동코드, 시도명, 시군구명, 읍면동명, 법정동코드, 동리명) \\\n",
    "           values (%s, %s, %s, %s, %s, %s, %s)\"\n",
    "    cur.execute(sql, (row[1], row[2], row[3], row[4], row[5], row[6], row[7]))\n",
    "\n",
    "conn.commit()\n",
    "conn.close()"
   ]
  }
 ],
 "metadata": {
  "kernelspec": {
   "display_name": "Python 3 (ipykernel)",
   "language": "python",
   "name": "python3"
  },
  "language_info": {
   "codemirror_mode": {
    "name": "ipython",
    "version": 3
   },
   "file_extension": ".py",
   "mimetype": "text/x-python",
   "name": "python",
   "nbconvert_exporter": "python",
   "pygments_lexer": "ipython3",
   "version": "3.10.8"
  }
 },
 "nbformat": 4,
 "nbformat_minor": 5
}
