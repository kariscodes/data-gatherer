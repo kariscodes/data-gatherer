{
 "cells": [
  {
   "cell_type": "markdown",
   "id": "6ef2cef5",
   "metadata": {},
   "source": [
    "## 동별 세대수 가져오기 [대구광역시]\n",
    "+ 작성: 김지훈\n",
    "+ 수정: 임경호"
   ]
  },
  {
   "cell_type": "markdown",
   "id": "82814239",
   "metadata": {},
   "source": [
    "### 1. 지정한 년월에 사용 가능한 최신의 법정동, 행정동 코드 자료를 테이블에서 가져온다."
   ]
  },
  {
   "cell_type": "code",
   "execution_count": 1,
   "id": "8e895f95",
   "metadata": {},
   "outputs": [],
   "source": [
    "import pandas as pd\n",
    "import requests\n",
    "from tqdm.notebook import tqdm\n",
    "import json\n",
    "from datetime import datetime\n",
    "import calendar\n",
    "\n",
    "import sys\n",
    "module_path = \"D:\\PythonProject\\data-gatherer\\common\"\n",
    "sys.path.append(module_path)\n",
    "import dbconnect"
   ]
  },
  {
   "cell_type": "code",
   "execution_count": 2,
   "id": "4dcac93e",
   "metadata": {},
   "outputs": [],
   "source": [
    "region = \"대구광역시\"\n",
    "#추출하고자 하는 년월\n",
    "input_year = 2023\n",
    "input_month = 8\n",
    "# 년월: yyyymm 형식 문자열\n",
    "month = str(input_year) + str(input_month).zfill(2)   \n",
    "last_day = calendar.monthrange(input_year, input_month)[1]\n",
    "# print(year, month, last_day)\n",
    "month_end_date = datetime(input_year, input_month, last_day).strftime(\"%Y%m%d\")"
   ]
  },
  {
   "cell_type": "code",
   "execution_count": 3,
   "id": "5cefdd4c",
   "metadata": {},
   "outputs": [],
   "source": [
    "# 해당 년월에 사용가능한, 저장된 데이터의 마지막 일자 가져오기\n",
    "conn = dbconnect.db_connect(\"DEMO_DM\")\n",
    "cur = conn.cursor()\n",
    "\n",
    "query = \"SELECT 업데이트일자 FROM city WHERE 업데이트일자 <= '\" + month_end_date + \"' and 시도명 = '\" + region + \"' ORDER BY 업데이트일자 DESC LIMIT 1\"\n",
    "cur.execute(query)\n",
    "row = cur.fetchone()\n",
    "stored_date = row[0]     \n",
    "\n",
    "conn.close()"
   ]
  },
  {
   "cell_type": "code",
   "execution_count": 4,
   "id": "81cba7e9",
   "metadata": {},
   "outputs": [],
   "source": [
    "# 지역코드 테이블에서 데이터 읽어오기\n",
    "engine = dbconnect.db_engine(\"DEMO_DM\")\n",
    "query = \"SELECT * FROM city WHERE 업데이트일자 = '\" + stored_date + \"' and 시도명 = '\" + region + \"'\"\n",
    "result = pd.read_sql(query, engine)"
   ]
  },
  {
   "cell_type": "code",
   "execution_count": 5,
   "id": "0a633d7c",
   "metadata": {},
   "outputs": [
    {
     "data": {
      "text/html": [
       "<div>\n",
       "<style scoped>\n",
       "    .dataframe tbody tr th:only-of-type {\n",
       "        vertical-align: middle;\n",
       "    }\n",
       "\n",
       "    .dataframe tbody tr th {\n",
       "        vertical-align: top;\n",
       "    }\n",
       "\n",
       "    .dataframe thead th {\n",
       "        text-align: right;\n",
       "    }\n",
       "</style>\n",
       "<table border=\"1\" class=\"dataframe\">\n",
       "  <thead>\n",
       "    <tr style=\"text-align: right;\">\n",
       "      <th></th>\n",
       "      <th>업데이트일자</th>\n",
       "      <th>행정동코드</th>\n",
       "      <th>시도명</th>\n",
       "      <th>시군구명</th>\n",
       "      <th>읍면동명</th>\n",
       "      <th>법정동코드</th>\n",
       "      <th>동리명</th>\n",
       "    </tr>\n",
       "  </thead>\n",
       "  <tbody>\n",
       "    <tr>\n",
       "      <th>0</th>\n",
       "      <td>20230703</td>\n",
       "      <td>2700000000</td>\n",
       "      <td>대구광역시</td>\n",
       "      <td></td>\n",
       "      <td></td>\n",
       "      <td>2700000000</td>\n",
       "      <td>대구광역시</td>\n",
       "    </tr>\n",
       "    <tr>\n",
       "      <th>1</th>\n",
       "      <td>20230703</td>\n",
       "      <td>2711000000</td>\n",
       "      <td>대구광역시</td>\n",
       "      <td>중구</td>\n",
       "      <td></td>\n",
       "      <td>2711000000</td>\n",
       "      <td>중구</td>\n",
       "    </tr>\n",
       "    <tr>\n",
       "      <th>2</th>\n",
       "      <td>20230703</td>\n",
       "      <td>2711051700</td>\n",
       "      <td>대구광역시</td>\n",
       "      <td>중구</td>\n",
       "      <td>동인동</td>\n",
       "      <td>2711010100</td>\n",
       "      <td>동인동1가</td>\n",
       "    </tr>\n",
       "    <tr>\n",
       "      <th>3</th>\n",
       "      <td>20230703</td>\n",
       "      <td>2711051700</td>\n",
       "      <td>대구광역시</td>\n",
       "      <td>중구</td>\n",
       "      <td>동인동</td>\n",
       "      <td>2711010200</td>\n",
       "      <td>동인동2가</td>\n",
       "    </tr>\n",
       "    <tr>\n",
       "      <th>4</th>\n",
       "      <td>20230703</td>\n",
       "      <td>2711051700</td>\n",
       "      <td>대구광역시</td>\n",
       "      <td>중구</td>\n",
       "      <td>동인동</td>\n",
       "      <td>2711010300</td>\n",
       "      <td>동인동3가</td>\n",
       "    </tr>\n",
       "    <tr>\n",
       "      <th>...</th>\n",
       "      <td>...</td>\n",
       "      <td>...</td>\n",
       "      <td>...</td>\n",
       "      <td>...</td>\n",
       "      <td>...</td>\n",
       "      <td>...</td>\n",
       "      <td>...</td>\n",
       "    </tr>\n",
       "    <tr>\n",
       "      <th>500</th>\n",
       "      <td>20230703</td>\n",
       "      <td>2772037000</td>\n",
       "      <td>대구광역시</td>\n",
       "      <td>군위군</td>\n",
       "      <td>삼국유사면</td>\n",
       "      <td>2772037027</td>\n",
       "      <td>양지리</td>\n",
       "    </tr>\n",
       "    <tr>\n",
       "      <th>501</th>\n",
       "      <td>20230703</td>\n",
       "      <td>2772037000</td>\n",
       "      <td>대구광역시</td>\n",
       "      <td>군위군</td>\n",
       "      <td>삼국유사면</td>\n",
       "      <td>2772037028</td>\n",
       "      <td>낙전리</td>\n",
       "    </tr>\n",
       "    <tr>\n",
       "      <th>502</th>\n",
       "      <td>20230703</td>\n",
       "      <td>2772037000</td>\n",
       "      <td>대구광역시</td>\n",
       "      <td>군위군</td>\n",
       "      <td>삼국유사면</td>\n",
       "      <td>2772037029</td>\n",
       "      <td>가암리</td>\n",
       "    </tr>\n",
       "    <tr>\n",
       "      <th>503</th>\n",
       "      <td>20230703</td>\n",
       "      <td>2772037000</td>\n",
       "      <td>대구광역시</td>\n",
       "      <td>군위군</td>\n",
       "      <td>삼국유사면</td>\n",
       "      <td>2772037030</td>\n",
       "      <td>석산리</td>\n",
       "    </tr>\n",
       "    <tr>\n",
       "      <th>504</th>\n",
       "      <td>20230703</td>\n",
       "      <td>2772037000</td>\n",
       "      <td>대구광역시</td>\n",
       "      <td>군위군</td>\n",
       "      <td>삼국유사면</td>\n",
       "      <td>2772037031</td>\n",
       "      <td>학암리</td>\n",
       "    </tr>\n",
       "  </tbody>\n",
       "</table>\n",
       "<p>505 rows × 7 columns</p>\n",
       "</div>"
      ],
      "text/plain": [
       "       업데이트일자       행정동코드    시도명 시군구명   읍면동명       법정동코드    동리명\n",
       "0    20230703  2700000000  대구광역시              2700000000  대구광역시\n",
       "1    20230703  2711000000  대구광역시   중구         2711000000     중구\n",
       "2    20230703  2711051700  대구광역시   중구    동인동  2711010100  동인동1가\n",
       "3    20230703  2711051700  대구광역시   중구    동인동  2711010200  동인동2가\n",
       "4    20230703  2711051700  대구광역시   중구    동인동  2711010300  동인동3가\n",
       "..        ...         ...    ...  ...    ...         ...    ...\n",
       "500  20230703  2772037000  대구광역시  군위군  삼국유사면  2772037027    양지리\n",
       "501  20230703  2772037000  대구광역시  군위군  삼국유사면  2772037028    낙전리\n",
       "502  20230703  2772037000  대구광역시  군위군  삼국유사면  2772037029    가암리\n",
       "503  20230703  2772037000  대구광역시  군위군  삼국유사면  2772037030    석산리\n",
       "504  20230703  2772037000  대구광역시  군위군  삼국유사면  2772037031    학암리\n",
       "\n",
       "[505 rows x 7 columns]"
      ]
     },
     "execution_count": 5,
     "metadata": {},
     "output_type": "execute_result"
    }
   ],
   "source": [
    "df_code_table = result.copy()\n",
    "df_code_table"
   ]
  },
  {
   "cell_type": "markdown",
   "id": "3b9b540d",
   "metadata": {},
   "source": [
    "### 2. 세대수 데이터 추출을 위한 법정동 코드 전처리"
   ]
  },
  {
   "cell_type": "markdown",
   "id": "5837b790",
   "metadata": {},
   "source": [
    "Open API를 사용하기 위해 **법정동 코드를 전처리**하는 과정입니다.  \n",
    "- 해당 API는 법정동코드를 입력하였을 때, 값이 나오도록 되어 있습니다.  \n",
    "- API사용 할 때, **구, 시, 리**의 법정동 코드를 제거하고 **동,읍,면** 법정동 코드만 남겨둬야합니다. "
   ]
  },
  {
   "cell_type": "markdown",
   "id": "b564119f",
   "metadata": {},
   "source": [
    "법정동 코드는 총 10자리로 10자리의 구성은 아래와 같습니다.  \n",
    " - 시도(2) + 시군구(3) + 읍면동(3) + 리(2)"
   ]
  },
  {
   "cell_type": "code",
   "execution_count": 6,
   "id": "f290e760",
   "metadata": {},
   "outputs": [
    {
     "data": {
      "text/plain": [
       "(505, 7)"
      ]
     },
     "execution_count": 6,
     "metadata": {},
     "output_type": "execute_result"
    }
   ],
   "source": [
    "# 전제 코드 데이터\n",
    "df_code_table_pre = df_code_table.copy()\n",
    "df_code_table_pre.shape"
   ]
  },
  {
   "cell_type": "code",
   "execution_count": 7,
   "id": "1ab3fb73",
   "metadata": {},
   "outputs": [
    {
     "data": {
      "text/plain": [
       "(304, 7)"
      ]
     },
     "execution_count": 7,
     "metadata": {},
     "output_type": "execute_result"
    }
   ],
   "source": [
    "# '시군구' 단위 및 '읍면동' 단위의 데이터만 남겨놓는다\n",
    "df_code_table_pre = df_code_table_pre[df_code_table_pre['법정동코드'].str.endswith('00')]\n",
    "# '시군구' 단위 데이터 삭제\n",
    "idx = df_code_table_pre[df_code_table_pre['법정동코드'].str.endswith('00000')].index\n",
    "df_code_table_pre.drop(idx, inplace=True)\n",
    "# 최종적으로 '읍면동' 코드만 남는다.\n",
    "df_code_table_pre.shape"
   ]
  },
  {
   "cell_type": "markdown",
   "id": "5bc14fdf",
   "metadata": {},
   "source": [
    "### 각 지역별로 Data Set 구성"
   ]
  },
  {
   "cell_type": "code",
   "execution_count": 8,
   "id": "048c63aa",
   "metadata": {},
   "outputs": [],
   "source": [
    "#구 별로 법정동코드를 추출하여 list형식으로 변환\n",
    "def make_code_list_for_daegu(df,gu_name):\n",
    "    df_gu= df[df['시군구명']==gu_name]\n",
    "    list_gu=  df_gu['법정동코드']\n",
    "    list_gu = list_gu.unique()\n",
    "    return list_gu"
   ]
  },
  {
   "cell_type": "code",
   "execution_count": 9,
   "id": "4ab4bd0f",
   "metadata": {},
   "outputs": [],
   "source": [
    "# 각 도시별 법정동 코드 불러오기\n",
    "\n",
    "#대구광역시\n",
    "df_daegu_code = df_code_table_pre[df_code_table_pre['시도명'].str.contains('대구광역시')]\n",
    "df_daegu_code= df_daegu_code.dropna(subset=['읍면동명']) #null값 제거\n",
    "idx = df_daegu_code[df_daegu_code['법정동코드'].str[-4:] == \"0000\"].index #리 값 제거\n",
    "df_daegu_code.drop(idx , inplace=True)\n",
    "\n",
    "list_daegu_cd =  df_daegu_code['법정동코드']\n",
    "list_daegu_cd = list_daegu_cd.unique() #대구광역시의 법정동코드\n",
    "\n",
    "#중간에 오류가 날 수 있어 구별로 나누어 작업 진행\n",
    "dict_region_codes = {}  # 딕셔너리\n",
    "dict_region_codes[\"남구\"] =  make_code_list_for_daegu(df_daegu_code,\"남구\")\n",
    "dict_region_codes[\"달서구\"] =  make_code_list_for_daegu(df_daegu_code,\"달서구\")\n",
    "dict_region_codes[\"동구\"] =  make_code_list_for_daegu(df_daegu_code,\"동구\")\n",
    "dict_region_codes[\"북구\"] =  make_code_list_for_daegu(df_daegu_code,\"북구\")\n",
    "dict_region_codes[\"서구\"] =  make_code_list_for_daegu(df_daegu_code,\"서구\")\n",
    "dict_region_codes[\"수성구\"] =  make_code_list_for_daegu(df_daegu_code,\"수성구\")\n",
    "dict_region_codes[\"중구\"] =  make_code_list_for_daegu(df_daegu_code,\"중구\")"
   ]
  },
  {
   "cell_type": "code",
   "execution_count": 10,
   "id": "47ef85ed",
   "metadata": {},
   "outputs": [
    {
     "name": "stdout",
     "output_type": "stream",
     "text": [
      "남구\t3\n",
      "달서구\t24\n",
      "동구\t45\n",
      "북구\t31\n",
      "서구\t9\n",
      "수성구\t26\n",
      "중구\t57\n"
     ]
    }
   ],
   "source": [
    "# 각 지역별로 지역코드(동별) 개수 확인\n",
    "for key in dict_region_codes:\n",
    "    print(f'{key}\\t{len(dict_region_codes[key])}')"
   ]
  },
  {
   "cell_type": "markdown",
   "id": "20573707",
   "metadata": {},
   "source": [
    "### 3. Open API를 이용한 세대수 데이터 추출"
   ]
  },
  {
   "cell_type": "code",
   "execution_count": 11,
   "id": "377236a4",
   "metadata": {},
   "outputs": [],
   "source": [
    "import warnings\n",
    "from time import sleep\n",
    "warnings.filterwarnings(action='ignore')\n",
    "\n",
    "service_url = 'http://apis.data.go.kr/1741000/stdgPpltnHhStus'\n",
    "# 일반 인증키(Encoding)\t\n",
    "api_key = 'IVgu%2FZBjA6hpLryyEOpySC2RhogOhaJIUqlXN8Uyj3Gxw4s3dX0qMxfgXMTLl60%2Fs2EYAMUsyyzTqwVOnjoIhg%3D%3D'\n",
    "level = '4'     # 조회결과구분. 광역시도 단위 : 1, 시군구 단위 : 2, 읍면동 단위 : 3, 읍면동 통반 단위 : 4(기본값 : 4)\n",
    "reg_code = '1'  # 등록구분. 전체:1, 거주자:2, 거주불명자:3, 재외국민:4(기본값 : 1)\n",
    "req_type = 'json'   # 타입. XML, JSON(기본값 : XML)\n",
    "pageRows = '8000'    # 페이지 크기. 페이지당 목록 수(1~100)(기본값 : 10)\n",
    "pageNo = '1'        # 페이지 번호. 기본값 : 1"
   ]
  },
  {
   "cell_type": "code",
   "execution_count": 12,
   "id": "ca627e67",
   "metadata": {},
   "outputs": [],
   "source": [
    "#법정동 코드를 이용한 행정동/법정동별 세대수를 API로 구하는 함수\n",
    "def make_hh_data(df,list_cd,month):\n",
    "    for i in tqdm(list_cd): \n",
    "        url = f'{service_url}/selectStdgPpltnHhStus?serviceKey={api_key}&stdgCd={i}&srchFrYm={month}&srchToYm={month}&lv={level}&regSeCd={reg_code}&type={req_type}&numOfRows={pageRows}&pageNo={pageNo}'\n",
    "        # url = 'https://apis.data.go.kr/1741000/stdgPpltnHhStus/selectStdgPpltnHhStus?serviceKey=IVgu%2FZBjA6hpLryyEOpySC2RhogOhaJIUqlXN8Uyj3Gxw4s3dX0qMxfgXMTLl60%2Fs2EYAMUsyyzTqwVOnjoIhg%3D%3D&stdgCd='+i+'&srchFrYm='+month+'&srchToYm='+month+'&lv=4&regSeCd=1&type=json&numOfRows=8000&pageNo=1'\n",
    "        response = requests.get(url,verify=False)\n",
    "        #데이터 값 출력해보기\n",
    "        contents = response.text\n",
    "        json_ob = json.loads(contents)\n",
    "        body = json_ob['Response']['items']['item']\n",
    "        dataframe = pd.json_normalize(body)\n",
    "        df = pd.concat([df,dataframe],axis = 0) #데이터 결합\n",
    "    return df\n",
    "\n",
    "#시군구별 세대수를 알아보는 함수 >> 시군구 자료와 데이터 비교\n",
    "def know_hhcnt(df):\n",
    "    df['hhCnt'] =df['hhCnt'].astype(str).astype(int)\n",
    "    df['femlNmprCnt'] =df['femlNmprCnt'].astype(str).astype(int)\n",
    "    df['totNmprCnt'] =df['totNmprCnt'].astype(str).astype(int)\n",
    "    df['maleNmprCnt'] =df['maleNmprCnt'].astype(str).astype(int)\n",
    "    know_hhcnt = df.groupby('sggNm').sum()\n",
    "    return know_hhcnt\n",
    "\n",
    "#기존의 표와 같이 보기 편하게 순서 변경 및 컬럼 변경\n",
    "def name_sort_change(df):\n",
    "    #이름 변경\n",
    "    df.rename(columns={'hhCnt':'세대수','tong':'통','femlNmprCnt':'여자인구수','stdgCd':'법정동코드','maleFemlRate':'남여비율',\n",
    "                       'stdgNm':'법정동명','ban':'반','totNmprCnt':'총인구수','ctpvNm':'시도명','maleNmprCnt':'남자인구수',\n",
    "                       'sggNm':'시군구명','dongNm':'행정동명','hhNmpr':'세대당인구','admmCd':'행정기관코드',\n",
    "                       'statsYm':'통계년월'},inplace=True)\n",
    "    #기존의 표와 같이 순서 변경\n",
    "    df = df[['통계년월','법정동코드','시도명','시군구명','법정동명','행정기관코드','행정동명','통',\n",
    "             '반','총인구수','세대수','세대당인구','남자인구수','여자인구수','남여비율']]\n",
    "    df['업데이트일자'] = datetime.now().strftime(\"%Y%m%d\")\n",
    "    return df"
   ]
  },
  {
   "cell_type": "code",
   "execution_count": 13,
   "id": "204a43e1",
   "metadata": {},
   "outputs": [
    {
     "name": "stdout",
     "output_type": "stream",
     "text": [
      "{'중구': 0}\n"
     ]
    }
   ],
   "source": [
    "# 각 지역별로 데이터 수집 결과 초기화\n",
    "dict_region_data = {}\n",
    "dict_region_results = {}\n",
    "for key in dict_region_codes:\n",
    "    if key in ['중구']:\n",
    "        dict_region_results[key] = 0\n",
    "print(dict_region_results)"
   ]
  },
  {
   "cell_type": "code",
   "execution_count": 15,
   "id": "84abe664",
   "metadata": {},
   "outputs": [
    {
     "name": "stdout",
     "output_type": "stream",
     "text": [
      "중구  try  0\n"
     ]
    },
    {
     "data": {
      "application/vnd.jupyter.widget-view+json": {
       "model_id": "0471508739c44c7695608f76c2599778",
       "version_major": 2,
       "version_minor": 0
      },
      "text/plain": [
       "  0%|          | 0/57 [00:00<?, ?it/s]"
      ]
     },
     "metadata": {},
     "output_type": "display_data"
    },
    {
     "name": "stdout",
     "output_type": "stream",
     "text": [
      "중구  try  1\n"
     ]
    },
    {
     "data": {
      "application/vnd.jupyter.widget-view+json": {
       "model_id": "087aa44c12e440afb25343fe7c66c38e",
       "version_major": 2,
       "version_minor": 0
      },
      "text/plain": [
       "  0%|          | 0/57 [00:00<?, ?it/s]"
      ]
     },
     "metadata": {},
     "output_type": "display_data"
    },
    {
     "name": "stdout",
     "output_type": "stream",
     "text": [
      "중구  try  2\n"
     ]
    },
    {
     "data": {
      "application/vnd.jupyter.widget-view+json": {
       "model_id": "2d4bbc4003fd4e39a9b4ee9d0afab4a1",
       "version_major": 2,
       "version_minor": 0
      },
      "text/plain": [
       "  0%|          | 0/57 [00:00<?, ?it/s]"
      ]
     },
     "metadata": {},
     "output_type": "display_data"
    },
    {
     "name": "stdout",
     "output_type": "stream",
     "text": [
      "중구  try  3\n"
     ]
    },
    {
     "data": {
      "application/vnd.jupyter.widget-view+json": {
       "model_id": "302b15e3266d4ed285357cc638802f08",
       "version_major": 2,
       "version_minor": 0
      },
      "text/plain": [
       "  0%|          | 0/57 [00:00<?, ?it/s]"
      ]
     },
     "metadata": {},
     "output_type": "display_data"
    },
    {
     "name": "stdout",
     "output_type": "stream",
     "text": [
      "중구  try  4\n"
     ]
    },
    {
     "data": {
      "application/vnd.jupyter.widget-view+json": {
       "model_id": "6659cbeca48f4244922d8096e541d4e6",
       "version_major": 2,
       "version_minor": 0
      },
      "text/plain": [
       "  0%|          | 0/57 [00:00<?, ?it/s]"
      ]
     },
     "metadata": {},
     "output_type": "display_data"
    },
    {
     "name": "stdout",
     "output_type": "stream",
     "text": [
      "중구  try  5\n"
     ]
    },
    {
     "data": {
      "application/vnd.jupyter.widget-view+json": {
       "model_id": "2da879a34a874abb9b77b08dd81775ad",
       "version_major": 2,
       "version_minor": 0
      },
      "text/plain": [
       "  0%|          | 0/57 [00:00<?, ?it/s]"
      ]
     },
     "metadata": {},
     "output_type": "display_data"
    },
    {
     "name": "stdout",
     "output_type": "stream",
     "text": [
      "중구  try  6\n"
     ]
    },
    {
     "data": {
      "application/vnd.jupyter.widget-view+json": {
       "model_id": "61535debe01a46db8249c79b74d77f44",
       "version_major": 2,
       "version_minor": 0
      },
      "text/plain": [
       "  0%|          | 0/57 [00:00<?, ?it/s]"
      ]
     },
     "metadata": {},
     "output_type": "display_data"
    },
    {
     "name": "stdout",
     "output_type": "stream",
     "text": [
      "중구  try  7\n"
     ]
    },
    {
     "data": {
      "application/vnd.jupyter.widget-view+json": {
       "model_id": "57fb2403ff6b412b809e680c60dfb3b0",
       "version_major": 2,
       "version_minor": 0
      },
      "text/plain": [
       "  0%|          | 0/57 [00:00<?, ?it/s]"
      ]
     },
     "metadata": {},
     "output_type": "display_data"
    },
    {
     "name": "stdout",
     "output_type": "stream",
     "text": [
      "중구  try  8\n"
     ]
    },
    {
     "data": {
      "application/vnd.jupyter.widget-view+json": {
       "model_id": "2015f0d4be5d4fdfa981bd7f2867ca13",
       "version_major": 2,
       "version_minor": 0
      },
      "text/plain": [
       "  0%|          | 0/57 [00:00<?, ?it/s]"
      ]
     },
     "metadata": {},
     "output_type": "display_data"
    },
    {
     "name": "stdout",
     "output_type": "stream",
     "text": [
      "중구  try  9\n"
     ]
    },
    {
     "data": {
      "application/vnd.jupyter.widget-view+json": {
       "model_id": "542ef62dc8ec476b884dae51b750cf2d",
       "version_major": 2,
       "version_minor": 0
      },
      "text/plain": [
       "  0%|          | 0/57 [00:00<?, ?it/s]"
      ]
     },
     "metadata": {},
     "output_type": "display_data"
    }
   ],
   "source": [
    "# 각 지역별로 API 호출하여 동별 세대수 데이터 가져오기\n",
    "for key in dict_region_results:\n",
    "    if dict_region_results[key] == 0:\n",
    "        # 최대 5회 시도\n",
    "        num_retry = 10\n",
    "        for retry in range(num_retry):\n",
    "            sleep(5)\n",
    "            try:\n",
    "                print(key, \" try \", retry)\n",
    "                df_region_cd_list = dict_region_codes[key]\n",
    "                df_region_data = pd.DataFrame()\n",
    "                df_region_data = make_hh_data(df_region_data, df_region_cd_list, month) #남구\n",
    "                dict_region_data[key] = df_region_data\n",
    "                dict_region_results[key] = 1    # 성공\n",
    "                break\n",
    "            except Exception:\n",
    "                continue            \n",
    "    sleep(5)"
   ]
  },
  {
   "cell_type": "code",
   "execution_count": 29,
   "id": "984fb206",
   "metadata": {},
   "outputs": [
    {
     "name": "stdout",
     "output_type": "stream",
     "text": [
      "각 지역별 데이터 수집 결과\n",
      "중구\t0\n"
     ]
    }
   ],
   "source": [
    "# 각 지역별로 데이터 수집 결과 확인: 성공(1), 실패(0)\n",
    "print(\"각 지역별 데이터 수집 결과\")\n",
    "for key in dict_region_results:\n",
    "    print(f'{key}\\t{dict_region_results[key]}')"
   ]
  },
  {
   "cell_type": "code",
   "execution_count": 19,
   "id": "698ef758",
   "metadata": {},
   "outputs": [
    {
     "name": "stdout",
     "output_type": "stream",
     "text": [
      "동구 \t 2599\n"
     ]
    }
   ],
   "source": [
    "for key in dict_region_data:\n",
    "    df = dict_region_data[key]\n",
    "    print(key, \"\\t\", df.shape[0])"
   ]
  },
  {
   "cell_type": "code",
   "execution_count": 20,
   "id": "de22e9e2",
   "metadata": {},
   "outputs": [
    {
     "data": {
      "text/plain": [
       "(2599, 15)"
      ]
     },
     "execution_count": 20,
     "metadata": {},
     "output_type": "execute_result"
    }
   ],
   "source": [
    "df_house_hold = pd.DataFrame()\n",
    "for key in dict_region_data:\n",
    "    df_house_hold = pd.concat([df_house_hold, dict_region_data[key]], axis = 0)\n",
    "df_house_hold.shape"
   ]
  },
  {
   "cell_type": "code",
   "execution_count": 21,
   "id": "6b485304",
   "metadata": {},
   "outputs": [
    {
     "data": {
      "text/html": [
       "<div>\n",
       "<style scoped>\n",
       "    .dataframe tbody tr th:only-of-type {\n",
       "        vertical-align: middle;\n",
       "    }\n",
       "\n",
       "    .dataframe tbody tr th {\n",
       "        vertical-align: top;\n",
       "    }\n",
       "\n",
       "    .dataframe thead th {\n",
       "        text-align: right;\n",
       "    }\n",
       "</style>\n",
       "<table border=\"1\" class=\"dataframe\">\n",
       "  <thead>\n",
       "    <tr style=\"text-align: right;\">\n",
       "      <th></th>\n",
       "      <th>hhCnt</th>\n",
       "      <th>tong</th>\n",
       "      <th>femlNmprCnt</th>\n",
       "      <th>stdgCd</th>\n",
       "      <th>maleFemlRate</th>\n",
       "      <th>stdgNm</th>\n",
       "      <th>ban</th>\n",
       "      <th>totNmprCnt</th>\n",
       "      <th>ctpvNm</th>\n",
       "      <th>maleNmprCnt</th>\n",
       "      <th>sggNm</th>\n",
       "      <th>dongNm</th>\n",
       "      <th>hhNmpr</th>\n",
       "      <th>admmCd</th>\n",
       "      <th>statsYm</th>\n",
       "    </tr>\n",
       "  </thead>\n",
       "  <tbody>\n",
       "    <tr>\n",
       "      <th>0</th>\n",
       "      <td>20</td>\n",
       "      <td>1</td>\n",
       "      <td>18</td>\n",
       "      <td>2714010100</td>\n",
       "      <td>0.94</td>\n",
       "      <td>신암동</td>\n",
       "      <td>1</td>\n",
       "      <td>35</td>\n",
       "      <td>대구광역시</td>\n",
       "      <td>17</td>\n",
       "      <td>동구</td>\n",
       "      <td>신암2동</td>\n",
       "      <td>1.75</td>\n",
       "      <td>2714052000</td>\n",
       "      <td>202308</td>\n",
       "    </tr>\n",
       "    <tr>\n",
       "      <th>1</th>\n",
       "      <td>53</td>\n",
       "      <td>1</td>\n",
       "      <td>50</td>\n",
       "      <td>2714010100</td>\n",
       "      <td>0.90</td>\n",
       "      <td>신암동</td>\n",
       "      <td>1</td>\n",
       "      <td>95</td>\n",
       "      <td>대구광역시</td>\n",
       "      <td>45</td>\n",
       "      <td>동구</td>\n",
       "      <td>신암4동</td>\n",
       "      <td>1.79</td>\n",
       "      <td>2714054000</td>\n",
       "      <td>202308</td>\n",
       "    </tr>\n",
       "    <tr>\n",
       "      <th>2</th>\n",
       "      <td>51</td>\n",
       "      <td>1</td>\n",
       "      <td>41</td>\n",
       "      <td>2714010100</td>\n",
       "      <td>1.05</td>\n",
       "      <td>신암동</td>\n",
       "      <td>1</td>\n",
       "      <td>84</td>\n",
       "      <td>대구광역시</td>\n",
       "      <td>43</td>\n",
       "      <td>동구</td>\n",
       "      <td>신암3동</td>\n",
       "      <td>1.65</td>\n",
       "      <td>2714053000</td>\n",
       "      <td>202308</td>\n",
       "    </tr>\n",
       "    <tr>\n",
       "      <th>3</th>\n",
       "      <td>71</td>\n",
       "      <td>1</td>\n",
       "      <td>84</td>\n",
       "      <td>2714010100</td>\n",
       "      <td>0.95</td>\n",
       "      <td>신암동</td>\n",
       "      <td>1</td>\n",
       "      <td>164</td>\n",
       "      <td>대구광역시</td>\n",
       "      <td>80</td>\n",
       "      <td>동구</td>\n",
       "      <td>신암5동</td>\n",
       "      <td>2.31</td>\n",
       "      <td>2714054100</td>\n",
       "      <td>202308</td>\n",
       "    </tr>\n",
       "    <tr>\n",
       "      <th>4</th>\n",
       "      <td>55</td>\n",
       "      <td>1</td>\n",
       "      <td>29</td>\n",
       "      <td>2714010100</td>\n",
       "      <td>1.31</td>\n",
       "      <td>신암동</td>\n",
       "      <td>1</td>\n",
       "      <td>67</td>\n",
       "      <td>대구광역시</td>\n",
       "      <td>38</td>\n",
       "      <td>동구</td>\n",
       "      <td>신암1동</td>\n",
       "      <td>1.22</td>\n",
       "      <td>2714051000</td>\n",
       "      <td>202308</td>\n",
       "    </tr>\n",
       "    <tr>\n",
       "      <th>...</th>\n",
       "      <td>...</td>\n",
       "      <td>...</td>\n",
       "      <td>...</td>\n",
       "      <td>...</td>\n",
       "      <td>...</td>\n",
       "      <td>...</td>\n",
       "      <td>...</td>\n",
       "      <td>...</td>\n",
       "      <td>...</td>\n",
       "      <td>...</td>\n",
       "      <td>...</td>\n",
       "      <td>...</td>\n",
       "      <td>...</td>\n",
       "      <td>...</td>\n",
       "      <td>...</td>\n",
       "    </tr>\n",
       "    <tr>\n",
       "      <th>84</th>\n",
       "      <td>87</td>\n",
       "      <td>45</td>\n",
       "      <td>95</td>\n",
       "      <td>2714014500</td>\n",
       "      <td>0.89</td>\n",
       "      <td>지묘동</td>\n",
       "      <td>3</td>\n",
       "      <td>180</td>\n",
       "      <td>대구광역시</td>\n",
       "      <td>85</td>\n",
       "      <td>동구</td>\n",
       "      <td>공산동</td>\n",
       "      <td>2.07</td>\n",
       "      <td>2714076000</td>\n",
       "      <td>202308</td>\n",
       "    </tr>\n",
       "    <tr>\n",
       "      <th>85</th>\n",
       "      <td>88</td>\n",
       "      <td>45</td>\n",
       "      <td>97</td>\n",
       "      <td>2714014500</td>\n",
       "      <td>0.91</td>\n",
       "      <td>지묘동</td>\n",
       "      <td>4</td>\n",
       "      <td>185</td>\n",
       "      <td>대구광역시</td>\n",
       "      <td>88</td>\n",
       "      <td>동구</td>\n",
       "      <td>공산동</td>\n",
       "      <td>2.10</td>\n",
       "      <td>2714076000</td>\n",
       "      <td>202308</td>\n",
       "    </tr>\n",
       "    <tr>\n",
       "      <th>86</th>\n",
       "      <td>104</td>\n",
       "      <td>45</td>\n",
       "      <td>116</td>\n",
       "      <td>2714014500</td>\n",
       "      <td>0.96</td>\n",
       "      <td>지묘동</td>\n",
       "      <td>5</td>\n",
       "      <td>227</td>\n",
       "      <td>대구광역시</td>\n",
       "      <td>111</td>\n",
       "      <td>동구</td>\n",
       "      <td>공산동</td>\n",
       "      <td>2.18</td>\n",
       "      <td>2714076000</td>\n",
       "      <td>202308</td>\n",
       "    </tr>\n",
       "    <tr>\n",
       "      <th>87</th>\n",
       "      <td>69</td>\n",
       "      <td>46</td>\n",
       "      <td>78</td>\n",
       "      <td>2714014500</td>\n",
       "      <td>0.95</td>\n",
       "      <td>지묘동</td>\n",
       "      <td>1</td>\n",
       "      <td>152</td>\n",
       "      <td>대구광역시</td>\n",
       "      <td>74</td>\n",
       "      <td>동구</td>\n",
       "      <td>공산동</td>\n",
       "      <td>2.20</td>\n",
       "      <td>2714076000</td>\n",
       "      <td>202308</td>\n",
       "    </tr>\n",
       "    <tr>\n",
       "      <th>88</th>\n",
       "      <td>35</td>\n",
       "      <td>46</td>\n",
       "      <td>48</td>\n",
       "      <td>2714014500</td>\n",
       "      <td>0.96</td>\n",
       "      <td>지묘동</td>\n",
       "      <td>2</td>\n",
       "      <td>94</td>\n",
       "      <td>대구광역시</td>\n",
       "      <td>46</td>\n",
       "      <td>동구</td>\n",
       "      <td>공산동</td>\n",
       "      <td>2.69</td>\n",
       "      <td>2714076000</td>\n",
       "      <td>202308</td>\n",
       "    </tr>\n",
       "  </tbody>\n",
       "</table>\n",
       "<p>2599 rows × 15 columns</p>\n",
       "</div>"
      ],
      "text/plain": [
       "   hhCnt tong femlNmprCnt      stdgCd maleFemlRate stdgNm ban totNmprCnt  \\\n",
       "0     20    1          18  2714010100         0.94    신암동   1         35   \n",
       "1     53    1          50  2714010100         0.90    신암동   1         95   \n",
       "2     51    1          41  2714010100         1.05    신암동   1         84   \n",
       "3     71    1          84  2714010100         0.95    신암동   1        164   \n",
       "4     55    1          29  2714010100         1.31    신암동   1         67   \n",
       "..   ...  ...         ...         ...          ...    ...  ..        ...   \n",
       "84    87   45          95  2714014500         0.89    지묘동   3        180   \n",
       "85    88   45          97  2714014500         0.91    지묘동   4        185   \n",
       "86   104   45         116  2714014500         0.96    지묘동   5        227   \n",
       "87    69   46          78  2714014500         0.95    지묘동   1        152   \n",
       "88    35   46          48  2714014500         0.96    지묘동   2         94   \n",
       "\n",
       "   ctpvNm maleNmprCnt sggNm dongNm hhNmpr      admmCd statsYm  \n",
       "0   대구광역시          17    동구   신암2동   1.75  2714052000  202308  \n",
       "1   대구광역시          45    동구   신암4동   1.79  2714054000  202308  \n",
       "2   대구광역시          43    동구   신암3동   1.65  2714053000  202308  \n",
       "3   대구광역시          80    동구   신암5동   2.31  2714054100  202308  \n",
       "4   대구광역시          38    동구   신암1동   1.22  2714051000  202308  \n",
       "..    ...         ...   ...    ...    ...         ...     ...  \n",
       "84  대구광역시          85    동구    공산동   2.07  2714076000  202308  \n",
       "85  대구광역시          88    동구    공산동   2.10  2714076000  202308  \n",
       "86  대구광역시         111    동구    공산동   2.18  2714076000  202308  \n",
       "87  대구광역시          74    동구    공산동   2.20  2714076000  202308  \n",
       "88  대구광역시          46    동구    공산동   2.69  2714076000  202308  \n",
       "\n",
       "[2599 rows x 15 columns]"
      ]
     },
     "execution_count": 21,
     "metadata": {},
     "output_type": "execute_result"
    }
   ],
   "source": [
    "df_house_hold"
   ]
  },
  {
   "cell_type": "code",
   "execution_count": 32,
   "id": "b4298dab",
   "metadata": {},
   "outputs": [],
   "source": [
    "# df_house_hold.drop_duplicates(keep = 'first',inplace=True) #중복값 제거 >> 중복값이 있을 때 첫번째 값만 남겨둠"
   ]
  },
  {
   "cell_type": "code",
   "execution_count": 22,
   "id": "d8b8315b",
   "metadata": {},
   "outputs": [
    {
     "name": "stdout",
     "output_type": "stream",
     "text": [
      "        hhCnt                                               tong  femlNmprCnt  \\\n",
      "sggNm                                                                           \n",
      "동구     161740  1111111111111111111111111111111122222222222222...       174250   \n",
      "\n",
      "                                                  stdgCd  \\\n",
      "sggNm                                                      \n",
      "동구     2714010100271401010027140101002714010100271401...   \n",
      "\n",
      "                                            maleFemlRate  \\\n",
      "sggNm                                                      \n",
      "동구     0.940.901.050.951.310.970.930.450.760.641.141....   \n",
      "\n",
      "                                                  stdgNm  \\\n",
      "sggNm                                                      \n",
      "동구     신암동신암동신암동신암동신암동신암동신암동신암동신암동신암동신암동신암동신암동신암동신암동신...   \n",
      "\n",
      "                                                     ban  totNmprCnt  \\\n",
      "sggNm                                                                  \n",
      "동구     1111122222333334444555556666677811111222223333...      341800   \n",
      "\n",
      "                                                  ctpvNm  maleNmprCnt  \\\n",
      "sggNm                                                                   \n",
      "동구     대구광역시대구광역시대구광역시대구광역시대구광역시대구광역시대구광역시대구광역시대구광역시대...       167550   \n",
      "\n",
      "                                                  dongNm  \\\n",
      "sggNm                                                      \n",
      "동구     신암2동신암4동신암3동신암5동신암1동신암4동신암3동신암2동신암5동신암1동신암4동신암...   \n",
      "\n",
      "                                                  hhNmpr  \\\n",
      "sggNm                                                      \n",
      "동구     1.751.791.652.311.222.001.581.211.861.422.654....   \n",
      "\n",
      "                                                  admmCd  \\\n",
      "sggNm                                                      \n",
      "동구     2714052000271405400027140530002714054100271405...   \n",
      "\n",
      "                                                 statsYm  \n",
      "sggNm                                                     \n",
      "동구     2023082023082023082023082023082023082023082023...  \n"
     ]
    }
   ],
   "source": [
    "print(know_hhcnt(df_house_hold))"
   ]
  },
  {
   "cell_type": "code",
   "execution_count": 23,
   "id": "cc0cd0f0",
   "metadata": {},
   "outputs": [],
   "source": [
    "#데이터 컬럼명 변경 및 위치 변경\n",
    "df_house_hold = name_sort_change(df_house_hold)"
   ]
  },
  {
   "cell_type": "code",
   "execution_count": 24,
   "id": "65febe48",
   "metadata": {},
   "outputs": [
    {
     "data": {
      "text/html": [
       "<div>\n",
       "<style scoped>\n",
       "    .dataframe tbody tr th:only-of-type {\n",
       "        vertical-align: middle;\n",
       "    }\n",
       "\n",
       "    .dataframe tbody tr th {\n",
       "        vertical-align: top;\n",
       "    }\n",
       "\n",
       "    .dataframe thead th {\n",
       "        text-align: right;\n",
       "    }\n",
       "</style>\n",
       "<table border=\"1\" class=\"dataframe\">\n",
       "  <thead>\n",
       "    <tr style=\"text-align: right;\">\n",
       "      <th></th>\n",
       "      <th>통계년월</th>\n",
       "      <th>법정동코드</th>\n",
       "      <th>시도명</th>\n",
       "      <th>시군구명</th>\n",
       "      <th>법정동명</th>\n",
       "      <th>행정기관코드</th>\n",
       "      <th>행정동명</th>\n",
       "      <th>통</th>\n",
       "      <th>반</th>\n",
       "      <th>총인구수</th>\n",
       "      <th>세대수</th>\n",
       "      <th>세대당인구</th>\n",
       "      <th>남자인구수</th>\n",
       "      <th>여자인구수</th>\n",
       "      <th>남여비율</th>\n",
       "      <th>업데이트일자</th>\n",
       "    </tr>\n",
       "  </thead>\n",
       "  <tbody>\n",
       "    <tr>\n",
       "      <th>0</th>\n",
       "      <td>202308</td>\n",
       "      <td>2714010100</td>\n",
       "      <td>대구광역시</td>\n",
       "      <td>동구</td>\n",
       "      <td>신암동</td>\n",
       "      <td>2714052000</td>\n",
       "      <td>신암2동</td>\n",
       "      <td>1</td>\n",
       "      <td>1</td>\n",
       "      <td>35</td>\n",
       "      <td>20</td>\n",
       "      <td>1.75</td>\n",
       "      <td>17</td>\n",
       "      <td>18</td>\n",
       "      <td>0.94</td>\n",
       "      <td>20230908</td>\n",
       "    </tr>\n",
       "    <tr>\n",
       "      <th>1</th>\n",
       "      <td>202308</td>\n",
       "      <td>2714010100</td>\n",
       "      <td>대구광역시</td>\n",
       "      <td>동구</td>\n",
       "      <td>신암동</td>\n",
       "      <td>2714054000</td>\n",
       "      <td>신암4동</td>\n",
       "      <td>1</td>\n",
       "      <td>1</td>\n",
       "      <td>95</td>\n",
       "      <td>53</td>\n",
       "      <td>1.79</td>\n",
       "      <td>45</td>\n",
       "      <td>50</td>\n",
       "      <td>0.90</td>\n",
       "      <td>20230908</td>\n",
       "    </tr>\n",
       "    <tr>\n",
       "      <th>2</th>\n",
       "      <td>202308</td>\n",
       "      <td>2714010100</td>\n",
       "      <td>대구광역시</td>\n",
       "      <td>동구</td>\n",
       "      <td>신암동</td>\n",
       "      <td>2714053000</td>\n",
       "      <td>신암3동</td>\n",
       "      <td>1</td>\n",
       "      <td>1</td>\n",
       "      <td>84</td>\n",
       "      <td>51</td>\n",
       "      <td>1.65</td>\n",
       "      <td>43</td>\n",
       "      <td>41</td>\n",
       "      <td>1.05</td>\n",
       "      <td>20230908</td>\n",
       "    </tr>\n",
       "    <tr>\n",
       "      <th>3</th>\n",
       "      <td>202308</td>\n",
       "      <td>2714010100</td>\n",
       "      <td>대구광역시</td>\n",
       "      <td>동구</td>\n",
       "      <td>신암동</td>\n",
       "      <td>2714054100</td>\n",
       "      <td>신암5동</td>\n",
       "      <td>1</td>\n",
       "      <td>1</td>\n",
       "      <td>164</td>\n",
       "      <td>71</td>\n",
       "      <td>2.31</td>\n",
       "      <td>80</td>\n",
       "      <td>84</td>\n",
       "      <td>0.95</td>\n",
       "      <td>20230908</td>\n",
       "    </tr>\n",
       "    <tr>\n",
       "      <th>4</th>\n",
       "      <td>202308</td>\n",
       "      <td>2714010100</td>\n",
       "      <td>대구광역시</td>\n",
       "      <td>동구</td>\n",
       "      <td>신암동</td>\n",
       "      <td>2714051000</td>\n",
       "      <td>신암1동</td>\n",
       "      <td>1</td>\n",
       "      <td>1</td>\n",
       "      <td>67</td>\n",
       "      <td>55</td>\n",
       "      <td>1.22</td>\n",
       "      <td>38</td>\n",
       "      <td>29</td>\n",
       "      <td>1.31</td>\n",
       "      <td>20230908</td>\n",
       "    </tr>\n",
       "  </tbody>\n",
       "</table>\n",
       "</div>"
      ],
      "text/plain": [
       "     통계년월       법정동코드    시도명 시군구명 법정동명      행정기관코드  행정동명  통  반  총인구수  세대수  \\\n",
       "0  202308  2714010100  대구광역시   동구  신암동  2714052000  신암2동  1  1    35   20   \n",
       "1  202308  2714010100  대구광역시   동구  신암동  2714054000  신암4동  1  1    95   53   \n",
       "2  202308  2714010100  대구광역시   동구  신암동  2714053000  신암3동  1  1    84   51   \n",
       "3  202308  2714010100  대구광역시   동구  신암동  2714054100  신암5동  1  1   164   71   \n",
       "4  202308  2714010100  대구광역시   동구  신암동  2714051000  신암1동  1  1    67   55   \n",
       "\n",
       "  세대당인구  남자인구수  여자인구수  남여비율    업데이트일자  \n",
       "0  1.75     17     18  0.94  20230908  \n",
       "1  1.79     45     50  0.90  20230908  \n",
       "2  1.65     43     41  1.05  20230908  \n",
       "3  2.31     80     84  0.95  20230908  \n",
       "4  1.22     38     29  1.31  20230908  "
      ]
     },
     "execution_count": 24,
     "metadata": {},
     "output_type": "execute_result"
    }
   ],
   "source": [
    "df_house_hold.head()"
   ]
  },
  {
   "cell_type": "markdown",
   "id": "550582b0",
   "metadata": {},
   "source": [
    "# 5. 법정동, 행정동 세대수 데이터  SQL에 삽입 "
   ]
  },
  {
   "cell_type": "code",
   "execution_count": 25,
   "id": "97ebb5aa",
   "metadata": {},
   "outputs": [],
   "source": [
    "conn = dbconnect.db_connect(\"DEMO_DW\")\n",
    "cursor = conn.cursor()\n",
    "\n",
    "query = f'SELECT EXISTS (SELECT * FROM household_dong WHERE 통계년월 = {month})'\n",
    "\n",
    "cursor.execute(query)\n",
    "row = cursor.fetchone()\n",
    "data_exist = row[0]     # 저장된 데이터의 유무(1 - 데이터 있음)\n",
    "\n",
    "conn.close()"
   ]
  },
  {
   "cell_type": "code",
   "execution_count": 26,
   "id": "c6382920",
   "metadata": {},
   "outputs": [
    {
     "name": "stdout",
     "output_type": "stream",
     "text": [
      "202308 데이터를 저장하였습니다.\n"
     ]
    }
   ],
   "source": [
    "conn = dbconnect.db_connect(\"DEMO_DW\")\n",
    "cur = conn.cursor()\n",
    "\n",
    "for row in df_house_hold.itertuples():\n",
    "    sql = \"insert into household_dong (통계년월, 법정동코드, 시도명, 시군구명, 법정동명, \\\n",
    "                                        행정기관코드, 행정동명, 통, 반, 총인구수, 세대수, 세대당인구, \\\n",
    "                                        남자인구수, 여자인구수, 남여비율, 업데이트일자) \\\n",
    "            values (%s, %s, %s, %s, %s, %s, %s, %s, %s, %s, %s, %s, %s, %s, %s, %s)\"\n",
    "    cur.execute(sql, (row[1], row[2], row[3], row[4], row[5], row[6], row[7], row[8], row[9], row[10], row[11], row[12], row[13], row[14], row[15], row[16]))\n",
    "\n",
    "conn.commit()\n",
    "print(f'{month} 데이터를 저장하였습니다.')\n",
    "conn.close()"
   ]
  }
 ],
 "metadata": {
  "kernelspec": {
   "display_name": "Python 3 (ipykernel)",
   "language": "python",
   "name": "python3"
  },
  "language_info": {
   "codemirror_mode": {
    "name": "ipython",
    "version": 3
   },
   "file_extension": ".py",
   "mimetype": "text/x-python",
   "name": "python",
   "nbconvert_exporter": "python",
   "pygments_lexer": "ipython3",
   "version": "3.10.8"
  }
 },
 "nbformat": 4,
 "nbformat_minor": 5
}
