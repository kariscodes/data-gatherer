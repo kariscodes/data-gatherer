{
 "cells": [
  {
   "cell_type": "markdown",
   "metadata": {},
   "source": [
    "## 대구광역시 공동주택 정보 (공공데이터포털 - 국토교통부)"
   ]
  },
  {
   "cell_type": "code",
   "execution_count": 28,
   "metadata": {},
   "outputs": [],
   "source": [
    "import requests\n",
    "import xmltodict\n",
    "import pandas as pd\n",
    "\n",
    "# 일반 인증키(Encoding)\t\n",
    "api_key = 'IVgu%2FZBjA6hpLryyEOpySC2RhogOhaJIUqlXN8Uyj3Gxw4s3dX0qMxfgXMTLl60%2Fs2EYAMUsyyzTqwVOnjoIhg%3D%3D'"
   ]
  },
  {
   "cell_type": "markdown",
   "metadata": {},
   "source": [
    "#### 1. 대구광역시 공동주택 목록 가져오기"
   ]
  },
  {
   "cell_type": "code",
   "execution_count": 30,
   "metadata": {},
   "outputs": [
    {
     "ename": "ConnectionError",
     "evalue": "HTTPConnectionPool(host='apis.data.go.kr', port=80): Max retries exceeded with url: /1613000/AptListService2/getSidoAptList?sidoCode=27&ServiceKey=IVgu%2FZBjA6hpLryyEOpySC2RhogOhaJIUqlXN8Uyj3Gxw4s3dX0qMxfgXMTLl60%2Fs2EYAMUsyyzTqwVOnjoIhg%3D%3D&numOfRows=1500 (Caused by NewConnectionError('<urllib3.connection.HTTPConnection object at 0x0000020BC33FD9F0>: Failed to establish a new connection: [WinError 10061] 대상 컴퓨터에서 연결을 거부했으므로 연결하지 못했습니다'))",
     "output_type": "error",
     "traceback": [
      "\u001b[1;31m---------------------------------------------------------------------------\u001b[0m",
      "\u001b[1;31mConnectionRefusedError\u001b[0m                    Traceback (most recent call last)",
      "File \u001b[1;32md:\\PythonProject\\data-gatherer\\data-gatherer-venv\\lib\\site-packages\\urllib3\\connection.py:200\u001b[0m, in \u001b[0;36mHTTPConnection._new_conn\u001b[1;34m(self)\u001b[0m\n\u001b[0;32m    199\u001b[0m \u001b[39mtry\u001b[39;00m:\n\u001b[1;32m--> 200\u001b[0m     sock \u001b[39m=\u001b[39m connection\u001b[39m.\u001b[39;49mcreate_connection(\n\u001b[0;32m    201\u001b[0m         (\u001b[39mself\u001b[39;49m\u001b[39m.\u001b[39;49m_dns_host, \u001b[39mself\u001b[39;49m\u001b[39m.\u001b[39;49mport),\n\u001b[0;32m    202\u001b[0m         \u001b[39mself\u001b[39;49m\u001b[39m.\u001b[39;49mtimeout,\n\u001b[0;32m    203\u001b[0m         source_address\u001b[39m=\u001b[39;49m\u001b[39mself\u001b[39;49m\u001b[39m.\u001b[39;49msource_address,\n\u001b[0;32m    204\u001b[0m         socket_options\u001b[39m=\u001b[39;49m\u001b[39mself\u001b[39;49m\u001b[39m.\u001b[39;49msocket_options,\n\u001b[0;32m    205\u001b[0m     )\n\u001b[0;32m    206\u001b[0m \u001b[39mexcept\u001b[39;00m socket\u001b[39m.\u001b[39mgaierror \u001b[39mas\u001b[39;00m e:\n",
      "File \u001b[1;32md:\\PythonProject\\data-gatherer\\data-gatherer-venv\\lib\\site-packages\\urllib3\\util\\connection.py:85\u001b[0m, in \u001b[0;36mcreate_connection\u001b[1;34m(address, timeout, source_address, socket_options)\u001b[0m\n\u001b[0;32m     84\u001b[0m \u001b[39mtry\u001b[39;00m:\n\u001b[1;32m---> 85\u001b[0m     \u001b[39mraise\u001b[39;00m err\n\u001b[0;32m     86\u001b[0m \u001b[39mfinally\u001b[39;00m:\n\u001b[0;32m     87\u001b[0m     \u001b[39m# Break explicitly a reference cycle\u001b[39;00m\n",
      "File \u001b[1;32md:\\PythonProject\\data-gatherer\\data-gatherer-venv\\lib\\site-packages\\urllib3\\util\\connection.py:73\u001b[0m, in \u001b[0;36mcreate_connection\u001b[1;34m(address, timeout, source_address, socket_options)\u001b[0m\n\u001b[0;32m     72\u001b[0m     sock\u001b[39m.\u001b[39mbind(source_address)\n\u001b[1;32m---> 73\u001b[0m sock\u001b[39m.\u001b[39;49mconnect(sa)\n\u001b[0;32m     74\u001b[0m \u001b[39m# Break explicitly a reference cycle\u001b[39;00m\n",
      "\u001b[1;31mConnectionRefusedError\u001b[0m: [WinError 10061] 대상 컴퓨터에서 연결을 거부했으므로 연결하지 못했습니다",
      "\nThe above exception was the direct cause of the following exception:\n",
      "\u001b[1;31mNewConnectionError\u001b[0m                        Traceback (most recent call last)",
      "File \u001b[1;32md:\\PythonProject\\data-gatherer\\data-gatherer-venv\\lib\\site-packages\\urllib3\\connectionpool.py:790\u001b[0m, in \u001b[0;36mHTTPConnectionPool.urlopen\u001b[1;34m(self, method, url, body, headers, retries, redirect, assert_same_host, timeout, pool_timeout, release_conn, chunked, body_pos, preload_content, decode_content, **response_kw)\u001b[0m\n\u001b[0;32m    789\u001b[0m \u001b[39m# Make the request on the HTTPConnection object\u001b[39;00m\n\u001b[1;32m--> 790\u001b[0m response \u001b[39m=\u001b[39m \u001b[39mself\u001b[39m\u001b[39m.\u001b[39m_make_request(\n\u001b[0;32m    791\u001b[0m     conn,\n\u001b[0;32m    792\u001b[0m     method,\n\u001b[0;32m    793\u001b[0m     url,\n\u001b[0;32m    794\u001b[0m     timeout\u001b[39m=\u001b[39mtimeout_obj,\n\u001b[0;32m    795\u001b[0m     body\u001b[39m=\u001b[39mbody,\n\u001b[0;32m    796\u001b[0m     headers\u001b[39m=\u001b[39mheaders,\n\u001b[0;32m    797\u001b[0m     chunked\u001b[39m=\u001b[39mchunked,\n\u001b[0;32m    798\u001b[0m     retries\u001b[39m=\u001b[39mretries,\n\u001b[0;32m    799\u001b[0m     response_conn\u001b[39m=\u001b[39mresponse_conn,\n\u001b[0;32m    800\u001b[0m     preload_content\u001b[39m=\u001b[39mpreload_content,\n\u001b[0;32m    801\u001b[0m     decode_content\u001b[39m=\u001b[39mdecode_content,\n\u001b[0;32m    802\u001b[0m     \u001b[39m*\u001b[39m\u001b[39m*\u001b[39mresponse_kw,\n\u001b[0;32m    803\u001b[0m )\n\u001b[0;32m    805\u001b[0m \u001b[39m# Everything went great!\u001b[39;00m\n",
      "File \u001b[1;32md:\\PythonProject\\data-gatherer\\data-gatherer-venv\\lib\\site-packages\\urllib3\\connectionpool.py:496\u001b[0m, in \u001b[0;36mHTTPConnectionPool._make_request\u001b[1;34m(self, conn, method, url, body, headers, retries, timeout, chunked, response_conn, preload_content, decode_content, enforce_content_length)\u001b[0m\n\u001b[0;32m    495\u001b[0m \u001b[39mtry\u001b[39;00m:\n\u001b[1;32m--> 496\u001b[0m     conn\u001b[39m.\u001b[39;49mrequest(\n\u001b[0;32m    497\u001b[0m         method,\n\u001b[0;32m    498\u001b[0m         url,\n\u001b[0;32m    499\u001b[0m         body\u001b[39m=\u001b[39;49mbody,\n\u001b[0;32m    500\u001b[0m         headers\u001b[39m=\u001b[39;49mheaders,\n\u001b[0;32m    501\u001b[0m         chunked\u001b[39m=\u001b[39;49mchunked,\n\u001b[0;32m    502\u001b[0m         preload_content\u001b[39m=\u001b[39;49mpreload_content,\n\u001b[0;32m    503\u001b[0m         decode_content\u001b[39m=\u001b[39;49mdecode_content,\n\u001b[0;32m    504\u001b[0m         enforce_content_length\u001b[39m=\u001b[39;49menforce_content_length,\n\u001b[0;32m    505\u001b[0m     )\n\u001b[0;32m    507\u001b[0m \u001b[39m# We are swallowing BrokenPipeError (errno.EPIPE) since the server is\u001b[39;00m\n\u001b[0;32m    508\u001b[0m \u001b[39m# legitimately able to close the connection after sending a valid response.\u001b[39;00m\n\u001b[0;32m    509\u001b[0m \u001b[39m# With this behaviour, the received response is still readable.\u001b[39;00m\n",
      "File \u001b[1;32md:\\PythonProject\\data-gatherer\\data-gatherer-venv\\lib\\site-packages\\urllib3\\connection.py:388\u001b[0m, in \u001b[0;36mHTTPConnection.request\u001b[1;34m(self, method, url, body, headers, chunked, preload_content, decode_content, enforce_content_length)\u001b[0m\n\u001b[0;32m    387\u001b[0m     \u001b[39mself\u001b[39m\u001b[39m.\u001b[39mputheader(header, value)\n\u001b[1;32m--> 388\u001b[0m \u001b[39mself\u001b[39;49m\u001b[39m.\u001b[39;49mendheaders()\n\u001b[0;32m    390\u001b[0m \u001b[39m# If we're given a body we start sending that in chunks.\u001b[39;00m\n",
      "File \u001b[1;32mC:\\Python310\\lib\\http\\client.py:1277\u001b[0m, in \u001b[0;36mHTTPConnection.endheaders\u001b[1;34m(self, message_body, encode_chunked)\u001b[0m\n\u001b[0;32m   1276\u001b[0m     \u001b[39mraise\u001b[39;00m CannotSendHeader()\n\u001b[1;32m-> 1277\u001b[0m \u001b[39mself\u001b[39;49m\u001b[39m.\u001b[39;49m_send_output(message_body, encode_chunked\u001b[39m=\u001b[39;49mencode_chunked)\n",
      "File \u001b[1;32mC:\\Python310\\lib\\http\\client.py:1037\u001b[0m, in \u001b[0;36mHTTPConnection._send_output\u001b[1;34m(self, message_body, encode_chunked)\u001b[0m\n\u001b[0;32m   1036\u001b[0m \u001b[39mdel\u001b[39;00m \u001b[39mself\u001b[39m\u001b[39m.\u001b[39m_buffer[:]\n\u001b[1;32m-> 1037\u001b[0m \u001b[39mself\u001b[39;49m\u001b[39m.\u001b[39;49msend(msg)\n\u001b[0;32m   1039\u001b[0m \u001b[39mif\u001b[39;00m message_body \u001b[39mis\u001b[39;00m \u001b[39mnot\u001b[39;00m \u001b[39mNone\u001b[39;00m:\n\u001b[0;32m   1040\u001b[0m \n\u001b[0;32m   1041\u001b[0m     \u001b[39m# create a consistent interface to message_body\u001b[39;00m\n",
      "File \u001b[1;32mC:\\Python310\\lib\\http\\client.py:975\u001b[0m, in \u001b[0;36mHTTPConnection.send\u001b[1;34m(self, data)\u001b[0m\n\u001b[0;32m    974\u001b[0m \u001b[39mif\u001b[39;00m \u001b[39mself\u001b[39m\u001b[39m.\u001b[39mauto_open:\n\u001b[1;32m--> 975\u001b[0m     \u001b[39mself\u001b[39;49m\u001b[39m.\u001b[39;49mconnect()\n\u001b[0;32m    976\u001b[0m \u001b[39melse\u001b[39;00m:\n",
      "File \u001b[1;32md:\\PythonProject\\data-gatherer\\data-gatherer-venv\\lib\\site-packages\\urllib3\\connection.py:236\u001b[0m, in \u001b[0;36mHTTPConnection.connect\u001b[1;34m(self)\u001b[0m\n\u001b[0;32m    235\u001b[0m \u001b[39mdef\u001b[39;00m \u001b[39mconnect\u001b[39m(\u001b[39mself\u001b[39m) \u001b[39m-\u001b[39m\u001b[39m>\u001b[39m \u001b[39mNone\u001b[39;00m:\n\u001b[1;32m--> 236\u001b[0m     \u001b[39mself\u001b[39m\u001b[39m.\u001b[39msock \u001b[39m=\u001b[39m \u001b[39mself\u001b[39;49m\u001b[39m.\u001b[39;49m_new_conn()\n\u001b[0;32m    237\u001b[0m     \u001b[39mif\u001b[39;00m \u001b[39mself\u001b[39m\u001b[39m.\u001b[39m_tunnel_host:\n\u001b[0;32m    238\u001b[0m         \u001b[39m# If we're tunneling it means we're connected to our proxy.\u001b[39;00m\n",
      "File \u001b[1;32md:\\PythonProject\\data-gatherer\\data-gatherer-venv\\lib\\site-packages\\urllib3\\connection.py:215\u001b[0m, in \u001b[0;36mHTTPConnection._new_conn\u001b[1;34m(self)\u001b[0m\n\u001b[0;32m    214\u001b[0m \u001b[39mexcept\u001b[39;00m \u001b[39mOSError\u001b[39;00m \u001b[39mas\u001b[39;00m e:\n\u001b[1;32m--> 215\u001b[0m     \u001b[39mraise\u001b[39;00m NewConnectionError(\n\u001b[0;32m    216\u001b[0m         \u001b[39mself\u001b[39m, \u001b[39mf\u001b[39m\u001b[39m\"\u001b[39m\u001b[39mFailed to establish a new connection: \u001b[39m\u001b[39m{\u001b[39;00me\u001b[39m}\u001b[39;00m\u001b[39m\"\u001b[39m\n\u001b[0;32m    217\u001b[0m     ) \u001b[39mfrom\u001b[39;00m \u001b[39me\u001b[39;00m\n\u001b[0;32m    219\u001b[0m \u001b[39mreturn\u001b[39;00m sock\n",
      "\u001b[1;31mNewConnectionError\u001b[0m: <urllib3.connection.HTTPConnection object at 0x0000020BC33FD9F0>: Failed to establish a new connection: [WinError 10061] 대상 컴퓨터에서 연결을 거부했으므로 연결하지 못했습니다",
      "\nThe above exception was the direct cause of the following exception:\n",
      "\u001b[1;31mMaxRetryError\u001b[0m                             Traceback (most recent call last)",
      "File \u001b[1;32md:\\PythonProject\\data-gatherer\\data-gatherer-venv\\lib\\site-packages\\requests\\adapters.py:486\u001b[0m, in \u001b[0;36mHTTPAdapter.send\u001b[1;34m(self, request, stream, timeout, verify, cert, proxies)\u001b[0m\n\u001b[0;32m    485\u001b[0m \u001b[39mtry\u001b[39;00m:\n\u001b[1;32m--> 486\u001b[0m     resp \u001b[39m=\u001b[39m conn\u001b[39m.\u001b[39;49murlopen(\n\u001b[0;32m    487\u001b[0m         method\u001b[39m=\u001b[39;49mrequest\u001b[39m.\u001b[39;49mmethod,\n\u001b[0;32m    488\u001b[0m         url\u001b[39m=\u001b[39;49murl,\n\u001b[0;32m    489\u001b[0m         body\u001b[39m=\u001b[39;49mrequest\u001b[39m.\u001b[39;49mbody,\n\u001b[0;32m    490\u001b[0m         headers\u001b[39m=\u001b[39;49mrequest\u001b[39m.\u001b[39;49mheaders,\n\u001b[0;32m    491\u001b[0m         redirect\u001b[39m=\u001b[39;49m\u001b[39mFalse\u001b[39;49;00m,\n\u001b[0;32m    492\u001b[0m         assert_same_host\u001b[39m=\u001b[39;49m\u001b[39mFalse\u001b[39;49;00m,\n\u001b[0;32m    493\u001b[0m         preload_content\u001b[39m=\u001b[39;49m\u001b[39mFalse\u001b[39;49;00m,\n\u001b[0;32m    494\u001b[0m         decode_content\u001b[39m=\u001b[39;49m\u001b[39mFalse\u001b[39;49;00m,\n\u001b[0;32m    495\u001b[0m         retries\u001b[39m=\u001b[39;49m\u001b[39mself\u001b[39;49m\u001b[39m.\u001b[39;49mmax_retries,\n\u001b[0;32m    496\u001b[0m         timeout\u001b[39m=\u001b[39;49mtimeout,\n\u001b[0;32m    497\u001b[0m         chunked\u001b[39m=\u001b[39;49mchunked,\n\u001b[0;32m    498\u001b[0m     )\n\u001b[0;32m    500\u001b[0m \u001b[39mexcept\u001b[39;00m (ProtocolError, \u001b[39mOSError\u001b[39;00m) \u001b[39mas\u001b[39;00m err:\n",
      "File \u001b[1;32md:\\PythonProject\\data-gatherer\\data-gatherer-venv\\lib\\site-packages\\urllib3\\connectionpool.py:844\u001b[0m, in \u001b[0;36mHTTPConnectionPool.urlopen\u001b[1;34m(self, method, url, body, headers, retries, redirect, assert_same_host, timeout, pool_timeout, release_conn, chunked, body_pos, preload_content, decode_content, **response_kw)\u001b[0m\n\u001b[0;32m    842\u001b[0m     new_e \u001b[39m=\u001b[39m ProtocolError(\u001b[39m\"\u001b[39m\u001b[39mConnection aborted.\u001b[39m\u001b[39m\"\u001b[39m, new_e)\n\u001b[1;32m--> 844\u001b[0m retries \u001b[39m=\u001b[39m retries\u001b[39m.\u001b[39;49mincrement(\n\u001b[0;32m    845\u001b[0m     method, url, error\u001b[39m=\u001b[39;49mnew_e, _pool\u001b[39m=\u001b[39;49m\u001b[39mself\u001b[39;49m, _stacktrace\u001b[39m=\u001b[39;49msys\u001b[39m.\u001b[39;49mexc_info()[\u001b[39m2\u001b[39;49m]\n\u001b[0;32m    846\u001b[0m )\n\u001b[0;32m    847\u001b[0m retries\u001b[39m.\u001b[39msleep()\n",
      "File \u001b[1;32md:\\PythonProject\\data-gatherer\\data-gatherer-venv\\lib\\site-packages\\urllib3\\util\\retry.py:515\u001b[0m, in \u001b[0;36mRetry.increment\u001b[1;34m(self, method, url, response, error, _pool, _stacktrace)\u001b[0m\n\u001b[0;32m    514\u001b[0m     reason \u001b[39m=\u001b[39m error \u001b[39mor\u001b[39;00m ResponseError(cause)\n\u001b[1;32m--> 515\u001b[0m     \u001b[39mraise\u001b[39;00m MaxRetryError(_pool, url, reason) \u001b[39mfrom\u001b[39;00m \u001b[39mreason\u001b[39;00m  \u001b[39m# type: ignore[arg-type]\u001b[39;00m\n\u001b[0;32m    517\u001b[0m log\u001b[39m.\u001b[39mdebug(\u001b[39m\"\u001b[39m\u001b[39mIncremented Retry for (url=\u001b[39m\u001b[39m'\u001b[39m\u001b[39m%s\u001b[39;00m\u001b[39m'\u001b[39m\u001b[39m): \u001b[39m\u001b[39m%r\u001b[39;00m\u001b[39m\"\u001b[39m, url, new_retry)\n",
      "\u001b[1;31mMaxRetryError\u001b[0m: HTTPConnectionPool(host='apis.data.go.kr', port=80): Max retries exceeded with url: /1613000/AptListService2/getSidoAptList?sidoCode=27&ServiceKey=IVgu%2FZBjA6hpLryyEOpySC2RhogOhaJIUqlXN8Uyj3Gxw4s3dX0qMxfgXMTLl60%2Fs2EYAMUsyyzTqwVOnjoIhg%3D%3D&numOfRows=1500 (Caused by NewConnectionError('<urllib3.connection.HTTPConnection object at 0x0000020BC33FD9F0>: Failed to establish a new connection: [WinError 10061] 대상 컴퓨터에서 연결을 거부했으므로 연결하지 못했습니다'))",
      "\nDuring handling of the above exception, another exception occurred:\n",
      "\u001b[1;31mConnectionError\u001b[0m                           Traceback (most recent call last)",
      "Cell \u001b[1;32mIn[30], line 7\u001b[0m\n\u001b[0;32m      4\u001b[0m rows \u001b[39m=\u001b[39m \u001b[39m'\u001b[39m\u001b[39m1500\u001b[39m\u001b[39m'\u001b[39m\n\u001b[0;32m      5\u001b[0m url \u001b[39m=\u001b[39m \u001b[39mf\u001b[39m\u001b[39m'\u001b[39m\u001b[39m{\u001b[39;00mservice_url\u001b[39m}\u001b[39;00m\u001b[39m/\u001b[39m\u001b[39m{\u001b[39;00mservice_name\u001b[39m}\u001b[39;00m\u001b[39m?sidoCode=\u001b[39m\u001b[39m{\u001b[39;00msido_code\u001b[39m}\u001b[39;00m\u001b[39m&ServiceKey=\u001b[39m\u001b[39m{\u001b[39;00mapi_key\u001b[39m}\u001b[39;00m\u001b[39m&numOfRows=\u001b[39m\u001b[39m{\u001b[39;00mrows\u001b[39m}\u001b[39;00m\u001b[39m'\u001b[39m\n\u001b[1;32m----> 7\u001b[0m response \u001b[39m=\u001b[39m requests\u001b[39m.\u001b[39;49mget(url,verify\u001b[39m=\u001b[39;49m\u001b[39mFalse\u001b[39;49;00m)\n\u001b[0;32m      9\u001b[0m \u001b[39mif\u001b[39;00m response\u001b[39m.\u001b[39mstatus_code \u001b[39m==\u001b[39m \u001b[39m200\u001b[39m:     \u001b[39m# URL GET '200 정상'\u001b[39;00m\n\u001b[0;32m     10\u001b[0m     \u001b[39mprint\u001b[39m(\u001b[39m\"\u001b[39m\u001b[39mURL GET Successful\u001b[39m\u001b[39m\"\u001b[39m)\n",
      "File \u001b[1;32md:\\PythonProject\\data-gatherer\\data-gatherer-venv\\lib\\site-packages\\requests\\api.py:73\u001b[0m, in \u001b[0;36mget\u001b[1;34m(url, params, **kwargs)\u001b[0m\n\u001b[0;32m     62\u001b[0m \u001b[39mdef\u001b[39;00m \u001b[39mget\u001b[39m(url, params\u001b[39m=\u001b[39m\u001b[39mNone\u001b[39;00m, \u001b[39m*\u001b[39m\u001b[39m*\u001b[39mkwargs):\n\u001b[0;32m     63\u001b[0m \u001b[39m    \u001b[39m\u001b[39mr\u001b[39m\u001b[39m\"\"\"Sends a GET request.\u001b[39;00m\n\u001b[0;32m     64\u001b[0m \n\u001b[0;32m     65\u001b[0m \u001b[39m    :param url: URL for the new :class:`Request` object.\u001b[39;00m\n\u001b[1;32m   (...)\u001b[0m\n\u001b[0;32m     70\u001b[0m \u001b[39m    :rtype: requests.Response\u001b[39;00m\n\u001b[0;32m     71\u001b[0m \u001b[39m    \"\"\"\u001b[39;00m\n\u001b[1;32m---> 73\u001b[0m     \u001b[39mreturn\u001b[39;00m request(\u001b[39m\"\u001b[39m\u001b[39mget\u001b[39m\u001b[39m\"\u001b[39m, url, params\u001b[39m=\u001b[39mparams, \u001b[39m*\u001b[39m\u001b[39m*\u001b[39mkwargs)\n",
      "File \u001b[1;32md:\\PythonProject\\data-gatherer\\data-gatherer-venv\\lib\\site-packages\\requests\\api.py:59\u001b[0m, in \u001b[0;36mrequest\u001b[1;34m(method, url, **kwargs)\u001b[0m\n\u001b[0;32m     55\u001b[0m \u001b[39m# By using the 'with' statement we are sure the session is closed, thus we\u001b[39;00m\n\u001b[0;32m     56\u001b[0m \u001b[39m# avoid leaving sockets open which can trigger a ResourceWarning in some\u001b[39;00m\n\u001b[0;32m     57\u001b[0m \u001b[39m# cases, and look like a memory leak in others.\u001b[39;00m\n\u001b[0;32m     58\u001b[0m \u001b[39mwith\u001b[39;00m sessions\u001b[39m.\u001b[39mSession() \u001b[39mas\u001b[39;00m session:\n\u001b[1;32m---> 59\u001b[0m     \u001b[39mreturn\u001b[39;00m session\u001b[39m.\u001b[39mrequest(method\u001b[39m=\u001b[39mmethod, url\u001b[39m=\u001b[39murl, \u001b[39m*\u001b[39m\u001b[39m*\u001b[39mkwargs)\n",
      "File \u001b[1;32md:\\PythonProject\\data-gatherer\\data-gatherer-venv\\lib\\site-packages\\requests\\sessions.py:589\u001b[0m, in \u001b[0;36mSession.request\u001b[1;34m(self, method, url, params, data, headers, cookies, files, auth, timeout, allow_redirects, proxies, hooks, stream, verify, cert, json)\u001b[0m\n\u001b[0;32m    584\u001b[0m send_kwargs \u001b[39m=\u001b[39m {\n\u001b[0;32m    585\u001b[0m     \u001b[39m\"\u001b[39m\u001b[39mtimeout\u001b[39m\u001b[39m\"\u001b[39m: timeout,\n\u001b[0;32m    586\u001b[0m     \u001b[39m\"\u001b[39m\u001b[39mallow_redirects\u001b[39m\u001b[39m\"\u001b[39m: allow_redirects,\n\u001b[0;32m    587\u001b[0m }\n\u001b[0;32m    588\u001b[0m send_kwargs\u001b[39m.\u001b[39mupdate(settings)\n\u001b[1;32m--> 589\u001b[0m resp \u001b[39m=\u001b[39m \u001b[39mself\u001b[39m\u001b[39m.\u001b[39msend(prep, \u001b[39m*\u001b[39m\u001b[39m*\u001b[39msend_kwargs)\n\u001b[0;32m    591\u001b[0m \u001b[39mreturn\u001b[39;00m resp\n",
      "File \u001b[1;32md:\\PythonProject\\data-gatherer\\data-gatherer-venv\\lib\\site-packages\\requests\\sessions.py:703\u001b[0m, in \u001b[0;36mSession.send\u001b[1;34m(self, request, **kwargs)\u001b[0m\n\u001b[0;32m    700\u001b[0m start \u001b[39m=\u001b[39m preferred_clock()\n\u001b[0;32m    702\u001b[0m \u001b[39m# Send the request\u001b[39;00m\n\u001b[1;32m--> 703\u001b[0m r \u001b[39m=\u001b[39m adapter\u001b[39m.\u001b[39msend(request, \u001b[39m*\u001b[39m\u001b[39m*\u001b[39mkwargs)\n\u001b[0;32m    705\u001b[0m \u001b[39m# Total elapsed time of the request (approximately)\u001b[39;00m\n\u001b[0;32m    706\u001b[0m elapsed \u001b[39m=\u001b[39m preferred_clock() \u001b[39m-\u001b[39m start\n",
      "File \u001b[1;32md:\\PythonProject\\data-gatherer\\data-gatherer-venv\\lib\\site-packages\\requests\\adapters.py:519\u001b[0m, in \u001b[0;36mHTTPAdapter.send\u001b[1;34m(self, request, stream, timeout, verify, cert, proxies)\u001b[0m\n\u001b[0;32m    515\u001b[0m     \u001b[39mif\u001b[39;00m \u001b[39misinstance\u001b[39m(e\u001b[39m.\u001b[39mreason, _SSLError):\n\u001b[0;32m    516\u001b[0m         \u001b[39m# This branch is for urllib3 v1.22 and later.\u001b[39;00m\n\u001b[0;32m    517\u001b[0m         \u001b[39mraise\u001b[39;00m SSLError(e, request\u001b[39m=\u001b[39mrequest)\n\u001b[1;32m--> 519\u001b[0m     \u001b[39mraise\u001b[39;00m \u001b[39mConnectionError\u001b[39;00m(e, request\u001b[39m=\u001b[39mrequest)\n\u001b[0;32m    521\u001b[0m \u001b[39mexcept\u001b[39;00m ClosedPoolError \u001b[39mas\u001b[39;00m e:\n\u001b[0;32m    522\u001b[0m     \u001b[39mraise\u001b[39;00m \u001b[39mConnectionError\u001b[39;00m(e, request\u001b[39m=\u001b[39mrequest)\n",
      "\u001b[1;31mConnectionError\u001b[0m: HTTPConnectionPool(host='apis.data.go.kr', port=80): Max retries exceeded with url: /1613000/AptListService2/getSidoAptList?sidoCode=27&ServiceKey=IVgu%2FZBjA6hpLryyEOpySC2RhogOhaJIUqlXN8Uyj3Gxw4s3dX0qMxfgXMTLl60%2Fs2EYAMUsyyzTqwVOnjoIhg%3D%3D&numOfRows=1500 (Caused by NewConnectionError('<urllib3.connection.HTTPConnection object at 0x0000020BC33FD9F0>: Failed to establish a new connection: [WinError 10061] 대상 컴퓨터에서 연결을 거부했으므로 연결하지 못했습니다'))"
     ]
    }
   ],
   "source": [
    "service_url = 'http://apis.data.go.kr/1613000/AptListService2'\n",
    "service_name = 'getSidoAptList'\n",
    "sido_code = '27'    # 대구광역시\n",
    "rows = '1500'\n",
    "url = f'{service_url}/{service_name}?sidoCode={sido_code}&ServiceKey={api_key}&numOfRows={rows}'\n",
    "\n",
    "response = requests.get(url,verify=False)\n",
    "\n",
    "if response.status_code == 200:     # URL GET '200 정상'\n",
    "    print(\"URL GET Successful\")\n",
    "    contents = response.text                # XML 데이터\n",
    "    # xmltodict 모듈을 사용해서 xml 데이터를 파이썬의 OrderedDict 타입으로 변환\n",
    "    dict_data = xmltodict.parse(contents)\n",
    "    item = dict_data['response']['body']['items']['item']\n",
    "    df_apt = pd.json_normalize(item)\n",
    "else:\n",
    "    print(\"URL GET Error\")\n",
    "    \n",
    "df_apt_codes = df_apt['kaptCode']"
   ]
  },
  {
   "cell_type": "code",
   "execution_count": 6,
   "metadata": {},
   "outputs": [],
   "source": [
    "total_code_cnts = df_apt['as2'].size"
   ]
  },
  {
   "cell_type": "code",
   "execution_count": 7,
   "metadata": {},
   "outputs": [],
   "source": [
    "region_list = df_apt['as2'].unique()\n",
    "dict_region = {}\n",
    "for region in region_list:\n",
    "    dict_region[region] = df_apt.query('as2 == @region')['kaptCode'].to_list()"
   ]
  },
  {
   "cell_type": "code",
   "execution_count": 8,
   "metadata": {},
   "outputs": [
    {
     "name": "stdout",
     "output_type": "stream",
     "text": [
      "달서구 동구 남구 중구 수성구 북구 서구 달성군 군위군 "
     ]
    }
   ],
   "source": [
    "for key, value in dict_region.items():\n",
    "    print(key, end=\" \")"
   ]
  },
  {
   "cell_type": "markdown",
   "metadata": {},
   "source": [
    "#### 2. 대구광역시 공동주택 기본정보 가져오기\n",
    "+ 일일 트래픽 제한: 10,000건"
   ]
  },
  {
   "cell_type": "code",
   "execution_count": 9,
   "metadata": {},
   "outputs": [
    {
     "name": "stdout",
     "output_type": "stream",
     "text": [
      "{'달서구': 0, '동구': 0, '남구': 0, '중구': 0, '수성구': 0, '북구': 0, '서구': 0, '달성군': 0, '군위군': 0}\n"
     ]
    }
   ],
   "source": [
    "# 각 지역별로 데이터 수집 결과 초기화\n",
    "dict_region_results = {}\n",
    "for key in dict_region.keys():\n",
    "    dict_region_results[key] = 0\n",
    "print(dict_region_results)"
   ]
  },
  {
   "cell_type": "code",
   "execution_count": 27,
   "metadata": {},
   "outputs": [
    {
     "ename": "KeyboardInterrupt",
     "evalue": "",
     "output_type": "error",
     "traceback": [
      "\u001b[1;31m---------------------------------------------------------------------------\u001b[0m",
      "\u001b[1;31mKeyboardInterrupt\u001b[0m                         Traceback (most recent call last)",
      "Cell \u001b[1;32mIn[27], line 39\u001b[0m\n\u001b[0;32m     37\u001b[0m         \u001b[39mexcept\u001b[39;00m \u001b[39mException\u001b[39;00m:\n\u001b[0;32m     38\u001b[0m             \u001b[39mcontinue\u001b[39;00m\n\u001b[1;32m---> 39\u001b[0m     time\u001b[39m.\u001b[39;49msleep(\u001b[39m5\u001b[39;49m)        \n\u001b[0;32m     40\u001b[0m time\u001b[39m.\u001b[39msleep(\u001b[39m5\u001b[39m)\n",
      "\u001b[1;31mKeyboardInterrupt\u001b[0m: "
     ]
    }
   ],
   "source": [
    "from tqdm.notebook import tqdm\n",
    "import time\n",
    "\n",
    "import warnings\n",
    "warnings.filterwarnings(action='ignore')\n",
    "\n",
    "service_url = 'http://apis.data.go.kr/1613000/AptBasisInfoService1'\n",
    "service_name = 'getAphusBassInfo'   # 공동주택 기본 정보제공 서비스\n",
    "\n",
    "dict_region_data = {}\n",
    "\n",
    "for region, apt_code_list in dict_region.items():   \n",
    "    df_region_apt_info = pd.DataFrame()\n",
    "    # 최대 5회 시도\n",
    "    num_retry = 7\n",
    "    for retry in range(num_retry):\n",
    "        if dict_region_results[region] == 0: \n",
    "            try:\n",
    "                print(f\"{region} 지역 아파트 정보를 가져옵니다. 대상 목록 {len(apt_code_list)}, trying {retry}\")\n",
    "                for apt_code in tqdm(apt_code_list):    \n",
    "                    url = f'{service_url}/{service_name}?kaptCode={apt_code}&ServiceKey={api_key}'\n",
    "                    response = requests.get(url,verify=False)\n",
    "                    if response.status_code == 200:     # URL GET '200 정상'\n",
    "                        contents = response.text                # XML 데이터\n",
    "                        # xmltodict 모듈을 사용해서 xml 데이터를 파이썬의 OrderedDict 타입으로 변환\n",
    "                        dict_data = xmltodict.parse(contents)\n",
    "                        item = dict_data['response']['body']['item']\n",
    "                        df_apt_info = pd.json_normalize(item)\n",
    "                        if not df_apt_info.empty:\n",
    "                            df_region_apt_info = pd.concat([df_region_apt_info, df_apt_info], ignore_index=True)\n",
    "                if not df_region_apt_info.empty:            \n",
    "                    dict_region_data[region] = df_region_apt_info\n",
    "                    dict_region_results[region] = 1    # 성공\n",
    "                    break\n",
    "                else:\n",
    "                    dict_region_results[region] = 0    # 실패\n",
    "            except Exception:\n",
    "                continue     \n",
    "    time.sleep(5)"
   ]
  },
  {
   "cell_type": "code",
   "execution_count": 25,
   "metadata": {},
   "outputs": [
    {
     "name": "stdout",
     "output_type": "stream",
     "text": [
      "각 지역별 데이터 수집 결과\n",
      "달서구\t1\n",
      "동구\t1\n",
      "남구\t1\n",
      "중구\t1\n",
      "수성구\t1\n",
      "북구\t0\n",
      "서구\t1\n",
      "달성군\t1\n",
      "군위군\t1\n"
     ]
    }
   ],
   "source": [
    "# 각 지역별로 데이터 수집 결과 확인: 성공(1), 실패(0)\n",
    "print(\"각 지역별 데이터 수집 결과\")\n",
    "for key in dict_region_results:\n",
    "    print(f'{key}\\t{dict_region_results[key]}')"
   ]
  },
  {
   "cell_type": "code",
   "execution_count": 22,
   "metadata": {},
   "outputs": [
    {
     "name": "stdout",
     "output_type": "stream",
     "text": [
      "데이터를 수집하지 못한 지역이 있습니다.\n"
     ]
    }
   ],
   "source": [
    "# 데이터를 가져오지 못한 지역\n",
    "[key for key, value in dict_region_results.items() if value == 0]\n",
    "if len(key) == 0:\n",
    "    print(\"모든 지역의 데이터를 수집하였습니다.\")\n",
    "else:\n",
    "    print(\"데이터를 수집하지 못한 지역이 있습니다.\")"
   ]
  },
  {
   "cell_type": "code",
   "execution_count": 26,
   "metadata": {},
   "outputs": [
    {
     "ename": "KeyError",
     "evalue": "'달서구'",
     "output_type": "error",
     "traceback": [
      "\u001b[1;31m---------------------------------------------------------------------------\u001b[0m",
      "\u001b[1;31mKeyError\u001b[0m                                  Traceback (most recent call last)",
      "Cell \u001b[1;32mIn[26], line 4\u001b[0m\n\u001b[0;32m      2\u001b[0m \u001b[39mfor\u001b[39;00m region \u001b[39min\u001b[39;00m dict_region\u001b[39m.\u001b[39mkeys():\n\u001b[0;32m      3\u001b[0m     \u001b[39mif\u001b[39;00m dict_region_results[region] \u001b[39m==\u001b[39m \u001b[39m1\u001b[39m:\n\u001b[1;32m----> 4\u001b[0m         cnt \u001b[39m=\u001b[39m dict_region_data[region][\u001b[39m'\u001b[39m\u001b[39mkaptCode\u001b[39m\u001b[39m'\u001b[39m]\u001b[39m.\u001b[39msize\n\u001b[0;32m      5\u001b[0m         \u001b[39mprint\u001b[39m(\u001b[39mf\u001b[39m\u001b[39m\"\u001b[39m\u001b[39m{\u001b[39;00mregion\u001b[39m}\u001b[39;00m\u001b[39m\\t\u001b[39;00m\u001b[39m: \u001b[39m\u001b[39m{\u001b[39;00mcnt\u001b[39m}\u001b[39;00m\u001b[39m\"\u001b[39m)\n\u001b[0;32m      6\u001b[0m         total_counts \u001b[39m+\u001b[39m\u001b[39m=\u001b[39m cnt\n",
      "\u001b[1;31mKeyError\u001b[0m: '달서구'"
     ]
    }
   ],
   "source": [
    "total_counts = 0\n",
    "for region in dict_region.keys():\n",
    "    if dict_region_results[region] == 1:\n",
    "        cnt = dict_region_data[region]['kaptCode'].size\n",
    "        print(f\"{region}\\t: {cnt}\")\n",
    "        total_counts += cnt\n",
    "    else:\n",
    "        print(f\"{region}\\t: 0\")\n",
    "        continue\n",
    "print(f\"총 개수\\t: {total_counts}\")"
   ]
  },
  {
   "cell_type": "markdown",
   "metadata": {},
   "source": [
    "### 항목 내역 (활용할 만한 사항들만 발췌)\n",
    "+ 단지코드\tkaptCode\t9\n",
    "+ 단지명\tkaptName\t50\n",
    "+ 법정동주소\tkaptAddr\t200\n",
    "+ 분양형태  codeSaleNm\t50\n",
    "+ 난방방식\tcodeHeatNm\t50\n",
    "+ 연면적  kaptTarea 22  \n",
    "+ 동수\tkaptDongCnt\t100\n",
    "+ 세대수\tkaptdaCnt\t22\t\n",
    "+ 단지분류\tcodeAptNm\t50\n",
    "+ 호수\thoCnt\t5\n",
    "+ 관리방식  codeMgrNm   50\n",
    "+ 복도유형  codeHallNm  50\n",
    "+ 사용승인일\tkaptUsedate\t8\n",
    "+ 전용면적별 세대현황\tkaptMparea_60\t22  : 60㎡ 이하\n",
    "+ 전용면적별 세대현황\tkaptMparea_85\t22  : 60㎡ ~ 85㎡ 이하\n",
    "+ 전용면적별 세대현황\tkaptMparea_135\t22  : 85㎡ ~ 135㎡ 이하\n",
    "+ 전용면적별 세대현황\tkaptMparea_136\t22  : 135㎡ 초과\n",
    "+ 대장 전용면적합계\tprivArea\t22  : 단지 전용면적합(㎡)\n",
    "+ 법정동코드\tbjdCode\t10"
   ]
  },
  {
   "cell_type": "code",
   "execution_count": null,
   "metadata": {},
   "outputs": [],
   "source": [
    "# Null Value 찾기\n",
    "# df_save_data.isnull().sum()"
   ]
  },
  {
   "cell_type": "markdown",
   "metadata": {},
   "source": [
    "#### 3. 데이터 저장"
   ]
  },
  {
   "cell_type": "code",
   "execution_count": null,
   "metadata": {},
   "outputs": [],
   "source": [
    "import sys\n",
    "module_path = \"D:\\PythonProject\\data-gatherer\\common\"\n",
    "sys.path.append(module_path)\n",
    "import dbconnect\n",
    "\n",
    "conn = dbconnect.db_connect(\"DEMO_DW\")\n",
    "cur = conn.cursor()\n",
    "\n",
    "# 한꺼번에 저장할 경우 Error 발생. 구군 지역별로 저장\n",
    "for region in dict_region_data.keys():\n",
    "    df_region_data = dict_region_data[region]\n",
    "    df_save_data = df_region_data[['kaptCode', 'kaptName', 'kaptAddr', 'codeSaleNm', 'codeHeatNm', 'kaptTarea', \\\n",
    "                                   'kaptDongCnt', 'kaptdaCnt', 'codeAptNm', 'hoCnt', 'codeMgrNm', 'codeHallNm',  \\\n",
    "                                   'kaptUsedate', 'kaptMparea_60', 'kaptMparea_85', 'kaptMparea_135', 'kaptMparea_136', \\\n",
    "                                   'privArea', 'bjdCode']]\n",
    "    # NaN 값을 공백으로 변환 (Table에 저장하기 위함)\n",
    "    df_save_data['codeSaleNm'] = df_save_data['codeSaleNm'].fillna('')\n",
    "    df_save_data['codeHeatNm'] = df_save_data['codeHeatNm'].fillna('')\n",
    "    df_save_data['codeAptNm'] = df_save_data['codeAptNm'].fillna('')\n",
    "    df_save_data['codeMgrNm'] = df_save_data['codeMgrNm'].fillna('')\n",
    "    df_save_data['codeHallNm'] = df_save_data['codeHallNm'].fillna('')\n",
    "    df_save_data['kaptUsedate'] = df_save_data['kaptUsedate'].fillna('')\n",
    "\n",
    "    # NaN 값을 0로 변환 (Table에 저장하기 위함)\n",
    "    df_save_data['kaptDongCnt'] = df_save_data['kaptDongCnt'].fillna(0)\n",
    "    df_save_data['hoCnt'] = df_save_data['hoCnt'].fillna(0)\n",
    "    \n",
    "    for row in df_save_data.itertuples():\n",
    "        sql = \"insert into molit_apt_daegu (kaptCode, kaptName, kaptAddr, codeSaleNm, codeHeatNm, kaptTarea, \\\n",
    "                                            kaptDongCnt, kaptdaCnt, codeAptNm, hoCnt, codeMgrNm, codeHallNm,  \\\n",
    "                                            kaptUsedate, kaptMparea_60, kaptMparea_85, kaptMparea_135, kaptMparea_136, \\\n",
    "                                            privArea, bjdCode) \\\n",
    "                values (%s, %s, %s, %s, %s, %s, %s, %s, %s, %s, %s, %s, %s, %s, %s, %s, %s, %s, %s)\"\n",
    "        cur.execute(sql, (row[1], row[2], row[3], row[4], row[5], row[6], row[7], row[8], row[9], row[10], \\\n",
    "                        row[11], row[12], row[13], row[14], row[15], row[16], row[17], row[18], row[19]))\n",
    "\n",
    "conn.commit()\n",
    "conn.close()"
   ]
  },
  {
   "cell_type": "code",
   "execution_count": 70,
   "metadata": {},
   "outputs": [],
   "source": [
    "\"\"\"\n",
    "import pymysql\n",
    "import sqlalchemy\n",
    "\n",
    "import sys\n",
    "module_path = \"D:\\PythonProject\\data-gatherer\\common\"\n",
    "sys.path.append(module_path)\n",
    "import dbconnect\n",
    "\n",
    "engine = dbconnect.db_engine(\"DEMO_DW\")\n",
    "\n",
    "# MySQL Connector using pymysql\n",
    "pymysql.install_as_MySQLdb()\n",
    "conn = engine.connect()\n",
    "\n",
    "#변수 타입 설정\n",
    "dtypesql_data = {'kaptCode' : sqlalchemy.types.CHAR(9),\n",
    "                 'kaptName' : sqlalchemy.types.VARCHAR(50),\n",
    "                 'kaptAddr' : sqlalchemy.types.VARCHAR(200),\n",
    "                 'codeSaleNm' : sqlalchemy.types.VARCHAR(50),\n",
    "                 'codeHeatNm' : sqlalchemy.types.VARCHAR(50),\n",
    "                 'kaptTarea' : sqlalchemy.types.DECIMAL(22,4),\n",
    "                 'kaptDongCnt' : sqlalchemy.types.INTEGER(),\n",
    "                 'kaptdaCnt' : sqlalchemy.types.INTEGER(),\n",
    "                 'codeAptNm' : sqlalchemy.types.VARCHAR(50), \n",
    "                 'hoCnt' : sqlalchemy.types.INTEGER(),\n",
    "                 'codeMgrNm' : sqlalchemy.types.VARCHAR(50),\n",
    "                 'codeHallNm' : sqlalchemy.types.VARCHAR(50),\n",
    "                 'kaptUsedate' : sqlalchemy.types.CHAR(8),\n",
    "                 'kaptMparea_60' : sqlalchemy.types.INTEGER(),\n",
    "                 'kaptMparea_85' : sqlalchemy.types.INTEGER(),\n",
    "                 'kaptMparea_135' : sqlalchemy.types.INTEGER(),\n",
    "                 'kaptMparea_136' : sqlalchemy.types.INTEGER(),\n",
    "                 'privArea' : sqlalchemy.types.DECIMAL(22,4),\n",
    "                 'bjdCode' : sqlalchemy.types.CHAR(10)}\n",
    "\n",
    "df_save_data.to_sql(name='molit_apt_daegu', con=engine, if_exists='replace', index=True, dtype=dtypesql_data) \n",
    "\n",
    "conn.commit()\n",
    "conn.close()\n",
    "\"\"\""
   ]
  },
  {
   "cell_type": "code",
   "execution_count": null,
   "metadata": {},
   "outputs": [],
   "source": [
    "\"\"\"\n",
    "import sys\n",
    "module_path = \"D:\\PythonProject\\data-gatherer\\common\"\n",
    "sys.path.append(module_path)\n",
    "import dbconnect\n",
    "\n",
    "conn = dbconnect.db_connect(\"DEMO_DW\")\n",
    "cur = conn.cursor()\n",
    "\n",
    "for row in df_save_data.itertuples():\n",
    "    sql = \"insert into molit_apt_daegu (kaptCode, kaptName, kaptAddr, codeSaleNm, codeHeatNm, kaptTarea, \\\n",
    "                                        kaptDongCnt, kaptdaCnt, codeAptNm, hoCnt, codeMgrNm, codeHallNm,  \\\n",
    "                                        kaptUsedate, kaptMparea_60, kaptMparea_85, kaptMparea_135, kaptMparea_136, \\\n",
    "                                        privArea, bjdCode) \\\n",
    "            values (%s, %s, %s, %s, %s, %s, %s, %s, %s, %s, %s, %s, %s, %s, %s, %s, %s, %s, %s)\"\n",
    "    cur.execute(sql, (row[1], row[2], row[3], row[4], row[5], row[6], row[7], row[8], row[9], row[10], \\\n",
    "                      row[11], row[12], row[13], row[14], row[15], row[16], row[17], row[18], row[19]))\n",
    "\n",
    "conn.commit()\n",
    "conn.close()\n",
    "\"\"\""
   ]
  }
 ],
 "metadata": {
  "kernelspec": {
   "display_name": "data-gatherer-venv",
   "language": "python",
   "name": "python3"
  },
  "language_info": {
   "codemirror_mode": {
    "name": "ipython",
    "version": 3
   },
   "file_extension": ".py",
   "mimetype": "text/x-python",
   "name": "python",
   "nbconvert_exporter": "python",
   "pygments_lexer": "ipython3",
   "version": "3.10.8"
  },
  "orig_nbformat": 4
 },
 "nbformat": 4,
 "nbformat_minor": 2
}
