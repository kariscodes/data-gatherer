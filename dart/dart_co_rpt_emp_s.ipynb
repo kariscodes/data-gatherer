{
 "cells": [
  {
   "attachments": {},
   "cell_type": "markdown",
   "metadata": {},
   "source": [
    "### 사업보고서 - 직원 현황 : 단일 회사(상장기업)"
   ]
  },
  {
   "cell_type": "code",
   "execution_count": 56,
   "metadata": {},
   "outputs": [],
   "source": [
    "import requests\n",
    "\n",
    "url = 'https://opendart.fss.or.kr/api/empSttus.json'\n",
    "api_key = 'f2e08d4ed3de0ba3d5cbf59c04c223e02b1751a2'\n",
    "corp_code = '01208885'\n",
    "# corp_codes = \\\n",
    "# ['01208885',\n",
    "#  '00787376',\n",
    "#  '00123967',\n",
    "#  '00128555',\n",
    "#  '00130684',\n",
    "#  '00152011',\n",
    "#  '00145862']\n",
    "\n",
    "# report code\n",
    "# 1분기보고서 : 11013\n",
    "# 반기보고서 : 11012\n",
    "# 3분기보고서 : 11014\n",
    "# 사업보고서 : 11011\n",
    "params = {\n",
    "    'corp_code': corp_code,\n",
    "    'bsns_year': 2022,\n",
    "    'reprt_code': 11011,\n",
    "    'crtfc_key': api_key,\n",
    "}\n",
    "\n",
    "response = requests.get(url, params=params)\n",
    "if response.status_code != 200:     # URL GET '200 정상'\n",
    "    print(\"URL GET Error\")"
   ]
  },
  {
   "cell_type": "code",
   "execution_count": 57,
   "metadata": {},
   "outputs": [
    {
     "data": {
      "text/plain": [
       "{'status': '000',\n",
       " 'message': '정상',\n",
       " 'list': [{'rcept_no': '20230314001158',\n",
       "   'corp_cls': 'Y',\n",
       "   'corp_code': '01208885',\n",
       "   'corp_name': '경동도시가스',\n",
       "   'sexdstn': '남',\n",
       "   'fo_bbm': '도시가스',\n",
       "   'reform_bfe_emp_co_rgllbr': '-',\n",
       "   'reform_bfe_emp_co_cnttk': '-',\n",
       "   'reform_bfe_emp_co_etc': '-',\n",
       "   'rgllbr_co': '243',\n",
       "   'rgllbr_abacpt_labrr_co': '-',\n",
       "   'cnttk_co': '28',\n",
       "   'cnttk_abacpt_labrr_co': '-',\n",
       "   'sm': '271',\n",
       "   'avrg_cnwk_sdytrn': '18년 1개월',\n",
       "   'fyer_salary_totamt': '26,255,973,000',\n",
       "   'jan_salary_am': '96,886,000',\n",
       "   'rm': '-'},\n",
       "  {'rcept_no': '20230314001158',\n",
       "   'corp_cls': 'Y',\n",
       "   'corp_code': '01208885',\n",
       "   'corp_name': '경동도시가스',\n",
       "   'sexdstn': '여',\n",
       "   'fo_bbm': '도시가스',\n",
       "   'reform_bfe_emp_co_rgllbr': '-',\n",
       "   'reform_bfe_emp_co_cnttk': '-',\n",
       "   'reform_bfe_emp_co_etc': '-',\n",
       "   'rgllbr_co': '19',\n",
       "   'rgllbr_abacpt_labrr_co': '-',\n",
       "   'cnttk_co': '5',\n",
       "   'cnttk_abacpt_labrr_co': '-',\n",
       "   'sm': '24',\n",
       "   'avrg_cnwk_sdytrn': '15년 6개월',\n",
       "   'fyer_salary_totamt': '1,951,041,000',\n",
       "   'jan_salary_am': '81,293,000',\n",
       "   'rm': '-'}]}"
      ]
     },
     "execution_count": 57,
     "metadata": {},
     "output_type": "execute_result"
    }
   ],
   "source": [
    "response.json()"
   ]
  },
  {
   "cell_type": "code",
   "execution_count": 58,
   "metadata": {},
   "outputs": [],
   "source": [
    "# 데이터프레임 형태로 변환\n",
    "import pandas as pd\n",
    "corp_employee = pd.json_normalize(response.json()['list'])"
   ]
  },
  {
   "cell_type": "code",
   "execution_count": 59,
   "metadata": {},
   "outputs": [
    {
     "data": {
      "text/html": [
       "<div>\n",
       "<style scoped>\n",
       "    .dataframe tbody tr th:only-of-type {\n",
       "        vertical-align: middle;\n",
       "    }\n",
       "\n",
       "    .dataframe tbody tr th {\n",
       "        vertical-align: top;\n",
       "    }\n",
       "\n",
       "    .dataframe thead th {\n",
       "        text-align: right;\n",
       "    }\n",
       "</style>\n",
       "<table border=\"1\" class=\"dataframe\">\n",
       "  <thead>\n",
       "    <tr style=\"text-align: right;\">\n",
       "      <th></th>\n",
       "      <th>rcept_no</th>\n",
       "      <th>corp_cls</th>\n",
       "      <th>corp_code</th>\n",
       "      <th>corp_name</th>\n",
       "      <th>sexdstn</th>\n",
       "      <th>fo_bbm</th>\n",
       "      <th>reform_bfe_emp_co_rgllbr</th>\n",
       "      <th>reform_bfe_emp_co_cnttk</th>\n",
       "      <th>reform_bfe_emp_co_etc</th>\n",
       "      <th>rgllbr_co</th>\n",
       "      <th>rgllbr_abacpt_labrr_co</th>\n",
       "      <th>cnttk_co</th>\n",
       "      <th>cnttk_abacpt_labrr_co</th>\n",
       "      <th>sm</th>\n",
       "      <th>avrg_cnwk_sdytrn</th>\n",
       "      <th>fyer_salary_totamt</th>\n",
       "      <th>jan_salary_am</th>\n",
       "      <th>rm</th>\n",
       "    </tr>\n",
       "  </thead>\n",
       "  <tbody>\n",
       "    <tr>\n",
       "      <th>0</th>\n",
       "      <td>20230314001158</td>\n",
       "      <td>Y</td>\n",
       "      <td>01208885</td>\n",
       "      <td>경동도시가스</td>\n",
       "      <td>남</td>\n",
       "      <td>도시가스</td>\n",
       "      <td>-</td>\n",
       "      <td>-</td>\n",
       "      <td>-</td>\n",
       "      <td>243</td>\n",
       "      <td>-</td>\n",
       "      <td>28</td>\n",
       "      <td>-</td>\n",
       "      <td>271</td>\n",
       "      <td>18년 1개월</td>\n",
       "      <td>26,255,973,000</td>\n",
       "      <td>96,886,000</td>\n",
       "      <td>-</td>\n",
       "    </tr>\n",
       "    <tr>\n",
       "      <th>1</th>\n",
       "      <td>20230314001158</td>\n",
       "      <td>Y</td>\n",
       "      <td>01208885</td>\n",
       "      <td>경동도시가스</td>\n",
       "      <td>여</td>\n",
       "      <td>도시가스</td>\n",
       "      <td>-</td>\n",
       "      <td>-</td>\n",
       "      <td>-</td>\n",
       "      <td>19</td>\n",
       "      <td>-</td>\n",
       "      <td>5</td>\n",
       "      <td>-</td>\n",
       "      <td>24</td>\n",
       "      <td>15년 6개월</td>\n",
       "      <td>1,951,041,000</td>\n",
       "      <td>81,293,000</td>\n",
       "      <td>-</td>\n",
       "    </tr>\n",
       "  </tbody>\n",
       "</table>\n",
       "</div>"
      ],
      "text/plain": [
       "         rcept_no corp_cls corp_code corp_name sexdstn fo_bbm  \\\n",
       "0  20230314001158        Y  01208885    경동도시가스       남   도시가스   \n",
       "1  20230314001158        Y  01208885    경동도시가스       여   도시가스   \n",
       "\n",
       "  reform_bfe_emp_co_rgllbr reform_bfe_emp_co_cnttk reform_bfe_emp_co_etc  \\\n",
       "0                        -                       -                     -   \n",
       "1                        -                       -                     -   \n",
       "\n",
       "  rgllbr_co rgllbr_abacpt_labrr_co cnttk_co cnttk_abacpt_labrr_co   sm  \\\n",
       "0       243                      -       28                     -  271   \n",
       "1        19                      -        5                     -   24   \n",
       "\n",
       "  avrg_cnwk_sdytrn fyer_salary_totamt jan_salary_am rm  \n",
       "0          18년 1개월     26,255,973,000    96,886,000  -  \n",
       "1          15년 6개월      1,951,041,000    81,293,000  -  "
      ]
     },
     "execution_count": 59,
     "metadata": {},
     "output_type": "execute_result"
    }
   ],
   "source": [
    "# fo_bbm    사업부문\n",
    "# rgllbr_co 정규직 수\n",
    "# cnttk_co  계약직 수\n",
    "# sm        합계\n",
    "# avrg_cnwk_sdytrn  평균 근속 연수\n",
    "# fyer_salary_totamt  연간 급여 총액\n",
    "# jan_salary_am     1인평균 급여액\n",
    "corp_employee"
   ]
  },
  {
   "cell_type": "code",
   "execution_count": 60,
   "metadata": {},
   "outputs": [
    {
     "data": {
      "text/html": [
       "<div>\n",
       "<style scoped>\n",
       "    .dataframe tbody tr th:only-of-type {\n",
       "        vertical-align: middle;\n",
       "    }\n",
       "\n",
       "    .dataframe tbody tr th {\n",
       "        vertical-align: top;\n",
       "    }\n",
       "\n",
       "    .dataframe thead th {\n",
       "        text-align: right;\n",
       "    }\n",
       "</style>\n",
       "<table border=\"1\" class=\"dataframe\">\n",
       "  <thead>\n",
       "    <tr style=\"text-align: right;\">\n",
       "      <th></th>\n",
       "      <th></th>\n",
       "      <th>rgl_emp</th>\n",
       "    </tr>\n",
       "    <tr>\n",
       "      <th>corp_code</th>\n",
       "      <th>corp_name</th>\n",
       "      <th></th>\n",
       "    </tr>\n",
       "  </thead>\n",
       "  <tbody>\n",
       "    <tr>\n",
       "      <th>01208885</th>\n",
       "      <th>경동도시가스</th>\n",
       "      <td>262</td>\n",
       "    </tr>\n",
       "  </tbody>\n",
       "</table>\n",
       "</div>"
      ],
      "text/plain": [
       "                     rgl_emp\n",
       "corp_code corp_name         \n",
       "01208885  경동도시가스         262"
      ]
     },
     "execution_count": 60,
     "metadata": {},
     "output_type": "execute_result"
    }
   ],
   "source": [
    "corp_employee = corp_employee.astype({'rgllbr_co' : 'int'})\n",
    "corp_employee.groupby(['corp_code', 'corp_name']).agg(rgl_emp = ('rgllbr_co', 'sum'))"
   ]
  }
 ],
 "metadata": {
  "kernelspec": {
   "display_name": "Python 3",
   "language": "python",
   "name": "python3"
  },
  "language_info": {
   "codemirror_mode": {
    "name": "ipython",
    "version": 3
   },
   "file_extension": ".py",
   "mimetype": "text/x-python",
   "name": "python",
   "nbconvert_exporter": "python",
   "pygments_lexer": "ipython3",
   "version": "3.10.8"
  },
  "orig_nbformat": 4
 },
 "nbformat": 4,
 "nbformat_minor": 2
}
