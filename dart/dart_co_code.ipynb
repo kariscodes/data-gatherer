{
 "cells": [
  {
   "attachments": {},
   "cell_type": "markdown",
   "metadata": {},
   "source": [
    "## 기업 고유코드\n",
    "+ 작성: 임경호\n",
    "+ 금융감독원 OPEN DART https://opendart.fss.or.kr/"
   ]
  },
  {
   "cell_type": "code",
   "execution_count": 1,
   "metadata": {},
   "outputs": [],
   "source": [
    "import requests\n",
    "\n",
    "url = 'https://opendart.fss.or.kr/api/corpCode.xml'\n",
    "api_key = 'f2e08d4ed3de0ba3d5cbf59c04c223e02b1751a2'\n",
    "params = {\n",
    "    'crtfc_key': api_key,\n",
    "}\n",
    "\n",
    "response = requests.get(url, params=params)\n",
    "if response.status_code != 200:     # URL GET '200 정상'\n",
    "    print(\"URL GET Error\")"
   ]
  },
  {
   "cell_type": "code",
   "execution_count": 2,
   "metadata": {},
   "outputs": [],
   "source": [
    "import io\n",
    "import zipfile\n",
    "\n",
    "# 출력포멧이 Zip FILE (binary)\n",
    "f = io.BytesIO(response.content)\n",
    "zfile = zipfile.ZipFile(f)"
   ]
  },
  {
   "cell_type": "code",
   "execution_count": 3,
   "metadata": {},
   "outputs": [
    {
     "data": {
      "text/plain": [
       "['CORPCODE.xml']"
      ]
     },
     "execution_count": 3,
     "metadata": {},
     "output_type": "execute_result"
    }
   ],
   "source": [
    "zfile.namelist()"
   ]
  },
  {
   "cell_type": "code",
   "execution_count": 4,
   "metadata": {},
   "outputs": [],
   "source": [
    "import xmltodict\n",
    "# 압축된 파일에서 데이터를 읽습니다. xmltodict 모듈을 사용해서 압축이 해제된 xml 데이터를 파이썬의 OrderedDict 타입으로 변환합니다.\n",
    "xml_data = zfile.read(\"CORPCODE.xml\").decode(\"utf-8\")\n",
    "dict_data = xmltodict.parse(xml_data)"
   ]
  },
  {
   "cell_type": "code",
   "execution_count": 5,
   "metadata": {},
   "outputs": [],
   "source": [
    "# dict_data"
   ]
  },
  {
   "cell_type": "code",
   "execution_count": 5,
   "metadata": {},
   "outputs": [],
   "source": [
    "import pandas as pd\n",
    "# 딕셔너리에서 키 값을 확인하여 실제 데이터가 있는 부분을 인덱싱합니다. 그러다음 해당 데이터를 판다스의 데이터프레임 객체로 변환합니다.\n",
    "data_list = dict_data['result']['list']\n",
    "df_corp = pd.DataFrame(data_list)"
   ]
  },
  {
   "cell_type": "code",
   "execution_count": 7,
   "metadata": {},
   "outputs": [],
   "source": [
    "# df_corp.dtypes\n",
    "# df_corp.head()"
   ]
  },
  {
   "cell_type": "code",
   "execution_count": 8,
   "metadata": {},
   "outputs": [],
   "source": [
    "# corp_name 문자열 최대 길이 자리수\n",
    "# df_corp['corp_name'].str.len().max()"
   ]
  },
  {
   "cell_type": "code",
   "execution_count": 6,
   "metadata": {},
   "outputs": [
    {
     "data": {
      "text/html": [
       "<div>\n",
       "<style scoped>\n",
       "    .dataframe tbody tr th:only-of-type {\n",
       "        vertical-align: middle;\n",
       "    }\n",
       "\n",
       "    .dataframe tbody tr th {\n",
       "        vertical-align: top;\n",
       "    }\n",
       "\n",
       "    .dataframe thead th {\n",
       "        text-align: right;\n",
       "    }\n",
       "</style>\n",
       "<table border=\"1\" class=\"dataframe\">\n",
       "  <thead>\n",
       "    <tr style=\"text-align: right;\">\n",
       "      <th></th>\n",
       "      <th>corp_code</th>\n",
       "      <th>corp_name</th>\n",
       "      <th>stock_code</th>\n",
       "      <th>modify_date</th>\n",
       "    </tr>\n",
       "  </thead>\n",
       "  <tbody>\n",
       "    <tr>\n",
       "      <th>81059</th>\n",
       "      <td>01208885</td>\n",
       "      <td>경동도시가스</td>\n",
       "      <td>267290</td>\n",
       "      <td>20230215</td>\n",
       "    </tr>\n",
       "    <tr>\n",
       "      <th>78531</th>\n",
       "      <td>00787376</td>\n",
       "      <td>대성에너지</td>\n",
       "      <td>117580</td>\n",
       "      <td>20230213</td>\n",
       "    </tr>\n",
       "    <tr>\n",
       "      <th>63127</th>\n",
       "      <td>00123967</td>\n",
       "      <td>부산도시가스</td>\n",
       "      <td>015350</td>\n",
       "      <td>20220217</td>\n",
       "    </tr>\n",
       "    <tr>\n",
       "      <th>85236</th>\n",
       "      <td>00128555</td>\n",
       "      <td>삼천리</td>\n",
       "      <td>004690</td>\n",
       "      <td>20230106</td>\n",
       "    </tr>\n",
       "    <tr>\n",
       "      <th>76534</th>\n",
       "      <td>00130684</td>\n",
       "      <td>서울도시가스</td>\n",
       "      <td>017390</td>\n",
       "      <td>20221205</td>\n",
       "    </tr>\n",
       "    <tr>\n",
       "      <th>82613</th>\n",
       "      <td>00152011</td>\n",
       "      <td>씨엔씨티에너지</td>\n",
       "      <td>None</td>\n",
       "      <td>20221214</td>\n",
       "    </tr>\n",
       "    <tr>\n",
       "      <th>98132</th>\n",
       "      <td>00145862</td>\n",
       "      <td>인천도시가스</td>\n",
       "      <td>034590</td>\n",
       "      <td>20230320</td>\n",
       "    </tr>\n",
       "  </tbody>\n",
       "</table>\n",
       "</div>"
      ],
      "text/plain": [
       "      corp_code corp_name stock_code modify_date\n",
       "81059  01208885    경동도시가스     267290    20230215\n",
       "78531  00787376     대성에너지     117580    20230213\n",
       "63127  00123967    부산도시가스     015350    20220217\n",
       "85236  00128555       삼천리     004690    20230106\n",
       "76534  00130684    서울도시가스     017390    20221205\n",
       "82613  00152011   씨엔씨티에너지       None    20221214\n",
       "98132  00145862    인천도시가스     034590    20230320"
      ]
     },
     "execution_count": 6,
     "metadata": {},
     "output_type": "execute_result"
    }
   ],
   "source": [
    "corp_name = ['대성에너지', '삼천리', '경동도시가스', '서울도시가스', '인천도시가스', '부산도시가스', '씨엔씨티에너지']\n",
    "df_corp_save = df_corp.query('corp_name in @corp_name').sort_values('corp_name')\n",
    "df_corp_save"
   ]
  },
  {
   "cell_type": "code",
   "execution_count": 7,
   "metadata": {},
   "outputs": [
    {
     "data": {
      "text/html": [
       "<div>\n",
       "<style scoped>\n",
       "    .dataframe tbody tr th:only-of-type {\n",
       "        vertical-align: middle;\n",
       "    }\n",
       "\n",
       "    .dataframe tbody tr th {\n",
       "        vertical-align: top;\n",
       "    }\n",
       "\n",
       "    .dataframe thead th {\n",
       "        text-align: right;\n",
       "    }\n",
       "</style>\n",
       "<table border=\"1\" class=\"dataframe\">\n",
       "  <thead>\n",
       "    <tr style=\"text-align: right;\">\n",
       "      <th></th>\n",
       "      <th>corp_code</th>\n",
       "      <th>corp_name</th>\n",
       "      <th>stock_code</th>\n",
       "      <th>modify_date</th>\n",
       "    </tr>\n",
       "  </thead>\n",
       "  <tbody>\n",
       "    <tr>\n",
       "      <th>81059</th>\n",
       "      <td>01208885</td>\n",
       "      <td>경동도시가스</td>\n",
       "      <td>267290</td>\n",
       "      <td>20230215</td>\n",
       "    </tr>\n",
       "    <tr>\n",
       "      <th>78531</th>\n",
       "      <td>00787376</td>\n",
       "      <td>대성에너지</td>\n",
       "      <td>117580</td>\n",
       "      <td>20230213</td>\n",
       "    </tr>\n",
       "    <tr>\n",
       "      <th>63127</th>\n",
       "      <td>00123967</td>\n",
       "      <td>부산도시가스</td>\n",
       "      <td>015350</td>\n",
       "      <td>20220217</td>\n",
       "    </tr>\n",
       "    <tr>\n",
       "      <th>85236</th>\n",
       "      <td>00128555</td>\n",
       "      <td>삼천리</td>\n",
       "      <td>004690</td>\n",
       "      <td>20230106</td>\n",
       "    </tr>\n",
       "    <tr>\n",
       "      <th>76534</th>\n",
       "      <td>00130684</td>\n",
       "      <td>서울도시가스</td>\n",
       "      <td>017390</td>\n",
       "      <td>20221205</td>\n",
       "    </tr>\n",
       "    <tr>\n",
       "      <th>82613</th>\n",
       "      <td>00152011</td>\n",
       "      <td>씨엔씨티에너지</td>\n",
       "      <td></td>\n",
       "      <td>20221214</td>\n",
       "    </tr>\n",
       "    <tr>\n",
       "      <th>98132</th>\n",
       "      <td>00145862</td>\n",
       "      <td>인천도시가스</td>\n",
       "      <td>034590</td>\n",
       "      <td>20230320</td>\n",
       "    </tr>\n",
       "  </tbody>\n",
       "</table>\n",
       "</div>"
      ],
      "text/plain": [
       "      corp_code corp_name stock_code modify_date\n",
       "81059  01208885    경동도시가스     267290    20230215\n",
       "78531  00787376     대성에너지     117580    20230213\n",
       "63127  00123967    부산도시가스     015350    20220217\n",
       "85236  00128555       삼천리     004690    20230106\n",
       "76534  00130684    서울도시가스     017390    20221205\n",
       "82613  00152011   씨엔씨티에너지               20221214\n",
       "98132  00145862    인천도시가스     034590    20230320"
      ]
     },
     "execution_count": 7,
     "metadata": {},
     "output_type": "execute_result"
    }
   ],
   "source": [
    "df_corp_save['stock_code'].fillna('', inplace=True)\n",
    "df_corp_save"
   ]
  },
  {
   "attachments": {},
   "cell_type": "markdown",
   "metadata": {},
   "source": [
    "### 코드 리스트를 DB Table에 저장"
   ]
  },
  {
   "cell_type": "code",
   "execution_count": 20,
   "metadata": {},
   "outputs": [],
   "source": [
    "import sys\n",
    "module_path = \"D:\\PythonProject\\data-gatherer\\common\"\n",
    "sys.path.append(module_path)\n",
    "import dbconnect\n",
    "\n",
    "conn = dbconnect.db_connect(\"DEMO_DW\")\n",
    "cur = conn.cursor()\n",
    "\n",
    "for row in df_corp_save.itertuples():\n",
    "    sql = \"insert into dart_co_code(corp_code, corp_name, stock_code, modify_date) values (%s, %s, %s, %s)\"\n",
    "    cur.execute(sql, (row[1], row[2], row[3], row[4]))\n",
    "\n",
    "conn.commit()\n",
    "conn.close()"
   ]
  },
  {
   "cell_type": "code",
   "execution_count": null,
   "metadata": {},
   "outputs": [
    {
     "data": {
      "text/plain": [
       "['01208885',\n",
       " '00787376',\n",
       " '00123967',\n",
       " '00128555',\n",
       " '00130684',\n",
       " '00152011',\n",
       " '00145862']"
      ]
     },
     "execution_count": 27,
     "metadata": {},
     "output_type": "execute_result"
    }
   ],
   "source": [
    "df_corp.query('corp_name in @corp_name').sort_values('corp_name')['corp_code'].to_list()"
   ]
  },
  {
   "cell_type": "code",
   "execution_count": null,
   "metadata": {},
   "outputs": [
    {
     "data": {
      "text/plain": [
       "['267290', '117580', '015350', '004690', '017390', None, '034590']"
      ]
     },
     "execution_count": 28,
     "metadata": {},
     "output_type": "execute_result"
    }
   ],
   "source": [
    "# ticker (stock_code)\n",
    "df_corp.query('corp_name in @corp_name').sort_values('corp_name')['stock_code'].to_list()"
   ]
  },
  {
   "cell_type": "code",
   "execution_count": null,
   "metadata": {},
   "outputs": [
    {
     "data": {
      "text/html": [
       "<div>\n",
       "<style scoped>\n",
       "    .dataframe tbody tr th:only-of-type {\n",
       "        vertical-align: middle;\n",
       "    }\n",
       "\n",
       "    .dataframe tbody tr th {\n",
       "        vertical-align: top;\n",
       "    }\n",
       "\n",
       "    .dataframe thead th {\n",
       "        text-align: right;\n",
       "    }\n",
       "</style>\n",
       "<table border=\"1\" class=\"dataframe\">\n",
       "  <thead>\n",
       "    <tr style=\"text-align: right;\">\n",
       "      <th></th>\n",
       "      <th>corp_code</th>\n",
       "      <th>corp_name</th>\n",
       "      <th>stock_code</th>\n",
       "      <th>modify_date</th>\n",
       "    </tr>\n",
       "  </thead>\n",
       "  <tbody>\n",
       "    <tr>\n",
       "      <th>82676</th>\n",
       "      <td>00152011</td>\n",
       "      <td>씨엔씨티에너지</td>\n",
       "      <td>None</td>\n",
       "      <td>20221214</td>\n",
       "    </tr>\n",
       "  </tbody>\n",
       "</table>\n",
       "</div>"
      ],
      "text/plain": [
       "      corp_code corp_name stock_code modify_date\n",
       "82676  00152011   씨엔씨티에너지       None    20221214"
      ]
     },
     "execution_count": 29,
     "metadata": {},
     "output_type": "execute_result"
    }
   ],
   "source": [
    "# 회사명에 특정 문자열을 포함한 목록 찾기\n",
    "df_corp[df_corp['corp_name'].str.contains('씨엔씨티')]"
   ]
  }
 ],
 "metadata": {
  "kernelspec": {
   "display_name": "data-gatherer-venv",
   "language": "python",
   "name": "python3"
  },
  "language_info": {
   "codemirror_mode": {
    "name": "ipython",
    "version": 3
   },
   "file_extension": ".py",
   "mimetype": "text/x-python",
   "name": "python",
   "nbconvert_exporter": "python",
   "pygments_lexer": "ipython3",
   "version": "3.10.8"
  },
  "orig_nbformat": 4
 },
 "nbformat": 4,
 "nbformat_minor": 2
}
