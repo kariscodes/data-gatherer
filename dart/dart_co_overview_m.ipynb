{
 "cells": [
  {
   "attachments": {},
   "cell_type": "markdown",
   "metadata": {},
   "source": [
    "### 기업 개황(Overview): 여러 회사"
   ]
  },
  {
   "cell_type": "code",
   "execution_count": 4,
   "metadata": {},
   "outputs": [],
   "source": [
    "import requests\n",
    "    \n",
    "url = 'https://opendart.fss.or.kr/api/company.json'\n",
    "api_key = 'f2e08d4ed3de0ba3d5cbf59c04c223e02b1751a2'\n",
    "\n",
    "corp_codes = \\\n",
    "['01208885',\n",
    " '00787376',\n",
    " '00123967',\n",
    " '00128555',\n",
    " '00130684',\n",
    " '00152011',\n",
    " '00145862']\n",
    "\n",
    "corp_list = []\n",
    "\n",
    "for corp_code in corp_codes:\n",
    "    params = {\n",
    "        'corp_code': corp_code,\n",
    "        'crtfc_key': api_key,\n",
    "    }\n",
    "    response = requests.get(url, params=params)\n",
    "    if response.status_code == 200:     # URL GET '200 정상'\n",
    "        corp_list.append(response.json())\n",
    "    else:\n",
    "        print(\"URL GET Error\", corp_code)"
   ]
  },
  {
   "cell_type": "code",
   "execution_count": 5,
   "metadata": {},
   "outputs": [
    {
     "data": {
      "text/plain": [
       "7"
      ]
     },
     "execution_count": 5,
     "metadata": {},
     "output_type": "execute_result"
    }
   ],
   "source": [
    "len(corp_list)"
   ]
  },
  {
   "cell_type": "code",
   "execution_count": 6,
   "metadata": {},
   "outputs": [],
   "source": [
    "# 데이터프레임 형태로 변환\n",
    "import pandas as pd\n",
    "df_all = pd.DataFrame()\n",
    "for corp_dict in corp_list:\n",
    "    df = pd.DataFrame.from_dict(corp_dict, orient='index')\n",
    "    df_t = df.transpose()\n",
    "    df_all = pd.concat([df_all, df_t])"
   ]
  },
  {
   "cell_type": "code",
   "execution_count": 7,
   "metadata": {},
   "outputs": [
    {
     "data": {
      "text/plain": [
       "status           object\n",
       "message          object\n",
       "corp_code        object\n",
       "corp_name        object\n",
       "corp_name_eng    object\n",
       "stock_name       object\n",
       "stock_code       object\n",
       "ceo_nm           object\n",
       "corp_cls         object\n",
       "jurir_no         object\n",
       "bizr_no          object\n",
       "adres            object\n",
       "hm_url           object\n",
       "ir_url           object\n",
       "phn_no           object\n",
       "fax_no           object\n",
       "induty_code      object\n",
       "est_dt           object\n",
       "acc_mt           object\n",
       "dtype: object"
      ]
     },
     "execution_count": 7,
     "metadata": {},
     "output_type": "execute_result"
    }
   ],
   "source": [
    "df_all.dtypes"
   ]
  },
  {
   "attachments": {},
   "cell_type": "markdown",
   "metadata": {},
   "source": [
    "- corp_cls      법인구분 : Y(유가), K(코스닥), N(코넥스), E(기타)\n",
    "- acc_mt        결산월"
   ]
  },
  {
   "cell_type": "code",
   "execution_count": 8,
   "metadata": {},
   "outputs": [
    {
     "data": {
      "text/html": [
       "<div>\n",
       "<style scoped>\n",
       "    .dataframe tbody tr th:only-of-type {\n",
       "        vertical-align: middle;\n",
       "    }\n",
       "\n",
       "    .dataframe tbody tr th {\n",
       "        vertical-align: top;\n",
       "    }\n",
       "\n",
       "    .dataframe thead th {\n",
       "        text-align: right;\n",
       "    }\n",
       "</style>\n",
       "<table border=\"1\" class=\"dataframe\">\n",
       "  <thead>\n",
       "    <tr style=\"text-align: right;\">\n",
       "      <th></th>\n",
       "      <th>corp_code</th>\n",
       "      <th>corp_name</th>\n",
       "      <th>ceo_nm</th>\n",
       "      <th>corp_cls</th>\n",
       "      <th>acc_mt</th>\n",
       "    </tr>\n",
       "  </thead>\n",
       "  <tbody>\n",
       "    <tr>\n",
       "      <th>0</th>\n",
       "      <td>01208885</td>\n",
       "      <td>(주)경동도시가스</td>\n",
       "      <td>송재호, 나윤호</td>\n",
       "      <td>Y</td>\n",
       "      <td>12</td>\n",
       "    </tr>\n",
       "    <tr>\n",
       "      <th>0</th>\n",
       "      <td>00787376</td>\n",
       "      <td>대성에너지(주)</td>\n",
       "      <td>대표이사 김영훈 대표이사 윤홍식</td>\n",
       "      <td>Y</td>\n",
       "      <td>12</td>\n",
       "    </tr>\n",
       "    <tr>\n",
       "      <th>0</th>\n",
       "      <td>00123967</td>\n",
       "      <td>(주)부산도시가스</td>\n",
       "      <td>구태고</td>\n",
       "      <td>E</td>\n",
       "      <td>12</td>\n",
       "    </tr>\n",
       "    <tr>\n",
       "      <th>0</th>\n",
       "      <td>00128555</td>\n",
       "      <td>삼천리(주)</td>\n",
       "      <td>이찬의, 유재권</td>\n",
       "      <td>Y</td>\n",
       "      <td>12</td>\n",
       "    </tr>\n",
       "    <tr>\n",
       "      <th>0</th>\n",
       "      <td>00130684</td>\n",
       "      <td>서울도시가스(주)</td>\n",
       "      <td>공동대표이사 박근원 공동대표이사 김진철</td>\n",
       "      <td>Y</td>\n",
       "      <td>12</td>\n",
       "    </tr>\n",
       "    <tr>\n",
       "      <th>0</th>\n",
       "      <td>00152011</td>\n",
       "      <td>씨엔씨티에너지주식회사</td>\n",
       "      <td>황인규,양대우</td>\n",
       "      <td>E</td>\n",
       "      <td>12</td>\n",
       "    </tr>\n",
       "    <tr>\n",
       "      <th>0</th>\n",
       "      <td>00145862</td>\n",
       "      <td>인천도시가스(주)</td>\n",
       "      <td>정진혁</td>\n",
       "      <td>Y</td>\n",
       "      <td>12</td>\n",
       "    </tr>\n",
       "  </tbody>\n",
       "</table>\n",
       "</div>"
      ],
      "text/plain": [
       "  corp_code    corp_name                 ceo_nm corp_cls acc_mt\n",
       "0  01208885    (주)경동도시가스               송재호, 나윤호        Y     12\n",
       "0  00787376     대성에너지(주)      대표이사 김영훈 대표이사 윤홍식        Y     12\n",
       "0  00123967    (주)부산도시가스                    구태고        E     12\n",
       "0  00128555       삼천리(주)               이찬의, 유재권        Y     12\n",
       "0  00130684    서울도시가스(주)  공동대표이사 박근원 공동대표이사 김진철        Y     12\n",
       "0  00152011  씨엔씨티에너지주식회사                황인규,양대우        E     12\n",
       "0  00145862    인천도시가스(주)                    정진혁        Y     12"
      ]
     },
     "execution_count": 8,
     "metadata": {},
     "output_type": "execute_result"
    }
   ],
   "source": [
    "df_all[['corp_code', 'corp_name', 'ceo_nm', 'corp_cls', 'acc_mt']]"
   ]
  },
  {
   "cell_type": "code",
   "execution_count": 12,
   "metadata": {},
   "outputs": [
    {
     "data": {
      "text/html": [
       "<div>\n",
       "<style scoped>\n",
       "    .dataframe tbody tr th:only-of-type {\n",
       "        vertical-align: middle;\n",
       "    }\n",
       "\n",
       "    .dataframe tbody tr th {\n",
       "        vertical-align: top;\n",
       "    }\n",
       "\n",
       "    .dataframe thead th {\n",
       "        text-align: right;\n",
       "    }\n",
       "</style>\n",
       "<table border=\"1\" class=\"dataframe\">\n",
       "  <thead>\n",
       "    <tr style=\"text-align: right;\">\n",
       "      <th></th>\n",
       "      <th>stock_code</th>\n",
       "      <th>corp_code</th>\n",
       "      <th>corp_name</th>\n",
       "      <th>ceo_nm</th>\n",
       "      <th>corp_cls</th>\n",
       "      <th>acc_mt</th>\n",
       "    </tr>\n",
       "  </thead>\n",
       "  <tbody>\n",
       "    <tr>\n",
       "      <th>0</th>\n",
       "      <td>267290</td>\n",
       "      <td>01208885</td>\n",
       "      <td>(주)경동도시가스</td>\n",
       "      <td>송재호, 나윤호</td>\n",
       "      <td>Y</td>\n",
       "      <td>12</td>\n",
       "    </tr>\n",
       "    <tr>\n",
       "      <th>0</th>\n",
       "      <td>117580</td>\n",
       "      <td>00787376</td>\n",
       "      <td>대성에너지(주)</td>\n",
       "      <td>대표이사 김영훈 대표이사 윤홍식</td>\n",
       "      <td>Y</td>\n",
       "      <td>12</td>\n",
       "    </tr>\n",
       "    <tr>\n",
       "      <th>0</th>\n",
       "      <td>004690</td>\n",
       "      <td>00128555</td>\n",
       "      <td>삼천리(주)</td>\n",
       "      <td>이찬의, 유재권</td>\n",
       "      <td>Y</td>\n",
       "      <td>12</td>\n",
       "    </tr>\n",
       "    <tr>\n",
       "      <th>0</th>\n",
       "      <td>017390</td>\n",
       "      <td>00130684</td>\n",
       "      <td>서울도시가스(주)</td>\n",
       "      <td>공동대표이사 박근원 공동대표이사 김진철</td>\n",
       "      <td>Y</td>\n",
       "      <td>12</td>\n",
       "    </tr>\n",
       "    <tr>\n",
       "      <th>0</th>\n",
       "      <td>034590</td>\n",
       "      <td>00145862</td>\n",
       "      <td>인천도시가스(주)</td>\n",
       "      <td>정진혁</td>\n",
       "      <td>Y</td>\n",
       "      <td>12</td>\n",
       "    </tr>\n",
       "  </tbody>\n",
       "</table>\n",
       "</div>"
      ],
      "text/plain": [
       "  stock_code corp_code  corp_name                 ceo_nm corp_cls acc_mt\n",
       "0     267290  01208885  (주)경동도시가스               송재호, 나윤호        Y     12\n",
       "0     117580  00787376   대성에너지(주)      대표이사 김영훈 대표이사 윤홍식        Y     12\n",
       "0     004690  00128555     삼천리(주)               이찬의, 유재권        Y     12\n",
       "0     017390  00130684  서울도시가스(주)  공동대표이사 박근원 공동대표이사 김진철        Y     12\n",
       "0     034590  00145862  인천도시가스(주)                    정진혁        Y     12"
      ]
     },
     "execution_count": 12,
     "metadata": {},
     "output_type": "execute_result"
    }
   ],
   "source": [
    "df_listed_corp = df_all[df_all['corp_cls'] != \"E\"]\n",
    "df_listed_corp[['stock_code', 'corp_code', 'corp_name', 'ceo_nm', 'corp_cls', 'acc_mt']]"
   ]
  },
  {
   "cell_type": "code",
   "execution_count": 14,
   "metadata": {},
   "outputs": [
    {
     "data": {
      "text/plain": [
       "['267290', '117580', '004690', '017390', '034590']"
      ]
     },
     "execution_count": 14,
     "metadata": {},
     "output_type": "execute_result"
    }
   ],
   "source": [
    "df_listed_corp['stock_code'].to_list()"
   ]
  }
 ],
 "metadata": {
  "kernelspec": {
   "display_name": "Python 3",
   "language": "python",
   "name": "python3"
  },
  "language_info": {
   "codemirror_mode": {
    "name": "ipython",
    "version": 3
   },
   "file_extension": ".py",
   "mimetype": "text/x-python",
   "name": "python",
   "nbconvert_exporter": "python",
   "pygments_lexer": "ipython3",
   "version": "3.10.8"
  },
  "orig_nbformat": 4
 },
 "nbformat": 4,
 "nbformat_minor": 2
}
