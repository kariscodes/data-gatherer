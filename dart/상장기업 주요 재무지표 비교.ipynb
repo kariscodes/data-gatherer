{
 "cells": [
  {
   "attachments": {},
   "cell_type": "markdown",
   "metadata": {},
   "source": [
    "## 상장기업 재무정보 - 다중회사 주요 재무지표\n",
    "+ 작성: 임경호\n",
    "+ 금융감독원 OPEN DART https://opendart.fss.or.kr/"
   ]
  },
  {
   "cell_type": "markdown",
   "metadata": {},
   "source": [
    "### 1. 대상 회사/연도/보고서 설정 및 주요 재무지표 정보 가져오기"
   ]
  },
  {
   "cell_type": "markdown",
   "metadata": {},
   "source": [
    "> 보고서코드\n",
    "* 1분기보고서 : 11013\n",
    "* 반기보고서 : 11012\n",
    "* 3분기보고서 : 11014\n",
    "* 사업보고서 : 11011"
   ]
  },
  {
   "cell_type": "markdown",
   "metadata": {},
   "source": [
    "> 지표분류코드\n",
    "* 수익성지표 : M210000\n",
    "* 안정성지표 : M220000\n",
    "* 성장성지표 : M230000\n",
    "* 활동성지표 : M240000"
   ]
  },
  {
   "cell_type": "code",
   "execution_count": 1,
   "metadata": {},
   "outputs": [],
   "source": [
    "import requests\n",
    "import pandas as pd\n",
    "\n",
    "fiscal_year = '2023'\n",
    "report_code = '11014'  \n",
    "\n",
    "# 재무지표\n",
    "idx_classes = ['M210000', 'M220000', 'M230000', 'M240000']\n",
    "\n",
    "# 비교 대상 회사(순서별)\n",
    "dict_corp_codes = {\n",
    "    '00787376' : '대성에너지',\n",
    "    '00130684' : '서울도시가스',\n",
    "    '00128555' : '삼천리',\n",
    "    '01208885' : '경동도시가스'\n",
    "}"
   ]
  },
  {
   "cell_type": "code",
   "execution_count": 2,
   "metadata": {},
   "outputs": [],
   "source": [
    "\"\"\" 회사별 재무지표 정보 가져오기 (json format)\n",
    "※ 2023년 3분기 이후 부터 정보제공\n",
    "\"\"\"\n",
    "\n",
    "url = 'https://opendart.fss.or.kr/api/fnlttCmpnyIndx.json'\n",
    "api_key = 'f2e08d4ed3de0ba3d5cbf59c04c223e02b1751a2'\n",
    "\n",
    "dict_fi = {}\n",
    "\n",
    "for corp_code in dict_corp_codes.keys():\n",
    "    df_fi_all = pd.DataFrame()\n",
    "    for idx_class in idx_classes:\n",
    "        params = {\n",
    "            'corp_code': corp_code,\n",
    "            'bsns_year': fiscal_year,\n",
    "            'reprt_code': report_code,\n",
    "            'idx_cl_code': idx_class,            # OFS:재무제표\n",
    "            'crtfc_key': api_key,\n",
    "        }\n",
    "        response = requests.get(url, params=params)\n",
    "        if response.status_code != 200:             # URL GET 200 : 정상\n",
    "            print(\"URL GET Error\")\n",
    "        if response.json()['status'] == '000':      # 데이터 유무 '000' : 정상\n",
    "            # 데이터프레임 형태로 변환\n",
    "            df_fi = pd.json_normalize(response.json()['list'])\n",
    "            df_fi_all = pd.concat([df_fi_all, df_fi], axis=0, ignore_index=True)   # 합치기(행 기준)\n",
    "            \n",
    "    if not df_fi_all.empty:\n",
    "        dict_fi[corp_code] = df_fi_all"
   ]
  },
  {
   "cell_type": "code",
   "execution_count": 3,
   "metadata": {},
   "outputs": [
    {
     "data": {
      "text/plain": [
       "4"
      ]
     },
     "execution_count": 3,
     "metadata": {},
     "output_type": "execute_result"
    }
   ],
   "source": [
    "len(dict_fi)"
   ]
  },
  {
   "cell_type": "code",
   "execution_count": 4,
   "metadata": {},
   "outputs": [],
   "source": [
    "\"\"\" 재무지표 Category \"\"\"\n",
    "df_category = pd.DataFrame()\n",
    "# df_category.columns = ['reprt_code', 'bsns_year', 'idx_cl_code', 'idx_cl_nm', 'idx_code', 'idx_nm']\n",
    "for k, df in dict_fi.items():  \n",
    "    df_temp = df[['reprt_code', 'bsns_year', 'idx_cl_code', 'idx_cl_nm', 'idx_code', 'idx_nm']]\n",
    "    df_category = pd.concat([df_category, df_temp], axis=0, ignore_index=True)   # 합치기(행 기준)\n",
    "df_category.drop_duplicates(subset=None, keep='first', inplace=True, ignore_index=True)"
   ]
  },
  {
   "cell_type": "code",
   "execution_count": 5,
   "metadata": {},
   "outputs": [
    {
     "data": {
      "text/plain": [
       "66"
      ]
     },
     "execution_count": 5,
     "metadata": {},
     "output_type": "execute_result"
    }
   ],
   "source": [
    "len(df_category)"
   ]
  },
  {
   "cell_type": "code",
   "execution_count": 6,
   "metadata": {},
   "outputs": [
    {
     "data": {
      "text/plain": [
       "idx_cl_code  idx_cl_nm\n",
       "M220000      안정성지표        22\n",
       "M230000      성장성지표        18\n",
       "M210000      수익성지표        15\n",
       "M240000      활동성지표        11\n",
       "Name: count, dtype: int64"
      ]
     },
     "execution_count": 6,
     "metadata": {},
     "output_type": "execute_result"
    }
   ],
   "source": [
    "df_category[['idx_cl_code', 'idx_cl_nm']].value_counts()"
   ]
  },
  {
   "cell_type": "code",
   "execution_count": 7,
   "metadata": {},
   "outputs": [],
   "source": [
    "\"\"\" 회사별 비교 \"\"\"\n",
    "df_values = df_category\n",
    "for k, df in dict_fi.items():  \n",
    "    df_val = df[['idx_code', 'idx_val']]\n",
    "    corp_name = dict_corp_codes[k]\n",
    "    df_val.columns = ['idx_code', corp_name]    # idx_val 컬럼명을 corp_code로 변경\n",
    "    # # 열 병합\n",
    "    df_values = pd.merge(left=df_values, right=df_val, how='left', on='idx_code')"
   ]
  },
  {
   "cell_type": "code",
   "execution_count": 8,
   "metadata": {},
   "outputs": [
    {
     "data": {
      "text/html": [
       "<div>\n",
       "<style scoped>\n",
       "    .dataframe tbody tr th:only-of-type {\n",
       "        vertical-align: middle;\n",
       "    }\n",
       "\n",
       "    .dataframe tbody tr th {\n",
       "        vertical-align: top;\n",
       "    }\n",
       "\n",
       "    .dataframe thead th {\n",
       "        text-align: right;\n",
       "    }\n",
       "</style>\n",
       "<table border=\"1\" class=\"dataframe\">\n",
       "  <thead>\n",
       "    <tr style=\"text-align: right;\">\n",
       "      <th></th>\n",
       "      <th>reprt_code</th>\n",
       "      <th>bsns_year</th>\n",
       "      <th>idx_cl_code</th>\n",
       "      <th>idx_cl_nm</th>\n",
       "      <th>idx_code</th>\n",
       "      <th>idx_nm</th>\n",
       "      <th>대성에너지</th>\n",
       "      <th>서울도시가스</th>\n",
       "      <th>삼천리</th>\n",
       "      <th>경동도시가스</th>\n",
       "    </tr>\n",
       "  </thead>\n",
       "  <tbody>\n",
       "    <tr>\n",
       "      <th>0</th>\n",
       "      <td>11014</td>\n",
       "      <td>2023</td>\n",
       "      <td>M210000</td>\n",
       "      <td>수익성지표</td>\n",
       "      <td>M211100</td>\n",
       "      <td>세전계속사업이익률</td>\n",
       "      <td>NaN</td>\n",
       "      <td>NaN</td>\n",
       "      <td>NaN</td>\n",
       "      <td>NaN</td>\n",
       "    </tr>\n",
       "    <tr>\n",
       "      <th>1</th>\n",
       "      <td>11014</td>\n",
       "      <td>2023</td>\n",
       "      <td>M210000</td>\n",
       "      <td>수익성지표</td>\n",
       "      <td>M211200</td>\n",
       "      <td>순이익률</td>\n",
       "      <td>0.826</td>\n",
       "      <td>1.666</td>\n",
       "      <td>3.46</td>\n",
       "      <td>1.935</td>\n",
       "    </tr>\n",
       "    <tr>\n",
       "      <th>2</th>\n",
       "      <td>11014</td>\n",
       "      <td>2023</td>\n",
       "      <td>M210000</td>\n",
       "      <td>수익성지표</td>\n",
       "      <td>M211250</td>\n",
       "      <td>총포괄이익률</td>\n",
       "      <td>0.826</td>\n",
       "      <td>NaN</td>\n",
       "      <td>3.566</td>\n",
       "      <td>2.134</td>\n",
       "    </tr>\n",
       "    <tr>\n",
       "      <th>3</th>\n",
       "      <td>11014</td>\n",
       "      <td>2023</td>\n",
       "      <td>M210000</td>\n",
       "      <td>수익성지표</td>\n",
       "      <td>M211300</td>\n",
       "      <td>매출총이익률</td>\n",
       "      <td>13.357</td>\n",
       "      <td>12.743</td>\n",
       "      <td>10.353</td>\n",
       "      <td>6.981</td>\n",
       "    </tr>\n",
       "    <tr>\n",
       "      <th>4</th>\n",
       "      <td>11014</td>\n",
       "      <td>2023</td>\n",
       "      <td>M210000</td>\n",
       "      <td>수익성지표</td>\n",
       "      <td>M211400</td>\n",
       "      <td>매출원가율</td>\n",
       "      <td>86.643</td>\n",
       "      <td>87.257</td>\n",
       "      <td>89.647</td>\n",
       "      <td>93.019</td>\n",
       "    </tr>\n",
       "    <tr>\n",
       "      <th>...</th>\n",
       "      <td>...</td>\n",
       "      <td>...</td>\n",
       "      <td>...</td>\n",
       "      <td>...</td>\n",
       "      <td>...</td>\n",
       "      <td>...</td>\n",
       "      <td>...</td>\n",
       "      <td>...</td>\n",
       "      <td>...</td>\n",
       "      <td>...</td>\n",
       "    </tr>\n",
       "    <tr>\n",
       "      <th>61</th>\n",
       "      <td>11014</td>\n",
       "      <td>2023</td>\n",
       "      <td>M240000</td>\n",
       "      <td>활동성지표</td>\n",
       "      <td>M241600</td>\n",
       "      <td>유형자산회전율</td>\n",
       "      <td>142.604</td>\n",
       "      <td>207.916</td>\n",
       "      <td>183.152</td>\n",
       "      <td>400.382</td>\n",
       "    </tr>\n",
       "    <tr>\n",
       "      <th>62</th>\n",
       "      <td>11014</td>\n",
       "      <td>2023</td>\n",
       "      <td>M240000</td>\n",
       "      <td>활동성지표</td>\n",
       "      <td>M241800</td>\n",
       "      <td>타인자본회전율</td>\n",
       "      <td>162.528</td>\n",
       "      <td>183.482</td>\n",
       "      <td>138.081</td>\n",
       "      <td>267.167</td>\n",
       "    </tr>\n",
       "    <tr>\n",
       "      <th>63</th>\n",
       "      <td>11014</td>\n",
       "      <td>2023</td>\n",
       "      <td>M240000</td>\n",
       "      <td>활동성지표</td>\n",
       "      <td>M241900</td>\n",
       "      <td>자기자본회전율</td>\n",
       "      <td>220.279</td>\n",
       "      <td>109.223</td>\n",
       "      <td>257.175</td>\n",
       "      <td>318.045</td>\n",
       "    </tr>\n",
       "    <tr>\n",
       "      <th>64</th>\n",
       "      <td>11014</td>\n",
       "      <td>2023</td>\n",
       "      <td>M240000</td>\n",
       "      <td>활동성지표</td>\n",
       "      <td>M242000</td>\n",
       "      <td>자본금회전율</td>\n",
       "      <td>2509.143</td>\n",
       "      <td>3312.916</td>\n",
       "      <td>#########</td>\n",
       "      <td>8765.417</td>\n",
       "    </tr>\n",
       "    <tr>\n",
       "      <th>65</th>\n",
       "      <td>11014</td>\n",
       "      <td>2023</td>\n",
       "      <td>M240000</td>\n",
       "      <td>활동성지표</td>\n",
       "      <td>M451000</td>\n",
       "      <td>배당성향(%)</td>\n",
       "      <td>NaN</td>\n",
       "      <td>NaN</td>\n",
       "      <td>-7.179</td>\n",
       "      <td>20.626</td>\n",
       "    </tr>\n",
       "  </tbody>\n",
       "</table>\n",
       "<p>66 rows × 10 columns</p>\n",
       "</div>"
      ],
      "text/plain": [
       "   reprt_code bsns_year idx_cl_code idx_cl_nm idx_code     idx_nm     대성에너지  \\\n",
       "0       11014      2023     M210000     수익성지표  M211100  세전계속사업이익률       NaN   \n",
       "1       11014      2023     M210000     수익성지표  M211200       순이익률     0.826   \n",
       "2       11014      2023     M210000     수익성지표  M211250     총포괄이익률     0.826   \n",
       "3       11014      2023     M210000     수익성지표  M211300     매출총이익률    13.357   \n",
       "4       11014      2023     M210000     수익성지표  M211400      매출원가율    86.643   \n",
       "..        ...       ...         ...       ...      ...        ...       ...   \n",
       "61      11014      2023     M240000     활동성지표  M241600    유형자산회전율   142.604   \n",
       "62      11014      2023     M240000     활동성지표  M241800    타인자본회전율   162.528   \n",
       "63      11014      2023     M240000     활동성지표  M241900    자기자본회전율   220.279   \n",
       "64      11014      2023     M240000     활동성지표  M242000     자본금회전율  2509.143   \n",
       "65      11014      2023     M240000     활동성지표  M451000    배당성향(%)       NaN   \n",
       "\n",
       "      서울도시가스        삼천리    경동도시가스  \n",
       "0        NaN        NaN       NaN  \n",
       "1      1.666       3.46     1.935  \n",
       "2        NaN      3.566     2.134  \n",
       "3     12.743     10.353     6.981  \n",
       "4     87.257     89.647    93.019  \n",
       "..       ...        ...       ...  \n",
       "61   207.916    183.152   400.382  \n",
       "62   183.482    138.081   267.167  \n",
       "63   109.223    257.175   318.045  \n",
       "64  3312.916  #########  8765.417  \n",
       "65       NaN     -7.179    20.626  \n",
       "\n",
       "[66 rows x 10 columns]"
      ]
     },
     "execution_count": 8,
     "metadata": {},
     "output_type": "execute_result"
    }
   ],
   "source": [
    "df_values"
   ]
  },
  {
   "cell_type": "code",
   "execution_count": 9,
   "metadata": {},
   "outputs": [],
   "source": [
    "# 각 회사별로 가져온 데이터를 하나의 엑셀 파일에 각각의 시트로 생성\n",
    "filename = \".\".join([fiscal_year + \"_\" + report_code, \"xlsx\"])\n",
    "path = \"D:/PythonProject/data-gatherer/dart/data/\" + filename\n",
    "with pd.ExcelWriter(path) as writer:\n",
    "    df_values.to_excel(writer, sheet_name=\"ALL\")\n",
    "    # 각 회사별로 데이터 저장\n",
    "    for k, df in dict_fi.items():\n",
    "        df.to_excel(writer, sheet_name=k)"
   ]
  }
 ],
 "metadata": {
  "kernelspec": {
   "display_name": "Python 3",
   "language": "python",
   "name": "python3"
  },
  "language_info": {
   "codemirror_mode": {
    "name": "ipython",
    "version": 3
   },
   "file_extension": ".py",
   "mimetype": "text/x-python",
   "name": "python",
   "nbconvert_exporter": "python",
   "pygments_lexer": "ipython3",
   "version": "3.10.8"
  },
  "orig_nbformat": 4
 },
 "nbformat": 4,
 "nbformat_minor": 2
}
