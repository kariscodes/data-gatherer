{
 "cells": [
  {
   "attachments": {},
   "cell_type": "markdown",
   "metadata": {},
   "source": [
    "### 재무정보(전체 재무제표) - 단일 회사(상장기업) - 사업보고서"
   ]
  },
  {
   "cell_type": "code",
   "execution_count": 70,
   "metadata": {},
   "outputs": [],
   "source": [
    "fiscal_year = '2022'\n",
    "listed_corp_codes = \\\n",
    "['01208885',\n",
    " '00787376',\n",
    " '00128555',\n",
    " '00130684']"
   ]
  },
  {
   "cell_type": "code",
   "execution_count": 71,
   "metadata": {},
   "outputs": [],
   "source": [
    "# 재무제표 가져오기\n",
    "import requests\n",
    "import pandas as pd\n",
    "\n",
    "url = 'https://opendart.fss.or.kr/api/fnlttSinglAcntAll.json'\n",
    "api_key = 'f2e08d4ed3de0ba3d5cbf59c04c223e02b1751a2'\n",
    "df_fi_all = pd.DataFrame()\n",
    "\n",
    "for corp_code in listed_corp_codes:\n",
    "    params = {\n",
    "        'corp_code': corp_code,\n",
    "        'bsns_year': fiscal_year,\n",
    "        'reprt_code': '11011',      # 사업보고서\n",
    "        'fs_div': 'OFS',            # OFS:재무제표\n",
    "        'crtfc_key': api_key,\n",
    "    }\n",
    "    response = requests.get(url, params=params)\n",
    "    if response.status_code != 200:             # URL GET 200 : 정상\n",
    "        print(\"URL GET Error\")\n",
    "    if response.json()['status'] == '000':      # 데이터 유무 '000' : 정상\n",
    "        # 데이터프레임 형태로 변환\n",
    "        df_fi = pd.json_normalize(response.json()['list'])\n",
    "        if not df_fi.empty:\n",
    "            df_fi_all = pd.concat([df_fi_all, df_fi], ignore_index=True)"
   ]
  },
  {
   "cell_type": "code",
   "execution_count": 72,
   "metadata": {},
   "outputs": [],
   "source": [
    "# df_fi_all.to_excel('D:\\PythonProject\\data-gatherer\\dart\\co_fi_all_multiple.xlsx')"
   ]
  },
  {
   "cell_type": "code",
   "execution_count": 73,
   "metadata": {},
   "outputs": [],
   "source": [
    "# df_fi_all['account_detail'].str.len().max()\n",
    "# df_fi_all['thstrm_nm'].str.len().max()\n",
    "# df_fi_all['frmtrm_nm'].str.len().max()\n",
    "# df_fi_all['bfefrmtrm_nm'].str.len().max()"
   ]
  },
  {
   "cell_type": "code",
   "execution_count": 74,
   "metadata": {},
   "outputs": [],
   "source": [
    "# type = '자본변동표'\n",
    "# df_fi_all.query('sj_nm == @type')"
   ]
  },
  {
   "cell_type": "code",
   "execution_count": 75,
   "metadata": {},
   "outputs": [
    {
     "data": {
      "text/plain": [
       "Series([], dtype: object)"
      ]
     },
     "execution_count": 75,
     "metadata": {},
     "output_type": "execute_result"
    }
   ],
   "source": [
    "df_fi_all.dtypes"
   ]
  },
  {
   "cell_type": "code",
   "execution_count": null,
   "metadata": {},
   "outputs": [],
   "source": [
    "# 불필요한 컬럼 삭제\n",
    "# df_fi_all.drop(labels=['account_id', 'thstrm_add_amount'], axis=1, inplace=True)\n",
    "df_fi_all.drop(labels=['account_id'], axis=1, inplace=True)"
   ]
  },
  {
   "cell_type": "code",
   "execution_count": null,
   "metadata": {},
   "outputs": [],
   "source": [
    "# df_fi_all.dtypes"
   ]
  },
  {
   "cell_type": "code",
   "execution_count": null,
   "metadata": {},
   "outputs": [
    {
     "data": {
      "text/plain": [
       "(684, 17)"
      ]
     },
     "execution_count": 63,
     "metadata": {},
     "output_type": "execute_result"
    }
   ],
   "source": [
    "df_fi_all.shape"
   ]
  },
  {
   "cell_type": "code",
   "execution_count": null,
   "metadata": {},
   "outputs": [],
   "source": [
    "# df_fi_all.isna().value_counts()"
   ]
  },
  {
   "cell_type": "code",
   "execution_count": null,
   "metadata": {},
   "outputs": [],
   "source": [
    "# 문자열 컬럼에 있는 null값을 ''로 변환\n",
    "df_fi_all['thstrm_nm'].fillna('', inplace=True)\n",
    "df_fi_all['frmtrm_nm'].fillna('', inplace=True)\n",
    "df_fi_all['bfefrmtrm_nm'].fillna('', inplace=True)\n",
    "\n",
    "# 금액 컬럼에 있는 null값을 ''로 변환\n",
    "df_fi_all['thstrm_amount'].fillna('', inplace=True)\n",
    "df_fi_all['frmtrm_amount'].fillna('', inplace=True)\n",
    "df_fi_all['bfefrmtrm_amount'].fillna('', inplace=True)\n",
    "df_fi_all['thstrm_add_amount'].fillna('', inplace=True)\n",
    "\n",
    "# 금액 컬럼에 있는 ''을 '0'로 변환(저장 시에 숫자 형식으로 변환을 위해서임)\n",
    "df_fi_all = df_fi_all.replace({'thstrm_amount' : '',\n",
    "                               'frmtrm_amount' : '',\n",
    "                               'bfefrmtrm_amount' : '',\n",
    "                               'thstrm_add_amount' : ''}, '0')\n",
    "# 타입 변환\n",
    "df_fi_all = df_fi_all.astype({'ord' : 'int'})\n",
    "df_fi_all = df_fi_all.astype({'thstrm_amount' : 'float',\n",
    "                              'frmtrm_amount' : 'float',\n",
    "                              'bfefrmtrm_amount' : 'float',\n",
    "                              'thstrm_add_amount' : 'float'})"
   ]
  },
  {
   "attachments": {},
   "cell_type": "markdown",
   "metadata": {},
   "source": [
    "### 테이블에 저장"
   ]
  },
  {
   "cell_type": "code",
   "execution_count": null,
   "metadata": {},
   "outputs": [],
   "source": [
    "# 테이블 컬럼 순서대로 항목 재정렬\n",
    "df_fi_save = df_fi_all[['rcept_no', 'reprt_code', 'bsns_year', 'corp_code', 'sj_div', 'sj_nm', 'account_nm', 'account_detail', \\\n",
    "                       'thstrm_nm', 'thstrm_amount', 'thstrm_add_amount', 'frmtrm_nm', 'frmtrm_amount', 'bfefrmtrm_nm', 'bfefrmtrm_amount', \\\n",
    "                       'ord', 'currency']]"
   ]
  },
  {
   "cell_type": "code",
   "execution_count": null,
   "metadata": {},
   "outputs": [
    {
     "data": {
      "text/plain": [
       "(684, 17)"
      ]
     },
     "execution_count": 67,
     "metadata": {},
     "output_type": "execute_result"
    }
   ],
   "source": [
    "df_fi_save.shape"
   ]
  },
  {
   "cell_type": "code",
   "execution_count": null,
   "metadata": {},
   "outputs": [],
   "source": [
    "# df_fi_save.to_excel('D:\\PythonProject\\data-gatherer\\dart\\df_fi_save.xlsx')"
   ]
  },
  {
   "cell_type": "code",
   "execution_count": null,
   "metadata": {},
   "outputs": [],
   "source": [
    "import sys\n",
    "module_path = \"D:\\PythonProject\\data-gatherer\\common\"\n",
    "sys.path.append(module_path)\n",
    "import dbconnect\n",
    "\n",
    "conn = dbconnect.db_connect(\"DEMO_DW\")\n",
    "cur = conn.cursor()\n",
    "\n",
    "for row in df_fi_save.itertuples():\n",
    "    sql = \"insert into dart_report_detail(rcept_no, reprt_code, bsns_year, corp_code, sj_div, sj_nm, account_nm, account_detail, \\\n",
    "                                        thstrm_nm, thstrm_amount, thstrm_add_amount, frmtrm_nm, frmtrm_amount, bfefrmtrm_nm, bfefrmtrm_amount, \\\n",
    "                                        ord, currency) values (%s, %s, %s, %s, %s, %s, %s, %s, %s, %s, %s, %s, %s, %s, %s, %s, %s)\"\n",
    "    cur.execute(sql, (row[1], row[2], row[3], row[4], row[5], row[6], row[7], row[8], row[9], \\\n",
    "                      row[10], row[11], row[12], row[13], row[14], row[15], row[16], row[17]))\n",
    "\n",
    "conn.commit()\n",
    "conn.close()"
   ]
  }
 ],
 "metadata": {
  "kernelspec": {
   "display_name": "Python 3",
   "language": "python",
   "name": "python3"
  },
  "language_info": {
   "codemirror_mode": {
    "name": "ipython",
    "version": 3
   },
   "file_extension": ".py",
   "mimetype": "text/x-python",
   "name": "python",
   "nbconvert_exporter": "python",
   "pygments_lexer": "ipython3",
   "version": "3.10.8"
  },
  "orig_nbformat": 4
 },
 "nbformat": 4,
 "nbformat_minor": 2
}
