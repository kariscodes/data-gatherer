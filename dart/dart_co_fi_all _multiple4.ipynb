{
 "cells": [
  {
   "attachments": {},
   "cell_type": "markdown",
   "metadata": {},
   "source": [
    "## 재무정보(전체 재무제표) - 단일 회사(상장기업) - 반기 보고서\n",
    "+ 작성: 임경호\n",
    "+ 금융감독원 OPEN DART https://opendart.fss.or.kr/\n",
    "+ 하나의 엑셀에 회사별로 각 시트에 저장\n",
    "+ 회사별 비교표 구성 => 회사마다 데이터 입력을 표준적으로 하지 않아, 받아온 데이터로 상호 비교/매칭시킬 수 있지 않음."
   ]
  },
  {
   "cell_type": "markdown",
   "metadata": {},
   "source": [
    "### 1. 대상 회사/연도/보고서 설정 및 재무제표 정보 가져오기"
   ]
  },
  {
   "cell_type": "code",
   "execution_count": 1,
   "metadata": {},
   "outputs": [],
   "source": [
    "import requests\n",
    "import pandas as pd\n",
    "\n",
    "fiscal_year = '2023'\n",
    "listed_corp_codes = \\\n",
    "['01208885',    # 경동도시가스\n",
    " '00787376',    # 대성에너지\n",
    " '00128555',    # 삼천리\n",
    " '00130684']    # 서울도시가스\n",
    "report_code = '11012'   # 반기보고서"
   ]
  },
  {
   "cell_type": "code",
   "execution_count": 2,
   "metadata": {},
   "outputs": [],
   "source": [
    "# 재무제표 가져오기\n",
    "url = 'https://opendart.fss.or.kr/api/fnlttSinglAcntAll.json'\n",
    "api_key = 'f2e08d4ed3de0ba3d5cbf59c04c223e02b1751a2'\n",
    "\n",
    "dict_fi = {}\n",
    "\n",
    "for corp_code in listed_corp_codes:\n",
    "    params = {\n",
    "        'corp_code': corp_code,\n",
    "        'bsns_year': fiscal_year,\n",
    "        'reprt_code': report_code,\n",
    "        'fs_div': 'OFS',            # OFS:재무제표\n",
    "        'crtfc_key': api_key,\n",
    "    }\n",
    "    response = requests.get(url, params=params)\n",
    "    if response.status_code != 200:             # URL GET 200 : 정상\n",
    "        print(\"URL GET Error\")\n",
    "    if response.json()['status'] == '000':      # 데이터 유무 '000' : 정상\n",
    "        # 데이터프레임 형태로 변환\n",
    "        df_fi = pd.json_normalize(response.json()['list'])\n",
    "        if not df_fi.empty:\n",
    "            dict_fi[corp_code] = df_fi"
   ]
  },
  {
   "cell_type": "code",
   "execution_count": 60,
   "metadata": {},
   "outputs": [
    {
     "name": "stdout",
     "output_type": "stream",
     "text": [
      "01208885 :  128\n",
      "00787376 :  175\n",
      "00128555 :  129\n",
      "00130684 :  156\n"
     ]
    }
   ],
   "source": [
    "for k, df in dict_fi.items():  \n",
    "    print(k, \": \", len(df))"
   ]
  },
  {
   "cell_type": "code",
   "execution_count": 62,
   "metadata": {},
   "outputs": [],
   "source": [
    "# 각 회사별로 가져온 데이터를 하나의 엑셀 파일에 각각의 시트로 생성\n",
    "filename = \".\".join([fiscal_year + '_반기보고서', \"xlsx\"])\n",
    "path = \"D:/PythonProject/data-gatherer/dart/data/\" + filename\n",
    "with pd.ExcelWriter(path) as writer:\n",
    "    for k, df in dict_fi.items():\n",
    "        df.to_excel(writer, sheet_name=k)"
   ]
  },
  {
   "cell_type": "code",
   "execution_count": 107,
   "metadata": {},
   "outputs": [],
   "source": [
    "# # 각 회사의 계정명을 하나로 병합\n",
    "# df_fi_all = pd.DataFrame()\n",
    "# for k, df in dict_fi.items():    \n",
    "#     df_fi_all = pd.concat([df_fi_all, df[['sj_div', 'account_nm', 'account_detail']]], ignore_index=True)\n",
    "\n",
    "# df_fi_all.columns = ['sj_div', 'account_nm', 'account_detail']\n",
    "# # account_id 중복 제거\n",
    "# df_fi_all.drop_duplicates(['sj_div', 'account_nm', 'account_detail'], inplace=True)\n",
    "# df_fi_all.insert(0, 'sj_div_account_nm', df_fi_all['sj_div'] + '_' + df_fi_all['account_nm'] + '_' + df_fi_all['account_detail'], allow_duplicates=False)\n",
    "# df_fi_all.reset_index(inplace=True)     # 추후 Data Handling을 위해서는 반드시 reset_index 필수\n",
    "# df_fi_all = df_fi_all.drop('index', axis=1)"
   ]
  },
  {
   "cell_type": "code",
   "execution_count": 106,
   "metadata": {},
   "outputs": [],
   "source": [
    "# # 각 회사의 재무제표 합치기 - account_id 및 account_detail 기준으로 병합(어느 한쪽에라도 있으면 합친다)\n",
    "# # 각 회사별로 가져온 데이터를 하나의 엑셀 파일에 각각의 시트로 생성\n",
    "# filename = \".\".join([fiscal_year + '_반기보고서(비교)', \"xlsx\"])\n",
    "# path = \"D:/PythonProject/data-gatherer/dart/data/\" + filename\n",
    "# with pd.ExcelWriter(path) as writer:\n",
    "#     for k, df in dict_fi.items():\n",
    "#         df_item = df[['sj_div', 'account_nm', 'account_detail', 'ord', 'thstrm_amount']]\n",
    "#         df_item.insert(0, 'sj_div_account_nm', df_item['sj_div'] + '_' + df_item['account_nm'] + '_' + df_item['account_detail'], allow_duplicates=False)\n",
    "#         df_item = df_item.drop('sj_div', axis=1)\n",
    "#         df_item = df_item.drop('account_nm', axis=1)\n",
    "#         df_item = df_item.drop('account_detail', axis=1)\n",
    "#         df_item.columns = ['sj_div_account_nm', k+'_'+'ord', k+'_'+'thstrm_amount']\n",
    "#         df_item.to_excel(writer, sheet_name=k)\n",
    "#         # df_fi_all = pd.merge(df_fi_all, df_item, how='left', left_on='account_id_detail', right_on='account_id_detail')"
   ]
  },
  {
   "cell_type": "code",
   "execution_count": 110,
   "metadata": {},
   "outputs": [],
   "source": [
    "# # 각 회사의 재무제표 합치기 - account_id 및 account_detail 기준으로 병합(어느 한쪽에라도 있으면 합친다)\n",
    "# for k, df in dict_fi.items():\n",
    "#     df_item = df[['sj_div', 'account_nm', 'account_detail', 'ord', 'thstrm_amount']]\n",
    "#     df_item.insert(0, 'sj_div_account_nm', df_item['sj_div'] + '_' + df_item['account_nm'] + '_' + df_item['account_detail'], allow_duplicates=False)\n",
    "#     df_item = df_item.drop('sj_div', axis=1)\n",
    "#     df_item = df_item.drop('account_nm', axis=1)\n",
    "#     df_item = df_item.drop('account_detail', axis=1)\n",
    "#     df_item.columns = ['sj_div_account_nm', k+'_'+'ord', k+'_'+'thstrm_amount']\n",
    "#     df_fi_all = pd.merge(df_fi_all, df_item, how='left', left_on='sj_div_account_nm', right_on='sj_div_account_nm')"
   ]
  }
 ],
 "metadata": {
  "kernelspec": {
   "display_name": "Python 3",
   "language": "python",
   "name": "python3"
  },
  "language_info": {
   "codemirror_mode": {
    "name": "ipython",
    "version": 3
   },
   "file_extension": ".py",
   "mimetype": "text/x-python",
   "name": "python",
   "nbconvert_exporter": "python",
   "pygments_lexer": "ipython3",
   "version": "3.10.8"
  },
  "orig_nbformat": 4
 },
 "nbformat": 4,
 "nbformat_minor": 2
}
