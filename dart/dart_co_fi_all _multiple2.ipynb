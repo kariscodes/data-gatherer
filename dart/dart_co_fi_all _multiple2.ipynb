{
 "cells": [
  {
   "attachments": {},
   "cell_type": "markdown",
   "metadata": {},
   "source": [
    "### 재무정보(전체 재무제표) - 단일 회사(상장기업) - 분기 및 반기 보고서"
   ]
  },
  {
   "cell_type": "code",
   "execution_count": 40,
   "metadata": {},
   "outputs": [],
   "source": [
    "fiscal_year = '2020'\n",
    "listed_corp_codes = \\\n",
    "['01208885',\n",
    " '00787376',\n",
    " '00128555',\n",
    " '00130684']\n",
    "report_codes = \\\n",
    "['11013',   # 1분기보고서\n",
    " '11012',   # 반기보고서\n",
    " '11014']   # 3분기보고서"
   ]
  },
  {
   "cell_type": "code",
   "execution_count": 41,
   "metadata": {},
   "outputs": [],
   "source": [
    "# 재무제표 가져오기\n",
    "import requests\n",
    "import pandas as pd\n",
    "\n",
    "url = 'https://opendart.fss.or.kr/api/fnlttSinglAcntAll.json'\n",
    "api_key = 'f2e08d4ed3de0ba3d5cbf59c04c223e02b1751a2'\n",
    "df_fi_all = pd.DataFrame()\n",
    "\n",
    "for corp_code in listed_corp_codes:\n",
    "    for rpt_code in report_codes:\n",
    "        params = {\n",
    "            'corp_code': corp_code,\n",
    "            'bsns_year': fiscal_year,\n",
    "            'reprt_code': rpt_code,\n",
    "            'fs_div': 'OFS',            # OFS:재무제표\n",
    "            'crtfc_key': api_key,\n",
    "        }\n",
    "        response = requests.get(url, params=params)\n",
    "        if response.status_code != 200:             # URL GET 200 : 정상\n",
    "            print(\"URL GET Error\")\n",
    "        if response.json()['status'] == '000':      # 데이터 유무 '000' : 정상\n",
    "            # 데이터프레임 형태로 변환\n",
    "            df_fi = pd.json_normalize(response.json()['list'])\n",
    "            if not df_fi.empty:\n",
    "                df_fi_all = pd.concat([df_fi_all, df_fi], ignore_index=True)"
   ]
  },
  {
   "cell_type": "code",
   "execution_count": 42,
   "metadata": {},
   "outputs": [
    {
     "data": {
      "text/html": [
       "<div>\n",
       "<style scoped>\n",
       "    .dataframe tbody tr th:only-of-type {\n",
       "        vertical-align: middle;\n",
       "    }\n",
       "\n",
       "    .dataframe tbody tr th {\n",
       "        vertical-align: top;\n",
       "    }\n",
       "\n",
       "    .dataframe thead th {\n",
       "        text-align: right;\n",
       "    }\n",
       "</style>\n",
       "<table border=\"1\" class=\"dataframe\">\n",
       "  <thead>\n",
       "    <tr style=\"text-align: right;\">\n",
       "      <th></th>\n",
       "      <th></th>\n",
       "      <th>n</th>\n",
       "    </tr>\n",
       "    <tr>\n",
       "      <th>corp_code</th>\n",
       "      <th>reprt_code</th>\n",
       "      <th></th>\n",
       "    </tr>\n",
       "  </thead>\n",
       "  <tbody>\n",
       "    <tr>\n",
       "      <th rowspan=\"3\" valign=\"top\">00128555</th>\n",
       "      <th>11012</th>\n",
       "      <td>136</td>\n",
       "    </tr>\n",
       "    <tr>\n",
       "      <th>11013</th>\n",
       "      <td>135</td>\n",
       "    </tr>\n",
       "    <tr>\n",
       "      <th>11014</th>\n",
       "      <td>139</td>\n",
       "    </tr>\n",
       "    <tr>\n",
       "      <th rowspan=\"3\" valign=\"top\">00130684</th>\n",
       "      <th>11012</th>\n",
       "      <td>167</td>\n",
       "    </tr>\n",
       "    <tr>\n",
       "      <th>11013</th>\n",
       "      <td>162</td>\n",
       "    </tr>\n",
       "    <tr>\n",
       "      <th>11014</th>\n",
       "      <td>168</td>\n",
       "    </tr>\n",
       "    <tr>\n",
       "      <th rowspan=\"3\" valign=\"top\">00787376</th>\n",
       "      <th>11012</th>\n",
       "      <td>160</td>\n",
       "    </tr>\n",
       "    <tr>\n",
       "      <th>11013</th>\n",
       "      <td>158</td>\n",
       "    </tr>\n",
       "    <tr>\n",
       "      <th>11014</th>\n",
       "      <td>166</td>\n",
       "    </tr>\n",
       "    <tr>\n",
       "      <th rowspan=\"3\" valign=\"top\">01208885</th>\n",
       "      <th>11012</th>\n",
       "      <td>128</td>\n",
       "    </tr>\n",
       "    <tr>\n",
       "      <th>11013</th>\n",
       "      <td>118</td>\n",
       "    </tr>\n",
       "    <tr>\n",
       "      <th>11014</th>\n",
       "      <td>130</td>\n",
       "    </tr>\n",
       "  </tbody>\n",
       "</table>\n",
       "</div>"
      ],
      "text/plain": [
       "                        n\n",
       "corp_code reprt_code     \n",
       "00128555  11012       136\n",
       "          11013       135\n",
       "          11014       139\n",
       "00130684  11012       167\n",
       "          11013       162\n",
       "          11014       168\n",
       "00787376  11012       160\n",
       "          11013       158\n",
       "          11014       166\n",
       "01208885  11012       128\n",
       "          11013       118\n",
       "          11014       130"
      ]
     },
     "execution_count": 42,
     "metadata": {},
     "output_type": "execute_result"
    }
   ],
   "source": [
    "df_fi_all.groupby(['corp_code', 'reprt_code']).agg(n = ('account_nm', 'count'))"
   ]
  },
  {
   "cell_type": "code",
   "execution_count": 43,
   "metadata": {},
   "outputs": [
    {
     "data": {
      "text/plain": [
       "rcept_no             object\n",
       "reprt_code           object\n",
       "bsns_year            object\n",
       "corp_code            object\n",
       "sj_div               object\n",
       "sj_nm                object\n",
       "account_id           object\n",
       "account_nm           object\n",
       "account_detail       object\n",
       "thstrm_nm            object\n",
       "thstrm_amount        object\n",
       "frmtrm_nm            object\n",
       "frmtrm_amount        object\n",
       "ord                  object\n",
       "currency             object\n",
       "thstrm_add_amount    object\n",
       "frmtrm_q_nm          object\n",
       "frmtrm_q_amount      object\n",
       "frmtrm_add_amount    object\n",
       "dtype: object"
      ]
     },
     "execution_count": 43,
     "metadata": {},
     "output_type": "execute_result"
    }
   ],
   "source": [
    "df_fi_all.dtypes"
   ]
  },
  {
   "cell_type": "code",
   "execution_count": 44,
   "metadata": {},
   "outputs": [],
   "source": [
    "# df_fi_all.to_excel('D:\\PythonProject\\data-gatherer\\dart\\co_fi_all_multiple.xlsx')"
   ]
  },
  {
   "cell_type": "code",
   "execution_count": 45,
   "metadata": {},
   "outputs": [],
   "source": [
    "# df_fi_all['account_detail'].str.len().max()\n",
    "# df_fi_all['thstrm_nm'].str.len().max()\n",
    "# df_fi_all['frmtrm_nm'].str.len().max()\n",
    "# df_fi_all['bfefrmtrm_nm'].str.len().max()\n"
   ]
  },
  {
   "cell_type": "code",
   "execution_count": 46,
   "metadata": {},
   "outputs": [],
   "source": [
    "# type = '자본변동표'\n",
    "# df_fi_all.query('sj_nm == @type')"
   ]
  },
  {
   "cell_type": "code",
   "execution_count": 47,
   "metadata": {},
   "outputs": [],
   "source": [
    "# 불필요한 컬럼 삭제\n",
    "df_fi_all.drop(labels=['account_id', 'thstrm_add_amount', \\\n",
    "                       'frmtrm_q_nm', 'frmtrm_q_amount', 'frmtrm_add_amount'], axis=1, inplace=True)"
   ]
  },
  {
   "cell_type": "code",
   "execution_count": 48,
   "metadata": {},
   "outputs": [],
   "source": [
    "# df_fi_all.dtypes"
   ]
  },
  {
   "cell_type": "code",
   "execution_count": 49,
   "metadata": {},
   "outputs": [
    {
     "data": {
      "text/plain": [
       "(1767, 14)"
      ]
     },
     "execution_count": 49,
     "metadata": {},
     "output_type": "execute_result"
    }
   ],
   "source": [
    "df_fi_all.shape"
   ]
  },
  {
   "cell_type": "code",
   "execution_count": 50,
   "metadata": {},
   "outputs": [],
   "source": [
    "# df_fi_all.isna().value_counts()"
   ]
  },
  {
   "cell_type": "code",
   "execution_count": 51,
   "metadata": {},
   "outputs": [],
   "source": [
    "# 문자열 컬럼에 있는 null값을 ''로 변환\n",
    "df_fi_all['thstrm_nm'].fillna('', inplace=True)\n",
    "df_fi_all['frmtrm_nm'].fillna('', inplace=True)\n",
    "\n",
    "# 금액 컬럼에 있는 null값을 ''로 변환\n",
    "df_fi_all['thstrm_amount'].fillna('', inplace=True)\n",
    "df_fi_all['frmtrm_amount'].fillna('', inplace=True)\n",
    "# 금액 컬럼에 있는 ''을 '0'로 변환(저장 시에 숫자 형식으로 변환을 위해서임)\n",
    "df_fi_all = df_fi_all.replace({'thstrm_amount' : '',\n",
    "                               'frmtrm_amount' : ''}, '0')\n",
    "# 타입 변환\n",
    "df_fi_all = df_fi_all.astype({'ord' : 'int'})\n",
    "df_fi_all = df_fi_all.astype({'thstrm_amount' : 'float',\n",
    "                              'frmtrm_amount' : 'float'})"
   ]
  },
  {
   "attachments": {},
   "cell_type": "markdown",
   "metadata": {},
   "source": [
    "### 테이블에 저장"
   ]
  },
  {
   "cell_type": "code",
   "execution_count": 52,
   "metadata": {},
   "outputs": [],
   "source": [
    "# 테이블 컬럼 순서대로 항목 재정렬\n",
    "df_fi_save = df_fi_all[['rcept_no', 'reprt_code', 'bsns_year', 'corp_code', 'sj_div', 'sj_nm', 'account_nm', 'account_detail', \\\n",
    "                       'thstrm_nm', 'thstrm_amount', 'frmtrm_nm', 'frmtrm_amount', 'ord', 'currency']]"
   ]
  },
  {
   "cell_type": "code",
   "execution_count": 53,
   "metadata": {},
   "outputs": [
    {
     "data": {
      "text/plain": [
       "(1767, 14)"
      ]
     },
     "execution_count": 53,
     "metadata": {},
     "output_type": "execute_result"
    }
   ],
   "source": [
    "df_fi_save.shape"
   ]
  },
  {
   "cell_type": "code",
   "execution_count": 54,
   "metadata": {},
   "outputs": [],
   "source": [
    "# df_fi_save.to_excel('D:\\PythonProject\\data-gatherer\\dart\\df_fi_save.xlsx')"
   ]
  },
  {
   "cell_type": "code",
   "execution_count": 55,
   "metadata": {},
   "outputs": [],
   "source": [
    "import sys\n",
    "module_path = \"D:\\PythonProject\\data-gatherer\\common\"\n",
    "sys.path.append(module_path)\n",
    "import dbconnect\n",
    "\n",
    "conn = dbconnect.db_connect(\"DEMO_DW\")\n",
    "cur = conn.cursor()\n",
    "\n",
    "for row in df_fi_save.itertuples():\n",
    "    sql = \"insert into dart_report_detail(rcept_no, reprt_code, bsns_year, corp_code, sj_div, sj_nm, account_nm, account_detail, \\\n",
    "                                        thstrm_nm, thstrm_amount, frmtrm_nm, frmtrm_amount, \\\n",
    "                                        ord, currency) values (%s, %s, %s, %s, %s, %s, %s, %s, %s, %s, %s, %s, %s, %s)\"\n",
    "    cur.execute(sql, (row[1], row[2], row[3], row[4], row[5], row[6], row[7], row[8], \\\n",
    "                    row[9], row[10], row[11], row[12], row[13], row[14]))\n",
    "\n",
    "conn.commit()\n",
    "conn.close()"
   ]
  }
 ],
 "metadata": {
  "kernelspec": {
   "display_name": "Python 3",
   "language": "python",
   "name": "python3"
  },
  "language_info": {
   "codemirror_mode": {
    "name": "ipython",
    "version": 3
   },
   "file_extension": ".py",
   "mimetype": "text/x-python",
   "name": "python",
   "nbconvert_exporter": "python",
   "pygments_lexer": "ipython3",
   "version": "3.10.8"
  },
  "orig_nbformat": 4
 },
 "nbformat": 4,
 "nbformat_minor": 2
}
