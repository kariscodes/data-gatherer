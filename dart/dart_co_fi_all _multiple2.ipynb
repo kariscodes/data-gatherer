{
 "cells": [
  {
   "attachments": {},
   "cell_type": "markdown",
   "metadata": {},
   "source": [
    "### 재무정보(전체 재무제표) - 단일 회사(상장기업) - 분기 및 반기 보고서"
   ]
  },
  {
   "cell_type": "code",
   "execution_count": 70,
   "metadata": {},
   "outputs": [],
   "source": [
    "fiscal_year = '2023'\n",
    "listed_corp_codes = \\\n",
    "['01208885',\n",
    " '00787376',\n",
    " '00128555',\n",
    " '00130684']\n",
    "report_codes = \\\n",
    "['11013',   # 1분기보고서\n",
    " '11012',   # 반기보고서\n",
    " '11014']   # 3분기보고서"
   ]
  },
  {
   "cell_type": "code",
   "execution_count": 71,
   "metadata": {},
   "outputs": [],
   "source": [
    "# 재무제표 가져오기\n",
    "import requests\n",
    "import pandas as pd\n",
    "\n",
    "url = 'https://opendart.fss.or.kr/api/fnlttSinglAcntAll.json'\n",
    "api_key = 'f2e08d4ed3de0ba3d5cbf59c04c223e02b1751a2'\n",
    "df_fi_all = pd.DataFrame()\n",
    "\n",
    "for corp_code in listed_corp_codes:\n",
    "    for rpt_code in report_codes:\n",
    "        params = {\n",
    "            'corp_code': corp_code,\n",
    "            'bsns_year': fiscal_year,\n",
    "            'reprt_code': rpt_code,\n",
    "            'fs_div': 'OFS',            # OFS:재무제표\n",
    "            'crtfc_key': api_key,\n",
    "        }\n",
    "        response = requests.get(url, params=params)\n",
    "        if response.status_code != 200:             # URL GET 200 : 정상\n",
    "            print(\"URL GET Error\")\n",
    "        if response.json()['status'] == '000':      # 데이터 유무 '000' : 정상\n",
    "            # 데이터프레임 형태로 변환\n",
    "            df_fi = pd.json_normalize(response.json()['list'])\n",
    "            if not df_fi.empty:\n",
    "                df_fi_all = pd.concat([df_fi_all, df_fi], ignore_index=True)"
   ]
  },
  {
   "cell_type": "code",
   "execution_count": 72,
   "metadata": {},
   "outputs": [
    {
     "data": {
      "text/html": [
       "<div>\n",
       "<style scoped>\n",
       "    .dataframe tbody tr th:only-of-type {\n",
       "        vertical-align: middle;\n",
       "    }\n",
       "\n",
       "    .dataframe tbody tr th {\n",
       "        vertical-align: top;\n",
       "    }\n",
       "\n",
       "    .dataframe thead th {\n",
       "        text-align: right;\n",
       "    }\n",
       "</style>\n",
       "<table border=\"1\" class=\"dataframe\">\n",
       "  <thead>\n",
       "    <tr style=\"text-align: right;\">\n",
       "      <th></th>\n",
       "      <th></th>\n",
       "      <th>n</th>\n",
       "    </tr>\n",
       "    <tr>\n",
       "      <th>corp_code</th>\n",
       "      <th>reprt_code</th>\n",
       "      <th></th>\n",
       "    </tr>\n",
       "  </thead>\n",
       "  <tbody>\n",
       "    <tr>\n",
       "      <th>00128555</th>\n",
       "      <th>11013</th>\n",
       "      <td>124</td>\n",
       "    </tr>\n",
       "    <tr>\n",
       "      <th>00130684</th>\n",
       "      <th>11013</th>\n",
       "      <td>152</td>\n",
       "    </tr>\n",
       "    <tr>\n",
       "      <th>00787376</th>\n",
       "      <th>11013</th>\n",
       "      <td>173</td>\n",
       "    </tr>\n",
       "    <tr>\n",
       "      <th>01208885</th>\n",
       "      <th>11013</th>\n",
       "      <td>126</td>\n",
       "    </tr>\n",
       "  </tbody>\n",
       "</table>\n",
       "</div>"
      ],
      "text/plain": [
       "                        n\n",
       "corp_code reprt_code     \n",
       "00128555  11013       124\n",
       "00130684  11013       152\n",
       "00787376  11013       173\n",
       "01208885  11013       126"
      ]
     },
     "execution_count": 72,
     "metadata": {},
     "output_type": "execute_result"
    }
   ],
   "source": [
    "df_fi_all.groupby(['corp_code', 'reprt_code']).agg(n = ('account_nm', 'count'))"
   ]
  },
  {
   "cell_type": "code",
   "execution_count": 73,
   "metadata": {},
   "outputs": [
    {
     "data": {
      "text/plain": [
       "rcept_no             object\n",
       "reprt_code           object\n",
       "bsns_year            object\n",
       "corp_code            object\n",
       "sj_div               object\n",
       "sj_nm                object\n",
       "account_id           object\n",
       "account_nm           object\n",
       "account_detail       object\n",
       "thstrm_nm            object\n",
       "thstrm_amount        object\n",
       "frmtrm_nm            object\n",
       "frmtrm_amount        object\n",
       "ord                  object\n",
       "currency             object\n",
       "thstrm_add_amount    object\n",
       "frmtrm_q_nm          object\n",
       "frmtrm_q_amount      object\n",
       "frmtrm_add_amount    object\n",
       "dtype: object"
      ]
     },
     "execution_count": 73,
     "metadata": {},
     "output_type": "execute_result"
    }
   ],
   "source": [
    "df_fi_all.dtypes"
   ]
  },
  {
   "cell_type": "code",
   "execution_count": 74,
   "metadata": {},
   "outputs": [
    {
     "data": {
      "text/html": [
       "<div>\n",
       "<style scoped>\n",
       "    .dataframe tbody tr th:only-of-type {\n",
       "        vertical-align: middle;\n",
       "    }\n",
       "\n",
       "    .dataframe tbody tr th {\n",
       "        vertical-align: top;\n",
       "    }\n",
       "\n",
       "    .dataframe thead th {\n",
       "        text-align: right;\n",
       "    }\n",
       "</style>\n",
       "<table border=\"1\" class=\"dataframe\">\n",
       "  <thead>\n",
       "    <tr style=\"text-align: right;\">\n",
       "      <th></th>\n",
       "      <th>rcept_no</th>\n",
       "      <th>reprt_code</th>\n",
       "      <th>bsns_year</th>\n",
       "      <th>corp_code</th>\n",
       "      <th>sj_div</th>\n",
       "      <th>sj_nm</th>\n",
       "      <th>account_id</th>\n",
       "      <th>account_nm</th>\n",
       "      <th>account_detail</th>\n",
       "      <th>thstrm_nm</th>\n",
       "      <th>thstrm_amount</th>\n",
       "      <th>frmtrm_nm</th>\n",
       "      <th>frmtrm_amount</th>\n",
       "      <th>ord</th>\n",
       "      <th>currency</th>\n",
       "      <th>thstrm_add_amount</th>\n",
       "      <th>frmtrm_q_nm</th>\n",
       "      <th>frmtrm_q_amount</th>\n",
       "      <th>frmtrm_add_amount</th>\n",
       "    </tr>\n",
       "  </thead>\n",
       "  <tbody>\n",
       "    <tr>\n",
       "      <th>0</th>\n",
       "      <td>20230515002146</td>\n",
       "      <td>11013</td>\n",
       "      <td>2023</td>\n",
       "      <td>01208885</td>\n",
       "      <td>BS</td>\n",
       "      <td>재무상태표</td>\n",
       "      <td>ifrs-full_CurrentAssets</td>\n",
       "      <td>유동자산</td>\n",
       "      <td>-</td>\n",
       "      <td>제 7 기 1분기말</td>\n",
       "      <td>565900542600</td>\n",
       "      <td>제 6 기말</td>\n",
       "      <td>687026652216</td>\n",
       "      <td>1</td>\n",
       "      <td>KRW</td>\n",
       "      <td>NaN</td>\n",
       "      <td>NaN</td>\n",
       "      <td>NaN</td>\n",
       "      <td>NaN</td>\n",
       "    </tr>\n",
       "    <tr>\n",
       "      <th>1</th>\n",
       "      <td>20230515002146</td>\n",
       "      <td>11013</td>\n",
       "      <td>2023</td>\n",
       "      <td>01208885</td>\n",
       "      <td>BS</td>\n",
       "      <td>재무상태표</td>\n",
       "      <td>ifrs-full_CashAndCashEquivalents</td>\n",
       "      <td>현금및현금성자산</td>\n",
       "      <td>-</td>\n",
       "      <td>제 7 기 1분기말</td>\n",
       "      <td>128124123727</td>\n",
       "      <td>제 6 기말</td>\n",
       "      <td>89277601245</td>\n",
       "      <td>2</td>\n",
       "      <td>KRW</td>\n",
       "      <td>NaN</td>\n",
       "      <td>NaN</td>\n",
       "      <td>NaN</td>\n",
       "      <td>NaN</td>\n",
       "    </tr>\n",
       "    <tr>\n",
       "      <th>2</th>\n",
       "      <td>20230515002146</td>\n",
       "      <td>11013</td>\n",
       "      <td>2023</td>\n",
       "      <td>01208885</td>\n",
       "      <td>BS</td>\n",
       "      <td>재무상태표</td>\n",
       "      <td>dart_ShortTermDepositsNotClassifiedAsCashEquiv...</td>\n",
       "      <td>단기금융상품</td>\n",
       "      <td>-</td>\n",
       "      <td>제 7 기 1분기말</td>\n",
       "      <td>111200000000</td>\n",
       "      <td>제 6 기말</td>\n",
       "      <td>109200000000</td>\n",
       "      <td>3</td>\n",
       "      <td>KRW</td>\n",
       "      <td>NaN</td>\n",
       "      <td>NaN</td>\n",
       "      <td>NaN</td>\n",
       "      <td>NaN</td>\n",
       "    </tr>\n",
       "    <tr>\n",
       "      <th>3</th>\n",
       "      <td>20230515002146</td>\n",
       "      <td>11013</td>\n",
       "      <td>2023</td>\n",
       "      <td>01208885</td>\n",
       "      <td>BS</td>\n",
       "      <td>재무상태표</td>\n",
       "      <td>ifrs-full_CurrentFinancialAssetsAtFairValueThr...</td>\n",
       "      <td>당기손익-공정가치금융자산</td>\n",
       "      <td>-</td>\n",
       "      <td>제 7 기 1분기말</td>\n",
       "      <td>52067295426</td>\n",
       "      <td>제 6 기말</td>\n",
       "      <td>70115075141</td>\n",
       "      <td>4</td>\n",
       "      <td>KRW</td>\n",
       "      <td>NaN</td>\n",
       "      <td>NaN</td>\n",
       "      <td>NaN</td>\n",
       "      <td>NaN</td>\n",
       "    </tr>\n",
       "    <tr>\n",
       "      <th>4</th>\n",
       "      <td>20230515002146</td>\n",
       "      <td>11013</td>\n",
       "      <td>2023</td>\n",
       "      <td>01208885</td>\n",
       "      <td>BS</td>\n",
       "      <td>재무상태표</td>\n",
       "      <td>dart_ShortTermTradeReceivable</td>\n",
       "      <td>매출채권</td>\n",
       "      <td>-</td>\n",
       "      <td>제 7 기 1분기말</td>\n",
       "      <td>266652706136</td>\n",
       "      <td>제 6 기말</td>\n",
       "      <td>407684026301</td>\n",
       "      <td>5</td>\n",
       "      <td>KRW</td>\n",
       "      <td>NaN</td>\n",
       "      <td>NaN</td>\n",
       "      <td>NaN</td>\n",
       "      <td>NaN</td>\n",
       "    </tr>\n",
       "  </tbody>\n",
       "</table>\n",
       "</div>"
      ],
      "text/plain": [
       "         rcept_no reprt_code bsns_year corp_code sj_div  sj_nm  \\\n",
       "0  20230515002146      11013      2023  01208885     BS  재무상태표   \n",
       "1  20230515002146      11013      2023  01208885     BS  재무상태표   \n",
       "2  20230515002146      11013      2023  01208885     BS  재무상태표   \n",
       "3  20230515002146      11013      2023  01208885     BS  재무상태표   \n",
       "4  20230515002146      11013      2023  01208885     BS  재무상태표   \n",
       "\n",
       "                                          account_id     account_nm  \\\n",
       "0                            ifrs-full_CurrentAssets           유동자산   \n",
       "1                   ifrs-full_CashAndCashEquivalents       현금및현금성자산   \n",
       "2  dart_ShortTermDepositsNotClassifiedAsCashEquiv...         단기금융상품   \n",
       "3  ifrs-full_CurrentFinancialAssetsAtFairValueThr...  당기손익-공정가치금융자산   \n",
       "4                      dart_ShortTermTradeReceivable           매출채권   \n",
       "\n",
       "  account_detail   thstrm_nm thstrm_amount frmtrm_nm frmtrm_amount ord  \\\n",
       "0              -  제 7 기 1분기말  565900542600    제 6 기말  687026652216   1   \n",
       "1              -  제 7 기 1분기말  128124123727    제 6 기말   89277601245   2   \n",
       "2              -  제 7 기 1분기말  111200000000    제 6 기말  109200000000   3   \n",
       "3              -  제 7 기 1분기말   52067295426    제 6 기말   70115075141   4   \n",
       "4              -  제 7 기 1분기말  266652706136    제 6 기말  407684026301   5   \n",
       "\n",
       "  currency thstrm_add_amount frmtrm_q_nm frmtrm_q_amount frmtrm_add_amount  \n",
       "0      KRW               NaN         NaN             NaN               NaN  \n",
       "1      KRW               NaN         NaN             NaN               NaN  \n",
       "2      KRW               NaN         NaN             NaN               NaN  \n",
       "3      KRW               NaN         NaN             NaN               NaN  \n",
       "4      KRW               NaN         NaN             NaN               NaN  "
      ]
     },
     "execution_count": 74,
     "metadata": {},
     "output_type": "execute_result"
    }
   ],
   "source": [
    "df_fi_all.head()"
   ]
  },
  {
   "cell_type": "code",
   "execution_count": 75,
   "metadata": {},
   "outputs": [],
   "source": [
    "df_fi_all.to_excel('D:\\PythonProject\\data-gatherer\\dart\\co_fi_all_multiple2.xlsx')"
   ]
  },
  {
   "cell_type": "code",
   "execution_count": 76,
   "metadata": {},
   "outputs": [],
   "source": [
    "# df_fi_all['account_detail'].str.len().max()\n",
    "# df_fi_all['thstrm_nm'].str.len().max()\n",
    "# df_fi_all['frmtrm_nm'].str.len().max()\n",
    "# df_fi_all['bfefrmtrm_nm'].str.len().max()\n"
   ]
  },
  {
   "cell_type": "code",
   "execution_count": 77,
   "metadata": {},
   "outputs": [],
   "source": [
    "# type = '자본변동표'\n",
    "# df_fi_all.query('sj_nm == @type')"
   ]
  },
  {
   "cell_type": "code",
   "execution_count": 78,
   "metadata": {},
   "outputs": [],
   "source": [
    "# 불필요한 컬럼 삭제\n",
    "# df_fi_all.drop(labels=['account_id', 'thstrm_add_amount', \\\n",
    "#                        'frmtrm_q_nm', 'frmtrm_q_amount', 'frmtrm_add_amount'], axis=1, inplace=True)\n",
    "df_fi_all.drop(labels=['account_id'], axis=1, inplace=True)"
   ]
  },
  {
   "cell_type": "code",
   "execution_count": 79,
   "metadata": {},
   "outputs": [],
   "source": [
    "# df_fi_all.dtypes"
   ]
  },
  {
   "cell_type": "code",
   "execution_count": 80,
   "metadata": {},
   "outputs": [
    {
     "data": {
      "text/plain": [
       "(575, 18)"
      ]
     },
     "execution_count": 80,
     "metadata": {},
     "output_type": "execute_result"
    }
   ],
   "source": [
    "df_fi_all.shape"
   ]
  },
  {
   "cell_type": "code",
   "execution_count": 81,
   "metadata": {},
   "outputs": [],
   "source": [
    "# df_fi_all.isna().value_counts()"
   ]
  },
  {
   "cell_type": "code",
   "execution_count": 82,
   "metadata": {},
   "outputs": [],
   "source": [
    "# 문자열 컬럼에 있는 null값을 ''로 변환\n",
    "df_fi_all['thstrm_nm'].fillna('', inplace=True)\n",
    "df_fi_all['frmtrm_nm'].fillna('', inplace=True)\n",
    "df_fi_all['frmtrm_q_nm'].fillna('', inplace=True)\n",
    "\n",
    "# 금액 컬럼에 있는 null값을 ''로 변환\n",
    "df_fi_all['thstrm_amount'].fillna('', inplace=True)\n",
    "df_fi_all['frmtrm_amount'].fillna('', inplace=True)\n",
    "df_fi_all['frmtrm_q_amount'].fillna('', inplace=True)\n",
    "df_fi_all['thstrm_add_amount'].fillna('', inplace=True)\n",
    "df_fi_all['frmtrm_add_amount'].fillna('', inplace=True)\n",
    "# 금액 컬럼에 있는 ''을 '0'로 변환(저장 시에 숫자 형식으로 변환을 위해서임)\n",
    "df_fi_all = df_fi_all.replace({'thstrm_amount' : '',\n",
    "                               'frmtrm_amount' : '',\n",
    "                               'frmtrm_q_amount' : '',\n",
    "                               'thstrm_add_amount' : '',\n",
    "                               'frmtrm_add_amount' : ''}, '0')\n",
    "# 타입 변환\n",
    "df_fi_all = df_fi_all.astype({'ord' : 'int'})\n",
    "df_fi_all = df_fi_all.astype({'thstrm_amount' : 'float',\n",
    "                              'frmtrm_amount' : 'float',\n",
    "                              'thstrm_add_amount' : 'float',\n",
    "                              'thstrm_add_amount' : 'float',\n",
    "                              'frmtrm_add_amount' : 'float'})"
   ]
  },
  {
   "attachments": {},
   "cell_type": "markdown",
   "metadata": {},
   "source": [
    "### 테이블에 저장"
   ]
  },
  {
   "cell_type": "code",
   "execution_count": 83,
   "metadata": {},
   "outputs": [],
   "source": [
    "# 테이블 컬럼 순서대로 항목 재정렬\n",
    "df_fi_save = df_fi_all[['rcept_no', 'reprt_code', 'bsns_year', 'corp_code', 'sj_div', 'sj_nm', 'account_nm', 'account_detail', \\\n",
    "                       'thstrm_nm', 'thstrm_amount', 'thstrm_add_amount', 'frmtrm_nm', 'frmtrm_amount', \\\n",
    "                       'frmtrm_q_nm', 'frmtrm_q_amount', 'frmtrm_add_amount', 'ord', 'currency']]"
   ]
  },
  {
   "cell_type": "code",
   "execution_count": 84,
   "metadata": {},
   "outputs": [
    {
     "data": {
      "text/plain": [
       "(575, 18)"
      ]
     },
     "execution_count": 84,
     "metadata": {},
     "output_type": "execute_result"
    }
   ],
   "source": [
    "df_fi_save.shape"
   ]
  },
  {
   "cell_type": "code",
   "execution_count": 85,
   "metadata": {},
   "outputs": [],
   "source": [
    "# df_fi_save.to_excel('D:\\PythonProject\\data-gatherer\\dart\\df_fi_save.xlsx')"
   ]
  },
  {
   "cell_type": "code",
   "execution_count": 86,
   "metadata": {},
   "outputs": [],
   "source": [
    "import sys\n",
    "module_path = \"D:\\PythonProject\\data-gatherer\\common\"\n",
    "sys.path.append(module_path)\n",
    "import dbconnect\n",
    "\n",
    "conn = dbconnect.db_connect(\"DEMO_DW\")\n",
    "cur = conn.cursor()\n",
    "\n",
    "for row in df_fi_save.itertuples():\n",
    "    sql = \"insert into dart_report_detail(rcept_no, reprt_code, bsns_year, corp_code, sj_div, sj_nm, account_nm, account_detail, \\\n",
    "                                          thstrm_nm, thstrm_amount, thstrm_add_amount, frmtrm_nm, frmtrm_amount, \\\n",
    "                                          frmtrm_q_nm, frmtrm_q_amount, frmtrm_add_amount, ord, currency) values \\\n",
    "                                          (%s, %s, %s, %s, %s, %s, %s, %s, %s, %s, %s, %s, %s, %s, %s, %s, %s, %s)\"\n",
    "    cur.execute(sql, (row[1], row[2], row[3], row[4], row[5], row[6], row[7], row[8],  row[9], row[10], row[11], \\\n",
    "                      row[12], row[13], row[14], row[15], row[16], row[17], row[18]))\n",
    "\n",
    "conn.commit()\n",
    "conn.close()"
   ]
  }
 ],
 "metadata": {
  "kernelspec": {
   "display_name": "Python 3",
   "language": "python",
   "name": "python3"
  },
  "language_info": {
   "codemirror_mode": {
    "name": "ipython",
    "version": 3
   },
   "file_extension": ".py",
   "mimetype": "text/x-python",
   "name": "python",
   "nbconvert_exporter": "python",
   "pygments_lexer": "ipython3",
   "version": "3.10.8"
  },
  "orig_nbformat": 4
 },
 "nbformat": 4,
 "nbformat_minor": 2
}
