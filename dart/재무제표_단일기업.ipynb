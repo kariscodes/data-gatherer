{
 "cells": [
  {
   "attachments": {},
   "cell_type": "markdown",
   "metadata": {},
   "source": [
    "### [DART] 단일회사 전체 재무제표\n",
    "* https://opendart.fss.or.kr/guide/detail.do?apiGrpCd=DS003&apiId=2019020"
   ]
  },
  {
   "cell_type": "code",
   "execution_count": 3,
   "metadata": {},
   "outputs": [],
   "source": [
    "import requests\n",
    "\n",
    "# 상장기업 재무정보 - 단일회사 전체 재무제표\n",
    "url = 'https://opendart.fss.or.kr/api/fnlttSinglAcntAll.json'\n",
    "api_key = 'f2e08d4ed3de0ba3d5cbf59c04c223e02b1751a2'\n",
    "corp_code = '01208885'\n",
    "fs_div = 'OFS'      # CFS:연결재무제표, OFS:재무제표\n",
    "fyear = 2022\n",
    "\n",
    "params = {\n",
    "    'corp_code': corp_code,\n",
    "    'bsns_year': fyear,         # 사업연도\n",
    "    'reprt_code': 11011,        # 사업보고서\n",
    "    'fs_div': fs_div,           # 개별기업 재무제표\n",
    "    'crtfc_key': api_key,\n",
    "}\n",
    "\n",
    "response = requests.get(url, params=params)\n",
    "if response.status_code != 200:     # URL GET '200 정상'\n",
    "    print(\"URL GET Error\")"
   ]
  },
  {
   "cell_type": "markdown",
   "metadata": {},
   "source": [
    "- BS : 재무상태표\n",
    "- IS : 손익계산서\n",
    "- CIS : 포괄손익계산서\n",
    "- CF : 현금흐름표\n",
    "- SCE : 자본변동표"
   ]
  },
  {
   "cell_type": "code",
   "execution_count": 4,
   "metadata": {},
   "outputs": [],
   "source": [
    "# 데이터프레임 형태로 변환, 데이터 타입 변환\n",
    "import pandas as pd\n",
    "df_fi = pd.json_normalize(response.json()['list'])\n",
    "df_fi['thstrm_amount'].fillna(0)\n",
    "df_fi['frmtrm_amount'].fillna(0)\n",
    "df_fi['bfefrmtrm_amount'].fillna(0)\n",
    "df_fi['thstrm_add_amount'].fillna(0)\n",
    "df_fi = df_fi.astype({'ord' : 'int'})"
   ]
  },
  {
   "cell_type": "markdown",
   "metadata": {},
   "source": [
    "#### 포괄손익계산서"
   ]
  },
  {
   "cell_type": "code",
   "execution_count": 5,
   "metadata": {},
   "outputs": [],
   "source": [
    "sj_div = \"CIS\"  # 포괄손익계산서\n",
    "df_cis = df_fi.query('sj_div == @sj_div').sort_values('ord')"
   ]
  },
  {
   "cell_type": "markdown",
   "metadata": {},
   "source": [
    "> 항목: XBRL 표준계정ID\n",
    "- 매출액 ifrs-full_Revenue\n",
    "- 영업이익 dart_OperatingIncomeLoss\n",
    "- 비영업이익\n",
    "- 연구개발비\n",
    "- 광고선전비\n",
    "- 이자비용\n",
    "- EBIT"
   ]
  },
  {
   "cell_type": "code",
   "execution_count": 6,
   "metadata": {},
   "outputs": [
    {
     "data": {
      "text/html": [
       "<div>\n",
       "<style scoped>\n",
       "    .dataframe tbody tr th:only-of-type {\n",
       "        vertical-align: middle;\n",
       "    }\n",
       "\n",
       "    .dataframe tbody tr th {\n",
       "        vertical-align: top;\n",
       "    }\n",
       "\n",
       "    .dataframe thead th {\n",
       "        text-align: right;\n",
       "    }\n",
       "</style>\n",
       "<table border=\"1\" class=\"dataframe\">\n",
       "  <thead>\n",
       "    <tr style=\"text-align: right;\">\n",
       "      <th></th>\n",
       "      <th>account_id</th>\n",
       "      <th>account_nm</th>\n",
       "      <th>thstrm_amount</th>\n",
       "      <th>currency</th>\n",
       "    </tr>\n",
       "  </thead>\n",
       "  <tbody>\n",
       "    <tr>\n",
       "      <th>49</th>\n",
       "      <td>ifrs-full_Revenue</td>\n",
       "      <td>매출액</td>\n",
       "      <td>2304288140077</td>\n",
       "      <td>KRW</td>\n",
       "    </tr>\n",
       "    <tr>\n",
       "      <th>58</th>\n",
       "      <td>dart_OperatingIncomeLoss</td>\n",
       "      <td>영업이익</td>\n",
       "      <td>25053659119</td>\n",
       "      <td>KRW</td>\n",
       "    </tr>\n",
       "  </tbody>\n",
       "</table>\n",
       "</div>"
      ],
      "text/plain": [
       "                  account_id account_nm  thstrm_amount currency\n",
       "49         ifrs-full_Revenue        매출액  2304288140077      KRW\n",
       "58  dart_OperatingIncomeLoss       영업이익    25053659119      KRW"
      ]
     },
     "execution_count": 6,
     "metadata": {},
     "output_type": "execute_result"
    }
   ],
   "source": [
    "acct_id = ['ifrs-full_Revenue', 'dart_OperatingIncomeLoss']\n",
    "df_cis.query('account_id in @acct_id')[['account_id', 'account_nm', 'thstrm_amount', 'currency']]          # 당기금액"
   ]
  },
  {
   "cell_type": "markdown",
   "metadata": {},
   "source": [
    "#### 재무상태표"
   ]
  },
  {
   "cell_type": "code",
   "execution_count": 7,
   "metadata": {},
   "outputs": [],
   "source": [
    "sj_div = \"BS\"  # 재무상태표\n",
    "df_bs = df_fi.query('sj_div == @sj_div').sort_values('ord')"
   ]
  },
  {
   "cell_type": "markdown",
   "metadata": {},
   "source": [
    "> 항목 XBRL 표준계정ID\n",
    "- 총자산 ifrs-full_Assets\n",
    "- 총부채 ifrs-full_Liabilities"
   ]
  },
  {
   "cell_type": "code",
   "execution_count": 8,
   "metadata": {},
   "outputs": [
    {
     "data": {
      "text/html": [
       "<div>\n",
       "<style scoped>\n",
       "    .dataframe tbody tr th:only-of-type {\n",
       "        vertical-align: middle;\n",
       "    }\n",
       "\n",
       "    .dataframe tbody tr th {\n",
       "        vertical-align: top;\n",
       "    }\n",
       "\n",
       "    .dataframe thead th {\n",
       "        text-align: right;\n",
       "    }\n",
       "</style>\n",
       "<table border=\"1\" class=\"dataframe\">\n",
       "  <thead>\n",
       "    <tr style=\"text-align: right;\">\n",
       "      <th></th>\n",
       "      <th>account_id</th>\n",
       "      <th>account_nm</th>\n",
       "      <th>thstrm_amount</th>\n",
       "      <th>currency</th>\n",
       "    </tr>\n",
       "  </thead>\n",
       "  <tbody>\n",
       "    <tr>\n",
       "      <th>22</th>\n",
       "      <td>ifrs-full_Assets</td>\n",
       "      <td>자산총계</td>\n",
       "      <td>1064615087230</td>\n",
       "      <td>KRW</td>\n",
       "    </tr>\n",
       "    <tr>\n",
       "      <th>40</th>\n",
       "      <td>ifrs-full_Liabilities</td>\n",
       "      <td>부채총계</td>\n",
       "      <td>672093137209</td>\n",
       "      <td>KRW</td>\n",
       "    </tr>\n",
       "  </tbody>\n",
       "</table>\n",
       "</div>"
      ],
      "text/plain": [
       "               account_id account_nm  thstrm_amount currency\n",
       "22       ifrs-full_Assets       자산총계  1064615087230      KRW\n",
       "40  ifrs-full_Liabilities       부채총계   672093137209      KRW"
      ]
     },
     "execution_count": 8,
     "metadata": {},
     "output_type": "execute_result"
    }
   ],
   "source": [
    "\n",
    "acct_id = ['ifrs-full_Assets',\n",
    "           'ifrs-full_Liabilities']\n",
    "df_bs.query('account_id in @acct_id')[['account_id', 'account_nm', 'thstrm_amount', 'currency']]          # 당기금액\n",
    "# df_bs[df_bs['account_nm'].str.contains('자산')]"
   ]
  },
  {
   "cell_type": "markdown",
   "metadata": {},
   "source": [
    "#### 현금흐름표"
   ]
  },
  {
   "cell_type": "code",
   "execution_count": 9,
   "metadata": {},
   "outputs": [],
   "source": [
    "sj_div = \"CF\"  # 현금흐름표\n",
    "df_cf = df_fi.query('sj_div == @sj_div').sort_values('ord')"
   ]
  },
  {
   "cell_type": "markdown",
   "metadata": {},
   "source": [
    "> 항목 XBRL 표준계정ID\n",
    "- 영업활동현금흐름 ifrs-full_CashFlowsFromUsedInOperatingActivities\n",
    "- 영업으로부터 창출된 현금흐름 dart_NetCashflowsFromUsedInOperations"
   ]
  },
  {
   "cell_type": "code",
   "execution_count": 10,
   "metadata": {},
   "outputs": [
    {
     "data": {
      "text/html": [
       "<div>\n",
       "<style scoped>\n",
       "    .dataframe tbody tr th:only-of-type {\n",
       "        vertical-align: middle;\n",
       "    }\n",
       "\n",
       "    .dataframe tbody tr th {\n",
       "        vertical-align: top;\n",
       "    }\n",
       "\n",
       "    .dataframe thead th {\n",
       "        text-align: right;\n",
       "    }\n",
       "</style>\n",
       "<table border=\"1\" class=\"dataframe\">\n",
       "  <thead>\n",
       "    <tr style=\"text-align: right;\">\n",
       "      <th></th>\n",
       "      <th>account_id</th>\n",
       "      <th>account_nm</th>\n",
       "      <th>thstrm_amount</th>\n",
       "      <th>currency</th>\n",
       "    </tr>\n",
       "  </thead>\n",
       "  <tbody>\n",
       "    <tr>\n",
       "      <th>73</th>\n",
       "      <td>ifrs-full_CashFlowsFromUsedInOperatingActivities</td>\n",
       "      <td>영업활동현금흐름</td>\n",
       "      <td>52246134856</td>\n",
       "      <td>KRW</td>\n",
       "    </tr>\n",
       "    <tr>\n",
       "      <th>74</th>\n",
       "      <td>dart_NetCashflowsFromUsedInOperations</td>\n",
       "      <td>영업으로부터 창출된 현금흐름</td>\n",
       "      <td>60515784908</td>\n",
       "      <td>KRW</td>\n",
       "    </tr>\n",
       "  </tbody>\n",
       "</table>\n",
       "</div>"
      ],
      "text/plain": [
       "                                          account_id       account_nm  \\\n",
       "73  ifrs-full_CashFlowsFromUsedInOperatingActivities         영업활동현금흐름   \n",
       "74             dart_NetCashflowsFromUsedInOperations  영업으로부터 창출된 현금흐름   \n",
       "\n",
       "   thstrm_amount currency  \n",
       "73   52246134856      KRW  \n",
       "74   60515784908      KRW  "
      ]
     },
     "execution_count": 10,
     "metadata": {},
     "output_type": "execute_result"
    }
   ],
   "source": [
    "acct_id = ['ifrs-full_CashFlowsFromUsedInOperatingActivities',\n",
    "           'dart_NetCashflowsFromUsedInOperations']\n",
    "df_cf.query('account_id in @acct_id')[['account_id', 'account_nm', 'thstrm_amount', 'currency']]          # 당기금액"
   ]
  }
 ],
 "metadata": {
  "kernelspec": {
   "display_name": "Python 3",
   "language": "python",
   "name": "python3"
  },
  "language_info": {
   "codemirror_mode": {
    "name": "ipython",
    "version": 3
   },
   "file_extension": ".py",
   "mimetype": "text/x-python",
   "name": "python",
   "nbconvert_exporter": "python",
   "pygments_lexer": "ipython3",
   "version": "3.10.8"
  },
  "orig_nbformat": 4
 },
 "nbformat": 4,
 "nbformat_minor": 2
}
