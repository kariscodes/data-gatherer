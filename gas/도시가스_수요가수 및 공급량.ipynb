{
 "cells": [
  {
   "cell_type": "markdown",
   "metadata": {},
   "source": [
    "### 파일 읽기: 도시가스 수요가수 및 공급량\n",
    "+ 작성: 임경호"
   ]
  },
  {
   "cell_type": "markdown",
   "metadata": {},
   "source": [
    "### 1. 파일 읽기"
   ]
  },
  {
   "cell_type": "code",
   "execution_count": 54,
   "metadata": {},
   "outputs": [],
   "source": [
    "import pandas as pd\n",
    "\n",
    "# 기준년월\n",
    "base_ym = '202304'\n",
    "\n",
    "# 파일 위치 (파일 출처: 도식가스협회 통계 사이트)\n",
    "path = 'D:/PythonProject/data-gatherer/gas/data/수요가수+공급량.xls'\n",
    "\n",
    "# 컬럼 위치(회사): 0 회사\n",
    "# 컬럼 위치(수요가수): 15 합계 / 16 증감률(%)\n",
    "# 컬럼 위치(공급량 천MJ): 36 가정용 / 39 일반용 / 42 업무용 / 43 산업용 / 44 열병합1 / 45 열병합2 / 46 열전용설비용 / 47 수송용 / 48 연료전지용 / 49 합계 / 50 증감률(%)\n",
    "use_cols= [0, 15, 16, 36, 39, 42, 43, 44, 45, 46, 47, 48, 49, 50]\n",
    "df_data = pd.read_excel(path, sheet_name='수요가수공급량', usecols=use_cols)"
   ]
  },
  {
   "cell_type": "code",
   "execution_count": 55,
   "metadata": {},
   "outputs": [
    {
     "data": {
      "text/plain": [
       "(125, 14)"
      ]
     },
     "execution_count": 55,
     "metadata": {},
     "output_type": "execute_result"
    }
   ],
   "source": [
    "df_data.columns = ['회사', '수요가수_합계', '수요가수_증감률', \\\n",
    "                   '공급량_가정용', '공급량_일반용', '공급량_업무용', '공급량_산업용', '공급량_열병합1', '공급량_열병합2', '공급량_열전용설비용', '공급량_수송용', '공급량_연료전지용', '공급량_합계', '공급량_증감률']\n",
    "df_data.shape"
   ]
  },
  {
   "cell_type": "code",
   "execution_count": 56,
   "metadata": {},
   "outputs": [
    {
     "data": {
      "text/html": [
       "<div>\n",
       "<style scoped>\n",
       "    .dataframe tbody tr th:only-of-type {\n",
       "        vertical-align: middle;\n",
       "    }\n",
       "\n",
       "    .dataframe tbody tr th {\n",
       "        vertical-align: top;\n",
       "    }\n",
       "\n",
       "    .dataframe thead th {\n",
       "        text-align: right;\n",
       "    }\n",
       "</style>\n",
       "<table border=\"1\" class=\"dataframe\">\n",
       "  <thead>\n",
       "    <tr style=\"text-align: right;\">\n",
       "      <th></th>\n",
       "      <th>회사</th>\n",
       "      <th>수요가수_합계</th>\n",
       "      <th>수요가수_증감률</th>\n",
       "      <th>공급량_가정용</th>\n",
       "      <th>공급량_일반용</th>\n",
       "      <th>공급량_업무용</th>\n",
       "      <th>공급량_산업용</th>\n",
       "      <th>공급량_열병합1</th>\n",
       "      <th>공급량_열병합2</th>\n",
       "      <th>공급량_열전용설비용</th>\n",
       "      <th>공급량_수송용</th>\n",
       "      <th>공급량_연료전지용</th>\n",
       "      <th>공급량_합계</th>\n",
       "      <th>공급량_증감률</th>\n",
       "    </tr>\n",
       "  </thead>\n",
       "  <tbody>\n",
       "    <tr>\n",
       "      <th>0</th>\n",
       "      <td>2023년 04월 용도별 수요가수 및 공급량 구분 (수도권)</td>\n",
       "      <td>NaN</td>\n",
       "      <td>NaN</td>\n",
       "      <td>NaN</td>\n",
       "      <td>NaN</td>\n",
       "      <td>NaN</td>\n",
       "      <td>NaN</td>\n",
       "      <td>NaN</td>\n",
       "      <td>NaN</td>\n",
       "      <td>NaN</td>\n",
       "      <td>NaN</td>\n",
       "      <td>NaN</td>\n",
       "      <td>NaN</td>\n",
       "      <td>NaN</td>\n",
       "    </tr>\n",
       "    <tr>\n",
       "      <th>1</th>\n",
       "      <td>NaN</td>\n",
       "      <td>NaN</td>\n",
       "      <td>NaN</td>\n",
       "      <td>NaN</td>\n",
       "      <td>NaN</td>\n",
       "      <td>NaN</td>\n",
       "      <td>NaN</td>\n",
       "      <td>NaN</td>\n",
       "      <td>NaN</td>\n",
       "      <td>NaN</td>\n",
       "      <td>NaN</td>\n",
       "      <td>NaN</td>\n",
       "      <td>NaN</td>\n",
       "      <td>NaN</td>\n",
       "    </tr>\n",
       "    <tr>\n",
       "      <th>2</th>\n",
       "      <td>시도별</td>\n",
       "      <td>합  계</td>\n",
       "      <td>증감률</td>\n",
       "      <td>NaN</td>\n",
       "      <td>NaN</td>\n",
       "      <td>NaN</td>\n",
       "      <td>산업용</td>\n",
       "      <td>열병합</td>\n",
       "      <td>열병합</td>\n",
       "      <td>열전용</td>\n",
       "      <td>수송용</td>\n",
       "      <td>연료</td>\n",
       "      <td>합  계</td>\n",
       "      <td>증감률</td>\n",
       "    </tr>\n",
       "  </tbody>\n",
       "</table>\n",
       "</div>"
      ],
      "text/plain": [
       "                                  회사 수요가수_합계 수요가수_증감률 공급량_가정용 공급량_일반용 공급량_업무용  \\\n",
       "0  2023년 04월 용도별 수요가수 및 공급량 구분 (수도권)     NaN      NaN     NaN     NaN     NaN   \n",
       "1                                NaN     NaN      NaN     NaN     NaN     NaN   \n",
       "2                                시도별    합  계      증감률     NaN     NaN     NaN   \n",
       "\n",
       "  공급량_산업용 공급량_열병합1 공급량_열병합2 공급량_열전용설비용 공급량_수송용 공급량_연료전지용 공급량_합계 공급량_증감률  \n",
       "0     NaN      NaN      NaN        NaN     NaN       NaN    NaN     NaN  \n",
       "1     NaN      NaN      NaN        NaN     NaN       NaN    NaN     NaN  \n",
       "2     산업용      열병합      열병합        열전용     수송용        연료   합  계     증감률  "
      ]
     },
     "execution_count": 56,
     "metadata": {},
     "output_type": "execute_result"
    }
   ],
   "source": [
    "df_data.head(3)"
   ]
  },
  {
   "cell_type": "markdown",
   "metadata": {},
   "source": [
    "### 2. 필요한 데이터만 추출 및 전처리"
   ]
  },
  {
   "cell_type": "code",
   "execution_count": 57,
   "metadata": {},
   "outputs": [
    {
     "data": {
      "text/plain": [
       "(6, 14)"
      ]
     },
     "execution_count": 57,
     "metadata": {},
     "output_type": "execute_result"
    }
   ],
   "source": [
    "target_company = ['*서울(계)', '*삼천리(계)', '*부산(계)', '*대성(계)', '*경동(계)', '*CNCITY(계)']\n",
    "df_target_data = df_data.query(\"회사 in @target_company\")\n",
    "df_target_data.shape"
   ]
  },
  {
   "cell_type": "code",
   "execution_count": 58,
   "metadata": {},
   "outputs": [
    {
     "data": {
      "text/html": [
       "<div>\n",
       "<style scoped>\n",
       "    .dataframe tbody tr th:only-of-type {\n",
       "        vertical-align: middle;\n",
       "    }\n",
       "\n",
       "    .dataframe tbody tr th {\n",
       "        vertical-align: top;\n",
       "    }\n",
       "\n",
       "    .dataframe thead th {\n",
       "        text-align: right;\n",
       "    }\n",
       "</style>\n",
       "<table border=\"1\" class=\"dataframe\">\n",
       "  <thead>\n",
       "    <tr style=\"text-align: right;\">\n",
       "      <th></th>\n",
       "      <th>회사</th>\n",
       "      <th>수요가수_합계</th>\n",
       "      <th>수요가수_증감률</th>\n",
       "      <th>공급량_가정용</th>\n",
       "      <th>공급량_일반용</th>\n",
       "      <th>공급량_업무용</th>\n",
       "      <th>공급량_산업용</th>\n",
       "      <th>공급량_열병합1</th>\n",
       "      <th>공급량_열병합2</th>\n",
       "      <th>공급량_열전용설비용</th>\n",
       "      <th>공급량_수송용</th>\n",
       "      <th>공급량_연료전지용</th>\n",
       "      <th>공급량_합계</th>\n",
       "      <th>공급량_증감률</th>\n",
       "    </tr>\n",
       "  </thead>\n",
       "  <tbody>\n",
       "    <tr>\n",
       "      <th>32</th>\n",
       "      <td>*서울(계)</td>\n",
       "      <td>2634193</td>\n",
       "      <td>1.178913</td>\n",
       "      <td>3996678</td>\n",
       "      <td>1050568</td>\n",
       "      <td>206033</td>\n",
       "      <td>253910.054852</td>\n",
       "      <td>10814.271008</td>\n",
       "      <td>107686</td>\n",
       "      <td>81407</td>\n",
       "      <td>354698</td>\n",
       "      <td>51111.728992</td>\n",
       "      <td>6112906.054852</td>\n",
       "      <td>-17.193565</td>\n",
       "    </tr>\n",
       "    <tr>\n",
       "      <th>35</th>\n",
       "      <td>*삼천리(계)</td>\n",
       "      <td>3378438</td>\n",
       "      <td>2.236381</td>\n",
       "      <td>4116415.320424</td>\n",
       "      <td>1347662.29889</td>\n",
       "      <td>473607.670997</td>\n",
       "      <td>4980676.662579</td>\n",
       "      <td>4013.988172</td>\n",
       "      <td>7051.657612</td>\n",
       "      <td>72238.36665</td>\n",
       "      <td>605792.942015</td>\n",
       "      <td>969671.373657</td>\n",
       "      <td>12577130.280996</td>\n",
       "      <td>-7.731603</td>\n",
       "    </tr>\n",
       "    <tr>\n",
       "      <th>97</th>\n",
       "      <td>*부산(계)</td>\n",
       "      <td>1587788</td>\n",
       "      <td>0.758455</td>\n",
       "      <td>1853753.248875</td>\n",
       "      <td>526337.919058</td>\n",
       "      <td>64470.499838</td>\n",
       "      <td>1123995.374945</td>\n",
       "      <td>4755.222417</td>\n",
       "      <td>96.721148</td>\n",
       "      <td>7563.447747</td>\n",
       "      <td>300731.181241</td>\n",
       "      <td>196281.324236</td>\n",
       "      <td>4077984.939507</td>\n",
       "      <td>-12.667824</td>\n",
       "    </tr>\n",
       "    <tr>\n",
       "      <th>98</th>\n",
       "      <td>*대성(계)</td>\n",
       "      <td>1215586</td>\n",
       "      <td>0.914098</td>\n",
       "      <td>2380331.151555</td>\n",
       "      <td>333249.620118</td>\n",
       "      <td>101546.831837</td>\n",
       "      <td>849620.982444</td>\n",
       "      <td>14642.582844</td>\n",
       "      <td>129.780413</td>\n",
       "      <td>38095.007252</td>\n",
       "      <td>266105.329233</td>\n",
       "      <td>7375.513169</td>\n",
       "      <td>3991096.798864</td>\n",
       "      <td>-20.556008</td>\n",
       "    </tr>\n",
       "    <tr>\n",
       "      <th>100</th>\n",
       "      <td>*CNCITY(계)</td>\n",
       "      <td>681157</td>\n",
       "      <td>2.088051</td>\n",
       "      <td>954937</td>\n",
       "      <td>287055</td>\n",
       "      <td>101045</td>\n",
       "      <td>279093</td>\n",
       "      <td>537</td>\n",
       "      <td>93536</td>\n",
       "      <td>657</td>\n",
       "      <td>107945</td>\n",
       "      <td>41084</td>\n",
       "      <td>1865889</td>\n",
       "      <td>-6.653131</td>\n",
       "    </tr>\n",
       "    <tr>\n",
       "      <th>121</th>\n",
       "      <td>*경동(계)</td>\n",
       "      <td>633334</td>\n",
       "      <td>1.231722</td>\n",
       "      <td>1058654.57523</td>\n",
       "      <td>271965.21927</td>\n",
       "      <td>33187.286</td>\n",
       "      <td>4193029.765023</td>\n",
       "      <td>1471.04981</td>\n",
       "      <td>116167.64429</td>\n",
       "      <td>50337.74708</td>\n",
       "      <td>124341.19535</td>\n",
       "      <td>142922.01199</td>\n",
       "      <td>5992076.494043</td>\n",
       "      <td>-35.606669</td>\n",
       "    </tr>\n",
       "  </tbody>\n",
       "</table>\n",
       "</div>"
      ],
      "text/plain": [
       "             회사  수요가수_합계  수요가수_증감률         공급량_가정용        공급량_일반용  \\\n",
       "32       *서울(계)  2634193  1.178913         3996678        1050568   \n",
       "35      *삼천리(계)  3378438  2.236381  4116415.320424  1347662.29889   \n",
       "97       *부산(계)  1587788  0.758455  1853753.248875  526337.919058   \n",
       "98       *대성(계)  1215586  0.914098  2380331.151555  333249.620118   \n",
       "100  *CNCITY(계)   681157  2.088051          954937         287055   \n",
       "121      *경동(계)   633334  1.231722   1058654.57523   271965.21927   \n",
       "\n",
       "           공급량_업무용         공급량_산업용      공급량_열병합1      공급량_열병합2    공급량_열전용설비용  \\\n",
       "32          206033   253910.054852  10814.271008        107686         81407   \n",
       "35   473607.670997  4980676.662579   4013.988172   7051.657612   72238.36665   \n",
       "97    64470.499838  1123995.374945   4755.222417     96.721148   7563.447747   \n",
       "98   101546.831837   849620.982444  14642.582844    129.780413  38095.007252   \n",
       "100         101045          279093           537         93536           657   \n",
       "121      33187.286  4193029.765023    1471.04981  116167.64429   50337.74708   \n",
       "\n",
       "           공급량_수송용      공급량_연료전지용           공급량_합계    공급량_증감률  \n",
       "32          354698   51111.728992   6112906.054852 -17.193565  \n",
       "35   605792.942015  969671.373657  12577130.280996  -7.731603  \n",
       "97   300731.181241  196281.324236   4077984.939507 -12.667824  \n",
       "98   266105.329233    7375.513169   3991096.798864 -20.556008  \n",
       "100         107945          41084          1865889  -6.653131  \n",
       "121   124341.19535   142922.01199   5992076.494043 -35.606669  "
      ]
     },
     "execution_count": 58,
     "metadata": {},
     "output_type": "execute_result"
    }
   ],
   "source": [
    "df_target_data"
   ]
  },
  {
   "cell_type": "code",
   "execution_count": 59,
   "metadata": {},
   "outputs": [],
   "source": [
    "# 회사명에서 \"(계)\" 삭제: '(', ')'는 특수문자임\n",
    "# df_target_data['회사'] = df_target_data['회사'].str.replace(pat='[^\\w]계[^\\w]', repl='', regex=True)\n",
    "df_target_data.loc[:, ('회사')] = df_target_data['회사'].str.replace(pat='[^\\w]계[^\\w]', repl='', regex=True)\n",
    "\n",
    "# 회사명에서 \"*\" 삭제: '*'는 특수문자임\n",
    "# df_target_data['회사'] = df_target_data['회사'].str.replace(pat='[^\\w]', repl='', regex=True)\n",
    "df_target_data.loc[:, ('회사')] = df_target_data['회사'].str.replace(pat='[^\\w]', repl='', regex=True)"
   ]
  },
  {
   "cell_type": "code",
   "execution_count": 60,
   "metadata": {},
   "outputs": [
    {
     "name": "stdout",
     "output_type": "stream",
     "text": [
      "도시가스사 수요가수 및 공급량(기준년월: 202304)\n"
     ]
    },
    {
     "data": {
      "text/html": [
       "<div>\n",
       "<style scoped>\n",
       "    .dataframe tbody tr th:only-of-type {\n",
       "        vertical-align: middle;\n",
       "    }\n",
       "\n",
       "    .dataframe tbody tr th {\n",
       "        vertical-align: top;\n",
       "    }\n",
       "\n",
       "    .dataframe thead th {\n",
       "        text-align: right;\n",
       "    }\n",
       "</style>\n",
       "<table border=\"1\" class=\"dataframe\">\n",
       "  <thead>\n",
       "    <tr style=\"text-align: right;\">\n",
       "      <th></th>\n",
       "      <th>회사</th>\n",
       "      <th>수요가수_합계</th>\n",
       "      <th>수요가수_증감률</th>\n",
       "      <th>공급량_가정용</th>\n",
       "      <th>공급량_일반용</th>\n",
       "      <th>공급량_업무용</th>\n",
       "      <th>공급량_산업용</th>\n",
       "      <th>공급량_열병합1</th>\n",
       "      <th>공급량_열병합2</th>\n",
       "      <th>공급량_열전용설비용</th>\n",
       "      <th>공급량_수송용</th>\n",
       "      <th>공급량_연료전지용</th>\n",
       "      <th>공급량_합계</th>\n",
       "      <th>공급량_증감률</th>\n",
       "    </tr>\n",
       "  </thead>\n",
       "  <tbody>\n",
       "    <tr>\n",
       "      <th>0</th>\n",
       "      <td>서울</td>\n",
       "      <td>2634193</td>\n",
       "      <td>1.178913</td>\n",
       "      <td>3996678</td>\n",
       "      <td>1050568</td>\n",
       "      <td>206033</td>\n",
       "      <td>253910.054852</td>\n",
       "      <td>10814.271008</td>\n",
       "      <td>107686</td>\n",
       "      <td>81407</td>\n",
       "      <td>354698</td>\n",
       "      <td>51111.728992</td>\n",
       "      <td>6112906.054852</td>\n",
       "      <td>-17.193565</td>\n",
       "    </tr>\n",
       "    <tr>\n",
       "      <th>1</th>\n",
       "      <td>삼천리</td>\n",
       "      <td>3378438</td>\n",
       "      <td>2.236381</td>\n",
       "      <td>4116415.320424</td>\n",
       "      <td>1347662.29889</td>\n",
       "      <td>473607.670997</td>\n",
       "      <td>4980676.662579</td>\n",
       "      <td>4013.988172</td>\n",
       "      <td>7051.657612</td>\n",
       "      <td>72238.36665</td>\n",
       "      <td>605792.942015</td>\n",
       "      <td>969671.373657</td>\n",
       "      <td>12577130.280996</td>\n",
       "      <td>-7.731603</td>\n",
       "    </tr>\n",
       "    <tr>\n",
       "      <th>2</th>\n",
       "      <td>부산</td>\n",
       "      <td>1587788</td>\n",
       "      <td>0.758455</td>\n",
       "      <td>1853753.248875</td>\n",
       "      <td>526337.919058</td>\n",
       "      <td>64470.499838</td>\n",
       "      <td>1123995.374945</td>\n",
       "      <td>4755.222417</td>\n",
       "      <td>96.721148</td>\n",
       "      <td>7563.447747</td>\n",
       "      <td>300731.181241</td>\n",
       "      <td>196281.324236</td>\n",
       "      <td>4077984.939507</td>\n",
       "      <td>-12.667824</td>\n",
       "    </tr>\n",
       "    <tr>\n",
       "      <th>3</th>\n",
       "      <td>대성</td>\n",
       "      <td>1215586</td>\n",
       "      <td>0.914098</td>\n",
       "      <td>2380331.151555</td>\n",
       "      <td>333249.620118</td>\n",
       "      <td>101546.831837</td>\n",
       "      <td>849620.982444</td>\n",
       "      <td>14642.582844</td>\n",
       "      <td>129.780413</td>\n",
       "      <td>38095.007252</td>\n",
       "      <td>266105.329233</td>\n",
       "      <td>7375.513169</td>\n",
       "      <td>3991096.798864</td>\n",
       "      <td>-20.556008</td>\n",
       "    </tr>\n",
       "    <tr>\n",
       "      <th>4</th>\n",
       "      <td>CNCITY</td>\n",
       "      <td>681157</td>\n",
       "      <td>2.088051</td>\n",
       "      <td>954937</td>\n",
       "      <td>287055</td>\n",
       "      <td>101045</td>\n",
       "      <td>279093</td>\n",
       "      <td>537</td>\n",
       "      <td>93536</td>\n",
       "      <td>657</td>\n",
       "      <td>107945</td>\n",
       "      <td>41084</td>\n",
       "      <td>1865889</td>\n",
       "      <td>-6.653131</td>\n",
       "    </tr>\n",
       "    <tr>\n",
       "      <th>5</th>\n",
       "      <td>경동</td>\n",
       "      <td>633334</td>\n",
       "      <td>1.231722</td>\n",
       "      <td>1058654.57523</td>\n",
       "      <td>271965.21927</td>\n",
       "      <td>33187.286</td>\n",
       "      <td>4193029.765023</td>\n",
       "      <td>1471.04981</td>\n",
       "      <td>116167.64429</td>\n",
       "      <td>50337.74708</td>\n",
       "      <td>124341.19535</td>\n",
       "      <td>142922.01199</td>\n",
       "      <td>5992076.494043</td>\n",
       "      <td>-35.606669</td>\n",
       "    </tr>\n",
       "  </tbody>\n",
       "</table>\n",
       "</div>"
      ],
      "text/plain": [
       "       회사  수요가수_합계  수요가수_증감률         공급량_가정용        공급량_일반용        공급량_업무용  \\\n",
       "0      서울  2634193  1.178913         3996678        1050568         206033   \n",
       "1     삼천리  3378438  2.236381  4116415.320424  1347662.29889  473607.670997   \n",
       "2      부산  1587788  0.758455  1853753.248875  526337.919058   64470.499838   \n",
       "3      대성  1215586  0.914098  2380331.151555  333249.620118  101546.831837   \n",
       "4  CNCITY   681157  2.088051          954937         287055         101045   \n",
       "5      경동   633334  1.231722   1058654.57523   271965.21927      33187.286   \n",
       "\n",
       "          공급량_산업용      공급량_열병합1      공급량_열병합2    공급량_열전용설비용        공급량_수송용  \\\n",
       "0   253910.054852  10814.271008        107686         81407         354698   \n",
       "1  4980676.662579   4013.988172   7051.657612   72238.36665  605792.942015   \n",
       "2  1123995.374945   4755.222417     96.721148   7563.447747  300731.181241   \n",
       "3   849620.982444  14642.582844    129.780413  38095.007252  266105.329233   \n",
       "4          279093           537         93536           657         107945   \n",
       "5  4193029.765023    1471.04981  116167.64429   50337.74708   124341.19535   \n",
       "\n",
       "       공급량_연료전지용           공급량_합계    공급량_증감률  \n",
       "0   51111.728992   6112906.054852 -17.193565  \n",
       "1  969671.373657  12577130.280996  -7.731603  \n",
       "2  196281.324236   4077984.939507 -12.667824  \n",
       "3    7375.513169   3991096.798864 -20.556008  \n",
       "4          41084          1865889  -6.653131  \n",
       "5   142922.01199   5992076.494043 -35.606669  "
      ]
     },
     "execution_count": 60,
     "metadata": {},
     "output_type": "execute_result"
    }
   ],
   "source": [
    "# 인덱스 초기화\n",
    "df_target_data.reset_index(drop=True, inplace=True)\n",
    "print(f\"도시가스사 수요가수 및 공급량(기준년월: {base_ym})\")\n",
    "df_target_data"
   ]
  },
  {
   "cell_type": "code",
   "execution_count": 34,
   "metadata": {},
   "outputs": [],
   "source": [
    "# df_target_data = df_target_data.astype({'수요가수_합계' : 'float'})"
   ]
  },
  {
   "cell_type": "code",
   "execution_count": 61,
   "metadata": {},
   "outputs": [
    {
     "data": {
      "text/plain": [
       "회사            object\n",
       "수요가수_합계       object\n",
       "수요가수_증감률      object\n",
       "공급량_가정용       object\n",
       "공급량_일반용       object\n",
       "공급량_업무용       object\n",
       "공급량_산업용       object\n",
       "공급량_열병합1      object\n",
       "공급량_열병합2      object\n",
       "공급량_열전용설비용    object\n",
       "공급량_수송용       object\n",
       "공급량_연료전지용     object\n",
       "공급량_합계        object\n",
       "공급량_증감률       object\n",
       "dtype: object"
      ]
     },
     "execution_count": 61,
     "metadata": {},
     "output_type": "execute_result"
    }
   ],
   "source": [
    "df_target_data.dtypes"
   ]
  },
  {
   "cell_type": "markdown",
   "metadata": {},
   "source": [
    "### 4. 그래프 (시각화)"
   ]
  },
  {
   "cell_type": "code",
   "execution_count": 62,
   "metadata": {},
   "outputs": [],
   "source": [
    "import numpy as np\n",
    "\n",
    "from matplotlib import rcParams\n",
    "import matplotlib.pyplot as plt\n",
    "import warnings\n",
    "warnings.filterwarnings('ignore')   # 경고창 무시\n",
    "\n",
    "# 한글 폰트 설정\n",
    "rcParams['font.family'] ='Malgun Gothic'\n",
    "rcParams['axes.unicode_minus'] = False"
   ]
  },
  {
   "cell_type": "code",
   "execution_count": 63,
   "metadata": {},
   "outputs": [
    {
     "data": {
      "image/png": "[encoded data removed]",
      "text/plain": [
       "<Figure size 1000x500 with 1 Axes>"
      ]
     },
     "metadata": {},
     "output_type": "display_data"
    }
   ],
   "source": [
    "\"\"\" 하나의 그래프에 (1)수요가수, (2)공급량(천MJ) 같이 그리기 \"\"\"\n",
    "\n",
    "plt.figure(figsize=(10,5))\n",
    "plt.plot(df_target_data['회사'], df_target_data['수요가수_합계'], \\\n",
    "         df_target_data['회사'], df_target_data['공급량_합계'])\n",
    "plt.xlabel('회사')\n",
    "plt.ylabel('수요가수 및 공급량(천MJ)')\n",
    "plt.title('주요 도시가스사 수요가수 및 공급량')\n",
    "plt.show();"
   ]
  },
  {
   "cell_type": "code",
   "execution_count": 64,
   "metadata": {},
   "outputs": [
    {
     "data": {
      "image/png": "[encoded data removed]",
      "text/plain": [
       "<Figure size 1000x500 with 2 Axes>"
      ]
     },
     "metadata": {},
     "output_type": "display_data"
    }
   ],
   "source": [
    "\"\"\" (1)수요가수, (2)공급량(천MJ) 각각 그래프 그리고 한 화면에 표시 \"\"\"\n",
    "\n",
    "plt.figure(figsize=(10,5))\n",
    "\n",
    "plt.subplot(211)\n",
    "line = plt.plot(df_target_data['회사'], df_target_data['수요가수_합계'])\n",
    "plt.setp(line, color='r', linewidth=3.0)\n",
    "# plt.xticks(np.arange(0, 3000000, 500000))\n",
    "plt.ylabel('수요가수')\n",
    "\n",
    "plt.subplot(212)\n",
    "plt.bar(df_target_data['회사'], df_target_data['공급량_합계'])\n",
    "# line = plt.plot(df_target_data['회사'], df_target_data['공급량_합계'])\n",
    "# plt.setp(line, color='b', linewidth=3.0)\n",
    "plt.ylabel('공급량(천MJ)')\n",
    "\n",
    "plt.show();"
   ]
  },
  {
   "cell_type": "code",
   "execution_count": 65,
   "metadata": {},
   "outputs": [
    {
     "data": {
      "application/vnd.plotly.v1+json": {
       "config": {
        "plotlyServerURL": "https://plot.ly"
       },
       "data": [
        {
         "alignmentgroup": "True",
         "customdata": [
          [
           1.1789130017284424,
           3996678,
           1050568,
           206033,
           253910.054852,
           10814.2710081,
           107686,
           81407,
           354698,
           51111.7289919,
           6112906.054852,
           -17.1935646695018
          ]
         ],
         "hovertemplate": "회사=%{x}<br>수요가수_합계=%{y}<br>수요가수_증감률=%{customdata[0]}<br>공급량_가정용=%{customdata[1]}<br>공급량_일반용=%{customdata[2]}<br>공급량_업무용=%{customdata[3]}<br>공급량_산업용=%{customdata[4]}<br>공급량_열병합1=%{customdata[5]}<br>공급량_열병합2=%{customdata[6]}<br>공급량_열전용설비용=%{customdata[7]}<br>공급량_수송용=%{customdata[8]}<br>공급량_연료전지용=%{customdata[9]}<br>공급량_합계=%{customdata[10]}<br>공급량_증감률=%{customdata[11]}<extra></extra>",
         "legendgroup": "서울",
         "marker": {
          "color": "#636efa",
          "pattern": {
           "shape": ""
          }
         },
         "name": "서울",
         "offsetgroup": "서울",
         "orientation": "v",
         "showlegend": true,
         "textposition": "auto",
         "type": "bar",
         "x": [
          "서울"
         ],
         "xaxis": "x",
         "y": [
          2634193
         ],
         "yaxis": "y"
        },
        {
         "alignmentgroup": "True",
         "customdata": [
          [
           2.236380538750372,
           4116415.3204240003,
           1347662.29889,
           473607.67099699995,
           4980676.6625787,
           4013.988172,
           7051.657612,
           72238.36665,
           605792.942015,
           969671.373657,
           12577130.280995699,
           -7.7316029413564396
          ]
         ],
         "hovertemplate": "회사=%{x}<br>수요가수_합계=%{y}<br>수요가수_증감률=%{customdata[0]}<br>공급량_가정용=%{customdata[1]}<br>공급량_일반용=%{customdata[2]}<br>공급량_업무용=%{customdata[3]}<br>공급량_산업용=%{customdata[4]}<br>공급량_열병합1=%{customdata[5]}<br>공급량_열병합2=%{customdata[6]}<br>공급량_열전용설비용=%{customdata[7]}<br>공급량_수송용=%{customdata[8]}<br>공급량_연료전지용=%{customdata[9]}<br>공급량_합계=%{customdata[10]}<br>공급량_증감률=%{customdata[11]}<extra></extra>",
         "legendgroup": "삼천리",
         "marker": {
          "color": "#EF553B",
          "pattern": {
           "shape": ""
          }
         },
         "name": "삼천리",
         "offsetgroup": "삼천리",
         "orientation": "v",
         "showlegend": true,
         "textposition": "auto",
         "type": "bar",
         "x": [
          "삼천리"
         ],
         "xaxis": "x",
         "y": [
          3378438
         ],
         "yaxis": "y"
        },
        {
         "alignmentgroup": "True",
         "customdata": [
          [
           0.7584545599922834,
           1853753.2488754,
           526337.9190579,
           64470.4998385,
           1123995.3749454,
           4755.2224169,
           96.721148,
           7563.447747,
           300731.1812411,
           196281.3242364,
           4077984.9395066,
           -12.667823742875786
          ]
         ],
         "hovertemplate": "회사=%{x}<br>수요가수_합계=%{y}<br>수요가수_증감률=%{customdata[0]}<br>공급량_가정용=%{customdata[1]}<br>공급량_일반용=%{customdata[2]}<br>공급량_업무용=%{customdata[3]}<br>공급량_산업용=%{customdata[4]}<br>공급량_열병합1=%{customdata[5]}<br>공급량_열병합2=%{customdata[6]}<br>공급량_열전용설비용=%{customdata[7]}<br>공급량_수송용=%{customdata[8]}<br>공급량_연료전지용=%{customdata[9]}<br>공급량_합계=%{customdata[10]}<br>공급량_증감률=%{customdata[11]}<extra></extra>",
         "legendgroup": "부산",
         "marker": {
          "color": "#00cc96",
          "pattern": {
           "shape": ""
          }
         },
         "name": "부산",
         "offsetgroup": "부산",
         "orientation": "v",
         "showlegend": true,
         "textposition": "auto",
         "type": "bar",
         "x": [
          "부산"
         ],
         "xaxis": "x",
         "y": [
          1587788
         ],
         "yaxis": "y"
        },
        {
         "alignmentgroup": "True",
         "customdata": [
          [
           0.9140983334371043,
           2380331.1515547,
           333249.62011769996,
           101546.8318372,
           849620.9824441,
           14642.582844,
           129.780413,
           38095.007252,
           266105.3292329,
           7375.5131686,
           3991096.7988642,
           -20.5560082040285
          ]
         ],
         "hovertemplate": "회사=%{x}<br>수요가수_합계=%{y}<br>수요가수_증감률=%{customdata[0]}<br>공급량_가정용=%{customdata[1]}<br>공급량_일반용=%{customdata[2]}<br>공급량_업무용=%{customdata[3]}<br>공급량_산업용=%{customdata[4]}<br>공급량_열병합1=%{customdata[5]}<br>공급량_열병합2=%{customdata[6]}<br>공급량_열전용설비용=%{customdata[7]}<br>공급량_수송용=%{customdata[8]}<br>공급량_연료전지용=%{customdata[9]}<br>공급량_합계=%{customdata[10]}<br>공급량_증감률=%{customdata[11]}<extra></extra>",
         "legendgroup": "대성",
         "marker": {
          "color": "#ab63fa",
          "pattern": {
           "shape": ""
          }
         },
         "name": "대성",
         "offsetgroup": "대성",
         "orientation": "v",
         "showlegend": true,
         "textposition": "auto",
         "type": "bar",
         "x": [
          "대성"
         ],
         "xaxis": "x",
         "y": [
          1215586
         ],
         "yaxis": "y"
        },
        {
         "alignmentgroup": "True",
         "customdata": [
          [
           2.088051257072202,
           954937,
           287055,
           101045,
           279093,
           537,
           93536,
           657,
           107945,
           41084,
           1865889,
           -6.653131010899766
          ]
         ],
         "hovertemplate": "회사=%{x}<br>수요가수_합계=%{y}<br>수요가수_증감률=%{customdata[0]}<br>공급량_가정용=%{customdata[1]}<br>공급량_일반용=%{customdata[2]}<br>공급량_업무용=%{customdata[3]}<br>공급량_산업용=%{customdata[4]}<br>공급량_열병합1=%{customdata[5]}<br>공급량_열병합2=%{customdata[6]}<br>공급량_열전용설비용=%{customdata[7]}<br>공급량_수송용=%{customdata[8]}<br>공급량_연료전지용=%{customdata[9]}<br>공급량_합계=%{customdata[10]}<br>공급량_증감률=%{customdata[11]}<extra></extra>",
         "legendgroup": "CNCITY",
         "marker": {
          "color": "#FFA15A",
          "pattern": {
           "shape": ""
          }
         },
         "name": "CNCITY",
         "offsetgroup": "CNCITY",
         "orientation": "v",
         "showlegend": true,
         "textposition": "auto",
         "type": "bar",
         "x": [
          "CNCITY"
         ],
         "xaxis": "x",
         "y": [
          681157
         ],
         "yaxis": "y"
        },
        {
         "alignmentgroup": "True",
         "customdata": [
          [
           1.231722365367279,
           1058654.57523,
           271965.21927,
           33187.286,
           4193029.7650233004,
           1471.04981,
           116167.64429,
           50337.74708,
           124341.19535,
           142922.01199,
           5992076.4940433,
           -35.60666912067671
          ]
         ],
         "hovertemplate": "회사=%{x}<br>수요가수_합계=%{y}<br>수요가수_증감률=%{customdata[0]}<br>공급량_가정용=%{customdata[1]}<br>공급량_일반용=%{customdata[2]}<br>공급량_업무용=%{customdata[3]}<br>공급량_산업용=%{customdata[4]}<br>공급량_열병합1=%{customdata[5]}<br>공급량_열병합2=%{customdata[6]}<br>공급량_열전용설비용=%{customdata[7]}<br>공급량_수송용=%{customdata[8]}<br>공급량_연료전지용=%{customdata[9]}<br>공급량_합계=%{customdata[10]}<br>공급량_증감률=%{customdata[11]}<extra></extra>",
         "legendgroup": "경동",
         "marker": {
          "color": "#19d3f3",
          "pattern": {
           "shape": ""
          }
         },
         "name": "경동",
         "offsetgroup": "경동",
         "orientation": "v",
         "showlegend": true,
         "textposition": "auto",
         "type": "bar",
         "x": [
          "경동"
         ],
         "xaxis": "x",
         "y": [
          633334
         ],
         "yaxis": "y"
        }
       ],
       "layout": {
        "barmode": "relative",
        "legend": {
         "title": {
          "text": "회사"
         },
         "tracegroupgap": 0
        },
        "template": {
         "data": {
          "bar": [
           {
            "error_x": {
             "color": "#2a3f5f"
            },
            "error_y": {
             "color": "#2a3f5f"
            },
            "marker": {
             "line": {
              "color": "#E5ECF6",
              "width": 0.5
             },
             "pattern": {
              "fillmode": "overlay",
              "size": 10,
              "solidity": 0.2
             }
            },
            "type": "bar"
           }
          ],
          "barpolar": [
           {
            "marker": {
             "line": {
              "color": "#E5ECF6",
              "width": 0.5
             },
             "pattern": {
              "fillmode": "overlay",
              "size": 10,
              "solidity": 0.2
             }
            },
            "type": "barpolar"
           }
          ],
          "carpet": [
           {
            "aaxis": {
             "endlinecolor": "#2a3f5f",
             "gridcolor": "white",
             "linecolor": "white",
             "minorgridcolor": "white",
             "startlinecolor": "#2a3f5f"
            },
            "baxis": {
             "endlinecolor": "#2a3f5f",
             "gridcolor": "white",
             "linecolor": "white",
             "minorgridcolor": "white",
             "startlinecolor": "#2a3f5f"
            },
            "type": "carpet"
           }
          ],
          "choropleth": [
           {
            "colorbar": {
             "outlinewidth": 0,
             "ticks": ""
            },
            "type": "choropleth"
           }
          ],
          "contour": [
           {
            "colorbar": {
             "outlinewidth": 0,
             "ticks": ""
            },
            "colorscale": [
             [
              0,
              "#0d0887"
             ],
             [
              0.1111111111111111,
              "#46039f"
             ],
             [
              0.2222222222222222,
              "#7201a8"
             ],
             [
              0.3333333333333333,
              "#9c179e"
             ],
             [
              0.4444444444444444,
              "#bd3786"
             ],
             [
              0.5555555555555556,
              "#d8576b"
             ],
             [
              0.6666666666666666,
              "#ed7953"
             ],
             [
              0.7777777777777778,
              "#fb9f3a"
             ],
             [
              0.8888888888888888,
              "#fdca26"
             ],
             [
              1,
              "#f0f921"
             ]
            ],
            "type": "contour"
           }
          ],
          "contourcarpet": [
           {
            "colorbar": {
             "outlinewidth": 0,
             "ticks": ""
            },
            "type": "contourcarpet"
           }
          ],
          "heatmap": [
           {
            "colorbar": {
             "outlinewidth": 0,
             "ticks": ""
            },
            "colorscale": [
             [
              0,
              "#0d0887"
             ],
             [
              0.1111111111111111,
              "#46039f"
             ],
             [
              0.2222222222222222,
              "#7201a8"
             ],
             [
              0.3333333333333333,
              "#9c179e"
             ],
             [
              0.4444444444444444,
              "#bd3786"
             ],
             [
              0.5555555555555556,
              "#d8576b"
             ],
             [
              0.6666666666666666,
              "#ed7953"
             ],
             [
              0.7777777777777778,
              "#fb9f3a"
             ],
             [
              0.8888888888888888,
              "#fdca26"
             ],
             [
              1,
              "#f0f921"
             ]
            ],
            "type": "heatmap"
           }
          ],
          "heatmapgl": [
           {
            "colorbar": {
             "outlinewidth": 0,
             "ticks": ""
            },
            "colorscale": [
             [
              0,
              "#0d0887"
             ],
             [
              0.1111111111111111,
              "#46039f"
             ],
             [
              0.2222222222222222,
              "#7201a8"
             ],
             [
              0.3333333333333333,
              "#9c179e"
             ],
             [
              0.4444444444444444,
              "#bd3786"
             ],
             [
              0.5555555555555556,
              "#d8576b"
             ],
             [
              0.6666666666666666,
              "#ed7953"
             ],
             [
              0.7777777777777778,
              "#fb9f3a"
             ],
             [
              0.8888888888888888,
              "#fdca26"
             ],
             [
              1,
              "#f0f921"
             ]
            ],
            "type": "heatmapgl"
           }
          ],
          "histogram": [
           {
            "marker": {
             "pattern": {
              "fillmode": "overlay",
              "size": 10,
              "solidity": 0.2
             }
            },
            "type": "histogram"
           }
          ],
          "histogram2d": [
           {
            "colorbar": {
             "outlinewidth": 0,
             "ticks": ""
            },
            "colorscale": [
             [
              0,
              "#0d0887"
             ],
             [
              0.1111111111111111,
              "#46039f"
             ],
             [
              0.2222222222222222,
              "#7201a8"
             ],
             [
              0.3333333333333333,
              "#9c179e"
             ],
             [
              0.4444444444444444,
              "#bd3786"
             ],
             [
              0.5555555555555556,
              "#d8576b"
             ],
             [
              0.6666666666666666,
              "#ed7953"
             ],
             [
              0.7777777777777778,
              "#fb9f3a"
             ],
             [
              0.8888888888888888,
              "#fdca26"
             ],
             [
              1,
              "#f0f921"
             ]
            ],
            "type": "histogram2d"
           }
          ],
          "histogram2dcontour": [
           {
            "colorbar": {
             "outlinewidth": 0,
             "ticks": ""
            },
            "colorscale": [
             [
              0,
              "#0d0887"
             ],
             [
              0.1111111111111111,
              "#46039f"
             ],
             [
              0.2222222222222222,
              "#7201a8"
             ],
             [
              0.3333333333333333,
              "#9c179e"
             ],
             [
              0.4444444444444444,
              "#bd3786"
             ],
             [
              0.5555555555555556,
              "#d8576b"
             ],
             [
              0.6666666666666666,
              "#ed7953"
             ],
             [
              0.7777777777777778,
              "#fb9f3a"
             ],
             [
              0.8888888888888888,
              "#fdca26"
             ],
             [
              1,
              "#f0f921"
             ]
            ],
            "type": "histogram2dcontour"
           }
          ],
          "mesh3d": [
           {
            "colorbar": {
             "outlinewidth": 0,
             "ticks": ""
            },
            "type": "mesh3d"
           }
          ],
          "parcoords": [
           {
            "line": {
             "colorbar": {
              "outlinewidth": 0,
              "ticks": ""
             }
            },
            "type": "parcoords"
           }
          ],
          "pie": [
           {
            "automargin": true,
            "type": "pie"
           }
          ],
          "scatter": [
           {
            "fillpattern": {
             "fillmode": "overlay",
             "size": 10,
             "solidity": 0.2
            },
            "type": "scatter"
           }
          ],
          "scatter3d": [
           {
            "line": {
             "colorbar": {
              "outlinewidth": 0,
              "ticks": ""
             }
            },
            "marker": {
             "colorbar": {
              "outlinewidth": 0,
              "ticks": ""
             }
            },
            "type": "scatter3d"
           }
          ],
          "scattercarpet": [
           {
            "marker": {
             "colorbar": {
              "outlinewidth": 0,
              "ticks": ""
             }
            },
            "type": "scattercarpet"
           }
          ],
          "scattergeo": [
           {
            "marker": {
             "colorbar": {
              "outlinewidth": 0,
              "ticks": ""
             }
            },
            "type": "scattergeo"
           }
          ],
          "scattergl": [
           {
            "marker": {
             "colorbar": {
              "outlinewidth": 0,
              "ticks": ""
             }
            },
            "type": "scattergl"
           }
          ],
          "scattermapbox": [
           {
            "marker": {
             "colorbar": {
              "outlinewidth": 0,
              "ticks": ""
             }
            },
            "type": "scattermapbox"
           }
          ],
          "scatterpolar": [
           {
            "marker": {
             "colorbar": {
              "outlinewidth": 0,
              "ticks": ""
             }
            },
            "type": "scatterpolar"
           }
          ],
          "scatterpolargl": [
           {
            "marker": {
             "colorbar": {
              "outlinewidth": 0,
              "ticks": ""
             }
            },
            "type": "scatterpolargl"
           }
          ],
          "scatterternary": [
           {
            "marker": {
             "colorbar": {
              "outlinewidth": 0,
              "ticks": ""
             }
            },
            "type": "scatterternary"
           }
          ],
          "surface": [
           {
            "colorbar": {
             "outlinewidth": 0,
             "ticks": ""
            },
            "colorscale": [
             [
              0,
              "#0d0887"
             ],
             [
              0.1111111111111111,
              "#46039f"
             ],
             [
              0.2222222222222222,
              "#7201a8"
             ],
             [
              0.3333333333333333,
              "#9c179e"
             ],
             [
              0.4444444444444444,
              "#bd3786"
             ],
             [
              0.5555555555555556,
              "#d8576b"
             ],
             [
              0.6666666666666666,
              "#ed7953"
             ],
             [
              0.7777777777777778,
              "#fb9f3a"
             ],
             [
              0.8888888888888888,
              "#fdca26"
             ],
             [
              1,
              "#f0f921"
             ]
            ],
            "type": "surface"
           }
          ],
          "table": [
           {
            "cells": {
             "fill": {
              "color": "#EBF0F8"
             },
             "line": {
              "color": "white"
             }
            },
            "header": {
             "fill": {
              "color": "#C8D4E3"
             },
             "line": {
              "color": "white"
             }
            },
            "type": "table"
           }
          ]
         },
         "layout": {
          "annotationdefaults": {
           "arrowcolor": "#2a3f5f",
           "arrowhead": 0,
           "arrowwidth": 1
          },
          "autotypenumbers": "strict",
          "coloraxis": {
           "colorbar": {
            "outlinewidth": 0,
            "ticks": ""
           }
          },
          "colorscale": {
           "diverging": [
            [
             0,
             "#8e0152"
            ],
            [
             0.1,
             "#c51b7d"
            ],
            [
             0.2,
             "#de77ae"
            ],
            [
             0.3,
             "#f1b6da"
            ],
            [
             0.4,
             "#fde0ef"
            ],
            [
             0.5,
             "#f7f7f7"
            ],
            [
             0.6,
             "#e6f5d0"
            ],
            [
             0.7,
             "#b8e186"
            ],
            [
             0.8,
             "#7fbc41"
            ],
            [
             0.9,
             "#4d9221"
            ],
            [
             1,
             "#276419"
            ]
           ],
           "sequential": [
            [
             0,
             "#0d0887"
            ],
            [
             0.1111111111111111,
             "#46039f"
            ],
            [
             0.2222222222222222,
             "#7201a8"
            ],
            [
             0.3333333333333333,
             "#9c179e"
            ],
            [
             0.4444444444444444,
             "#bd3786"
            ],
            [
             0.5555555555555556,
             "#d8576b"
            ],
            [
             0.6666666666666666,
             "#ed7953"
            ],
            [
             0.7777777777777778,
             "#fb9f3a"
            ],
            [
             0.8888888888888888,
             "#fdca26"
            ],
            [
             1,
             "#f0f921"
            ]
           ],
           "sequentialminus": [
            [
             0,
             "#0d0887"
            ],
            [
             0.1111111111111111,
             "#46039f"
            ],
            [
             0.2222222222222222,
             "#7201a8"
            ],
            [
             0.3333333333333333,
             "#9c179e"
            ],
            [
             0.4444444444444444,
             "#bd3786"
            ],
            [
             0.5555555555555556,
             "#d8576b"
            ],
            [
             0.6666666666666666,
             "#ed7953"
            ],
            [
             0.7777777777777778,
             "#fb9f3a"
            ],
            [
             0.8888888888888888,
             "#fdca26"
            ],
            [
             1,
             "#f0f921"
            ]
           ]
          },
          "colorway": [
           "#636efa",
           "#EF553B",
           "#00cc96",
           "#ab63fa",
           "#FFA15A",
           "#19d3f3",
           "#FF6692",
           "#B6E880",
           "#FF97FF",
           "#FECB52"
          ],
          "font": {
           "color": "#2a3f5f"
          },
          "geo": {
           "bgcolor": "white",
           "lakecolor": "white",
           "landcolor": "#E5ECF6",
           "showlakes": true,
           "showland": true,
           "subunitcolor": "white"
          },
          "hoverlabel": {
           "align": "left"
          },
          "hovermode": "closest",
          "mapbox": {
           "style": "light"
          },
          "paper_bgcolor": "white",
          "plot_bgcolor": "#E5ECF6",
          "polar": {
           "angularaxis": {
            "gridcolor": "white",
            "linecolor": "white",
            "ticks": ""
           },
           "bgcolor": "#E5ECF6",
           "radialaxis": {
            "gridcolor": "white",
            "linecolor": "white",
            "ticks": ""
           }
          },
          "scene": {
           "xaxis": {
            "backgroundcolor": "#E5ECF6",
            "gridcolor": "white",
            "gridwidth": 2,
            "linecolor": "white",
            "showbackground": true,
            "ticks": "",
            "zerolinecolor": "white"
           },
           "yaxis": {
            "backgroundcolor": "#E5ECF6",
            "gridcolor": "white",
            "gridwidth": 2,
            "linecolor": "white",
            "showbackground": true,
            "ticks": "",
            "zerolinecolor": "white"
           },
           "zaxis": {
            "backgroundcolor": "#E5ECF6",
            "gridcolor": "white",
            "gridwidth": 2,
            "linecolor": "white",
            "showbackground": true,
            "ticks": "",
            "zerolinecolor": "white"
           }
          },
          "shapedefaults": {
           "line": {
            "color": "#2a3f5f"
           }
          },
          "ternary": {
           "aaxis": {
            "gridcolor": "white",
            "linecolor": "white",
            "ticks": ""
           },
           "baxis": {
            "gridcolor": "white",
            "linecolor": "white",
            "ticks": ""
           },
           "bgcolor": "#E5ECF6",
           "caxis": {
            "gridcolor": "white",
            "linecolor": "white",
            "ticks": ""
           }
          },
          "title": {
           "x": 0.05
          },
          "xaxis": {
           "automargin": true,
           "gridcolor": "white",
           "linecolor": "white",
           "ticks": "",
           "title": {
            "standoff": 15
           },
           "zerolinecolor": "white",
           "zerolinewidth": 2
          },
          "yaxis": {
           "automargin": true,
           "gridcolor": "white",
           "linecolor": "white",
           "ticks": "",
           "title": {
            "standoff": 15
           },
           "zerolinecolor": "white",
           "zerolinewidth": 2
          }
         }
        },
        "title": {
         "text": "수요가수"
        },
        "xaxis": {
         "anchor": "y",
         "categoryarray": [
          "서울",
          "삼천리",
          "부산",
          "대성",
          "CNCITY",
          "경동"
         ],
         "categoryorder": "array",
         "domain": [
          0,
          1
         ],
         "title": {
          "text": "회사"
         }
        },
        "yaxis": {
         "anchor": "x",
         "domain": [
          0,
          1
         ],
         "title": {
          "text": "수요가수_합계"
         }
        }
       }
      }
     },
     "metadata": {},
     "output_type": "display_data"
    }
   ],
   "source": [
    "import plotly.express as px\n",
    "\n",
    "fig = px.bar(df_target_data, title=\"수요가수\", x='회사', y='수요가수_합계', hover_data=df_target_data.columns, color='회사')\n",
    "fig.show();"
   ]
  },
  {
   "cell_type": "code",
   "execution_count": 66,
   "metadata": {},
   "outputs": [
    {
     "data": {
      "application/vnd.plotly.v1+json": {
       "config": {
        "plotlyServerURL": "https://plot.ly"
       },
       "data": [
        {
         "alignmentgroup": "True",
         "customdata": [
          [
           2634193,
           1.1789130017284424,
           3996678,
           1050568,
           206033,
           253910.054852,
           10814.2710081,
           107686,
           81407,
           354698,
           51111.7289919,
           -17.1935646695018
          ]
         ],
         "hovertemplate": "회사=%{x}<br>공급량_합계=%{y}<br>수요가수_합계=%{customdata[0]}<br>수요가수_증감률=%{customdata[1]}<br>공급량_가정용=%{customdata[2]}<br>공급량_일반용=%{customdata[3]}<br>공급량_업무용=%{customdata[4]}<br>공급량_산업용=%{customdata[5]}<br>공급량_열병합1=%{customdata[6]}<br>공급량_열병합2=%{customdata[7]}<br>공급량_열전용설비용=%{customdata[8]}<br>공급량_수송용=%{customdata[9]}<br>공급량_연료전지용=%{customdata[10]}<br>공급량_증감률=%{customdata[11]}<extra></extra>",
         "legendgroup": "서울",
         "marker": {
          "color": "#636efa",
          "pattern": {
           "shape": ""
          }
         },
         "name": "서울",
         "offsetgroup": "서울",
         "orientation": "v",
         "showlegend": true,
         "textposition": "auto",
         "type": "bar",
         "x": [
          "서울"
         ],
         "xaxis": "x",
         "y": [
          6112906.054852
         ],
         "yaxis": "y"
        },
        {
         "alignmentgroup": "True",
         "customdata": [
          [
           3378438,
           2.236380538750372,
           4116415.3204240003,
           1347662.29889,
           473607.67099699995,
           4980676.6625787,
           4013.988172,
           7051.657612,
           72238.36665,
           605792.942015,
           969671.373657,
           -7.7316029413564396
          ]
         ],
         "hovertemplate": "회사=%{x}<br>공급량_합계=%{y}<br>수요가수_합계=%{customdata[0]}<br>수요가수_증감률=%{customdata[1]}<br>공급량_가정용=%{customdata[2]}<br>공급량_일반용=%{customdata[3]}<br>공급량_업무용=%{customdata[4]}<br>공급량_산업용=%{customdata[5]}<br>공급량_열병합1=%{customdata[6]}<br>공급량_열병합2=%{customdata[7]}<br>공급량_열전용설비용=%{customdata[8]}<br>공급량_수송용=%{customdata[9]}<br>공급량_연료전지용=%{customdata[10]}<br>공급량_증감률=%{customdata[11]}<extra></extra>",
         "legendgroup": "삼천리",
         "marker": {
          "color": "#EF553B",
          "pattern": {
           "shape": ""
          }
         },
         "name": "삼천리",
         "offsetgroup": "삼천리",
         "orientation": "v",
         "showlegend": true,
         "textposition": "auto",
         "type": "bar",
         "x": [
          "삼천리"
         ],
         "xaxis": "x",
         "y": [
          12577130.280995699
         ],
         "yaxis": "y"
        },
        {
         "alignmentgroup": "True",
         "customdata": [
          [
           1587788,
           0.7584545599922834,
           1853753.2488754,
           526337.9190579,
           64470.4998385,
           1123995.3749454,
           4755.2224169,
           96.721148,
           7563.447747,
           300731.1812411,
           196281.3242364,
           -12.667823742875786
          ]
         ],
         "hovertemplate": "회사=%{x}<br>공급량_합계=%{y}<br>수요가수_합계=%{customdata[0]}<br>수요가수_증감률=%{customdata[1]}<br>공급량_가정용=%{customdata[2]}<br>공급량_일반용=%{customdata[3]}<br>공급량_업무용=%{customdata[4]}<br>공급량_산업용=%{customdata[5]}<br>공급량_열병합1=%{customdata[6]}<br>공급량_열병합2=%{customdata[7]}<br>공급량_열전용설비용=%{customdata[8]}<br>공급량_수송용=%{customdata[9]}<br>공급량_연료전지용=%{customdata[10]}<br>공급량_증감률=%{customdata[11]}<extra></extra>",
         "legendgroup": "부산",
         "marker": {
          "color": "#00cc96",
          "pattern": {
           "shape": ""
          }
         },
         "name": "부산",
         "offsetgroup": "부산",
         "orientation": "v",
         "showlegend": true,
         "textposition": "auto",
         "type": "bar",
         "x": [
          "부산"
         ],
         "xaxis": "x",
         "y": [
          4077984.9395066
         ],
         "yaxis": "y"
        },
        {
         "alignmentgroup": "True",
         "customdata": [
          [
           1215586,
           0.9140983334371043,
           2380331.1515547,
           333249.62011769996,
           101546.8318372,
           849620.9824441,
           14642.582844,
           129.780413,
           38095.007252,
           266105.3292329,
           7375.5131686,
           -20.5560082040285
          ]
         ],
         "hovertemplate": "회사=%{x}<br>공급량_합계=%{y}<br>수요가수_합계=%{customdata[0]}<br>수요가수_증감률=%{customdata[1]}<br>공급량_가정용=%{customdata[2]}<br>공급량_일반용=%{customdata[3]}<br>공급량_업무용=%{customdata[4]}<br>공급량_산업용=%{customdata[5]}<br>공급량_열병합1=%{customdata[6]}<br>공급량_열병합2=%{customdata[7]}<br>공급량_열전용설비용=%{customdata[8]}<br>공급량_수송용=%{customdata[9]}<br>공급량_연료전지용=%{customdata[10]}<br>공급량_증감률=%{customdata[11]}<extra></extra>",
         "legendgroup": "대성",
         "marker": {
          "color": "#ab63fa",
          "pattern": {
           "shape": ""
          }
         },
         "name": "대성",
         "offsetgroup": "대성",
         "orientation": "v",
         "showlegend": true,
         "textposition": "auto",
         "type": "bar",
         "x": [
          "대성"
         ],
         "xaxis": "x",
         "y": [
          3991096.7988642
         ],
         "yaxis": "y"
        },
        {
         "alignmentgroup": "True",
         "customdata": [
          [
           681157,
           2.088051257072202,
           954937,
           287055,
           101045,
           279093,
           537,
           93536,
           657,
           107945,
           41084,
           -6.653131010899766
          ]
         ],
         "hovertemplate": "회사=%{x}<br>공급량_합계=%{y}<br>수요가수_합계=%{customdata[0]}<br>수요가수_증감률=%{customdata[1]}<br>공급량_가정용=%{customdata[2]}<br>공급량_일반용=%{customdata[3]}<br>공급량_업무용=%{customdata[4]}<br>공급량_산업용=%{customdata[5]}<br>공급량_열병합1=%{customdata[6]}<br>공급량_열병합2=%{customdata[7]}<br>공급량_열전용설비용=%{customdata[8]}<br>공급량_수송용=%{customdata[9]}<br>공급량_연료전지용=%{customdata[10]}<br>공급량_증감률=%{customdata[11]}<extra></extra>",
         "legendgroup": "CNCITY",
         "marker": {
          "color": "#FFA15A",
          "pattern": {
           "shape": ""
          }
         },
         "name": "CNCITY",
         "offsetgroup": "CNCITY",
         "orientation": "v",
         "showlegend": true,
         "textposition": "auto",
         "type": "bar",
         "x": [
          "CNCITY"
         ],
         "xaxis": "x",
         "y": [
          1865889
         ],
         "yaxis": "y"
        },
        {
         "alignmentgroup": "True",
         "customdata": [
          [
           633334,
           1.231722365367279,
           1058654.57523,
           271965.21927,
           33187.286,
           4193029.7650233004,
           1471.04981,
           116167.64429,
           50337.74708,
           124341.19535,
           142922.01199,
           -35.60666912067671
          ]
         ],
         "hovertemplate": "회사=%{x}<br>공급량_합계=%{y}<br>수요가수_합계=%{customdata[0]}<br>수요가수_증감률=%{customdata[1]}<br>공급량_가정용=%{customdata[2]}<br>공급량_일반용=%{customdata[3]}<br>공급량_업무용=%{customdata[4]}<br>공급량_산업용=%{customdata[5]}<br>공급량_열병합1=%{customdata[6]}<br>공급량_열병합2=%{customdata[7]}<br>공급량_열전용설비용=%{customdata[8]}<br>공급량_수송용=%{customdata[9]}<br>공급량_연료전지용=%{customdata[10]}<br>공급량_증감률=%{customdata[11]}<extra></extra>",
         "legendgroup": "경동",
         "marker": {
          "color": "#19d3f3",
          "pattern": {
           "shape": ""
          }
         },
         "name": "경동",
         "offsetgroup": "경동",
         "orientation": "v",
         "showlegend": true,
         "textposition": "auto",
         "type": "bar",
         "x": [
          "경동"
         ],
         "xaxis": "x",
         "y": [
          5992076.4940433
         ],
         "yaxis": "y"
        }
       ],
       "layout": {
        "barmode": "relative",
        "legend": {
         "title": {
          "text": "회사"
         },
         "tracegroupgap": 0
        },
        "template": {
         "data": {
          "bar": [
           {
            "error_x": {
             "color": "#2a3f5f"
            },
            "error_y": {
             "color": "#2a3f5f"
            },
            "marker": {
             "line": {
              "color": "#E5ECF6",
              "width": 0.5
             },
             "pattern": {
              "fillmode": "overlay",
              "size": 10,
              "solidity": 0.2
             }
            },
            "type": "bar"
           }
          ],
          "barpolar": [
           {
            "marker": {
             "line": {
              "color": "#E5ECF6",
              "width": 0.5
             },
             "pattern": {
              "fillmode": "overlay",
              "size": 10,
              "solidity": 0.2
             }
            },
            "type": "barpolar"
           }
          ],
          "carpet": [
           {
            "aaxis": {
             "endlinecolor": "#2a3f5f",
             "gridcolor": "white",
             "linecolor": "white",
             "minorgridcolor": "white",
             "startlinecolor": "#2a3f5f"
            },
            "baxis": {
             "endlinecolor": "#2a3f5f",
             "gridcolor": "white",
             "linecolor": "white",
             "minorgridcolor": "white",
             "startlinecolor": "#2a3f5f"
            },
            "type": "carpet"
           }
          ],
          "choropleth": [
           {
            "colorbar": {
             "outlinewidth": 0,
             "ticks": ""
            },
            "type": "choropleth"
           }
          ],
          "contour": [
           {
            "colorbar": {
             "outlinewidth": 0,
             "ticks": ""
            },
            "colorscale": [
             [
              0,
              "#0d0887"
             ],
             [
              0.1111111111111111,
              "#46039f"
             ],
             [
              0.2222222222222222,
              "#7201a8"
             ],
             [
              0.3333333333333333,
              "#9c179e"
             ],
             [
              0.4444444444444444,
              "#bd3786"
             ],
             [
              0.5555555555555556,
              "#d8576b"
             ],
             [
              0.6666666666666666,
              "#ed7953"
             ],
             [
              0.7777777777777778,
              "#fb9f3a"
             ],
             [
              0.8888888888888888,
              "#fdca26"
             ],
             [
              1,
              "#f0f921"
             ]
            ],
            "type": "contour"
           }
          ],
          "contourcarpet": [
           {
            "colorbar": {
             "outlinewidth": 0,
             "ticks": ""
            },
            "type": "contourcarpet"
           }
          ],
          "heatmap": [
           {
            "colorbar": {
             "outlinewidth": 0,
             "ticks": ""
            },
            "colorscale": [
             [
              0,
              "#0d0887"
             ],
             [
              0.1111111111111111,
              "#46039f"
             ],
             [
              0.2222222222222222,
              "#7201a8"
             ],
             [
              0.3333333333333333,
              "#9c179e"
             ],
             [
              0.4444444444444444,
              "#bd3786"
             ],
             [
              0.5555555555555556,
              "#d8576b"
             ],
             [
              0.6666666666666666,
              "#ed7953"
             ],
             [
              0.7777777777777778,
              "#fb9f3a"
             ],
             [
              0.8888888888888888,
              "#fdca26"
             ],
             [
              1,
              "#f0f921"
             ]
            ],
            "type": "heatmap"
           }
          ],
          "heatmapgl": [
           {
            "colorbar": {
             "outlinewidth": 0,
             "ticks": ""
            },
            "colorscale": [
             [
              0,
              "#0d0887"
             ],
             [
              0.1111111111111111,
              "#46039f"
             ],
             [
              0.2222222222222222,
              "#7201a8"
             ],
             [
              0.3333333333333333,
              "#9c179e"
             ],
             [
              0.4444444444444444,
              "#bd3786"
             ],
             [
              0.5555555555555556,
              "#d8576b"
             ],
             [
              0.6666666666666666,
              "#ed7953"
             ],
             [
              0.7777777777777778,
              "#fb9f3a"
             ],
             [
              0.8888888888888888,
              "#fdca26"
             ],
             [
              1,
              "#f0f921"
             ]
            ],
            "type": "heatmapgl"
           }
          ],
          "histogram": [
           {
            "marker": {
             "pattern": {
              "fillmode": "overlay",
              "size": 10,
              "solidity": 0.2
             }
            },
            "type": "histogram"
           }
          ],
          "histogram2d": [
           {
            "colorbar": {
             "outlinewidth": 0,
             "ticks": ""
            },
            "colorscale": [
             [
              0,
              "#0d0887"
             ],
             [
              0.1111111111111111,
              "#46039f"
             ],
             [
              0.2222222222222222,
              "#7201a8"
             ],
             [
              0.3333333333333333,
              "#9c179e"
             ],
             [
              0.4444444444444444,
              "#bd3786"
             ],
             [
              0.5555555555555556,
              "#d8576b"
             ],
             [
              0.6666666666666666,
              "#ed7953"
             ],
             [
              0.7777777777777778,
              "#fb9f3a"
             ],
             [
              0.8888888888888888,
              "#fdca26"
             ],
             [
              1,
              "#f0f921"
             ]
            ],
            "type": "histogram2d"
           }
          ],
          "histogram2dcontour": [
           {
            "colorbar": {
             "outlinewidth": 0,
             "ticks": ""
            },
            "colorscale": [
             [
              0,
              "#0d0887"
             ],
             [
              0.1111111111111111,
              "#46039f"
             ],
             [
              0.2222222222222222,
              "#7201a8"
             ],
             [
              0.3333333333333333,
              "#9c179e"
             ],
             [
              0.4444444444444444,
              "#bd3786"
             ],
             [
              0.5555555555555556,
              "#d8576b"
             ],
             [
              0.6666666666666666,
              "#ed7953"
             ],
             [
              0.7777777777777778,
              "#fb9f3a"
             ],
             [
              0.8888888888888888,
              "#fdca26"
             ],
             [
              1,
              "#f0f921"
             ]
            ],
            "type": "histogram2dcontour"
           }
          ],
          "mesh3d": [
           {
            "colorbar": {
             "outlinewidth": 0,
             "ticks": ""
            },
            "type": "mesh3d"
           }
          ],
          "parcoords": [
           {
            "line": {
             "colorbar": {
              "outlinewidth": 0,
              "ticks": ""
             }
            },
            "type": "parcoords"
           }
          ],
          "pie": [
           {
            "automargin": true,
            "type": "pie"
           }
          ],
          "scatter": [
           {
            "fillpattern": {
             "fillmode": "overlay",
             "size": 10,
             "solidity": 0.2
            },
            "type": "scatter"
           }
          ],
          "scatter3d": [
           {
            "line": {
             "colorbar": {
              "outlinewidth": 0,
              "ticks": ""
             }
            },
            "marker": {
             "colorbar": {
              "outlinewidth": 0,
              "ticks": ""
             }
            },
            "type": "scatter3d"
           }
          ],
          "scattercarpet": [
           {
            "marker": {
             "colorbar": {
              "outlinewidth": 0,
              "ticks": ""
             }
            },
            "type": "scattercarpet"
           }
          ],
          "scattergeo": [
           {
            "marker": {
             "colorbar": {
              "outlinewidth": 0,
              "ticks": ""
             }
            },
            "type": "scattergeo"
           }
          ],
          "scattergl": [
           {
            "marker": {
             "colorbar": {
              "outlinewidth": 0,
              "ticks": ""
             }
            },
            "type": "scattergl"
           }
          ],
          "scattermapbox": [
           {
            "marker": {
             "colorbar": {
              "outlinewidth": 0,
              "ticks": ""
             }
            },
            "type": "scattermapbox"
           }
          ],
          "scatterpolar": [
           {
            "marker": {
             "colorbar": {
              "outlinewidth": 0,
              "ticks": ""
             }
            },
            "type": "scatterpolar"
           }
          ],
          "scatterpolargl": [
           {
            "marker": {
             "colorbar": {
              "outlinewidth": 0,
              "ticks": ""
             }
            },
            "type": "scatterpolargl"
           }
          ],
          "scatterternary": [
           {
            "marker": {
             "colorbar": {
              "outlinewidth": 0,
              "ticks": ""
             }
            },
            "type": "scatterternary"
           }
          ],
          "surface": [
           {
            "colorbar": {
             "outlinewidth": 0,
             "ticks": ""
            },
            "colorscale": [
             [
              0,
              "#0d0887"
             ],
             [
              0.1111111111111111,
              "#46039f"
             ],
             [
              0.2222222222222222,
              "#7201a8"
             ],
             [
              0.3333333333333333,
              "#9c179e"
             ],
             [
              0.4444444444444444,
              "#bd3786"
             ],
             [
              0.5555555555555556,
              "#d8576b"
             ],
             [
              0.6666666666666666,
              "#ed7953"
             ],
             [
              0.7777777777777778,
              "#fb9f3a"
             ],
             [
              0.8888888888888888,
              "#fdca26"
             ],
             [
              1,
              "#f0f921"
             ]
            ],
            "type": "surface"
           }
          ],
          "table": [
           {
            "cells": {
             "fill": {
              "color": "#EBF0F8"
             },
             "line": {
              "color": "white"
             }
            },
            "header": {
             "fill": {
              "color": "#C8D4E3"
             },
             "line": {
              "color": "white"
             }
            },
            "type": "table"
           }
          ]
         },
         "layout": {
          "annotationdefaults": {
           "arrowcolor": "#2a3f5f",
           "arrowhead": 0,
           "arrowwidth": 1
          },
          "autotypenumbers": "strict",
          "coloraxis": {
           "colorbar": {
            "outlinewidth": 0,
            "ticks": ""
           }
          },
          "colorscale": {
           "diverging": [
            [
             0,
             "#8e0152"
            ],
            [
             0.1,
             "#c51b7d"
            ],
            [
             0.2,
             "#de77ae"
            ],
            [
             0.3,
             "#f1b6da"
            ],
            [
             0.4,
             "#fde0ef"
            ],
            [
             0.5,
             "#f7f7f7"
            ],
            [
             0.6,
             "#e6f5d0"
            ],
            [
             0.7,
             "#b8e186"
            ],
            [
             0.8,
             "#7fbc41"
            ],
            [
             0.9,
             "#4d9221"
            ],
            [
             1,
             "#276419"
            ]
           ],
           "sequential": [
            [
             0,
             "#0d0887"
            ],
            [
             0.1111111111111111,
             "#46039f"
            ],
            [
             0.2222222222222222,
             "#7201a8"
            ],
            [
             0.3333333333333333,
             "#9c179e"
            ],
            [
             0.4444444444444444,
             "#bd3786"
            ],
            [
             0.5555555555555556,
             "#d8576b"
            ],
            [
             0.6666666666666666,
             "#ed7953"
            ],
            [
             0.7777777777777778,
             "#fb9f3a"
            ],
            [
             0.8888888888888888,
             "#fdca26"
            ],
            [
             1,
             "#f0f921"
            ]
           ],
           "sequentialminus": [
            [
             0,
             "#0d0887"
            ],
            [
             0.1111111111111111,
             "#46039f"
            ],
            [
             0.2222222222222222,
             "#7201a8"
            ],
            [
             0.3333333333333333,
             "#9c179e"
            ],
            [
             0.4444444444444444,
             "#bd3786"
            ],
            [
             0.5555555555555556,
             "#d8576b"
            ],
            [
             0.6666666666666666,
             "#ed7953"
            ],
            [
             0.7777777777777778,
             "#fb9f3a"
            ],
            [
             0.8888888888888888,
             "#fdca26"
            ],
            [
             1,
             "#f0f921"
            ]
           ]
          },
          "colorway": [
           "#636efa",
           "#EF553B",
           "#00cc96",
           "#ab63fa",
           "#FFA15A",
           "#19d3f3",
           "#FF6692",
           "#B6E880",
           "#FF97FF",
           "#FECB52"
          ],
          "font": {
           "color": "#2a3f5f"
          },
          "geo": {
           "bgcolor": "white",
           "lakecolor": "white",
           "landcolor": "#E5ECF6",
           "showlakes": true,
           "showland": true,
           "subunitcolor": "white"
          },
          "hoverlabel": {
           "align": "left"
          },
          "hovermode": "closest",
          "mapbox": {
           "style": "light"
          },
          "paper_bgcolor": "white",
          "plot_bgcolor": "#E5ECF6",
          "polar": {
           "angularaxis": {
            "gridcolor": "white",
            "linecolor": "white",
            "ticks": ""
           },
           "bgcolor": "#E5ECF6",
           "radialaxis": {
            "gridcolor": "white",
            "linecolor": "white",
            "ticks": ""
           }
          },
          "scene": {
           "xaxis": {
            "backgroundcolor": "#E5ECF6",
            "gridcolor": "white",
            "gridwidth": 2,
            "linecolor": "white",
            "showbackground": true,
            "ticks": "",
            "zerolinecolor": "white"
           },
           "yaxis": {
            "backgroundcolor": "#E5ECF6",
            "gridcolor": "white",
            "gridwidth": 2,
            "linecolor": "white",
            "showbackground": true,
            "ticks": "",
            "zerolinecolor": "white"
           },
           "zaxis": {
            "backgroundcolor": "#E5ECF6",
            "gridcolor": "white",
            "gridwidth": 2,
            "linecolor": "white",
            "showbackground": true,
            "ticks": "",
            "zerolinecolor": "white"
           }
          },
          "shapedefaults": {
           "line": {
            "color": "#2a3f5f"
           }
          },
          "ternary": {
           "aaxis": {
            "gridcolor": "white",
            "linecolor": "white",
            "ticks": ""
           },
           "baxis": {
            "gridcolor": "white",
            "linecolor": "white",
            "ticks": ""
           },
           "bgcolor": "#E5ECF6",
           "caxis": {
            "gridcolor": "white",
            "linecolor": "white",
            "ticks": ""
           }
          },
          "title": {
           "x": 0.05
          },
          "xaxis": {
           "automargin": true,
           "gridcolor": "white",
           "linecolor": "white",
           "ticks": "",
           "title": {
            "standoff": 15
           },
           "zerolinecolor": "white",
           "zerolinewidth": 2
          },
          "yaxis": {
           "automargin": true,
           "gridcolor": "white",
           "linecolor": "white",
           "ticks": "",
           "title": {
            "standoff": 15
           },
           "zerolinecolor": "white",
           "zerolinewidth": 2
          }
         }
        },
        "title": {
         "text": "공급량(천MJ)"
        },
        "xaxis": {
         "anchor": "y",
         "categoryarray": [
          "서울",
          "삼천리",
          "부산",
          "대성",
          "CNCITY",
          "경동"
         ],
         "categoryorder": "array",
         "domain": [
          0,
          1
         ],
         "title": {
          "text": "회사"
         }
        },
        "yaxis": {
         "anchor": "x",
         "domain": [
          0,
          1
         ],
         "title": {
          "text": "공급량_합계"
         }
        }
       }
      }
     },
     "metadata": {},
     "output_type": "display_data"
    }
   ],
   "source": [
    "fig = px.bar(df_target_data, title=\"공급량(천MJ)\", x='회사', y='공급량_합계', hover_data=df_target_data.columns, color='회사')\n",
    "fig.show();"
   ]
  }
 ],
 "metadata": {
  "kernelspec": {
   "display_name": "data-gatherer-venv",
   "language": "python",
   "name": "python3"
  },
  "language_info": {
   "codemirror_mode": {
    "name": "ipython",
    "version": 3
   },
   "file_extension": ".py",
   "mimetype": "text/x-python",
   "name": "python",
   "nbconvert_exporter": "python",
   "pygments_lexer": "ipython3",
   "version": "3.10.8"
  },
  "orig_nbformat": 4
 },
 "nbformat": 4,
 "nbformat_minor": 2
}
