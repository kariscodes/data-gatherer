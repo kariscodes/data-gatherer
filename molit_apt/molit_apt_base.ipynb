{
 "cells": [
  {
   "cell_type": "markdown",
   "metadata": {},
   "source": [
    "## 공공데이터포털: 국토교통부 공동주택 기본 정보제공 서비스 (기본정보)"
   ]
  },
  {
   "cell_type": "code",
   "execution_count": 1,
   "metadata": {},
   "outputs": [
    {
     "name": "stdout",
     "output_type": "stream",
     "text": [
      "http://apis.data.go.kr/1613000/AptBasisInfoService1/getAphusBassInfo?kaptCode=A10027875&ServiceKey=IVgu%2FZBjA6hpLryyEOpySC2RhogOhaJIUqlXN8Uyj3Gxw4s3dX0qMxfgXMTLl60%2Fs2EYAMUsyyzTqwVOnjoIhg%3D%3D\n"
     ]
    }
   ],
   "source": [
    "service_url = 'http://apis.data.go.kr/1613000/AptBasisInfoService1'\n",
    "service_name = 'getAphusBassInfo'   # 공동주택 기본 정보제공 서비스\n",
    "# 일반 인증키(Encoding)\t\n",
    "api_key = 'IVgu%2FZBjA6hpLryyEOpySC2RhogOhaJIUqlXN8Uyj3Gxw4s3dX0qMxfgXMTLl60%2Fs2EYAMUsyyzTqwVOnjoIhg%3D%3D'\n",
    "kapt_code = 'A10027875'    # 단지코드\n",
    "\n",
    "# url 예시\n",
    "# url = 'http://apis.data.go.kr/1613000/AptBasisInfoService1/getAphusBassInfo?kaptCode=A10027875&ServiceKey=서비스키'\n",
    "url = f'{service_url}/{service_name}?kaptCode={kapt_code}&ServiceKey={api_key}'\n",
    "print(url)"
   ]
  },
  {
   "cell_type": "code",
   "execution_count": 2,
   "metadata": {},
   "outputs": [],
   "source": [
    "import requests\n",
    "import xmltodict\n",
    "import pandas as pd"
   ]
  },
  {
   "cell_type": "code",
   "execution_count": 3,
   "metadata": {},
   "outputs": [
    {
     "name": "stdout",
     "output_type": "stream",
     "text": [
      "URL GET Successful\n"
     ]
    }
   ],
   "source": [
    "response = requests.get(url,verify=False)\n",
    "if response.status_code == 200:     # URL GET '200 정상'\n",
    "    print(\"URL GET Successful\")\n",
    "    contents = response.text                # XML 데이터\n",
    "    # xmltodict 모듈을 사용해서 xml 데이터를 파이썬의 OrderedDict 타입으로 변환\n",
    "    dict_data = xmltodict.parse(contents)\n",
    "else:\n",
    "    print(\"URL GET Error\")"
   ]
  },
  {
   "cell_type": "code",
   "execution_count": 4,
   "metadata": {},
   "outputs": [
    {
     "data": {
      "text/plain": [
       "{'response': {'header': {'resultCode': '00', 'resultMsg': 'NORMAL SERVICE.'},\n",
       "  'body': {'item': {'bjdCode': '2638010100',\n",
       "    'codeAptNm': '아파트',\n",
       "    'codeHallNm': '혼합식',\n",
       "    'codeHeatNm': '개별난방',\n",
       "    'codeMgrNm': '자치관리',\n",
       "    'codeSaleNm': '분양',\n",
       "    'doroJuso': '부산광역시 사하구 낙동대로 180',\n",
       "    'hoCnt': '182',\n",
       "    'kaptAcompany': '(주)경성리츠',\n",
       "    'kaptAddr': '부산광역시 사하구 괴정동 258 괴정 경성스마트W아파트',\n",
       "    'kaptBcompany': '(주)경성리츠',\n",
       "    'kaptCode': 'A10027875',\n",
       "    'kaptDongCnt': '3',\n",
       "    'kaptFax': '0512949364',\n",
       "    'kaptMarea': '15040.1634',\n",
       "    'kaptMparea_135': '0',\n",
       "    'kaptMparea_136': '0',\n",
       "    'kaptMparea_60': '182',\n",
       "    'kaptMparea_85': '0',\n",
       "    'kaptName': '괴정 경성스마트W아파트',\n",
       "    'kaptTarea': '15040.1634',\n",
       "    'kaptTel': '0512949363',\n",
       "    'kaptUrl': None,\n",
       "    'kaptUsedate': '20150806',\n",
       "    'kaptdaCnt': '182',\n",
       "    'privArea': '9014.0338'}}}}"
      ]
     },
     "execution_count": 4,
     "metadata": {},
     "output_type": "execute_result"
    }
   ],
   "source": [
    "dict_data"
   ]
  },
  {
   "cell_type": "code",
   "execution_count": 5,
   "metadata": {},
   "outputs": [],
   "source": [
    "item = dict_data['response']['body']['item']\n",
    "df_apt_info = pd.json_normalize(item)"
   ]
  },
  {
   "cell_type": "code",
   "execution_count": 6,
   "metadata": {},
   "outputs": [
    {
     "data": {
      "text/html": [
       "<div>\n",
       "<style scoped>\n",
       "    .dataframe tbody tr th:only-of-type {\n",
       "        vertical-align: middle;\n",
       "    }\n",
       "\n",
       "    .dataframe tbody tr th {\n",
       "        vertical-align: top;\n",
       "    }\n",
       "\n",
       "    .dataframe thead th {\n",
       "        text-align: right;\n",
       "    }\n",
       "</style>\n",
       "<table border=\"1\" class=\"dataframe\">\n",
       "  <thead>\n",
       "    <tr style=\"text-align: right;\">\n",
       "      <th></th>\n",
       "      <th>bjdCode</th>\n",
       "      <th>codeAptNm</th>\n",
       "      <th>codeHallNm</th>\n",
       "      <th>codeHeatNm</th>\n",
       "      <th>codeMgrNm</th>\n",
       "      <th>codeSaleNm</th>\n",
       "      <th>doroJuso</th>\n",
       "      <th>hoCnt</th>\n",
       "      <th>kaptAcompany</th>\n",
       "      <th>kaptAddr</th>\n",
       "      <th>...</th>\n",
       "      <th>kaptMparea_136</th>\n",
       "      <th>kaptMparea_60</th>\n",
       "      <th>kaptMparea_85</th>\n",
       "      <th>kaptName</th>\n",
       "      <th>kaptTarea</th>\n",
       "      <th>kaptTel</th>\n",
       "      <th>kaptUrl</th>\n",
       "      <th>kaptUsedate</th>\n",
       "      <th>kaptdaCnt</th>\n",
       "      <th>privArea</th>\n",
       "    </tr>\n",
       "  </thead>\n",
       "  <tbody>\n",
       "    <tr>\n",
       "      <th>0</th>\n",
       "      <td>2638010100</td>\n",
       "      <td>아파트</td>\n",
       "      <td>혼합식</td>\n",
       "      <td>개별난방</td>\n",
       "      <td>자치관리</td>\n",
       "      <td>분양</td>\n",
       "      <td>부산광역시 사하구 낙동대로 180</td>\n",
       "      <td>182</td>\n",
       "      <td>(주)경성리츠</td>\n",
       "      <td>부산광역시 사하구 괴정동 258 괴정 경성스마트W아파트</td>\n",
       "      <td>...</td>\n",
       "      <td>0</td>\n",
       "      <td>182</td>\n",
       "      <td>0</td>\n",
       "      <td>괴정 경성스마트W아파트</td>\n",
       "      <td>15040.1634</td>\n",
       "      <td>0512949363</td>\n",
       "      <td>None</td>\n",
       "      <td>20150806</td>\n",
       "      <td>182</td>\n",
       "      <td>9014.0338</td>\n",
       "    </tr>\n",
       "  </tbody>\n",
       "</table>\n",
       "<p>1 rows × 26 columns</p>\n",
       "</div>"
      ],
      "text/plain": [
       "      bjdCode codeAptNm codeHallNm codeHeatNm codeMgrNm codeSaleNm  \\\n",
       "0  2638010100       아파트        혼합식       개별난방      자치관리         분양   \n",
       "\n",
       "             doroJuso hoCnt kaptAcompany                        kaptAddr  ...  \\\n",
       "0  부산광역시 사하구 낙동대로 180   182      (주)경성리츠  부산광역시 사하구 괴정동 258 괴정 경성스마트W아파트  ...   \n",
       "\n",
       "  kaptMparea_136 kaptMparea_60 kaptMparea_85      kaptName   kaptTarea  \\\n",
       "0              0           182             0  괴정 경성스마트W아파트  15040.1634   \n",
       "\n",
       "      kaptTel kaptUrl kaptUsedate kaptdaCnt   privArea  \n",
       "0  0512949363    None    20150806       182  9014.0338  \n",
       "\n",
       "[1 rows x 26 columns]"
      ]
     },
     "execution_count": 6,
     "metadata": {},
     "output_type": "execute_result"
    }
   ],
   "source": [
    "df_apt_info"
   ]
  }
 ],
 "metadata": {
  "kernelspec": {
   "display_name": "data-gatherer-venv",
   "language": "python",
   "name": "python3"
  },
  "language_info": {
   "codemirror_mode": {
    "name": "ipython",
    "version": 3
   },
   "file_extension": ".py",
   "mimetype": "text/x-python",
   "name": "python",
   "nbconvert_exporter": "python",
   "pygments_lexer": "ipython3",
   "version": "3.10.8"
  },
  "orig_nbformat": 4
 },
 "nbformat": 4,
 "nbformat_minor": 2
}
