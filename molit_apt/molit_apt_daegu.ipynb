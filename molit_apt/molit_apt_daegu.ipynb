{
 "cells": [
  {
   "cell_type": "markdown",
   "metadata": {},
   "source": [
    "## 대구광역시 공동주택 정보 (공공데이터포털 - 국토교통부)\n",
    "+ 작성: 임경호"
   ]
  },
  {
   "cell_type": "code",
   "execution_count": 1,
   "metadata": {},
   "outputs": [],
   "source": [
    "import requests\n",
    "import xmltodict\n",
    "import pandas as pd\n",
    "\n",
    "# 일반 인증키(Encoding)\t\n",
    "api_key = 'IVgu%2FZBjA6hpLryyEOpySC2RhogOhaJIUqlXN8Uyj3Gxw4s3dX0qMxfgXMTLl60%2Fs2EYAMUsyyzTqwVOnjoIhg%3D%3D'"
   ]
  },
  {
   "cell_type": "markdown",
   "metadata": {},
   "source": [
    "#### 1. 대구광역시 공동주택 목록 가져오기"
   ]
  },
  {
   "cell_type": "code",
   "execution_count": null,
   "metadata": {},
   "outputs": [],
   "source": [
    "service_url = 'http://apis.data.go.kr/1613000/AptListService2'\n",
    "service_name = 'getSidoAptList'\n",
    "sido_code = '27'    # 대구광역시\n",
    "rows = '1500'\n",
    "url = f'{service_url}/{service_name}?sidoCode={sido_code}&ServiceKey={api_key}&numOfRows={rows}'\n",
    "\n",
    "response = requests.get(url,verify=False)\n",
    "\n",
    "if response.status_code == 200:     # URL GET '200 정상'\n",
    "    print(\"URL GET Successful\")\n",
    "    contents = response.text                # XML 데이터\n",
    "    # xmltodict 모듈을 사용해서 xml 데이터를 파이썬의 OrderedDict 타입으로 변환\n",
    "    dict_data = xmltodict.parse(contents)\n",
    "    item = dict_data['response']['body']['items']['item']\n",
    "    df_apt = pd.json_normalize(item)\n",
    "else:\n",
    "    print(\"URL GET Error\")\n",
    "    \n",
    "df_apt_codes = df_apt['kaptCode']"
   ]
  },
  {
   "cell_type": "code",
   "execution_count": 3,
   "metadata": {},
   "outputs": [],
   "source": [
    "total_code_cnts = df_apt['as2'].size"
   ]
  },
  {
   "cell_type": "code",
   "execution_count": 4,
   "metadata": {},
   "outputs": [],
   "source": [
    "region_list = df_apt['as2'].unique()\n",
    "dict_region = {}\n",
    "for region in region_list:\n",
    "    dict_region[region] = df_apt.query('as2 == @region')['kaptCode'].to_list()"
   ]
  },
  {
   "cell_type": "code",
   "execution_count": 5,
   "metadata": {},
   "outputs": [
    {
     "name": "stdout",
     "output_type": "stream",
     "text": [
      "달서구 동구 남구 중구 수성구 북구 서구 달성군 군위군 "
     ]
    }
   ],
   "source": [
    "for key, value in dict_region.items():\n",
    "    print(key, end=\" \")"
   ]
  },
  {
   "cell_type": "markdown",
   "metadata": {},
   "source": [
    "#### 2. 대구광역시 공동주택 기본정보 가져오기\n",
    "+ 일일 트래픽 제한: 10,000건"
   ]
  },
  {
   "cell_type": "code",
   "execution_count": 6,
   "metadata": {},
   "outputs": [
    {
     "name": "stdout",
     "output_type": "stream",
     "text": [
      "{'달서구': 0, '동구': 0, '남구': 0, '중구': 0, '수성구': 0, '북구': 0, '서구': 0, '달성군': 0, '군위군': 0}\n"
     ]
    }
   ],
   "source": [
    "# 각 지역별로 데이터 수집 결과 초기화\n",
    "dict_region_results = {}\n",
    "for key in dict_region.keys():\n",
    "    dict_region_results[key] = 0\n",
    "print(dict_region_results)"
   ]
  },
  {
   "cell_type": "code",
   "execution_count": 7,
   "metadata": {},
   "outputs": [
    {
     "name": "stdout",
     "output_type": "stream",
     "text": [
      "달서구 지역 아파트 정보를 가져옵니다. 대상 목록 219, trying 0\n"
     ]
    },
    {
     "data": {
      "application/vnd.jupyter.widget-view+json": {
       "model_id": "508016b368fb426f9d42b286e4f4973e",
       "version_major": 2,
       "version_minor": 0
      },
      "text/plain": [
       "  0%|          | 0/219 [00:00<?, ?it/s]"
      ]
     },
     "metadata": {},
     "output_type": "display_data"
    },
    {
     "name": "stdout",
     "output_type": "stream",
     "text": [
      "동구 지역 아파트 정보를 가져옵니다. 대상 목록 144, trying 0\n"
     ]
    },
    {
     "data": {
      "application/vnd.jupyter.widget-view+json": {
       "model_id": "6e8462984f2a4786bff75e76f0893f1f",
       "version_major": 2,
       "version_minor": 0
      },
      "text/plain": [
       "  0%|          | 0/144 [00:00<?, ?it/s]"
      ]
     },
     "metadata": {},
     "output_type": "display_data"
    },
    {
     "name": "stdout",
     "output_type": "stream",
     "text": [
      "남구 지역 아파트 정보를 가져옵니다. 대상 목록 36, trying 0\n"
     ]
    },
    {
     "data": {
      "application/vnd.jupyter.widget-view+json": {
       "model_id": "24d2a4eee1684e5a9087c9c0d02e9c42",
       "version_major": 2,
       "version_minor": 0
      },
      "text/plain": [
       "  0%|          | 0/36 [00:00<?, ?it/s]"
      ]
     },
     "metadata": {},
     "output_type": "display_data"
    },
    {
     "name": "stdout",
     "output_type": "stream",
     "text": [
      "중구 지역 아파트 정보를 가져옵니다. 대상 목록 38, trying 0\n"
     ]
    },
    {
     "data": {
      "application/vnd.jupyter.widget-view+json": {
       "model_id": "0ffe77a4f58748458da5ea53b0e34cf2",
       "version_major": 2,
       "version_minor": 0
      },
      "text/plain": [
       "  0%|          | 0/38 [00:00<?, ?it/s]"
      ]
     },
     "metadata": {},
     "output_type": "display_data"
    },
    {
     "name": "stdout",
     "output_type": "stream",
     "text": [
      "수성구 지역 아파트 정보를 가져옵니다. 대상 목록 221, trying 0\n"
     ]
    },
    {
     "data": {
      "application/vnd.jupyter.widget-view+json": {
       "model_id": "ddac72eeed134f839f6fd31b66c474d5",
       "version_major": 2,
       "version_minor": 0
      },
      "text/plain": [
       "  0%|          | 0/221 [00:00<?, ?it/s]"
      ]
     },
     "metadata": {},
     "output_type": "display_data"
    },
    {
     "name": "stdout",
     "output_type": "stream",
     "text": [
      "북구 지역 아파트 정보를 가져옵니다. 대상 목록 196, trying 0\n"
     ]
    },
    {
     "data": {
      "application/vnd.jupyter.widget-view+json": {
       "model_id": "408f80a8e0f94f2bbf398a42ea64cfa0",
       "version_major": 2,
       "version_minor": 0
      },
      "text/plain": [
       "  0%|          | 0/196 [00:00<?, ?it/s]"
      ]
     },
     "metadata": {},
     "output_type": "display_data"
    },
    {
     "name": "stdout",
     "output_type": "stream",
     "text": [
      "서구 지역 아파트 정보를 가져옵니다. 대상 목록 19, trying 0\n"
     ]
    },
    {
     "data": {
      "application/vnd.jupyter.widget-view+json": {
       "model_id": "96e5986f25d2444c9d5c3d6e5986ad32",
       "version_major": 2,
       "version_minor": 0
      },
      "text/plain": [
       "  0%|          | 0/19 [00:00<?, ?it/s]"
      ]
     },
     "metadata": {},
     "output_type": "display_data"
    },
    {
     "name": "stdout",
     "output_type": "stream",
     "text": [
      "달성군 지역 아파트 정보를 가져옵니다. 대상 목록 128, trying 0\n"
     ]
    },
    {
     "data": {
      "application/vnd.jupyter.widget-view+json": {
       "model_id": "67839efe11304fb6b321a88dddf8baa1",
       "version_major": 2,
       "version_minor": 0
      },
      "text/plain": [
       "  0%|          | 0/128 [00:00<?, ?it/s]"
      ]
     },
     "metadata": {},
     "output_type": "display_data"
    },
    {
     "name": "stdout",
     "output_type": "stream",
     "text": [
      "군위군 지역 아파트 정보를 가져옵니다. 대상 목록 1, trying 0\n"
     ]
    },
    {
     "data": {
      "application/vnd.jupyter.widget-view+json": {
       "model_id": "b2474ed5377f450499bc66bba475efd8",
       "version_major": 2,
       "version_minor": 0
      },
      "text/plain": [
       "  0%|          | 0/1 [00:00<?, ?it/s]"
      ]
     },
     "metadata": {},
     "output_type": "display_data"
    }
   ],
   "source": [
    "from tqdm.notebook import tqdm\n",
    "import time\n",
    "\n",
    "import warnings\n",
    "warnings.filterwarnings(action='ignore')\n",
    "\n",
    "service_url = 'http://apis.data.go.kr/1613000/AptBasisInfoService1'\n",
    "service_name = 'getAphusBassInfo'   # 공동주택 기본 정보제공 서비스\n",
    "\n",
    "dict_region_data = {}\n",
    "\n",
    "for region, apt_code_list in dict_region.items():   \n",
    "    df_region_apt_info = pd.DataFrame()\n",
    "    # 최대 5회 시도\n",
    "    num_retry = 7\n",
    "    for retry in range(num_retry):\n",
    "        if dict_region_results[region] == 0: \n",
    "            try:\n",
    "                print(f\"{region} 지역 아파트 정보를 가져옵니다. 대상 목록 {len(apt_code_list)}, trying {retry}\")\n",
    "                for apt_code in tqdm(apt_code_list):    \n",
    "                    url = f'{service_url}/{service_name}?kaptCode={apt_code}&ServiceKey={api_key}'\n",
    "                    response = requests.get(url,verify=False)\n",
    "                    if response.status_code == 200:     # URL GET '200 정상'\n",
    "                        contents = response.text                # XML 데이터\n",
    "                        # xmltodict 모듈을 사용해서 xml 데이터를 파이썬의 OrderedDict 타입으로 변환\n",
    "                        dict_data = xmltodict.parse(contents)\n",
    "                        item = dict_data['response']['body']['item']\n",
    "                        df_apt_info = pd.json_normalize(item)\n",
    "                        if not df_apt_info.empty:\n",
    "                            df_region_apt_info = pd.concat([df_region_apt_info, df_apt_info], ignore_index=True)\n",
    "                if not df_region_apt_info.empty:            \n",
    "                    dict_region_data[region] = df_region_apt_info\n",
    "                    dict_region_results[region] = 1    # 성공\n",
    "                    break\n",
    "                else:\n",
    "                    dict_region_results[region] = 0    # 실패\n",
    "            except Exception:\n",
    "                continue     \n",
    "    time.sleep(5)"
   ]
  },
  {
   "cell_type": "code",
   "execution_count": 8,
   "metadata": {},
   "outputs": [
    {
     "name": "stdout",
     "output_type": "stream",
     "text": [
      "각 지역별 데이터 수집 결과\n",
      "달서구\t1\n",
      "동구\t1\n",
      "남구\t1\n",
      "중구\t1\n",
      "수성구\t1\n",
      "북구\t1\n",
      "서구\t1\n",
      "달성군\t1\n",
      "군위군\t1\n"
     ]
    }
   ],
   "source": [
    "# 각 지역별로 데이터 수집 결과 확인: 성공(1), 실패(0)\n",
    "print(\"각 지역별 데이터 수집 결과\")\n",
    "for key in dict_region_results:\n",
    "    print(f'{key}\\t{dict_region_results[key]}')"
   ]
  },
  {
   "cell_type": "code",
   "execution_count": 9,
   "metadata": {},
   "outputs": [
    {
     "name": "stdout",
     "output_type": "stream",
     "text": [
      "데이터를 수집하지 못한 지역이 있습니다.\n"
     ]
    }
   ],
   "source": [
    "# 데이터를 가져오지 못한 지역\n",
    "[key for key, value in dict_region_results.items() if value == 0]\n",
    "if len(key) == 0:\n",
    "    print(\"모든 지역의 데이터를 수집하였습니다.\")\n",
    "else:\n",
    "    print(\"데이터를 수집하지 못한 지역이 있습니다.\")"
   ]
  },
  {
   "cell_type": "code",
   "execution_count": 12,
   "metadata": {},
   "outputs": [
    {
     "data": {
      "text/plain": [
       "1002"
      ]
     },
     "execution_count": 12,
     "metadata": {},
     "output_type": "execute_result"
    }
   ],
   "source": [
    "df_apt_codes.size"
   ]
  },
  {
   "cell_type": "code",
   "execution_count": 10,
   "metadata": {},
   "outputs": [
    {
     "name": "stdout",
     "output_type": "stream",
     "text": [
      "달서구\t: 219\n",
      "동구\t: 144\n",
      "남구\t: 36\n",
      "중구\t: 38\n",
      "수성구\t: 221\n",
      "북구\t: 196\n",
      "서구\t: 19\n",
      "달성군\t: 128\n",
      "군위군\t: 1\n",
      "총 개수\t: 1002\n"
     ]
    }
   ],
   "source": [
    "total_counts = 0\n",
    "for region in dict_region.keys():\n",
    "    if dict_region_results[region] == 1:\n",
    "        cnt = dict_region_data[region]['kaptCode'].size\n",
    "        print(f\"{region}\\t: {cnt}\")\n",
    "        total_counts += cnt\n",
    "    else:\n",
    "        print(f\"{region}\\t: 0\")\n",
    "        continue\n",
    "print(f\"총 개수\\t: {total_counts}\")"
   ]
  },
  {
   "cell_type": "markdown",
   "metadata": {},
   "source": [
    "### 항목 내역 (활용할 만한 사항들만 발췌)\n",
    "+ 단지코드\tkaptCode\t9\n",
    "+ 단지명\tkaptName\t50\n",
    "+ 법정동주소\tkaptAddr\t200\n",
    "+ 분양형태  codeSaleNm\t50\n",
    "+ 난방방식\tcodeHeatNm\t50\n",
    "+ 연면적  kaptTarea 22  \n",
    "+ 동수\tkaptDongCnt\t100\n",
    "+ 세대수\tkaptdaCnt\t22\t\n",
    "+ 단지분류\tcodeAptNm\t50\n",
    "+ 호수\thoCnt\t5\n",
    "+ 관리방식  codeMgrNm   50\n",
    "+ 복도유형  codeHallNm  50\n",
    "+ 사용승인일\tkaptUsedate\t8\n",
    "+ 전용면적별 세대현황\tkaptMparea_60\t22  : 60㎡ 이하\n",
    "+ 전용면적별 세대현황\tkaptMparea_85\t22  : 60㎡ ~ 85㎡ 이하\n",
    "+ 전용면적별 세대현황\tkaptMparea_135\t22  : 85㎡ ~ 135㎡ 이하\n",
    "+ 전용면적별 세대현황\tkaptMparea_136\t22  : 135㎡ 초과\n",
    "+ 대장 전용면적합계\tprivArea\t22  : 단지 전용면적합(㎡)\n",
    "+ 법정동코드\tbjdCode\t10"
   ]
  },
  {
   "cell_type": "code",
   "execution_count": null,
   "metadata": {},
   "outputs": [],
   "source": [
    "# Null Value 찾기\n",
    "# df_save_data.isnull().sum()"
   ]
  },
  {
   "cell_type": "markdown",
   "metadata": {},
   "source": [
    "#### 3. 데이터 저장"
   ]
  },
  {
   "cell_type": "code",
   "execution_count": 13,
   "metadata": {},
   "outputs": [],
   "source": [
    "import sys\n",
    "module_path = \"D:\\PythonProject\\data-gatherer\\common\"\n",
    "sys.path.append(module_path)\n",
    "import dbconnect\n",
    "\n",
    "conn = dbconnect.db_connect(\"DEMO_DW\")\n",
    "cur = conn.cursor()\n",
    "\n",
    "# 한꺼번에 저장할 경우 Error 발생. 구군 지역별로 저장\n",
    "for region in dict_region_data.keys():\n",
    "    df_region_data = dict_region_data[region]\n",
    "    df_save_data = df_region_data[['kaptCode', 'kaptName', 'kaptAddr', 'codeSaleNm', 'codeHeatNm', 'kaptTarea', \\\n",
    "                                   'kaptDongCnt', 'kaptdaCnt', 'codeAptNm', 'hoCnt', 'codeMgrNm', 'codeHallNm',  \\\n",
    "                                   'kaptUsedate', 'kaptMparea_60', 'kaptMparea_85', 'kaptMparea_135', 'kaptMparea_136', \\\n",
    "                                   'privArea', 'bjdCode']]\n",
    "    # NaN 값을 공백으로 변환 (Table에 저장하기 위함)\n",
    "    df_save_data['codeSaleNm'] = df_save_data['codeSaleNm'].fillna('')\n",
    "    df_save_data['codeHeatNm'] = df_save_data['codeHeatNm'].fillna('')\n",
    "    df_save_data['codeAptNm'] = df_save_data['codeAptNm'].fillna('')\n",
    "    df_save_data['codeMgrNm'] = df_save_data['codeMgrNm'].fillna('')\n",
    "    df_save_data['codeHallNm'] = df_save_data['codeHallNm'].fillna('')\n",
    "    df_save_data['kaptUsedate'] = df_save_data['kaptUsedate'].fillna('')\n",
    "\n",
    "    # NaN 값을 0로 변환 (Table에 저장하기 위함)\n",
    "    df_save_data['kaptDongCnt'] = df_save_data['kaptDongCnt'].fillna(0)\n",
    "    df_save_data['hoCnt'] = df_save_data['hoCnt'].fillna(0)\n",
    "    \n",
    "    for row in df_save_data.itertuples():\n",
    "        sql = \"insert into molit_apt_daegu (kaptCode, kaptName, kaptAddr, codeSaleNm, codeHeatNm, kaptTarea, \\\n",
    "                                            kaptDongCnt, kaptdaCnt, codeAptNm, hoCnt, codeMgrNm, codeHallNm,  \\\n",
    "                                            kaptUsedate, kaptMparea_60, kaptMparea_85, kaptMparea_135, kaptMparea_136, \\\n",
    "                                            privArea, bjdCode) \\\n",
    "                values (%s, %s, %s, %s, %s, %s, %s, %s, %s, %s, %s, %s, %s, %s, %s, %s, %s, %s, %s)\"\n",
    "        cur.execute(sql, (row[1], row[2], row[3], row[4], row[5], row[6], row[7], row[8], row[9], row[10], \\\n",
    "                        row[11], row[12], row[13], row[14], row[15], row[16], row[17], row[18], row[19]))\n",
    "\n",
    "conn.commit()\n",
    "conn.close()"
   ]
  },
  {
   "cell_type": "code",
   "execution_count": 70,
   "metadata": {},
   "outputs": [],
   "source": [
    "\"\"\"\n",
    "import pymysql\n",
    "import sqlalchemy\n",
    "\n",
    "import sys\n",
    "module_path = \"D:\\PythonProject\\data-gatherer\\common\"\n",
    "sys.path.append(module_path)\n",
    "import dbconnect\n",
    "\n",
    "engine = dbconnect.db_engine(\"DEMO_DW\")\n",
    "\n",
    "# MySQL Connector using pymysql\n",
    "pymysql.install_as_MySQLdb()\n",
    "conn = engine.connect()\n",
    "\n",
    "#변수 타입 설정\n",
    "dtypesql_data = {'kaptCode' : sqlalchemy.types.CHAR(9),\n",
    "                 'kaptName' : sqlalchemy.types.VARCHAR(50),\n",
    "                 'kaptAddr' : sqlalchemy.types.VARCHAR(200),\n",
    "                 'codeSaleNm' : sqlalchemy.types.VARCHAR(50),\n",
    "                 'codeHeatNm' : sqlalchemy.types.VARCHAR(50),\n",
    "                 'kaptTarea' : sqlalchemy.types.DECIMAL(22,4),\n",
    "                 'kaptDongCnt' : sqlalchemy.types.INTEGER(),\n",
    "                 'kaptdaCnt' : sqlalchemy.types.INTEGER(),\n",
    "                 'codeAptNm' : sqlalchemy.types.VARCHAR(50), \n",
    "                 'hoCnt' : sqlalchemy.types.INTEGER(),\n",
    "                 'codeMgrNm' : sqlalchemy.types.VARCHAR(50),\n",
    "                 'codeHallNm' : sqlalchemy.types.VARCHAR(50),\n",
    "                 'kaptUsedate' : sqlalchemy.types.CHAR(8),\n",
    "                 'kaptMparea_60' : sqlalchemy.types.INTEGER(),\n",
    "                 'kaptMparea_85' : sqlalchemy.types.INTEGER(),\n",
    "                 'kaptMparea_135' : sqlalchemy.types.INTEGER(),\n",
    "                 'kaptMparea_136' : sqlalchemy.types.INTEGER(),\n",
    "                 'privArea' : sqlalchemy.types.DECIMAL(22,4),\n",
    "                 'bjdCode' : sqlalchemy.types.CHAR(10)}\n",
    "\n",
    "df_save_data.to_sql(name='molit_apt_daegu', con=engine, if_exists='replace', index=True, dtype=dtypesql_data) \n",
    "\n",
    "conn.commit()\n",
    "conn.close()\n",
    "\"\"\""
   ]
  },
  {
   "cell_type": "code",
   "execution_count": null,
   "metadata": {},
   "outputs": [],
   "source": [
    "\"\"\"\n",
    "import sys\n",
    "module_path = \"D:\\PythonProject\\data-gatherer\\common\"\n",
    "sys.path.append(module_path)\n",
    "import dbconnect\n",
    "\n",
    "conn = dbconnect.db_connect(\"DEMO_DW\")\n",
    "cur = conn.cursor()\n",
    "\n",
    "for row in df_save_data.itertuples():\n",
    "    sql = \"insert into molit_apt_daegu (kaptCode, kaptName, kaptAddr, codeSaleNm, codeHeatNm, kaptTarea, \\\n",
    "                                        kaptDongCnt, kaptdaCnt, codeAptNm, hoCnt, codeMgrNm, codeHallNm,  \\\n",
    "                                        kaptUsedate, kaptMparea_60, kaptMparea_85, kaptMparea_135, kaptMparea_136, \\\n",
    "                                        privArea, bjdCode) \\\n",
    "            values (%s, %s, %s, %s, %s, %s, %s, %s, %s, %s, %s, %s, %s, %s, %s, %s, %s, %s, %s)\"\n",
    "    cur.execute(sql, (row[1], row[2], row[3], row[4], row[5], row[6], row[7], row[8], row[9], row[10], \\\n",
    "                      row[11], row[12], row[13], row[14], row[15], row[16], row[17], row[18], row[19]))\n",
    "\n",
    "conn.commit()\n",
    "conn.close()\n",
    "\"\"\""
   ]
  }
 ],
 "metadata": {
  "kernelspec": {
   "display_name": "data-gatherer-venv",
   "language": "python",
   "name": "python3"
  },
  "language_info": {
   "codemirror_mode": {
    "name": "ipython",
    "version": 3
   },
   "file_extension": ".py",
   "mimetype": "text/x-python",
   "name": "python",
   "nbconvert_exporter": "python",
   "pygments_lexer": "ipython3",
   "version": "3.10.8"
  },
  "orig_nbformat": 4
 },
 "nbformat": 4,
 "nbformat_minor": 2
}
