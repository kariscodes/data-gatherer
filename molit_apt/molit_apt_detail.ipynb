{
 "cells": [
  {
   "cell_type": "markdown",
   "metadata": {},
   "source": [
    "## 공공데이터포털: 국토교통부 공동주택 기본 정보제공 서비스(상세정보)"
   ]
  },
  {
   "cell_type": "code",
   "execution_count": 8,
   "metadata": {},
   "outputs": [
    {
     "name": "stdout",
     "output_type": "stream",
     "text": [
      "http://apis.data.go.kr/1613000/AptBasisInfoService1/getAphusDtlInfo?kaptCode=A10027875&ServiceKey=IVgu%2FZBjA6hpLryyEOpySC2RhogOhaJIUqlXN8Uyj3Gxw4s3dX0qMxfgXMTLl60%2Fs2EYAMUsyyzTqwVOnjoIhg%3D%3D\n"
     ]
    }
   ],
   "source": [
    "service_url = 'http://apis.data.go.kr/1613000/AptBasisInfoService1'\n",
    "service_name = 'getAphusDtlInfo'   # 공동주택 상세 정보제공 서비스\n",
    "# 일반 인증키(Encoding)\t\n",
    "api_key = 'IVgu%2FZBjA6hpLryyEOpySC2RhogOhaJIUqlXN8Uyj3Gxw4s3dX0qMxfgXMTLl60%2Fs2EYAMUsyyzTqwVOnjoIhg%3D%3D'\n",
    "kapt_code = 'A10027875'    # 단지코드\n",
    "month = '202306'\n",
    "\n",
    "# url 예시\n",
    "# url = 'http://apis.data.go.kr/1613000/AptBasisInfoService1/getAphusBassInfo?kaptCode=A10027875&ServiceKey=서비스키'\n",
    "url = f'{service_url}/{service_name}?kaptCode={kapt_code}&ServiceKey={api_key}'\n",
    "print(url)"
   ]
  },
  {
   "cell_type": "code",
   "execution_count": 9,
   "metadata": {},
   "outputs": [],
   "source": [
    "import requests\n",
    "import xmltodict\n",
    "import pandas as pd"
   ]
  },
  {
   "cell_type": "code",
   "execution_count": 10,
   "metadata": {},
   "outputs": [
    {
     "name": "stdout",
     "output_type": "stream",
     "text": [
      "URL GET Successful\n"
     ]
    }
   ],
   "source": [
    "response = requests.get(url,verify=False)\n",
    "if response.status_code == 200:     # URL GET '200 정상'\n",
    "    print(\"URL GET Successful\")\n",
    "    contents = response.text                # XML 데이터\n",
    "    # xmltodict 모듈을 사용해서 xml 데이터를 파이썬의 OrderedDict 타입으로 변환\n",
    "    dict_data = xmltodict.parse(contents)\n",
    "else:\n",
    "    print(\"URL GET Error\")"
   ]
  },
  {
   "cell_type": "code",
   "execution_count": 11,
   "metadata": {},
   "outputs": [
    {
     "data": {
      "text/plain": [
       "{'response': {'header': {'resultCode': '00', 'resultMsg': 'NORMAL SERVICE.'},\n",
       "  'body': {'item': {'codeClean': '자치관리',\n",
       "    'codeDisinf': '위탁관리',\n",
       "    'codeEcon': '단일계약',\n",
       "    'codeElev': '위탁관리',\n",
       "    'codeEmgr': '위탁선임',\n",
       "    'codeFalarm': 'R형',\n",
       "    'codeGarbage': '차량수거방식',\n",
       "    'codeMgr': '자치관리',\n",
       "    'codeNet': '유',\n",
       "    'codeSec': '자치관리(직영)',\n",
       "    'codeStr': '철근콘크리트구조',\n",
       "    'codeWsupply': '부스타방식',\n",
       "    'convenientFacility': '관공서(괴정3동치안센타) 대형상가(뉴코아 아울렛) 기타(괴정시장)',\n",
       "    'disposalType': '분무식',\n",
       "    'educationFacility': '초등학교(괴정초등학교) 대학교(동주대학교)',\n",
       "    'kaptCode': 'A10027875',\n",
       "    'kaptMgrCnt': '2',\n",
       "    'kaptName': '괴정 경성스마트W아파트',\n",
       "    'kaptdCccnt': '20',\n",
       "    'kaptdClcnt': '1',\n",
       "    'kaptdDcnt': '5',\n",
       "    'kaptdEcapa': '1310',\n",
       "    'kaptdEcnt': '5',\n",
       "    'kaptdPcnt': '0',\n",
       "    'kaptdPcntu': '162',\n",
       "    'kaptdScnt': '2',\n",
       "    'kaptdWtimebus': '5분이내',\n",
       "    'kaptdWtimesub': '5~10분이내',\n",
       "    'subwayLine': '1호선',\n",
       "    'subwayStation': '괴정지하철',\n",
       "    'welfareFacility': '관리사무소'}}}}"
      ]
     },
     "execution_count": 11,
     "metadata": {},
     "output_type": "execute_result"
    }
   ],
   "source": [
    "dict_data"
   ]
  },
  {
   "cell_type": "code",
   "execution_count": 12,
   "metadata": {},
   "outputs": [],
   "source": [
    "item = dict_data['response']['body']['item']\n",
    "df_apt_info = pd.json_normalize(item)"
   ]
  },
  {
   "cell_type": "code",
   "execution_count": 13,
   "metadata": {},
   "outputs": [
    {
     "data": {
      "text/html": [
       "<div>\n",
       "<style scoped>\n",
       "    .dataframe tbody tr th:only-of-type {\n",
       "        vertical-align: middle;\n",
       "    }\n",
       "\n",
       "    .dataframe tbody tr th {\n",
       "        vertical-align: top;\n",
       "    }\n",
       "\n",
       "    .dataframe thead th {\n",
       "        text-align: right;\n",
       "    }\n",
       "</style>\n",
       "<table border=\"1\" class=\"dataframe\">\n",
       "  <thead>\n",
       "    <tr style=\"text-align: right;\">\n",
       "      <th></th>\n",
       "      <th>codeClean</th>\n",
       "      <th>codeDisinf</th>\n",
       "      <th>codeEcon</th>\n",
       "      <th>codeElev</th>\n",
       "      <th>codeEmgr</th>\n",
       "      <th>codeFalarm</th>\n",
       "      <th>codeGarbage</th>\n",
       "      <th>codeMgr</th>\n",
       "      <th>codeNet</th>\n",
       "      <th>codeSec</th>\n",
       "      <th>...</th>\n",
       "      <th>kaptdEcapa</th>\n",
       "      <th>kaptdEcnt</th>\n",
       "      <th>kaptdPcnt</th>\n",
       "      <th>kaptdPcntu</th>\n",
       "      <th>kaptdScnt</th>\n",
       "      <th>kaptdWtimebus</th>\n",
       "      <th>kaptdWtimesub</th>\n",
       "      <th>subwayLine</th>\n",
       "      <th>subwayStation</th>\n",
       "      <th>welfareFacility</th>\n",
       "    </tr>\n",
       "  </thead>\n",
       "  <tbody>\n",
       "    <tr>\n",
       "      <th>0</th>\n",
       "      <td>자치관리</td>\n",
       "      <td>위탁관리</td>\n",
       "      <td>단일계약</td>\n",
       "      <td>위탁관리</td>\n",
       "      <td>위탁선임</td>\n",
       "      <td>R형</td>\n",
       "      <td>차량수거방식</td>\n",
       "      <td>자치관리</td>\n",
       "      <td>유</td>\n",
       "      <td>자치관리(직영)</td>\n",
       "      <td>...</td>\n",
       "      <td>1310</td>\n",
       "      <td>5</td>\n",
       "      <td>0</td>\n",
       "      <td>162</td>\n",
       "      <td>2</td>\n",
       "      <td>5분이내</td>\n",
       "      <td>5~10분이내</td>\n",
       "      <td>1호선</td>\n",
       "      <td>괴정지하철</td>\n",
       "      <td>관리사무소</td>\n",
       "    </tr>\n",
       "  </tbody>\n",
       "</table>\n",
       "<p>1 rows × 31 columns</p>\n",
       "</div>"
      ],
      "text/plain": [
       "  codeClean codeDisinf codeEcon codeElev codeEmgr codeFalarm codeGarbage  \\\n",
       "0      자치관리       위탁관리     단일계약     위탁관리     위탁선임         R형      차량수거방식   \n",
       "\n",
       "  codeMgr codeNet   codeSec  ... kaptdEcapa kaptdEcnt kaptdPcnt kaptdPcntu  \\\n",
       "0    자치관리       유  자치관리(직영)  ...       1310         5         0        162   \n",
       "\n",
       "  kaptdScnt kaptdWtimebus kaptdWtimesub subwayLine subwayStation  \\\n",
       "0         2          5분이내       5~10분이내        1호선         괴정지하철   \n",
       "\n",
       "  welfareFacility  \n",
       "0           관리사무소  \n",
       "\n",
       "[1 rows x 31 columns]"
      ]
     },
     "execution_count": 13,
     "metadata": {},
     "output_type": "execute_result"
    }
   ],
   "source": [
    "df_apt_info"
   ]
  }
 ],
 "metadata": {
  "kernelspec": {
   "display_name": "data-gatherer-venv",
   "language": "python",
   "name": "python3"
  },
  "language_info": {
   "codemirror_mode": {
    "name": "ipython",
    "version": 3
   },
   "file_extension": ".py",
   "mimetype": "text/x-python",
   "name": "python",
   "nbconvert_exporter": "python",
   "pygments_lexer": "ipython3",
   "version": "3.10.8"
  },
  "orig_nbformat": 4
 },
 "nbformat": 4,
 "nbformat_minor": 2
}
