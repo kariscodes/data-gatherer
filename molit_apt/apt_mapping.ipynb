{
 "cells": [
  {
   "cell_type": "markdown",
   "metadata": {},
   "source": [
    "### 공동주택 코드 매핑"
   ]
  },
  {
   "cell_type": "code",
   "execution_count": 249,
   "metadata": {},
   "outputs": [],
   "source": [
    "# 라이브러리\n",
    "import os\n",
    "import chardet\n",
    "import pandas as pd\n",
    "import re \n",
    "\n",
    "p = re.compile('\\(([^)]+)')  \n",
    "\n",
    "def jibun_juso(addr):\n",
    "    d = p.findall(addr) \n",
    "    if isinstance(d, list) and len(d) > 0:\n",
    "        return d[0]\n",
    "    return None\n",
    "\n",
    "def doro_juso(addr):\n",
    "    p = addr.find(\"(\")\n",
    "    juso = addr[0:p-1].rstrip()\n",
    "    return juso\n",
    "\n",
    "def part_back(obj):\n",
    "    # 데이터에 null 있음    \n",
    "    if isinstance(obj, str) and len(obj) > 0:\n",
    "        part_front = obj.split()[0]\n",
    "        part_back = obj.replace(part_front, \"\").lstrip()\n",
    "        return part_back\n",
    "    else:\n",
    "        return None\n",
    "    \n",
    "def part_front(obj):\n",
    "    part_front = obj[1].replace(obj[0], \"\").rstrip()\n",
    "    return part_front\n",
    "\n",
    "def no_blank(obj):\n",
    "    # 데이터에 null 있음    \n",
    "    if isinstance(obj, str) and len(obj) > 0:\n",
    "        re_str = obj.replace(\" \", \"\")\n",
    "        return re_str\n",
    "    else:\n",
    "        return None"
   ]
  },
  {
   "cell_type": "code",
   "execution_count": 250,
   "metadata": {},
   "outputs": [],
   "source": [
    "# 데이터 파일 위치\n",
    "data_root = \"D:\\PythonProject\\data-gatherer\\molit_apt\\data\"\n",
    "# 아파트 코드 목록: 외부(국토교통부)\n",
    "file_ext = os.path.join(data_root, \"공동주택_국토부_apt_info_20240411.csv\")\n",
    "# 아파트 코드 목록: 내부(고객지원시스템)\n",
    "file_int = os.path.join(data_root, \"공동주택_고객지원시스템_20240415.csv\")\n",
    "\n",
    "# 파일의 인코딩 확인\n",
    "with open(file_ext, 'rb') as f:\n",
    "    rawdata = f.read()\n",
    "    result = chardet.detect(rawdata)\n",
    "    encoding_ext = result['encoding']\n",
    "    \n",
    "with open(file_int, 'rb') as f:\n",
    "    rawdata = f.read()\n",
    "    result = chardet.detect(rawdata)\n",
    "    encoding_int = result['encoding']"
   ]
  },
  {
   "cell_type": "markdown",
   "metadata": {},
   "source": [
    "* df_int"
   ]
  },
  {
   "cell_type": "code",
   "execution_count": 251,
   "metadata": {},
   "outputs": [],
   "source": [
    "# 파일 데이터 읽기\n",
    "data_int = pd.read_csv(file_int, encoding=encoding_int, dtype=object)\n",
    "df_int = data_int.copy()\n",
    "int_cnt = df_int.shape[0]"
   ]
  },
  {
   "cell_type": "code",
   "execution_count": 252,
   "metadata": {},
   "outputs": [],
   "source": [
    "\"\"\" 데이터 정리 \"\"\"\n",
    "# 1. 공동주택이 아닌 데이터 제외\n",
    "idx = df_int[df_int['용도'] != '공동주택'].index\n",
    "df_int.drop(idx, inplace=True)\n",
    "# 2. 필요한 항목만 남김\n",
    "df_int = df_int[['아파트명', '아파트코드', '우편번호', '주소']]\n",
    "# 3. 중복 데이터 없애기\n",
    "df_int.drop_duplicates(subset=None, keep='first', inplace=True, ignore_index=True)\n",
    "# 4. 시군구 항목 생성\n",
    "df_int['시군구'] = df_int['주소'].apply(lambda x: x.split()[0])\n",
    "# 5. 대구광역시 공급권역 데이터만 남기고 나머지(경북 지역) 데이터 삭제\n",
    "idx = df_int[~df_int['시군구'].isin(['중구', '동구', '서구', '남구', '북구', '수성구', '달서구', '달성군'])].index\n",
    "df_int.drop(idx, inplace=True)\n",
    "# 6. 지번주소 항목 분리 생성\n",
    "df_int['지번주소'] = df_int['주소'].apply(jibun_juso)\n",
    "df_int['지번주소_공백X'] = df_int['지번주소'].apply(no_blank)\n",
    "# 7. 도로명주소 항목 분리 생성\n",
    "df_int['시군구_도로명주소'] = df_int['주소'].apply(doro_juso)\n",
    "df_int['도로명주소'] = df_int['시군구_도로명주소'].apply(part_back)\n",
    "df_int['도로명주소_공백X'] = df_int['도로명주소'].apply(no_blank)\n",
    "# 8. 아파트명 공백X\n",
    "df_int['아파트명_공백X'] = df_int['아파트명'].apply(lambda x: x.replace(\" \",\"\"))\n",
    "# 9. 필요항 컬럼만 구성\n",
    "df_int = df_int[['아파트코드','아파트명', '아파트명_공백X', '시군구', '지번주소', '지번주소_공백X', '도로명주소', '도로명주소_공백X']]"
   ]
  },
  {
   "cell_type": "markdown",
   "metadata": {},
   "source": [
    "* df_ext"
   ]
  },
  {
   "cell_type": "code",
   "execution_count": 255,
   "metadata": {},
   "outputs": [],
   "source": [
    "# 파일 데이터 읽기\n",
    "data_ext = pd.read_csv(file_ext, encoding=encoding_ext, dtype=object)\n",
    "df_ext = data_ext.copy()\n",
    "ext_cnt = df_ext.shape[0]"
   ]
  },
  {
   "cell_type": "code",
   "execution_count": 256,
   "metadata": {},
   "outputs": [],
   "source": [
    "# df_ext.isnull().sum()"
   ]
  },
  {
   "cell_type": "code",
   "execution_count": 257,
   "metadata": {},
   "outputs": [],
   "source": [
    "\"\"\" 데이터 정리 \"\"\"\n",
    "# 1. 필요한 항목만 남김\n",
    "df_ext = df_ext[['kapt_cd', 'kapt_nm', 'as2', 'as3', 'as4', 'kapt_addr', 'doro_juso']]\n",
    "# 2. 시군구_도로명주소 항목 생성\n",
    "df_ext['시군구_도로명주소'] = df_ext['doro_juso'].str.lstrip('대구광역시')\n",
    "# 3. 도로명주소 항목 생성\n",
    "df_ext['도로명주소'] = df_ext['시군구_도로명주소'].apply(part_back)\n",
    "df_ext['도로명주소_공백X'] = df_ext['도로명주소'].apply(no_blank)\n",
    "# 4. 법정동주소 항목 생성   \n",
    "df_ext['광역시_법정동주소'] = df_ext[['kapt_nm', 'kapt_addr']].apply(part_front, axis=1)\n",
    "df_ext['시군구_법정동주소'] = df_ext['광역시_법정동주소'].apply(part_back)\n",
    "df_ext['법정동주소'] = df_ext['시군구_법정동주소'].apply(part_back)\n",
    "df_ext['법정동주소_공백X'] = df_ext['법정동주소'].apply(no_blank)\n",
    "# 5. 컬럼명 변경\n",
    "df_ext.rename(columns={'kapt_nm' : '아파트명', 'as2' : '시군구'}, inplace=True)\n",
    "# 6. 아파트명 공백X\n",
    "df_ext['아파트명_공백X'] = df_ext['아파트명'].apply(lambda x: x.replace(\" \",\"\"))\n",
    "# 7. 필요한 컬럼만 구성\n",
    "df_ext = df_ext[['kapt_cd', '아파트명', '아파트명_공백X', '시군구', 'as3', 'as4', '도로명주소', '도로명주소_공백X', '법정동주소', '법정동주소_공백X']]"
   ]
  },
  {
   "cell_type": "markdown",
   "metadata": {},
   "source": [
    "* 1차 매칭 - 도로명주소"
   ]
  },
  {
   "cell_type": "code",
   "execution_count": 258,
   "metadata": {},
   "outputs": [],
   "source": [
    "# 1차 매칭\n",
    "df_merge1 = pd.merge(df_ext, df_int, how='outer', left_on=\"도로명주소_공백X\", right_on=\"도로명주소_공백X\", suffixes=('_left','_right'), indicator=True)\n",
    "df_match1 = df_merge1[df_merge1['_merge'] == 'both'][['kapt_cd', '아파트코드']]\n",
    "df_match1.drop_duplicates(subset='kapt_cd', inplace=True)       # N:1 삭제 (abnormal mapping)\n",
    "df_match1.drop_duplicates(subset='아파트코드', inplace=True)     # 1:N 삭제 (abnormal mapping)\n",
    "df_match1['match'] = '1. 도로명주소 일치'\n",
    "# 1차 매칭된 데이터 삭제\n",
    "idx_ext = df_ext[df_ext['kapt_cd'].isin(df_match1['kapt_cd'])].index\n",
    "df_ext.drop(idx_ext, inplace=True)\n",
    "idx_int = df_int[df_int['아파트코드'].isin(df_match1['아파트코드'])].index\n",
    "df_int.drop(idx_int, inplace=True)\n",
    "assert df_ext.shape[0] == ext_cnt - df_match1.shape[0]"
   ]
  },
  {
   "cell_type": "markdown",
   "metadata": {},
   "source": [
    "* 2차 매칭 - 아파트명"
   ]
  },
  {
   "cell_type": "code",
   "execution_count": 259,
   "metadata": {},
   "outputs": [],
   "source": [
    "# 2차 매칭\n",
    "df_merge2 = pd.merge(df_ext, df_int, how='outer', left_on=\"아파트명_공백X\", right_on=\"아파트명_공백X\", suffixes=('_left','_right'), indicator=True)\n",
    "df_match2 = df_merge2[df_merge2['_merge'] == 'both'][['kapt_cd', '아파트코드']]\n",
    "df_match2.drop_duplicates(subset='kapt_cd', inplace=True)       # N:1 삭제 (abnormal mapping)\n",
    "df_match2.drop_duplicates(subset='아파트코드', inplace=True)     # 1:N 삭제 (abnormal mapping)\n",
    "df_match2['match'] = '2. 아파트명 일치'\n",
    "# 2차 매칭된 데이터 삭제\n",
    "idx_ext = df_ext[df_ext['kapt_cd'].isin(df_match2['kapt_cd'])].index\n",
    "df_ext.drop(idx_ext, inplace=True)\n",
    "idx_int = df_int[df_int['아파트코드'].isin(df_match2['아파트코드'])].index\n",
    "df_int.drop(idx_int, inplace=True)\n",
    "assert df_ext.shape[0] == ext_cnt - df_match1.shape[0] - df_match2.shape[0]"
   ]
  },
  {
   "cell_type": "markdown",
   "metadata": {},
   "source": [
    "* 3차 매칭 - [EXT]법정동주소 == [INT]지번주소"
   ]
  },
  {
   "cell_type": "code",
   "execution_count": 260,
   "metadata": {},
   "outputs": [],
   "source": [
    "# 3차 매칭\n",
    "df_merge3 = pd.merge(df_ext, df_int, how='outer', left_on=\"법정동주소_공백X\", right_on=\"지번주소_공백X\", suffixes=('_left','_right'), indicator=True)\n",
    "df_match3 = df_merge3[df_merge3['_merge'] == 'both'][['kapt_cd', '아파트코드']]\n",
    "df_match3.drop_duplicates(subset='kapt_cd', inplace=True)       # N:1 삭제 (abnormal mapping)\n",
    "df_match3.drop_duplicates(subset='아파트코드', inplace=True)     # 1:N 삭제 (abnormal mapping)\n",
    "df_match3['match'] = '3. 국토부_법정동주소와 내부시스템_지번주소 일치'\n",
    "# 3차 매칭된 데이터 삭제\n",
    "idx_ext = df_ext[df_ext['kapt_cd'].isin(df_match3['kapt_cd'])].index\n",
    "df_ext.drop(idx_ext, inplace=True)\n",
    "idx_int = df_int[df_int['아파트코드'].isin(df_match3['아파트코드'])].index\n",
    "df_int.drop(idx_int, inplace=True)\n",
    "assert df_ext.shape[0] == ext_cnt - df_match1.shape[0] - df_match2.shape[0] - df_match3.shape[0]"
   ]
  },
  {
   "cell_type": "markdown",
   "metadata": {},
   "source": [
    "* 4차 매칭"
   ]
  },
  {
   "cell_type": "code",
   "execution_count": 261,
   "metadata": {},
   "outputs": [],
   "source": [
    "# 4차 매칭\n",
    "df_ext['as3_도로명주소_공백X'] = df_ext['as3'] + df_ext['도로명주소_공백X']\n",
    "df_merge4 = pd.merge(df_ext, df_int, how='outer', left_on=\"as3_도로명주소_공백X\", right_on=\"도로명주소_공백X\", suffixes=('_left','_right'), indicator=True)\n",
    "df_match4 = df_merge4[df_merge4['_merge'] == 'both'][['kapt_cd', '아파트코드']]\n",
    "df_match4.drop_duplicates(subset='kapt_cd', inplace=True)       # N:1 삭제 (abnormal mapping)\n",
    "df_match4.drop_duplicates(subset='아파트코드', inplace=True)     # 1:N 삭제 (abnormal mapping)\n",
    "df_match4['match'] = '4. 국토부_읍면+도로명주소와 내부시스템_도로명주소 일치'\n",
    "# 4차 매칭된 데이터 삭제\n",
    "idx_ext = df_ext[df_ext['kapt_cd'].isin(df_match4['kapt_cd'])].index\n",
    "df_ext.drop(idx_ext, inplace=True)\n",
    "idx_int = df_int[df_int['아파트코드'].isin(df_match4['아파트코드'])].index\n",
    "df_int.drop(idx_int, inplace=True)\n",
    "assert df_ext.shape[0] == ext_cnt - df_match1.shape[0] - df_match2.shape[0] - df_match3.shape[0] - df_match4.shape[0]"
   ]
  },
  {
   "cell_type": "markdown",
   "metadata": {},
   "source": [
    "* 5차 매칭"
   ]
  },
  {
   "cell_type": "code",
   "execution_count": 262,
   "metadata": {},
   "outputs": [],
   "source": [
    "same_char = {\"LH\" : \"엘에이치\", \"e\" : \"이\"}\n",
    "def re_char(apt_name):\n",
    "    y = apt_name\n",
    "    for k, v in same_char.items():\n",
    "        if k in apt_name:\n",
    "            y = apt_name.replace(k, v)\n",
    "    return y\n",
    "\n",
    "# 5차 매칭\n",
    "df_ext['아파트명_공백X_단어통일'] = df_ext['아파트명_공백X'].apply(re_char)\n",
    "df_int['아파트명_공백X_단어통일'] = df_int['아파트명_공백X'].apply(re_char)\n",
    "df_merge5 = pd.merge(df_ext, df_int, how='outer', left_on=\"아파트명_공백X_단어통일\", right_on=\"아파트명_공백X_단어통일\", suffixes=('_left','_right'), indicator=True)\n",
    "df_match5 = df_merge5[df_merge5['_merge'] == 'both'][['kapt_cd', '아파트코드']]\n",
    "df_match5.drop_duplicates(subset='kapt_cd', inplace=True)       # N:1 삭제 (abnormal mapping)\n",
    "df_match5.drop_duplicates(subset='아파트코드', inplace=True)     # 1:N 삭제 (abnormal mapping)\n",
    "df_match5['match'] = '5. 아파트명 유사단어 통일 후 일치'\n",
    "# 5차 매칭된 데이터 삭제\n",
    "idx_ext = df_ext[df_ext['kapt_cd'].isin(df_match5['kapt_cd'])].index\n",
    "df_ext.drop(idx_ext, inplace=True)\n",
    "idx_int = df_int[df_int['아파트코드'].isin(df_match5['아파트코드'])].index\n",
    "df_int.drop(idx_int, inplace=True)   \n",
    "assert df_ext.shape[0] == ext_cnt - df_match1.shape[0] - df_match2.shape[0] - df_match3.shape[0] - df_match4.shape[0] - df_match5.shape[0]"
   ]
  },
  {
   "cell_type": "markdown",
   "metadata": {},
   "source": [
    "* 6차 매칭"
   ]
  },
  {
   "cell_type": "code",
   "execution_count": 263,
   "metadata": {},
   "outputs": [],
   "source": [
    "extra_char = ['대구', '아파트']\n",
    "def del_char(apt_name):\n",
    "    y = apt_name\n",
    "    for c in extra_char:\n",
    "        if c in apt_name:\n",
    "            y = apt_name.replace(c, \"\")     # 해당 단어 삭제\n",
    "    return y\n",
    "\n",
    "# 6차 매칭\n",
    "df_ext['아파트명_공백X_부가단어삭제'] = df_ext['아파트명_공백X'].apply(del_char)\n",
    "df_int['아파트명_공백X_부가단어삭제'] = df_int['아파트명_공백X'].apply(del_char)\n",
    "df_merge6 = pd.merge(df_ext, df_int, how='outer', left_on=\"아파트명_공백X_부가단어삭제\", right_on=\"아파트명_공백X_부가단어삭제\", suffixes=('_left','_right'), indicator=True)\n",
    "df_match6 = df_merge6[df_merge6['_merge'] == 'both'][['kapt_cd', '아파트코드']]\n",
    "df_match6.drop_duplicates(subset='kapt_cd', inplace=True)       # N:1 삭제 (abnormal mapping)\n",
    "df_match6.drop_duplicates(subset='아파트코드', inplace=True)     # 1:N 삭제 (abnormal mapping)\n",
    "df_match6['match'] = '6. 아파트명 부가단어 삭제 후 일치'\n",
    "# 6차 매칭된 데이터 삭제\n",
    "idx_ext = df_ext[df_ext['kapt_cd'].isin(df_match6['kapt_cd'])].index\n",
    "df_ext.drop(idx_ext, inplace=True)\n",
    "idx_int = df_int[df_int['아파트코드'].isin(df_match6['아파트코드'])].index\n",
    "df_int.drop(idx_int, inplace=True)   \n",
    "assert df_ext.shape[0] == ext_cnt - df_match1.shape[0] - df_match2.shape[0] - df_match3.shape[0] - df_match4.shape[0] - df_match5.shape[0] - df_match6.shape[0]"
   ]
  },
  {
   "cell_type": "markdown",
   "metadata": {},
   "source": [
    "* 총합"
   ]
  },
  {
   "cell_type": "code",
   "execution_count": 264,
   "metadata": {},
   "outputs": [
    {
     "name": "stdout",
     "output_type": "stream",
     "text": [
      "대구광역시 국토부 데이터:\t 1039\n",
      "고객지원시스템 데이터:\t 3170\n",
      "매칭: 1차 매칭 845, 2차 매칭 107, 3차 매칭 30, 4차 매칭 42, 5차 매칭 4, 6차 매칭 4\n",
      "총 매칭 1032, 잔여 건수(국토부 데이터 기준) 7\n"
     ]
    }
   ],
   "source": [
    "m1 = df_match1.shape[0]\n",
    "m2 = df_match2.shape[0]\n",
    "m3 = df_match3.shape[0]\n",
    "m4 = df_match4.shape[0]\n",
    "m5 = df_match5.shape[0]\n",
    "m6 = df_match6.shape[0]\n",
    "total = m1 + m2 + m3 + m4 + m5 + m6\n",
    "print(f\"대구광역시 국토부 데이터:\\t {ext_cnt}\")\n",
    "print(f\"고객지원시스템 데이터:\\t {int_cnt}\")\n",
    "print(f\"매칭: 1차 매칭 {m1}, 2차 매칭 {m2}, 3차 매칭 {m3}, 4차 매칭 {m4}, 5차 매칭 {m5}, 6차 매칭 {m6}\")\n",
    "print(f\"총 매칭 {total}, 잔여 건수(국토부 데이터 기준) {ext_cnt - total}\")"
   ]
  },
  {
   "cell_type": "code",
   "execution_count": 265,
   "metadata": {},
   "outputs": [
    {
     "data": {
      "text/plain": [
       "match\n",
       "1. 도로명주소 일치                        845\n",
       "2. 아파트명 일치                         107\n",
       "4. 국토부_읍면+도로명주소와 내부시스템_도로명주소 일치     42\n",
       "3. 국토부_법정동주소와 내부시스템_지번주소 일치         30\n",
       "5. 아파트명 유사단어 통일 후 일치                 4\n",
       "6. 아파트명 부가단어 삭제 후 일치                 4\n",
       "Name: count, dtype: int64"
      ]
     },
     "execution_count": 265,
     "metadata": {},
     "output_type": "execute_result"
    }
   ],
   "source": [
    "# 매칭 데이터 병합\n",
    "df_list = [df_match1, df_match2, df_match3, df_match4, df_match5, df_match6]\n",
    "df_all = pd.concat(df_list, ignore_index=True)\n",
    "df_all.sort_values(by='match')['match'].value_counts()"
   ]
  },
  {
   "cell_type": "code",
   "execution_count": 266,
   "metadata": {},
   "outputs": [
    {
     "data": {
      "text/plain": [
       "1032"
      ]
     },
     "execution_count": 266,
     "metadata": {},
     "output_type": "execute_result"
    }
   ],
   "source": [
    "df_all.shape[0]"
   ]
  },
  {
   "cell_type": "code",
   "execution_count": null,
   "metadata": {},
   "outputs": [],
   "source": [
    "# file_ext_unmatched = os.path.join(data_root, \"공동주택_국토부_apt_info_20240411_unmatched.xlsx\")\n",
    "# df_ext.to_excel(file_ext_unmatched, index=False)"
   ]
  },
  {
   "cell_type": "markdown",
   "metadata": {},
   "source": [
    "* 원 데이터 검색"
   ]
  },
  {
   "cell_type": "code",
   "execution_count": null,
   "metadata": {},
   "outputs": [
    {
     "data": {
      "text/plain": [
       "Index(['sido_cd', 'kapt_cd', 'kapt_nm', 'as1', 'as2', 'as3', 'as4', 'stdg_cd',\n",
       "       'kapt_addr', 'cd_sale_nm', 'cd_heat_nm', 'kapt_tarea', 'kapt_dong_cnt',\n",
       "       'kapt_da_cnt', 'kapt_cnst_co', 'kapt_dev_co', 'kapt_tel', 'kapt_fax',\n",
       "       'kapt_url', 'cd_apt_nm', 'doro_juso', 'ho_cnt', 'cd_mgr_nm',\n",
       "       'cd_hall_nm', 'kapt_use_dt', 'kapt_marea', 'kapt_mparea_60',\n",
       "       'kapt_mparea_85', 'kapt_mparea_135', 'kapt_mparea_136', 'priv_area',\n",
       "       'cr_dt', 'cr_id'],\n",
       "      dtype='object')"
      ]
     },
     "execution_count": 123,
     "metadata": {},
     "output_type": "execute_result"
    }
   ],
   "source": [
    "data_ext.columns"
   ]
  },
  {
   "cell_type": "code",
   "execution_count": null,
   "metadata": {},
   "outputs": [
    {
     "data": {
      "text/html": [
       "<div>\n",
       "<style scoped>\n",
       "    .dataframe tbody tr th:only-of-type {\n",
       "        vertical-align: middle;\n",
       "    }\n",
       "\n",
       "    .dataframe tbody tr th {\n",
       "        vertical-align: top;\n",
       "    }\n",
       "\n",
       "    .dataframe thead th {\n",
       "        text-align: right;\n",
       "    }\n",
       "</style>\n",
       "<table border=\"1\" class=\"dataframe\">\n",
       "  <thead>\n",
       "    <tr style=\"text-align: right;\">\n",
       "      <th></th>\n",
       "      <th>kapt_nm</th>\n",
       "      <th>kapt_addr</th>\n",
       "      <th>as1</th>\n",
       "      <th>as2</th>\n",
       "      <th>as3</th>\n",
       "      <th>as4</th>\n",
       "      <th>doro_juso</th>\n",
       "    </tr>\n",
       "  </thead>\n",
       "  <tbody>\n",
       "    <tr>\n",
       "      <th>12</th>\n",
       "      <td>서대구역화성파크드림</td>\n",
       "      <td>대구광역시 서구 평리동 1512-10 서대구역화성파크드림</td>\n",
       "      <td>대구광역시</td>\n",
       "      <td>서구</td>\n",
       "      <td>평리동</td>\n",
       "      <td>NaN</td>\n",
       "      <td>대구광역시 서구 서대구로29길 30</td>\n",
       "    </tr>\n",
       "    <tr>\n",
       "      <th>20</th>\n",
       "      <td>서대구역반도유보라센텀</td>\n",
       "      <td>대구광역시 서구 평리동 1083-2 서대구역반도유보라센텀</td>\n",
       "      <td>대구광역시</td>\n",
       "      <td>서구</td>\n",
       "      <td>평리동</td>\n",
       "      <td>NaN</td>\n",
       "      <td>대구광역시 서구 문화로 230</td>\n",
       "    </tr>\n",
       "    <tr>\n",
       "      <th>46</th>\n",
       "      <td>서대구역서한이다음 더 퍼스트</td>\n",
       "      <td>대구광역시 서구 평리동 1481-10 서대구역서한이다음 더 퍼스트</td>\n",
       "      <td>대구광역시</td>\n",
       "      <td>서구</td>\n",
       "      <td>평리동</td>\n",
       "      <td>NaN</td>\n",
       "      <td>NaN</td>\n",
       "    </tr>\n",
       "  </tbody>\n",
       "</table>\n",
       "</div>"
      ],
      "text/plain": [
       "            kapt_nm                             kapt_addr    as1 as2  as3  \\\n",
       "12       서대구역화성파크드림       대구광역시 서구 평리동 1512-10 서대구역화성파크드림  대구광역시  서구  평리동   \n",
       "20      서대구역반도유보라센텀       대구광역시 서구 평리동 1083-2 서대구역반도유보라센텀  대구광역시  서구  평리동   \n",
       "46  서대구역서한이다음 더 퍼스트  대구광역시 서구 평리동 1481-10 서대구역서한이다음 더 퍼스트  대구광역시  서구  평리동   \n",
       "\n",
       "    as4            doro_juso  \n",
       "12  NaN  대구광역시 서구 서대구로29길 30  \n",
       "20  NaN     대구광역시 서구 문화로 230  \n",
       "46  NaN                  NaN  "
      ]
     },
     "execution_count": 124,
     "metadata": {},
     "output_type": "execute_result"
    }
   ],
   "source": [
    "data_ext[data_ext['kapt_nm'].str.contains('서대구역')][['kapt_nm', 'kapt_addr','as1','as2','as3','as4','doro_juso']]"
   ]
  },
  {
   "cell_type": "code",
   "execution_count": null,
   "metadata": {},
   "outputs": [
    {
     "data": {
      "text/html": [
       "<div>\n",
       "<style scoped>\n",
       "    .dataframe tbody tr th:only-of-type {\n",
       "        vertical-align: middle;\n",
       "    }\n",
       "\n",
       "    .dataframe tbody tr th {\n",
       "        vertical-align: top;\n",
       "    }\n",
       "\n",
       "    .dataframe thead th {\n",
       "        text-align: right;\n",
       "    }\n",
       "</style>\n",
       "<table border=\"1\" class=\"dataframe\">\n",
       "  <thead>\n",
       "    <tr style=\"text-align: right;\">\n",
       "      <th></th>\n",
       "      <th>아파트명</th>\n",
       "      <th>아파트코드</th>\n",
       "      <th>세대수</th>\n",
       "      <th>우편번호</th>\n",
       "      <th>주소</th>\n",
       "      <th>난방구분</th>\n",
       "      <th>용도</th>\n",
       "      <th>공동주택계약</th>\n",
       "      <th>설치위치</th>\n",
       "      <th>서비스센터</th>\n",
       "      <th>Unnamed: 10</th>\n",
       "    </tr>\n",
       "  </thead>\n",
       "  <tbody>\n",
       "    <tr>\n",
       "      <th>292</th>\n",
       "      <td>가람타운</td>\n",
       "      <td>010229</td>\n",
       "      <td>559</td>\n",
       "      <td>41203</td>\n",
       "      <td>동구 신암로16길 16 (신천동 551-23)</td>\n",
       "      <td>개별난방</td>\n",
       "      <td>공동주택</td>\n",
       "      <td>아니오</td>\n",
       "      <td>베란다</td>\n",
       "      <td>제5서비스(주)</td>\n",
       "      <td>NaN</td>\n",
       "    </tr>\n",
       "    <tr>\n",
       "      <th>337</th>\n",
       "      <td>가람빌라</td>\n",
       "      <td>010504</td>\n",
       "      <td>8</td>\n",
       "      <td>41153</td>\n",
       "      <td>동구 해동로 135-1 (입석동 938-5)</td>\n",
       "      <td>개별난방</td>\n",
       "      <td>공동주택</td>\n",
       "      <td>아니오</td>\n",
       "      <td>베란다</td>\n",
       "      <td>제5서비스(주)</td>\n",
       "      <td>NaN</td>\n",
       "    </tr>\n",
       "    <tr>\n",
       "      <th>451</th>\n",
       "      <td>가람타운</td>\n",
       "      <td>200796</td>\n",
       "      <td>558</td>\n",
       "      <td>41203</td>\n",
       "      <td>동구 신암로16길 33 (신천동 551-35)</td>\n",
       "      <td>개별난방</td>\n",
       "      <td>공동주택</td>\n",
       "      <td>아니오</td>\n",
       "      <td>베란다</td>\n",
       "      <td>제5서비스(주)</td>\n",
       "      <td>NaN</td>\n",
       "    </tr>\n",
       "    <tr>\n",
       "      <th>950</th>\n",
       "      <td>가람마을</td>\n",
       "      <td>043804</td>\n",
       "      <td>919</td>\n",
       "      <td>42837</td>\n",
       "      <td>달서구 한실로 135 (도원동 1439)</td>\n",
       "      <td>지역난방</td>\n",
       "      <td>공동주택</td>\n",
       "      <td>아니오</td>\n",
       "      <td>베란다</td>\n",
       "      <td>서비스2센터(주)월배</td>\n",
       "      <td>NaN</td>\n",
       "    </tr>\n",
       "    <tr>\n",
       "      <th>1331</th>\n",
       "      <td>가람마을</td>\n",
       "      <td>043804</td>\n",
       "      <td>526</td>\n",
       "      <td>42837</td>\n",
       "      <td>달서구 한실로 135 (도원동 1439)</td>\n",
       "      <td>지역난방</td>\n",
       "      <td>공동주택</td>\n",
       "      <td>아니오</td>\n",
       "      <td>복도</td>\n",
       "      <td>서비스2센터(주)월배</td>\n",
       "      <td>NaN</td>\n",
       "    </tr>\n",
       "    <tr>\n",
       "      <th>1873</th>\n",
       "      <td>가람빌라</td>\n",
       "      <td>200653</td>\n",
       "      <td>6</td>\n",
       "      <td>41153</td>\n",
       "      <td>동구 해동로 135 (입석동 938-11)</td>\n",
       "      <td>개별난방</td>\n",
       "      <td>공동주택</td>\n",
       "      <td>아니오</td>\n",
       "      <td>베란다</td>\n",
       "      <td>제5서비스(주)</td>\n",
       "      <td>NaN</td>\n",
       "    </tr>\n",
       "    <tr>\n",
       "      <th>1886</th>\n",
       "      <td>가람빌라</td>\n",
       "      <td>200352</td>\n",
       "      <td>8</td>\n",
       "      <td>42693</td>\n",
       "      <td>달서구 와룡로15길 52 (본리동 430-6)</td>\n",
       "      <td>개별난방</td>\n",
       "      <td>공동주택</td>\n",
       "      <td>아니오</td>\n",
       "      <td>베란다</td>\n",
       "      <td>서비스3센터(주)</td>\n",
       "      <td>NaN</td>\n",
       "    </tr>\n",
       "    <tr>\n",
       "      <th>2005</th>\n",
       "      <td>가람타운</td>\n",
       "      <td>200795</td>\n",
       "      <td>259</td>\n",
       "      <td>41203</td>\n",
       "      <td>동구 신암로16길 17 (신천동 551-31)</td>\n",
       "      <td>개별난방</td>\n",
       "      <td>공동주택</td>\n",
       "      <td>아니오</td>\n",
       "      <td>베란다</td>\n",
       "      <td>제5서비스(주)</td>\n",
       "      <td>NaN</td>\n",
       "    </tr>\n",
       "    <tr>\n",
       "      <th>2321</th>\n",
       "      <td>가람빌라</td>\n",
       "      <td>041218</td>\n",
       "      <td>8</td>\n",
       "      <td>42693</td>\n",
       "      <td>달서구 구마로11길 47 (본리동 430-3)</td>\n",
       "      <td>개별난방</td>\n",
       "      <td>공동주택</td>\n",
       "      <td>아니오</td>\n",
       "      <td>베란다</td>\n",
       "      <td>서비스3센터(주)</td>\n",
       "      <td>NaN</td>\n",
       "    </tr>\n",
       "    <tr>\n",
       "      <th>2541</th>\n",
       "      <td>우방한가람타운</td>\n",
       "      <td>060316</td>\n",
       "      <td>207</td>\n",
       "      <td>42130</td>\n",
       "      <td>수성구 명덕로 368 (수성동1가 272-11)</td>\n",
       "      <td>개별난방</td>\n",
       "      <td>공동주택</td>\n",
       "      <td>아니오</td>\n",
       "      <td>복도</td>\n",
       "      <td>제6서비스(주)</td>\n",
       "      <td>NaN</td>\n",
       "    </tr>\n",
       "    <tr>\n",
       "      <th>2542</th>\n",
       "      <td>우방한가람타운</td>\n",
       "      <td>060316</td>\n",
       "      <td>65</td>\n",
       "      <td>42130</td>\n",
       "      <td>수성구 명덕로 368 (수성동1가 272-11)</td>\n",
       "      <td>개별난방</td>\n",
       "      <td>공동주택</td>\n",
       "      <td>아니오</td>\n",
       "      <td>베란다</td>\n",
       "      <td>제6서비스(주)</td>\n",
       "      <td>NaN</td>\n",
       "    </tr>\n",
       "    <tr>\n",
       "      <th>2714</th>\n",
       "      <td>가람마을</td>\n",
       "      <td>043804</td>\n",
       "      <td>1</td>\n",
       "      <td>42837</td>\n",
       "      <td>달서구 한실로 135 (도원동 1439)</td>\n",
       "      <td>지역난방</td>\n",
       "      <td>업무용</td>\n",
       "      <td>아니오</td>\n",
       "      <td>베란다</td>\n",
       "      <td>서비스2센터(주)월배</td>\n",
       "      <td>NaN</td>\n",
       "    </tr>\n",
       "  </tbody>\n",
       "</table>\n",
       "</div>"
      ],
      "text/plain": [
       "         아파트명   아파트코드  세대수   우편번호                          주소  난방구분    용도  \\\n",
       "292      가람타운  010229  559  41203   동구 신암로16길 16 (신천동 551-23)  개별난방  공동주택   \n",
       "337      가람빌라  010504    8  41153    동구 해동로 135-1 (입석동 938-5)  개별난방  공동주택   \n",
       "451      가람타운  200796  558  41203   동구 신암로16길 33 (신천동 551-35)  개별난방  공동주택   \n",
       "950      가람마을  043804  919  42837      달서구 한실로 135 (도원동 1439)  지역난방  공동주택   \n",
       "1331     가람마을  043804  526  42837      달서구 한실로 135 (도원동 1439)  지역난방  공동주택   \n",
       "1873     가람빌라  200653    6  41153     동구 해동로 135 (입석동 938-11)  개별난방  공동주택   \n",
       "1886     가람빌라  200352    8  42693   달서구 와룡로15길 52 (본리동 430-6)  개별난방  공동주택   \n",
       "2005     가람타운  200795  259  41203   동구 신암로16길 17 (신천동 551-31)  개별난방  공동주택   \n",
       "2321     가람빌라  041218    8  42693   달서구 구마로11길 47 (본리동 430-3)  개별난방  공동주택   \n",
       "2541  우방한가람타운  060316  207  42130  수성구 명덕로 368 (수성동1가 272-11)  개별난방  공동주택   \n",
       "2542  우방한가람타운  060316   65  42130  수성구 명덕로 368 (수성동1가 272-11)  개별난방  공동주택   \n",
       "2714     가람마을  043804    1  42837      달서구 한실로 135 (도원동 1439)  지역난방   업무용   \n",
       "\n",
       "     공동주택계약 설치위치        서비스센터 Unnamed: 10  \n",
       "292     아니오  베란다     제5서비스(주)         NaN  \n",
       "337     아니오  베란다     제5서비스(주)         NaN  \n",
       "451     아니오  베란다     제5서비스(주)         NaN  \n",
       "950     아니오  베란다  서비스2센터(주)월배         NaN  \n",
       "1331    아니오   복도  서비스2센터(주)월배         NaN  \n",
       "1873    아니오  베란다     제5서비스(주)         NaN  \n",
       "1886    아니오  베란다    서비스3센터(주)         NaN  \n",
       "2005    아니오  베란다     제5서비스(주)         NaN  \n",
       "2321    아니오  베란다    서비스3센터(주)         NaN  \n",
       "2541    아니오   복도     제6서비스(주)         NaN  \n",
       "2542    아니오  베란다     제6서비스(주)         NaN  \n",
       "2714    아니오  베란다  서비스2센터(주)월배         NaN  "
      ]
     },
     "execution_count": 238,
     "metadata": {},
     "output_type": "execute_result"
    }
   ],
   "source": [
    "data_int[data_int['아파트명'].str.contains('가람')]"
   ]
  }
 ],
 "metadata": {
  "kernelspec": {
   "display_name": "data-gatherer-venv",
   "language": "python",
   "name": "python3"
  },
  "language_info": {
   "codemirror_mode": {
    "name": "ipython",
    "version": 3
   },
   "file_extension": ".py",
   "mimetype": "text/x-python",
   "name": "python",
   "nbconvert_exporter": "python",
   "pygments_lexer": "ipython3",
   "version": "3.10.8"
  }
 },
 "nbformat": 4,
 "nbformat_minor": 2
}
