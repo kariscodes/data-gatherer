{
 "cells": [
  {
   "attachments": {},
   "cell_type": "markdown",
   "metadata": {},
   "source": [
    "## 한국수출입은행 - 원화 환율(최근까지) 및 DB 저장"
   ]
  },
  {
   "cell_type": "markdown",
   "metadata": {},
   "source": [
    "### 저장된 데이터 마지막 일자의 다음날부터 현재일 기준 직전일까지 데이터를 일괄로 가져와서 저장"
   ]
  },
  {
   "cell_type": "code",
   "execution_count": 2,
   "metadata": {},
   "outputs": [],
   "source": [
    "import requests\n",
    "import pandas as pd\n",
    "import sys\n",
    "module_path = \"D:\\PythonProject\\data-gatherer\\common\"\n",
    "sys.path.append(module_path)\n",
    "import dbconnect\n",
    "import myutil"
   ]
  },
  {
   "cell_type": "code",
   "execution_count": 3,
   "metadata": {},
   "outputs": [],
   "source": [
    "conn = dbconnect.db_connect(\"DEMO_DW\")\n",
    "cur = conn.cursor()\n",
    "\n",
    "query = f'SELECT date FROM fx_eximbank ORDER BY date DESC LIMIT 1'\n",
    "cur.execute(query)\n",
    "\n",
    "row = cur.fetchone()\n",
    "last_date = row[0]     # 저장된 데이터의 마지막 일자\n",
    "\n",
    "conn.close()"
   ]
  },
  {
   "cell_type": "code",
   "execution_count": 4,
   "metadata": {},
   "outputs": [],
   "source": [
    "# 2023년 1월 1일부터 2023년 6월 30일까지 데이터 일괄 저장\n",
    "date_from = myutil.get_next_day(last_date)\n",
    "date_to = myutil.get_previous_day()\n",
    "url = 'https://www.koreaexim.go.kr/site/program/financial/exchangeJSON'\n",
    "api_key = 'OczbdUJk31QuSPZNx3llq7VFOEmsMuew'\n",
    "RESULT_SUCCESS = 1"
   ]
  },
  {
   "cell_type": "code",
   "execution_count": 5,
   "metadata": {},
   "outputs": [],
   "source": [
    "date_range = pd.date_range(start=date_from, end=date_to, freq=\"D\")\n",
    "\n",
    "df_fx_all = pd.DataFrame()\n",
    "for dt in date_range:\n",
    "    date_str = dt.strftime(\"%Y%m%d\")\n",
    "    params = {\n",
    "        'authkey': api_key,\n",
    "        'searchdate': date_str,\n",
    "        'data': 'AP01'             # 환율\n",
    "    }\n",
    "    response = requests.get(url, params=params)\n",
    "    if response.status_code != 200:     # URL GET '200 정상'\n",
    "        print(\"URL GET Error\")\n",
    "        pass\n",
    "    df_fx = pd.json_normalize(response.json())\n",
    "    if not df_fx.empty:\n",
    "        # print(df_fx['result'].unique())\n",
    "        if RESULT_SUCCESS not in df_fx['result'].unique():         # 성공이 아니라면\n",
    "            print(f'{date_str}: Result is not successful')\n",
    "            pass\n",
    "        df_fx.drop('result', axis=1, inplace=True)\n",
    "        df_fx.insert(0, 'date', date_str)\n",
    "        df_fx_all = pd.concat([df_fx_all, df_fx], ignore_index=True)"
   ]
  },
  {
   "cell_type": "code",
   "execution_count": 6,
   "metadata": {},
   "outputs": [
    {
     "data": {
      "text/plain": [
       "(115, 11)"
      ]
     },
     "execution_count": 6,
     "metadata": {},
     "output_type": "execute_result"
    }
   ],
   "source": [
    "df_fx_all.shape"
   ]
  },
  {
   "attachments": {},
   "cell_type": "markdown",
   "metadata": {},
   "source": [
    "#### DB에 저장"
   ]
  },
  {
   "cell_type": "code",
   "execution_count": 7,
   "metadata": {},
   "outputs": [],
   "source": [
    "df_fx_all_save = df_fx_all[['date', 'cur_unit', 'ttb', 'tts', 'deal_bas_r', 'bkpr', 'kftc_bkpr', 'kftc_deal_bas_r']]"
   ]
  },
  {
   "attachments": {},
   "cell_type": "markdown",
   "metadata": {},
   "source": [
    "* 데이터 전처리"
   ]
  },
  {
   "cell_type": "code",
   "execution_count": 8,
   "metadata": {},
   "outputs": [],
   "source": [
    "# 숫자의 소수점(,) 없애기\n",
    "df_fx_all_save.iloc[:,2:8] = df_fx_all_save.iloc[:,2:8].apply(lambda x: x.str.replace(',', ''), axis = 1)\n",
    "# 통화코드에서 세 자리 초과하는 내용은 지우고 통화코드 생성: (예) JPY(100) -> JPY로 변경\n",
    "df_fx_all_save.insert(2, 'cur_code', df_fx_all_save['cur_unit'].str[0:3])\n",
    "df_fx_all_save = df_fx_all_save.drop('cur_unit', axis=1)"
   ]
  },
  {
   "cell_type": "code",
   "execution_count": 9,
   "metadata": {},
   "outputs": [
    {
     "data": {
      "text/html": [
       "<div>\n",
       "<style scoped>\n",
       "    .dataframe tbody tr th:only-of-type {\n",
       "        vertical-align: middle;\n",
       "    }\n",
       "\n",
       "    .dataframe tbody tr th {\n",
       "        vertical-align: top;\n",
       "    }\n",
       "\n",
       "    .dataframe thead th {\n",
       "        text-align: right;\n",
       "    }\n",
       "</style>\n",
       "<table border=\"1\" class=\"dataframe\">\n",
       "  <thead>\n",
       "    <tr style=\"text-align: right;\">\n",
       "      <th></th>\n",
       "      <th>date</th>\n",
       "      <th>cur_code</th>\n",
       "      <th>ttb</th>\n",
       "      <th>tts</th>\n",
       "      <th>deal_bas_r</th>\n",
       "      <th>bkpr</th>\n",
       "      <th>kftc_bkpr</th>\n",
       "      <th>kftc_deal_bas_r</th>\n",
       "    </tr>\n",
       "  </thead>\n",
       "  <tbody>\n",
       "    <tr>\n",
       "      <th>0</th>\n",
       "      <td>20230703</td>\n",
       "      <td>AED</td>\n",
       "      <td>355.62</td>\n",
       "      <td>362.81</td>\n",
       "      <td>359.22</td>\n",
       "      <td>359</td>\n",
       "      <td>359</td>\n",
       "      <td>359.22</td>\n",
       "    </tr>\n",
       "    <tr>\n",
       "      <th>1</th>\n",
       "      <td>20230703</td>\n",
       "      <td>AUD</td>\n",
       "      <td>870.13</td>\n",
       "      <td>887.7</td>\n",
       "      <td>878.92</td>\n",
       "      <td>878</td>\n",
       "      <td>878</td>\n",
       "      <td>878.92</td>\n",
       "    </tr>\n",
       "    <tr>\n",
       "      <th>2</th>\n",
       "      <td>20230703</td>\n",
       "      <td>BHD</td>\n",
       "      <td>3464.83</td>\n",
       "      <td>3534.82</td>\n",
       "      <td>3499.83</td>\n",
       "      <td>3499</td>\n",
       "      <td>3499</td>\n",
       "      <td>3499.83</td>\n",
       "    </tr>\n",
       "    <tr>\n",
       "      <th>3</th>\n",
       "      <td>20230703</td>\n",
       "      <td>BND</td>\n",
       "      <td>965.8</td>\n",
       "      <td>985.31</td>\n",
       "      <td>975.56</td>\n",
       "      <td>975</td>\n",
       "      <td>975</td>\n",
       "      <td>975.56</td>\n",
       "    </tr>\n",
       "    <tr>\n",
       "      <th>4</th>\n",
       "      <td>20230703</td>\n",
       "      <td>CAD</td>\n",
       "      <td>985.85</td>\n",
       "      <td>1005.76</td>\n",
       "      <td>995.81</td>\n",
       "      <td>995</td>\n",
       "      <td>995</td>\n",
       "      <td>995.81</td>\n",
       "    </tr>\n",
       "    <tr>\n",
       "      <th>...</th>\n",
       "      <td>...</td>\n",
       "      <td>...</td>\n",
       "      <td>...</td>\n",
       "      <td>...</td>\n",
       "      <td>...</td>\n",
       "      <td>...</td>\n",
       "      <td>...</td>\n",
       "      <td>...</td>\n",
       "    </tr>\n",
       "    <tr>\n",
       "      <th>110</th>\n",
       "      <td>20230707</td>\n",
       "      <td>SAR</td>\n",
       "      <td>344.06</td>\n",
       "      <td>351.01</td>\n",
       "      <td>347.54</td>\n",
       "      <td>347</td>\n",
       "      <td>347</td>\n",
       "      <td>347.54</td>\n",
       "    </tr>\n",
       "    <tr>\n",
       "      <th>111</th>\n",
       "      <td>20230707</td>\n",
       "      <td>SEK</td>\n",
       "      <td>118.05</td>\n",
       "      <td>120.44</td>\n",
       "      <td>119.25</td>\n",
       "      <td>119</td>\n",
       "      <td>119</td>\n",
       "      <td>119.25</td>\n",
       "    </tr>\n",
       "    <tr>\n",
       "      <th>112</th>\n",
       "      <td>20230707</td>\n",
       "      <td>SGD</td>\n",
       "      <td>954.1</td>\n",
       "      <td>973.37</td>\n",
       "      <td>963.74</td>\n",
       "      <td>963</td>\n",
       "      <td>963</td>\n",
       "      <td>963.74</td>\n",
       "    </tr>\n",
       "    <tr>\n",
       "      <th>113</th>\n",
       "      <td>20230707</td>\n",
       "      <td>THB</td>\n",
       "      <td>36.7</td>\n",
       "      <td>37.45</td>\n",
       "      <td>37.08</td>\n",
       "      <td>37</td>\n",
       "      <td>37</td>\n",
       "      <td>37.08</td>\n",
       "    </tr>\n",
       "    <tr>\n",
       "      <th>114</th>\n",
       "      <td>20230707</td>\n",
       "      <td>USD</td>\n",
       "      <td>1290.76</td>\n",
       "      <td>1316.83</td>\n",
       "      <td>1303.8</td>\n",
       "      <td>1303</td>\n",
       "      <td>1303</td>\n",
       "      <td>1303.8</td>\n",
       "    </tr>\n",
       "  </tbody>\n",
       "</table>\n",
       "<p>115 rows × 8 columns</p>\n",
       "</div>"
      ],
      "text/plain": [
       "         date cur_code      ttb      tts deal_bas_r  bkpr kftc_bkpr  \\\n",
       "0    20230703      AED   355.62   362.81     359.22   359       359   \n",
       "1    20230703      AUD   870.13    887.7     878.92   878       878   \n",
       "2    20230703      BHD  3464.83  3534.82    3499.83  3499      3499   \n",
       "3    20230703      BND    965.8   985.31     975.56   975       975   \n",
       "4    20230703      CAD   985.85  1005.76     995.81   995       995   \n",
       "..        ...      ...      ...      ...        ...   ...       ...   \n",
       "110  20230707      SAR   344.06   351.01     347.54   347       347   \n",
       "111  20230707      SEK   118.05   120.44     119.25   119       119   \n",
       "112  20230707      SGD    954.1   973.37     963.74   963       963   \n",
       "113  20230707      THB     36.7    37.45      37.08    37        37   \n",
       "114  20230707      USD  1290.76  1316.83     1303.8  1303      1303   \n",
       "\n",
       "    kftc_deal_bas_r  \n",
       "0            359.22  \n",
       "1            878.92  \n",
       "2           3499.83  \n",
       "3            975.56  \n",
       "4            995.81  \n",
       "..              ...  \n",
       "110          347.54  \n",
       "111          119.25  \n",
       "112          963.74  \n",
       "113           37.08  \n",
       "114          1303.8  \n",
       "\n",
       "[115 rows x 8 columns]"
      ]
     },
     "execution_count": 9,
     "metadata": {},
     "output_type": "execute_result"
    }
   ],
   "source": [
    "df_fx_all_save"
   ]
  },
  {
   "attachments": {},
   "cell_type": "markdown",
   "metadata": {},
   "source": [
    "* DB 테이블에 저장"
   ]
  },
  {
   "cell_type": "code",
   "execution_count": 10,
   "metadata": {},
   "outputs": [],
   "source": [
    "conn = dbconnect.db_connect(\"DEMO_DW\")\n",
    "cur = conn.cursor()\n",
    "\n",
    "for row in df_fx_all_save.itertuples():\n",
    "    sql = \"insert into fx_eximbank (date, cur_code, ttb, tts, deal_bas_r, bkpr, kftc_bkpr, kftc_deal_bas_r) \\\n",
    "                           values (%s, %s, %s, %s, %s, %s, %s, %s)\"\n",
    "    cur.execute(sql, (row[1], row[2], row[3], row[4], row[5], row[6], row[7], row[8]))\n",
    "conn.commit()\n",
    "conn.close()"
   ]
  }
 ],
 "metadata": {
  "kernelspec": {
   "display_name": "data-gatherer-venv",
   "language": "python",
   "name": "python3"
  },
  "language_info": {
   "codemirror_mode": {
    "name": "ipython",
    "version": 3
   },
   "file_extension": ".py",
   "mimetype": "text/x-python",
   "name": "python",
   "nbconvert_exporter": "python",
   "pygments_lexer": "ipython3",
   "version": "3.10.8"
  },
  "orig_nbformat": 4
 },
 "nbformat": 4,
 "nbformat_minor": 2
}
