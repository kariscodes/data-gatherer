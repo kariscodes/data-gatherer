{
 "cells": [
  {
   "attachments": {},
   "cell_type": "markdown",
   "metadata": {},
   "source": [
    "## 한국수출입은행 - 원화 환율(기간 지정) 및 DB 저장\n",
    "+ 작성: 임경호\n",
    "+ 한국수출입은행 Open API https://www.koreaexim.go.kr/ir/HPHKIR019M01"
   ]
  },
  {
   "cell_type": "code",
   "execution_count": 13,
   "metadata": {},
   "outputs": [],
   "source": [
    "# 2023년 1월 1일부터 2023년 6월 30일까지 데이터 일괄 저장\n",
    "date_from = \"20230601\"    \n",
    "date_to = \"20230630\"\n",
    "url = 'https://www.koreaexim.go.kr/site/program/financial/exchangeJSON'\n",
    "api_key = 'OczbdUJk31QuSPZNx3llq7VFOEmsMuew'\n",
    "RESULT_SUCCESS = 1"
   ]
  },
  {
   "cell_type": "code",
   "execution_count": 14,
   "metadata": {},
   "outputs": [],
   "source": [
    "import requests\n",
    "import pandas as pd\n",
    "\n",
    "date_range = pd.date_range(start=date_from, end=date_to, freq=\"D\")\n",
    "\n",
    "df_fx_all = pd.DataFrame()\n",
    "for dt in date_range:\n",
    "    date_str = dt.strftime(\"%Y%m%d\")\n",
    "    params = {\n",
    "        'authkey': api_key,\n",
    "        'searchdate': date_str,\n",
    "        'data': 'AP01'             # 환율\n",
    "    }\n",
    "    response = requests.get(url, params=params)\n",
    "    if response.status_code != 200:     # URL GET '200 정상'\n",
    "        print(\"URL GET Error\")\n",
    "        pass\n",
    "    df_fx = pd.json_normalize(response.json())\n",
    "    if not df_fx.empty:\n",
    "        # print(df_fx['result'].unique())\n",
    "        if RESULT_SUCCESS not in df_fx['result'].unique():         # 성공이 아니라면\n",
    "            print(f'{date_str}: Result is not successful')\n",
    "            pass\n",
    "        df_fx.drop('result', axis=1, inplace=True)\n",
    "        df_fx.insert(0, 'date', date_str)\n",
    "        df_fx_all = pd.concat([df_fx_all, df_fx], ignore_index=True)"
   ]
  },
  {
   "attachments": {},
   "cell_type": "markdown",
   "metadata": {},
   "source": [
    "+ RESULT  Integer 조회결과\n",
    "  - 1 : 성공, 2 : DATA코드 오류, 3 : 인증코드 오류, 4 : 일일제한횟수 마감\n",
    "+ CUR_UNIT\tString\t통화코드\n",
    "+ CUR_NM\tString\t국가/통화명\n",
    "+ TTB String 전신환(송금) 받으실때\n",
    "+ TTS String 전신환(송금) 보내실때\n",
    "+ DEAL_BAS_R  String 매매 기준율\n",
    "+ BKPR  String\t장부가격\t\n",
    "+ YY_EFEE_R String\t년환가료율\t\n",
    "+ TEN_DD_EFEE_R String\t10일환가료율\t\n",
    "+ KFTC_DEAL_BAS_R String\t서울외국환중개 매매기준율\t\n",
    "+ KFTC_BKPR String\t서울외국환중개 장부가격"
   ]
  },
  {
   "cell_type": "code",
   "execution_count": 15,
   "metadata": {},
   "outputs": [
    {
     "data": {
      "text/plain": [
       "(483, 11)"
      ]
     },
     "execution_count": 15,
     "metadata": {},
     "output_type": "execute_result"
    }
   ],
   "source": [
    "df_fx_all.shape"
   ]
  },
  {
   "cell_type": "code",
   "execution_count": 16,
   "metadata": {},
   "outputs": [],
   "source": [
    "# df_fx_all.groupby('date').agg(cur = ('cur_unit', 'count'))"
   ]
  },
  {
   "cell_type": "code",
   "execution_count": 17,
   "metadata": {},
   "outputs": [],
   "source": [
    "# currency = 'USD'\n",
    "# df_fx_all.query('cur_unit == @currency')"
   ]
  },
  {
   "cell_type": "code",
   "execution_count": 7,
   "metadata": {},
   "outputs": [],
   "source": [
    "df_fx_all.to_excel('korea_eximbank_fx.xlsx')"
   ]
  },
  {
   "attachments": {},
   "cell_type": "markdown",
   "metadata": {},
   "source": [
    "#### DB에 저장"
   ]
  },
  {
   "cell_type": "code",
   "execution_count": 16,
   "metadata": {},
   "outputs": [],
   "source": [
    "df_fx_all_save = df_fx_all[['date', 'cur_unit', 'ttb', 'tts', 'deal_bas_r', 'bkpr', 'kftc_bkpr', 'kftc_deal_bas_r']]"
   ]
  },
  {
   "attachments": {},
   "cell_type": "markdown",
   "metadata": {},
   "source": [
    "* 데이터 전처리"
   ]
  },
  {
   "cell_type": "code",
   "execution_count": 17,
   "metadata": {},
   "outputs": [
    {
     "data": {
      "text/plain": [
       "date               object\n",
       "cur_unit           object\n",
       "ttb                object\n",
       "tts                object\n",
       "deal_bas_r         object\n",
       "bkpr               object\n",
       "kftc_bkpr          object\n",
       "kftc_deal_bas_r    object\n",
       "dtype: object"
      ]
     },
     "execution_count": 17,
     "metadata": {},
     "output_type": "execute_result"
    }
   ],
   "source": [
    "df_fx_all_save.dtypes"
   ]
  },
  {
   "cell_type": "code",
   "execution_count": 18,
   "metadata": {},
   "outputs": [],
   "source": [
    "# 숫자의 소수점(,) 없애기\n",
    "df_fx_all_save.iloc[:,2:8] = df_fx_all_save.iloc[:,2:8].apply(lambda x: x.str.replace(',', ''), axis = 1)\n",
    "# 통화코드에서 세 자리 초과하는 내용은 지우고 통화코드 생성: (예) JPY(100) -> JPY로 변경\n",
    "df_fx_all_save.insert(2, 'cur_code', df_fx_all_save['cur_unit'].str[0:3])\n",
    "df_fx_all_save = df_fx_all_save.drop('cur_unit', axis=1)"
   ]
  },
  {
   "cell_type": "code",
   "execution_count": 19,
   "metadata": {},
   "outputs": [
    {
     "data": {
      "text/html": [
       "<div>\n",
       "<style scoped>\n",
       "    .dataframe tbody tr th:only-of-type {\n",
       "        vertical-align: middle;\n",
       "    }\n",
       "\n",
       "    .dataframe tbody tr th {\n",
       "        vertical-align: top;\n",
       "    }\n",
       "\n",
       "    .dataframe thead th {\n",
       "        text-align: right;\n",
       "    }\n",
       "</style>\n",
       "<table border=\"1\" class=\"dataframe\">\n",
       "  <thead>\n",
       "    <tr style=\"text-align: right;\">\n",
       "      <th></th>\n",
       "      <th>date</th>\n",
       "      <th>cur_code</th>\n",
       "      <th>ttb</th>\n",
       "      <th>tts</th>\n",
       "      <th>deal_bas_r</th>\n",
       "      <th>bkpr</th>\n",
       "      <th>kftc_bkpr</th>\n",
       "      <th>kftc_deal_bas_r</th>\n",
       "    </tr>\n",
       "  </thead>\n",
       "  <tbody>\n",
       "    <tr>\n",
       "      <th>0</th>\n",
       "      <td>20230601</td>\n",
       "      <td>AED</td>\n",
       "      <td>356.22</td>\n",
       "      <td>363.41</td>\n",
       "      <td>359.82</td>\n",
       "      <td>359</td>\n",
       "      <td>359</td>\n",
       "      <td>359.82</td>\n",
       "    </tr>\n",
       "    <tr>\n",
       "      <th>1</th>\n",
       "      <td>20230601</td>\n",
       "      <td>AUD</td>\n",
       "      <td>851.37</td>\n",
       "      <td>868.56</td>\n",
       "      <td>859.97</td>\n",
       "      <td>859</td>\n",
       "      <td>859</td>\n",
       "      <td>859.97</td>\n",
       "    </tr>\n",
       "    <tr>\n",
       "      <th>2</th>\n",
       "      <td>20230601</td>\n",
       "      <td>BHD</td>\n",
       "      <td>3470.23</td>\n",
       "      <td>3540.34</td>\n",
       "      <td>3505.29</td>\n",
       "      <td>3505</td>\n",
       "      <td>3505</td>\n",
       "      <td>3505.29</td>\n",
       "    </tr>\n",
       "    <tr>\n",
       "      <th>3</th>\n",
       "      <td>20230601</td>\n",
       "      <td>BND</td>\n",
       "      <td>968.13</td>\n",
       "      <td>987.68</td>\n",
       "      <td>977.91</td>\n",
       "      <td>977</td>\n",
       "      <td>977</td>\n",
       "      <td>977.91</td>\n",
       "    </tr>\n",
       "    <tr>\n",
       "      <th>4</th>\n",
       "      <td>20230601</td>\n",
       "      <td>CAD</td>\n",
       "      <td>964.31</td>\n",
       "      <td>983.8</td>\n",
       "      <td>974.06</td>\n",
       "      <td>974</td>\n",
       "      <td>974</td>\n",
       "      <td>974.06</td>\n",
       "    </tr>\n",
       "    <tr>\n",
       "      <th>...</th>\n",
       "      <td>...</td>\n",
       "      <td>...</td>\n",
       "      <td>...</td>\n",
       "      <td>...</td>\n",
       "      <td>...</td>\n",
       "      <td>...</td>\n",
       "      <td>...</td>\n",
       "      <td>...</td>\n",
       "    </tr>\n",
       "    <tr>\n",
       "      <th>478</th>\n",
       "      <td>20230630</td>\n",
       "      <td>SAR</td>\n",
       "      <td>346.52</td>\n",
       "      <td>353.53</td>\n",
       "      <td>350.03</td>\n",
       "      <td>350</td>\n",
       "      <td>350</td>\n",
       "      <td>350.03</td>\n",
       "    </tr>\n",
       "    <tr>\n",
       "      <th>479</th>\n",
       "      <td>20230630</td>\n",
       "      <td>SEK</td>\n",
       "      <td>119.61</td>\n",
       "      <td>122.02</td>\n",
       "      <td>120.82</td>\n",
       "      <td>120</td>\n",
       "      <td>120</td>\n",
       "      <td>120.82</td>\n",
       "    </tr>\n",
       "    <tr>\n",
       "      <th>480</th>\n",
       "      <td>20230630</td>\n",
       "      <td>SGD</td>\n",
       "      <td>958.28</td>\n",
       "      <td>977.63</td>\n",
       "      <td>967.96</td>\n",
       "      <td>967</td>\n",
       "      <td>967</td>\n",
       "      <td>967.96</td>\n",
       "    </tr>\n",
       "    <tr>\n",
       "      <th>481</th>\n",
       "      <td>20230630</td>\n",
       "      <td>THB</td>\n",
       "      <td>36.47</td>\n",
       "      <td>37.2</td>\n",
       "      <td>36.84</td>\n",
       "      <td>36</td>\n",
       "      <td>36</td>\n",
       "      <td>36.84</td>\n",
       "    </tr>\n",
       "    <tr>\n",
       "      <th>482</th>\n",
       "      <td>20230630</td>\n",
       "      <td>USD</td>\n",
       "      <td>1299.67</td>\n",
       "      <td>1325.92</td>\n",
       "      <td>1312.8</td>\n",
       "      <td>1312</td>\n",
       "      <td>1312</td>\n",
       "      <td>1312.8</td>\n",
       "    </tr>\n",
       "  </tbody>\n",
       "</table>\n",
       "<p>483 rows × 8 columns</p>\n",
       "</div>"
      ],
      "text/plain": [
       "         date cur_code      ttb      tts deal_bas_r  bkpr kftc_bkpr  \\\n",
       "0    20230601      AED   356.22   363.41     359.82   359       359   \n",
       "1    20230601      AUD   851.37   868.56     859.97   859       859   \n",
       "2    20230601      BHD  3470.23  3540.34    3505.29  3505      3505   \n",
       "3    20230601      BND   968.13   987.68     977.91   977       977   \n",
       "4    20230601      CAD   964.31    983.8     974.06   974       974   \n",
       "..        ...      ...      ...      ...        ...   ...       ...   \n",
       "478  20230630      SAR   346.52   353.53     350.03   350       350   \n",
       "479  20230630      SEK   119.61   122.02     120.82   120       120   \n",
       "480  20230630      SGD   958.28   977.63     967.96   967       967   \n",
       "481  20230630      THB    36.47     37.2      36.84    36        36   \n",
       "482  20230630      USD  1299.67  1325.92     1312.8  1312      1312   \n",
       "\n",
       "    kftc_deal_bas_r  \n",
       "0            359.82  \n",
       "1            859.97  \n",
       "2           3505.29  \n",
       "3            977.91  \n",
       "4            974.06  \n",
       "..              ...  \n",
       "478          350.03  \n",
       "479          120.82  \n",
       "480          967.96  \n",
       "481           36.84  \n",
       "482          1312.8  \n",
       "\n",
       "[483 rows x 8 columns]"
      ]
     },
     "execution_count": 19,
     "metadata": {},
     "output_type": "execute_result"
    }
   ],
   "source": [
    "df_fx_all_save"
   ]
  },
  {
   "attachments": {},
   "cell_type": "markdown",
   "metadata": {},
   "source": [
    "* DB 테이블에 저장"
   ]
  },
  {
   "cell_type": "code",
   "execution_count": 12,
   "metadata": {},
   "outputs": [],
   "source": [
    "import sys\n",
    "module_path = \"D:\\PythonProject\\data-gatherer\\common\"\n",
    "sys.path.append(module_path)\n",
    "import dbconnect\n",
    "\n",
    "conn = dbconnect.db_connect(\"DEMO_DW\")\n",
    "cur = conn.cursor()\n",
    "\n",
    "for row in df_fx_all_save.itertuples():\n",
    "    sql = \"insert into fx_eximbank (date, cur_code, ttb, tts, deal_bas_r, bkpr, kftc_bkpr, kftc_deal_bas_r) \\\n",
    "                           values (%s, %s, %s, %s, %s, %s, %s, %s)\"\n",
    "    cur.execute(sql, (row[1], row[2], row[3], row[4], row[5], row[6], row[7], row[8]))\n",
    "conn.commit()\n",
    "conn.close()"
   ]
  }
 ],
 "metadata": {
  "kernelspec": {
   "display_name": "data-gatherer-venv",
   "language": "python",
   "name": "python3"
  },
  "language_info": {
   "codemirror_mode": {
    "name": "ipython",
    "version": 3
   },
   "file_extension": ".py",
   "mimetype": "text/x-python",
   "name": "python",
   "nbconvert_exporter": "python",
   "pygments_lexer": "ipython3",
   "version": "3.10.8"
  },
  "orig_nbformat": 4
 },
 "nbformat": 4,
 "nbformat_minor": 2
}
