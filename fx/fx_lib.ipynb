{
 "cells": [
  {
   "cell_type": "markdown",
   "metadata": {},
   "source": [
    "## 환율 가져오기 - 파이썬 라이브러리 이용\n",
    "+ 작성: 임경호"
   ]
  },
  {
   "attachments": {},
   "cell_type": "markdown",
   "metadata": {},
   "source": [
    "### forex_python 라이브러리\n",
    "- openexchangerates.org의 API를 이용하여 외환 정보를 수집"
   ]
  },
  {
   "cell_type": "code",
   "execution_count": 6,
   "metadata": {},
   "outputs": [
    {
     "data": {
      "text/plain": [
       "1290.4545454545453"
      ]
     },
     "execution_count": 6,
     "metadata": {},
     "output_type": "execute_result"
    }
   ],
   "source": [
    "from forex_python.converter import CurrencyRates\n",
    "\n",
    "# 현재 시점의 원/달러 환율\n",
    "c = CurrencyRates()\n",
    "fx_usd_krw1 = c.get_rate('USD', 'KRW')\n",
    "fx_usd_krw1"
   ]
  },
  {
   "attachments": {},
   "cell_type": "markdown",
   "metadata": {},
   "source": [
    "### FinanceDataReader 라이브러리"
   ]
  },
  {
   "cell_type": "code",
   "execution_count": 7,
   "metadata": {},
   "outputs": [
    {
     "data": {
      "text/plain": [
       "1303.420044"
      ]
     },
     "execution_count": 7,
     "metadata": {},
     "output_type": "execute_result"
    }
   ],
   "source": [
    "import FinanceDataReader as fdr\n",
    "\n",
    "fx_usd_krw2 = fdr.DataReader('USD/KRW').iloc[-1][0]\n",
    "fx_usd_krw2"
   ]
  },
  {
   "cell_type": "code",
   "execution_count": 9,
   "metadata": {},
   "outputs": [
    {
     "data": {
      "text/html": [
       "<div>\n",
       "<style scoped>\n",
       "    .dataframe tbody tr th:only-of-type {\n",
       "        vertical-align: middle;\n",
       "    }\n",
       "\n",
       "    .dataframe tbody tr th {\n",
       "        vertical-align: top;\n",
       "    }\n",
       "\n",
       "    .dataframe thead th {\n",
       "        text-align: right;\n",
       "    }\n",
       "</style>\n",
       "<table border=\"1\" class=\"dataframe\">\n",
       "  <thead>\n",
       "    <tr style=\"text-align: right;\">\n",
       "      <th></th>\n",
       "      <th>Open</th>\n",
       "      <th>High</th>\n",
       "      <th>Low</th>\n",
       "      <th>Close</th>\n",
       "      <th>Adj Close</th>\n",
       "      <th>Volume</th>\n",
       "    </tr>\n",
       "    <tr>\n",
       "      <th>Date</th>\n",
       "      <th></th>\n",
       "      <th></th>\n",
       "      <th></th>\n",
       "      <th></th>\n",
       "      <th></th>\n",
       "      <th></th>\n",
       "    </tr>\n",
       "  </thead>\n",
       "  <tbody>\n",
       "    <tr>\n",
       "      <th>2022-01-03</th>\n",
       "      <td>1187.130005</td>\n",
       "      <td>1195.339966</td>\n",
       "      <td>1187.000000</td>\n",
       "      <td>1187.780029</td>\n",
       "      <td>1187.780029</td>\n",
       "      <td>0</td>\n",
       "    </tr>\n",
       "    <tr>\n",
       "      <th>2022-01-04</th>\n",
       "      <td>1195.630005</td>\n",
       "      <td>1199.729980</td>\n",
       "      <td>1191.500000</td>\n",
       "      <td>1194.680054</td>\n",
       "      <td>1194.680054</td>\n",
       "      <td>0</td>\n",
       "    </tr>\n",
       "    <tr>\n",
       "      <th>2022-01-05</th>\n",
       "      <td>1196.670044</td>\n",
       "      <td>1199.689941</td>\n",
       "      <td>1193.280029</td>\n",
       "      <td>1196.500000</td>\n",
       "      <td>1196.500000</td>\n",
       "      <td>0</td>\n",
       "    </tr>\n",
       "    <tr>\n",
       "      <th>2022-01-06</th>\n",
       "      <td>1199.250000</td>\n",
       "      <td>1206.260010</td>\n",
       "      <td>1196.589966</td>\n",
       "      <td>1199.250000</td>\n",
       "      <td>1199.250000</td>\n",
       "      <td>0</td>\n",
       "    </tr>\n",
       "    <tr>\n",
       "      <th>2022-01-07</th>\n",
       "      <td>1204.670044</td>\n",
       "      <td>1204.760010</td>\n",
       "      <td>1199.579956</td>\n",
       "      <td>1205.780029</td>\n",
       "      <td>1205.780029</td>\n",
       "      <td>0</td>\n",
       "    </tr>\n",
       "    <tr>\n",
       "      <th>...</th>\n",
       "      <td>...</td>\n",
       "      <td>...</td>\n",
       "      <td>...</td>\n",
       "      <td>...</td>\n",
       "      <td>...</td>\n",
       "      <td>...</td>\n",
       "    </tr>\n",
       "    <tr>\n",
       "      <th>2023-06-21</th>\n",
       "      <td>1287.540039</td>\n",
       "      <td>1295.630005</td>\n",
       "      <td>1286.199951</td>\n",
       "      <td>1287.540039</td>\n",
       "      <td>1287.540039</td>\n",
       "      <td>0</td>\n",
       "    </tr>\n",
       "    <tr>\n",
       "      <th>2023-06-22</th>\n",
       "      <td>1288.380005</td>\n",
       "      <td>1301.170044</td>\n",
       "      <td>1287.719971</td>\n",
       "      <td>1288.380005</td>\n",
       "      <td>1288.380005</td>\n",
       "      <td>0</td>\n",
       "    </tr>\n",
       "    <tr>\n",
       "      <th>2023-06-23</th>\n",
       "      <td>1298.209961</td>\n",
       "      <td>1310.239990</td>\n",
       "      <td>1297.680054</td>\n",
       "      <td>1298.209961</td>\n",
       "      <td>1298.209961</td>\n",
       "      <td>0</td>\n",
       "    </tr>\n",
       "    <tr>\n",
       "      <th>2023-06-26</th>\n",
       "      <td>1307.670044</td>\n",
       "      <td>1308.890015</td>\n",
       "      <td>1300.260010</td>\n",
       "      <td>1307.670044</td>\n",
       "      <td>1307.670044</td>\n",
       "      <td>0</td>\n",
       "    </tr>\n",
       "    <tr>\n",
       "      <th>2023-06-27</th>\n",
       "      <td>1303.420044</td>\n",
       "      <td>1307.489990</td>\n",
       "      <td>1297.109985</td>\n",
       "      <td>1300.030029</td>\n",
       "      <td>1300.030029</td>\n",
       "      <td>0</td>\n",
       "    </tr>\n",
       "  </tbody>\n",
       "</table>\n",
       "<p>387 rows × 6 columns</p>\n",
       "</div>"
      ],
      "text/plain": [
       "                   Open         High          Low        Close    Adj Close  \\\n",
       "Date                                                                          \n",
       "2022-01-03  1187.130005  1195.339966  1187.000000  1187.780029  1187.780029   \n",
       "2022-01-04  1195.630005  1199.729980  1191.500000  1194.680054  1194.680054   \n",
       "2022-01-05  1196.670044  1199.689941  1193.280029  1196.500000  1196.500000   \n",
       "2022-01-06  1199.250000  1206.260010  1196.589966  1199.250000  1199.250000   \n",
       "2022-01-07  1204.670044  1204.760010  1199.579956  1205.780029  1205.780029   \n",
       "...                 ...          ...          ...          ...          ...   \n",
       "2023-06-21  1287.540039  1295.630005  1286.199951  1287.540039  1287.540039   \n",
       "2023-06-22  1288.380005  1301.170044  1287.719971  1288.380005  1288.380005   \n",
       "2023-06-23  1298.209961  1310.239990  1297.680054  1298.209961  1298.209961   \n",
       "2023-06-26  1307.670044  1308.890015  1300.260010  1307.670044  1307.670044   \n",
       "2023-06-27  1303.420044  1307.489990  1297.109985  1300.030029  1300.030029   \n",
       "\n",
       "            Volume  \n",
       "Date                \n",
       "2022-01-03       0  \n",
       "2022-01-04       0  \n",
       "2022-01-05       0  \n",
       "2022-01-06       0  \n",
       "2022-01-07       0  \n",
       "...            ...  \n",
       "2023-06-21       0  \n",
       "2023-06-22       0  \n",
       "2023-06-23       0  \n",
       "2023-06-26       0  \n",
       "2023-06-27       0  \n",
       "\n",
       "[387 rows x 6 columns]"
      ]
     },
     "execution_count": 9,
     "metadata": {},
     "output_type": "execute_result"
    }
   ],
   "source": [
    "df_fx_usd_krw = fdr.DataReader('USD/KRW', '2022')\n",
    "df_fx_usd_krw"
   ]
  },
  {
   "attachments": {},
   "cell_type": "markdown",
   "metadata": {},
   "source": [
    "### pandas_datareader 라이브러리"
   ]
  },
  {
   "cell_type": "code",
   "execution_count": 8,
   "metadata": {},
   "outputs": [
    {
     "name": "stdout",
     "output_type": "stream",
     "text": [
      "현재 원/달러 환율: 1304.19\n"
     ]
    }
   ],
   "source": [
    "import pandas_datareader as pdr\n",
    "\n",
    "# 현재 시점의 원/달러 환율\n",
    "df = pdr.get_data_fred(\"DEXKOUS\")\n",
    "fx_rate = df[\"DEXKOUS\"][-1]\n",
    "\n",
    "print(\"현재 원/달러 환율:\", fx_rate)"
   ]
  }
 ],
 "metadata": {
  "kernelspec": {
   "display_name": "data-gatherer-venv",
   "language": "python",
   "name": "python3"
  },
  "language_info": {
   "codemirror_mode": {
    "name": "ipython",
    "version": 3
   },
   "file_extension": ".py",
   "mimetype": "text/x-python",
   "name": "python",
   "nbconvert_exporter": "python",
   "pygments_lexer": "ipython3",
   "version": "3.10.8"
  },
  "orig_nbformat": 4
 },
 "nbformat": 4,
 "nbformat_minor": 2
}
