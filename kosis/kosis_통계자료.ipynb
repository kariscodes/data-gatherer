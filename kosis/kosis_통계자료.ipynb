{
 "cells": [
  {
   "cell_type": "markdown",
   "metadata": {},
   "source": [
    "## KOSIS 국가통계포털 \"통계자료\"\n",
    "- KOSIS 국가통계표털: https://kosis.kr/index/index.do\n",
    "- KOSIS 공유서비스 Open API: https://kosis.kr/openapi/index.jsp"
   ]
  },
  {
   "cell_type": "code",
   "execution_count": 63,
   "metadata": {},
   "outputs": [],
   "source": [
    "import requests\n",
    "\n",
    "key = \"YTg2NjFjM2FkOGFjZWQ5ODBmMDY1M2IwZTZiNjRlNzg=\"\n",
    "url = \"https://kosis.kr/openapi/Param/statisticsParameterData.do?method=getList\"   # 요청 URL\n",
    "\n",
    "def req_data(org_id, tbl_id, obj, prd, start_prd, end_prd):\n",
    "    params ={'apiKey' : key,    # 발급된 인증 key\n",
    "            \"orgId\" : org_id,   # 기관 ID\n",
    "            \"tblId\" : tbl_id,   # 통계표 ID\n",
    "            \"objL1\" : obj[0],      # 분류1\n",
    "            \"objL2\" : obj[1],      # 분류2\n",
    "            \"objL3\" : obj[2],      # 분류3\n",
    "            \"objL4\" : obj[3],      # 분류4\n",
    "            \"objL5\" : obj[4],      # 분류5\n",
    "            \"objL6\" : obj[5],      # 분류6\n",
    "            \"objL7\" : obj[6],      # 분류7\n",
    "            \"objL8\" : obj[7],      # 분류8\n",
    "            # \"itmId\" : \"T+\",    # 항목\n",
    "            \"itmId\" : \"all\",    # 항목\n",
    "            \"prdSe\" : prd,      # 수록주기\n",
    "            \"startPrdDe\" : start_prd,\n",
    "            \"endPrdDe\" : end_prd,\n",
    "            # \"newEstPrdCnt\" : \"3\",   # 최근 n개월 지정\n",
    "            \"jsonVD\" : \"Y\",            # 결과 유형이 \"json\"인 경우 필수        \n",
    "            'format' : \"json\"   # 결과 유형\n",
    "            }\n",
    "\n",
    "    response = requests.get(url, params=params, verify=False)\n",
    "\n",
    "    if response.status_code == 200:     # URL GET '200 정상'\n",
    "        if response.text.__contains__(\"err\"):\n",
    "            print(\"No Data\", response.text)\n",
    "            return None\n",
    "    else:\n",
    "        return None\n",
    "        \n",
    "    return response.text"
   ]
  },
  {
   "cell_type": "markdown",
   "metadata": {},
   "source": [
    "### 소비자물가지수"
   ]
  },
  {
   "cell_type": "code",
   "execution_count": 64,
   "metadata": {},
   "outputs": [],
   "source": [
    "import sys\n",
    "import json\n",
    "import pandas as pd\n",
    "\n",
    "org_id = \"101\"              # 기관 ID\n",
    "tbl_id = \"INH_1J22003\"      # 통계표 ID\n",
    "prd = \"M\"   # 수록주기: 월간\n",
    "start_prd = \"202403\"\n",
    "end_prd = \"202403\"\n",
    "obj = [\"ALL\", None, None, None, None, None, None, None]    # 8개\n",
    "\n",
    "contents = req_data(org_id, tbl_id, obj, prd, start_prd, end_prd)\n",
    "\n",
    "if contents is None:\n",
    "    print(\"No Data. Program Exit\")\n",
    "    sys.exit()\n",
    "\n",
    "json_data = json.loads(contents)\n",
    "df = pd.DataFrame(json_data)"
   ]
  },
  {
   "cell_type": "markdown",
   "metadata": {},
   "source": [
    "* 소비자물가지수 - 대구광역시"
   ]
  },
  {
   "cell_type": "code",
   "execution_count": 65,
   "metadata": {},
   "outputs": [
    {
     "data": {
      "text/html": [
       "<div>\n",
       "<style scoped>\n",
       "    .dataframe tbody tr th:only-of-type {\n",
       "        vertical-align: middle;\n",
       "    }\n",
       "\n",
       "    .dataframe tbody tr th {\n",
       "        vertical-align: top;\n",
       "    }\n",
       "\n",
       "    .dataframe thead th {\n",
       "        text-align: right;\n",
       "    }\n",
       "</style>\n",
       "<table border=\"1\" class=\"dataframe\">\n",
       "  <thead>\n",
       "    <tr style=\"text-align: right;\">\n",
       "      <th></th>\n",
       "      <th>TBL_NM</th>\n",
       "      <th>PRD_DE</th>\n",
       "      <th>TBL_ID</th>\n",
       "      <th>ITM_NM</th>\n",
       "      <th>ITM_NM_ENG</th>\n",
       "      <th>ITM_ID</th>\n",
       "      <th>UNIT_NM</th>\n",
       "      <th>ORG_ID</th>\n",
       "      <th>UNIT_NM_ENG</th>\n",
       "      <th>C1_OBJ_NM</th>\n",
       "      <th>C1_OBJ_NM_ENG</th>\n",
       "      <th>DT</th>\n",
       "      <th>PRD_SE</th>\n",
       "      <th>C1</th>\n",
       "      <th>C1_NM</th>\n",
       "      <th>C1_NM_ENG</th>\n",
       "      <th>LST_CHN_DE</th>\n",
       "    </tr>\n",
       "  </thead>\n",
       "  <tbody>\n",
       "    <tr>\n",
       "      <th>3</th>\n",
       "      <td>소비자물가지수(시도)</td>\n",
       "      <td>202403</td>\n",
       "      <td>INH_1J22003</td>\n",
       "      <td>소비자물가지수(총지수)</td>\n",
       "      <td>CPI</td>\n",
       "      <td>T</td>\n",
       "      <td>2020＝100</td>\n",
       "      <td>101</td>\n",
       "      <td>2020＝100</td>\n",
       "      <td>시도별</td>\n",
       "      <td>by City</td>\n",
       "      <td>114.07</td>\n",
       "      <td>M</td>\n",
       "      <td>T13</td>\n",
       "      <td>대구광역시</td>\n",
       "      <td>Daegu</td>\n",
       "      <td>2024-03-29</td>\n",
       "    </tr>\n",
       "  </tbody>\n",
       "</table>\n",
       "</div>"
      ],
      "text/plain": [
       "        TBL_NM  PRD_DE       TBL_ID        ITM_NM ITM_NM_ENG ITM_ID   UNIT_NM  \\\n",
       "3  소비자물가지수(시도)  202403  INH_1J22003  소비자물가지수(총지수)        CPI      T  2020＝100   \n",
       "\n",
       "  ORG_ID UNIT_NM_ENG C1_OBJ_NM C1_OBJ_NM_ENG      DT PRD_SE   C1  C1_NM  \\\n",
       "3    101    2020＝100       시도별       by City  114.07      M  T13  대구광역시   \n",
       "\n",
       "  C1_NM_ENG  LST_CHN_DE  \n",
       "3     Daegu  2024-03-29  "
      ]
     },
     "execution_count": 65,
     "metadata": {},
     "output_type": "execute_result"
    }
   ],
   "source": [
    "region = \"T13\"  # 대구광역시\n",
    "df[df['C1'] == region]"
   ]
  },
  {
   "cell_type": "markdown",
   "metadata": {},
   "source": [
    "### 생활물가지수"
   ]
  },
  {
   "cell_type": "code",
   "execution_count": 66,
   "metadata": {},
   "outputs": [],
   "source": [
    "import sys\n",
    "import json\n",
    "import pandas as pd\n",
    "\n",
    "org_id = \"101\"              # 기관 ID\n",
    "tbl_id = \"DT_1J22005\"      # 통계표 ID\n",
    "prd = \"M\"   # 수록주기: 월간\n",
    "start_prd = \"202403\"\n",
    "end_prd = \"202403\"\n",
    "obj = [\"T10+\", \"ALL\", None, None, None, None, None, None]    # 8개\n",
    "\n",
    "contents = req_data(org_id, tbl_id, obj, prd, start_prd, end_prd)\n",
    "\n",
    "if contents is None:\n",
    "    print(\"No Data. Program Exit\")\n",
    "    sys.exit()\n",
    "\n",
    "json_data = json.loads(contents)\n",
    "df = pd.DataFrame(json_data)"
   ]
  },
  {
   "cell_type": "markdown",
   "metadata": {},
   "source": [
    "* 생활물가지수 - 전국 (지방 단위는 제공 X)"
   ]
  },
  {
   "cell_type": "code",
   "execution_count": 67,
   "metadata": {},
   "outputs": [
    {
     "data": {
      "text/html": [
       "<div>\n",
       "<style scoped>\n",
       "    .dataframe tbody tr th:only-of-type {\n",
       "        vertical-align: middle;\n",
       "    }\n",
       "\n",
       "    .dataframe tbody tr th {\n",
       "        vertical-align: top;\n",
       "    }\n",
       "\n",
       "    .dataframe thead th {\n",
       "        text-align: right;\n",
       "    }\n",
       "</style>\n",
       "<table border=\"1\" class=\"dataframe\">\n",
       "  <thead>\n",
       "    <tr style=\"text-align: right;\">\n",
       "      <th></th>\n",
       "      <th>TBL_NM</th>\n",
       "      <th>PRD_DE</th>\n",
       "      <th>TBL_ID</th>\n",
       "      <th>ITM_NM</th>\n",
       "      <th>ITM_NM_ENG</th>\n",
       "      <th>ITM_ID</th>\n",
       "      <th>UNIT_NM</th>\n",
       "      <th>ORG_ID</th>\n",
       "      <th>UNIT_NM_ENG</th>\n",
       "      <th>C1_OBJ_NM</th>\n",
       "      <th>...</th>\n",
       "      <th>C2_OBJ_NM_ENG</th>\n",
       "      <th>DT</th>\n",
       "      <th>PRD_SE</th>\n",
       "      <th>C2</th>\n",
       "      <th>C1</th>\n",
       "      <th>C1_NM</th>\n",
       "      <th>C2_NM</th>\n",
       "      <th>C1_NM_ENG</th>\n",
       "      <th>C2_NM_ENG</th>\n",
       "      <th>LST_CHN_DE</th>\n",
       "    </tr>\n",
       "  </thead>\n",
       "  <tbody>\n",
       "    <tr>\n",
       "      <th>1</th>\n",
       "      <td>생활물가지수(2020＝100)</td>\n",
       "      <td>202403</td>\n",
       "      <td>DT_1J22005</td>\n",
       "      <td>생활물가지수</td>\n",
       "      <td>CPI for Living Necessaries(2020＝100)</td>\n",
       "      <td>T</td>\n",
       "      <td>2020＝100</td>\n",
       "      <td>101</td>\n",
       "      <td>2020＝100</td>\n",
       "      <td>시도별</td>\n",
       "      <td>...</td>\n",
       "      <td>for Living Necessaries</td>\n",
       "      <td>116.59</td>\n",
       "      <td>M</td>\n",
       "      <td>110</td>\n",
       "      <td>T10</td>\n",
       "      <td>전국</td>\n",
       "      <td>생활물가지수</td>\n",
       "      <td>All cities</td>\n",
       "      <td>For living necessaries</td>\n",
       "      <td>2024-03-29</td>\n",
       "    </tr>\n",
       "  </tbody>\n",
       "</table>\n",
       "<p>1 rows × 22 columns</p>\n",
       "</div>"
      ],
      "text/plain": [
       "             TBL_NM  PRD_DE      TBL_ID  ITM_NM  \\\n",
       "1  생활물가지수(2020＝100)  202403  DT_1J22005  생활물가지수   \n",
       "\n",
       "                             ITM_NM_ENG ITM_ID   UNIT_NM ORG_ID UNIT_NM_ENG  \\\n",
       "1  CPI for Living Necessaries(2020＝100)      T  2020＝100    101    2020＝100   \n",
       "\n",
       "  C1_OBJ_NM  ...           C2_OBJ_NM_ENG      DT PRD_SE   C2   C1 C1_NM  \\\n",
       "1       시도별  ...  for Living Necessaries  116.59      M  110  T10    전국   \n",
       "\n",
       "    C2_NM   C1_NM_ENG               C2_NM_ENG  LST_CHN_DE  \n",
       "1  생활물가지수  All cities  For living necessaries  2024-03-29  \n",
       "\n",
       "[1 rows x 22 columns]"
      ]
     },
     "execution_count": 67,
     "metadata": {},
     "output_type": "execute_result"
    }
   ],
   "source": [
    "region = \"T10\"  # 전국\n",
    "c2 = \"110\"  # 생활물가지수\n",
    "df[(df['C1'] == region) & (df['C2'] == c2)]"
   ]
  }
 ],
 "metadata": {
  "kernelspec": {
   "display_name": "data-gatherer-venv",
   "language": "python",
   "name": "python3"
  },
  "language_info": {
   "codemirror_mode": {
    "name": "ipython",
    "version": 3
   },
   "file_extension": ".py",
   "mimetype": "text/x-python",
   "name": "python",
   "nbconvert_exporter": "python",
   "pygments_lexer": "ipython3",
   "version": "3.10.8"
  }
 },
 "nbformat": 4,
 "nbformat_minor": 2
}
