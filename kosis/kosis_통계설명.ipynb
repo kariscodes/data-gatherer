{
 "cells": [
  {
   "cell_type": "code",
   "execution_count": 1,
   "metadata": {},
   "outputs": [],
   "source": [
    "key = \"YTg2NjFjM2FkOGFjZWQ5ODBmMDY1M2IwZTZiNjRlNzg=\"\n",
    "url = \"https://kosis.kr/openapi/statisticsExplData.do?method=getList\"   # 요청 URL"
   ]
  },
  {
   "cell_type": "code",
   "execution_count": 2,
   "metadata": {},
   "outputs": [],
   "source": [
    "stat_id = \"1964001\"      # 통계조사ID"
   ]
  },
  {
   "cell_type": "code",
   "execution_count": 3,
   "metadata": {},
   "outputs": [
    {
     "name": "stdout",
     "output_type": "stream",
     "text": [
      "URL GET Successful\n",
      "No Data {\"err\":\"30\",\"errMsg\":\"데이터가 존재하지 않습니다.\"}\n"
     ]
    }
   ],
   "source": [
    "import requests\n",
    "import warnings\n",
    "warnings.filterwarnings('ignore')\n",
    "\n",
    "params ={'apiKey' : key,                # 발급된 인증 key\n",
    "        'statId' : stat_id,     # 통계조사ID \n",
    "        'metaItm' : \"all\",      # 요청 항목: 전체\n",
    "        \"jsonVD\" : \"Y\",            # 결과 유형이 \"json\"인 경우 필수        \n",
    "        'format' : \"json\"               # 결과 유형\n",
    "        }\n",
    "\n",
    "response = requests.get(url, params=params, verify=False)\n",
    "\n",
    "if response.status_code == 200:     # URL GET '200 정상'\n",
    "    print(\"URL GET Successful\")\n",
    "    \n",
    "if response.text.__contains__(\"err\"):\n",
    "    print(\"No Data\", response.text)"
   ]
  },
  {
   "cell_type": "code",
   "execution_count": 22,
   "metadata": {},
   "outputs": [
    {
     "ename": "JSONDecodeError",
     "evalue": "Expecting property name enclosed in double quotes: line 1 column 2 (char 1)",
     "output_type": "error",
     "traceback": [
      "\u001b[1;31m---------------------------------------------------------------------------\u001b[0m",
      "\u001b[1;31mJSONDecodeError\u001b[0m                           Traceback (most recent call last)",
      "Cell \u001b[1;32mIn[22], line 5\u001b[0m\n\u001b[0;32m      2\u001b[0m \u001b[38;5;28;01mimport\u001b[39;00m \u001b[38;5;21;01mpandas\u001b[39;00m \u001b[38;5;28;01mas\u001b[39;00m \u001b[38;5;21;01mpd\u001b[39;00m\n\u001b[0;32m      4\u001b[0m contents \u001b[38;5;241m=\u001b[39m response\u001b[38;5;241m.\u001b[39mtext    \n\u001b[1;32m----> 5\u001b[0m json_data \u001b[38;5;241m=\u001b[39m \u001b[43mjson\u001b[49m\u001b[38;5;241;43m.\u001b[39;49m\u001b[43mloads\u001b[49m\u001b[43m(\u001b[49m\u001b[43mcontents\u001b[49m\u001b[43m)\u001b[49m\n\u001b[0;32m      6\u001b[0m df \u001b[38;5;241m=\u001b[39m pd\u001b[38;5;241m.\u001b[39mDataFrame(json_data)\n",
      "File \u001b[1;32mC:\\Python310\\lib\\json\\__init__.py:346\u001b[0m, in \u001b[0;36mloads\u001b[1;34m(s, cls, object_hook, parse_float, parse_int, parse_constant, object_pairs_hook, **kw)\u001b[0m\n\u001b[0;32m    341\u001b[0m     s \u001b[38;5;241m=\u001b[39m s\u001b[38;5;241m.\u001b[39mdecode(detect_encoding(s), \u001b[38;5;124m'\u001b[39m\u001b[38;5;124msurrogatepass\u001b[39m\u001b[38;5;124m'\u001b[39m)\n\u001b[0;32m    343\u001b[0m \u001b[38;5;28;01mif\u001b[39;00m (\u001b[38;5;28mcls\u001b[39m \u001b[38;5;129;01mis\u001b[39;00m \u001b[38;5;28;01mNone\u001b[39;00m \u001b[38;5;129;01mand\u001b[39;00m object_hook \u001b[38;5;129;01mis\u001b[39;00m \u001b[38;5;28;01mNone\u001b[39;00m \u001b[38;5;129;01mand\u001b[39;00m\n\u001b[0;32m    344\u001b[0m         parse_int \u001b[38;5;129;01mis\u001b[39;00m \u001b[38;5;28;01mNone\u001b[39;00m \u001b[38;5;129;01mand\u001b[39;00m parse_float \u001b[38;5;129;01mis\u001b[39;00m \u001b[38;5;28;01mNone\u001b[39;00m \u001b[38;5;129;01mand\u001b[39;00m\n\u001b[0;32m    345\u001b[0m         parse_constant \u001b[38;5;129;01mis\u001b[39;00m \u001b[38;5;28;01mNone\u001b[39;00m \u001b[38;5;129;01mand\u001b[39;00m object_pairs_hook \u001b[38;5;129;01mis\u001b[39;00m \u001b[38;5;28;01mNone\u001b[39;00m \u001b[38;5;129;01mand\u001b[39;00m \u001b[38;5;129;01mnot\u001b[39;00m kw):\n\u001b[1;32m--> 346\u001b[0m     \u001b[38;5;28;01mreturn\u001b[39;00m \u001b[43m_default_decoder\u001b[49m\u001b[38;5;241;43m.\u001b[39;49m\u001b[43mdecode\u001b[49m\u001b[43m(\u001b[49m\u001b[43ms\u001b[49m\u001b[43m)\u001b[49m\n\u001b[0;32m    347\u001b[0m \u001b[38;5;28;01mif\u001b[39;00m \u001b[38;5;28mcls\u001b[39m \u001b[38;5;129;01mis\u001b[39;00m \u001b[38;5;28;01mNone\u001b[39;00m:\n\u001b[0;32m    348\u001b[0m     \u001b[38;5;28mcls\u001b[39m \u001b[38;5;241m=\u001b[39m JSONDecoder\n",
      "File \u001b[1;32mC:\\Python310\\lib\\json\\decoder.py:337\u001b[0m, in \u001b[0;36mJSONDecoder.decode\u001b[1;34m(self, s, _w)\u001b[0m\n\u001b[0;32m    332\u001b[0m \u001b[38;5;28;01mdef\u001b[39;00m \u001b[38;5;21mdecode\u001b[39m(\u001b[38;5;28mself\u001b[39m, s, _w\u001b[38;5;241m=\u001b[39mWHITESPACE\u001b[38;5;241m.\u001b[39mmatch):\n\u001b[0;32m    333\u001b[0m \u001b[38;5;250m    \u001b[39m\u001b[38;5;124;03m\"\"\"Return the Python representation of ``s`` (a ``str`` instance\u001b[39;00m\n\u001b[0;32m    334\u001b[0m \u001b[38;5;124;03m    containing a JSON document).\u001b[39;00m\n\u001b[0;32m    335\u001b[0m \n\u001b[0;32m    336\u001b[0m \u001b[38;5;124;03m    \"\"\"\u001b[39;00m\n\u001b[1;32m--> 337\u001b[0m     obj, end \u001b[38;5;241m=\u001b[39m \u001b[38;5;28;43mself\u001b[39;49m\u001b[38;5;241;43m.\u001b[39;49m\u001b[43mraw_decode\u001b[49m\u001b[43m(\u001b[49m\u001b[43ms\u001b[49m\u001b[43m,\u001b[49m\u001b[43m \u001b[49m\u001b[43midx\u001b[49m\u001b[38;5;241;43m=\u001b[39;49m\u001b[43m_w\u001b[49m\u001b[43m(\u001b[49m\u001b[43ms\u001b[49m\u001b[43m,\u001b[49m\u001b[43m \u001b[49m\u001b[38;5;241;43m0\u001b[39;49m\u001b[43m)\u001b[49m\u001b[38;5;241;43m.\u001b[39;49m\u001b[43mend\u001b[49m\u001b[43m(\u001b[49m\u001b[43m)\u001b[49m\u001b[43m)\u001b[49m\n\u001b[0;32m    338\u001b[0m     end \u001b[38;5;241m=\u001b[39m _w(s, end)\u001b[38;5;241m.\u001b[39mend()\n\u001b[0;32m    339\u001b[0m     \u001b[38;5;28;01mif\u001b[39;00m end \u001b[38;5;241m!=\u001b[39m \u001b[38;5;28mlen\u001b[39m(s):\n",
      "File \u001b[1;32mC:\\Python310\\lib\\json\\decoder.py:353\u001b[0m, in \u001b[0;36mJSONDecoder.raw_decode\u001b[1;34m(self, s, idx)\u001b[0m\n\u001b[0;32m    344\u001b[0m \u001b[38;5;250m\u001b[39m\u001b[38;5;124;03m\"\"\"Decode a JSON document from ``s`` (a ``str`` beginning with\u001b[39;00m\n\u001b[0;32m    345\u001b[0m \u001b[38;5;124;03ma JSON document) and return a 2-tuple of the Python\u001b[39;00m\n\u001b[0;32m    346\u001b[0m \u001b[38;5;124;03mrepresentation and the index in ``s`` where the document ended.\u001b[39;00m\n\u001b[1;32m   (...)\u001b[0m\n\u001b[0;32m    350\u001b[0m \n\u001b[0;32m    351\u001b[0m \u001b[38;5;124;03m\"\"\"\u001b[39;00m\n\u001b[0;32m    352\u001b[0m \u001b[38;5;28;01mtry\u001b[39;00m:\n\u001b[1;32m--> 353\u001b[0m     obj, end \u001b[38;5;241m=\u001b[39m \u001b[38;5;28;43mself\u001b[39;49m\u001b[38;5;241;43m.\u001b[39;49m\u001b[43mscan_once\u001b[49m\u001b[43m(\u001b[49m\u001b[43ms\u001b[49m\u001b[43m,\u001b[49m\u001b[43m \u001b[49m\u001b[43midx\u001b[49m\u001b[43m)\u001b[49m\n\u001b[0;32m    354\u001b[0m \u001b[38;5;28;01mexcept\u001b[39;00m \u001b[38;5;167;01mStopIteration\u001b[39;00m \u001b[38;5;28;01mas\u001b[39;00m err:\n\u001b[0;32m    355\u001b[0m     \u001b[38;5;28;01mraise\u001b[39;00m JSONDecodeError(\u001b[38;5;124m\"\u001b[39m\u001b[38;5;124mExpecting value\u001b[39m\u001b[38;5;124m\"\u001b[39m, s, err\u001b[38;5;241m.\u001b[39mvalue) \u001b[38;5;28;01mfrom\u001b[39;00m \u001b[38;5;28;01mNone\u001b[39;00m\n",
      "\u001b[1;31mJSONDecodeError\u001b[0m: Expecting property name enclosed in double quotes: line 1 column 2 (char 1)"
     ]
    }
   ],
   "source": [
    "import json\n",
    "import pandas as pd\n",
    "\n",
    "contents = response.text    \n",
    "json_data = json.loads(contents)\n",
    "df = pd.DataFrame(json_data)"
   ]
  },
  {
   "cell_type": "code",
   "execution_count": 70,
   "metadata": {},
   "outputs": [
    {
     "data": {
      "text/plain": [
       "(245, 18)"
      ]
     },
     "execution_count": 70,
     "metadata": {},
     "output_type": "execute_result"
    }
   ],
   "source": [
    "df.shape"
   ]
  },
  {
   "cell_type": "code",
   "execution_count": 73,
   "metadata": {},
   "outputs": [
    {
     "data": {
      "text/html": [
       "<div>\n",
       "<style scoped>\n",
       "    .dataframe tbody tr th:only-of-type {\n",
       "        vertical-align: middle;\n",
       "    }\n",
       "\n",
       "    .dataframe tbody tr th {\n",
       "        vertical-align: top;\n",
       "    }\n",
       "\n",
       "    .dataframe thead th {\n",
       "        text-align: right;\n",
       "    }\n",
       "</style>\n",
       "<table border=\"1\" class=\"dataframe\">\n",
       "  <thead>\n",
       "    <tr style=\"text-align: right;\">\n",
       "      <th></th>\n",
       "      <th>ORG_ID</th>\n",
       "      <th>ORG_NM</th>\n",
       "      <th>TBL_ID</th>\n",
       "      <th>TBL_NM</th>\n",
       "      <th>STAT_ID</th>\n",
       "      <th>STAT_NM</th>\n",
       "      <th>VW_CD</th>\n",
       "      <th>MT_ATITLE</th>\n",
       "      <th>FULL_PATH_ID</th>\n",
       "      <th>CONTENTS</th>\n",
       "      <th>STRT_PRD_DE</th>\n",
       "      <th>END_PRD_DE</th>\n",
       "      <th>ITEM03</th>\n",
       "      <th>REC_TBL_SE</th>\n",
       "      <th>TBL_VIEW_URL</th>\n",
       "      <th>LINK_URL</th>\n",
       "      <th>STAT_DB_CNT</th>\n",
       "      <th>QUERY</th>\n",
       "    </tr>\n",
       "  </thead>\n",
       "  <tbody>\n",
       "    <tr>\n",
       "      <th>0</th>\n",
       "      <td>101</td>\n",
       "      <td>통계청</td>\n",
       "      <td>DT_1J22003</td>\n",
       "      <td>소비자물가지수(2020=100)</td>\n",
       "      <td>1964001</td>\n",
       "      <td>소비자물가조사</td>\n",
       "      <td>MT_ZTITLE</td>\n",
       "      <td>물가 &gt; 소비자물가조사</td>\n",
       "      <td>P2 &gt; P2_6</td>\n",
       "      <td>시도별 소비자물가지수(총지수) 전국 서울특별시 부산광역시 대구광역시 인천광역시 광주...</td>\n",
       "      <td>1965</td>\n",
       "      <td>2024</td>\n",
       "      <td>- 2019년 이전 지수는 소수점 이하 3자리, 2020년 이후 지수는 소수점 이하...</td>\n",
       "      <td>N</td>\n",
       "      <td>https://kosis.kr/statisticsList/statisticsList...</td>\n",
       "      <td>http://kosis.kr/statHtml/statHtml.do?orgId=101...</td>\n",
       "      <td>245</td>\n",
       "      <td>소비자물가지수</td>\n",
       "    </tr>\n",
       "    <tr>\n",
       "      <th>1</th>\n",
       "      <td>101</td>\n",
       "      <td>통계청</td>\n",
       "      <td>DT_1J22001</td>\n",
       "      <td>지출목적별 소비자물가지수(품목포함, 2020=100)</td>\n",
       "      <td>1964001</td>\n",
       "      <td>소비자물가조사</td>\n",
       "      <td>MT_ZTITLE</td>\n",
       "      <td>물가 &gt; 소비자물가조사</td>\n",
       "      <td>P2 &gt; P2_6</td>\n",
       "      <td>시도별 지출목적별 소비자물가지수 전국 서울특별시 부산광역시 대구광역시 인천광역시 광...</td>\n",
       "      <td>1965</td>\n",
       "      <td>2024</td>\n",
       "      <td>- 현재 소비자물가지수의 기준연도는 2020년, 가중치의 기준연도는 2022년입니다...</td>\n",
       "      <td>N</td>\n",
       "      <td>https://kosis.kr/statisticsList/statisticsList...</td>\n",
       "      <td>http://kosis.kr/statHtml/statHtml.do?orgId=101...</td>\n",
       "      <td>245</td>\n",
       "      <td>소비자물가지수</td>\n",
       "    </tr>\n",
       "  </tbody>\n",
       "</table>\n",
       "</div>"
      ],
      "text/plain": [
       "  ORG_ID ORG_NM  ... STAT_DB_CNT    QUERY\n",
       "0    101    통계청  ...         245  소비자물가지수\n",
       "1    101    통계청  ...         245  소비자물가지수\n",
       "\n",
       "[2 rows x 18 columns]"
      ]
     },
     "execution_count": 73,
     "metadata": {},
     "output_type": "execute_result"
    }
   ],
   "source": [
    "df.head(2)"
   ]
  },
  {
   "cell_type": "code",
   "execution_count": 76,
   "metadata": {},
   "outputs": [
    {
     "data": {
      "text/html": [
       "<div>\n",
       "<style scoped>\n",
       "    .dataframe tbody tr th:only-of-type {\n",
       "        vertical-align: middle;\n",
       "    }\n",
       "\n",
       "    .dataframe tbody tr th {\n",
       "        vertical-align: top;\n",
       "    }\n",
       "\n",
       "    .dataframe thead th {\n",
       "        text-align: right;\n",
       "    }\n",
       "</style>\n",
       "<table border=\"1\" class=\"dataframe\">\n",
       "  <thead>\n",
       "    <tr style=\"text-align: right;\">\n",
       "      <th></th>\n",
       "      <th>ORG_ID</th>\n",
       "      <th>ORG_NM</th>\n",
       "      <th>TBL_ID</th>\n",
       "      <th>TBL_NM</th>\n",
       "      <th>STAT_ID</th>\n",
       "      <th>STAT_NM</th>\n",
       "      <th>VW_CD</th>\n",
       "      <th>MT_ATITLE</th>\n",
       "      <th>FULL_PATH_ID</th>\n",
       "      <th>CONTENTS</th>\n",
       "      <th>STRT_PRD_DE</th>\n",
       "      <th>END_PRD_DE</th>\n",
       "      <th>ITEM03</th>\n",
       "      <th>REC_TBL_SE</th>\n",
       "      <th>TBL_VIEW_URL</th>\n",
       "      <th>LINK_URL</th>\n",
       "      <th>STAT_DB_CNT</th>\n",
       "      <th>QUERY</th>\n",
       "    </tr>\n",
       "  </thead>\n",
       "  <tbody>\n",
       "    <tr>\n",
       "      <th>171</th>\n",
       "      <td>203</td>\n",
       "      <td>대구광역시</td>\n",
       "      <td>DT_H33003_2015</td>\n",
       "      <td>소비자물가지수</td>\n",
       "      <td>MT_OTITLE11</td>\n",
       "      <td>시도기본통계</td>\n",
       "      <td>MT_ZTITLE</td>\n",
       "      <td>지역통계 &gt; 지자체 기본통계 &gt; 대구광역시 &gt; 대구광역시기본통계 &gt; 2000년 이후...</td>\n",
       "      <td>V &gt; V_1 &gt; V_1_203 &gt; 203_20302 &gt; 203_20302_2000...</td>\n",
       "      <td>상품및서비스분류별 월별 물가지수 총지수 식료품 및 비주류음료 식료품 비주류음료 음식...</td>\n",
       "      <td>2015</td>\n",
       "      <td>2021</td>\n",
       "      <td>자료제공:「소비자물가조사」통계청 물가동향과</td>\n",
       "      <td>N</td>\n",
       "      <td>https://kosis.kr/statisticsList/statisticsList...</td>\n",
       "      <td>http://kosis.kr/statHtml/statHtml.do?orgId=203...</td>\n",
       "      <td>245</td>\n",
       "      <td>소비자물가지수</td>\n",
       "    </tr>\n",
       "    <tr>\n",
       "      <th>201</th>\n",
       "      <td>203</td>\n",
       "      <td>대구광역시</td>\n",
       "      <td>DT_H33003</td>\n",
       "      <td>소비자물가지수(2011~2014)</td>\n",
       "      <td>MT_OTITLE11</td>\n",
       "      <td>시도기본통계</td>\n",
       "      <td>MT_ZTITLE</td>\n",
       "      <td>지역통계 &gt; 지자체 기본통계 &gt; 대구광역시 &gt; 대구광역시기본통계 &gt; 2000년 이후...</td>\n",
       "      <td>V &gt; V_1 &gt; V_1_203 &gt; 203_20302 &gt; 203_20302_2000...</td>\n",
       "      <td>상품및서비스분류별 월별 소비자물가지수 총지수 식료품 및 비주류 음료 식료품 비주류음...</td>\n",
       "      <td>2011</td>\n",
       "      <td>2014</td>\n",
       "      <td>자료:통계청 물가동향과</td>\n",
       "      <td>N</td>\n",
       "      <td>https://kosis.kr/statisticsList/statisticsList...</td>\n",
       "      <td>http://kosis.kr/statHtml/statHtml.do?orgId=203...</td>\n",
       "      <td>245</td>\n",
       "      <td>소비자물가지수</td>\n",
       "    </tr>\n",
       "    <tr>\n",
       "      <th>217</th>\n",
       "      <td>203</td>\n",
       "      <td>대구광역시</td>\n",
       "      <td>DT_H33003A</td>\n",
       "      <td>소비자물가지수(2006~2010)</td>\n",
       "      <td>MT_OTITLE11</td>\n",
       "      <td>시도기본통계</td>\n",
       "      <td>MT_ZTITLE</td>\n",
       "      <td>지역통계 &gt; 지자체 기본통계 &gt; 대구광역시 &gt; 대구광역시기본통계 &gt; 2000년 이후...</td>\n",
       "      <td>V &gt; V_1 &gt; V_1_203 &gt; 203_20302 &gt; 203_20302_2000...</td>\n",
       "      <td>상품및서비스분류별 월별 소비자물가지수 총지수 식료품・비주류음료 식료품 차와음료 외식...</td>\n",
       "      <td>2006</td>\n",
       "      <td>2010</td>\n",
       "      <td>자료:「소비자물가조사」통계청</td>\n",
       "      <td>N</td>\n",
       "      <td>https://kosis.kr/statisticsList/statisticsList...</td>\n",
       "      <td>http://kosis.kr/statHtml/statHtml.do?orgId=203...</td>\n",
       "      <td>245</td>\n",
       "      <td>소비자물가지수</td>\n",
       "    </tr>\n",
       "  </tbody>\n",
       "</table>\n",
       "</div>"
      ],
      "text/plain": [
       "    ORG_ID ORG_NM  ... STAT_DB_CNT    QUERY\n",
       "171    203  대구광역시  ...         245  소비자물가지수\n",
       "201    203  대구광역시  ...         245  소비자물가지수\n",
       "217    203  대구광역시  ...         245  소비자물가지수\n",
       "\n",
       "[3 rows x 18 columns]"
      ]
     },
     "execution_count": 76,
     "metadata": {},
     "output_type": "execute_result"
    }
   ],
   "source": [
    "df[df['ORG_NM'] == '대구광역시']"
   ]
  }
 ],
 "metadata": {
  "kernelspec": {
   "display_name": "data-gatherer-venv",
   "language": "python",
   "name": "python3"
  },
  "language_info": {
   "codemirror_mode": {
    "name": "ipython",
    "version": 3
   },
   "file_extension": ".py",
   "mimetype": "text/x-python",
   "name": "python",
   "nbconvert_exporter": "python",
   "pygments_lexer": "ipython3",
   "version": "3.10.8"
  }
 },
 "nbformat": 4,
 "nbformat_minor": 2
}
