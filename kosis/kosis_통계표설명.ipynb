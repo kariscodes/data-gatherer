{
 "cells": [
  {
   "cell_type": "code",
   "execution_count": 1,
   "metadata": {},
   "outputs": [],
   "source": [
    "key = \"YTg2NjFjM2FkOGFjZWQ5ODBmMDY1M2IwZTZiNjRlNzg=\"\n",
    "url = \"https://kosis.kr/openapi/statisticsData.do?method=getMeta&type=TBL\"   # 요청 URL"
   ]
  },
  {
   "cell_type": "code",
   "execution_count": 2,
   "metadata": {},
   "outputs": [],
   "source": [
    "org_id = \"101\"              # 기관 ID\n",
    "tbl_id = \"INH_1J22003\"      # 통계표 ID "
   ]
  },
  {
   "cell_type": "code",
   "execution_count": 16,
   "metadata": {},
   "outputs": [
    {
     "name": "stdout",
     "output_type": "stream",
     "text": [
      "URL GET Successful\n"
     ]
    }
   ],
   "source": [
    "import requests\n",
    "import warnings\n",
    "warnings.filterwarnings('ignore')\n",
    "\n",
    "# https://kosis.kr/openapi/statisticsData.do?method=getMeta&apiKey=인증키없음&format=json&type=TBL&orgId=101&tblId=INH_1J22003&jsonVD=Y\n",
    "params ={'apiKey' : key,    # 발급된 인증 key\n",
    "        \"orgId\" : org_id,   # 기관 ID\n",
    "        \"tblId\" : tbl_id,   # 통계표 ID\n",
    "        \"jsonVD\" : \"Y\",            # 결과 유형이 \"json\"인 경우 필수\n",
    "        'format' : \"json\"   # 결과 유형\n",
    "        }\n",
    "\n",
    "response = requests.get(url, params=params, verify=False)\n",
    "\n",
    "if response.status_code == 200:     # URL GET '200 정상'\n",
    "    print(\"URL GET Successful\")\n",
    "    \n",
    "if response.text.__contains__(\"err\"):\n",
    "    print(\"No Data\", response.text)"
   ]
  },
  {
   "cell_type": "code",
   "execution_count": 19,
   "metadata": {},
   "outputs": [],
   "source": [
    "import json\n",
    "import pandas as pd\n",
    "\n",
    "contents = response.text    \n",
    "json_data = json.loads(contents)\n",
    "df = pd.DataFrame(json_data)"
   ]
  },
  {
   "cell_type": "code",
   "execution_count": 20,
   "metadata": {},
   "outputs": [
    {
     "data": {
      "text/html": [
       "<div>\n",
       "<style scoped>\n",
       "    .dataframe tbody tr th:only-of-type {\n",
       "        vertical-align: middle;\n",
       "    }\n",
       "\n",
       "    .dataframe tbody tr th {\n",
       "        vertical-align: top;\n",
       "    }\n",
       "\n",
       "    .dataframe thead th {\n",
       "        text-align: right;\n",
       "    }\n",
       "</style>\n",
       "<table border=\"1\" class=\"dataframe\">\n",
       "  <thead>\n",
       "    <tr style=\"text-align: right;\">\n",
       "      <th></th>\n",
       "      <th>TBL_NM</th>\n",
       "    </tr>\n",
       "  </thead>\n",
       "  <tbody>\n",
       "    <tr>\n",
       "      <th>0</th>\n",
       "      <td>소비자물가지수(시도)</td>\n",
       "    </tr>\n",
       "  </tbody>\n",
       "</table>\n",
       "</div>"
      ],
      "text/plain": [
       "        TBL_NM\n",
       "0  소비자물가지수(시도)"
      ]
     },
     "execution_count": 20,
     "metadata": {},
     "output_type": "execute_result"
    }
   ],
   "source": [
    "df"
   ]
  }
 ],
 "metadata": {
  "kernelspec": {
   "display_name": "data-gatherer-venv",
   "language": "python",
   "name": "python3"
  },
  "language_info": {
   "codemirror_mode": {
    "name": "ipython",
    "version": 3
   },
   "file_extension": ".py",
   "mimetype": "text/x-python",
   "name": "python",
   "nbconvert_exporter": "python",
   "pygments_lexer": "ipython3",
   "version": "3.10.8"
  }
 },
 "nbformat": 4,
 "nbformat_minor": 2
}
