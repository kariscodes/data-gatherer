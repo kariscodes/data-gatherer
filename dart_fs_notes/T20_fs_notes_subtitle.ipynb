{
 "cells": [
  {
   "cell_type": "markdown",
   "metadata": {},
   "source": [
    "* 사업보고서의 \"재무제표 주석\" 문서의 소제목 리스트 뽑기"
   ]
  },
  {
   "cell_type": "code",
   "execution_count": 4,
   "metadata": {},
   "outputs": [],
   "source": [
    "def cleanPage(page):\n",
    "    # 줄바꿈없는 공백(Non-breaking Space) 표식 제거\n",
    "    page = page.replace('&nbsp;', ' ')\n",
    "    # span tag 제거\n",
    "    page = page.replace('<span>', '')\n",
    "    page = page.replace('</span>', '')\n",
    "    page = page.replace('<SPAN>', '')\n",
    "    page = page.replace('</SPAN>', '')\n",
    "    return page"
   ]
  },
  {
   "cell_type": "code",
   "execution_count": 209,
   "metadata": {},
   "outputs": [],
   "source": [
    "from bs4 import BeautifulSoup\n",
    "import re\n",
    "\n",
    "file_path = \"D:/PythonProject/data-gatherer/dart_fs_notes/sample/큐젠바이오텍_2020(특이Case).html\"\n",
    "with open(file_path,'rt', encoding='utf-8') as file:\n",
    "    page = file.read() \n",
    "\n",
    "page = cleanPage(page)\n",
    "soup = BeautifulSoup(page)\n",
    "tags = soup.find_all(string = True)\n",
    "subtitle_list = []\n",
    "prev_number = 0\n",
    "for t in tags:\n",
    "    subjects = re.findall('\\d+[.]+\\s+[^0-9]+', t.text)  # 숫자+'.'+공백+숫자가아닌모든문자열 \n",
    "    # subjects = re.findall('\\d+[.]+\\s+[가-힣]+', t.text)  # 숫자+'.'+공백+문자열(한글)  \n",
    "    # subjects = re.findall('\\d+[.]+\\s+\\w+', t.text)  # 숫자+'.'+공백+문자열(한글)      \n",
    "    if len(subjects) > 0:\n",
    "        for s in subjects:\n",
    "            if not s.__contains__('주석'):\n",
    "                this_number = int(s.split(\".\")[0])\n",
    "                if this_number > prev_number:\n",
    "                    subtitle_list.append(s)\n",
    "                    prev_number = this_number"
   ]
  },
  {
   "cell_type": "code",
   "execution_count": 210,
   "metadata": {},
   "outputs": [
    {
     "data": {
      "text/plain": [
       "['1. 회사의 개요',\n",
       " '2. 중요한 회계처리 방침',\n",
       " '3.  사용이 제한된 금융상품',\n",
       " '4. 매도가능증권',\n",
       " '5. 유형자산 ',\n",
       " '6. 무형자산 ',\n",
       " '7. 장기차입금 ',\n",
       " '8. 신주인수권부사채',\n",
       " '9. 우발부채와 약정사항 등 ',\n",
       " '10. 퇴직급여충당부채 ',\n",
       " '11. 자본금 ',\n",
       " '12. 주식매수선택권',\n",
       " '13. 결손금처리계산서 ',\n",
       " '14.  법인세등',\n",
       " '15. 특수관계자와의 거래',\n",
       " '16. 금융리스 ',\n",
       " '17. 외화자산ㆍ부채 ',\n",
       " '18. 부가가치계산에 필요한 계정',\n",
       " '19. 현금흐름표',\n",
       " '20. 유상증자',\n",
       " '21. 재무제표의 승인 ']"
      ]
     },
     "execution_count": 210,
     "metadata": {},
     "output_type": "execute_result"
    }
   ],
   "source": [
    "subtitle_list"
   ]
  },
  {
   "cell_type": "code",
   "execution_count": 5,
   "metadata": {},
   "outputs": [
    {
     "name": "stdout",
     "output_type": "stream",
     "text": [
      "20 21\n",
      "20. 순확정급여부채\n",
      "21. 충당부채\n",
      "260378 280757\n"
     ]
    }
   ],
   "source": [
    "from bs4 import BeautifulSoup\n",
    "import re\n",
    "import pandas as pd\n",
    "\n",
    "file_path = \"D:/PythonProject/data-gatherer/dart_fs_notes/sample/HSD엔진_2022.html\"\n",
    "with open(file_path,'rt', encoding='utf-8') as file:\n",
    "    page = file.read()      # html document\n",
    "    \n",
    "page = cleanPage(page)\n",
    "soup = BeautifulSoup(page)\n",
    "# tags = soup.find_all('p')\n",
    "tags = soup.find_all(string = True)\n",
    "sub_title_list = []\n",
    "for t in tags:\n",
    "    subjects = re.findall('\\d+[.]+\\s+[^0-9]+', t.text)  # 숫자+'.'+공백+숫자가아닌모든문자열      \n",
    "    if len(subjects) > 0:\n",
    "        for s in subjects:\n",
    "            if not s.__contains__('주석'):\n",
    "                sub_title_list.append(s)\n",
    "            # keywords: 퇴직급여채무, 순확정급여부채, 퇴직급여충당부채\n",
    "            if s.__contains__('순확정급여부채'):\n",
    "                this_title = s\n",
    "                start_no = this_title.split(\".\")[0]\n",
    "                end_no = str(int(start_no) + 1)\n",
    "                print(start_no, end_no)\n",
    "\n",
    "next_title = None\n",
    "for st in sub_title_list:\n",
    "    if st.startswith(end_no):\n",
    "        next_title = st\n",
    "        \n",
    "print(this_title)\n",
    "print(next_title)\n",
    "\n",
    "h = soup.prettify()\n",
    "p0 = h.find(this_title)\n",
    "p1 = h.find(next_title)\n",
    "\n",
    "# p0 = page.find(this_title)\n",
    "# p1 = page.find(next_title)\n",
    "print(p0, p1)\n",
    "\n",
    "part_html = h[p0:p1]     # 문서 Slicing"
   ]
  },
  {
   "cell_type": "code",
   "execution_count": 6,
   "metadata": {},
   "outputs": [
    {
     "data": {
      "text/plain": [
       "'20. 순확정급여부채\\n   <br/>\\n   <br/>\\n   당사는 확정급여형 퇴직급여제도를 운영하고 있으며, 사외적립자산과 확정급여채무의 보험수리적 평가는 예측단위적립방식을 사용하여 적격성이 있는 독립적인 보험계리법인에 의하여 수행되었습니다.\\n   <br/>\\n   <br/>\\n   (1) 당기말과 전기말 현재 순확정급여부채는 다음과 같습니다.\\n  </p>\\n  <table class=\"nb\" width=\"603\">\\n   <colgroup>\\n    <col width=\"603\"/>\\n   </colgroup>\\n   <tbody>\\n    <tr>\\n     <td align=\"RIGHT\" height=\"20\" valign=\"TOP\" width=\"603\">\\n      (단위 : 천원)\\n     </td>\\n    </tr>\\n   </tbody>\\n  </table>\\n  <table border=\"1\" width=\"604\">\\n   <colgroup>\\n    <col width=\"202\"/>\\n    <col width=\"201\"/>\\n    <col width=\"201\"/>\\n   </colgroup>\\n   <thead>\\n    <tr>\\n     <th align=\"CENTER\" height=\"20\" width=\"202\">\\n      구분\\n     </th>\\n     <th align=\"CENTER\" height=\"20\" width=\"201\">\\n      당기말\\n     </th>\\n     <th align=\"CENTER\" height=\"20\" width=\"201\">\\n      전기말\\n     </th>\\n    </tr>\\n   </thead>\\n   <tbody>\\n    <tr>\\n     <td height=\"20\" valign=\"TOP\" width=\"202\">\\n      확정급여채무의 현재가치\\n     </td>\\n     <td align=\"RIGHT\" height=\"20\" valign=\"TOP\" width=\"201\">\\n      35,390,325\\n     </td>\\n     <td align=\"RIGHT\" height=\"20\" valign=\"TOP\" width=\"201\">\\n      38,074,012\\n     </td>\\n    </tr>\\n    <tr>\\n     <td height=\"20\" valign=\"TOP\" width=\"202\">\\n      사외적립자산의 공정가치\\n     </td>\\n     <td align=\"RIGHT\" height=\"20\" valign=\"TOP\" width=\"201\">\\n      (30,572,150)\\n     </td>\\n     <td align=\"RIGHT\" height=\"20\" valign=\"TOP\" width=\"201\">\\n      (28,803,767)\\n     </td>\\n    </tr>\\n    <tr>\\n     <td height=\"20\" valign=\"TOP\" width=\"202\">\\n      순확정급여부채\\n     </td>\\n     <td align=\"RIGHT\" height=\"20\" valign=\"TOP\" width=\"201\">\\n      4,818,175\\n     </td>\\n     <td align=\"RIGHT\" height=\"20\" valign=\"TOP\" width=\"201\">\\n      9,270,245\\n     </td>\\n    </tr>\\n   </tbody>\\n  </table>\\n  <p>\\n   <br/>\\n  </p>\\n  <p>\\n   (2) 당기와 전기에 인식한 퇴직급여는 다음과 같습니다.\\n  </p>\\n  <table class=\"nb\" width=\"605\">\\n   <colgroup>\\n    <col width=\"605\"/>\\n   </colgroup>\\n   <tbody>\\n    <tr>\\n     <td align=\"RIGHT\" height=\"20\" valign=\"TOP\" width=\"605\">\\n      (단위 : 천원)\\n     </td>\\n    </tr>\\n   </tbody>\\n  </table>\\n  <table border=\"1\" width=\"605\">\\n   <colgroup>\\n    <col width=\"243\"/>\\n    <col width=\"181\"/>\\n    <col width=\"181\"/>\\n   </colgroup>\\n   <thead>\\n    <tr>\\n     <th align=\"CENTER\" height=\"20\" width=\"243\">\\n      구분\\n     </th>\\n     <th align=\"CENTER\" height=\"20\" width=\"181\">\\n      당기\\n     </th>\\n     <th align=\"CENTER\" height=\"20\" width=\"181\">\\n      전기\\n     </th>\\n    </tr>\\n   </thead>\\n   <tbody>\\n    <tr>\\n     <td height=\"20\" valign=\"TOP\" width=\"243\">\\n      당기근무원가\\n     </td>\\n     <td align=\"RIGHT\" height=\"20\" valign=\"TOP\" width=\"181\">\\n      3,609,386\\n     </td>\\n     <td align=\"RIGHT\" height=\"20\" valign=\"TOP\" width=\"181\">\\n      3,589,851\\n     </td>\\n    </tr>\\n    <tr>\\n     <td height=\"20\" valign=\"TOP\" width=\"243\">\\n      순이자비용(이자비용 - 기대수익)\\n     </td>\\n     <td align=\"RIGHT\" height=\"20\" valign=\"TOP\" width=\"181\">\\n      250,061\\n     </td>\\n     <td align=\"RIGHT\" height=\"20\" valign=\"TOP\" width=\"181\">\\n      136,428\\n     </td>\\n    </tr>\\n    <tr>\\n     <td align=\"CENTER\" height=\"20\" valign=\"TOP\" width=\"243\">\\n      합계\\n     </td>\\n     <td align=\"RIGHT\" height=\"20\" valign=\"TOP\" width=\"181\">\\n      3,859,447\\n     </td>\\n     <td align=\"RIGHT\" height=\"20\" valign=\"TOP\" width=\"181\">\\n      3,726,279\\n     </td>\\n    </tr>\\n   </tbody>\\n  </table>\\n  <p>\\n   <br/>\\n   (3) 당기와 전기의 계정과목별 퇴직급여의 구성요소는 다음과 같습니다.\\n  </p>\\n  <table class=\"nb\" width=\"605\">\\n   <colgroup>\\n    <col width=\"605\"/>\\n   </colgroup>\\n   <tbody>\\n    <tr>\\n     <td align=\"RIGHT\" height=\"20\" valign=\"TOP\" width=\"605\">\\n      (단위 : 천원)\\n     </td>\\n    </tr>\\n   </tbody>\\n  </table>\\n  <table border=\"1\" width=\"604\">\\n   <colgroup>\\n    <col width=\"236\"/>\\n    <col width=\"184\"/>\\n    <col width=\"184\"/>\\n   </colgroup>\\n   <thead>\\n    <tr>\\n     <th align=\"CENTER\" height=\"20\" width=\"236\">\\n      구분\\n     </th>\\n     <th align=\"CENTER\" height=\"20\" width=\"184\">\\n      당기\\n     </th>\\n     <th align=\"CENTER\" height=\"20\" width=\"184\">\\n      전기\\n     </th>\\n    </tr>\\n   </thead>\\n   <tbody>\\n    <tr>\\n     <td height=\"20\" valign=\"TOP\" width=\"236\">\\n      매출원가\\n     </td>\\n     <td align=\"RIGHT\" height=\"20\" valign=\"TOP\" width=\"184\">\\n      2,787,337\\n     </td>\\n     <td align=\"RIGHT\" height=\"20\" valign=\"TOP\" width=\"184\">\\n      2,720,399\\n     </td>\\n    </tr>\\n    <tr>\\n     <td height=\"20\" valign=\"TOP\" width=\"236\">\\n      판매비와관리비\\n     </td>\\n     <td align=\"RIGHT\" height=\"20\" valign=\"TOP\" width=\"184\">\\n      913,212\\n     </td>\\n     <td align=\"RIGHT\" height=\"20\" valign=\"TOP\" width=\"184\">\\n      872,521\\n     </td>\\n    </tr>\\n    <tr>\\n     <td height=\"20\" valign=\"TOP\" width=\"236\">\\n      판매비와관리비-경상연구개발비\\n     </td>\\n     <td align=\"RIGHT\" height=\"20\" valign=\"TOP\" width=\"184\">\\n      158,898\\n     </td>\\n     <td align=\"RIGHT\" height=\"20\" valign=\"TOP\" width=\"184\">\\n      133,359\\n     </td>\\n    </tr>\\n    <tr>\\n     <td align=\"CENTER\" height=\"20\" valign=\"TOP\" width=\"236\">\\n      합계\\n     </td>\\n     <td align=\"RIGHT\" height=\"20\" valign=\"TOP\" width=\"184\">\\n      3,859,447\\n     </td>\\n     <td align=\"RIGHT\" height=\"20\" valign=\"TOP\" width=\"184\">\\n      3,726,279\\n     </td>\\n    </tr>\\n   </tbody>\\n  </table>\\n  <p class=\"pgbrk\">\\n  </p>\\n  <p>\\n   (4) 당기와 전기의 확정급여채무의 변동내역은 다음과 같습니다.\\n  </p>\\n  <table class=\"nb\" width=\"600\">\\n   <colgroup>\\n    <col width=\"600\"/>\\n   </colgroup>\\n   <tbody>\\n    <tr>\\n     <td align=\"RIGHT\" height=\"20\" valign=\"TOP\" width=\"600\">\\n      (단위 : 천원)\\n     </td>\\n    </tr>\\n   </tbody>\\n  </table>\\n  <table border=\"1\" width=\"600\">\\n   <colgroup>\\n    <col width=\"200\"/>\\n    <col width=\"200\"/>\\n    <col width=\"200\"/>\\n   </colgroup>\\n   <thead>\\n    <tr>\\n     <th align=\"CENTER\" height=\"20\" width=\"200\">\\n      구분\\n     </th>\\n     <th align=\"CENTER\" height=\"20\" width=\"200\">\\n      당기\\n     </th>\\n     <th align=\"CENTER\" height=\"20\" width=\"200\">\\n      전기\\n     </th>\\n    </tr>\\n   </thead>\\n   <tbody>\\n    <tr>\\n     <td height=\"20\" valign=\"TOP\" width=\"200\">\\n      기초\\n     </td>\\n     <td align=\"RIGHT\" height=\"20\" valign=\"TOP\" width=\"200\">\\n      38,074,012\\n     </td>\\n     <td align=\"RIGHT\" height=\"20\" valign=\"TOP\" width=\"200\">\\n      35,706,854\\n     </td>\\n    </tr>\\n    <tr>\\n     <td height=\"20\" valign=\"TOP\" width=\"200\">\\n      당기근무원가\\n     </td>\\n     <td align=\"RIGHT\" height=\"20\" valign=\"TOP\" width=\"200\">\\n      3,609,386\\n     </td>\\n     <td align=\"RIGHT\" height=\"20\" valign=\"TOP\" width=\"200\">\\n      3,589,851\\n     </td>\\n    </tr>\\n    <tr>\\n     <td height=\"20\" valign=\"TOP\" width=\"200\">\\n      이자비용\\n     </td>\\n     <td align=\"RIGHT\" height=\"20\" valign=\"TOP\" width=\"200\">\\n      1,202,695\\n     </td>\\n     <td align=\"RIGHT\" height=\"20\" valign=\"TOP\" width=\"200\">\\n      943,751\\n     </td>\\n    </tr>\\n    <tr>\\n     <td height=\"20\" valign=\"TOP\" width=\"200\">\\n      확정급여채무의 재측정요소\\n     </td>\\n     <td align=\"RIGHT\" height=\"20\" valign=\"TOP\" width=\"200\">\\n      (4,745,946)\\n     </td>\\n     <td align=\"RIGHT\" height=\"20\" valign=\"TOP\" width=\"200\">\\n      1,436,575\\n     </td>\\n    </tr>\\n    <tr>\\n     <td height=\"20\" valign=\"TOP\" width=\"200\">\\n      - 인구통계적가정의 변동\\n     </td>\\n     <td align=\"RIGHT\" height=\"20\" valign=\"TOP\" width=\"200\">\\n      511,240\\n     </td>\\n     <td align=\"RIGHT\" height=\"20\" valign=\"TOP\" width=\"200\">\\n      982,777\\n     </td>\\n    </tr>\\n    <tr>\\n     <td height=\"20\" valign=\"TOP\" width=\"200\">\\n      - 재무적가정의 변동\\n     </td>\\n     <td align=\"RIGHT\" height=\"20\" valign=\"TOP\" width=\"200\">\\n      (4,862,066)\\n     </td>\\n     <td align=\"RIGHT\" height=\"20\" valign=\"TOP\" width=\"200\">\\n      (1,718,494)\\n     </td>\\n    </tr>\\n    <tr>\\n     <td height=\"20\" valign=\"TOP\" width=\"200\">\\n      - 경험조정 등\\n     </td>\\n     <td align=\"RIGHT\" height=\"20\" valign=\"TOP\" width=\"200\">\\n      (395,120)\\n     </td>\\n     <td align=\"RIGHT\" height=\"20\" valign=\"TOP\" width=\"200\">\\n      2,172,292\\n     </td>\\n    </tr>\\n    <tr>\\n     <td height=\"20\" valign=\"TOP\" width=\"200\">\\n      퇴직금 지급액\\n     </td>\\n     <td align=\"RIGHT\" height=\"20\" valign=\"TOP\" width=\"200\">\\n      (2,749,822)\\n     </td>\\n     <td align=\"RIGHT\" height=\"20\" valign=\"TOP\" width=\"200\">\\n      (3,603,019)\\n     </td>\\n    </tr>\\n    <tr>\\n     <td height=\"20\" valign=\"TOP\" width=\"200\">\\n      기말\\n     </td>\\n     <td align=\"RIGHT\" height=\"20\" valign=\"TOP\" width=\"200\">\\n      35,390,325\\n     </td>\\n     <td align=\"RIGHT\" height=\"20\" valign=\"TOP\" width=\"200\">\\n      38,074,012\\n     </td>\\n    </tr>\\n   </tbody>\\n  </table>\\n  <p>\\n   <br/>\\n   (5) 당기와 전기의 사외적립자산의 변동내역은 다음과 같습니다.\\n  </p>\\n  <table class=\"nb\" width=\"599\">\\n   <colgroup>\\n    <col width=\"599\"/>\\n   </colgroup>\\n   <tbody>\\n    <tr>\\n     <td align=\"RIGHT\" height=\"20\" style=\\'font-family:DartNBSP, \"바탕\", Batang;font-size:10pt;\\' valign=\"TOP\" width=\"599\">\\n      <span style=\\'font-family:DartNBSP, \"굴림\", Gulim;font-size:11pt;line-height:1.6em;\\'>\\n       (단위 : 천원)\\n       <br/>\\n      </span>\\n     </td>\\n    </tr>\\n   </tbody>\\n  </table>\\n  <table border=\"1\" width=\"597\">\\n   <colgroup>\\n    <col width=\"199\"/>\\n    <col width=\"199\"/>\\n    <col width=\"199\"/>\\n   </colgroup>\\n   <thead>\\n    <tr>\\n     <th align=\"CENTER\" height=\"20\" width=\"199\">\\n      구분\\n     </th>\\n     <th align=\"CENTER\" height=\"20\" width=\"199\">\\n      당기\\n     </th>\\n     <th align=\"CENTER\" height=\"20\" width=\"199\">\\n      전기\\n     </th>\\n    </tr>\\n   </thead>\\n   <tbody>\\n    <tr>\\n     <td height=\"20\" valign=\"TOP\" width=\"199\">\\n      기초\\n     </td>\\n     <td align=\"RIGHT\" height=\"20\" valign=\"TOP\" width=\"199\">\\n      28,803,767\\n     </td>\\n     <td align=\"RIGHT\" height=\"20\" valign=\"TOP\" width=\"199\">\\n      28,406,462\\n     </td>\\n    </tr>\\n    <tr>\\n     <td height=\"20\" valign=\"TOP\" width=\"199\">\\n      불입\\n     </td>\\n     <td align=\"RIGHT\" height=\"20\" valign=\"TOP\" width=\"199\">\\n      3,600,000\\n     </td>\\n     <td align=\"RIGHT\" height=\"20\" valign=\"TOP\" width=\"199\">\\n      2,650,000\\n     </td>\\n    </tr>\\n    <tr>\\n     <td height=\"20\" valign=\"TOP\" width=\"199\">\\n      사외적립자산의 기대수익\\n     </td>\\n     <td align=\"RIGHT\" height=\"20\" valign=\"TOP\" width=\"199\">\\n      952,634\\n     </td>\\n     <td align=\"RIGHT\" height=\"20\" valign=\"TOP\" width=\"199\">\\n      807,322\\n     </td>\\n    </tr>\\n    <tr>\\n     <td height=\"20\" valign=\"TOP\" width=\"199\">\\n      사외적립자산의 재측정요소\\n     </td>\\n     <td align=\"RIGHT\" height=\"20\" valign=\"TOP\" width=\"199\">\\n      (651,157)\\n     </td>\\n     <td align=\"RIGHT\" height=\"20\" valign=\"TOP\" width=\"199\">\\n      (512,182)\\n     </td>\\n    </tr>\\n    <tr>\\n     <td height=\"20\" valign=\"TOP\" width=\"199\">\\n      퇴직금 지급액\\n     </td>\\n     <td align=\"RIGHT\" height=\"20\" valign=\"TOP\" width=\"199\">\\n      (2,133,094)\\n     </td>\\n     <td align=\"RIGHT\" height=\"20\" valign=\"TOP\" width=\"199\">\\n      (2,547,835)\\n     </td>\\n    </tr>\\n    <tr>\\n     <td height=\"20\" valign=\"TOP\" width=\"199\">\\n      기말\\n     </td>\\n     <td align=\"RIGHT\" height=\"20\" valign=\"TOP\" width=\"199\">\\n      30,572,150\\n     </td>\\n     <td align=\"RIGHT\" height=\"20\" valign=\"TOP\" width=\"199\">\\n      28,803,767\\n     </td>\\n    </tr>\\n   </tbody>\\n  </table>\\n  <p>\\n   <br/>\\n   (6) 당기말과 전기말 현재 보험수리적 평가를 위해 사용된 가정은 다음과 같습니다.\\n  </p>\\n  <table border=\"1\" width=\"596\">\\n   <colgroup>\\n    <col width=\"199\"/>\\n    <col width=\"199\"/>\\n    <col width=\"198\"/>\\n   </colgroup>\\n   <thead>\\n    <tr>\\n     <th align=\"CENTER\" height=\"20\" width=\"199\">\\n      구분\\n     </th>\\n     <th align=\"CENTER\" height=\"20\" width=\"199\">\\n      당기말\\n     </th>\\n     <th align=\"CENTER\" height=\"20\" width=\"198\">\\n      전기말\\n     </th>\\n    </tr>\\n   </thead>\\n   <tbody>\\n    <tr>\\n     <td align=\"CENTER\" height=\"20\" width=\"199\">\\n      할인율\\n     </td>\\n     <td align=\"RIGHT\" height=\"20\" valign=\"TOP\" width=\"199\">\\n      5.84%\\n     </td>\\n     <td align=\"RIGHT\" height=\"20\" valign=\"TOP\" width=\"198\">\\n      3.52%\\n     </td>\\n    </tr>\\n    <tr>\\n     <td align=\"CENTER\" height=\"20\" width=\"199\">\\n      미래임금상승율\\n     </td>\\n     <td align=\"RIGHT\" height=\"20\" valign=\"TOP\" width=\"199\">\\n      2.15%\\n     </td>\\n     <td align=\"RIGHT\" height=\"20\" valign=\"TOP\" width=\"198\">\\n      1.41%\\n     </td>\\n    </tr>\\n   </tbody>\\n  </table>\\n  <p class=\"pgbrk\">\\n  </p>\\n  <p>\\n   (7) 당기말과 전기말 현재 사외적립자산의 구성내역은 다음과 같습니다.\\n  </p>\\n  <table class=\"nb\" width=\"597\">\\n   <colgroup>\\n    <col width=\"597\"/>\\n   </colgroup>\\n   <tbody>\\n    <tr>\\n     <td align=\"RIGHT\" height=\"20\" valign=\"TOP\" width=\"597\">\\n      (단위 : 천원)\\n     </td>\\n    </tr>\\n   </tbody>\\n  </table>\\n  <table border=\"1\" width=\"598\">\\n   <colgroup>\\n    <col width=\"200\"/>\\n    <col width=\"199\"/>\\n    <col width=\"199\"/>\\n   </colgroup>\\n   <thead>\\n    <tr>\\n     <th align=\"CENTER\" height=\"20\" width=\"200\">\\n      구분\\n     </th>\\n     <th align=\"CENTER\" height=\"20\" width=\"199\">\\n      당기말\\n     </th>\\n     <th align=\"CENTER\" height=\"20\" width=\"199\">\\n      전기말\\n     </th>\\n    </tr>\\n   </thead>\\n   <tbody>\\n    <tr>\\n     <td height=\"20\" width=\"200\">\\n      채권\\n     </td>\\n     <td align=\"RIGHT\" height=\"20\" valign=\"TOP\" width=\"199\">\\n      256,193\\n     </td>\\n     <td align=\"RIGHT\" height=\"20\" valign=\"TOP\" width=\"199\">\\n      202,248\\n     </td>\\n    </tr>\\n    <tr>\\n     <td height=\"20\" width=\"200\">\\n      증권\\n     </td>\\n     <td align=\"RIGHT\" height=\"20\" valign=\"TOP\" width=\"199\">\\n      6,325,547\\n     </td>\\n     <td align=\"RIGHT\" height=\"20\" valign=\"TOP\" width=\"199\">\\n      7,430,695\\n     </td>\\n    </tr>\\n    <tr>\\n     <td height=\"20\" width=\"200\">\\n      예금\\n     </td>\\n     <td align=\"RIGHT\" height=\"20\" valign=\"TOP\" width=\"199\">\\n      23,935,278\\n     </td>\\n     <td align=\"RIGHT\" height=\"20\" valign=\"TOP\" width=\"199\">\\n      21,170,496\\n     </td>\\n    </tr>\\n    <tr>\\n     <td height=\"20\" width=\"200\">\\n      기타\\n     </td>\\n     <td align=\"RIGHT\" height=\"20\" valign=\"TOP\" width=\"199\">\\n      55,132\\n     </td>\\n     <td align=\"RIGHT\" height=\"20\" valign=\"TOP\" width=\"199\">\\n      328\\n     </td>\\n    </tr>\\n    <tr>\\n     <td align=\"CENTER\" height=\"20\" width=\"200\">\\n      합계\\n     </td>\\n     <td align=\"RIGHT\" height=\"20\" valign=\"TOP\" width=\"199\">\\n      30,572,150\\n     </td>\\n     <td align=\"RIGHT\" height=\"20\" valign=\"TOP\" width=\"199\">\\n      28,803,767\\n     </td>\\n    </tr>\\n   </tbody>\\n  </table>\\n  <p>\\n   <br/>\\n   (8) 당기말과 전기말 현재 확정급여채무의 민감도 분석은 다음과 같습니다.\\n  </p>\\n  <table class=\"nb\" width=\"769\">\\n   <colgroup>\\n    <col width=\"769\"/>\\n   </colgroup>\\n   <tbody>\\n    <tr>\\n     <td align=\"RIGHT\" height=\"20\" valign=\"TOP\" width=\"769\">\\n      (단위 : 천원)\\n     </td>\\n    </tr>\\n   </tbody>\\n  </table>\\n  <table border=\"1\" width=\"768\">\\n   <colgroup>\\n    <col width=\"48\"/>\\n    <col width=\"96\"/>\\n    <col width=\"84\"/>\\n    <col width=\"84\"/>\\n    <col width=\"96\"/>\\n    <col width=\"96\"/>\\n    <col width=\"84\"/>\\n    <col width=\"84\"/>\\n    <col width=\"96\"/>\\n   </colgroup>\\n   <thead>\\n    <tr>\\n     <th align=\"CENTER\" height=\"80\" rowspan=\"3\" width=\"48\">\\n      구분\\n     </th>\\n     <th align=\"CENTER\" colspan=\"4\" height=\"20\" width=\"360\">\\n      당기말\\n     </th>\\n     <th align=\"CENTER\" colspan=\"4\" height=\"20\" width=\"360\">\\n      전기말\\n     </th>\\n    </tr>\\n    <tr>\\n     <th align=\"CENTER\" colspan=\"2\" height=\"20\" width=\"180\">\\n      할인율\\n     </th>\\n     <th align=\"CENTER\" colspan=\"2\" height=\"20\" width=\"180\">\\n      임금상승률\\n     </th>\\n     <th align=\"CENTER\" colspan=\"2\" height=\"20\" width=\"180\">\\n      할인율\\n     </th>\\n     <th align=\"CENTER\" colspan=\"2\" height=\"20\" width=\"180\">\\n      임금상승률\\n     </th>\\n    </tr>\\n    <tr>\\n     <th align=\"CENTER\" height=\"20\" width=\"96\">\\n      1% 증가\\n     </th>\\n     <th align=\"CENTER\" height=\"20\" width=\"84\">\\n      1% 감소\\n     </th>\\n     <th align=\"CENTER\" height=\"20\" width=\"84\">\\n      1% 증가\\n     </th>\\n     <th align=\"CENTER\" height=\"20\" width=\"96\">\\n      1% 감소\\n     </th>\\n     <th align=\"CENTER\" height=\"20\" width=\"96\">\\n      1% 증가\\n     </th>\\n     <th align=\"CENTER\" height=\"20\" width=\"84\">\\n      1% 감소\\n     </th>\\n     <th align=\"CENTER\" height=\"20\" width=\"84\">\\n      1% 증가\\n     </th>\\n     <th align=\"CENTER\" height=\"20\" width=\"96\">\\n      1% 감소\\n     </th>\\n    </tr>\\n   </thead>\\n   <tbody>\\n    <tr>\\n     <td align=\"CENTER\" height=\"20\" valign=\"BOTTOM\" width=\"48\">\\n      금액\\n     </td>\\n     <td align=\"RIGHT\" height=\"20\" valign=\"BOTTOM\" width=\"96\">\\n      (2,587,287)\\n     </td>\\n     <td align=\"RIGHT\" height=\"20\" valign=\"BOTTOM\" width=\"84\">\\n      2,967,780\\n     </td>\\n     <td align=\"RIGHT\" height=\"20\" valign=\"BOTTOM\" width=\"84\">\\n      3,121,645\\n     </td>\\n     <td align=\"RIGHT\" height=\"20\" valign=\"BOTTOM\" width=\"96\">\\n      (2,753,912)\\n     </td>\\n     <td align=\"RIGHT\" height=\"20\" valign=\"BOTTOM\" width=\"96\">\\n      (3,333,032)\\n     </td>\\n     <td align=\"RIGHT\" height=\"20\" valign=\"BOTTOM\" width=\"84\">\\n      3,879,232\\n     </td>\\n     <td align=\"RIGHT\" height=\"20\" valign=\"BOTTOM\" width=\"84\">\\n      3,984,344\\n     </td>\\n     <td align=\"RIGHT\" height=\"20\" valign=\"BOTTOM\" width=\"96\">\\n      (3,473,527)\\n     </td>\\n    </tr>\\n    <tr>\\n     <td align=\"CENTER\" height=\"20\" valign=\"BOTTOM\" width=\"48\">\\n      비율\\n     </td>\\n     <td align=\"RIGHT\" height=\"20\" valign=\"BOTTOM\" width=\"96\">\\n      (-)7.30%\\n     </td>\\n     <td align=\"RIGHT\" height=\"20\" valign=\"BOTTOM\" width=\"84\">\\n      8.40%\\n     </td>\\n     <td align=\"RIGHT\" height=\"20\" valign=\"BOTTOM\" width=\"84\">\\n      8.80%\\n     </td>\\n     <td align=\"RIGHT\" height=\"20\" valign=\"BOTTOM\" width=\"96\">\\n      (-)7.80%\\n     </td>\\n     <td align=\"RIGHT\" height=\"20\" valign=\"BOTTOM\" width=\"96\">\\n      (-)8.80%\\n     </td>\\n     <td align=\"RIGHT\" height=\"20\" valign=\"BOTTOM\" width=\"84\">\\n      10.20%\\n     </td>\\n     <td align=\"RIGHT\" height=\"20\" valign=\"BOTTOM\" width=\"84\">\\n      10.50%\\n     </td>\\n     <td align=\"RIGHT\" height=\"20\" valign=\"BOTTOM\" width=\"96\">\\n      (-)9.10%\\n     </td>\\n    </tr>\\n   </tbody>\\n  </table>\\n  <p>\\n   <br/>\\n   (9) 당기말과 전기말 현재 확정급여채무의 만기구성정보는 다음과 같습니다.\\n  </p>\\n  <table class=\"nb\" width=\"765\">\\n   <colgroup>\\n    <col width=\"433\"/>\\n    <col width=\"332\"/>\\n   </colgroup>\\n   <tbody>\\n    <tr>\\n     <td height=\"20\" width=\"433\">\\n      (당기말)\\n     </td>\\n     <td align=\"RIGHT\" height=\"20\" valign=\"TOP\" width=\"332\">\\n      (단위 : 천원)\\n     </td>\\n    </tr>\\n   </tbody>\\n  </table>\\n  <table border=\"1\" width=\"767\">\\n   <colgroup>\\n    <col width=\"128\"/>\\n    <col width=\"128\"/>\\n    <col width=\"128\"/>\\n    <col width=\"128\"/>\\n    <col width=\"128\"/>\\n    <col width=\"127\"/>\\n   </colgroup>\\n   <thead>\\n    <tr>\\n     <th align=\"CENTER\" height=\"20\" width=\"128\">\\n      구분\\n     </th>\\n     <th align=\"CENTER\" height=\"20\" width=\"128\">\\n      1년 미만\\n     </th>\\n     <th align=\"CENTER\" height=\"20\" width=\"128\">\\n      1년~2년 미만\\n     </th>\\n     <th align=\"CENTER\" height=\"20\" width=\"128\">\\n      2년~5년 미만\\n     </th>\\n     <th align=\"CENTER\" height=\"20\" width=\"128\">\\n      5년~10년 미만\\n     </th>\\n     <th align=\"CENTER\" height=\"20\" width=\"127\">\\n      10년 초과\\n     </th>\\n    </tr>\\n   </thead>\\n   <tbody>\\n    <tr>\\n     <td align=\"CENTER\" height=\"20\" valign=\"BOTTOM\" width=\"128\">\\n      지급액\\n     </td>\\n     <td align=\"RIGHT\" height=\"20\" valign=\"BOTTOM\" width=\"128\">\\n      1,935,240\\n     </td>\\n     <td align=\"RIGHT\" height=\"20\" valign=\"BOTTOM\" width=\"128\">\\n      2,137,349\\n     </td>\\n     <td align=\"RIGHT\" height=\"20\" valign=\"BOTTOM\" width=\"128\">\\n      8,734,184\\n     </td>\\n     <td align=\"RIGHT\" height=\"20\" valign=\"BOTTOM\" width=\"128\">\\n      21,823,416\\n     </td>\\n     <td align=\"RIGHT\" height=\"20\" valign=\"BOTTOM\" width=\"127\">\\n      87,094,182\\n     </td>\\n    </tr>\\n   </tbody>\\n  </table>\\n  <p>\\n   <br/>\\n  </p>\\n  <table class=\"nb\" width=\"766\">\\n   <colgroup>\\n    <col width=\"432\"/>\\n    <col width=\"334\"/>\\n   </colgroup>\\n   <tbody>\\n    <tr>\\n     <td height=\"20\" width=\"432\">\\n      (전기말)\\n     </td>\\n     <td align=\"RIGHT\" height=\"20\" valign=\"TOP\" width=\"334\">\\n      (단위 : 천원)\\n     </td>\\n    </tr>\\n   </tbody>\\n  </table>\\n  <table border=\"1\" width=\"763\">\\n   <colgroup>\\n    <col width=\"128\"/>\\n    <col width=\"127\"/>\\n    <col width=\"127\"/>\\n    <col width=\"127\"/>\\n    <col width=\"127\"/>\\n    <col width=\"127\"/>\\n   </colgroup>\\n   <thead>\\n    <tr>\\n     <th align=\"CENTER\" height=\"20\" width=\"128\">\\n      구분\\n     </th>\\n     <th align=\"CENTER\" height=\"20\" width=\"127\">\\n      1년 미만\\n     </th>\\n     <th align=\"CENTER\" height=\"20\" width=\"127\">\\n      1년~2년 미만\\n     </th>\\n     <th align=\"CENTER\" height=\"20\" width=\"127\">\\n      2년~5년 미만\\n     </th>\\n     <th align=\"CENTER\" height=\"20\" width=\"127\">\\n      5년~10년 미만\\n     </th>\\n     <th align=\"CENTER\" height=\"20\" width=\"127\">\\n      10년 초과\\n     </th>\\n    </tr>\\n   </thead>\\n   <tbody>\\n    <tr>\\n     <td align=\"CENTER\" height=\"20\" valign=\"BOTTOM\" width=\"128\">\\n      지급액\\n     </td>\\n     <td align=\"RIGHT\" height=\"20\" valign=\"BOTTOM\" width=\"127\">\\n      1,511,215\\n     </td>\\n     <td align=\"RIGHT\" height=\"20\" valign=\"BOTTOM\" width=\"127\">\\n      1,799,857\\n     </td>\\n     <td align=\"RIGHT\" height=\"20\" valign=\"BOTTOM\" width=\"127\">\\n      8,129,232\\n     </td>\\n     <td align=\"RIGHT\" height=\"20\" valign=\"BOTTOM\" width=\"127\">\\n      19,814,023\\n     </td>\\n     <td align=\"RIGHT\" height=\"20\" valign=\"BOTTOM\" width=\"127\">\\n      84,750,289\\n     </td>\\n    </tr>\\n   </tbody>\\n  </table>\\n  <p>\\n   <br/>\\n   (10) 당기말 확정급여채무의 가중평균만기는 9.45년입니다.\\n   <br/>\\n   <br/>\\n  </p>\\n  <p class=\"pgbrk\">\\n  </p>\\n  <p>\\n   '"
      ]
     },
     "execution_count": 6,
     "metadata": {},
     "output_type": "execute_result"
    }
   ],
   "source": [
    "part_html"
   ]
  },
  {
   "cell_type": "code",
   "execution_count": 7,
   "metadata": {},
   "outputs": [],
   "source": [
    "data_list = pd.read_html(part_html)"
   ]
  },
  {
   "cell_type": "code",
   "execution_count": 8,
   "metadata": {},
   "outputs": [
    {
     "data": {
      "text/plain": [
       "[           0\n",
       " 0  (단위 : 천원),\n",
       "              구분           당기말           전기말\n",
       " 0  확정급여채무의 현재가치      35390325      38074012\n",
       " 1  사외적립자산의 공정가치  (30,572,150)  (28,803,767)\n",
       " 2       순확정급여부채       4818175       9270245,\n",
       "            0\n",
       " 0  (단위 : 천원),\n",
       "                    구분       당기       전기\n",
       " 0              당기근무원가  3609386  3589851\n",
       " 1  순이자비용(이자비용 - 기대수익)   250061   136428\n",
       " 2                  합계  3859447  3726279,\n",
       "            0\n",
       " 0  (단위 : 천원),\n",
       "                 구분       당기       전기\n",
       " 0             매출원가  2787337  2720399\n",
       " 1          판매비와관리비   913212   872521\n",
       " 2  판매비와관리비-경상연구개발비   158898   133359\n",
       " 3               합계  3859447  3726279,\n",
       "            0\n",
       " 0  (단위 : 천원),\n",
       "               구분           당기           전기\n",
       " 0             기초     38074012     35706854\n",
       " 1         당기근무원가      3609386      3589851\n",
       " 2           이자비용      1202695       943751\n",
       " 3  확정급여채무의 재측정요소  (4,745,946)      1436575\n",
       " 4  - 인구통계적가정의 변동       511240       982777\n",
       " 5    - 재무적가정의 변동  (4,862,066)  (1,718,494)\n",
       " 6       - 경험조정 등    (395,120)      2172292\n",
       " 7        퇴직금 지급액  (2,749,822)  (3,603,019)\n",
       " 8             기말     35390325     38074012,\n",
       "            0\n",
       " 0  (단위 : 천원),\n",
       "               구분           당기           전기\n",
       " 0             기초     28803767     28406462\n",
       " 1             불입      3600000      2650000\n",
       " 2   사외적립자산의 기대수익       952634       807322\n",
       " 3  사외적립자산의 재측정요소    (651,157)    (512,182)\n",
       " 4        퇴직금 지급액  (2,133,094)  (2,547,835)\n",
       " 5             기말     30572150     28803767,\n",
       "         구분    당기말    전기말\n",
       " 0      할인율  5.84%  3.52%\n",
       " 1  미래임금상승율  2.15%  1.41%,\n",
       "            0\n",
       " 0  (단위 : 천원),\n",
       "    구분       당기말       전기말\n",
       " 0  채권    256193    202248\n",
       " 1  증권   6325547   7430695\n",
       " 2  예금  23935278  21170496\n",
       " 3  기타     55132       328\n",
       " 4  합계  30572150  28803767,\n",
       "            0\n",
       " 0  (단위 : 천원),\n",
       "    구분          당기말                                         전기말           \\\n",
       "    구분          할인율             임금상승률                       할인율            \n",
       "    구분        1% 증가    1% 감소    1% 증가        1% 감소        1% 증가    1% 감소   \n",
       " 0  금액  (2,587,287)  2967780  3121645  (2,753,912)  (3,333,032)  3879232   \n",
       " 1  비율     (-)7.30%    8.40%    8.80%     (-)7.80%     (-)8.80%   10.20%   \n",
       " \n",
       "                          \n",
       "      임금상승률               \n",
       "      1% 증가        1% 감소  \n",
       " 0  3984344  (3,473,527)  \n",
       " 1   10.50%     (-)9.10%  ,\n",
       "        0          1\n",
       " 0  (당기말)  (단위 : 천원),\n",
       "     구분    1년 미만  1년~2년 미만  2년~5년 미만  5년~10년 미만    10년 초과\n",
       " 0  지급액  1935240   2137349   8734184   21823416  87094182,\n",
       "        0          1\n",
       " 0  (전기말)  (단위 : 천원),\n",
       "     구분    1년 미만  1년~2년 미만  2년~5년 미만  5년~10년 미만    10년 초과\n",
       " 0  지급액  1511215   1799857   8129232   19814023  84750289]"
      ]
     },
     "execution_count": 8,
     "metadata": {},
     "output_type": "execute_result"
    }
   ],
   "source": [
    "data_list"
   ]
  }
 ],
 "metadata": {
  "kernelspec": {
   "display_name": "data-gatherer-venv",
   "language": "python",
   "name": "python3"
  },
  "language_info": {
   "codemirror_mode": {
    "name": "ipython",
    "version": 3
   },
   "file_extension": ".py",
   "mimetype": "text/x-python",
   "name": "python",
   "nbconvert_exporter": "python",
   "pygments_lexer": "ipython3",
   "version": "3.10.8"
  }
 },
 "nbformat": 4,
 "nbformat_minor": 2
}
