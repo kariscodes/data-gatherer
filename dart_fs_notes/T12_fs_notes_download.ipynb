{
 "cells": [
  {
   "cell_type": "markdown",
   "metadata": {},
   "source": [
    "### 사업보고서 \"재무제표 주석\" 문서 다운로드\n",
    "* 파일명: <corp_code>_<recpt_no>_fs_notes.html"
   ]
  },
  {
   "cell_type": "code",
   "execution_count": 2,
   "metadata": {},
   "outputs": [
    {
     "data": {
      "text/plain": [
       "True"
      ]
     },
     "execution_count": 2,
     "metadata": {},
     "output_type": "execute_result"
    }
   ],
   "source": [
    "# import OpenDartReader\n",
    "# api_key = 'f2e08d4ed3de0ba3d5cbf59c04c223e02b1751a2'\n",
    "# dart = OpenDartReader(api_key)\n",
    "\n",
    "import sys\n",
    "module_path = \"D:\\PythonProject\\data-gatherer\\dart_fs_notes\"\n",
    "sys.path.append(module_path)\n",
    "import mydart\n",
    "\n",
    "# URL을 읽어서 지정한 파일명으로 다운로드\n",
    "root = 'D:/PythonProject/data-gatherer/dart_fs_notes/fs_notes_files/'\n",
    "corp_code = '00127802'\n",
    "doc_url = 'http://dart.fss.or.kr/report/viewer.do?rcpNo=20150330000271&dcmNo=4539806&eleId=16&offset=328533&length=307627&dtd=dart3.xsd'\n",
    "rcept_no = '20150330000271'\n",
    "file_path = root + corp_code + '_' + rcept_no + '_fs_notes' + '.html'\n",
    "mydart.html_download(doc_url, file_path)"
   ]
  }
 ],
 "metadata": {
  "kernelspec": {
   "display_name": "data-gatherer.venv",
   "language": "python",
   "name": "python3"
  },
  "language_info": {
   "codemirror_mode": {
    "name": "ipython",
    "version": 3
   },
   "file_extension": ".py",
   "mimetype": "text/x-python",
   "name": "python",
   "nbconvert_exporter": "python",
   "pygments_lexer": "ipython3",
   "version": "3.10.8"
  },
  "orig_nbformat": 4
 },
 "nbformat": 4,
 "nbformat_minor": 2
}
