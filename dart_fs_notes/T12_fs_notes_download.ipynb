{
 "cells": [
  {
   "cell_type": "markdown",
   "metadata": {},
   "source": [
    "### 사업보고서 \"재무제표 주석\" 문서 다운로드"
   ]
  },
  {
   "cell_type": "markdown",
   "metadata": {},
   "source": [
    "* 사업보고서 재무제표 주석 문서(html) 다운로드 - [입력] rcept_no, doc_url"
   ]
  },
  {
   "cell_type": "code",
   "execution_count": 2,
   "metadata": {},
   "outputs": [
    {
     "data": {
      "text/plain": [
       "True"
      ]
     },
     "execution_count": 2,
     "metadata": {},
     "output_type": "execute_result"
    }
   ],
   "source": [
    "import sys\n",
    "module_path = \"D:\\PythonProject\\data-gatherer\\dart_fs_notes\"\n",
    "sys.path.append(module_path)\n",
    "import mydart\n",
    "\n",
    "# URL을 읽어서 지정한 파일명으로 다운로드\n",
    "root = 'D:/PythonProject/data-gatherer/dart_fs_notes/fs_notes_files/'\n",
    "doc_url = 'http://dart.fss.or.kr/report/viewer.do?rcpNo=20150330000271&dcmNo=4539806&eleId=16&offset=328533&length=307627&dtd=dart3.xsd'\n",
    "rcept_no = '20150330000271'\n",
    "file_path = root + rcept_no + '_fs_notes' + '.html'\n",
    "mydart.html_download(doc_url, file_path)"
   ]
  },
  {
   "cell_type": "markdown",
   "metadata": {},
   "source": [
    "* 사업보고서 재무제표 주석 문서(html) 다운로드 - [입력] corp_code, rcept_no"
   ]
  },
  {
   "cell_type": "code",
   "execution_count": 2,
   "metadata": {},
   "outputs": [
    {
     "data": {
      "text/plain": [
       "True"
      ]
     },
     "execution_count": 2,
     "metadata": {},
     "output_type": "execute_result"
    }
   ],
   "source": [
    "import OpenDartReader\n",
    "api_key = 'f2e08d4ed3de0ba3d5cbf59c04c223e02b1751a2'\n",
    "dart = OpenDartReader(api_key)\n",
    "\n",
    "import sys\n",
    "module_path = \"D:\\PythonProject\\data-gatherer\\dart_fs_notes\"\n",
    "sys.path.append(module_path)\n",
    "import mydart\n",
    "\n",
    "root = 'D:/PythonProject/data-gatherer/dart_fs_notes/sample/'\n",
    "\n",
    "corp_code = '00101664'\n",
    "rcept_no = '20170331001705'\n",
    "\n",
    "df_doc = dart.sub_docs(rcept_no)     # 하루에 호출횟수 최대 100건\n",
    "df_notes = df_doc.loc[(df_doc.title.str.contains('주석')) & (~df_doc.title.str.contains('연결')),]\n",
    "if df_notes.size != 0:\n",
    "    rpt_notes_url = df_notes.iloc[0]['url']\n",
    "    \n",
    "file_path = root + corp_code + '_' + rcept_no + '_fs_notes' + '.html'\n",
    "mydart.html_download(rpt_notes_url, file_path)"
   ]
  }
 ],
 "metadata": {
  "kernelspec": {
   "display_name": "data-gatherer.venv",
   "language": "python",
   "name": "python3"
  },
  "language_info": {
   "codemirror_mode": {
    "name": "ipython",
    "version": 3
   },
   "file_extension": ".py",
   "mimetype": "text/x-python",
   "name": "python",
   "nbconvert_exporter": "python",
   "pygments_lexer": "ipython3",
   "version": "3.10.8"
  },
  "orig_nbformat": 4
 },
 "nbformat": 4,
 "nbformat_minor": 2
}
