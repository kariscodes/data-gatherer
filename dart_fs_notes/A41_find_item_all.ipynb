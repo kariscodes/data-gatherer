{
 "cells": [
  {
   "cell_type": "markdown",
   "metadata": {},
   "source": [
    "### 데이터 값 목록 전체"
   ]
  },
  {
   "cell_type": "markdown",
   "metadata": {},
   "source": [
    "* 데이터 값 전체 자료를 csv 파일로 저장"
   ]
  },
  {
   "cell_type": "code",
   "execution_count": 2,
   "metadata": {},
   "outputs": [],
   "source": [
    "import os\n",
    "import pandas as pd\n",
    "\n",
    "# 파일 저장 위치\n",
    "path_dir = \"D:/PythonProject/data-gatherer/dart_fs_notes/items/\"\n",
    "file_list = os.listdir(path_dir)\n",
    "\n",
    "df_all = pd.DataFrame()    \n",
    "for file_name in file_list:\n",
    "    if file_name != 'items_all.csv' and not file_name.startswith('__'):\n",
    "        df = pd.read_csv(path_dir + file_name, dtype=object)\n",
    "        df_all = pd.concat([df_all, df])\n",
    "    \n",
    "df_all.drop_duplicates(subset=['corp_code','rpt_num'], keep='first', inplace=True, ignore_index=True)            \n",
    "df_all.to_csv(path_dir + 'items_all.csv', index=False)"
   ]
  },
  {
   "cell_type": "markdown",
   "metadata": {},
   "source": [
    "### 파일에 저장된 데이터 값 목록 검색"
   ]
  },
  {
   "cell_type": "code",
   "execution_count": 3,
   "metadata": {},
   "outputs": [
    {
     "name": "stdout",
     "output_type": "stream",
     "text": [
      "기업 342, 사업보고서 2444\n"
     ]
    }
   ],
   "source": [
    "import pandas as pd\n",
    "# 데이터 Loading\n",
    "path_dir = \"D:/PythonProject/data-gatherer/dart_fs_notes/items/\"\n",
    "df = pd.read_csv(path_dir + 'items_all.csv', dtype=object)\n",
    "num_of_rpt = int(df.shape[0])\n",
    "num_of_corp = len(df['corp_code'].unique())\n",
    "print(f\"기업 {num_of_corp}, 사업보고서 {num_of_rpt}\")"
   ]
  },
  {
   "cell_type": "code",
   "execution_count": 4,
   "metadata": {},
   "outputs": [
    {
     "data": {
      "text/plain": [
       "doc_result\n",
       "OK                              2367\n",
       "No Financial Statement Notes      77\n",
       "Name: count, dtype: int64"
      ]
     },
     "execution_count": 4,
     "metadata": {},
     "output_type": "execute_result"
    }
   ],
   "source": [
    "df['doc_result'].value_counts()"
   ]
  },
  {
   "cell_type": "code",
   "execution_count": 5,
   "metadata": {},
   "outputs": [
    {
     "data": {
      "text/plain": [
       "unit\n",
       "천원     1643\n",
       "백만원     323\n",
       "원       180\n",
       "Name: count, dtype: int64"
      ]
     },
     "execution_count": 5,
     "metadata": {},
     "output_type": "execute_result"
    }
   ],
   "source": [
    "df['unit'].value_counts()"
   ]
  },
  {
   "cell_type": "code",
   "execution_count": 10,
   "metadata": {},
   "outputs": [],
   "source": [
    "import sys\n",
    "module_path = \"D:\\PythonProject\\data-gatherer\\dart_fs_notes\"\n",
    "sys.path.append(module_path)\n",
    "import myutil"
   ]
  },
  {
   "cell_type": "code",
   "execution_count": 21,
   "metadata": {},
   "outputs": [],
   "source": [
    "result_chk = df[['doc_result', 'item_result']].value_counts()\n",
    "df_result_chk = pd.DataFrame(result_chk)\n",
    "df_result_chk.reset_index(inplace=True)\n",
    "df_result_chk.to_csv(\"D:/PythonProject/data-gatherer/dart_fs_notes/output/\" + \"result_chk_\" + myutil.now_dt_str() + \".csv\", index=False)"
   ]
  },
  {
   "cell_type": "code",
   "execution_count": 22,
   "metadata": {},
   "outputs": [],
   "source": [
    "# 수기 보정 필요한 건\n",
    "str_expr = \"val_a == '-1.0' or val_b == '-1.0'\"\n",
    "df_except = df.query(str_expr)\n",
    "df_except.to_csv(\"D:/PythonProject/data-gatherer/dart_fs_notes/output/\" + \"except_\" + myutil.now_dt_str() + \".csv\", index=False)"
   ]
  },
  {
   "cell_type": "code",
   "execution_count": 23,
   "metadata": {},
   "outputs": [],
   "source": [
    "# 오류 찾기: \"금액 단위 찾기 오류\" ~ 재무제표 주석 문서가 있으면서 단위는 없고 금액은 있는 것\n",
    "df_err_chk1 = df.query(\"doc_result == 'OK' and unit.isna() and (val_a != '0.0' or val_b != '0.0')\")\n",
    "df_err_chk1.to_csv(\"D:/PythonProject/data-gatherer/dart_fs_notes/output/\" + \"err_chk1_\" + myutil.now_dt_str() + \".csv\", index=False)"
   ]
  },
  {
   "cell_type": "code",
   "execution_count": 24,
   "metadata": {},
   "outputs": [],
   "source": [
    "# 오류 찾기: \"값 찾기 오류\" ~ 재무제표 주석 문서가 있으면서 val_a는 못 찾고 val_b는 찾은 경우\n",
    "df_err_chk2 = df.query(\"doc_result == 'OK' and val_a == '0.0' and val_b != '0.0'\")\n",
    "df_err_chk2.to_csv(\"D:/PythonProject/data-gatherer/dart_fs_notes/output/\" + \"err_chk2_\" + myutil.now_dt_str() + \".csv\", index=False)"
   ]
  },
  {
   "cell_type": "code",
   "execution_count": 25,
   "metadata": {},
   "outputs": [],
   "source": [
    "# 오류 찾기: 재무제표 주석 문서가 있으면서 금액과 단위가 없는 것 ~ 오류인지 아닌지 직접 확인 필요\n",
    "df_err_chk3 = df.query(\"doc_result == 'OK' and unit.isna() and val_a == '0.0' and val_b == '0.0'\")\n",
    "df_err_chk3.to_csv(\"D:/PythonProject/data-gatherer/dart_fs_notes/output/\" + \"err_chk3_\" + myutil.now_dt_str() + \".csv\", index=False)"
   ]
  }
 ],
 "metadata": {
  "kernelspec": {
   "display_name": "data-gatherer.venv",
   "language": "python",
   "name": "python3"
  },
  "language_info": {
   "codemirror_mode": {
    "name": "ipython",
    "version": 3
   },
   "file_extension": ".py",
   "mimetype": "text/x-python",
   "name": "python",
   "nbconvert_exporter": "python",
   "pygments_lexer": "ipython3",
   "version": "3.10.8"
  },
  "orig_nbformat": 4
 },
 "nbformat": 4,
 "nbformat_minor": 2
}
