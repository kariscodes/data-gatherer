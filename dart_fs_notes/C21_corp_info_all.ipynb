{
 "cells": [
  {
   "cell_type": "markdown",
   "metadata": {},
   "source": [
    "### 기업개황정보 전체"
   ]
  },
  {
   "cell_type": "markdown",
   "metadata": {},
   "source": [
    "* 기업개황정보 전체 자료를 csv 파일로 저장"
   ]
  },
  {
   "cell_type": "code",
   "execution_count": 5,
   "metadata": {},
   "outputs": [],
   "source": [
    "import os\n",
    "import pandas as pd\n",
    "\n",
    "# 파일 저장 위치\n",
    "path_dir = \"D:/PythonProject/data-gatherer/dart_fs_notes/company/\"\n",
    "file_list = os.listdir(path_dir)\n",
    "\n",
    "df_all = pd.DataFrame()    \n",
    "for file_name in file_list:\n",
    "    if 'corp_info_' in file_name and file_name != 'corp_info_all.csv':            \n",
    "        df = pd.read_csv(path_dir + file_name, dtype=object)\n",
    "        df_all = pd.concat([df_all, df])\n",
    "    \n",
    "df_all.drop_duplicates(subset=['corp_code'], keep='first', inplace=True, ignore_index=True)            \n",
    "df_all.to_csv(path_dir + 'corp_info_all.csv', index=False)"
   ]
  }
 ],
 "metadata": {
  "kernelspec": {
   "display_name": "data-gatherer.venv",
   "language": "python",
   "name": "python3"
  },
  "language_info": {
   "codemirror_mode": {
    "name": "ipython",
    "version": 3
   },
   "file_extension": ".py",
   "mimetype": "text/x-python",
   "name": "python",
   "nbconvert_exporter": "python",
   "pygments_lexer": "ipython3",
   "version": "3.10.8"
  },
  "orig_nbformat": 4
 },
 "nbformat": 4,
 "nbformat_minor": 2
}
