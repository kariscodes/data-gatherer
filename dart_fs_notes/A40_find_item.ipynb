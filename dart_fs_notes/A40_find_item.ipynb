{
 "cells": [
  {
   "cell_type": "markdown",
   "metadata": {},
   "source": [
    "### 데이터 값 찾기"
   ]
  },
  {
   "cell_type": "markdown",
   "metadata": {},
   "source": [
    "* 문서 URL 목록 가져오기"
   ]
  },
  {
   "cell_type": "code",
   "execution_count": null,
   "metadata": {},
   "outputs": [
    {
     "data": {
      "text/plain": [
       "342"
      ]
     },
     "execution_count": 40,
     "metadata": {},
     "output_type": "execute_result"
    }
   ],
   "source": [
    "import pandas as pd\n",
    "\n",
    "# 사업보고서 제무제표 주석 문서 URL 목록\n",
    "file_path = \"D:/PythonProject/data-gatherer/dart_fs_notes/fs_notes_urls/fs_notes_url_all.csv\"\n",
    "fs_notes_all = pd.read_csv(file_path, dtype=object)\n",
    "# 회사코드 정렬\n",
    "fs_notes_all = fs_notes_all.sort_values(by=['corp_code'], ascending=True)\n",
    "# 회사코드 목록\n",
    "list_all_codes = fs_notes_all['corp_code'].unique()\n",
    "len(list_all_codes)"
   ]
  },
  {
   "cell_type": "markdown",
   "metadata": {},
   "source": [
    "* 이미 데이터 값을 찾은 것은 대상에서 제외"
   ]
  },
  {
   "cell_type": "code",
   "execution_count": 54,
   "metadata": {},
   "outputs": [
    {
     "data": {
      "text/plain": [
       "0"
      ]
     },
     "execution_count": 54,
     "metadata": {},
     "output_type": "execute_result"
    }
   ],
   "source": [
    "import os.path\n",
    "\n",
    "# 이미 데이터 값을 찾은 회사코드 목록\n",
    "file_path = \"D:/PythonProject/data-gatherer/dart_fs_notes/items/items_all.csv\"\n",
    " \n",
    "if os.path.exists(file_path):\n",
    "    try:\n",
    "        items_all = pd.read_csv(file_path, dtype=object)\n",
    "        list_own_codes = items_all['corp_code'].unique()\n",
    "    except pd.errors.EmptyDataError:\n",
    "        list_own_codes = []    \n",
    "else:\n",
    "    list_own_codes = []\n",
    "    \n",
    "len(list_own_codes)"
   ]
  },
  {
   "cell_type": "code",
   "execution_count": 55,
   "metadata": {},
   "outputs": [
    {
     "data": {
      "text/plain": [
       "342"
      ]
     },
     "execution_count": 55,
     "metadata": {},
     "output_type": "execute_result"
    }
   ],
   "source": [
    "# 리스트에서 중복 제거 (이미 corp info가 있는 경우 대상에서 제외)\n",
    "list_target_codes = list(set(list_all_codes) - set(list_own_codes))\n",
    "len(list_target_codes)"
   ]
  },
  {
   "cell_type": "markdown",
   "metadata": {},
   "source": [
    "* 리스트 분할"
   ]
  },
  {
   "cell_type": "code",
   "execution_count": 60,
   "metadata": {},
   "outputs": [
    {
     "data": {
      "text/plain": [
       "4"
      ]
     },
     "execution_count": 60,
     "metadata": {},
     "output_type": "execute_result"
    }
   ],
   "source": [
    "list_cnt = len(list_target_codes)\n",
    "n = 100\n",
    "list_of_lists = [list_target_codes[i * n:(i + 1) * n] for i in range((list_cnt + n - 1) // n )] \n",
    "len(list_of_lists)"
   ]
  },
  {
   "cell_type": "markdown",
   "metadata": {},
   "source": [
    "* 항목과 값 찾기: 확정급여채무의 현재가치, 사외적립자산의 공정가치"
   ]
  },
  {
   "cell_type": "code",
   "execution_count": 61,
   "metadata": {},
   "outputs": [],
   "source": [
    "import traceback\n",
    "from time import sleep\n",
    "import requests\n",
    "from bs4 import BeautifulSoup\n",
    "import re\n",
    "\n",
    "import sys\n",
    "module_path = \"D:\\PythonProject\\data-gatherer\\dart_fs_notes\"\n",
    "sys.path.append(module_path)\n",
    "import myutil, mydart\n",
    "\n",
    "# USER_AGENT = \"Mozilla/5.0 (Windows NT 10.0; Win64; x64) AppleWebKit/537.36 (KHTML, like Gecko) Chrome/120.0.0.0 Safari/537.36\"\n",
    "# headers = {'User-Agent': USER_AGENT}\n",
    "\n",
    "# # 금액 단위 찾기\n",
    "# def get_unit(text):\n",
    "#     if '(단위:백만원)' in text or '[단위:백만원]' in text: unit = '백만원'\n",
    "#     elif '(단위:천원)' in text or '[단위:천원]' in text: unit = '천원'\n",
    "#     elif '(단위:원)' in text or '[단위:원]' in text: unit = '원'\n",
    "#     else: unit = None   \n",
    "#     return unit\n",
    "\n",
    "# # 콤마와 괄호를 제거한다.\n",
    "# def str2num(x):\n",
    "#     if \",\" in x: x = x.replace(\",\",\"\")\n",
    "#     if \"(-)\" in x: x = x.replace(\"(-)\",\"\")    \n",
    "#     if x.startswith(\"(\"): x = x.lstrip(\"(\")\n",
    "#     if x.endswith(\")\"): x = x.rstrip(\")\")\n",
    "#     return float(x)\n",
    "\n",
    "# # 재무제표 주석 문서에서 사용된 금액 단위 찾기\n",
    "# def find_unit(doc_url):\n",
    "#     unit = None\n",
    "#     response = requests.get(doc_url)\n",
    "#     if response.status_code == 200:     # URL GET '200 정상'\n",
    "#         soup = BeautifulSoup(response.text)\n",
    "#         doc_text = soup.text\n",
    "#         for a in re.finditer(r\"확정급여+[가-힣]+의 현재가치\", doc_text):\n",
    "#             sliced_text = doc_text[a.start()-100:a.start()]\n",
    "#             trimmed_text = sliced_text.replace(\" \",\"\")     # 문서에 있는 모든 공백 제거\n",
    "#             unit = get_unit(trimmed_text)\n",
    "#             if unit != None:\n",
    "#                 return unit\n",
    "#         for a in re.finditer(\"퇴직급여채무\", doc_text):\n",
    "#             sliced_text = doc_text[a.start()-100:a.start()]\n",
    "#             trimmed_text = sliced_text.replace(\" \",\"\")     # 문서에 있는 모든 공백 제거\n",
    "#             unit = get_unit(trimmed_text)\n",
    "#             if unit != None:\n",
    "#                 return unit     \n",
    "#     else:\n",
    "#         unit = None   \n",
    "#     return unit    \n",
    "\n",
    "# # 재무제표 주석 문서에서 특정 항목의 금액 찾기\n",
    "# def find_item(doc_url):\n",
    "#     val_a = val_b = 0.0                    \n",
    "#     doc_data = pd.read_html(doc_url)\n",
    "#     for df in doc_data:\n",
    "#         row = df.shape[0]\n",
    "#         for i in range(0, row):\n",
    "#             item = str(df.iloc[i,0])\n",
    "#             if item.__contains__('확정급여채무의 현재가치') or item.__contains__('확정급여부채의 현재가치') or item.__contains__('퇴직급여채무'):\n",
    "#                 # print(i, type(df.iloc[i,1]), df.iloc[i,1])\n",
    "#                 str_a = str(df.iloc[i,1])\n",
    "#                 if str_a == \"-\": val_a = 0.0\n",
    "#                 else: val_a += str2num(str_a)       # 값을 합한다.\n",
    "#             elif item.__contains__('사외적립자산의 공정가치'):\n",
    "#                 # print(i, type(df.iloc[i,1]), df.iloc[i,1])                            \n",
    "#                 str_b = str(df.iloc[i,1])\n",
    "#                 if item == str_b: val_b = -1        # 값 찾기 오류\n",
    "#                 elif str_b == \"-\": val_b = 0.0\n",
    "#                 else: val_b = str2num(str_b)\n",
    "#             else:\n",
    "#                 continue    \n",
    "#         if (val_a != 0.0) and (val_b != 0.0):\n",
    "#             break   \n",
    "#     return val_a, val_b       "
   ]
  },
  {
   "cell_type": "code",
   "execution_count": 62,
   "metadata": {},
   "outputs": [
    {
     "name": "stderr",
     "output_type": "stream",
     "text": [
      " 53%|█████▎    | 53/100 [14:55<12:12, 15.58s/it]"
     ]
    },
    {
     "name": "stdout",
     "output_type": "stream",
     "text": [
      "00112022 대원화성 20180402001524 사업보고서 (2017.12) http://dart.fss.or.kr/dsaf001/main.do?rcpNo=20180402001524 5. 재무제표 주석 http://dart.fss.or.kr/report/viewer.do?rcpNo=20180402001524&dcmNo=6047053&eleId=16&offset=856727&length=413319&dtd=dart3.xsd\n",
      "Traceback (most recent call last):\n",
      "  File \"C:\\Users\\kyungho\\AppData\\Local\\Temp\\ipykernel_16040\\3851240639.py\", line 27, in <module>\n",
      "    val_a, val_b = find_item(doc['doc_url'])\n",
      "  File \"C:\\Users\\kyungho\\AppData\\Local\\Temp\\ipykernel_16040\\805333181.py\", line 64, in find_item\n",
      "    str_a = str(df.iloc[i,1])\n",
      "  File \"d:\\PythonProject\\data-gatherer\\data-gatherer.venv\\lib\\site-packages\\pandas\\core\\indexing.py\", line 1096, in __getitem__\n",
      "    return self.obj._get_value(*key, takeable=self._takeable)\n",
      "  File \"d:\\PythonProject\\data-gatherer\\data-gatherer.venv\\lib\\site-packages\\pandas\\core\\frame.py\", line 3867, in _get_value\n",
      "    series = self._ixs(col, axis=1)\n",
      "  File \"d:\\PythonProject\\data-gatherer\\data-gatherer.venv\\lib\\site-packages\\pandas\\core\\frame.py\", line 3664, in _ixs\n",
      "    label = self.columns[i]\n",
      "  File \"d:\\PythonProject\\data-gatherer\\data-gatherer.venv\\lib\\site-packages\\pandas\\core\\indexes\\base.py\", line 5175, in __getitem__\n",
      "    return getitem(key)\n",
      "IndexError: index 1 is out of bounds for axis 0 with size 1\n",
      "\n"
     ]
    },
    {
     "name": "stderr",
     "output_type": "stream",
     "text": [
      " 53%|█████▎    | 53/100 [14:57<13:15, 16.93s/it]\n"
     ]
    },
    {
     "name": "stdout",
     "output_type": "stream",
     "text": [
      "00218575 황금에스티 20220321000623 사업보고서 (2021.12) http://dart.fss.or.kr/dsaf001/main.do?rcpNo=20220321000623 5. 재무제표 주석 http://dart.fss.or.kr/report/viewer.do?rcpNo=20220321000623&dcmNo=8482141&eleId=22&offset=722699&length=289985&dtd=dart3.xsd\n",
      "could not convert string to float: '<퇴직급여채무>'\n"
     ]
    },
    {
     "name": "stderr",
     "output_type": "stream",
     "text": [
      " 36%|███▌      | 36/100 [09:55<23:07, 21.68s/it]"
     ]
    },
    {
     "name": "stdout",
     "output_type": "stream",
     "text": [
      "00145552 이수화학 20181107000303 [기재정정]사업보고서 (2017.12) http://dart.fss.or.kr/dsaf001/main.do?rcpNo=20181107000303 5. 재무제표 주석 http://dart.fss.or.kr/report/viewer.do?rcpNo=20181107000303&dcmNo=6372797&eleId=18&offset=1100466&length=412903&dtd=dart3.xsd\n",
      "Traceback (most recent call last):\n",
      "  File \"d:\\PythonProject\\data-gatherer\\data-gatherer.venv\\lib\\site-packages\\urllib3\\connection.py\", line 200, in _new_conn\n",
      "    sock = connection.create_connection(\n",
      "  File \"d:\\PythonProject\\data-gatherer\\data-gatherer.venv\\lib\\site-packages\\urllib3\\util\\connection.py\", line 85, in create_connection\n",
      "    raise err\n",
      "  File \"d:\\PythonProject\\data-gatherer\\data-gatherer.venv\\lib\\site-packages\\urllib3\\util\\connection.py\", line 73, in create_connection\n",
      "    sock.connect(sa)\n",
      "TimeoutError: [WinError 10060] 연결된 구성원으로부터 응답이 없어 연결하지 못했거나, 호스트로부터 응답이 없어 연결이 끊어졌습니다\n",
      "\n",
      "The above exception was the direct cause of the following exception:\n",
      "\n",
      "Traceback (most recent call last):\n",
      "  File \"d:\\PythonProject\\data-gatherer\\data-gatherer.venv\\lib\\site-packages\\urllib3\\connectionpool.py\", line 790, in urlopen\n",
      "    response = self._make_request(\n",
      "  File \"d:\\PythonProject\\data-gatherer\\data-gatherer.venv\\lib\\site-packages\\urllib3\\connectionpool.py\", line 496, in _make_request\n",
      "    conn.request(\n",
      "  File \"d:\\PythonProject\\data-gatherer\\data-gatherer.venv\\lib\\site-packages\\urllib3\\connection.py\", line 388, in request\n",
      "    self.endheaders()\n",
      "  File \"C:\\Users\\kyungho\\AppData\\Local\\Programs\\Python\\Python310\\lib\\http\\client.py\", line 1277, in endheaders\n",
      "    self._send_output(message_body, encode_chunked=encode_chunked)\n",
      "  File \"C:\\Users\\kyungho\\AppData\\Local\\Programs\\Python\\Python310\\lib\\http\\client.py\", line 1037, in _send_output\n",
      "    self.send(msg)\n",
      "  File \"C:\\Users\\kyungho\\AppData\\Local\\Programs\\Python\\Python310\\lib\\http\\client.py\", line 975, in send\n",
      "    self.connect()\n",
      "  File \"d:\\PythonProject\\data-gatherer\\data-gatherer.venv\\lib\\site-packages\\urllib3\\connection.py\", line 236, in connect\n",
      "    self.sock = self._new_conn()\n",
      "  File \"d:\\PythonProject\\data-gatherer\\data-gatherer.venv\\lib\\site-packages\\urllib3\\connection.py\", line 209, in _new_conn\n",
      "    raise ConnectTimeoutError(\n",
      "urllib3.exceptions.ConnectTimeoutError: (<urllib3.connection.HTTPConnection object at 0x00000269F054A650>, 'Connection to dart.fss.or.kr timed out. (connect timeout=None)')\n",
      "\n",
      "The above exception was the direct cause of the following exception:\n",
      "\n",
      "Traceback (most recent call last):\n",
      "  File \"d:\\PythonProject\\data-gatherer\\data-gatherer.venv\\lib\\site-packages\\requests\\adapters.py\", line 486, in send\n",
      "    resp = conn.urlopen(\n",
      "  File \"d:\\PythonProject\\data-gatherer\\data-gatherer.venv\\lib\\site-packages\\urllib3\\connectionpool.py\", line 844, in urlopen\n",
      "    retries = retries.increment(\n",
      "  File \"d:\\PythonProject\\data-gatherer\\data-gatherer.venv\\lib\\site-packages\\urllib3\\util\\retry.py\", line 515, in increment\n",
      "    raise MaxRetryError(_pool, url, reason) from reason  # type: ignore[arg-type]\n",
      "urllib3.exceptions.MaxRetryError: HTTPConnectionPool(host='dart.fss.or.kr', port=80): Max retries exceeded with url: /report/viewer.do?rcpNo=20181107000303&dcmNo=6372797&eleId=18&offset=1100466&length=412903&dtd=dart3.xsd (Caused by ConnectTimeoutError(<urllib3.connection.HTTPConnection object at 0x00000269F054A650>, 'Connection to dart.fss.or.kr timed out. (connect timeout=None)'))\n",
      "\n",
      "During handling of the above exception, another exception occurred:\n",
      "\n",
      "Traceback (most recent call last):\n",
      "  File \"C:\\Users\\kyungho\\AppData\\Local\\Temp\\ipykernel_16040\\3851240639.py\", line 25, in <module>\n",
      "    unit = find_unit(doc['doc_url'])\n",
      "  File \"C:\\Users\\kyungho\\AppData\\Local\\Temp\\ipykernel_16040\\805333181.py\", line 34, in find_unit\n",
      "    response = requests.get(doc_url)\n",
      "  File \"d:\\PythonProject\\data-gatherer\\data-gatherer.venv\\lib\\site-packages\\requests\\api.py\", line 73, in get\n",
      "    return request(\"get\", url, params=params, **kwargs)\n",
      "  File \"d:\\PythonProject\\data-gatherer\\data-gatherer.venv\\lib\\site-packages\\requests\\api.py\", line 59, in request\n",
      "    return session.request(method=method, url=url, **kwargs)\n",
      "  File \"d:\\PythonProject\\data-gatherer\\data-gatherer.venv\\lib\\site-packages\\requests\\sessions.py\", line 589, in request\n",
      "    resp = self.send(prep, **send_kwargs)\n",
      "  File \"d:\\PythonProject\\data-gatherer\\data-gatherer.venv\\lib\\site-packages\\requests\\sessions.py\", line 703, in send\n",
      "    r = adapter.send(request, **kwargs)\n",
      "  File \"d:\\PythonProject\\data-gatherer\\data-gatherer.venv\\lib\\site-packages\\requests\\adapters.py\", line 507, in send\n",
      "    raise ConnectTimeout(e, request=request)\n",
      "requests.exceptions.ConnectTimeout: HTTPConnectionPool(host='dart.fss.or.kr', port=80): Max retries exceeded with url: /report/viewer.do?rcpNo=20181107000303&dcmNo=6372797&eleId=18&offset=1100466&length=412903&dtd=dart3.xsd (Caused by ConnectTimeoutError(<urllib3.connection.HTTPConnection object at 0x00000269F054A650>, 'Connection to dart.fss.or.kr timed out. (connect timeout=None)'))\n",
      "\n"
     ]
    },
    {
     "name": "stderr",
     "output_type": "stream",
     "text": [
      "100%|██████████| 100/100 [27:33<00:00, 16.54s/it]\n",
      " 39%|███▉      | 39/100 [11:38<18:11, 17.90s/it]\n"
     ]
    },
    {
     "ename": "KeyboardInterrupt",
     "evalue": "",
     "output_type": "error",
     "traceback": [
      "\u001b[1;31m---------------------------------------------------------------------------\u001b[0m",
      "\u001b[1;31mKeyboardInterrupt\u001b[0m                         Traceback (most recent call last)",
      "Cell \u001b[1;32mIn[62], line 27\u001b[0m\n\u001b[0;32m     25\u001b[0m         unit \u001b[38;5;241m=\u001b[39m find_unit(doc[\u001b[38;5;124m'\u001b[39m\u001b[38;5;124mdoc_url\u001b[39m\u001b[38;5;124m'\u001b[39m])\n\u001b[0;32m     26\u001b[0m         \u001b[38;5;66;03m# 당기말의 \"확정급여채무\"와 \"사외적립자산\" 금액 찾기\u001b[39;00m\n\u001b[1;32m---> 27\u001b[0m         val_a, val_b \u001b[38;5;241m=\u001b[39m \u001b[43mfind_item\u001b[49m\u001b[43m(\u001b[49m\u001b[43mdoc\u001b[49m\u001b[43m[\u001b[49m\u001b[38;5;124;43m'\u001b[39;49m\u001b[38;5;124;43mdoc_url\u001b[39;49m\u001b[38;5;124;43m'\u001b[39;49m\u001b[43m]\u001b[49m\u001b[43m)\u001b[49m      \n\u001b[0;32m     28\u001b[0m         data_list\u001b[38;5;241m.\u001b[39mappend({\u001b[38;5;124m'\u001b[39m\u001b[38;5;124mcorp_code\u001b[39m\u001b[38;5;124m'\u001b[39m : doc[\u001b[38;5;124m'\u001b[39m\u001b[38;5;124mcorp_code\u001b[39m\u001b[38;5;124m'\u001b[39m], \u001b[38;5;124m'\u001b[39m\u001b[38;5;124mstock_code\u001b[39m\u001b[38;5;124m'\u001b[39m : doc[\u001b[38;5;124m'\u001b[39m\u001b[38;5;124mstock_code\u001b[39m\u001b[38;5;124m'\u001b[39m], \u001b[38;5;124m'\u001b[39m\u001b[38;5;124mcorp_cls\u001b[39m\u001b[38;5;124m'\u001b[39m : doc[\u001b[38;5;124m'\u001b[39m\u001b[38;5;124mcorp_cls\u001b[39m\u001b[38;5;124m'\u001b[39m], \u001b[38;5;124m'\u001b[39m\u001b[38;5;124mcorp_name\u001b[39m\u001b[38;5;124m'\u001b[39m : doc[\u001b[38;5;124m'\u001b[39m\u001b[38;5;124mcorp_name\u001b[39m\u001b[38;5;124m'\u001b[39m], \n\u001b[0;32m     29\u001b[0m                         \u001b[38;5;124m'\u001b[39m\u001b[38;5;124mrpt_num\u001b[39m\u001b[38;5;124m'\u001b[39m : doc[\u001b[38;5;124m'\u001b[39m\u001b[38;5;124mrpt_num\u001b[39m\u001b[38;5;124m'\u001b[39m], \u001b[38;5;124m'\u001b[39m\u001b[38;5;124mrpt_name\u001b[39m\u001b[38;5;124m'\u001b[39m : doc[\u001b[38;5;124m'\u001b[39m\u001b[38;5;124mrpt_name\u001b[39m\u001b[38;5;124m'\u001b[39m], \n\u001b[0;32m     30\u001b[0m                         \u001b[38;5;124m'\u001b[39m\u001b[38;5;124mdoc_title\u001b[39m\u001b[38;5;124m'\u001b[39m : doc[\u001b[38;5;124m'\u001b[39m\u001b[38;5;124mdoc_title\u001b[39m\u001b[38;5;124m'\u001b[39m], \u001b[38;5;124m'\u001b[39m\u001b[38;5;124mdoc_result\u001b[39m\u001b[38;5;124m'\u001b[39m : doc_result, \u001b[38;5;124m'\u001b[39m\u001b[38;5;124munit\u001b[39m\u001b[38;5;124m'\u001b[39m : unit, \n\u001b[0;32m     31\u001b[0m                         \u001b[38;5;124m'\u001b[39m\u001b[38;5;124mval_a\u001b[39m\u001b[38;5;124m'\u001b[39m : val_a, \u001b[38;5;124m'\u001b[39m\u001b[38;5;124mval_b\u001b[39m\u001b[38;5;124m'\u001b[39m : val_b, \u001b[38;5;124m'\u001b[39m\u001b[38;5;124mitem_result\u001b[39m\u001b[38;5;124m'\u001b[39m : \u001b[38;5;124m'\u001b[39m\u001b[38;5;124mOK\u001b[39m\u001b[38;5;124m'\u001b[39m})\n\u001b[0;32m     32\u001b[0m \u001b[38;5;28;01mexcept\u001b[39;00m \u001b[38;5;167;01mValueError\u001b[39;00m \u001b[38;5;28;01mas\u001b[39;00m err:\n",
      "Cell \u001b[1;32mIn[61], line 57\u001b[0m, in \u001b[0;36mfind_item\u001b[1;34m(doc_url)\u001b[0m\n\u001b[0;32m     55\u001b[0m \u001b[38;5;28;01mdef\u001b[39;00m \u001b[38;5;21mfind_item\u001b[39m(doc_url):\n\u001b[0;32m     56\u001b[0m     val_a \u001b[38;5;241m=\u001b[39m val_b \u001b[38;5;241m=\u001b[39m \u001b[38;5;241m0.0\u001b[39m                    \n\u001b[1;32m---> 57\u001b[0m     doc_data \u001b[38;5;241m=\u001b[39m \u001b[43mpd\u001b[49m\u001b[38;5;241;43m.\u001b[39;49m\u001b[43mread_html\u001b[49m\u001b[43m(\u001b[49m\u001b[43mdoc_url\u001b[49m\u001b[43m)\u001b[49m\n\u001b[0;32m     58\u001b[0m     \u001b[38;5;28;01mfor\u001b[39;00m df \u001b[38;5;129;01min\u001b[39;00m doc_data:\n\u001b[0;32m     59\u001b[0m         row \u001b[38;5;241m=\u001b[39m df\u001b[38;5;241m.\u001b[39mshape[\u001b[38;5;241m0\u001b[39m]\n",
      "File \u001b[1;32md:\\PythonProject\\data-gatherer\\data-gatherer.venv\\lib\\site-packages\\pandas\\io\\html.py:1212\u001b[0m, in \u001b[0;36mread_html\u001b[1;34m(io, match, flavor, header, index_col, skiprows, attrs, parse_dates, thousands, encoding, decimal, converters, na_values, keep_default_na, displayed_only, extract_links, dtype_backend)\u001b[0m\n\u001b[0;32m   1208\u001b[0m check_dtype_backend(dtype_backend)\n\u001b[0;32m   1210\u001b[0m io \u001b[38;5;241m=\u001b[39m stringify_path(io)\n\u001b[1;32m-> 1212\u001b[0m \u001b[38;5;28;01mreturn\u001b[39;00m \u001b[43m_parse\u001b[49m\u001b[43m(\u001b[49m\n\u001b[0;32m   1213\u001b[0m \u001b[43m    \u001b[49m\u001b[43mflavor\u001b[49m\u001b[38;5;241;43m=\u001b[39;49m\u001b[43mflavor\u001b[49m\u001b[43m,\u001b[49m\n\u001b[0;32m   1214\u001b[0m \u001b[43m    \u001b[49m\u001b[43mio\u001b[49m\u001b[38;5;241;43m=\u001b[39;49m\u001b[43mio\u001b[49m\u001b[43m,\u001b[49m\n\u001b[0;32m   1215\u001b[0m \u001b[43m    \u001b[49m\u001b[43mmatch\u001b[49m\u001b[38;5;241;43m=\u001b[39;49m\u001b[43mmatch\u001b[49m\u001b[43m,\u001b[49m\n\u001b[0;32m   1216\u001b[0m \u001b[43m    \u001b[49m\u001b[43mheader\u001b[49m\u001b[38;5;241;43m=\u001b[39;49m\u001b[43mheader\u001b[49m\u001b[43m,\u001b[49m\n\u001b[0;32m   1217\u001b[0m \u001b[43m    \u001b[49m\u001b[43mindex_col\u001b[49m\u001b[38;5;241;43m=\u001b[39;49m\u001b[43mindex_col\u001b[49m\u001b[43m,\u001b[49m\n\u001b[0;32m   1218\u001b[0m \u001b[43m    \u001b[49m\u001b[43mskiprows\u001b[49m\u001b[38;5;241;43m=\u001b[39;49m\u001b[43mskiprows\u001b[49m\u001b[43m,\u001b[49m\n\u001b[0;32m   1219\u001b[0m \u001b[43m    \u001b[49m\u001b[43mparse_dates\u001b[49m\u001b[38;5;241;43m=\u001b[39;49m\u001b[43mparse_dates\u001b[49m\u001b[43m,\u001b[49m\n\u001b[0;32m   1220\u001b[0m \u001b[43m    \u001b[49m\u001b[43mthousands\u001b[49m\u001b[38;5;241;43m=\u001b[39;49m\u001b[43mthousands\u001b[49m\u001b[43m,\u001b[49m\n\u001b[0;32m   1221\u001b[0m \u001b[43m    \u001b[49m\u001b[43mattrs\u001b[49m\u001b[38;5;241;43m=\u001b[39;49m\u001b[43mattrs\u001b[49m\u001b[43m,\u001b[49m\n\u001b[0;32m   1222\u001b[0m \u001b[43m    \u001b[49m\u001b[43mencoding\u001b[49m\u001b[38;5;241;43m=\u001b[39;49m\u001b[43mencoding\u001b[49m\u001b[43m,\u001b[49m\n\u001b[0;32m   1223\u001b[0m \u001b[43m    \u001b[49m\u001b[43mdecimal\u001b[49m\u001b[38;5;241;43m=\u001b[39;49m\u001b[43mdecimal\u001b[49m\u001b[43m,\u001b[49m\n\u001b[0;32m   1224\u001b[0m \u001b[43m    \u001b[49m\u001b[43mconverters\u001b[49m\u001b[38;5;241;43m=\u001b[39;49m\u001b[43mconverters\u001b[49m\u001b[43m,\u001b[49m\n\u001b[0;32m   1225\u001b[0m \u001b[43m    \u001b[49m\u001b[43mna_values\u001b[49m\u001b[38;5;241;43m=\u001b[39;49m\u001b[43mna_values\u001b[49m\u001b[43m,\u001b[49m\n\u001b[0;32m   1226\u001b[0m \u001b[43m    \u001b[49m\u001b[43mkeep_default_na\u001b[49m\u001b[38;5;241;43m=\u001b[39;49m\u001b[43mkeep_default_na\u001b[49m\u001b[43m,\u001b[49m\n\u001b[0;32m   1227\u001b[0m \u001b[43m    \u001b[49m\u001b[43mdisplayed_only\u001b[49m\u001b[38;5;241;43m=\u001b[39;49m\u001b[43mdisplayed_only\u001b[49m\u001b[43m,\u001b[49m\n\u001b[0;32m   1228\u001b[0m \u001b[43m    \u001b[49m\u001b[43mextract_links\u001b[49m\u001b[38;5;241;43m=\u001b[39;49m\u001b[43mextract_links\u001b[49m\u001b[43m,\u001b[49m\n\u001b[0;32m   1229\u001b[0m \u001b[43m    \u001b[49m\u001b[43mdtype_backend\u001b[49m\u001b[38;5;241;43m=\u001b[39;49m\u001b[43mdtype_backend\u001b[49m\u001b[43m,\u001b[49m\n\u001b[0;32m   1230\u001b[0m \u001b[43m\u001b[49m\u001b[43m)\u001b[49m\n",
      "File \u001b[1;32md:\\PythonProject\\data-gatherer\\data-gatherer.venv\\lib\\site-packages\\pandas\\io\\html.py:981\u001b[0m, in \u001b[0;36m_parse\u001b[1;34m(flavor, io, match, attrs, encoding, displayed_only, extract_links, **kwargs)\u001b[0m\n\u001b[0;32m    978\u001b[0m p \u001b[38;5;241m=\u001b[39m parser(io, compiled_match, attrs, encoding, displayed_only, extract_links)\n\u001b[0;32m    980\u001b[0m \u001b[38;5;28;01mtry\u001b[39;00m:\n\u001b[1;32m--> 981\u001b[0m     tables \u001b[38;5;241m=\u001b[39m \u001b[43mp\u001b[49m\u001b[38;5;241;43m.\u001b[39;49m\u001b[43mparse_tables\u001b[49m\u001b[43m(\u001b[49m\u001b[43m)\u001b[49m\n\u001b[0;32m    982\u001b[0m \u001b[38;5;28;01mexcept\u001b[39;00m \u001b[38;5;167;01mValueError\u001b[39;00m \u001b[38;5;28;01mas\u001b[39;00m caught:\n\u001b[0;32m    983\u001b[0m     \u001b[38;5;66;03m# if `io` is an io-like object, check if it's seekable\u001b[39;00m\n\u001b[0;32m    984\u001b[0m     \u001b[38;5;66;03m# and try to rewind it before trying the next parser\u001b[39;00m\n\u001b[0;32m    985\u001b[0m     \u001b[38;5;28;01mif\u001b[39;00m \u001b[38;5;28mhasattr\u001b[39m(io, \u001b[38;5;124m\"\u001b[39m\u001b[38;5;124mseekable\u001b[39m\u001b[38;5;124m\"\u001b[39m) \u001b[38;5;129;01mand\u001b[39;00m io\u001b[38;5;241m.\u001b[39mseekable():\n",
      "File \u001b[1;32md:\\PythonProject\\data-gatherer\\data-gatherer.venv\\lib\\site-packages\\pandas\\io\\html.py:257\u001b[0m, in \u001b[0;36m_HtmlFrameParser.parse_tables\u001b[1;34m(self)\u001b[0m\n\u001b[0;32m    249\u001b[0m \u001b[38;5;28;01mdef\u001b[39;00m \u001b[38;5;21mparse_tables\u001b[39m(\u001b[38;5;28mself\u001b[39m):\n\u001b[0;32m    250\u001b[0m \u001b[38;5;250m    \u001b[39m\u001b[38;5;124;03m\"\"\"\u001b[39;00m\n\u001b[0;32m    251\u001b[0m \u001b[38;5;124;03m    Parse and return all tables from the DOM.\u001b[39;00m\n\u001b[0;32m    252\u001b[0m \n\u001b[1;32m   (...)\u001b[0m\n\u001b[0;32m    255\u001b[0m \u001b[38;5;124;03m    list of parsed (header, body, footer) tuples from tables.\u001b[39;00m\n\u001b[0;32m    256\u001b[0m \u001b[38;5;124;03m    \"\"\"\u001b[39;00m\n\u001b[1;32m--> 257\u001b[0m     tables \u001b[38;5;241m=\u001b[39m \u001b[38;5;28mself\u001b[39m\u001b[38;5;241m.\u001b[39m_parse_tables(\u001b[38;5;28;43mself\u001b[39;49m\u001b[38;5;241;43m.\u001b[39;49m\u001b[43m_build_doc\u001b[49m\u001b[43m(\u001b[49m\u001b[43m)\u001b[49m, \u001b[38;5;28mself\u001b[39m\u001b[38;5;241m.\u001b[39mmatch, \u001b[38;5;28mself\u001b[39m\u001b[38;5;241m.\u001b[39mattrs)\n\u001b[0;32m    258\u001b[0m     \u001b[38;5;28;01mreturn\u001b[39;00m (\u001b[38;5;28mself\u001b[39m\u001b[38;5;241m.\u001b[39m_parse_thead_tbody_tfoot(table) \u001b[38;5;28;01mfor\u001b[39;00m table \u001b[38;5;129;01min\u001b[39;00m tables)\n",
      "File \u001b[1;32md:\\PythonProject\\data-gatherer\\data-gatherer.venv\\lib\\site-packages\\pandas\\io\\html.py:798\u001b[0m, in \u001b[0;36m_LxmlFrameParser._build_doc\u001b[1;34m(self)\u001b[0m\n\u001b[0;32m    796\u001b[0m \u001b[38;5;28;01mif\u001b[39;00m is_url(\u001b[38;5;28mself\u001b[39m\u001b[38;5;241m.\u001b[39mio):\n\u001b[0;32m    797\u001b[0m     \u001b[38;5;28;01mwith\u001b[39;00m urlopen(\u001b[38;5;28mself\u001b[39m\u001b[38;5;241m.\u001b[39mio) \u001b[38;5;28;01mas\u001b[39;00m f:\n\u001b[1;32m--> 798\u001b[0m         r \u001b[38;5;241m=\u001b[39m \u001b[43mparse\u001b[49m\u001b[43m(\u001b[49m\u001b[43mf\u001b[49m\u001b[43m,\u001b[49m\u001b[43m \u001b[49m\u001b[43mparser\u001b[49m\u001b[38;5;241;43m=\u001b[39;49m\u001b[43mparser\u001b[49m\u001b[43m)\u001b[49m\n\u001b[0;32m    799\u001b[0m \u001b[38;5;28;01melse\u001b[39;00m:\n\u001b[0;32m    800\u001b[0m     \u001b[38;5;66;03m# try to parse the input in the simplest way\u001b[39;00m\n\u001b[0;32m    801\u001b[0m     r \u001b[38;5;241m=\u001b[39m parse(\u001b[38;5;28mself\u001b[39m\u001b[38;5;241m.\u001b[39mio, parser\u001b[38;5;241m=\u001b[39mparser)\n",
      "File \u001b[1;32md:\\PythonProject\\data-gatherer\\data-gatherer.venv\\lib\\site-packages\\lxml\\html\\__init__.py:937\u001b[0m, in \u001b[0;36mparse\u001b[1;34m(filename_or_url, parser, base_url, **kw)\u001b[0m\n\u001b[0;32m    935\u001b[0m \u001b[38;5;28;01mif\u001b[39;00m parser \u001b[38;5;129;01mis\u001b[39;00m \u001b[38;5;28;01mNone\u001b[39;00m:\n\u001b[0;32m    936\u001b[0m     parser \u001b[38;5;241m=\u001b[39m html_parser\n\u001b[1;32m--> 937\u001b[0m \u001b[38;5;28;01mreturn\u001b[39;00m etree\u001b[38;5;241m.\u001b[39mparse(filename_or_url, parser, base_url\u001b[38;5;241m=\u001b[39mbase_url, \u001b[38;5;241m*\u001b[39m\u001b[38;5;241m*\u001b[39mkw)\n",
      "File \u001b[1;32msrc\\lxml\\etree.pyx:3541\u001b[0m, in \u001b[0;36mlxml.etree.parse\u001b[1;34m()\u001b[0m\n",
      "File \u001b[1;32msrc\\lxml\\parser.pxi:1900\u001b[0m, in \u001b[0;36mlxml.etree._parseDocument\u001b[1;34m()\u001b[0m\n",
      "File \u001b[1;32msrc\\lxml\\parser.pxi:1920\u001b[0m, in \u001b[0;36mlxml.etree._parseFilelikeDocument\u001b[1;34m()\u001b[0m\n",
      "File \u001b[1;32msrc\\lxml\\parser.pxi:1814\u001b[0m, in \u001b[0;36mlxml.etree._parseDocFromFilelike\u001b[1;34m()\u001b[0m\n",
      "File \u001b[1;32msrc\\lxml\\parser.pxi:1204\u001b[0m, in \u001b[0;36mlxml.etree._BaseParser._parseDocFromFilelike\u001b[1;34m()\u001b[0m\n",
      "File \u001b[1;32msrc\\lxml\\parser.pxi:618\u001b[0m, in \u001b[0;36mlxml.etree._ParserContext._handleParseResultDoc\u001b[1;34m()\u001b[0m\n",
      "File \u001b[1;32msrc\\lxml\\parser.pxi:724\u001b[0m, in \u001b[0;36mlxml.etree._handleParseResult\u001b[1;34m()\u001b[0m\n",
      "File \u001b[1;32msrc\\lxml\\etree.pyx:334\u001b[0m, in \u001b[0;36mlxml.etree._ExceptionContext._raise_if_stored\u001b[1;34m()\u001b[0m\n",
      "File \u001b[1;32msrc\\lxml\\parser.pxi:370\u001b[0m, in \u001b[0;36mlxml.etree._FileReaderContext.copyToBuffer\u001b[1;34m()\u001b[0m\n",
      "File \u001b[1;32m~\\AppData\\Local\\Programs\\Python\\Python310\\lib\\http\\client.py:450\u001b[0m, in \u001b[0;36mHTTPResponse.read\u001b[1;34m(self, amt)\u001b[0m\n\u001b[0;32m    442\u001b[0m     \u001b[38;5;66;03m# NOTE: it is possible that we will not ever call self.close(). This\u001b[39;00m\n\u001b[0;32m    443\u001b[0m     \u001b[38;5;66;03m#       case occurs when will_close is TRUE, length is None, and we\u001b[39;00m\n\u001b[0;32m    444\u001b[0m     \u001b[38;5;66;03m#       read up to the last byte, but NOT past it.\u001b[39;00m\n\u001b[0;32m    445\u001b[0m     \u001b[38;5;66;03m#\u001b[39;00m\n\u001b[0;32m    446\u001b[0m     \u001b[38;5;66;03m# IMPLIES: if will_close is FALSE, then self.close() will ALWAYS be\u001b[39;00m\n\u001b[0;32m    447\u001b[0m     \u001b[38;5;66;03m#          called, meaning self.isclosed() is meaningful.\u001b[39;00m\n\u001b[0;32m    448\u001b[0m     \u001b[38;5;28;01mreturn\u001b[39;00m \u001b[38;5;28mself\u001b[39m\u001b[38;5;241m.\u001b[39mfp \u001b[38;5;129;01mis\u001b[39;00m \u001b[38;5;28;01mNone\u001b[39;00m\n\u001b[1;32m--> 450\u001b[0m \u001b[38;5;28;01mdef\u001b[39;00m \u001b[38;5;21mread\u001b[39m(\u001b[38;5;28mself\u001b[39m, amt\u001b[38;5;241m=\u001b[39m\u001b[38;5;28;01mNone\u001b[39;00m):\n\u001b[0;32m    451\u001b[0m     \u001b[38;5;28;01mif\u001b[39;00m \u001b[38;5;28mself\u001b[39m\u001b[38;5;241m.\u001b[39mfp \u001b[38;5;129;01mis\u001b[39;00m \u001b[38;5;28;01mNone\u001b[39;00m:\n\u001b[0;32m    452\u001b[0m         \u001b[38;5;28;01mreturn\u001b[39;00m \u001b[38;5;124mb\u001b[39m\u001b[38;5;124m\"\u001b[39m\u001b[38;5;124m\"\u001b[39m\n",
      "\u001b[1;31mKeyboardInterrupt\u001b[0m: "
     ]
    }
   ],
   "source": [
    "from tqdm import tqdm\n",
    "\n",
    "# 파일 저장 위치\n",
    "path_dir = \"D:/PythonProject/data-gatherer/dart_fs_notes/items/\"\n",
    "\n",
    "for corp_codes in list_of_lists:\n",
    "    for corp_code in tqdm(corp_codes):\n",
    "        str_expr = \"corp_code == @corp_code\"\n",
    "        df_doc = fs_notes_all.query(str_expr)\n",
    "        doc_count = df_doc.shape[0]\n",
    "        data_list = []\n",
    "        for i, doc in df_doc.iterrows():\n",
    "            sleep(1.0)\n",
    "            try:\n",
    "                val_a = val_b = 0.0\n",
    "                unit = None\n",
    "                doc_result = doc['doc_result']\n",
    "                if doc_result == 'No Financial Statement Notes':\n",
    "                    data_list.append({'corp_code' : doc['corp_code'], 'stock_code' : doc['stock_code'], 'corp_cls' : doc['corp_cls'], 'corp_name' : doc['corp_name'], \n",
    "                                    'rpt_num' : doc['rpt_num'], 'rpt_name' : doc['rpt_name'], \n",
    "                                    'doc_title' : doc['doc_title'], 'doc_result' : doc_result, 'unit' : unit, \n",
    "                                    'val_a' : None, 'val_b' : None, 'item_result' : None})\n",
    "                else:\n",
    "                    # 재무제표 주석 문서에서 사용된 금액 단위 찾기 (확정급여채무)\n",
    "                    unit = mydart.find_unit(doc['doc_url'])\n",
    "                    # 당기말의 \"확정급여채무\"와 \"사외적립자산\" 금액 찾기\n",
    "                    val_a, val_b = mydart.find_item(doc['doc_url'])      \n",
    "                    data_list.append({'corp_code' : doc['corp_code'], 'stock_code' : doc['stock_code'], 'corp_cls' : doc['corp_cls'], 'corp_name' : doc['corp_name'], \n",
    "                                    'rpt_num' : doc['rpt_num'], 'rpt_name' : doc['rpt_name'], \n",
    "                                    'doc_title' : doc['doc_title'], 'doc_result' : doc_result, 'unit' : unit, \n",
    "                                    'val_a' : val_a, 'val_b' : val_b, 'item_result' : 'OK'})\n",
    "            except ValueError as err:\n",
    "                print(doc['corp_code'], doc['corp_name'], doc['rpt_num'], doc['rpt_name'], doc['rpt_url'], doc['doc_title'], doc['doc_url'])\n",
    "                print(err)\n",
    "                break\n",
    "            except Exception as e:\n",
    "                print(doc['corp_code'], doc['corp_name'], doc['rpt_num'], doc['rpt_name'], doc['rpt_url'], doc['doc_title'], doc['doc_url'])\n",
    "                err_msg = traceback.format_exc()\n",
    "                print(err_msg)\n",
    "                break\n",
    "        # 결과를 파일로 저장\n",
    "        doc_value_count = len(data_list)\n",
    "        if doc_value_count == 0:\n",
    "            break\n",
    "        elif doc_value_count == doc_count:        \n",
    "            df_items = pd.DataFrame(data_list)\n",
    "            file_name = corp_code + '_item_' + myutil.now_dt_str() + '.csv'\n",
    "            df_items.to_csv(path_dir + file_name, index=False)\n",
    "        else:\n",
    "            continue"
   ]
  }
 ],
 "metadata": {
  "kernelspec": {
   "display_name": "data-gatherer.venv",
   "language": "python",
   "name": "python3"
  },
  "language_info": {
   "codemirror_mode": {
    "name": "ipython",
    "version": 3
   },
   "file_extension": ".py",
   "mimetype": "text/x-python",
   "name": "python",
   "nbconvert_exporter": "python",
   "pygments_lexer": "ipython3",
   "version": "3.10.8"
  },
  "orig_nbformat": 4
 },
 "nbformat": 4,
 "nbformat_minor": 2
}
