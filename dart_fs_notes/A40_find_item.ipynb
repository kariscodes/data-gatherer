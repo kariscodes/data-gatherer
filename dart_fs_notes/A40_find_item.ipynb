{
 "cells": [
  {
   "cell_type": "markdown",
   "metadata": {},
   "source": [
    "### 데이터 값 찾기"
   ]
  },
  {
   "cell_type": "markdown",
   "metadata": {},
   "source": [
    "* 문서 URL 목록 가져오기"
   ]
  },
  {
   "cell_type": "code",
   "execution_count": 1,
   "metadata": {},
   "outputs": [
    {
     "data": {
      "text/plain": [
       "144"
      ]
     },
     "execution_count": 1,
     "metadata": {},
     "output_type": "execute_result"
    }
   ],
   "source": [
    "import pandas as pd\n",
    "\n",
    "# 사업보고서 제무제표 주석 문서 URL 목록\n",
    "file_path = \"D:/PythonProject/data-gatherer/dart_fs_notes/fs_notes_urls/fs_notes_url_all.csv\"\n",
    "fs_notes_all = pd.read_csv(file_path, dtype=object)\n",
    "# 회사코드 정렬\n",
    "fs_notes_all = fs_notes_all.sort_values(by=['corp_code'], ascending=True)\n",
    "# 회사코드 목록\n",
    "list_all_codes = fs_notes_all['corp_code'].unique()\n",
    "len(list_all_codes)"
   ]
  },
  {
   "cell_type": "markdown",
   "metadata": {},
   "source": [
    "* 이미 데이터 값을 찾은 것은 대상에서 제외"
   ]
  },
  {
   "cell_type": "code",
   "execution_count": 2,
   "metadata": {},
   "outputs": [
    {
     "data": {
      "text/plain": [
       "76"
      ]
     },
     "execution_count": 2,
     "metadata": {},
     "output_type": "execute_result"
    }
   ],
   "source": [
    "import os.path\n",
    "# 이미 데이터 값을 찾은 회사코드 목록\n",
    "file_path = \"D:/PythonProject/data-gatherer/dart_fs_notes/items/items_all.csv\"\n",
    "if os.path.exists(file_path):\n",
    "    items_all = pd.read_csv(file_path, dtype=object)\n",
    "    list_own_codes = items_all['corp_code'].unique()\n",
    "else:\n",
    "    list_own_codes = []\n",
    "\n",
    "len(list_own_codes)"
   ]
  },
  {
   "cell_type": "code",
   "execution_count": 3,
   "metadata": {},
   "outputs": [
    {
     "data": {
      "text/plain": [
       "69"
      ]
     },
     "execution_count": 3,
     "metadata": {},
     "output_type": "execute_result"
    }
   ],
   "source": [
    "# 리스트에서 중복 제거 (이미 corp info가 있는 경우 대상에서 제외)\n",
    "list_target_codes = list(set(list_all_codes) - set(list_own_codes))\n",
    "len(list_target_codes)"
   ]
  },
  {
   "cell_type": "markdown",
   "metadata": {},
   "source": [
    "* 리스트 분할"
   ]
  },
  {
   "cell_type": "code",
   "execution_count": 4,
   "metadata": {},
   "outputs": [
    {
     "data": {
      "text/plain": [
       "1"
      ]
     },
     "execution_count": 4,
     "metadata": {},
     "output_type": "execute_result"
    }
   ],
   "source": [
    "list_cnt = len(list_target_codes)\n",
    "n = 1000\n",
    "list_of_lists = [list_target_codes[i * n:(i + 1) * n] for i in range((list_cnt + n - 1) // n )] \n",
    "len(list_of_lists)"
   ]
  },
  {
   "cell_type": "markdown",
   "metadata": {},
   "source": [
    "* 항목과 값 찾기: 확정급여채무의 현재가치, 사외적립자산의 공정가치"
   ]
  },
  {
   "cell_type": "code",
   "execution_count": 5,
   "metadata": {},
   "outputs": [],
   "source": [
    "import traceback\n",
    "from time import sleep\n",
    "import requests\n",
    "from bs4 import BeautifulSoup\n",
    "\n",
    "import sys\n",
    "module_path = \"D:\\PythonProject\\data-gatherer\\dart_fs_notes\"\n",
    "sys.path.append(module_path)\n",
    "import myutil\n",
    "\n",
    "# 금액 단위 찾기\n",
    "def get_unit(text):\n",
    "    if '(단위:백만원)' in text or '[단위:백만원]' in text: unit = '백만원'\n",
    "    elif '(단위:천원)' in text or '[단위:천원]' in text: unit = '천원'\n",
    "    elif '(단위:원)' in text or '[단위:원]' in text: unit = '원'\n",
    "    else: unit = None   \n",
    "    return unit\n",
    "\n",
    "# 콤마와 괄호를 제거한다.\n",
    "def str2num(x):\n",
    "    if \",\" in x: x = x.replace(\",\",\"\")\n",
    "    if x.startswith(\"(\"): x = x.lstrip(\"(\")\n",
    "    if x.endswith(\")\"): x = x.rstrip(\")\")\n",
    "    return float(x)\n",
    "\n",
    "# 재무제표 주석 문서에서 사용된 금액 단위 찾기\n",
    "def find_unit(doc_url):\n",
    "    response = requests.get(doc_url)\n",
    "    if response.status_code == 200:     # URL GET '200 정상'\n",
    "        soup = BeautifulSoup(response.text)\n",
    "        doc_text = soup.text\n",
    "        trimmed_text = doc_text.replace(\" \",\"\")     # 문서에 있는 모든 공백 제거\n",
    "        unit = get_unit(trimmed_text)\n",
    "    else:\n",
    "        unit = None\n",
    "    return unit    \n",
    "\n",
    "# 재무제표 주석 문서에서 특정 항목의 금액 찾기\n",
    "def find_item(doc_url):\n",
    "    doc_data = pd.read_html(doc_url)     # data frame\n",
    "    for df in doc_data:\n",
    "        row = df.shape[0]\n",
    "        for i in range(0, row):\n",
    "            item = str(df.iloc[i,0])\n",
    "            if item.__contains__('확정급여채무의 현재가치'):\n",
    "                str_a = str(df.iloc[i,1])\n",
    "                if str_a == \"-\": val_a = 0.0\n",
    "                else: val_a += str2num(str_a)       # 값을 합한다.\n",
    "            elif item.__contains__('사외적립자산의 공정가치'):                            \n",
    "                str_b = str(df.iloc[i,1])\n",
    "                if str_b == \"-\": val_b = 0.0\n",
    "                else: val_b = str2num(str_b)\n",
    "            else:\n",
    "                continue    \n",
    "        if (val_a != 0.0) and (val_b != 0.0):\n",
    "            break\n",
    "    return val_a, val_b       "
   ]
  },
  {
   "cell_type": "code",
   "execution_count": 6,
   "metadata": {},
   "outputs": [
    {
     "name": "stdout",
     "output_type": "stream",
     "text": [
      "00100939 강남제비스코 20230320000691 사업보고서 (2022.12) http://dart.fss.or.kr/dsaf001/main.do?rcpNo=20230320000691 5. 재무제표 주석 http://dart.fss.or.kr/report/viewer.do?rcpNo=20230320000691&dcmNo=9075438&eleId=22&offset=958734&length=352589&dtd=dart3.xsd\n",
      "Traceback (most recent call last):\n",
      "  File \"d:\\PythonProject\\data-gatherer\\data-gatherer.venv\\lib\\site-packages\\urllib3\\connectionpool.py\", line 790, in urlopen\n",
      "    response = self._make_request(\n",
      "  File \"d:\\PythonProject\\data-gatherer\\data-gatherer.venv\\lib\\site-packages\\urllib3\\connectionpool.py\", line 536, in _make_request\n",
      "    response = conn.getresponse()\n",
      "  File \"d:\\PythonProject\\data-gatherer\\data-gatherer.venv\\lib\\site-packages\\urllib3\\connection.py\", line 454, in getresponse\n",
      "    httplib_response = super().getresponse()\n",
      "  File \"C:\\Users\\kyungho\\AppData\\Local\\Programs\\Python\\Python310\\lib\\http\\client.py\", line 1374, in getresponse\n",
      "    response.begin()\n",
      "  File \"C:\\Users\\kyungho\\AppData\\Local\\Programs\\Python\\Python310\\lib\\http\\client.py\", line 318, in begin\n",
      "    version, status, reason = self._read_status()\n",
      "  File \"C:\\Users\\kyungho\\AppData\\Local\\Programs\\Python\\Python310\\lib\\http\\client.py\", line 287, in _read_status\n",
      "    raise RemoteDisconnected(\"Remote end closed connection without\"\n",
      "http.client.RemoteDisconnected: Remote end closed connection without response\n",
      "\n",
      "During handling of the above exception, another exception occurred:\n",
      "\n",
      "Traceback (most recent call last):\n",
      "  File \"d:\\PythonProject\\data-gatherer\\data-gatherer.venv\\lib\\site-packages\\requests\\adapters.py\", line 486, in send\n",
      "    resp = conn.urlopen(\n",
      "  File \"d:\\PythonProject\\data-gatherer\\data-gatherer.venv\\lib\\site-packages\\urllib3\\connectionpool.py\", line 844, in urlopen\n",
      "    retries = retries.increment(\n",
      "  File \"d:\\PythonProject\\data-gatherer\\data-gatherer.venv\\lib\\site-packages\\urllib3\\util\\retry.py\", line 470, in increment\n",
      "    raise reraise(type(error), error, _stacktrace)\n",
      "  File \"d:\\PythonProject\\data-gatherer\\data-gatherer.venv\\lib\\site-packages\\urllib3\\util\\util.py\", line 38, in reraise\n",
      "    raise value.with_traceback(tb)\n",
      "  File \"d:\\PythonProject\\data-gatherer\\data-gatherer.venv\\lib\\site-packages\\urllib3\\connectionpool.py\", line 790, in urlopen\n",
      "    response = self._make_request(\n",
      "  File \"d:\\PythonProject\\data-gatherer\\data-gatherer.venv\\lib\\site-packages\\urllib3\\connectionpool.py\", line 536, in _make_request\n",
      "    response = conn.getresponse()\n",
      "  File \"d:\\PythonProject\\data-gatherer\\data-gatherer.venv\\lib\\site-packages\\urllib3\\connection.py\", line 454, in getresponse\n",
      "    httplib_response = super().getresponse()\n",
      "  File \"C:\\Users\\kyungho\\AppData\\Local\\Programs\\Python\\Python310\\lib\\http\\client.py\", line 1374, in getresponse\n",
      "    response.begin()\n",
      "  File \"C:\\Users\\kyungho\\AppData\\Local\\Programs\\Python\\Python310\\lib\\http\\client.py\", line 318, in begin\n",
      "    version, status, reason = self._read_status()\n",
      "  File \"C:\\Users\\kyungho\\AppData\\Local\\Programs\\Python\\Python310\\lib\\http\\client.py\", line 287, in _read_status\n",
      "    raise RemoteDisconnected(\"Remote end closed connection without\"\n",
      "urllib3.exceptions.ProtocolError: ('Connection aborted.', RemoteDisconnected('Remote end closed connection without response'))\n",
      "\n",
      "During handling of the above exception, another exception occurred:\n",
      "\n",
      "Traceback (most recent call last):\n",
      "  File \"C:\\Users\\kyungho\\AppData\\Local\\Temp\\ipykernel_3788\\2842959308.py\", line 26, in <module>\n",
      "    unit = find_unit(doc['doc_url'])\n",
      "  File \"C:\\Users\\kyungho\\AppData\\Local\\Temp\\ipykernel_3788\\3371680348.py\", line 28, in find_unit\n",
      "    response = requests.get(doc_url)\n",
      "  File \"d:\\PythonProject\\data-gatherer\\data-gatherer.venv\\lib\\site-packages\\requests\\api.py\", line 73, in get\n",
      "    return request(\"get\", url, params=params, **kwargs)\n",
      "  File \"d:\\PythonProject\\data-gatherer\\data-gatherer.venv\\lib\\site-packages\\requests\\api.py\", line 59, in request\n",
      "    return session.request(method=method, url=url, **kwargs)\n",
      "  File \"d:\\PythonProject\\data-gatherer\\data-gatherer.venv\\lib\\site-packages\\requests\\sessions.py\", line 589, in request\n",
      "    resp = self.send(prep, **send_kwargs)\n",
      "  File \"d:\\PythonProject\\data-gatherer\\data-gatherer.venv\\lib\\site-packages\\requests\\sessions.py\", line 703, in send\n",
      "    r = adapter.send(request, **kwargs)\n",
      "  File \"d:\\PythonProject\\data-gatherer\\data-gatherer.venv\\lib\\site-packages\\requests\\adapters.py\", line 501, in send\n",
      "    raise ConnectionError(err, request=request)\n",
      "requests.exceptions.ConnectionError: ('Connection aborted.', RemoteDisconnected('Remote end closed connection without response'))\n",
      "\n",
      "00122551 백산 20220712000592 [기재정정]사업보고서 (2021.12) http://dart.fss.or.kr/dsaf001/main.do?rcpNo=20220712000592 5. 재무제표 주석 http://dart.fss.or.kr/report/viewer.do?rcpNo=20220712000592&dcmNo=8732579&eleId=24&offset=805954&length=374255&dtd=dart3.xsd\n",
      "Traceback (most recent call last):\n",
      "  File \"d:\\PythonProject\\data-gatherer\\data-gatherer.venv\\lib\\site-packages\\urllib3\\connectionpool.py\", line 790, in urlopen\n",
      "    response = self._make_request(\n",
      "  File \"d:\\PythonProject\\data-gatherer\\data-gatherer.venv\\lib\\site-packages\\urllib3\\connectionpool.py\", line 536, in _make_request\n",
      "    response = conn.getresponse()\n",
      "  File \"d:\\PythonProject\\data-gatherer\\data-gatherer.venv\\lib\\site-packages\\urllib3\\connection.py\", line 454, in getresponse\n",
      "    httplib_response = super().getresponse()\n",
      "  File \"C:\\Users\\kyungho\\AppData\\Local\\Programs\\Python\\Python310\\lib\\http\\client.py\", line 1374, in getresponse\n",
      "    response.begin()\n",
      "  File \"C:\\Users\\kyungho\\AppData\\Local\\Programs\\Python\\Python310\\lib\\http\\client.py\", line 318, in begin\n",
      "    version, status, reason = self._read_status()\n",
      "  File \"C:\\Users\\kyungho\\AppData\\Local\\Programs\\Python\\Python310\\lib\\http\\client.py\", line 287, in _read_status\n",
      "    raise RemoteDisconnected(\"Remote end closed connection without\"\n",
      "http.client.RemoteDisconnected: Remote end closed connection without response\n",
      "\n",
      "During handling of the above exception, another exception occurred:\n",
      "\n",
      "Traceback (most recent call last):\n",
      "  File \"d:\\PythonProject\\data-gatherer\\data-gatherer.venv\\lib\\site-packages\\requests\\adapters.py\", line 486, in send\n",
      "    resp = conn.urlopen(\n",
      "  File \"d:\\PythonProject\\data-gatherer\\data-gatherer.venv\\lib\\site-packages\\urllib3\\connectionpool.py\", line 844, in urlopen\n",
      "    retries = retries.increment(\n",
      "  File \"d:\\PythonProject\\data-gatherer\\data-gatherer.venv\\lib\\site-packages\\urllib3\\util\\retry.py\", line 470, in increment\n",
      "    raise reraise(type(error), error, _stacktrace)\n",
      "  File \"d:\\PythonProject\\data-gatherer\\data-gatherer.venv\\lib\\site-packages\\urllib3\\util\\util.py\", line 38, in reraise\n",
      "    raise value.with_traceback(tb)\n",
      "  File \"d:\\PythonProject\\data-gatherer\\data-gatherer.venv\\lib\\site-packages\\urllib3\\connectionpool.py\", line 790, in urlopen\n",
      "    response = self._make_request(\n",
      "  File \"d:\\PythonProject\\data-gatherer\\data-gatherer.venv\\lib\\site-packages\\urllib3\\connectionpool.py\", line 536, in _make_request\n",
      "    response = conn.getresponse()\n",
      "  File \"d:\\PythonProject\\data-gatherer\\data-gatherer.venv\\lib\\site-packages\\urllib3\\connection.py\", line 454, in getresponse\n",
      "    httplib_response = super().getresponse()\n",
      "  File \"C:\\Users\\kyungho\\AppData\\Local\\Programs\\Python\\Python310\\lib\\http\\client.py\", line 1374, in getresponse\n",
      "    response.begin()\n",
      "  File \"C:\\Users\\kyungho\\AppData\\Local\\Programs\\Python\\Python310\\lib\\http\\client.py\", line 318, in begin\n",
      "    version, status, reason = self._read_status()\n",
      "  File \"C:\\Users\\kyungho\\AppData\\Local\\Programs\\Python\\Python310\\lib\\http\\client.py\", line 287, in _read_status\n",
      "    raise RemoteDisconnected(\"Remote end closed connection without\"\n",
      "urllib3.exceptions.ProtocolError: ('Connection aborted.', RemoteDisconnected('Remote end closed connection without response'))\n",
      "\n",
      "During handling of the above exception, another exception occurred:\n",
      "\n",
      "Traceback (most recent call last):\n",
      "  File \"C:\\Users\\kyungho\\AppData\\Local\\Temp\\ipykernel_3788\\2842959308.py\", line 26, in <module>\n",
      "    unit = find_unit(doc['doc_url'])\n",
      "  File \"C:\\Users\\kyungho\\AppData\\Local\\Temp\\ipykernel_3788\\3371680348.py\", line 28, in find_unit\n",
      "    response = requests.get(doc_url)\n",
      "  File \"d:\\PythonProject\\data-gatherer\\data-gatherer.venv\\lib\\site-packages\\requests\\api.py\", line 73, in get\n",
      "    return request(\"get\", url, params=params, **kwargs)\n",
      "  File \"d:\\PythonProject\\data-gatherer\\data-gatherer.venv\\lib\\site-packages\\requests\\api.py\", line 59, in request\n",
      "    return session.request(method=method, url=url, **kwargs)\n",
      "  File \"d:\\PythonProject\\data-gatherer\\data-gatherer.venv\\lib\\site-packages\\requests\\sessions.py\", line 589, in request\n",
      "    resp = self.send(prep, **send_kwargs)\n",
      "  File \"d:\\PythonProject\\data-gatherer\\data-gatherer.venv\\lib\\site-packages\\requests\\sessions.py\", line 703, in send\n",
      "    r = adapter.send(request, **kwargs)\n",
      "  File \"d:\\PythonProject\\data-gatherer\\data-gatherer.venv\\lib\\site-packages\\requests\\adapters.py\", line 501, in send\n",
      "    raise ConnectionError(err, request=request)\n",
      "requests.exceptions.ConnectionError: ('Connection aborted.', RemoteDisconnected('Remote end closed connection without response'))\n",
      "\n"
     ]
    }
   ],
   "source": [
    "# import requests\n",
    "# from bs4 import BeautifulSoup\n",
    "\n",
    "# 파일 저장 위치\n",
    "path_dir = \"D:/PythonProject/data-gatherer/dart_fs_notes/items/\"\n",
    "\n",
    "for corp_codes in list_of_lists:\n",
    "    for corp_code in corp_codes:\n",
    "        str_expr = \"corp_code == @corp_code\"\n",
    "        df_doc = fs_notes_all.query(str_expr)\n",
    "        doc_count = df_doc.shape[0]\n",
    "        data_list = []\n",
    "        for i, doc in df_doc.iterrows():\n",
    "            sleep(0.1)\n",
    "            try:\n",
    "                val_a = val_b = 0.0\n",
    "                unit = None\n",
    "                doc_result = doc['doc_result']\n",
    "                if doc_result == 'No Financial Statement Notes':\n",
    "                    data_list.append({'corp_code' : doc['corp_code'], 'stock_code' : doc['stock_code'], 'corp_cls' : doc['corp_cls'], 'corp_name' : doc['corp_name'], \n",
    "                                    'rpt_num' : doc['rpt_num'], 'rpt_name' : doc['rpt_name'], \n",
    "                                    'doc_title' : doc['doc_title'], 'doc_result' : doc_result, 'unit' : unit, \n",
    "                                    'val_a' : None, 'val_b' : None, 'item_result' : None})\n",
    "                else:\n",
    "                    # 재무제표 주석 문서에서 사용된 금액 단위 찾기\n",
    "                    unit = find_unit(doc['doc_url'])\n",
    "                    # response = requests.get(doc['doc_url'])\n",
    "                    # if response.status_code == 200:     # URL GET '200 정상'\n",
    "                    #     soup = BeautifulSoup(response.text)\n",
    "                    #     doc_text = soup.text\n",
    "                    #     trimmed_text = doc_text.replace(\" \",\"\")     # 문서에 있는 모든 공백 제거\n",
    "                    #     unit = get_unit(trimmed_text)\n",
    "                    # else:\n",
    "                    #     unit = None\n",
    "                    \n",
    "                    # 당기말의 \"확정급여채무\"와 \"사외적립자산\" 금액 찾기\n",
    "                    val_a, val_b = find_item(doc['doc_url'])\n",
    "                    # doc_data = pd.read_html(doc['doc_url'])\n",
    "                    # for df in doc_data:\n",
    "                    #     row = df.shape[0]\n",
    "                    #     for i in range(0, row):\n",
    "                    #         item = str(df.iloc[i,0])\n",
    "                    #         if item.__contains__('확정급여채무의 현재가치'):\n",
    "                    #             # print(i, type(df.iloc[i,1]), df.iloc[i,1])\n",
    "                    #             str_a = str(df.iloc[i,1])\n",
    "                    #             if str_a == \"-\": val_a = 0.0\n",
    "                    #             else: val_a += str2num(str_a)       # 값을 합한다.\n",
    "                    #         elif item.__contains__('사외적립자산의 공정가치'):\n",
    "                    #             # print(i, type(df.iloc[i,1]), df.iloc[i,1])                            \n",
    "                    #             str_b = str(df.iloc[i,1])\n",
    "                    #             if str_b == \"-\": val_b = 0.0\n",
    "                    #             else: val_b = str2num(str_b)\n",
    "                    #         else:\n",
    "                    #             continue    \n",
    "                    #     if (val_a != 0.0) and (val_b != 0.0):\n",
    "                    #         break          \n",
    "                    data_list.append({'corp_code' : doc['corp_code'], 'stock_code' : doc['stock_code'], 'corp_cls' : doc['corp_cls'], 'corp_name' : doc['corp_name'], \n",
    "                                    'rpt_num' : doc['rpt_num'], 'rpt_name' : doc['rpt_name'], \n",
    "                                    'doc_title' : doc['doc_title'], 'doc_result' : doc_result, 'unit' : unit, \n",
    "                                    'val_a' : val_a, 'val_b' : val_b, 'item_result' : 'OK'})\n",
    "            except ValueError as err:\n",
    "                print(doc['corp_code'], doc['corp_name'], doc['rpt_num'], doc['rpt_name'], doc['rpt_url'], doc['doc_title'], doc['doc_url'])\n",
    "                print(err)\n",
    "                break\n",
    "            except Exception as e:\n",
    "                print(doc['corp_code'], doc['corp_name'], doc['rpt_num'], doc['rpt_name'], doc['rpt_url'], doc['doc_title'], doc['doc_url'])\n",
    "                err_msg = traceback.format_exc()\n",
    "                print(err_msg)\n",
    "                break\n",
    "        # 결과를 파일로 저장\n",
    "        doc_value_count = len(data_list)\n",
    "        if doc_value_count == 0:\n",
    "            break\n",
    "        elif doc_value_count == doc_count:        \n",
    "            df_items = pd.DataFrame(data_list)\n",
    "            file_name = corp_code + '_item_' + myutil.now_dt_str() + '.csv'\n",
    "            df_items.to_csv(path_dir + file_name, index=False)\n",
    "        else:\n",
    "            continue"
   ]
  }
 ],
 "metadata": {
  "kernelspec": {
   "display_name": "data-gatherer.venv",
   "language": "python",
   "name": "python3"
  },
  "language_info": {
   "codemirror_mode": {
    "name": "ipython",
    "version": 3
   },
   "file_extension": ".py",
   "mimetype": "text/x-python",
   "name": "python",
   "nbconvert_exporter": "python",
   "pygments_lexer": "ipython3",
   "version": "3.10.8"
  },
  "orig_nbformat": 4
 },
 "nbformat": 4,
 "nbformat_minor": 2
}
