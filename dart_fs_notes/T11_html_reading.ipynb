{
 "cells": [
  {
   "cell_type": "markdown",
   "metadata": {},
   "source": [
    "### HTML 문서 읽기 & 데이터 값 찾기"
   ]
  },
  {
   "cell_type": "markdown",
   "metadata": {},
   "source": [
    "* 문서 URL 목록 가져오기"
   ]
  },
  {
   "cell_type": "code",
   "execution_count": 7,
   "metadata": {},
   "outputs": [],
   "source": [
    "# 금액 단위 찾기\n",
    "def get_unit(text):\n",
    "    if '(단위:백만원)' in text or '[단위:백만원]' in text:\n",
    "        unit = '백만원'\n",
    "    elif '(단위:천원)' in text or '[단위:천원]' in text:\n",
    "        unit = '천원'\n",
    "    elif '(단위:원)' in text or '[단위:원]' in text:\n",
    "        unit = '원'\n",
    "    else:\n",
    "        unit = None   \n",
    "    return unit\n",
    "\n",
    "# 콤마와 괄호를 제거한다.\n",
    "def str2num(x):\n",
    "    if \",\" in x:\n",
    "        x = x.replace(\",\",\"\")\n",
    "    if x.startswith(\"(\"):\n",
    "        x = x.lstrip(\"(\")\n",
    "    if x.endswith(\")\"):\n",
    "        x = x.rstrip(\")\")\n",
    "    return float(x)"
   ]
  },
  {
   "cell_type": "code",
   "execution_count": 9,
   "metadata": {},
   "outputs": [
    {
     "ename": "ImportError",
     "evalue": "cannot import name 'HTMLParserTreeBuilder' from 'bs4.builder' (d:\\PythonProject\\data-gatherer\\data-gatherer.venv\\lib\\site-packages\\bs4\\builder\\__init__.py)",
     "output_type": "error",
     "traceback": [
      "\u001b[1;31m---------------------------------------------------------------------------\u001b[0m",
      "\u001b[1;31mImportError\u001b[0m                               Traceback (most recent call last)",
      "Cell \u001b[1;32mIn[9], line 3\u001b[0m\n\u001b[0;32m      1\u001b[0m \u001b[38;5;28;01mimport\u001b[39;00m \u001b[38;5;21;01mpandas\u001b[39;00m \u001b[38;5;28;01mas\u001b[39;00m \u001b[38;5;21;01mpd\u001b[39;00m\n\u001b[0;32m      2\u001b[0m \u001b[38;5;28;01mimport\u001b[39;00m \u001b[38;5;21;01mrequests\u001b[39;00m\n\u001b[1;32m----> 3\u001b[0m \u001b[38;5;28;01mfrom\u001b[39;00m \u001b[38;5;21;01mbs4\u001b[39;00m \u001b[38;5;28;01mimport\u001b[39;00m BeautifulSoup\n\u001b[0;32m      4\u001b[0m \u001b[38;5;28;01mimport\u001b[39;00m \u001b[38;5;21;01mwarnings\u001b[39;00m\n\u001b[0;32m      5\u001b[0m warnings\u001b[38;5;241m.\u001b[39mfilterwarnings(\u001b[38;5;124m'\u001b[39m\u001b[38;5;124mignore\u001b[39m\u001b[38;5;124m'\u001b[39m)\n",
      "File \u001b[1;32md:\\PythonProject\\data-gatherer\\data-gatherer.venv\\lib\\site-packages\\bs4\\__init__.py:37\u001b[0m\n\u001b[0;32m     34\u001b[0m \u001b[38;5;28;01mif\u001b[39;00m sys\u001b[38;5;241m.\u001b[39mversion_info\u001b[38;5;241m.\u001b[39mmajor \u001b[38;5;241m<\u001b[39m \u001b[38;5;241m3\u001b[39m:\n\u001b[0;32m     35\u001b[0m     \u001b[38;5;28;01mraise\u001b[39;00m \u001b[38;5;167;01mImportError\u001b[39;00m(\u001b[38;5;124m'\u001b[39m\u001b[38;5;124mYou are trying to use a Python 3-specific version of Beautiful Soup under Python 2. This will not work. The final version of Beautiful Soup to support Python 2 was 4.9.3.\u001b[39m\u001b[38;5;124m'\u001b[39m)\n\u001b[1;32m---> 37\u001b[0m \u001b[38;5;28;01mfrom\u001b[39;00m \u001b[38;5;21;01m.\u001b[39;00m\u001b[38;5;21;01mbuilder\u001b[39;00m \u001b[38;5;28;01mimport\u001b[39;00m (\n\u001b[0;32m     38\u001b[0m     builder_registry,\n\u001b[0;32m     39\u001b[0m     ParserRejectedMarkup,\n\u001b[0;32m     40\u001b[0m     XMLParsedAsHTMLWarning,\n\u001b[0;32m     41\u001b[0m     HTMLParserTreeBuilder\n\u001b[0;32m     42\u001b[0m )\n\u001b[0;32m     43\u001b[0m \u001b[38;5;28;01mfrom\u001b[39;00m \u001b[38;5;21;01m.\u001b[39;00m\u001b[38;5;21;01mdammit\u001b[39;00m \u001b[38;5;28;01mimport\u001b[39;00m UnicodeDammit\n\u001b[0;32m     44\u001b[0m \u001b[38;5;28;01mfrom\u001b[39;00m \u001b[38;5;21;01m.\u001b[39;00m\u001b[38;5;21;01melement\u001b[39;00m \u001b[38;5;28;01mimport\u001b[39;00m (\n\u001b[0;32m     45\u001b[0m     CData,\n\u001b[0;32m     46\u001b[0m     Comment,\n\u001b[1;32m   (...)\u001b[0m\n\u001b[0;32m     60\u001b[0m     TemplateString,\n\u001b[0;32m     61\u001b[0m     )\n",
      "\u001b[1;31mImportError\u001b[0m: cannot import name 'HTMLParserTreeBuilder' from 'bs4.builder' (d:\\PythonProject\\data-gatherer\\data-gatherer.venv\\lib\\site-packages\\bs4\\builder\\__init__.py)"
     ]
    }
   ],
   "source": [
    "import pandas as pd\n",
    "import requests\n",
    "from bs4 import BeautifulSoup\n",
    "import warnings\n",
    "warnings.filterwarnings('ignore')\n",
    "\n",
    "# 파일 저장 위치\n",
    "doc_url = 'http://dart.fss.or.kr/report/viewer.do?rcpNo=20230315001359&dcmNo=9061217&eleId=22&offset=893845&length=450250&dtd=dart3.xsd'\n",
    "\n",
    "# 재무제표 주석 문서에서 사용된 금액 단위 찾기\n",
    "response = requests.get('doc_url')\n",
    "if response.status_code == 200:     # URL GET '200 정상'\n",
    "    soup = BeautifulSoup(response.text)\n",
    "    doc_text = soup.text\n",
    "    trimmed_text = doc_text.replace(\" \",\"\")     # 문서에 있는 모든 공백 제거\n",
    "    unit = get_unit(trimmed_text)\n",
    "else:\n",
    "    unit = None\n",
    "# 당기말의 \"확정급여채무\"와 \"사외적립자산\" 금액 찾기\n",
    "doc_data = pd.read_html(response.text)\n",
    "for df in doc_data:\n",
    "    row = df.shape[0]\n",
    "    for i in range(0, row):\n",
    "        item = str(df.iloc[i,0])\n",
    "        if item.__contains__('확정급여채무의 현재가치'):\n",
    "            # print(i, type(df.iloc[i,1]), df.iloc[i,1])\n",
    "            str_a = str(df.iloc[i,1])\n",
    "            if str_a == \"-\": val_a = 0.0\n",
    "            else: val_a += str2num(str_a)       # 값을 합한다.\n",
    "        elif item.__contains__('사외적립자산의 공정가치'):\n",
    "            # print(i, type(df.iloc[i,1]), df.iloc[i,1])                            \n",
    "            str_b = str(df.iloc[i,1])\n",
    "            if str_b == \"-\": val_b = 0.0\n",
    "            else: val_b = str2num(str_b)\n",
    "        else:\n",
    "            continue    \n",
    "    if (val_a != 0.0) and (val_b != 0.0):\n",
    "        break          \n",
    "print(f'단위: {unit}, 확정급여채무의 현재가치: {val_a}, 사외적립자산의 공정가치: {val_b}')"
   ]
  },
  {
   "cell_type": "code",
   "execution_count": null,
   "metadata": {},
   "outputs": [],
   "source": []
  }
 ],
 "metadata": {
  "kernelspec": {
   "display_name": "data-gatherer.venv",
   "language": "python",
   "name": "python3"
  },
  "language_info": {
   "codemirror_mode": {
    "name": "ipython",
    "version": 3
   },
   "file_extension": ".py",
   "mimetype": "text/x-python",
   "name": "python",
   "nbconvert_exporter": "python",
   "pygments_lexer": "ipython3",
   "version": "3.10.8"
  },
  "orig_nbformat": 4
 },
 "nbformat": 4,
 "nbformat_minor": 2
}
