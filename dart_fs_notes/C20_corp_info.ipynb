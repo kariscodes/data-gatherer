{
 "cells": [
  {
   "attachments": {},
   "cell_type": "markdown",
   "metadata": {},
   "source": [
    "## 기업 개황(Overview): 여러 회사\n",
    "+ 작성: 임경호\n",
    "+ 금융감독원 OPEN DART https://opendart.fss.or.kr/"
   ]
  },
  {
   "cell_type": "code",
   "execution_count": 8,
   "metadata": {},
   "outputs": [],
   "source": [
    "import pandas as pd\n",
    "import datetime\n",
    "import os\n",
    "\n",
    "# 파일 저장 위치\n",
    "path_dir = \"D:/PythonProject/data-gatherer/dart_fs_notes/company/\"\n",
    "file_name = \"corp_codes_all.csv\"\n",
    "df_corp = pd.read_csv(path_dir + file_name, dtype=object)"
   ]
  },
  {
   "cell_type": "code",
   "execution_count": 9,
   "metadata": {},
   "outputs": [],
   "source": [
    "# 현재 시각: 년월일_시분초\n",
    "def now_dt_str():\n",
    "    now = datetime.datetime.now()\n",
    "    dt = now.strftime('%Y%m%d_%H%M%S')\n",
    "    return dt"
   ]
  },
  {
   "cell_type": "code",
   "execution_count": 10,
   "metadata": {},
   "outputs": [
    {
     "data": {
      "text/plain": [
       "103859"
      ]
     },
     "execution_count": 10,
     "metadata": {},
     "output_type": "execute_result"
    }
   ],
   "source": [
    "list_all_codes = df_corp['corp_code'].unique()\n",
    "len(list_all_codes)"
   ]
  },
  {
   "cell_type": "code",
   "execution_count": 11,
   "metadata": {},
   "outputs": [
    {
     "data": {
      "text/plain": [
       "50697"
      ]
     },
     "execution_count": 11,
     "metadata": {},
     "output_type": "execute_result"
    }
   ],
   "source": [
    "file_list = os.listdir(path_dir)\n",
    "\n",
    "df_own_corp_info = pd.DataFrame()\n",
    "list_own_codes = []   \n",
    "for file_name in file_list:\n",
    "    # 기업 개황 정보를 가져온 파일이 있을 경우\n",
    "    if 'corp_info_' in file_name:\n",
    "        df = pd.read_csv(path_dir + file_name, dtype=object)\n",
    "        df_own_corp_info = pd.concat([df_own_corp_info, df])\n",
    "\n",
    "if not df_own_corp_info.empty:\n",
    "    list_own_codes = df_own_corp_info['corp_code'].unique()    \n",
    "\n",
    "len(list_own_codes)"
   ]
  },
  {
   "cell_type": "code",
   "execution_count": 12,
   "metadata": {},
   "outputs": [
    {
     "data": {
      "text/plain": [
       "53163"
      ]
     },
     "execution_count": 12,
     "metadata": {},
     "output_type": "execute_result"
    }
   ],
   "source": [
    "# 리스트에서 중복 제거 (이미 corp info가 있는 경우 대상에서 제외)\n",
    "list_target_codes = list(set(list_all_codes) - set(list_own_codes))\n",
    "len(list_target_codes)"
   ]
  },
  {
   "cell_type": "markdown",
   "metadata": {},
   "source": [
    "* corp_code 분할"
   ]
  },
  {
   "cell_type": "code",
   "execution_count": 13,
   "metadata": {},
   "outputs": [
    {
     "data": {
      "text/plain": [
       "54"
      ]
     },
     "execution_count": 13,
     "metadata": {},
     "output_type": "execute_result"
    }
   ],
   "source": [
    "list_cnt = len(list_target_codes)\n",
    "n = 1000\n",
    "list_of_lists = [list_target_codes[i * n:(i + 1) * n] for i in range((list_cnt + n - 1) // n )] \n",
    "len(list_of_lists)"
   ]
  },
  {
   "cell_type": "markdown",
   "metadata": {},
   "source": [
    "* 기업 개황 정보 가져오기"
   ]
  },
  {
   "cell_type": "code",
   "execution_count": 7,
   "metadata": {},
   "outputs": [
    {
     "name": "stderr",
     "output_type": "stream",
     "text": [
      "100%|██████████| 1000/1000 [04:28<00:00,  3.72it/s]\n",
      "100%|██████████| 1000/1000 [04:28<00:00,  3.73it/s]\n",
      "100%|██████████| 1000/1000 [04:33<00:00,  3.66it/s]\n",
      "100%|██████████| 1000/1000 [04:31<00:00,  3.68it/s]\n",
      " 45%|████▌     | 454/1000 [02:04<02:29,  3.64it/s]\n"
     ]
    },
    {
     "name": "stdout",
     "output_type": "stream",
     "text": [
      "HTTPSConnectionPool(host='opendart.fss.or.kr', port=443): Max retries exceeded with url: /api/company.json?corp_code=01142419&crtfc_key=f2e08d4ed3de0ba3d5cbf59c04c223e02b1751a2 (Caused by SSLError(SSLEOFError(8, 'EOF occurred in violation of protocol (_ssl.c:997)')))\n"
     ]
    },
    {
     "name": "stderr",
     "output_type": "stream",
     "text": [
      "100%|██████████| 1000/1000 [04:26<00:00,  3.75it/s]\n",
      " 88%|████████▊ | 884/1000 [03:55<00:30,  3.75it/s]\n"
     ]
    },
    {
     "name": "stdout",
     "output_type": "stream",
     "text": [
      "HTTPSConnectionPool(host='opendart.fss.or.kr', port=443): Max retries exceeded with url: /api/company.json?corp_code=00925888&crtfc_key=f2e08d4ed3de0ba3d5cbf59c04c223e02b1751a2 (Caused by SSLError(SSLEOFError(8, 'EOF occurred in violation of protocol (_ssl.c:997)')))\n"
     ]
    },
    {
     "name": "stderr",
     "output_type": "stream",
     "text": [
      "100%|██████████| 1000/1000 [04:22<00:00,  3.81it/s]\n",
      "100%|██████████| 1000/1000 [04:29<00:00,  3.71it/s]\n",
      "100%|██████████| 1000/1000 [04:29<00:00,  3.71it/s]\n",
      "100%|██████████| 1000/1000 [04:28<00:00,  3.72it/s]\n",
      "100%|██████████| 1000/1000 [04:30<00:00,  3.70it/s]\n",
      "100%|██████████| 1000/1000 [04:27<00:00,  3.73it/s]\n",
      " 36%|███▌      | 357/1000 [01:58<03:33,  3.01it/s]\n"
     ]
    },
    {
     "name": "stdout",
     "output_type": "stream",
     "text": [
      "HTTPSConnectionPool(host='opendart.fss.or.kr', port=443): Max retries exceeded with url: /api/company.json?corp_code=00908012&crtfc_key=f2e08d4ed3de0ba3d5cbf59c04c223e02b1751a2 (Caused by ConnectTimeoutError(<urllib3.connection.HTTPSConnection object at 0x000002CB78548340>, 'Connection to opendart.fss.or.kr timed out. (connect timeout=None)'))\n"
     ]
    },
    {
     "name": "stderr",
     "output_type": "stream",
     "text": [
      " 73%|███████▎  | 733/1000 [03:16<01:11,  3.72it/s]\n"
     ]
    },
    {
     "name": "stdout",
     "output_type": "stream",
     "text": [
      "HTTPSConnectionPool(host='opendart.fss.or.kr', port=443): Max retries exceeded with url: /api/company.json?corp_code=01174861&crtfc_key=f2e08d4ed3de0ba3d5cbf59c04c223e02b1751a2 (Caused by SSLError(SSLEOFError(8, 'EOF occurred in violation of protocol (_ssl.c:997)')))\n"
     ]
    },
    {
     "name": "stderr",
     "output_type": "stream",
     "text": [
      " 90%|█████████ | 901/1000 [03:58<00:26,  3.78it/s]\n"
     ]
    },
    {
     "name": "stdout",
     "output_type": "stream",
     "text": [
      "HTTPSConnectionPool(host='opendart.fss.or.kr', port=443): Max retries exceeded with url: /api/company.json?corp_code=00357157&crtfc_key=f2e08d4ed3de0ba3d5cbf59c04c223e02b1751a2 (Caused by SSLError(SSLEOFError(8, 'EOF occurred in violation of protocol (_ssl.c:997)')))\n"
     ]
    },
    {
     "name": "stderr",
     "output_type": "stream",
     "text": [
      "  1%|          | 9/1000 [00:02<04:27,  3.70it/s]\n"
     ]
    },
    {
     "name": "stdout",
     "output_type": "stream",
     "text": [
      "HTTPSConnectionPool(host='opendart.fss.or.kr', port=443): Max retries exceeded with url: /api/company.json?corp_code=01457010&crtfc_key=f2e08d4ed3de0ba3d5cbf59c04c223e02b1751a2 (Caused by SSLError(SSLEOFError(8, 'EOF occurred in violation of protocol (_ssl.c:997)')))\n"
     ]
    },
    {
     "name": "stderr",
     "output_type": "stream",
     "text": [
      "100%|██████████| 1000/1000 [04:26<00:00,  3.75it/s]\n",
      "100%|██████████| 1000/1000 [04:25<00:00,  3.77it/s]\n",
      "100%|██████████| 1000/1000 [04:27<00:00,  3.73it/s]\n",
      "100%|██████████| 1000/1000 [04:28<00:00,  3.72it/s]\n",
      "100%|██████████| 1000/1000 [04:35<00:00,  3.63it/s]\n",
      " 58%|█████▊    | 577/1000 [02:44<02:00,  3.50it/s]\n"
     ]
    },
    {
     "name": "stdout",
     "output_type": "stream",
     "text": [
      "HTTPSConnectionPool(host='opendart.fss.or.kr', port=443): Max retries exceeded with url: /api/company.json?corp_code=01100033&crtfc_key=f2e08d4ed3de0ba3d5cbf59c04c223e02b1751a2 (Caused by SSLError(SSLEOFError(8, 'EOF occurred in violation of protocol (_ssl.c:997)')))\n"
     ]
    },
    {
     "name": "stderr",
     "output_type": "stream",
     "text": [
      "  8%|▊         | 84/1000 [00:24<04:30,  3.38it/s]\n"
     ]
    },
    {
     "name": "stdout",
     "output_type": "stream",
     "text": [
      "사용한도를 초과하였습니다.\n",
      "\n"
     ]
    },
    {
     "name": "stderr",
     "output_type": "stream",
     "text": [
      "  0%|          | 0/1000 [00:00<?, ?it/s]"
     ]
    },
    {
     "name": "stdout",
     "output_type": "stream",
     "text": [
      "사용한도를 초과하였습니다.\n",
      "\n"
     ]
    },
    {
     "name": "stderr",
     "output_type": "stream",
     "text": [
      "\n"
     ]
    }
   ],
   "source": [
    "from tqdm import tqdm\n",
    "from time import sleep\n",
    "import requests\n",
    "\n",
    "# Company Info   \n",
    "url = 'https://opendart.fss.or.kr/api/company.json'\n",
    "api_key = 'f2e08d4ed3de0ba3d5cbf59c04c223e02b1751a2'\n",
    "\n",
    "for corp_codes in list_of_lists:\n",
    "    corp_list = []\n",
    "    for corp_code in tqdm(corp_codes):\n",
    "        sleep(0.1)\n",
    "        params = {\n",
    "            'corp_code': corp_code,\n",
    "            'crtfc_key': api_key,\n",
    "        }\n",
    "        try:\n",
    "            response = requests.get(url, params=params)     \n",
    "            if response.status_code == 200:     # URL GET '200 정상'\n",
    "                json_data = response.json()\n",
    "                if json_data['status'] == '020':    # 사용한도 초과\n",
    "                    print(json_data['message'])\n",
    "                    raise Exception\n",
    "                else:\n",
    "                    corp_list.append(json_data)\n",
    "            else:\n",
    "                print(\"URL GET Error\", corp_code)\n",
    "                break\n",
    "        except Exception as e:\n",
    "            print(e)\n",
    "            break\n",
    "    if len(corp_list) == 0:\n",
    "        break\n",
    "    else:\n",
    "        # 데이터프레임 형태로 변환\n",
    "        df_save_corp = pd.DataFrame(corp_list)\n",
    "        # csv 파일로 저장\n",
    "        df_save_corp = df_save_corp.astype({'corp_code' : 'string', 'stock_code' : 'string'})\n",
    "        file_path = path_dir + 'corp_info_' + now_dt_str() + '.csv'\n",
    "        df_save_corp.to_csv(file_path, index=False)"
   ]
  }
 ],
 "metadata": {
  "kernelspec": {
   "display_name": "Python 3",
   "language": "python",
   "name": "python3"
  },
  "language_info": {
   "codemirror_mode": {
    "name": "ipython",
    "version": 3
   },
   "file_extension": ".py",
   "mimetype": "text/x-python",
   "name": "python",
   "nbconvert_exporter": "python",
   "pygments_lexer": "ipython3",
   "version": "3.10.8"
  },
  "orig_nbformat": 4
 },
 "nbformat": 4,
 "nbformat_minor": 2
}
