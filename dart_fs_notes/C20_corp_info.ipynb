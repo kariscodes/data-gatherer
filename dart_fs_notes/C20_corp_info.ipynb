{
 "cells": [
  {
   "attachments": {},
   "cell_type": "markdown",
   "metadata": {},
   "source": [
    "## 기업 개황(Overview): 여러 회사\n",
    "+ 작성: 임경호\n",
    "+ 금융감독원 OPEN DART https://opendart.fss.or.kr/"
   ]
  },
  {
   "cell_type": "code",
   "execution_count": 45,
   "metadata": {},
   "outputs": [],
   "source": [
    "import pandas as pd\n",
    "\n",
    "import sys\n",
    "module_path = \"D:\\PythonProject\\data-gatherer\\dart_fs_notes\"\n",
    "sys.path.append(module_path)\n",
    "import myutil\n",
    " \n",
    "# 파일 저장 위치\n",
    "path_dir = \"D:/PythonProject/data-gatherer/dart_fs_notes/company/\""
   ]
  },
  {
   "cell_type": "code",
   "execution_count": 46,
   "metadata": {},
   "outputs": [
    {
     "data": {
      "text/plain": [
       "103859"
      ]
     },
     "execution_count": 46,
     "metadata": {},
     "output_type": "execute_result"
    }
   ],
   "source": [
    "# 기업코드 목록 전체\n",
    "file_name = \"corp_codes_all.csv\"\n",
    "df_corp = pd.read_csv(path_dir + file_name, dtype=object)\n",
    "list_all_codes = df_corp['corp_code'].unique()\n",
    "len(list_all_codes)"
   ]
  },
  {
   "cell_type": "code",
   "execution_count": 47,
   "metadata": {},
   "outputs": [
    {
     "data": {
      "text/plain": [
       "103859"
      ]
     },
     "execution_count": 47,
     "metadata": {},
     "output_type": "execute_result"
    }
   ],
   "source": [
    "# 기업개황 저장된 목록 전체\n",
    "file_name = \"corp_info_all.csv\"\n",
    "df_own_corp_info = pd.read_csv(path_dir + file_name, dtype=object)\n",
    "list_own_codes = df_own_corp_info['corp_code'].unique()\n",
    "len(list_own_codes)"
   ]
  },
  {
   "cell_type": "code",
   "execution_count": 48,
   "metadata": {},
   "outputs": [
    {
     "data": {
      "text/plain": [
       "0"
      ]
     },
     "execution_count": 48,
     "metadata": {},
     "output_type": "execute_result"
    }
   ],
   "source": [
    "# 리스트에서 중복 제거 (이미 corp info가 있는 경우 대상에서 제외)\n",
    "list_target_codes = list(set(list_all_codes) - set(list_own_codes))\n",
    "len(list_target_codes)"
   ]
  },
  {
   "cell_type": "markdown",
   "metadata": {},
   "source": [
    "* corp_code 분할"
   ]
  },
  {
   "cell_type": "code",
   "execution_count": 49,
   "metadata": {},
   "outputs": [
    {
     "data": {
      "text/plain": [
       "0"
      ]
     },
     "execution_count": 49,
     "metadata": {},
     "output_type": "execute_result"
    }
   ],
   "source": [
    "list_cnt = len(list_target_codes)\n",
    "n = 1000\n",
    "list_of_lists = [list_target_codes[i * n:(i + 1) * n] for i in range((list_cnt + n - 1) // n )] \n",
    "len(list_of_lists)"
   ]
  },
  {
   "cell_type": "markdown",
   "metadata": {},
   "source": [
    "* 기업 개황 정보 가져오기"
   ]
  },
  {
   "cell_type": "code",
   "execution_count": 33,
   "metadata": {},
   "outputs": [
    {
     "name": "stderr",
     "output_type": "stream",
     "text": [
      "100%|██████████| 1000/1000 [04:41<00:00,  3.55it/s]\n",
      "100%|██████████| 569/569 [02:38<00:00,  3.60it/s]\n"
     ]
    }
   ],
   "source": [
    "from tqdm import tqdm\n",
    "from time import sleep\n",
    "import requests\n",
    "\n",
    "# Company Info   \n",
    "url = 'https://opendart.fss.or.kr/api/company.json'\n",
    "api_key = 'f2e08d4ed3de0ba3d5cbf59c04c223e02b1751a2'\n",
    "\n",
    "for corp_codes in list_of_lists:\n",
    "    corp_list = []\n",
    "    for corp_code in tqdm(corp_codes):\n",
    "        sleep(0.1)\n",
    "        params = {\n",
    "            'corp_code': corp_code,\n",
    "            'crtfc_key': api_key,\n",
    "        }\n",
    "        try:\n",
    "            response = requests.get(url, params=params)     \n",
    "            if response.status_code == 200:     # URL GET '200 정상'\n",
    "                json_data = response.json()\n",
    "                if json_data['status'] == '020':    # 사용한도 초과\n",
    "                    print(json_data['message'])\n",
    "                    raise Exception\n",
    "                else:\n",
    "                    corp_list.append(json_data)\n",
    "            else:\n",
    "                print(\"URL GET Error\", corp_code)\n",
    "                break\n",
    "        except Exception as e:\n",
    "            print(e)\n",
    "            break\n",
    "    if len(corp_list) == 0:\n",
    "        break\n",
    "    else:\n",
    "        # 데이터프레임 형태로 변환\n",
    "        df_save_corp = pd.DataFrame(corp_list)\n",
    "        # csv 파일로 저장\n",
    "        df_save_corp['induty_code'] = df_save_corp['induty_code'].str.zfill(5)  # 산업분류코드 5자리(문자열 앞에 0 채우기)\n",
    "        df_save_corp = df_save_corp.astype({'corp_code' : 'string', 'stock_code' : 'string', 'induty_code' : 'string'})\n",
    "        file_path = path_dir + 'corp_info_' + now_dt_str() + '.csv'\n",
    "        df_save_corp.to_csv(file_path, index=False)"
   ]
  },
  {
   "cell_type": "code",
   "execution_count": 50,
   "metadata": {},
   "outputs": [],
   "source": [
    "# 목록 비교\n",
    "df_left_only = pd.merge(df_corp, df_own_corp_info, how='outer', left_on='corp_code', right_on='corp_code' , indicator=True).query(\"_merge=='left_only'\")\n",
    "df_right_only = pd.merge(df_corp, df_own_corp_info, how='outer', left_on='corp_code', right_on='corp_code' , indicator=True).query(\"_merge=='right_only'\")"
   ]
  },
  {
   "cell_type": "code",
   "execution_count": 51,
   "metadata": {},
   "outputs": [
    {
     "data": {
      "text/html": [
       "<div>\n",
       "<style scoped>\n",
       "    .dataframe tbody tr th:only-of-type {\n",
       "        vertical-align: middle;\n",
       "    }\n",
       "\n",
       "    .dataframe tbody tr th {\n",
       "        vertical-align: top;\n",
       "    }\n",
       "\n",
       "    .dataframe thead th {\n",
       "        text-align: right;\n",
       "    }\n",
       "</style>\n",
       "<table border=\"1\" class=\"dataframe\">\n",
       "  <thead>\n",
       "    <tr style=\"text-align: right;\">\n",
       "      <th></th>\n",
       "      <th>corp_code</th>\n",
       "      <th>corp_name_x</th>\n",
       "      <th>stock_code_x</th>\n",
       "      <th>modify_date</th>\n",
       "      <th>status</th>\n",
       "      <th>message</th>\n",
       "      <th>corp_name_y</th>\n",
       "      <th>corp_name_eng</th>\n",
       "      <th>stock_name</th>\n",
       "      <th>stock_code_y</th>\n",
       "      <th>...</th>\n",
       "      <th>bizr_no</th>\n",
       "      <th>adres</th>\n",
       "      <th>hm_url</th>\n",
       "      <th>ir_url</th>\n",
       "      <th>phn_no</th>\n",
       "      <th>fax_no</th>\n",
       "      <th>induty_code</th>\n",
       "      <th>est_dt</th>\n",
       "      <th>acc_mt</th>\n",
       "      <th>_merge</th>\n",
       "    </tr>\n",
       "  </thead>\n",
       "  <tbody>\n",
       "  </tbody>\n",
       "</table>\n",
       "<p>0 rows × 23 columns</p>\n",
       "</div>"
      ],
      "text/plain": [
       "Empty DataFrame\n",
       "Columns: [corp_code, corp_name_x, stock_code_x, modify_date, status, message, corp_name_y, corp_name_eng, stock_name, stock_code_y, ceo_nm, corp_cls, jurir_no, bizr_no, adres, hm_url, ir_url, phn_no, fax_no, induty_code, est_dt, acc_mt, _merge]\n",
       "Index: []\n",
       "\n",
       "[0 rows x 23 columns]"
      ]
     },
     "execution_count": 51,
     "metadata": {},
     "output_type": "execute_result"
    }
   ],
   "source": [
    "df_left_only"
   ]
  },
  {
   "cell_type": "code",
   "execution_count": 52,
   "metadata": {},
   "outputs": [
    {
     "data": {
      "text/html": [
       "<div>\n",
       "<style scoped>\n",
       "    .dataframe tbody tr th:only-of-type {\n",
       "        vertical-align: middle;\n",
       "    }\n",
       "\n",
       "    .dataframe tbody tr th {\n",
       "        vertical-align: top;\n",
       "    }\n",
       "\n",
       "    .dataframe thead th {\n",
       "        text-align: right;\n",
       "    }\n",
       "</style>\n",
       "<table border=\"1\" class=\"dataframe\">\n",
       "  <thead>\n",
       "    <tr style=\"text-align: right;\">\n",
       "      <th></th>\n",
       "      <th>corp_code</th>\n",
       "      <th>corp_name_x</th>\n",
       "      <th>stock_code_x</th>\n",
       "      <th>modify_date</th>\n",
       "      <th>status</th>\n",
       "      <th>message</th>\n",
       "      <th>corp_name_y</th>\n",
       "      <th>corp_name_eng</th>\n",
       "      <th>stock_name</th>\n",
       "      <th>stock_code_y</th>\n",
       "      <th>...</th>\n",
       "      <th>bizr_no</th>\n",
       "      <th>adres</th>\n",
       "      <th>hm_url</th>\n",
       "      <th>ir_url</th>\n",
       "      <th>phn_no</th>\n",
       "      <th>fax_no</th>\n",
       "      <th>induty_code</th>\n",
       "      <th>est_dt</th>\n",
       "      <th>acc_mt</th>\n",
       "      <th>_merge</th>\n",
       "    </tr>\n",
       "  </thead>\n",
       "  <tbody>\n",
       "  </tbody>\n",
       "</table>\n",
       "<p>0 rows × 23 columns</p>\n",
       "</div>"
      ],
      "text/plain": [
       "Empty DataFrame\n",
       "Columns: [corp_code, corp_name_x, stock_code_x, modify_date, status, message, corp_name_y, corp_name_eng, stock_name, stock_code_y, ceo_nm, corp_cls, jurir_no, bizr_no, adres, hm_url, ir_url, phn_no, fax_no, induty_code, est_dt, acc_mt, _merge]\n",
       "Index: []\n",
       "\n",
       "[0 rows x 23 columns]"
      ]
     },
     "execution_count": 52,
     "metadata": {},
     "output_type": "execute_result"
    }
   ],
   "source": [
    "df_right_only"
   ]
  }
 ],
 "metadata": {
  "kernelspec": {
   "display_name": "Python 3",
   "language": "python",
   "name": "python3"
  },
  "language_info": {
   "codemirror_mode": {
    "name": "ipython",
    "version": 3
   },
   "file_extension": ".py",
   "mimetype": "text/x-python",
   "name": "python",
   "nbconvert_exporter": "python",
   "pygments_lexer": "ipython3",
   "version": "3.10.8"
  },
  "orig_nbformat": 4
 },
 "nbformat": 4,
 "nbformat_minor": 2
}
