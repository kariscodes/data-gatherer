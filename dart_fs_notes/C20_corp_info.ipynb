{
 "cells": [
  {
   "attachments": {},
   "cell_type": "markdown",
   "metadata": {},
   "source": [
    "## 기업 개황(Overview): 여러 회사\n",
    "+ 작성: 임경호\n",
    "+ 금융감독원 OPEN DART https://opendart.fss.or.kr/"
   ]
  },
  {
   "cell_type": "code",
   "execution_count": 1,
   "metadata": {},
   "outputs": [],
   "source": [
    "import pandas as pd\n",
    "import datetime\n",
    "import os\n",
    "\n",
    "# 파일 저장 위치\n",
    "path_dir = \"D:/PythonProject/data-gatherer/dart_fs_notes/company/\"\n",
    "file_name = \"corp_codes_all.csv\"\n",
    "df_corp = pd.read_csv(path_dir + file_name, dtype=object)"
   ]
  },
  {
   "cell_type": "code",
   "execution_count": 2,
   "metadata": {},
   "outputs": [],
   "source": [
    "# 현재 시각: 년월일_시분초\n",
    "def now_dt_str():\n",
    "    now = datetime.datetime.now()\n",
    "    dt = now.strftime('%Y%m%d_%H%M%S')\n",
    "    return dt"
   ]
  },
  {
   "cell_type": "code",
   "execution_count": 3,
   "metadata": {},
   "outputs": [
    {
     "data": {
      "text/plain": [
       "103859"
      ]
     },
     "execution_count": 3,
     "metadata": {},
     "output_type": "execute_result"
    }
   ],
   "source": [
    "list_all_codes = df_corp['corp_code'].unique()\n",
    "len(list_all_codes)"
   ]
  },
  {
   "cell_type": "code",
   "execution_count": 4,
   "metadata": {},
   "outputs": [
    {
     "data": {
      "text/plain": [
       "10699"
      ]
     },
     "execution_count": 4,
     "metadata": {},
     "output_type": "execute_result"
    }
   ],
   "source": [
    "file_list = os.listdir(path_dir)\n",
    "\n",
    "df_own_corp_info = pd.DataFrame()\n",
    "list_own_codes = []   \n",
    "for file_name in file_list:\n",
    "    # 기업 개황 정보를 가져온 파일이 있을 경우\n",
    "    if 'corp_info_' in file_name:\n",
    "        df = pd.read_csv(path_dir + file_name, dtype=object)\n",
    "        df_own_corp_info = pd.concat([df_own_corp_info, df])\n",
    "\n",
    "if not df_own_corp_info.empty:\n",
    "    list_own_codes = df_own_corp_info['corp_code'].unique()    \n",
    "\n",
    "len(list_own_codes)"
   ]
  },
  {
   "cell_type": "code",
   "execution_count": 5,
   "metadata": {},
   "outputs": [
    {
     "data": {
      "text/plain": [
       "93161"
      ]
     },
     "execution_count": 5,
     "metadata": {},
     "output_type": "execute_result"
    }
   ],
   "source": [
    "# 리스트에서 중복 제거 (이미 corp info가 있는 경우 대상에서 제외)\n",
    "list_target_codes = list(set(list_all_codes) - set(list_own_codes))\n",
    "len(list_target_codes)"
   ]
  },
  {
   "cell_type": "markdown",
   "metadata": {},
   "source": [
    "* corp_code 분할"
   ]
  },
  {
   "cell_type": "code",
   "execution_count": 6,
   "metadata": {},
   "outputs": [
    {
     "data": {
      "text/plain": [
       "94"
      ]
     },
     "execution_count": 6,
     "metadata": {},
     "output_type": "execute_result"
    }
   ],
   "source": [
    "list_cnt = len(list_target_codes)\n",
    "n = 1000\n",
    "list_of_lists = [list_target_codes[i * n:(i + 1) * n] for i in range((list_cnt + n - 1) // n )] \n",
    "len(list_of_lists)"
   ]
  },
  {
   "cell_type": "markdown",
   "metadata": {},
   "source": [
    "* 기업 개황 정보 가져오기"
   ]
  },
  {
   "cell_type": "code",
   "execution_count": 7,
   "metadata": {},
   "outputs": [
    {
     "name": "stderr",
     "output_type": "stream",
     "text": [
      "100%|██████████| 1000/1000 [04:21<00:00,  3.82it/s]\n",
      "  2%|▏         | 15/1000 [00:25<27:30,  1.68s/it]\n"
     ]
    },
    {
     "name": "stdout",
     "output_type": "stream",
     "text": [
      "HTTPSConnectionPool(host='opendart.fss.or.kr', port=443): Max retries exceeded with url: /api/company.json?corp_code=00904894&crtfc_key=f2e08d4ed3de0ba3d5cbf59c04c223e02b1751a2 (Caused by ConnectTimeoutError(<urllib3.connection.HTTPSConnection object at 0x000002C1BB1ABD00>, 'Connection to opendart.fss.or.kr timed out. (connect timeout=None)'))\n"
     ]
    },
    {
     "name": "stderr",
     "output_type": "stream",
     "text": [
      " 83%|████████▎ | 826/1000 [03:31<00:44,  3.90it/s]\n"
     ]
    },
    {
     "name": "stdout",
     "output_type": "stream",
     "text": [
      "HTTPSConnectionPool(host='opendart.fss.or.kr', port=443): Max retries exceeded with url: /api/company.json?corp_code=01166109&crtfc_key=f2e08d4ed3de0ba3d5cbf59c04c223e02b1751a2 (Caused by SSLError(SSLEOFError(8, 'EOF occurred in violation of protocol (_ssl.c:997)')))\n"
     ]
    },
    {
     "name": "stderr",
     "output_type": "stream",
     "text": [
      " 97%|█████████▋| 968/1000 [04:16<00:08,  3.77it/s]\n"
     ]
    },
    {
     "name": "stdout",
     "output_type": "stream",
     "text": [
      "HTTPSConnectionPool(host='opendart.fss.or.kr', port=443): Max retries exceeded with url: /api/company.json?corp_code=00682512&crtfc_key=f2e08d4ed3de0ba3d5cbf59c04c223e02b1751a2 (Caused by SSLError(SSLEOFError(8, 'EOF occurred in violation of protocol (_ssl.c:997)')))\n"
     ]
    },
    {
     "name": "stderr",
     "output_type": "stream",
     "text": [
      "  1%|          | 9/1000 [00:02<04:30,  3.67it/s]\n"
     ]
    },
    {
     "name": "stdout",
     "output_type": "stream",
     "text": [
      "HTTPSConnectionPool(host='opendart.fss.or.kr', port=443): Max retries exceeded with url: /api/company.json?corp_code=00409724&crtfc_key=f2e08d4ed3de0ba3d5cbf59c04c223e02b1751a2 (Caused by SSLError(SSLEOFError(8, 'EOF occurred in violation of protocol (_ssl.c:997)')))\n"
     ]
    },
    {
     "name": "stderr",
     "output_type": "stream",
     "text": [
      "100%|██████████| 1000/1000 [04:21<00:00,  3.83it/s]\n",
      "100%|██████████| 1000/1000 [04:24<00:00,  3.78it/s]\n",
      "100%|██████████| 1000/1000 [04:22<00:00,  3.80it/s]\n",
      "100%|██████████| 1000/1000 [04:22<00:00,  3.82it/s]\n",
      "100%|██████████| 1000/1000 [04:20<00:00,  3.84it/s]\n",
      " 89%|████████▉ | 893/1000 [03:55<00:28,  3.79it/s]\n"
     ]
    },
    {
     "name": "stdout",
     "output_type": "stream",
     "text": [
      "HTTPSConnectionPool(host='opendart.fss.or.kr', port=443): Max retries exceeded with url: /api/company.json?corp_code=01141872&crtfc_key=f2e08d4ed3de0ba3d5cbf59c04c223e02b1751a2 (Caused by SSLError(SSLEOFError(8, 'EOF occurred in violation of protocol (_ssl.c:997)')))\n"
     ]
    },
    {
     "name": "stderr",
     "output_type": "stream",
     "text": [
      "100%|██████████| 1000/1000 [04:23<00:00,  3.79it/s]\n",
      " 99%|█████████▉| 991/1000 [04:25<00:02,  3.74it/s]\n"
     ]
    },
    {
     "name": "stdout",
     "output_type": "stream",
     "text": [
      "HTTPSConnectionPool(host='opendart.fss.or.kr', port=443): Max retries exceeded with url: /api/company.json?corp_code=01373888&crtfc_key=f2e08d4ed3de0ba3d5cbf59c04c223e02b1751a2 (Caused by SSLError(SSLEOFError(8, 'EOF occurred in violation of protocol (_ssl.c:997)')))\n"
     ]
    },
    {
     "name": "stderr",
     "output_type": "stream",
     "text": [
      "100%|██████████| 1000/1000 [04:26<00:00,  3.75it/s]\n",
      "100%|██████████| 1000/1000 [04:24<00:00,  3.77it/s]\n",
      "100%|██████████| 1000/1000 [04:23<00:00,  3.80it/s]\n",
      "100%|██████████| 1000/1000 [04:22<00:00,  3.82it/s]\n",
      "100%|██████████| 1000/1000 [04:23<00:00,  3.80it/s]\n",
      " 98%|█████████▊| 977/1000 [04:39<00:06,  3.49it/s]\n"
     ]
    },
    {
     "name": "stdout",
     "output_type": "stream",
     "text": [
      "HTTPSConnectionPool(host='opendart.fss.or.kr', port=443): Max retries exceeded with url: /api/company.json?corp_code=00994435&crtfc_key=f2e08d4ed3de0ba3d5cbf59c04c223e02b1751a2 (Caused by ConnectTimeoutError(<urllib3.connection.HTTPSConnection object at 0x000002C1BBB92D10>, 'Connection to opendart.fss.or.kr timed out. (connect timeout=None)'))\n"
     ]
    },
    {
     "name": "stderr",
     "output_type": "stream",
     "text": [
      " 84%|████████▍ | 844/1000 [03:43<00:41,  3.77it/s]\n"
     ]
    },
    {
     "name": "stdout",
     "output_type": "stream",
     "text": [
      "HTTPSConnectionPool(host='opendart.fss.or.kr', port=443): Max retries exceeded with url: /api/company.json?corp_code=00868042&crtfc_key=f2e08d4ed3de0ba3d5cbf59c04c223e02b1751a2 (Caused by SSLError(SSLEOFError(8, 'EOF occurred in violation of protocol (_ssl.c:997)')))\n"
     ]
    },
    {
     "name": "stderr",
     "output_type": "stream",
     "text": [
      " 98%|█████████▊| 975/1000 [04:17<00:06,  3.78it/s]\n"
     ]
    },
    {
     "name": "stdout",
     "output_type": "stream",
     "text": [
      "HTTPSConnectionPool(host='opendart.fss.or.kr', port=443): Max retries exceeded with url: /api/company.json?corp_code=00448741&crtfc_key=f2e08d4ed3de0ba3d5cbf59c04c223e02b1751a2 (Caused by SSLError(SSLEOFError(8, 'EOF occurred in violation of protocol (_ssl.c:997)')))\n"
     ]
    },
    {
     "name": "stderr",
     "output_type": "stream",
     "text": [
      "  1%|          | 9/1000 [00:02<04:54,  3.37it/s]\n"
     ]
    },
    {
     "name": "stdout",
     "output_type": "stream",
     "text": [
      "HTTPSConnectionPool(host='opendart.fss.or.kr', port=443): Max retries exceeded with url: /api/company.json?corp_code=00486565&crtfc_key=f2e08d4ed3de0ba3d5cbf59c04c223e02b1751a2 (Caused by SSLError(SSLEOFError(8, 'EOF occurred in violation of protocol (_ssl.c:997)')))\n"
     ]
    },
    {
     "name": "stderr",
     "output_type": "stream",
     "text": [
      "100%|██████████| 1000/1000 [04:26<00:00,  3.76it/s]\n",
      " 49%|████▉     | 492/1000 [02:10<02:14,  3.78it/s]\n"
     ]
    },
    {
     "name": "stdout",
     "output_type": "stream",
     "text": [
      "사용한도를 초과하였습니다.\n",
      "\n"
     ]
    },
    {
     "name": "stderr",
     "output_type": "stream",
     "text": [
      "  0%|          | 0/1000 [00:00<?, ?it/s]"
     ]
    },
    {
     "name": "stdout",
     "output_type": "stream",
     "text": [
      "사용한도를 초과하였습니다.\n",
      "\n"
     ]
    },
    {
     "name": "stderr",
     "output_type": "stream",
     "text": [
      "\n"
     ]
    }
   ],
   "source": [
    "from tqdm import tqdm\n",
    "from time import sleep\n",
    "import requests\n",
    "\n",
    "# Company Info   \n",
    "url = 'https://opendart.fss.or.kr/api/company.json'\n",
    "api_key = 'f2e08d4ed3de0ba3d5cbf59c04c223e02b1751a2'\n",
    "\n",
    "for corp_codes in list_of_lists:\n",
    "    corp_list = []\n",
    "    for corp_code in tqdm(corp_codes):\n",
    "        sleep(0.1)\n",
    "        params = {\n",
    "            'corp_code': corp_code,\n",
    "            'crtfc_key': api_key,\n",
    "        }\n",
    "        try:\n",
    "            response = requests.get(url, params=params)     \n",
    "            if response.status_code == 200:     # URL GET '200 정상'\n",
    "                json_data = response.json()\n",
    "                if json_data['status'] == '020':    # 사용한도 초과\n",
    "                    print(json_data['message'])\n",
    "                    raise Exception\n",
    "                else:\n",
    "                    corp_list.append(json_data)\n",
    "            else:\n",
    "                print(\"URL GET Error\", corp_code)\n",
    "                break\n",
    "        except Exception as e:\n",
    "            print(e)\n",
    "            break\n",
    "    if len(corp_list) == 0:\n",
    "        break\n",
    "    else:\n",
    "        # 데이터프레임 형태로 변환\n",
    "        df_save_corp = pd.DataFrame(corp_list)\n",
    "        # csv 파일로 저장\n",
    "        df_save_corp = df_save_corp.astype({'corp_code' : 'string', 'stock_code' : 'string'})\n",
    "        file_path = path_dir + 'corp_info_' + now_dt_str() + '.csv'\n",
    "        df_save_corp.to_csv(file_path, index=False)"
   ]
  }
 ],
 "metadata": {
  "kernelspec": {
   "display_name": "Python 3",
   "language": "python",
   "name": "python3"
  },
  "language_info": {
   "codemirror_mode": {
    "name": "ipython",
    "version": 3
   },
   "file_extension": ".py",
   "mimetype": "text/x-python",
   "name": "python",
   "nbconvert_exporter": "python",
   "pygments_lexer": "ipython3",
   "version": "3.10.8"
  },
  "orig_nbformat": 4
 },
 "nbformat": 4,
 "nbformat_minor": 2
}
