{
 "cells": [
  {
   "attachments": {},
   "cell_type": "markdown",
   "metadata": {},
   "source": [
    "## 기업 고유코드\n",
    "+ 작성: 임경호\n",
    "+ 금융감독원 OPEN DART https://opendart.fss.or.kr/"
   ]
  },
  {
   "cell_type": "code",
   "execution_count": 1,
   "metadata": {},
   "outputs": [],
   "source": [
    "import requests\n",
    "\n",
    "url = 'https://opendart.fss.or.kr/api/corpCode.xml'\n",
    "api_key = 'f2e08d4ed3de0ba3d5cbf59c04c223e02b1751a2'\n",
    "params = {\n",
    "    'crtfc_key': api_key,\n",
    "}\n",
    "\n",
    "response = requests.get(url, params=params)\n",
    "if response.status_code != 200:     # URL GET '200 정상'\n",
    "    print(\"URL GET Error\")"
   ]
  },
  {
   "cell_type": "code",
   "execution_count": 2,
   "metadata": {},
   "outputs": [],
   "source": [
    "import io\n",
    "import zipfile\n",
    "\n",
    "# 출력포멧이 Zip FILE (binary)\n",
    "f = io.BytesIO(response.content)\n",
    "zfile = zipfile.ZipFile(f)"
   ]
  },
  {
   "cell_type": "code",
   "execution_count": 3,
   "metadata": {},
   "outputs": [
    {
     "data": {
      "text/plain": [
       "['CORPCODE.xml']"
      ]
     },
     "execution_count": 3,
     "metadata": {},
     "output_type": "execute_result"
    }
   ],
   "source": [
    "zfile.namelist()"
   ]
  },
  {
   "cell_type": "code",
   "execution_count": 4,
   "metadata": {},
   "outputs": [],
   "source": [
    "import pandas as pd\n",
    "import xmltodict\n",
    "# 압축된 파일에서 데이터를 읽습니다. xmltodict 모듈을 사용해서 압축이 해제된 xml 데이터를 파이썬의 OrderedDict 타입으로 변환합니다.\n",
    "xml_data = zfile.read(\"CORPCODE.xml\").decode(\"utf-8\")\n",
    "dict_data = xmltodict.parse(xml_data)\n",
    "# 딕셔너리에서 키 값을 확인하여 실제 데이터가 있는 부분을 인덱싱합니다. 그러다음 해당 데이터를 판다스의 데이터프레임 객체로 변환합니다.\n",
    "data_list = dict_data['result']['list']\n",
    "df_corp = pd.DataFrame(data_list)"
   ]
  },
  {
   "cell_type": "code",
   "execution_count": 5,
   "metadata": {},
   "outputs": [
    {
     "data": {
      "text/plain": [
       "(103859, 4)"
      ]
     },
     "execution_count": 5,
     "metadata": {},
     "output_type": "execute_result"
    }
   ],
   "source": [
    "df_corp.shape"
   ]
  },
  {
   "cell_type": "code",
   "execution_count": 6,
   "metadata": {},
   "outputs": [],
   "source": [
    "df_corp = df_corp.astype({'corp_code' : 'string', 'stock_code' : 'string'})"
   ]
  },
  {
   "cell_type": "code",
   "execution_count": 7,
   "metadata": {},
   "outputs": [
    {
     "data": {
      "text/plain": [
       "corp_code      string[python]\n",
       "corp_name              object\n",
       "stock_code     string[python]\n",
       "modify_date            object\n",
       "dtype: object"
      ]
     },
     "execution_count": 7,
     "metadata": {},
     "output_type": "execute_result"
    }
   ],
   "source": [
    "df_corp.dtypes"
   ]
  },
  {
   "cell_type": "code",
   "execution_count": 8,
   "metadata": {},
   "outputs": [
    {
     "data": {
      "text/html": [
       "<div>\n",
       "<style scoped>\n",
       "    .dataframe tbody tr th:only-of-type {\n",
       "        vertical-align: middle;\n",
       "    }\n",
       "\n",
       "    .dataframe tbody tr th {\n",
       "        vertical-align: top;\n",
       "    }\n",
       "\n",
       "    .dataframe thead th {\n",
       "        text-align: right;\n",
       "    }\n",
       "</style>\n",
       "<table border=\"1\" class=\"dataframe\">\n",
       "  <thead>\n",
       "    <tr style=\"text-align: right;\">\n",
       "      <th></th>\n",
       "      <th>corp_code</th>\n",
       "      <th>corp_name</th>\n",
       "      <th>stock_code</th>\n",
       "      <th>modify_date</th>\n",
       "    </tr>\n",
       "  </thead>\n",
       "  <tbody>\n",
       "    <tr>\n",
       "      <th>0</th>\n",
       "      <td>00434003</td>\n",
       "      <td>다코</td>\n",
       "      <td>&lt;NA&gt;</td>\n",
       "      <td>20170630</td>\n",
       "    </tr>\n",
       "    <tr>\n",
       "      <th>1</th>\n",
       "      <td>00434456</td>\n",
       "      <td>일산약품</td>\n",
       "      <td>&lt;NA&gt;</td>\n",
       "      <td>20170630</td>\n",
       "    </tr>\n",
       "    <tr>\n",
       "      <th>2</th>\n",
       "      <td>00430964</td>\n",
       "      <td>굿앤엘에스</td>\n",
       "      <td>&lt;NA&gt;</td>\n",
       "      <td>20170630</td>\n",
       "    </tr>\n",
       "    <tr>\n",
       "      <th>3</th>\n",
       "      <td>00432403</td>\n",
       "      <td>한라판지</td>\n",
       "      <td>&lt;NA&gt;</td>\n",
       "      <td>20170630</td>\n",
       "    </tr>\n",
       "    <tr>\n",
       "      <th>4</th>\n",
       "      <td>00388953</td>\n",
       "      <td>크레디피아제이십오차유동화전문회사</td>\n",
       "      <td>&lt;NA&gt;</td>\n",
       "      <td>20170630</td>\n",
       "    </tr>\n",
       "    <tr>\n",
       "      <th>...</th>\n",
       "      <td>...</td>\n",
       "      <td>...</td>\n",
       "      <td>...</td>\n",
       "      <td>...</td>\n",
       "    </tr>\n",
       "    <tr>\n",
       "      <th>103854</th>\n",
       "      <td>01525205</td>\n",
       "      <td>정담유통</td>\n",
       "      <td>&lt;NA&gt;</td>\n",
       "      <td>20230228</td>\n",
       "    </tr>\n",
       "    <tr>\n",
       "      <th>103855</th>\n",
       "      <td>00646510</td>\n",
       "      <td>미래에셋파트너스사호사모투자전문회사</td>\n",
       "      <td>&lt;NA&gt;</td>\n",
       "      <td>20230228</td>\n",
       "    </tr>\n",
       "    <tr>\n",
       "      <th>103856</th>\n",
       "      <td>01184822</td>\n",
       "      <td>미래에셋파트너스9호사모투자</td>\n",
       "      <td>&lt;NA&gt;</td>\n",
       "      <td>20230228</td>\n",
       "    </tr>\n",
       "    <tr>\n",
       "      <th>103857</th>\n",
       "      <td>00755252</td>\n",
       "      <td>시니안</td>\n",
       "      <td>&lt;NA&gt;</td>\n",
       "      <td>20230228</td>\n",
       "    </tr>\n",
       "    <tr>\n",
       "      <th>103858</th>\n",
       "      <td>00227582</td>\n",
       "      <td>청호나이스</td>\n",
       "      <td>&lt;NA&gt;</td>\n",
       "      <td>20230228</td>\n",
       "    </tr>\n",
       "  </tbody>\n",
       "</table>\n",
       "<p>103859 rows × 4 columns</p>\n",
       "</div>"
      ],
      "text/plain": [
       "       corp_code           corp_name stock_code modify_date\n",
       "0       00434003                  다코       <NA>    20170630\n",
       "1       00434456                일산약품       <NA>    20170630\n",
       "2       00430964               굿앤엘에스       <NA>    20170630\n",
       "3       00432403                한라판지       <NA>    20170630\n",
       "4       00388953   크레디피아제이십오차유동화전문회사       <NA>    20170630\n",
       "...          ...                 ...        ...         ...\n",
       "103854  01525205                정담유통       <NA>    20230228\n",
       "103855  00646510  미래에셋파트너스사호사모투자전문회사       <NA>    20230228\n",
       "103856  01184822      미래에셋파트너스9호사모투자       <NA>    20230228\n",
       "103857  00755252                 시니안       <NA>    20230228\n",
       "103858  00227582               청호나이스       <NA>    20230228\n",
       "\n",
       "[103859 rows x 4 columns]"
      ]
     },
     "execution_count": 8,
     "metadata": {},
     "output_type": "execute_result"
    }
   ],
   "source": [
    "df_corp"
   ]
  },
  {
   "cell_type": "code",
   "execution_count": 9,
   "metadata": {},
   "outputs": [],
   "source": [
    "# 파일 저장\n",
    "path_dir = \"D:/PythonProject/data-gatherer/dart_fs_notes/company/\"\n",
    "df_corp.to_csv(path_dir + 'corp_codes_all.csv', index=False)"
   ]
  }
 ],
 "metadata": {
  "kernelspec": {
   "display_name": "data-gatherer-venv",
   "language": "python",
   "name": "python3"
  },
  "language_info": {
   "codemirror_mode": {
    "name": "ipython",
    "version": 3
   },
   "file_extension": ".py",
   "mimetype": "text/x-python",
   "name": "python",
   "nbconvert_exporter": "python",
   "pygments_lexer": "ipython3",
   "version": "3.10.8"
  },
  "orig_nbformat": 4
 },
 "nbformat": 4,
 "nbformat_minor": 2
}
