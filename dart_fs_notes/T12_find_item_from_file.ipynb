{
 "cells": [
  {
   "cell_type": "markdown",
   "metadata": {},
   "source": [
    "### 사업보고서 \"재무제표 주석\" HTML 다운로드한 문서에서 값 읽기\n",
    "* 파일명: <corp_code>_<recpt_no>_fs_notes.html"
   ]
  },
  {
   "cell_type": "code",
   "execution_count": 3,
   "metadata": {},
   "outputs": [],
   "source": [
    "# 금액 단위 찾기\n",
    "def get_unit(text):\n",
    "    if '(단위:백만원)' in text or '[단위:백만원]' in text: unit = '백만원'\n",
    "    elif '(단위:천원)' in text or '[단위:천원]' in text: unit = '천원'\n",
    "    elif '(단위:원)' in text or '[단위:원]' in text: unit = '원'\n",
    "    else: unit = None   \n",
    "    return unit\n",
    "\n",
    "# 콤마와 괄호를 제거한다.\n",
    "def str2num(x):\n",
    "    if \",\" in x: x = x.replace(\",\",\"\")\n",
    "    if x.startswith(\"(\"): x = x.lstrip(\"(\")\n",
    "    if x.endswith(\")\"): x = x.rstrip(\")\")\n",
    "    return float(x)"
   ]
  },
  {
   "cell_type": "code",
   "execution_count": 6,
   "metadata": {},
   "outputs": [
    {
     "name": "stdout",
     "output_type": "stream",
     "text": [
      "원 24306779070.0 15839581933.0\n"
     ]
    }
   ],
   "source": [
    "import pandas as pd\n",
    "from bs4 import BeautifulSoup\n",
    "path_dir = 'D:/PythonProject/data-gatherer/dart_fs_notes/fs_notes_files/'\n",
    "file_name = '00127802_20150330000271_fs_notes.html'\n",
    "file_path = path_dir + file_name\n",
    "with open(file_path, \"r\") as file:\n",
    "    html_doc = file.read()\n",
    "\n",
    "val_a = val_b = 0.0\n",
    "unit = None\n",
    "\n",
    "# 금액 단위\n",
    "soup = BeautifulSoup(html_doc, 'html.parser')\n",
    "doc_text = soup.text\n",
    "trimmed_text = doc_text.replace(\" \",\"\")     # 문서에 있는 모든 공백 제거\n",
    "unit = get_unit(trimmed_text)\n",
    "\n",
    "# 확정급여채무의 현재가치, 사외적립자산의 공정가치\n",
    "doc_data = pd.read_html(html_doc)\n",
    "for df in doc_data:\n",
    "    row = df.shape[0]\n",
    "    for i in range(0, row):\n",
    "        item = str(df.iloc[i,0])\n",
    "        if item.__contains__('확정급여채무의 현재가치'):\n",
    "            str_a = str(df.iloc[i,1])\n",
    "            if str_a == \"-\": val_a = 0.0\n",
    "            else: val_a += str2num(str_a)       # 값을 합한다.\n",
    "        elif item.__contains__('사외적립자산의 공정가치'):                      \n",
    "            str_b = str(df.iloc[i,1])\n",
    "            if str_b == \"-\": val_b = 0.0\n",
    "            else: val_b = str2num(str_b)\n",
    "        else:\n",
    "            continue    \n",
    "    if (val_a != 0.0) and (val_b != 0.0):\n",
    "        break          \n",
    "    \n",
    "print(unit, val_a, val_b, sep=' ')"
   ]
  },
  {
   "cell_type": "code",
   "execution_count": null,
   "metadata": {},
   "outputs": [],
   "source": [
    "\n"
   ]
  }
 ],
 "metadata": {
  "kernelspec": {
   "display_name": "data-gatherer.venv",
   "language": "python",
   "name": "python3"
  },
  "language_info": {
   "codemirror_mode": {
    "name": "ipython",
    "version": 3
   },
   "file_extension": ".py",
   "mimetype": "text/x-python",
   "name": "python",
   "nbconvert_exporter": "python",
   "pygments_lexer": "ipython3",
   "version": "3.10.8"
  },
  "orig_nbformat": 4
 },
 "nbformat": 4,
 "nbformat_minor": 2
}
