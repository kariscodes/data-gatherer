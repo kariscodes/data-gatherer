{
 "cells": [
  {
   "cell_type": "markdown",
   "metadata": {},
   "source": [
    "### 사업보고서 \"재무제표 주석\" 다운로드한 HTML 문서(샘플)에서 값 읽기 테스트"
   ]
  },
  {
   "cell_type": "markdown",
   "metadata": {},
   "source": [
    "* 여러 파일 테스트"
   ]
  },
  {
   "cell_type": "code",
   "execution_count": 5,
   "metadata": {},
   "outputs": [
    {
     "name": "stdout",
     "output_type": "stream",
     "text": [
      "대원화성_2017.html \t 천원 \t 4333527.0 \t 0.0\n",
      "삼성전자_2020.htm \t 백만원 \t 9754082.0 \t 10916538.0\n",
      "삼익THK.html \t 원 \t 24306779070.0 \t 15839581933.0\n",
      "송원산업_2022.html \t 백만원 \t 65649.0 \t -1\n",
      "이수화학_2017.html \t 천원 \t 31658642.0 \t 33350365.0\n",
      "조선내화_2016년.htm \t 천원 \t 31474613.0 \t 31603167.0\n",
      "카프로_2016.html \t 천원 \t 20364282.0 \t 2075400.0\n",
      "황금에스티_2021.html \t 천원 \t 0.0 \t -1\n"
     ]
    }
   ],
   "source": [
    "import os\n",
    "\n",
    "import sys\n",
    "module_path = \"D:\\PythonProject\\data-gatherer\\dart_fs_notes\"\n",
    "sys.path.append(module_path)\n",
    "import mydart\n",
    "\n",
    "# 샘플 파일 위치\n",
    "path_dir = \"D:/PythonProject/data-gatherer/dart_fs_notes/sample/\"\n",
    "file_list = os.listdir(path_dir)\n",
    " \n",
    "for file_name in file_list:\n",
    "    with open(path_dir + file_name, \"r\") as file:\n",
    "        html_doc = file.read()\n",
    "    val_a = val_b = 0.0\n",
    "    unit = None\n",
    "    # 재무제표 주석 문서에서 사용된 금액 단위 찾기 (확정급여채무)\n",
    "    unit = mydart.find_unit(html_doc, url=False)\n",
    "    # 당기말의 \"확정급여채무\"와 \"사외적립자산\" 금액 찾기\n",
    "    val_a, val_b = mydart.find_item(html_doc)\n",
    "    print(file_name, '\\t', unit, '\\t', val_a, '\\t', val_b)   "
   ]
  },
  {
   "cell_type": "markdown",
   "metadata": {},
   "source": [
    "* 한 개 파일 테스트"
   ]
  },
  {
   "cell_type": "code",
   "execution_count": 4,
   "metadata": {},
   "outputs": [
    {
     "name": "stdout",
     "output_type": "stream",
     "text": [
      "이수화학_2017.html \t 천원 \t 31658642.0 \t 33350365.0\n"
     ]
    }
   ],
   "source": [
    "import sys\n",
    "module_path = \"D:\\PythonProject\\data-gatherer\\dart_fs_notes\"\n",
    "sys.path.append(module_path)\n",
    "import mydart\n",
    "\n",
    "# 샘플 파일 위치\n",
    "path_dir = \"D:/PythonProject/data-gatherer/dart_fs_notes/sample/\"\n",
    "file_name = \"이수화학_2017.html\"\n",
    " \n",
    "with open(path_dir + file_name, \"r\") as file:\n",
    "    html_doc = file.read()\n",
    "val_a = val_b = 0.0\n",
    "unit = None\n",
    "# 재무제표 주석 문서에서 사용된 금액 단위 찾기 (확정급여채무)\n",
    "unit = mydart.find_unit(html_doc, url=False)\n",
    "# 당기말의 \"확정급여채무\"와 \"사외적립자산\" 금액 찾기\n",
    "val_a, val_b = mydart.find_item(html_doc)\n",
    "print(file_name, '\\t', unit, '\\t', val_a, '\\t', val_b)   "
   ]
  }
 ],
 "metadata": {
  "kernelspec": {
   "display_name": "data-gatherer.venv",
   "language": "python",
   "name": "python3"
  },
  "language_info": {
   "codemirror_mode": {
    "name": "ipython",
    "version": 3
   },
   "file_extension": ".py",
   "mimetype": "text/x-python",
   "name": "python",
   "nbconvert_exporter": "python",
   "pygments_lexer": "ipython3",
   "version": "3.10.8"
  },
  "orig_nbformat": 4
 },
 "nbformat": 4,
 "nbformat_minor": 2
}
