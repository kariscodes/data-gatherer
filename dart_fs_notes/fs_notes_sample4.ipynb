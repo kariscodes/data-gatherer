{
 "cells": [
  {
   "cell_type": "code",
   "execution_count": 1,
   "metadata": {},
   "outputs": [],
   "source": [
    "import pandas as pd\n",
    "import traceback\n",
    "\n",
    "import OpenDartReader\n",
    "api_key = 'f2e08d4ed3de0ba3d5cbf59c04c223e02b1751a2'\n",
    "dart = OpenDartReader(api_key)"
   ]
  },
  {
   "cell_type": "code",
   "execution_count": 2,
   "metadata": {},
   "outputs": [],
   "source": [
    "def str2num(x):\n",
    "    if \",\" in x:\n",
    "        x = x.replace(\",\",\"\")\n",
    "    if x.startswith(\"(\") and x.endswith(\")\"):\n",
    "        x = x.lstrip(\"(\")\n",
    "        x = x.rstrip(\")\")\n",
    "        float_num = float(x) * (-1)\n",
    "    else:\n",
    "        x = x.lstrip(\"(\")\n",
    "        x = x.rstrip(\")\")     \n",
    "        float_num = float(x)\n",
    "    return float_num"
   ]
  },
  {
   "cell_type": "code",
   "execution_count": 3,
   "metadata": {},
   "outputs": [],
   "source": [
    "reports = dart.list('010060', start='2021-01-01', end='2021-12-31', kind='A', final=True)\n",
    "# reports = dart.list('096640', start='2021-01-01', end='2021-12-31', kind='A', final=True)\n",
    "# reports = dart.list('008290', start='2021-01-01', end='2021-12-31', kind='A', final=True)\n",
    "# reports = dart.list('307750', start='2021-01-01', end='2021-12-31', kind='A', final=True)"
   ]
  },
  {
   "cell_type": "code",
   "execution_count": 4,
   "metadata": {},
   "outputs": [
    {
     "data": {
      "text/html": [
       "<div>\n",
       "<style scoped>\n",
       "    .dataframe tbody tr th:only-of-type {\n",
       "        vertical-align: middle;\n",
       "    }\n",
       "\n",
       "    .dataframe tbody tr th {\n",
       "        vertical-align: top;\n",
       "    }\n",
       "\n",
       "    .dataframe thead th {\n",
       "        text-align: right;\n",
       "    }\n",
       "</style>\n",
       "<table border=\"1\" class=\"dataframe\">\n",
       "  <thead>\n",
       "    <tr style=\"text-align: right;\">\n",
       "      <th></th>\n",
       "      <th>corp_code</th>\n",
       "      <th>corp_name</th>\n",
       "      <th>stock_code</th>\n",
       "      <th>corp_cls</th>\n",
       "      <th>report_nm</th>\n",
       "      <th>rcept_no</th>\n",
       "      <th>flr_nm</th>\n",
       "      <th>rcept_dt</th>\n",
       "      <th>rm</th>\n",
       "    </tr>\n",
       "  </thead>\n",
       "  <tbody>\n",
       "    <tr>\n",
       "      <th>0</th>\n",
       "      <td>00148896</td>\n",
       "      <td>OCI홀딩스</td>\n",
       "      <td>010060</td>\n",
       "      <td>Y</td>\n",
       "      <td>분기보고서 (2021.09)</td>\n",
       "      <td>20211112000360</td>\n",
       "      <td>OCI홀딩스</td>\n",
       "      <td>20211112</td>\n",
       "      <td></td>\n",
       "    </tr>\n",
       "    <tr>\n",
       "      <th>1</th>\n",
       "      <td>00148896</td>\n",
       "      <td>OCI홀딩스</td>\n",
       "      <td>010060</td>\n",
       "      <td>Y</td>\n",
       "      <td>반기보고서 (2021.06)</td>\n",
       "      <td>20210813000353</td>\n",
       "      <td>OCI홀딩스</td>\n",
       "      <td>20210813</td>\n",
       "      <td></td>\n",
       "    </tr>\n",
       "    <tr>\n",
       "      <th>2</th>\n",
       "      <td>00148896</td>\n",
       "      <td>OCI홀딩스</td>\n",
       "      <td>010060</td>\n",
       "      <td>Y</td>\n",
       "      <td>[기재정정]분기보고서 (2021.03)</td>\n",
       "      <td>20210518000324</td>\n",
       "      <td>OCI홀딩스</td>\n",
       "      <td>20210518</td>\n",
       "      <td></td>\n",
       "    </tr>\n",
       "    <tr>\n",
       "      <th>3</th>\n",
       "      <td>00148896</td>\n",
       "      <td>OCI홀딩스</td>\n",
       "      <td>010060</td>\n",
       "      <td>Y</td>\n",
       "      <td>[기재정정]사업보고서 (2020.12)</td>\n",
       "      <td>20210401002874</td>\n",
       "      <td>OCI홀딩스</td>\n",
       "      <td>20210401</td>\n",
       "      <td>연</td>\n",
       "    </tr>\n",
       "  </tbody>\n",
       "</table>\n",
       "</div>"
      ],
      "text/plain": [
       "  corp_code corp_name stock_code corp_cls              report_nm  \\\n",
       "0  00148896    OCI홀딩스     010060        Y        분기보고서 (2021.09)   \n",
       "1  00148896    OCI홀딩스     010060        Y        반기보고서 (2021.06)   \n",
       "2  00148896    OCI홀딩스     010060        Y  [기재정정]분기보고서 (2021.03)   \n",
       "3  00148896    OCI홀딩스     010060        Y  [기재정정]사업보고서 (2020.12)   \n",
       "\n",
       "         rcept_no  flr_nm  rcept_dt rm  \n",
       "0  20211112000360  OCI홀딩스  20211112     \n",
       "1  20210813000353  OCI홀딩스  20210813     \n",
       "2  20210518000324  OCI홀딩스  20210518     \n",
       "3  20210401002874  OCI홀딩스  20210401  연  "
      ]
     },
     "execution_count": 4,
     "metadata": {},
     "output_type": "execute_result"
    }
   ],
   "source": [
    "reports"
   ]
  },
  {
   "cell_type": "code",
   "execution_count": 5,
   "metadata": {},
   "outputs": [],
   "source": [
    "subreports = []\n",
    "str_expr = \"title.str.contains('5. 재무제표 주석')\"\n",
    "for i, row in reports.iterrows():\n",
    "    if '사업보고서' in row['report_nm']:\n",
    "        rpt_num = row['rcept_no']\n",
    "        rpt_url = 'http://dart.fss.or.kr/dsaf001/main.do?rcpNo=' + rpt_num\n",
    "        df_rpt = dart.sub_docs(rpt_num)\n",
    "        rpt_data = df_rpt.query(str_expr)       # data frame\n",
    "        rpt_title = rpt_data.iloc[0]['title']\n",
    "        rpt_notes_url = rpt_data.iloc[0]['url']\n",
    "        subreports.append({'rpt_num' : rpt_num, 'stock_code' : row['stock_code'], 'corp_name' : row['corp_name'], 'rpt_name' : row['report_nm'], 'rpt_url' : rpt_url,\n",
    "                           'rpt_title' : rpt_title, 'rpt_notes_url' : rpt_notes_url}) "
   ]
  },
  {
   "cell_type": "code",
   "execution_count": 6,
   "metadata": {},
   "outputs": [
    {
     "data": {
      "text/plain": [
       "[{'rpt_num': '20210401002874',\n",
       "  'stock_code': '010060',\n",
       "  'corp_name': 'OCI홀딩스',\n",
       "  'rpt_name': '[기재정정]사업보고서 (2020.12)',\n",
       "  'rpt_url': 'http://dart.fss.or.kr/dsaf001/main.do?rcpNo=20210401002874',\n",
       "  'rpt_title': '5. 재무제표 주석',\n",
       "  'rpt_notes_url': 'http://dart.fss.or.kr/report/viewer.do?rcpNo=20210401002874&dcmNo=7952875&eleId=19&offset=1229304&length=492495&dtd=dart3.xsd'}]"
      ]
     },
     "execution_count": 6,
     "metadata": {},
     "output_type": "execute_result"
    }
   ],
   "source": [
    "subreports"
   ]
  },
  {
   "cell_type": "code",
   "execution_count": 7,
   "metadata": {},
   "outputs": [
    {
     "name": "stdout",
     "output_type": "stream",
     "text": [
      "20210401002874\n",
      "http://dart.fss.or.kr/dsaf001/main.do?rcpNo=20210401002874\n",
      "http://dart.fss.or.kr/report/viewer.do?rcpNo=20210401002874&dcmNo=7952875&eleId=19&offset=1229304&length=492495&dtd=dart3.xsd\n",
      "Traceback (most recent call last):\n",
      "  File \"C:\\Users\\kyungho\\AppData\\Local\\Temp\\ipykernel_5736\\1590050064.py\", line 13, in <module>\n",
      "    val_a = str2num(str(df.iloc[i,1]))\n",
      "NameError: name 'str2num' is not defined\n",
      "\n"
     ]
    }
   ],
   "source": [
    "data_list = []\n",
    "for r in subreports:\n",
    "    try:\n",
    "        url = r['rpt_notes_url']\n",
    "        doc_data = pd.read_html(url)\n",
    "        val_a = val_b = None\n",
    "        for df in doc_data:\n",
    "            row = df.shape[0]\n",
    "            for i in range(0, row):\n",
    "                item = str(df.iloc[i,0])\n",
    "                if item.__contains__('확정급여채무의 현재가치'):\n",
    "                    # print(i, type(df.iloc[i,1]), df.iloc[i,1])\n",
    "                    val_a = str2num(str(df.iloc[i,1]))\n",
    "                elif item.__contains__('사외적립자산의 공정가치'):\n",
    "                    # print(i, type(df.iloc[i,1]), df.iloc[i,1])                            \n",
    "                    val_b = str2num(str(df.iloc[i,1]))\n",
    "                else:\n",
    "                    continue              \n",
    "        data_list.append({'corp_name' : r['corp_name'], 'stock_code' : r['stock_code'], 'rpt_num' : r['rpt_num'], 'rpt_name' : r['rpt_name'], \n",
    "                        'val_a' : val_a, 'val_b' : val_b})\n",
    "    except Exception as e:\n",
    "        print(r['rpt_num'])\n",
    "        print(r['rpt_url'])\n",
    "        print(r['rpt_notes_url'])\n",
    "        err_msg = traceback.format_exc()\n",
    "        print(err_msg)"
   ]
  },
  {
   "cell_type": "code",
   "execution_count": 66,
   "metadata": {},
   "outputs": [
    {
     "data": {
      "text/plain": [
       "[{'corp_name': 'OCI홀딩스',\n",
       "  'stock_code': '010060',\n",
       "  'rpt_num': '20210401002874',\n",
       "  'rpt_name': '[기재정정]사업보고서 (2020.12)',\n",
       "  'val_a': 150685632.0,\n",
       "  'val_b': -136848167.0}]"
      ]
     },
     "execution_count": 66,
     "metadata": {},
     "output_type": "execute_result"
    }
   ],
   "source": [
    "data_list"
   ]
  }
 ],
 "metadata": {
  "kernelspec": {
   "display_name": "data-gatherer.venv",
   "language": "python",
   "name": "python3"
  },
  "language_info": {
   "codemirror_mode": {
    "name": "ipython",
    "version": 3
   },
   "file_extension": ".py",
   "mimetype": "text/x-python",
   "name": "python",
   "nbconvert_exporter": "python",
   "pygments_lexer": "ipython3",
   "version": "3.10.8"
  },
  "orig_nbformat": 4
 },
 "nbformat": 4,
 "nbformat_minor": 2
}
