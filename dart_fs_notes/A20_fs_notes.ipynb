{
 "cells": [
  {
   "cell_type": "markdown",
   "metadata": {},
   "source": [
    "### 사업보고서 \"재무제표 주석\" 문서 URL"
   ]
  },
  {
   "cell_type": "code",
   "execution_count": 1,
   "metadata": {},
   "outputs": [],
   "source": [
    "import pandas as pd\n",
    "\n",
    "# 사업보고서 목록\n",
    "# file_path = \"D:/PythonProject/data-gatherer/dart_fs_notes/dart_rpt/A_rpt_all.csv\"\n",
    "\n",
    "# 사업보고서 목록 중 제조업\n",
    "file_path = \"D:/PythonProject/data-gatherer/dart_fs_notes/dart_rpt/A_rpt_all_mfg.csv\"\n",
    "\n",
    "df_rpt_all = pd.read_csv(file_path, dtype=object)"
   ]
  },
  {
   "cell_type": "markdown",
   "metadata": {},
   "source": [
    "* 대상 목록 확인"
   ]
  },
  {
   "cell_type": "code",
   "execution_count": 2,
   "metadata": {},
   "outputs": [
    {
     "data": {
      "text/html": [
       "<div>\n",
       "<style scoped>\n",
       "    .dataframe tbody tr th:only-of-type {\n",
       "        vertical-align: middle;\n",
       "    }\n",
       "\n",
       "    .dataframe tbody tr th {\n",
       "        vertical-align: top;\n",
       "    }\n",
       "\n",
       "    .dataframe thead th {\n",
       "        text-align: right;\n",
       "    }\n",
       "</style>\n",
       "<table border=\"1\" class=\"dataframe\">\n",
       "  <thead>\n",
       "    <tr style=\"text-align: right;\">\n",
       "      <th></th>\n",
       "      <th>corp_code</th>\n",
       "      <th>corp_name</th>\n",
       "      <th>stock_code</th>\n",
       "      <th>corp_cls</th>\n",
       "      <th>report_nm</th>\n",
       "      <th>rcept_no</th>\n",
       "      <th>flr_nm</th>\n",
       "      <th>rcept_dt</th>\n",
       "      <th>rm</th>\n",
       "      <th>induty_code</th>\n",
       "    </tr>\n",
       "  </thead>\n",
       "  <tbody>\n",
       "  </tbody>\n",
       "</table>\n",
       "</div>"
      ],
      "text/plain": [
       "Empty DataFrame\n",
       "Columns: [corp_code, corp_name, stock_code, corp_cls, report_nm, rcept_no, flr_nm, rcept_dt, rm, induty_code]\n",
       "Index: []"
      ]
     },
     "execution_count": 2,
     "metadata": {},
     "output_type": "execute_result"
    }
   ],
   "source": [
    "df_rpt_all[df_rpt_all['corp_name'].str.contains(\"리츠\")]"
   ]
  },
  {
   "cell_type": "code",
   "execution_count": 3,
   "metadata": {},
   "outputs": [
    {
     "data": {
      "text/plain": [
       "corp_cls\n",
       "K    2674\n",
       "Y    1801\n",
       "E    1024\n",
       "N     210\n",
       "Name: count, dtype: int64"
      ]
     },
     "execution_count": 3,
     "metadata": {},
     "output_type": "execute_result"
    }
   ],
   "source": [
    "df_rpt_all['corp_cls'].value_counts()"
   ]
  },
  {
   "cell_type": "code",
   "execution_count": 4,
   "metadata": {},
   "outputs": [
    {
     "data": {
      "text/plain": [
       "274"
      ]
     },
     "execution_count": 4,
     "metadata": {},
     "output_type": "execute_result"
    }
   ],
   "source": [
    "# 회사코드 정렬\n",
    "df_rpt_all = df_rpt_all.sort_values(by=['corp_code'], ascending=True)\n",
    "# 유가증권 기업 + 결산년도 2017~2021\n",
    "list_all_codes = df_rpt_all.loc[(df_rpt_all.corp_cls == 'Y') & (df_rpt_all.report_nm.str[-8:-4] >= '2017') & (df_rpt_all.report_nm.str[-8:-4] <= '2021'), ]['corp_code'].unique()\n",
    "len(list_all_codes)"
   ]
  },
  {
   "cell_type": "markdown",
   "metadata": {},
   "source": [
    "* 이미 재무제표 주석 문서 URL을 찾은 것은 대상에서 제외"
   ]
  },
  {
   "cell_type": "code",
   "execution_count": 5,
   "metadata": {},
   "outputs": [
    {
     "data": {
      "text/plain": [
       "342"
      ]
     },
     "execution_count": 5,
     "metadata": {},
     "output_type": "execute_result"
    }
   ],
   "source": [
    "import os.path\n",
    "# 이미 재무제표 주석 문서 URL을 찾은 회사코드 목록\n",
    "file_path = \"D:/PythonProject/data-gatherer/dart_fs_notes/fs_notes_urls/fs_notes_url_all.csv\"\n",
    "if os.path.exists(file_path):\n",
    "    fs_notes_all = pd.read_csv(file_path, dtype=object)\n",
    "    list_own_codes = fs_notes_all['corp_code'].unique()\n",
    "else:\n",
    "    list_own_codes = []\n",
    "    \n",
    "len(list_own_codes)"
   ]
  },
  {
   "cell_type": "code",
   "execution_count": 14,
   "metadata": {},
   "outputs": [
    {
     "data": {
      "text/plain": [
       "0"
      ]
     },
     "execution_count": 14,
     "metadata": {},
     "output_type": "execute_result"
    }
   ],
   "source": [
    "# 리스트에서 중복 제거 (이미 corp info가 있는 경우 대상에서 제외)\n",
    "list_target_codes = list(set(list_all_codes) - set(list_own_codes))\n",
    "len(list_target_codes)"
   ]
  },
  {
   "cell_type": "markdown",
   "metadata": {},
   "source": [
    "* 리스트 분할"
   ]
  },
  {
   "cell_type": "code",
   "execution_count": 15,
   "metadata": {},
   "outputs": [
    {
     "data": {
      "text/plain": [
       "0"
      ]
     },
     "execution_count": 15,
     "metadata": {},
     "output_type": "execute_result"
    }
   ],
   "source": [
    "list_cnt = len(list_target_codes)\n",
    "n = 100\n",
    "list_of_lists = [list_target_codes[i * n:(i + 1) * n] for i in range((list_cnt + n - 1) // n )] \n",
    "len(list_of_lists)"
   ]
  },
  {
   "cell_type": "markdown",
   "metadata": {},
   "source": [
    "* 재무제표 주석 문서 가져오기"
   ]
  },
  {
   "cell_type": "code",
   "execution_count": 8,
   "metadata": {},
   "outputs": [],
   "source": [
    "import traceback\n",
    "import datetime\n",
    "from time import sleep\n",
    "import OpenDartReader\n",
    "api_key = 'f2e08d4ed3de0ba3d5cbf59c04c223e02b1751a2'\n",
    "dart = OpenDartReader(api_key)\n",
    "\n",
    "import sys\n",
    "module_path = \"D:\\PythonProject\\data-gatherer\\dart_fs_notes\"\n",
    "sys.path.append(module_path)\n",
    "import myutil\n",
    "\n",
    "# 파일 저장 위치\n",
    "path_dir = \"D:/PythonProject/data-gatherer/dart_fs_notes/fs_notes_urls/\""
   ]
  },
  {
   "cell_type": "code",
   "execution_count": 9,
   "metadata": {},
   "outputs": [],
   "source": [
    "for corp_codes in list_of_lists:\n",
    "    for corp_code in corp_codes:\n",
    "        df_biz_rpt = df_rpt_all.loc[df_rpt_all.corp_code == corp_code,].sort_values(by=['rcept_dt'], ascending=True)\n",
    "        rpt_count = df_biz_rpt.shape[0]\n",
    "        subreports = []\n",
    "        for i, row in df_biz_rpt.iterrows():\n",
    "            sleep(1.0)\n",
    "            try:\n",
    "                rpt_name = row['report_nm']\n",
    "                rpt_num = row['rcept_no']        \n",
    "                rpt_url = 'http://dart.fss.or.kr/dsaf001/main.do?rcpNo=' + rpt_num\n",
    "                df_doc = dart.sub_docs(rpt_num)     \n",
    "                df_notes = df_doc.loc[(df_doc.title.str.contains('주석')) & (~df_doc.title.str.contains('연결')),]\n",
    "                if df_notes.size == 0:\n",
    "                    subreports.append({'corp_code' : row['corp_code'], 'stock_code' : row['stock_code'], 'corp_cls' : row['corp_cls'], 'corp_name' : row['corp_name'],\n",
    "                                       'rpt_num' : rpt_num, 'rpt_name' : rpt_name, 'rpt_url' : rpt_url,\n",
    "                                       'doc_title' : None, 'doc_url' : None, 'doc_result' : 'No Financial Statement Notes'})                 \n",
    "                else:\n",
    "                    rpt_title = df_notes.iloc[0]['title']\n",
    "                    rpt_notes_url = df_notes.iloc[0]['url']\n",
    "                    subreports.append({'corp_code' : row['corp_code'], 'stock_code' : row['stock_code'], 'corp_cls' : row['corp_cls'], 'corp_name' : row['corp_name'],\n",
    "                                       'rpt_num' : rpt_num, 'rpt_name' : rpt_name, 'rpt_url' : rpt_url, \n",
    "                                       'doc_title' : rpt_title, 'doc_url' : rpt_notes_url, 'doc_result' : 'OK'}) \n",
    "            except Exception as e:\n",
    "                print(row['rcept_no'])\n",
    "                print(row['report_nm'])\n",
    "                print('http://dart.fss.or.kr/dsaf001/main.do?rcpNo=' + row['rcept_no'])\n",
    "                err_msg = traceback.format_exc()\n",
    "                print(err_msg)\n",
    "                break\n",
    "        subrpt_count = len(subreports)        \n",
    "        if subrpt_count == 0:\n",
    "            break\n",
    "        elif subrpt_count == rpt_count:\n",
    "            # 해당 기업의 사업보고서 URL 목록을 파일로 저장\n",
    "            df_subreports = pd.DataFrame(subreports)\n",
    "            file_name = corp_code + \"_url_\" + myutil.now_dt_str() + '.csv'\n",
    "            df_subreports.to_csv(path_dir + file_name, index=False)\n",
    "        else:\n",
    "            continue"
   ]
  }
 ],
 "metadata": {
  "kernelspec": {
   "display_name": "data-gatherer.venv",
   "language": "python",
   "name": "python3"
  },
  "language_info": {
   "codemirror_mode": {
    "name": "ipython",
    "version": 3
   },
   "file_extension": ".py",
   "mimetype": "text/x-python",
   "name": "python",
   "nbconvert_exporter": "python",
   "pygments_lexer": "ipython3",
   "version": "3.10.8"
  },
  "orig_nbformat": 4
 },
 "nbformat": 4,
 "nbformat_minor": 2
}
