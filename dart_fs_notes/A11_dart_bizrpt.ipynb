{
 "cells": [
  {
   "cell_type": "markdown",
   "metadata": {},
   "source": [
    "### DART 사업보고서(최종) 목록"
   ]
  },
  {
   "cell_type": "markdown",
   "metadata": {},
   "source": [
    "* 사업보고서가 아닌 내역을 삭제한다\n",
    "* 사업보고서 접수년도별로 구분하여 파일로 저장"
   ]
  },
  {
   "cell_type": "code",
   "execution_count": 18,
   "metadata": {},
   "outputs": [],
   "source": [
    "import os\n",
    "import pandas as pd\n",
    "\n",
    "import sys\n",
    "module_path = \"D:/PythonProject/data-gatherer/dart_fs_notes\"\n",
    "sys.path.append(module_path)\n",
    "import mydart"
   ]
  },
  {
   "cell_type": "code",
   "execution_count": 19,
   "metadata": {},
   "outputs": [],
   "source": [
    "# DART 보고서 파일 목록 위치\n",
    "path_dir_rpt = os.path.join(mydart.root_path, \"dart_rpt\")\n",
    "rpt_file_list = os.listdir(path_dir_rpt)\n",
    "\n",
    "# DART 보고서 파일들의 연도\n",
    "years = []\n",
    "for file_name in rpt_file_list:\n",
    "    year = file_name[2:6]\n",
    "    years.append(year)\n",
    "    \n",
    "years = list(set(years))    # 중복 제거\n",
    "\n",
    "# 사업보고서 파일 저장 위치\n",
    "path_dir_bizrpt = os.path.join(mydart.root_path, \"dart_bizrpt\")\n",
    "mydart.createDirectory(path_dir_bizrpt)\n",
    "\n",
    "for y in years:\n",
    "    # 해당 연도에 해당하는 모든 파일을 읽어서 보고서 목록을 하나로 합한다.\n",
    "    year_file_list = filter(lambda x: x[2:6] == y, rpt_file_list)\n",
    "    df_all = pd.DataFrame()    \n",
    "    for file_name in year_file_list:        \n",
    "        if file_name.startswith('A_') and not file_name.startswith('__'):\n",
    "            file_path = os.path.join(path_dir_rpt, file_name)\n",
    "            df = pd.read_csv(file_path, dtype=object)\n",
    "            df_all = pd.concat([df_all, df])        \n",
    "    # \"사업보고서\"가 아닌 것들 삭제. \"사업보고서\"만 목록에 남긴다.\n",
    "    df_biz_rpt = df_all.loc[(df_all.report_nm.str.contains('사업보고서')) & \n",
    "                            (~df_all.report_nm.str.contains('신고서')) &\n",
    "                            (~df_all.report_nm.str.contains('외국기업의경우'))\n",
    "                            , ]\n",
    "    df_biz_rpt.reset_index()\n",
    "    # 파일로 저장\n",
    "    bizrpt_file_path = os.path.join(path_dir_bizrpt, \"bizrpt_\" + y + \".csv\")\n",
    "    if not os.path.isfile(bizrpt_file_path):   # 파일 존재 유무 체크\n",
    "        df_biz_rpt.to_csv(bizrpt_file_path, index=False)"
   ]
  },
  {
   "cell_type": "markdown",
   "metadata": {},
   "source": [
    "* 사업보고서 명칭 오류 --> 수기 보정"
   ]
  },
  {
   "cell_type": "code",
   "execution_count": 21,
   "metadata": {},
   "outputs": [
    {
     "name": "stdout",
     "output_type": "stream",
     "text": [
      "2022 bizrpt_2022.csv Index([2728], dtype='int64')\n"
     ]
    }
   ],
   "source": [
    "# DART 사업보고서 파일 목록 위치\n",
    "path_dir_rpt = os.path.join(mydart.root_path, \"dart_bizrpt\")\n",
    "bizrpt_file_list = os.listdir(path_dir_rpt)\n",
    "\n",
    "# DART 사업보고서 접수연도별 Dataframe\n",
    "bizrpt_years = []\n",
    "for file_name in bizrpt_file_list:\n",
    "    if not file_name.startswith('bizrpt_all') and not file_name.startswith('__'):\n",
    "        year = file_name[7:11]\n",
    "        file_path = os.path.join(path_dir_rpt, file_name)\n",
    "        df_bizrpt = pd.read_csv(file_path, dtype=object)\n",
    "        bizrpt_years.append({'year' : year, 'file' : file_name, 'data' : df_bizrpt})\n",
    "\n",
    "# 수기보정 필요한 사항 있는지 체크\n",
    "for r in bizrpt_years:\n",
    "    df = r['data']\n",
    "    # report_nm 명칭이 (결산년월)로 끝나지 않은 것\n",
    "    df_abnormal = df.loc[~df.report_nm.str.endswith(')'), ]\n",
    "    if df_abnormal.shape[0] > 0:\n",
    "        print(r['year'], r['file'], df_abnormal.index)"
   ]
  },
  {
   "cell_type": "code",
   "execution_count": 22,
   "metadata": {},
   "outputs": [
    {
     "data": {
      "text/plain": [
       "corp_code           00118521\n",
       "corp_name             진원생명과학\n",
       "stock_code            011000\n",
       "corp_cls                   Y\n",
       "report_nm        [기재정정]사업보고서\n",
       "rcept_no      20220908000421\n",
       "flr_nm                진원생명과학\n",
       "rcept_dt            20220908\n",
       "rm                       NaN\n",
       "Name: 2728, dtype: object"
      ]
     },
     "execution_count": 22,
     "metadata": {},
     "output_type": "execute_result"
    }
   ],
   "source": [
    "file_name = \"bizrpt_2022.csv\"\n",
    "file_path = os.path.join(path_dir_rpt, file_name)\n",
    "df_bizrpt_2022 = pd.read_csv(file_path, dtype=object)\n",
    "# 수기보정이 필요한 데이터(index 번호로 검색)\n",
    "df_bizrpt_2022.iloc[2728, ]"
   ]
  },
  {
   "cell_type": "code",
   "execution_count": 23,
   "metadata": {},
   "outputs": [],
   "source": [
    "# DART에서 직접 확인한 내용으로 수정\n",
    "# corp_name '진원생명과학', rcept_no '20220908000421'\n",
    "df_bizrpt_2022.loc[2728,'report_nm'] = \"[기재정정]사업보고서 (2005.12)\"\n",
    "# 파일 재저장\n",
    "file_name = \"bizrpt_2022.csv\"\n",
    "file_path = os.path.join(path_dir_rpt, file_name)\n",
    "df_bizrpt_2022.to_csv(file_path, index=False)"
   ]
  },
  {
   "cell_type": "markdown",
   "metadata": {},
   "source": [
    "* 이상치 데이터 수기보정 후 다시 체크"
   ]
  },
  {
   "cell_type": "code",
   "execution_count": 24,
   "metadata": {},
   "outputs": [],
   "source": [
    "# DART 사업보고서 파일 목록 위치\n",
    "path_dir_rpt = os.path.join(mydart.root_path, \"dart_bizrpt\")\n",
    "bizrpt_file_list = os.listdir(path_dir_rpt)\n",
    "\n",
    "# DART 사업보고서 접수연도별 Dataframe\n",
    "bizrpt_years = []\n",
    "for file_name in bizrpt_file_list:\n",
    "    if not file_name.startswith('bizrpt_all') and not file_name.startswith('__'):\n",
    "        year = file_name[7:11]\n",
    "        file_path = os.path.join(path_dir_rpt, file_name)\n",
    "        df_bizrpt = pd.read_csv(file_path, dtype=object)\n",
    "        bizrpt_years.append({'year' : year, 'file' : file_name, 'data' : df_bizrpt})\n",
    "\n",
    "# 수기보정 필요한 사항 있는지 체크\n",
    "for r in bizrpt_years:\n",
    "    df = r['data']\n",
    "    # report_nm 명칭이 (결산년월)로 끝나지 않은 것\n",
    "    df_abnormal = df.loc[~df.report_nm.str.endswith(')'), ]\n",
    "    if df_abnormal.shape[0] > 0:\n",
    "        print(r['year'], r['file'], df_abnormal.index)"
   ]
  }
 ],
 "metadata": {
  "kernelspec": {
   "display_name": "data-gatherer.venv",
   "language": "python",
   "name": "python3"
  },
  "language_info": {
   "codemirror_mode": {
    "name": "ipython",
    "version": 3
   },
   "file_extension": ".py",
   "mimetype": "text/x-python",
   "name": "python",
   "nbconvert_exporter": "python",
   "pygments_lexer": "ipython3",
   "version": "3.10.8"
  },
  "orig_nbformat": 4
 },
 "nbformat": 4,
 "nbformat_minor": 2
}
