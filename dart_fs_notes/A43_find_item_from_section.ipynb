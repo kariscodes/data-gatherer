{
 "cells": [
  {
   "cell_type": "markdown",
   "metadata": {},
   "source": [
    "### 데이터 값 찾기"
   ]
  },
  {
   "cell_type": "markdown",
   "metadata": {},
   "source": [
    "* 문서 URL 목록 가져오기"
   ]
  },
  {
   "cell_type": "code",
   "execution_count": 1,
   "metadata": {},
   "outputs": [
    {
     "data": {
      "text/plain": [
       "342"
      ]
     },
     "execution_count": 1,
     "metadata": {},
     "output_type": "execute_result"
    }
   ],
   "source": [
    "import pandas as pd\n",
    "\n",
    "# 사업보고서 제무제표 주석 문서 URL 목록\n",
    "file_path = \"D:/PythonProject/data-gatherer/dart_fs_notes/fs_notes_urls/fs_notes_url_all.csv\"\n",
    "fs_notes_all = pd.read_csv(file_path, dtype=object)\n",
    "# 회사코드 정렬\n",
    "fs_notes_all = fs_notes_all.sort_values(by=['corp_code'], ascending=True)\n",
    "# 회사코드 목록\n",
    "list_all_codes = fs_notes_all['corp_code'].unique()\n",
    "len(list_all_codes)"
   ]
  },
  {
   "cell_type": "markdown",
   "metadata": {},
   "source": [
    "* 이미 데이터 값을 찾은 것은 대상에서 제외"
   ]
  },
  {
   "cell_type": "code",
   "execution_count": 2,
   "metadata": {},
   "outputs": [
    {
     "data": {
      "text/plain": [
       "0"
      ]
     },
     "execution_count": 2,
     "metadata": {},
     "output_type": "execute_result"
    }
   ],
   "source": [
    "import os.path\n",
    "\n",
    "# 이미 데이터 값을 찾은 회사코드 목록\n",
    "file_path = \"D:/PythonProject/data-gatherer/dart_fs_notes/items_from_section/items_all.csv\"\n",
    " \n",
    "if os.path.exists(file_path):\n",
    "    try:\n",
    "        items_all = pd.read_csv(file_path, dtype=object)\n",
    "        list_own_codes = items_all['corp_code'].unique()\n",
    "    except pd.errors.EmptyDataError:\n",
    "        list_own_codes = []    \n",
    "else:\n",
    "    list_own_codes = []\n",
    "    \n",
    "len(list_own_codes)"
   ]
  },
  {
   "cell_type": "code",
   "execution_count": 3,
   "metadata": {},
   "outputs": [
    {
     "data": {
      "text/plain": [
       "342"
      ]
     },
     "execution_count": 3,
     "metadata": {},
     "output_type": "execute_result"
    }
   ],
   "source": [
    "# 리스트에서 중복 제거 (이미 corp info가 있는 경우 대상에서 제외)\n",
    "list_target_codes = list(set(list_all_codes) - set(list_own_codes))\n",
    "len(list_target_codes)"
   ]
  },
  {
   "cell_type": "markdown",
   "metadata": {},
   "source": [
    "* 리스트 분할"
   ]
  },
  {
   "cell_type": "code",
   "execution_count": 6,
   "metadata": {},
   "outputs": [
    {
     "data": {
      "text/plain": [
       "7"
      ]
     },
     "execution_count": 6,
     "metadata": {},
     "output_type": "execute_result"
    }
   ],
   "source": [
    "list_cnt = len(list_target_codes)\n",
    "n = 50\n",
    "list_of_lists = [list_target_codes[i * n:(i + 1) * n] for i in range((list_cnt + n - 1) // n )] \n",
    "len(list_of_lists)"
   ]
  },
  {
   "cell_type": "markdown",
   "metadata": {},
   "source": [
    "* 항목과 값 찾기: 확정급여채무의 현재가치, 사외적립자산의 공정가치"
   ]
  },
  {
   "cell_type": "code",
   "execution_count": 7,
   "metadata": {},
   "outputs": [
    {
     "name": "stderr",
     "output_type": "stream",
     "text": [
      "  0%|          | 0/50 [00:00<?, ?it/s]"
     ]
    },
    {
     "name": "stderr",
     "output_type": "stream",
     "text": [
      "100%|██████████| 50/50 [12:09<00:00, 14.60s/it]\n",
      "100%|██████████| 50/50 [11:53<00:00, 14.26s/it]\n",
      "100%|██████████| 50/50 [12:21<00:00, 14.82s/it]\n",
      "100%|██████████| 50/50 [11:34<00:00, 13.89s/it]\n",
      "100%|██████████| 50/50 [12:06<00:00, 14.53s/it]\n",
      "100%|██████████| 50/50 [12:11<00:00, 14.62s/it]\n",
      "100%|██████████| 42/42 [10:24<00:00, 14.88s/it]"
     ]
    },
    {
     "name": "stdout",
     "output_type": "stream",
     "text": [
      "00125530 SPC삼립 20230316001219 사업보고서 (2022.12) http://dart.fss.or.kr/dsaf001/main.do?rcpNo=20230316001219 5. 재무제표 주석 http://dart.fss.or.kr/report/viewer.do?rcpNo=20230316001219&dcmNo=9066329&eleId=22&offset=816226&length=389465&dtd=dart3.xsd\n",
      "Traceback (most recent call last):\n",
      "  File \"C:\\Users\\kyungho\\AppData\\Local\\Temp\\ipykernel_14440\\2406801516.py\", line 42, in <module>\n",
      "    section_page = mydart.get_section_html(soup, subtitle_list, section_title)\n",
      "  File \"d:\\PythonProject\\data-gatherer\\dart_fs_notes\\mydart.py\", line 124, in get_section_html\n",
      "    next_title = subtitle_list[idx + 1]\n",
      "IndexError: list index out of range\n",
      "\n"
     ]
    },
    {
     "name": "stderr",
     "output_type": "stream",
     "text": [
      "\n"
     ]
    }
   ],
   "source": [
    "import traceback\n",
    "from time import sleep\n",
    "from tqdm import tqdm\n",
    "\n",
    "import sys\n",
    "module_path = \"D:\\PythonProject\\data-gatherer\\dart_fs_notes\"\n",
    "sys.path.append(module_path)\n",
    "import myutil, mydart\n",
    "\n",
    "# 파일 저장 위치\n",
    "path_dir = \"D:/PythonProject/data-gatherer/dart_fs_notes/items_from_section/\"\n",
    "\n",
    "for corp_codes in list_of_lists:\n",
    "    for corp_code in tqdm(corp_codes):\n",
    "        str_expr = \"corp_code == @corp_code\"\n",
    "        df_doc = fs_notes_all.query(str_expr)\n",
    "        doc_count = df_doc.shape[0]\n",
    "        data_list = []\n",
    "        for i, doc in df_doc.iterrows():\n",
    "            sleep(1.0)\n",
    "            try:\n",
    "                val_a = val_b = 0.0\n",
    "                section_title = None\n",
    "                unit = None\n",
    "                doc_result = doc['doc_result']\n",
    "                if doc_result == 'No Financial Statement Notes':\n",
    "                    data_list.append({'corp_code' : doc['corp_code'], 'stock_code' : doc['stock_code'], 'corp_cls' : doc['corp_cls'], 'corp_name' : doc['corp_name'], \n",
    "                                    'rpt_num' : doc['rpt_num'], 'rpt_name' : doc['rpt_name'], \n",
    "                                    'doc_title' : doc['doc_title'], 'doc_result' : doc_result, 'section_title' : None, \n",
    "                                    'unit' : None, 'val_a' : None, 'val_b' : None, 'item_result' : None, 'doc_url' : None})\n",
    "                else:\n",
    "                    doc_url = doc['doc_url']                    \n",
    "                    soup = mydart.get_document(doc_url)\n",
    "                    subtitle_list = mydart.get_subtitles(soup)\n",
    "                    section_title = mydart.find_section_title(subtitle_list)\n",
    "                    if section_title is None:       # 해당 Section을 찾지 못했을 경우\n",
    "                        data_list.append({'corp_code' : doc['corp_code'], 'stock_code' : doc['stock_code'], 'corp_cls' : doc['corp_cls'], 'corp_name' : doc['corp_name'], \n",
    "                                        'rpt_num' : doc['rpt_num'], 'rpt_name' : doc['rpt_name'], \n",
    "                                        'doc_title' : doc['doc_title'], 'doc_result' : doc_result, 'section_title' : None, \n",
    "                                        'unit' : None, 'val_a' : None, 'val_b' : None, 'item_result' : None, 'doc_url' : doc_url})                        \n",
    "                    else:                                         \n",
    "                        section_page = mydart.get_section_html(soup, subtitle_list, section_title)\n",
    "                        # 해당 Section에서 사용된 금액 단위\n",
    "                        unit = mydart.find_unit_from_section(section_page)\n",
    "                        # 당기말의 \"확정급여채무\"와 \"사외적립자산\" 금액 찾기\n",
    "                        val_a, val_b, item_result = mydart.find_item_from_section(section_page)      \n",
    "                        data_list.append({'corp_code' : doc['corp_code'], 'stock_code' : doc['stock_code'], 'corp_cls' : doc['corp_cls'], 'corp_name' : doc['corp_name'], \n",
    "                                        'rpt_num' : doc['rpt_num'], 'rpt_name' : doc['rpt_name'], \n",
    "                                        'doc_title' : doc['doc_title'], 'doc_result' : doc_result, 'section_title' : section_title, \n",
    "                                        'unit' : unit, 'val_a' : val_a, 'val_b' : val_b, 'item_result' : item_result, 'doc_url' : doc_url})\n",
    "            except ValueError as err:\n",
    "                print(doc['corp_code'], doc['corp_name'], doc['rpt_num'], doc['rpt_name'], doc['rpt_url'], doc['doc_title'], doc['doc_url'])\n",
    "                print(err)\n",
    "                data_list.append({'corp_code' : doc['corp_code'], 'stock_code' : doc['stock_code'], 'corp_cls' : doc['corp_cls'], 'corp_name' : doc['corp_name'], \n",
    "                                'rpt_num' : doc['rpt_num'], 'rpt_name' : doc['rpt_name'], \n",
    "                                'doc_title' : doc['doc_title'], 'doc_result' : doc_result, 'section_title' : section_title, \n",
    "                                'unit' : unit, 'val_a' : val_a, 'val_b' : val_b, 'item_result' : 'ValueError', 'doc_url' : doc_url})                     \n",
    "                break\n",
    "            except Exception as e:\n",
    "                print(doc['corp_code'], doc['corp_name'], doc['rpt_num'], doc['rpt_name'], doc['rpt_url'], doc['doc_title'], doc['doc_url'])\n",
    "                err_msg = traceback.format_exc()\n",
    "                print(err_msg)\n",
    "                data_list.append({'corp_code' : doc['corp_code'], 'stock_code' : doc['stock_code'], 'corp_cls' : doc['corp_cls'], 'corp_name' : doc['corp_name'], \n",
    "                                'rpt_num' : doc['rpt_num'], 'rpt_name' : doc['rpt_name'], \n",
    "                                'doc_title' : doc['doc_title'], 'doc_result' : doc_result, 'section_title' : section_title, \n",
    "                                'unit' : unit, 'val_a' : val_a, 'val_b' : val_b, 'item_result' : 'Exception', 'doc_url' : doc_url})                     \n",
    "                break\n",
    "        # 결과를 파일로 저장\n",
    "        doc_value_count = len(data_list)\n",
    "        if doc_value_count == 0:\n",
    "            break\n",
    "        elif doc_value_count == doc_count:        \n",
    "            df_items = pd.DataFrame(data_list)\n",
    "            file_name = corp_code + '_item_' + myutil.now_dt_str() + '.csv'\n",
    "            df_items.to_csv(path_dir + file_name, index=False)\n",
    "        else:\n",
    "            continue"
   ]
  }
 ],
 "metadata": {
  "kernelspec": {
   "display_name": "data-gatherer.venv",
   "language": "python",
   "name": "python3"
  },
  "language_info": {
   "codemirror_mode": {
    "name": "ipython",
    "version": 3
   },
   "file_extension": ".py",
   "mimetype": "text/x-python",
   "name": "python",
   "nbconvert_exporter": "python",
   "pygments_lexer": "ipython3",
   "version": "3.10.8"
  },
  "orig_nbformat": 4
 },
 "nbformat": 4,
 "nbformat_minor": 2
}
