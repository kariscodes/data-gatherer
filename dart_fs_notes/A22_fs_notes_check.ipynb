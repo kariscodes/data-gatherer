{
 "cells": [
  {
   "cell_type": "markdown",
   "metadata": {},
   "source": [
    "### 사업보고서 \"재무제표 주석\" 문서 URL 전체 목록과 사업보고서 목록과 Cross-check"
   ]
  },
  {
   "cell_type": "code",
   "execution_count": 17,
   "metadata": {},
   "outputs": [],
   "source": [
    "import pandas as pd\n",
    "# 데이터 Loading\n",
    "path_dir1 = \"D:/PythonProject/data-gatherer/dart_fs_notes/dart_rpt/\"\n",
    "df1 = pd.read_csv(path_dir1 + 'A_rpt_all.csv', dtype=object)\n",
    "path_dir2 = \"D:/PythonProject/data-gatherer/dart_fs_notes/fs_notes_urls/\"\n",
    "df2 = pd.read_csv(path_dir2 + 'fs_notes_url_all.csv', dtype=object)"
   ]
  },
  {
   "cell_type": "code",
   "execution_count": 18,
   "metadata": {},
   "outputs": [],
   "source": [
    "# df2에 있는 corp_code 목록에 해당하는 df1의 목록을 설정\n",
    "corp_codes = df2.loc[(df2.corp_cls == 'Y') & (df2.rpt_name.str[-8:-4] >= '2017') & (df2.rpt_name.str[-8:-4] <= '2021'), ]['corp_code'].unique()\n",
    "df1 = df1[df1['corp_code'].isin(corp_codes)]"
   ]
  },
  {
   "cell_type": "code",
   "execution_count": 19,
   "metadata": {},
   "outputs": [],
   "source": [
    "# dart_rpt_all(df1)에는 있으나 fs_notes_all(df2)에는 데이터가 빠져있는 목록\n",
    "df_missing = pd.merge(df1, df2, how='outer', left_on='rcept_no', right_on='rpt_num' , indicator=True).query(\"_merge=='left_only'\")"
   ]
  },
  {
   "cell_type": "code",
   "execution_count": 20,
   "metadata": {},
   "outputs": [
    {
     "data": {
      "text/plain": [
       "Index(['corp_code_x', 'corp_name_x', 'stock_code_x', 'corp_cls_x', 'report_nm',\n",
       "       'rcept_no', 'flr_nm', 'rcept_dt', 'rm', 'corp_code_y', 'stock_code_y',\n",
       "       'corp_cls_y', 'corp_name_y', 'rpt_num', 'rpt_name', 'rpt_url',\n",
       "       'doc_title', 'doc_url', 'doc_result', '_merge'],\n",
       "      dtype='object')"
      ]
     },
     "execution_count": 20,
     "metadata": {},
     "output_type": "execute_result"
    }
   ],
   "source": [
    "df_missing.columns"
   ]
  },
  {
   "cell_type": "code",
   "execution_count": 21,
   "metadata": {},
   "outputs": [
    {
     "data": {
      "text/html": [
       "<div>\n",
       "<style scoped>\n",
       "    .dataframe tbody tr th:only-of-type {\n",
       "        vertical-align: middle;\n",
       "    }\n",
       "\n",
       "    .dataframe tbody tr th {\n",
       "        vertical-align: top;\n",
       "    }\n",
       "\n",
       "    .dataframe thead th {\n",
       "        text-align: right;\n",
       "    }\n",
       "</style>\n",
       "<table border=\"1\" class=\"dataframe\">\n",
       "  <thead>\n",
       "    <tr style=\"text-align: right;\">\n",
       "      <th></th>\n",
       "      <th>corp_code_x</th>\n",
       "      <th>corp_name_x</th>\n",
       "      <th>stock_code_x</th>\n",
       "      <th>corp_cls_x</th>\n",
       "      <th>report_nm</th>\n",
       "      <th>rcept_no</th>\n",
       "      <th>flr_nm</th>\n",
       "      <th>rcept_dt</th>\n",
       "      <th>rm</th>\n",
       "      <th>corp_code_y</th>\n",
       "      <th>stock_code_y</th>\n",
       "      <th>corp_cls_y</th>\n",
       "      <th>corp_name_y</th>\n",
       "      <th>rpt_num</th>\n",
       "      <th>rpt_name</th>\n",
       "      <th>rpt_url</th>\n",
       "      <th>doc_title</th>\n",
       "      <th>doc_url</th>\n",
       "      <th>doc_result</th>\n",
       "      <th>_merge</th>\n",
       "    </tr>\n",
       "  </thead>\n",
       "  <tbody>\n",
       "  </tbody>\n",
       "</table>\n",
       "</div>"
      ],
      "text/plain": [
       "Empty DataFrame\n",
       "Columns: [corp_code_x, corp_name_x, stock_code_x, corp_cls_x, report_nm, rcept_no, flr_nm, rcept_dt, rm, corp_code_y, stock_code_y, corp_cls_y, corp_name_y, rpt_num, rpt_name, rpt_url, doc_title, doc_url, doc_result, _merge]\n",
       "Index: []"
      ]
     },
     "execution_count": 21,
     "metadata": {},
     "output_type": "execute_result"
    }
   ],
   "source": [
    "df_missing.sort_values(by=['corp_code_x', 'rcept_no'])"
   ]
  },
  {
   "cell_type": "code",
   "execution_count": 22,
   "metadata": {},
   "outputs": [],
   "source": [
    "corp_codes_missing_rpt = df_missing['corp_code_x'].unique()"
   ]
  },
  {
   "cell_type": "code",
   "execution_count": 23,
   "metadata": {},
   "outputs": [
    {
     "data": {
      "text/plain": [
       "array([], dtype=object)"
      ]
     },
     "execution_count": 23,
     "metadata": {},
     "output_type": "execute_result"
    }
   ],
   "source": [
    "# 지정한 기간의 사업보고서_URL을 모두 가져오지 못하고 일부만 가져온(가져오다 중단) 기업코드 목록\n",
    "corp_codes_missing_rpt"
   ]
  },
  {
   "cell_type": "code",
   "execution_count": 24,
   "metadata": {},
   "outputs": [
    {
     "data": {
      "text/html": [
       "<div>\n",
       "<style scoped>\n",
       "    .dataframe tbody tr th:only-of-type {\n",
       "        vertical-align: middle;\n",
       "    }\n",
       "\n",
       "    .dataframe tbody tr th {\n",
       "        vertical-align: top;\n",
       "    }\n",
       "\n",
       "    .dataframe thead th {\n",
       "        text-align: right;\n",
       "    }\n",
       "</style>\n",
       "<table border=\"1\" class=\"dataframe\">\n",
       "  <thead>\n",
       "    <tr style=\"text-align: right;\">\n",
       "      <th></th>\n",
       "      <th>corp_code</th>\n",
       "      <th>stock_code</th>\n",
       "      <th>corp_cls</th>\n",
       "      <th>corp_name</th>\n",
       "      <th>rpt_num</th>\n",
       "      <th>rpt_name</th>\n",
       "      <th>rpt_url</th>\n",
       "      <th>doc_title</th>\n",
       "      <th>doc_url</th>\n",
       "      <th>doc_result</th>\n",
       "    </tr>\n",
       "  </thead>\n",
       "  <tbody>\n",
       "  </tbody>\n",
       "</table>\n",
       "</div>"
      ],
      "text/plain": [
       "Empty DataFrame\n",
       "Columns: [corp_code, stock_code, corp_cls, corp_name, rpt_num, rpt_name, rpt_url, doc_title, doc_url, doc_result]\n",
       "Index: []"
      ]
     },
     "execution_count": 24,
     "metadata": {},
     "output_type": "execute_result"
    }
   ],
   "source": [
    "df2[df2['corp_code'].isin(corp_codes_missing_rpt)].sort_values(by=['corp_code','rpt_num'])"
   ]
  }
 ],
 "metadata": {
  "kernelspec": {
   "display_name": "data-gatherer.venv",
   "language": "python",
   "name": "python3"
  },
  "language_info": {
   "codemirror_mode": {
    "name": "ipython",
    "version": 3
   },
   "file_extension": ".py",
   "mimetype": "text/x-python",
   "name": "python",
   "nbconvert_exporter": "python",
   "pygments_lexer": "ipython3",
   "version": "3.10.8"
  },
  "orig_nbformat": 4
 },
 "nbformat": 4,
 "nbformat_minor": 2
}
