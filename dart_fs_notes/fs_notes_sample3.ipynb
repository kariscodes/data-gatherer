{
 "cells": [
  {
   "cell_type": "code",
   "execution_count": 1,
   "metadata": {},
   "outputs": [],
   "source": [
    "import pandas as pd\n",
    "import traceback\n",
    "import OpenDartReader\n",
    "api_key = 'f2e08d4ed3de0ba3d5cbf59c04c223e02b1751a2'\n",
    "dart = OpenDartReader(api_key)"
   ]
  },
  {
   "cell_type": "code",
   "execution_count": 36,
   "metadata": {},
   "outputs": [],
   "source": [
    "reports = dart.list('005930', start='2021-01-01', end='2021-12-31', kind='A', final=True)\n",
    "# reports = dart.list('037950', start='2021-04-01', end='2021-04-01', kind='A', final=True)\n",
    "# reports = dart.list('192440', start='2021-04-01', end='2021-04-01', kind='A', final=True)\n",
    "# reports = dart.list('010060', start='2021-04-01', end='2021-04-01', kind='A', final=True)"
   ]
  },
  {
   "cell_type": "code",
   "execution_count": 37,
   "metadata": {},
   "outputs": [
    {
     "data": {
      "text/html": [
       "<div>\n",
       "<style scoped>\n",
       "    .dataframe tbody tr th:only-of-type {\n",
       "        vertical-align: middle;\n",
       "    }\n",
       "\n",
       "    .dataframe tbody tr th {\n",
       "        vertical-align: top;\n",
       "    }\n",
       "\n",
       "    .dataframe thead th {\n",
       "        text-align: right;\n",
       "    }\n",
       "</style>\n",
       "<table border=\"1\" class=\"dataframe\">\n",
       "  <thead>\n",
       "    <tr style=\"text-align: right;\">\n",
       "      <th></th>\n",
       "      <th>corp_code</th>\n",
       "      <th>corp_name</th>\n",
       "      <th>stock_code</th>\n",
       "      <th>corp_cls</th>\n",
       "      <th>report_nm</th>\n",
       "      <th>rcept_no</th>\n",
       "      <th>flr_nm</th>\n",
       "      <th>rcept_dt</th>\n",
       "      <th>rm</th>\n",
       "    </tr>\n",
       "  </thead>\n",
       "  <tbody>\n",
       "    <tr>\n",
       "      <th>0</th>\n",
       "      <td>00126380</td>\n",
       "      <td>삼성전자</td>\n",
       "      <td>005930</td>\n",
       "      <td>Y</td>\n",
       "      <td>분기보고서 (2021.09)</td>\n",
       "      <td>20211115001965</td>\n",
       "      <td>삼성전자</td>\n",
       "      <td>20211115</td>\n",
       "      <td></td>\n",
       "    </tr>\n",
       "    <tr>\n",
       "      <th>1</th>\n",
       "      <td>00126380</td>\n",
       "      <td>삼성전자</td>\n",
       "      <td>005930</td>\n",
       "      <td>Y</td>\n",
       "      <td>반기보고서 (2021.06)</td>\n",
       "      <td>20210817001416</td>\n",
       "      <td>삼성전자</td>\n",
       "      <td>20210817</td>\n",
       "      <td></td>\n",
       "    </tr>\n",
       "    <tr>\n",
       "      <th>2</th>\n",
       "      <td>00126380</td>\n",
       "      <td>삼성전자</td>\n",
       "      <td>005930</td>\n",
       "      <td>Y</td>\n",
       "      <td>분기보고서 (2021.03)</td>\n",
       "      <td>20210517001185</td>\n",
       "      <td>삼성전자</td>\n",
       "      <td>20210517</td>\n",
       "      <td></td>\n",
       "    </tr>\n",
       "    <tr>\n",
       "      <th>3</th>\n",
       "      <td>00126380</td>\n",
       "      <td>삼성전자</td>\n",
       "      <td>005930</td>\n",
       "      <td>Y</td>\n",
       "      <td>사업보고서 (2020.12)</td>\n",
       "      <td>20210309000744</td>\n",
       "      <td>삼성전자</td>\n",
       "      <td>20210309</td>\n",
       "      <td>연</td>\n",
       "    </tr>\n",
       "  </tbody>\n",
       "</table>\n",
       "</div>"
      ],
      "text/plain": [
       "  corp_code corp_name stock_code corp_cls        report_nm        rcept_no  \\\n",
       "0  00126380      삼성전자     005930        Y  분기보고서 (2021.09)  20211115001965   \n",
       "1  00126380      삼성전자     005930        Y  반기보고서 (2021.06)  20210817001416   \n",
       "2  00126380      삼성전자     005930        Y  분기보고서 (2021.03)  20210517001185   \n",
       "3  00126380      삼성전자     005930        Y  사업보고서 (2020.12)  20210309000744   \n",
       "\n",
       "  flr_nm  rcept_dt rm  \n",
       "0   삼성전자  20211115     \n",
       "1   삼성전자  20210817     \n",
       "2   삼성전자  20210517     \n",
       "3   삼성전자  20210309  연  "
      ]
     },
     "execution_count": 37,
     "metadata": {},
     "output_type": "execute_result"
    }
   ],
   "source": [
    "reports"
   ]
  },
  {
   "cell_type": "code",
   "execution_count": 38,
   "metadata": {},
   "outputs": [],
   "source": [
    "subreports = []\n",
    "str_expr = \"title.str.contains('5. 재무제표 주석')\"\n",
    "for i, row in reports.iterrows():\n",
    "    if '사업보고서' in row['report_nm']:\n",
    "        rpt_num = row['rcept_no']\n",
    "        rpt_url = 'http://dart.fss.or.kr/dsaf001/main.do?rcpNo=' + rpt_num\n",
    "        df_rpt = dart.sub_docs(rpt_num)\n",
    "        rpt_data = df_rpt.query(str_expr)       # data frame\n",
    "        rpt_title = rpt_data.iloc[0]['title']\n",
    "        rpt_notes_url = rpt_data.iloc[0]['url']\n",
    "        subreports.append({'rpt_num' : rpt_num, 'stock_code' : row['stock_code'], 'corp_name' : row['corp_name'], 'rpt_name' : row['report_nm'], 'rpt_url' : rpt_url,\n",
    "                           'rpt_title' : rpt_title, 'rpt_notes_url' : rpt_notes_url}) "
   ]
  },
  {
   "cell_type": "code",
   "execution_count": 39,
   "metadata": {},
   "outputs": [
    {
     "data": {
      "text/plain": [
       "[{'rpt_num': '20210309000744',\n",
       "  'stock_code': '005930',\n",
       "  'corp_name': '삼성전자',\n",
       "  'rpt_name': '사업보고서 (2020.12)',\n",
       "  'rpt_url': 'http://dart.fss.or.kr/dsaf001/main.do?rcpNo=20210309000744',\n",
       "  'rpt_title': '5. 재무제표 주석',\n",
       "  'rpt_notes_url': 'http://dart.fss.or.kr/report/viewer.do?rcpNo=20210309000744&dcmNo=7861003&eleId=17&offset=1444226&length=476709&dtd=dart3.xsd'}]"
      ]
     },
     "execution_count": 39,
     "metadata": {},
     "output_type": "execute_result"
    }
   ],
   "source": [
    "subreports"
   ]
  },
  {
   "cell_type": "code",
   "execution_count": 40,
   "metadata": {},
   "outputs": [],
   "source": [
    "def str2num(x):\n",
    "    if \",\" in x:\n",
    "        x = x.replace(\",\",\"\")\n",
    "    if x.startswith(\"(\") and x.endswith(\")\"):\n",
    "        x = x.lstrip(\"(\")\n",
    "        x = x.rstrip(\")\")\n",
    "        float_num = float(x) * (-1)\n",
    "    else:\n",
    "        x = x.lstrip(\"(\")\n",
    "        x = x.rstrip(\")\")     \n",
    "        float_num = float(x)\n",
    "    return float_num"
   ]
  },
  {
   "cell_type": "code",
   "execution_count": 41,
   "metadata": {},
   "outputs": [],
   "source": [
    "data_list = []\n",
    "for r in subreports:\n",
    "    try:\n",
    "        url = r['rpt_notes_url']\n",
    "        doc_data = pd.read_html(url)\n",
    "        val_a = val_b = None\n",
    "        for df in doc_data:\n",
    "            row = df.shape[0]\n",
    "            for i in range(0, row):\n",
    "                item = str(df.iloc[i,0])\n",
    "                if item.__contains__('확정급여채무의 현재가치'):\n",
    "                    # print(i, type(df.iloc[i,1]), df.iloc[i,1])\n",
    "                    val_a = str2num(str(df.iloc[i,1]))\n",
    "                elif item.__contains__('사외적립자산의 공정가치'):\n",
    "                    # print(i, type(df.iloc[i,1]), df.iloc[i,1])                            \n",
    "                    val_b = str2num(str(df.iloc[i,1]))\n",
    "                else:\n",
    "                    continue              \n",
    "        data_list.append({'corp_name' : r['corp_name'], 'stock_code' : r['stock_code'], 'rpt_num' : r['rpt_num'], 'rpt_name' : r['rpt_name'], \n",
    "                        'val_a' : val_a, 'val_b' : val_b})\n",
    "    except Exception as e:\n",
    "        print(r['rpt_num'])\n",
    "        print(r['rpt_url'])\n",
    "        print(r['rpt_notes_url'])\n",
    "        err_msg = traceback.format_exc()\n",
    "        print(err_msg)"
   ]
  },
  {
   "cell_type": "code",
   "execution_count": 42,
   "metadata": {},
   "outputs": [
    {
     "data": {
      "text/plain": [
       "[{'corp_name': '삼성전자',\n",
       "  'stock_code': '005930',\n",
       "  'rpt_num': '20210309000744',\n",
       "  'rpt_name': '사업보고서 (2020.12)',\n",
       "  'val_a': 13987.0,\n",
       "  'val_b': -10916538.0}]"
      ]
     },
     "execution_count": 42,
     "metadata": {},
     "output_type": "execute_result"
    }
   ],
   "source": [
    "data_list"
   ]
  }
 ],
 "metadata": {
  "kernelspec": {
   "display_name": "data-gatherer.venv",
   "language": "python",
   "name": "python3"
  },
  "language_info": {
   "codemirror_mode": {
    "name": "ipython",
    "version": 3
   },
   "file_extension": ".py",
   "mimetype": "text/x-python",
   "name": "python",
   "nbconvert_exporter": "python",
   "pygments_lexer": "ipython3",
   "version": "3.10.8"
  },
  "orig_nbformat": 4
 },
 "nbformat": 4,
 "nbformat_minor": 2
}
