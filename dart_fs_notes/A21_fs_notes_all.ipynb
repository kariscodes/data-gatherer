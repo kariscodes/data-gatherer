{
 "cells": [
  {
   "cell_type": "markdown",
   "metadata": {},
   "source": [
    "### 사업보고서 \"재무제표 주석\" 문서 URL 전체"
   ]
  },
  {
   "cell_type": "markdown",
   "metadata": {},
   "source": [
    "* 사업보고서 \"재무제표 주석\" 문서 URL 저장 파일의 내용을 수합해서 전체 URL 목록을 csv 파일로 저장"
   ]
  },
  {
   "cell_type": "code",
   "execution_count": 1,
   "metadata": {},
   "outputs": [],
   "source": [
    "import os\n",
    "import pandas as pd\n",
    "\n",
    "# 파일 저장 위치\n",
    "path_dir = \"D:/PythonProject/data-gatherer/dart_fs_notes/fs_notes_urls/\"\n",
    "file_list = os.listdir(path_dir)\n",
    "\n",
    "df_all = pd.DataFrame()    \n",
    "for file_name in file_list:\n",
    "    if file_name != 'fs_notes_url_all.csv' and not file_name.startswith('__'):    \n",
    "        df = pd.read_csv(path_dir + file_name, dtype=object)\n",
    "        df_all = pd.concat([df_all, df])\n",
    "    \n",
    "df_all.drop_duplicates(subset=['corp_code','rpt_num'], keep='first', inplace=True, ignore_index=True)        \n",
    "df_all.to_csv(path_dir + 'fs_notes_url_all.csv', index=False)"
   ]
  },
  {
   "cell_type": "markdown",
   "metadata": {},
   "source": [
    "### 파일에 저장된 사업보고서 \"재무제표 주석\" 문서 URL 목록 검색"
   ]
  },
  {
   "cell_type": "code",
   "execution_count": 2,
   "metadata": {},
   "outputs": [
    {
     "name": "stdout",
     "output_type": "stream",
     "text": [
      "945\n"
     ]
    },
    {
     "data": {
      "text/html": [
       "<div>\n",
       "<style scoped>\n",
       "    .dataframe tbody tr th:only-of-type {\n",
       "        vertical-align: middle;\n",
       "    }\n",
       "\n",
       "    .dataframe tbody tr th {\n",
       "        vertical-align: top;\n",
       "    }\n",
       "\n",
       "    .dataframe thead th {\n",
       "        text-align: right;\n",
       "    }\n",
       "</style>\n",
       "<table border=\"1\" class=\"dataframe\">\n",
       "  <thead>\n",
       "    <tr style=\"text-align: right;\">\n",
       "      <th></th>\n",
       "      <th>corp_code</th>\n",
       "      <th>stock_code</th>\n",
       "      <th>corp_cls</th>\n",
       "      <th>corp_name</th>\n",
       "      <th>rpt_num</th>\n",
       "      <th>rpt_name</th>\n",
       "      <th>rpt_url</th>\n",
       "      <th>doc_title</th>\n",
       "      <th>doc_url</th>\n",
       "      <th>doc_result</th>\n",
       "    </tr>\n",
       "  </thead>\n",
       "  <tbody>\n",
       "    <tr>\n",
       "      <th>0</th>\n",
       "      <td>00100939</td>\n",
       "      <td>000860</td>\n",
       "      <td>Y</td>\n",
       "      <td>강남제비스코</td>\n",
       "      <td>20181231000114</td>\n",
       "      <td>[기재정정]사업보고서 (2013.12)</td>\n",
       "      <td>http://dart.fss.or.kr/dsaf001/main.do?rcpNo=20...</td>\n",
       "      <td>NaN</td>\n",
       "      <td>NaN</td>\n",
       "      <td>No Financial Statement Notes</td>\n",
       "    </tr>\n",
       "    <tr>\n",
       "      <th>1</th>\n",
       "      <td>00100939</td>\n",
       "      <td>000860</td>\n",
       "      <td>Y</td>\n",
       "      <td>강남제비스코</td>\n",
       "      <td>20181231000137</td>\n",
       "      <td>[기재정정]사업보고서 (2017.12)</td>\n",
       "      <td>http://dart.fss.or.kr/dsaf001/main.do?rcpNo=20...</td>\n",
       "      <td>5. 재무제표 주석</td>\n",
       "      <td>http://dart.fss.or.kr/report/viewer.do?rcpNo=2...</td>\n",
       "      <td>OK</td>\n",
       "    </tr>\n",
       "    <tr>\n",
       "      <th>2</th>\n",
       "      <td>00100939</td>\n",
       "      <td>000860</td>\n",
       "      <td>Y</td>\n",
       "      <td>강남제비스코</td>\n",
       "      <td>20181231000103</td>\n",
       "      <td>[기재정정]사업보고서 (2011.12)</td>\n",
       "      <td>http://dart.fss.or.kr/dsaf001/main.do?rcpNo=20...</td>\n",
       "      <td>NaN</td>\n",
       "      <td>NaN</td>\n",
       "      <td>No Financial Statement Notes</td>\n",
       "    </tr>\n",
       "  </tbody>\n",
       "</table>\n",
       "</div>"
      ],
      "text/plain": [
       "  corp_code stock_code corp_cls corp_name         rpt_num  \\\n",
       "0  00100939     000860        Y    강남제비스코  20181231000114   \n",
       "1  00100939     000860        Y    강남제비스코  20181231000137   \n",
       "2  00100939     000860        Y    강남제비스코  20181231000103   \n",
       "\n",
       "                rpt_name                                            rpt_url  \\\n",
       "0  [기재정정]사업보고서 (2013.12)  http://dart.fss.or.kr/dsaf001/main.do?rcpNo=20...   \n",
       "1  [기재정정]사업보고서 (2017.12)  http://dart.fss.or.kr/dsaf001/main.do?rcpNo=20...   \n",
       "2  [기재정정]사업보고서 (2011.12)  http://dart.fss.or.kr/dsaf001/main.do?rcpNo=20...   \n",
       "\n",
       "    doc_title                                            doc_url  \\\n",
       "0         NaN                                                NaN   \n",
       "1  5. 재무제표 주석  http://dart.fss.or.kr/report/viewer.do?rcpNo=2...   \n",
       "2         NaN                                                NaN   \n",
       "\n",
       "                     doc_result  \n",
       "0  No Financial Statement Notes  \n",
       "1                            OK  \n",
       "2  No Financial Statement Notes  "
      ]
     },
     "execution_count": 2,
     "metadata": {},
     "output_type": "execute_result"
    }
   ],
   "source": [
    "import pandas as pd\n",
    "# 데이터 Loading\n",
    "path_dir = \"D:/PythonProject/data-gatherer/dart_fs_notes/fs_notes_urls/\"\n",
    "df = pd.read_csv(path_dir + 'fs_notes_url_all.csv', dtype=object)\n",
    "print(df.shape[0])\n",
    "df.head(3)"
   ]
  },
  {
   "cell_type": "code",
   "execution_count": 6,
   "metadata": {},
   "outputs": [
    {
     "data": {
      "text/html": [
       "<div>\n",
       "<style scoped>\n",
       "    .dataframe tbody tr th:only-of-type {\n",
       "        vertical-align: middle;\n",
       "    }\n",
       "\n",
       "    .dataframe tbody tr th {\n",
       "        vertical-align: top;\n",
       "    }\n",
       "\n",
       "    .dataframe thead th {\n",
       "        text-align: right;\n",
       "    }\n",
       "</style>\n",
       "<table border=\"1\" class=\"dataframe\">\n",
       "  <thead>\n",
       "    <tr style=\"text-align: right;\">\n",
       "      <th></th>\n",
       "      <th>corp_code</th>\n",
       "      <th>stock_code</th>\n",
       "      <th>corp_cls</th>\n",
       "      <th>corp_name</th>\n",
       "      <th>rpt_num</th>\n",
       "      <th>rpt_name</th>\n",
       "      <th>rpt_url</th>\n",
       "      <th>doc_title</th>\n",
       "      <th>doc_url</th>\n",
       "      <th>doc_result</th>\n",
       "    </tr>\n",
       "  </thead>\n",
       "  <tbody>\n",
       "  </tbody>\n",
       "</table>\n",
       "</div>"
      ],
      "text/plain": [
       "Empty DataFrame\n",
       "Columns: [corp_code, stock_code, corp_cls, corp_name, rpt_num, rpt_name, rpt_url, doc_title, doc_url, doc_result]\n",
       "Index: []"
      ]
     },
     "execution_count": 6,
     "metadata": {},
     "output_type": "execute_result"
    }
   ],
   "source": [
    "df[df['rpt_num'] == '20190711000268']"
   ]
  },
  {
   "cell_type": "code",
   "execution_count": 2,
   "metadata": {},
   "outputs": [
    {
     "name": "stdout",
     "output_type": "stream",
     "text": [
      "report name: [기재정정]사업보고서 (2012.12),\n",
      " \t report(url): http://dart.fss.or.kr/dsaf001/main.do?rcpNo=20130509001803,\n",
      " \t fs notes(url): nan\n",
      "report name: 사업보고서 (2013.12),\n",
      " \t report(url): http://dart.fss.or.kr/dsaf001/main.do?rcpNo=20140328000513,\n",
      " \t fs notes(url): nan\n",
      "report name: 사업보고서 (2014.12),\n",
      " \t report(url): http://dart.fss.or.kr/dsaf001/main.do?rcpNo=20150330000271,\n",
      " \t fs notes(url): http://dart.fss.or.kr/report/viewer.do?rcpNo=20150330000271&dcmNo=4539806&eleId=16&offset=328533&length=307627&dtd=dart3.xsd\n",
      "report name: [첨부추가]사업보고서 (2015.12),\n",
      " \t report(url): http://dart.fss.or.kr/dsaf001/main.do?rcpNo=20160330000265,\n",
      " \t fs notes(url): http://dart.fss.or.kr/report/viewer.do?rcpNo=20160330000265&dcmNo=5011165&eleId=16&offset=324626&length=332524&dtd=dart3.xsd\n",
      "report name: 사업보고서 (2016.12),\n",
      " \t report(url): http://dart.fss.or.kr/dsaf001/main.do?rcpNo=20170330000066,\n",
      " \t fs notes(url): http://dart.fss.or.kr/report/viewer.do?rcpNo=20170330000066&dcmNo=5515128&eleId=16&offset=325534&length=342223&dtd=dart3.xsd\n",
      "report name: 사업보고서 (2017.12),\n",
      " \t report(url): http://dart.fss.or.kr/dsaf001/main.do?rcpNo=20180330000763,\n",
      " \t fs notes(url): http://dart.fss.or.kr/report/viewer.do?rcpNo=20180330000763&dcmNo=6030052&eleId=16&offset=326419&length=366551&dtd=dart3.xsd\n",
      "report name: [기재정정]사업보고서 (2018.12),\n",
      " \t report(url): http://dart.fss.or.kr/dsaf001/main.do?rcpNo=20190626000068,\n",
      " \t fs notes(url): http://dart.fss.or.kr/report/viewer.do?rcpNo=20190626000068&dcmNo=6786422&eleId=18&offset=406523&length=425177&dtd=dart3.xsd\n",
      "report name: 사업보고서 (2019.12),\n",
      " \t report(url): http://dart.fss.or.kr/dsaf001/main.do?rcpNo=20200330000263,\n",
      " \t fs notes(url): http://dart.fss.or.kr/report/viewer.do?rcpNo=20200330000263&dcmNo=7183439&eleId=16&offset=364416&length=436057&dtd=dart3.xsd\n",
      "report name: 사업보고서 (2020.12),\n",
      " \t report(url): http://dart.fss.or.kr/dsaf001/main.do?rcpNo=20210318000062,\n",
      " \t fs notes(url): http://dart.fss.or.kr/report/viewer.do?rcpNo=20210318000062&dcmNo=7887908&eleId=17&offset=375898&length=447324&dtd=dart3.xsd\n",
      "report name: [기재정정]사업보고서 (2021.12),\n",
      " \t report(url): http://dart.fss.or.kr/dsaf001/main.do?rcpNo=20220329000395,\n",
      " \t fs notes(url): http://dart.fss.or.kr/report/viewer.do?rcpNo=20220329000395&dcmNo=8511291&eleId=24&offset=371429&length=456200&dtd=dart3.xsd\n",
      "report name: 사업보고서 (2022.12),\n",
      " \t report(url): http://dart.fss.or.kr/dsaf001/main.do?rcpNo=20230316001338,\n",
      " \t fs notes(url): http://dart.fss.or.kr/report/viewer.do?rcpNo=20230316001338&dcmNo=9066957&eleId=22&offset=924406&length=503597&dtd=dart3.xsd\n"
     ]
    }
   ],
   "source": [
    "# 특정 기업의 사업보고서 및 재무제표 주석 문서의 URL\n",
    "corp_name = \"삼익THK\"\n",
    "str_expr = \"corp_name.str.contains(@corp_name)\"\n",
    "df_one = df.query(str_expr)\n",
    "for i, data in df_one.iterrows():\n",
    "    rpt_name = data['rpt_name']\n",
    "    rpt_url = data['rpt_url']\n",
    "    doc_url = data['doc_url']\n",
    "    print(f\"report name: {rpt_name},\\n \\t report(url): {rpt_url},\\n \\t fs notes(url): {doc_url}\")"
   ]
  }
 ],
 "metadata": {
  "kernelspec": {
   "display_name": "data-gatherer.venv",
   "language": "python",
   "name": "python3"
  },
  "language_info": {
   "codemirror_mode": {
    "name": "ipython",
    "version": 3
   },
   "file_extension": ".py",
   "mimetype": "text/x-python",
   "name": "python",
   "nbconvert_exporter": "python",
   "pygments_lexer": "ipython3",
   "version": "3.10.8"
  },
  "orig_nbformat": 4
 },
 "nbformat": 4,
 "nbformat_minor": 2
}
