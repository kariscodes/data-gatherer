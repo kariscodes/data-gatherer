{
 "cells": [
  {
   "cell_type": "markdown",
   "metadata": {},
   "source": [
    "### 사업보고서 \"재무제표 주석\" 문서 URL 전체"
   ]
  },
  {
   "cell_type": "markdown",
   "metadata": {},
   "source": [
    "* 사업보고서 \"재무제표 주석\" 문서 URL 저장 파일의 내용을 수합해서 전체 URL 목록을 csv 파일로 저장"
   ]
  },
  {
   "cell_type": "code",
   "execution_count": 21,
   "metadata": {},
   "outputs": [],
   "source": [
    "import os\n",
    "import pandas as pd\n",
    "\n",
    "# 파일 저장 위치\n",
    "path_dir = \"D:/PythonProject/data-gatherer/dart_fs_notes/fs_notes/\"\n",
    "file_list = os.listdir(path_dir)\n",
    "\n",
    "df_all = pd.DataFrame()    \n",
    "for file_name in file_list:\n",
    "    if file_name != 'fs_notes_all.csv':    \n",
    "        df = pd.read_csv(path_dir + file_name, dtype=object)\n",
    "        df_all = pd.concat([df_all, df])\n",
    "    \n",
    "df_all.drop_duplicates(subset=['corp_code','rpt_num'], keep='first', inplace=True, ignore_index=True)        \n",
    "df_all.to_csv(path_dir + 'fs_notes_all.csv', index=False)"
   ]
  },
  {
   "cell_type": "markdown",
   "metadata": {},
   "source": [
    "### 파일에 저장된 사업보고서 \"재무제표 주석\" 문서 URL 목록 검색"
   ]
  },
  {
   "cell_type": "code",
   "execution_count": 22,
   "metadata": {},
   "outputs": [
    {
     "name": "stdout",
     "output_type": "stream",
     "text": [
      "201\n"
     ]
    },
    {
     "data": {
      "text/html": [
       "<div>\n",
       "<style scoped>\n",
       "    .dataframe tbody tr th:only-of-type {\n",
       "        vertical-align: middle;\n",
       "    }\n",
       "\n",
       "    .dataframe tbody tr th {\n",
       "        vertical-align: top;\n",
       "    }\n",
       "\n",
       "    .dataframe thead th {\n",
       "        text-align: right;\n",
       "    }\n",
       "</style>\n",
       "<table border=\"1\" class=\"dataframe\">\n",
       "  <thead>\n",
       "    <tr style=\"text-align: right;\">\n",
       "      <th></th>\n",
       "      <th>corp_code</th>\n",
       "      <th>stock_code</th>\n",
       "      <th>corp_cls</th>\n",
       "      <th>corp_name</th>\n",
       "      <th>rpt_num</th>\n",
       "      <th>rpt_name</th>\n",
       "      <th>rpt_url</th>\n",
       "      <th>doc_title</th>\n",
       "      <th>doc_url</th>\n",
       "      <th>doc_result</th>\n",
       "    </tr>\n",
       "  </thead>\n",
       "  <tbody>\n",
       "    <tr>\n",
       "      <th>0</th>\n",
       "      <td>00101220</td>\n",
       "      <td>001390</td>\n",
       "      <td>Y</td>\n",
       "      <td>KG케미칼</td>\n",
       "      <td>20130604000167</td>\n",
       "      <td>[기재정정]사업보고서 (2012.12)</td>\n",
       "      <td>http://dart.fss.or.kr/dsaf001/main.do?rcpNo=20...</td>\n",
       "      <td>NaN</td>\n",
       "      <td>NaN</td>\n",
       "      <td>No Financial Statement Notes</td>\n",
       "    </tr>\n",
       "    <tr>\n",
       "      <th>1</th>\n",
       "      <td>00101220</td>\n",
       "      <td>001390</td>\n",
       "      <td>Y</td>\n",
       "      <td>KG케미칼</td>\n",
       "      <td>20130604000093</td>\n",
       "      <td>[기재정정]사업보고서 (2011.12)</td>\n",
       "      <td>http://dart.fss.or.kr/dsaf001/main.do?rcpNo=20...</td>\n",
       "      <td>NaN</td>\n",
       "      <td>NaN</td>\n",
       "      <td>No Financial Statement Notes</td>\n",
       "    </tr>\n",
       "    <tr>\n",
       "      <th>2</th>\n",
       "      <td>00101220</td>\n",
       "      <td>001390</td>\n",
       "      <td>Y</td>\n",
       "      <td>KG케미칼</td>\n",
       "      <td>20140331001226</td>\n",
       "      <td>사업보고서 (2013.12)</td>\n",
       "      <td>http://dart.fss.or.kr/dsaf001/main.do?rcpNo=20...</td>\n",
       "      <td>NaN</td>\n",
       "      <td>NaN</td>\n",
       "      <td>No Financial Statement Notes</td>\n",
       "    </tr>\n",
       "  </tbody>\n",
       "</table>\n",
       "</div>"
      ],
      "text/plain": [
       "  corp_code stock_code corp_cls corp_name         rpt_num  \\\n",
       "0  00101220     001390        Y     KG케미칼  20130604000167   \n",
       "1  00101220     001390        Y     KG케미칼  20130604000093   \n",
       "2  00101220     001390        Y     KG케미칼  20140331001226   \n",
       "\n",
       "                rpt_name                                            rpt_url  \\\n",
       "0  [기재정정]사업보고서 (2012.12)  http://dart.fss.or.kr/dsaf001/main.do?rcpNo=20...   \n",
       "1  [기재정정]사업보고서 (2011.12)  http://dart.fss.or.kr/dsaf001/main.do?rcpNo=20...   \n",
       "2        사업보고서 (2013.12)  http://dart.fss.or.kr/dsaf001/main.do?rcpNo=20...   \n",
       "\n",
       "  doc_title doc_url                    doc_result  \n",
       "0       NaN     NaN  No Financial Statement Notes  \n",
       "1       NaN     NaN  No Financial Statement Notes  \n",
       "2       NaN     NaN  No Financial Statement Notes  "
      ]
     },
     "execution_count": 22,
     "metadata": {},
     "output_type": "execute_result"
    }
   ],
   "source": [
    "import pandas as pd\n",
    "# 데이터 Loading\n",
    "path_dir = \"D:/PythonProject/data-gatherer/dart_fs_notes/fs_notes/\"\n",
    "df = pd.read_csv(path_dir + 'fs_notes_all.csv', dtype=object)\n",
    "print(df.shape[0])\n",
    "df.head(3)"
   ]
  },
  {
   "cell_type": "code",
   "execution_count": 20,
   "metadata": {},
   "outputs": [
    {
     "name": "stdout",
     "output_type": "stream",
     "text": [
      "report name: 사업보고서 (2012.12),\n",
      " \t report(url): http://dart.fss.or.kr/dsaf001/main.do?rcpNo=20130401003031,\n",
      " \t fs notes(url): nan\n",
      "report name: 사업보고서 (2013.12),\n",
      " \t report(url): http://dart.fss.or.kr/dsaf001/main.do?rcpNo=20140331002427,\n",
      " \t fs notes(url): nan\n",
      "report name: 사업보고서 (2014.12),\n",
      " \t report(url): http://dart.fss.or.kr/dsaf001/main.do?rcpNo=20150331002915,\n",
      " \t fs notes(url): http://dart.fss.or.kr/report/viewer.do?rcpNo=20150331002915&dcmNo=4556583&eleId=16&offset=1180033&length=428946&dtd=dart3.xsd\n",
      "report name: 사업보고서 (2015.12),\n",
      " \t report(url): http://dart.fss.or.kr/dsaf001/main.do?rcpNo=20160330003536,\n",
      " \t fs notes(url): http://dart.fss.or.kr/report/viewer.do?rcpNo=20160330003536&dcmNo=5026126&eleId=16&offset=1181202&length=421680&dtd=dart3.xsd\n",
      "report name: 사업보고서 (2016.12),\n",
      " \t report(url): http://dart.fss.or.kr/dsaf001/main.do?rcpNo=20170331004518,\n",
      " \t fs notes(url): http://dart.fss.or.kr/report/viewer.do?rcpNo=20170331004518&dcmNo=5540271&eleId=16&offset=1230016&length=428955&dtd=dart3.xsd\n",
      "report name: 사업보고서 (2017.12),\n",
      " \t report(url): http://dart.fss.or.kr/dsaf001/main.do?rcpNo=20180402005019,\n",
      " \t fs notes(url): http://dart.fss.or.kr/report/viewer.do?rcpNo=20180402005019&dcmNo=6060273&eleId=16&offset=1441787&length=459100&dtd=dart3.xsd\n",
      "report name: 사업보고서 (2018.12),\n",
      " \t report(url): http://dart.fss.or.kr/dsaf001/main.do?rcpNo=20190401004781,\n",
      " \t fs notes(url): http://dart.fss.or.kr/report/viewer.do?rcpNo=20190401004781&dcmNo=6616741&eleId=16&offset=1423374&length=476461&dtd=dart3.xsd\n",
      "report name: 사업보고서 (2019.12),\n",
      " \t report(url): http://dart.fss.or.kr/dsaf001/main.do?rcpNo=20200330003851,\n",
      " \t fs notes(url): http://dart.fss.or.kr/report/viewer.do?rcpNo=20200330003851&dcmNo=7202455&eleId=16&offset=1387979&length=469830&dtd=dart3.xsd\n",
      "report name: 사업보고서 (2020.12),\n",
      " \t report(url): http://dart.fss.or.kr/dsaf001/main.do?rcpNo=20210309000744,\n",
      " \t fs notes(url): http://dart.fss.or.kr/report/viewer.do?rcpNo=20210309000744&dcmNo=7861003&eleId=17&offset=1444226&length=476709&dtd=dart3.xsd\n",
      "report name: 사업보고서 (2021.12),\n",
      " \t report(url): http://dart.fss.or.kr/dsaf001/main.do?rcpNo=20220308000798,\n",
      " \t fs notes(url): http://dart.fss.or.kr/report/viewer.do?rcpNo=20220308000798&dcmNo=8446647&eleId=22&offset=1148897&length=470331&dtd=dart3.xsd\n",
      "report name: 사업보고서 (2022.12),\n",
      " \t report(url): http://dart.fss.or.kr/dsaf001/main.do?rcpNo=20230307000542,\n",
      " \t fs notes(url): http://dart.fss.or.kr/report/viewer.do?rcpNo=20230307000542&dcmNo=9040011&eleId=22&offset=970584&length=432459&dtd=dart3.xsd\n"
     ]
    }
   ],
   "source": [
    "# 특정 기업의 사업보고서 및 재무제표 주석 문서의 URL\n",
    "corp_name = \"삼성전자\"\n",
    "str_expr = \"corp_name.str.contains(@corp_name)\"\n",
    "df_one = df.query(str_expr)\n",
    "for i, data in df_one.iterrows():\n",
    "    rpt_name = data['rpt_name']\n",
    "    rpt_url = data['rpt_url']\n",
    "    doc_url = data['doc_url']\n",
    "    print(f\"report name: {rpt_name},\\n \\t report(url): {rpt_url},\\n \\t fs notes(url): {doc_url}\")"
   ]
  }
 ],
 "metadata": {
  "kernelspec": {
   "display_name": "data-gatherer.venv",
   "language": "python",
   "name": "python3"
  },
  "language_info": {
   "codemirror_mode": {
    "name": "ipython",
    "version": 3
   },
   "file_extension": ".py",
   "mimetype": "text/x-python",
   "name": "python",
   "nbconvert_exporter": "python",
   "pygments_lexer": "ipython3",
   "version": "3.10.8"
  },
  "orig_nbformat": 4
 },
 "nbformat": 4,
 "nbformat_minor": 2
}
