{
 "cells": [
  {
   "cell_type": "markdown",
   "metadata": {},
   "source": [
    "### DART 정기공시('A') 사업보고서(최종) 목록"
   ]
  },
  {
   "cell_type": "code",
   "execution_count": 21,
   "metadata": {},
   "outputs": [],
   "source": [
    "# 파일 저장 위치\n",
    "path_dir = \"D:/PythonProject/data-gatherer/dart_fs_notes/dart_rpt/\""
   ]
  },
  {
   "cell_type": "markdown",
   "metadata": {},
   "source": [
    "* 보고서 접수일 기준 3개월 기간(start ~ end) / 최대 3개월 조회 가능함\n",
    "* 사업보고서 목록을 csv 파일로 저장"
   ]
  },
  {
   "cell_type": "code",
   "execution_count": 19,
   "metadata": {},
   "outputs": [],
   "source": [
    "import OpenDartReader\n",
    "from time import sleep\n",
    "\n",
    "api_key = 'f2e08d4ed3de0ba3d5cbf59c04c223e02b1751a2'\n",
    "dart = OpenDartReader(api_key)\n",
    "\n",
    "years = range(2013, 2024)   # 보고서 접수일 (2013)년부터 (2024-1)년까지\n",
    "dates = [{'start' : '0101', 'end' : '0331'},\n",
    "         {'start' : '0401', 'end' : '0630'},\n",
    "         {'start' : '0701', 'end' : '0930'},\n",
    "         {'start' : '1001', 'end' : '1231'}]\n",
    "\n",
    "str_expr = \"report_nm.str.contains('사업보고서')\"\n",
    "\n",
    "for y in years:\n",
    "    for p in dates:\n",
    "        sleep(0.1)\n",
    "        start_date = str(y) + p['start']\n",
    "        end_date = str(y) + p['end']\n",
    "        # 정기공시(kind='A') 보고서 최종(final=True)\n",
    "        df_rpt = dart.list(start=start_date, end=end_date, kind='A', final=True)\n",
    "        # 사업보고서\n",
    "        df_biz_rpt = df_rpt.query(str_expr)\n",
    "        # csv 파일로 저장\n",
    "        file_name = 'A_' + start_date + '_' + end_date + '.csv'\n",
    "        df_biz_rpt.to_csv(path_dir + file_name, index=False)"
   ]
  }
 ],
 "metadata": {
  "kernelspec": {
   "display_name": "data-gatherer.venv",
   "language": "python",
   "name": "python3"
  },
  "language_info": {
   "codemirror_mode": {
    "name": "ipython",
    "version": 3
   },
   "file_extension": ".py",
   "mimetype": "text/x-python",
   "name": "python",
   "nbconvert_exporter": "python",
   "pygments_lexer": "ipython3",
   "version": "3.10.8"
  },
  "orig_nbformat": 4
 },
 "nbformat": 4,
 "nbformat_minor": 2
}
