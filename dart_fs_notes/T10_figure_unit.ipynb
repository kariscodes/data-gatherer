{
 "cells": [
  {
   "cell_type": "markdown",
   "metadata": {},
   "source": [
    "### 재무제표 주석 문서에서 금액 단위 찾기"
   ]
  },
  {
   "cell_type": "code",
   "execution_count": 2,
   "metadata": {},
   "outputs": [],
   "source": [
    "import requests\n",
    "from bs4 import BeautifulSoup\n",
    "import warnings\n",
    "warnings.filterwarnings('ignore')\n",
    "\n",
    "api_key = 'f2e08d4ed3de0ba3d5cbf59c04c223e02b1751a2'"
   ]
  },
  {
   "cell_type": "code",
   "execution_count": null,
   "metadata": {},
   "outputs": [],
   "source": [
    "def get_unit(text):\n",
    "    if '(단위:천원)' in text:\n",
    "        unit = '천원'\n",
    "    elif '(단위:백만원)' in text:\n",
    "        unit = '백만원'\n",
    "    else:\n",
    "        unit = None   \n",
    "    return unit"
   ]
  },
  {
   "cell_type": "markdown",
   "metadata": {},
   "source": [
    "* DART에 있는 재무제표 문서 읽어서 특정 문자열(금액 단위) 찾기"
   ]
  },
  {
   "cell_type": "code",
   "execution_count": 41,
   "metadata": {},
   "outputs": [],
   "source": [
    "# Sample - (단위:천원)\n",
    "doc_url_1 = 'http://dart.fss.or.kr/report/viewer.do?rcpNo=20170331001058&dcmNo=5525716&eleId=16&offset=853592&length=347740&dtd=dart3.xsd'\n",
    "# Sample - (단위 : 백만원)\n",
    "doc_url_2 = 'http://dart.fss.or.kr/report/viewer.do?rcpNo=20210309000744&dcmNo=7861003&eleId=17&offset=1444226&length=476709&dtd=dart3.xsd'\n",
    "doc_urls = [doc_url_1, doc_url_2]"
   ]
  },
  {
   "cell_type": "code",
   "execution_count": null,
   "metadata": {},
   "outputs": [],
   "source": [
    "for doc_url in doc_urls:\n",
    "    response = requests.get(doc_url)\n",
    "    if response.status_code == 200:     # URL GET '200 정상'\n",
    "        soup = BeautifulSoup(response.text)\n",
    "        doc_text = soup.text\n",
    "        trimmed_text = doc_text.replace(\" \",\"\")     # 문서에 있는 모든 공백 제거\n",
    "        unit = get_unit(trimmed_text)\n",
    "        print(f\"File [ {file_name} ] amount unit => \\t {unit}\")"
   ]
  },
  {
   "cell_type": "markdown",
   "metadata": {},
   "source": [
    "* 로컬에 저장된 HTML 파일 읽어서 특정 문자열(금액 단위) 찾기"
   ]
  },
  {
   "cell_type": "code",
   "execution_count": 50,
   "metadata": {},
   "outputs": [
    {
     "name": "stdout",
     "output_type": "stream",
     "text": [
      "File [ url1.htm ] amount unit => \t 천원\n",
      "File [ url2.htm ] amount unit => \t 백만원\n"
     ]
    }
   ],
   "source": [
    "path_dir = 'D:/PythonProject/data-gatherer/dart_fs_notes/sample/'\n",
    "files = ['url1.htm', 'url2.htm']\n",
    "for file_name in files:\n",
    "    file_path = path_dir + file_name\n",
    "    # file = open(file_path)\n",
    "    # html_doc = file.read()\n",
    "    # file.close()    \n",
    "    with open(file_path, \"r\") as file:\n",
    "        html_doc = file.read()\n",
    "    soup = BeautifulSoup(html_doc, 'html.parser')\n",
    "    doc_text = soup.text\n",
    "    trimmed_text = doc_text.replace(\" \",\"\")     # 문서에 있는 모든 공백 제거\n",
    "    unit = get_unit(trimmed_text)\n",
    "    print(f\"File [ {file_name} ] amount unit => \\t {unit}\")"
   ]
  }
 ],
 "metadata": {
  "kernelspec": {
   "display_name": "data-gatherer.venv",
   "language": "python",
   "name": "python3"
  },
  "language_info": {
   "codemirror_mode": {
    "name": "ipython",
    "version": 3
   },
   "file_extension": ".py",
   "mimetype": "text/x-python",
   "name": "python",
   "nbconvert_exporter": "python",
   "pygments_lexer": "ipython3",
   "version": "3.10.8"
  },
  "orig_nbformat": 4
 },
 "nbformat": 4,
 "nbformat_minor": 2
}
