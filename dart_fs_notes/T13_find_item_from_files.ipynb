{
 "cells": [
  {
   "cell_type": "markdown",
   "metadata": {},
   "source": [
    "### 사업보고서 \"재무제표 주석\" 다운로드한 HTML 문서(샘플)에서 값 읽기 테스트"
   ]
  },
  {
   "cell_type": "markdown",
   "metadata": {},
   "source": [
    "* 한 개 파일 테스트"
   ]
  },
  {
   "cell_type": "code",
   "execution_count": 1,
   "metadata": {},
   "outputs": [],
   "source": [
    "import sys\n",
    "module_path = \"D:\\PythonProject\\data-gatherer\\dart_fs_notes\"\n",
    "sys.path.append(module_path)\n",
    "import mydart\n",
    "\n",
    "# 샘플 파일 위치\n",
    "path_dir = \"D:/PythonProject/data-gatherer/dart_fs_notes/sample/\""
   ]
  },
  {
   "cell_type": "code",
   "execution_count": 3,
   "metadata": {},
   "outputs": [
    {
     "name": "stdout",
     "output_type": "stream",
     "text": [
      "None \t 0.0 \t 0.0 \t None \t 00101664_20170331001705_fs_notes.html\n"
     ]
    }
   ],
   "source": [
    "file_name = \"00101664_20170331001705_fs_notes.html\"\n",
    " \n",
    "with open(path_dir + file_name, \"r\") as file:\n",
    "    html_doc = file.read()\n",
    "val_a = val_b = 0.0\n",
    "unit = None\n",
    "# 재무제표 주석 문서에서 사용된 금액 단위 찾기 (확정급여채무)\n",
    "unit = mydart.find_unit(html_doc, url=False)\n",
    "# 당기말의 \"확정급여채무\"와 \"사외적립자산\" 금액 찾기\n",
    "val_a, val_b, item_result = mydart.find_item(html_doc)\n",
    "print(unit, '\\t', val_a, '\\t', val_b, '\\t', item_result, '\\t', file_name)   "
   ]
  },
  {
   "cell_type": "markdown",
   "metadata": {},
   "source": [
    "* 여러 파일 테스트"
   ]
  },
  {
   "cell_type": "code",
   "execution_count": 1,
   "metadata": {},
   "outputs": [
    {
     "name": "stdout",
     "output_type": "stream",
     "text": [
      "백만원 \t 22872.0 \t 23547.0 \t 기금이 적립된 확정급여채무의 현재가치, 기금이 적립되지 않은 확정급여채무의 현재가치, 사외적립자산의 공정가치(*) \t 00100939_20181231000132_fs_notes.html\n",
      "None \t 0.0 \t 0.0 \t None \t 00101664_20170331001705_fs_notes(특이Case).html\n",
      "None \t 0.0 \t 0.0 \t None \t 00102113_20170330000245_fs_notes(특이Case).html\n",
      "천원 \t 0.0 \t 0.0 \t None \t 00103510_20220321001159_fs_notes.html\n",
      "원 \t 25077526677.0 \t 0.0 \t 확정급여채무(기말), 퇴직급여충당부채, 퇴직급여충당부채 \t 00103662_20230321000645_fs_notes.html\n",
      "천원 \t 207148155.0 \t 248065367.0 \t 적립형 의무의 현재가치, 사외적립자산의 공정가치 \t 00105271_20230316000762_fs_notes.html\n",
      "백만원 \t 1901868.0 \t 1645527.0 \t 적립형 의무의 현재가치, 사외적립자산의 공정가치 \t 00106641_20211210000418_fs_notes.html\n",
      "천원 \t 7960000.0 \t 10903868.0 \t ―확정급여채무의 현재가치, ―사외적립자산의 공정가치 \t 00112651_20190625000399_fs_notes.html\n",
      "천원 \t 11851210.0 \t 7177986.0 \t 확정급여채무의 현재가치, 사외적립자산의 공정가치 \t 00116268_20200330000769_fs_notes.html\n",
      "천원 \t 47786197.0 \t 41115420.0 \t - 확정급여채무의 현재가치, - 사외적립자산의 공정가치 \t 00141307_20220315000564_fs_notes.html\n",
      "천원 \t 18280745.0 \t -1.0 \t 퇴직급여채무의 현재가치, 사외적립자산의 공정가치 \t 00148920_20170329000180_fs_notes.html\n",
      "백만원 \t -1.0 \t -1.0 \t 확정급여채무의 현재가치(*1), 사외적립자산의 공정가치 \t 00356370_20220516002048_fs_notes.html\n",
      "None \t 0.0 \t 40761035.0 \t 사외적립자산의 공정가치 \t 01236897_20230316001404_fs_notes.html\n",
      "천원 \t 28688137.0 \t 24330397.0 \t 확정급여채무의 현재가치, 사외적립자산의 공정가치 \t 01319899_20210323000842_fs_notes.html\n",
      "천원 \t 35390325.0 \t 30572150.0 \t 확정급여채무의 현재가치, 사외적립자산의 공정가치 \t HSD엔진_2022.html\n",
      "천원 \t 150685632.0 \t 136848167.0 \t 기금이 적립된 제도에서 발생한 확정급여채무의 현재가치, 사외적립자산의 공정가치 \t OCI_2020.html\n",
      "천원 \t 4333527.0 \t 211034.0 \t 금융상품의 공정가치 금융상품에 대한 활성시장이 없는 경우 공정가치는 평가기법을 사용하여 결정하고 있으며, 평가기법은 합리적인 판단력과 거래의사가 있는 독립된 당사자 사이의 최근 거래를 사용하는 방법, 실질적으로 동일한 다른 금융상품의 현행 공정가치를 참조하는 방법, 현금흐름할인방법과 옵션가격결정모형 등을 포함하고 있습니다. 회사는 주기적으로 평가기법을 조정하며 관측가능한 현행 시장거래의 가격을 사용하거나관측가능한 시장자료에기초하여 그 타당성을 검토하는 등 다양한 평가기법의 선택과 가정에 대한 판단을 하고 있습니다. 이연법인세 이연법인세 자산과 부채는 보고기간말까지 제정되었거나 실질적으로 제정된 세율(및세법)에 근거하여 당해 자산이 실현되거나 부채가 결제될 회계기간에 적용될 것으로 기대되는 세율을 사용하여 추정하고 있으며 이연법인세자산의 장부금액은 이연법인세자산의일부 또는 전부에 대한 혜택이 사용되기에 충분한 과세소득이 발생할 가능성이 높은 경우 최선의 추정치로 인식하고 있습니다. 이러한 추정치는 미래의 실제 법인세부담과 다를 수 있습니다. 확정급여채무  확정급여채무의 현재가치를 계산하기 위하여 사용하는 보험수리적 가정은 퇴직급여의 궁극적인 원가를 결정하는 여러 가지 변수들에 대한 최선의 추정을 반영하는 것으로 여기에는 퇴직전이나 퇴직후의 사망률, 이직률, 신체장애율 및 조기퇴직률, 급여수령권을 갖는 피부양자가 있는 종업원의 비율, 의료급여제도의 경우 의료원가청구율, 할인율, 미래의 임금과 급여 수준 등이 포함되며, 이러한 가정에 따라 확정급여채무의 현재가치는 민감하게 변동될 수 있습니다., 확정급여채무 현재가치, 사외적립자산 공정가치 \t 대원화성_2017.html\n",
      "천원 \t 0.0 \t 0.0 \t 확정급여채무의 현재가치, 사외적립자산의 공정가치 \t 라파스_2019_(val_a와 val_b 모두 0).html\n",
      "None \t 0.0 \t 0.0 \t None \t 바이오노트_2022(특이Case).html\n",
      "백만원 \t 9754082.0 \t 10916538.0 \t 기금이 적립된 확정급여채무의 현재가치, 기금이 적립되지 않은 확정급여채무의 현재가치, 사외적립자산의 공정가치 \t 삼성전자_2020.htm\n",
      "원 \t 24306779070.0 \t 15839581933.0 \t 확정급여채무의 현재가치, 사외적립자산의 공정가치 \t 삼익THK.html\n",
      "백만원 \t 65649.0 \t -1.0 \t 확정급여부채의 현재가치, 사외적립자산의 공정가치: \t 송원산업_2022_(val_b 수기보정 필요).html\n",
      "천원 \t 4610384.0 \t 2754545.0 \t 확정급여채무의 현재가치, 사외적립자산의 공정가치 \t 에이엔피_2017.html\n",
      "천원 \t 1447783.0 \t 1123856.0 \t 확정급여채무의 현재가치, 사외적립자산의 공정가치 \t 엘컴텍_2020.html\n",
      "천원 \t 31658642.0 \t 33350365.0 \t 확정급여채무의 현재가치(주1), 사외적립자산의 공정가치 \t 이수화학_2017.html\n",
      "None \t 0.0 \t 0.0 \t No Contents \t 이스트아시아홀딩스_2016(재무제표 주석 내용없음).html\n",
      "천원 \t 31474613.0 \t 31603167.0 \t 기금이 적립된 확정급여채무의 현재가치, 기금이 적립되지 않은 확정급여채무의 현재가치, 사외적립자산의 공정가치(*) \t 조선내화_2016년.htm\n",
      "천원 \t 20364282.0 \t 2075400.0 \t 퇴직급여채무, 사외적립자산의 공정가치(주1) \t 카프로_2016.html\n",
      "천원 \t 443812.0 \t 0.0 \t 퇴직급여충당부채 \t 큐젠바이오텍_2020(특이Case).html\n",
      "None \t 0.0 \t 0.0 \t None \t 크루셜텍(수기Check필요).html\n",
      "천원 \t 15111.0 \t 0.0 \t 퇴직급여충당부채 \t 황금에스티_2021(수기보정 필요).html\n"
     ]
    }
   ],
   "source": [
    "import os\n",
    "\n",
    "import sys\n",
    "module_path = \"D:\\PythonProject\\data-gatherer\\dart_fs_notes\"\n",
    "sys.path.append(module_path)\n",
    "import mydart\n",
    "\n",
    "# 샘플 파일 위치\n",
    "path_dir = \"D:/PythonProject/data-gatherer/dart_fs_notes/sample/\"\n",
    "file_list = os.listdir(path_dir)\n",
    " \n",
    "for file_name in file_list:\n",
    "    with open(path_dir + file_name, \"r\") as file:\n",
    "        html_doc = file.read()\n",
    "    val_a = val_b = 0.0\n",
    "    unit = None\n",
    "    # 재무제표 주석 문서에서 사용된 금액 단위 찾기 (확정급여채무)\n",
    "    unit = mydart.find_unit(html_doc, url=False)\n",
    "    # 당기말의 \"확정급여채무\"와 \"사외적립자산\" 금액 찾기\n",
    "    val_a, val_b, item_result = mydart.find_item(html_doc)\n",
    "    print(unit, '\\t', val_a, '\\t', val_b, '\\t', item_result, '\\t', file_name)   "
   ]
  }
 ],
 "metadata": {
  "kernelspec": {
   "display_name": "data-gatherer.venv",
   "language": "python",
   "name": "python3"
  },
  "language_info": {
   "codemirror_mode": {
    "name": "ipython",
    "version": 3
   },
   "file_extension": ".py",
   "mimetype": "text/x-python",
   "name": "python",
   "nbconvert_exporter": "python",
   "pygments_lexer": "ipython3",
   "version": "3.10.8"
  },
  "orig_nbformat": 4
 },
 "nbformat": 4,
 "nbformat_minor": 2
}
