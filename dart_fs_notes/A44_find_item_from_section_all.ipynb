{
 "cells": [
  {
   "cell_type": "markdown",
   "metadata": {},
   "source": [
    "### 데이터 값 목록 전체"
   ]
  },
  {
   "cell_type": "markdown",
   "metadata": {},
   "source": [
    "* 데이터 값 전체 자료를 csv 파일로 저장"
   ]
  },
  {
   "cell_type": "code",
   "execution_count": 2,
   "metadata": {},
   "outputs": [
    {
     "data": {
      "text/plain": [
       "342"
      ]
     },
     "execution_count": 2,
     "metadata": {},
     "output_type": "execute_result"
    }
   ],
   "source": [
    "import os\n",
    "import pandas as pd\n",
    "\n",
    "# 파일 저장 위치\n",
    "path_dir = \"D:/PythonProject/data-gatherer/dart_fs_notes/items_from_section/\"\n",
    "file_list = os.listdir(path_dir)\n",
    "\n",
    "df_all = pd.DataFrame()    \n",
    "for file_name in file_list:\n",
    "    if file_name != 'items_all.csv' and not file_name.startswith('__'):\n",
    "        df = pd.read_csv(path_dir + file_name, dtype=object)\n",
    "        df_all = pd.concat([df_all, df])\n",
    "    \n",
    "df_all.drop_duplicates(subset=['corp_code','rpt_num'], keep='first', inplace=True, ignore_index=True)            \n",
    "df_all.to_csv(path_dir + 'items_all.csv', index=False)\n",
    "len(df_all['corp_code'].unique())"
   ]
  },
  {
   "cell_type": "markdown",
   "metadata": {},
   "source": [
    "### 데이터값 결과"
   ]
  },
  {
   "cell_type": "code",
   "execution_count": 12,
   "metadata": {},
   "outputs": [
    {
     "name": "stdout",
     "output_type": "stream",
     "text": [
      "기업 342, 사업보고서 2444\n"
     ]
    }
   ],
   "source": [
    "import pandas as pd\n",
    "# 데이터 Loading\n",
    "path_dir = \"D:/PythonProject/data-gatherer/dart_fs_notes/items_from_section/\"\n",
    "df_all = pd.read_csv(path_dir + 'items_all.csv', dtype=object)\n",
    "num_of_rpt = int(df_all.shape[0])\n",
    "num_of_corp = len(df_all['corp_code'].unique())\n",
    "print(f\"기업 {num_of_corp}, 사업보고서 {num_of_rpt}\")"
   ]
  },
  {
   "cell_type": "code",
   "execution_count": 13,
   "metadata": {},
   "outputs": [],
   "source": [
    "# 기업개황정보 파일 읽기\n",
    "file_path = \"D:/PythonProject/data-gatherer/dart_fs_notes/company/corp_info_all.csv\"\n",
    "df_corp_info_all = pd.read_csv(file_path, dtype=object)"
   ]
  },
  {
   "cell_type": "code",
   "execution_count": 14,
   "metadata": {},
   "outputs": [],
   "source": [
    "# 데이터값과 기업개황정보 연결\n",
    "df_all = pd.merge(df_all, df_corp_info_all[['corp_code', 'jurir_no', 'bizr_no', 'induty_code']], \n",
    "                  how='left', left_on='corp_code', right_on='corp_code')"
   ]
  },
  {
   "cell_type": "code",
   "execution_count": 15,
   "metadata": {},
   "outputs": [
    {
     "data": {
      "text/plain": [
       "1949"
      ]
     },
     "execution_count": 15,
     "metadata": {},
     "output_type": "execute_result"
    }
   ],
   "source": [
    "# 제조업\n",
    "df = df_all[df_all['induty_code'].str[0:2].between('10', '34', inclusive='both')]\n",
    "df.shape[0]"
   ]
  },
  {
   "cell_type": "code",
   "execution_count": 16,
   "metadata": {},
   "outputs": [
    {
     "data": {
      "text/plain": [
       "doc_result\n",
       "OK                              1903\n",
       "No Financial Statement Notes      46\n",
       "Name: count, dtype: int64"
      ]
     },
     "execution_count": 16,
     "metadata": {},
     "output_type": "execute_result"
    }
   ],
   "source": [
    "df['doc_result'].value_counts()"
   ]
  },
  {
   "cell_type": "code",
   "execution_count": 17,
   "metadata": {},
   "outputs": [
    {
     "data": {
      "text/plain": [
       "unit\n",
       "천원     1445\n",
       "백만원     218\n",
       "원       171\n",
       "Name: count, dtype: int64"
      ]
     },
     "execution_count": 17,
     "metadata": {},
     "output_type": "execute_result"
    }
   ],
   "source": [
    "df['unit'].value_counts()"
   ]
  },
  {
   "cell_type": "code",
   "execution_count": 18,
   "metadata": {},
   "outputs": [],
   "source": [
    "import sys\n",
    "module_path = \"D:\\PythonProject\\data-gatherer\\dart_fs_notes\"\n",
    "sys.path.append(module_path)\n",
    "import myutil"
   ]
  },
  {
   "cell_type": "code",
   "execution_count": 19,
   "metadata": {},
   "outputs": [
    {
     "data": {
      "text/plain": [
       "50"
      ]
     },
     "execution_count": 19,
     "metadata": {},
     "output_type": "execute_result"
    }
   ],
   "source": [
    "pd.options.display.max_colwidth"
   ]
  },
  {
   "cell_type": "markdown",
   "metadata": {},
   "source": [
    "* 재무제표 주석 항목이 없는 경우"
   ]
  },
  {
   "cell_type": "code",
   "execution_count": 20,
   "metadata": {},
   "outputs": [
    {
     "data": {
      "text/plain": [
       "46"
      ]
     },
     "execution_count": 20,
     "metadata": {},
     "output_type": "execute_result"
    }
   ],
   "source": [
    "df[df.doc_title.isna()].shape[0]"
   ]
  },
  {
   "cell_type": "markdown",
   "metadata": {},
   "source": [
    "* 문서 찾기(doc_result), 금액 찾기(item_result) 결과 통계"
   ]
  },
  {
   "cell_type": "code",
   "execution_count": 21,
   "metadata": {},
   "outputs": [],
   "source": [
    "pd.options.display.max_colwidth = 100\n",
    "result_chk = df[['doc_result', 'item_result']].value_counts()\n",
    "df_result_chk = pd.DataFrame(result_chk)\n",
    "df_result_chk.reset_index(inplace=True)\n",
    "df_result_chk.to_csv(\"D:/PythonProject/data-gatherer/dart_fs_notes/output/\" + \"result_chk_\" + myutil.now_dt_str() + \".csv\", index=False)"
   ]
  },
  {
   "cell_type": "markdown",
   "metadata": {},
   "source": [
    "### 수기 확인 필요한 목록"
   ]
  },
  {
   "cell_type": "markdown",
   "metadata": {},
   "source": [
    "* Section Title은 찾았지만 금액 찾기(Value Table)는 실패한 경우"
   ]
  },
  {
   "cell_type": "code",
   "execution_count": 26,
   "metadata": {},
   "outputs": [
    {
     "name": "stdout",
     "output_type": "stream",
     "text": [
      "Section Title은 찾았지만 금액 찾기는 실패한 경우: 기업 12, 사업보고서 63\n"
     ]
    },
    {
     "data": {
      "text/html": [
       "<div>\n",
       "<style scoped>\n",
       "    .dataframe tbody tr th:only-of-type {\n",
       "        vertical-align: middle;\n",
       "    }\n",
       "\n",
       "    .dataframe tbody tr th {\n",
       "        vertical-align: top;\n",
       "    }\n",
       "\n",
       "    .dataframe thead th {\n",
       "        text-align: right;\n",
       "    }\n",
       "</style>\n",
       "<table border=\"1\" class=\"dataframe\">\n",
       "  <thead>\n",
       "    <tr style=\"text-align: right;\">\n",
       "      <th></th>\n",
       "      <th>corp_code</th>\n",
       "      <th>stock_code</th>\n",
       "      <th>corp_cls</th>\n",
       "      <th>corp_name</th>\n",
       "      <th>rpt_num</th>\n",
       "      <th>rpt_name</th>\n",
       "      <th>doc_title</th>\n",
       "      <th>doc_result</th>\n",
       "      <th>section_title</th>\n",
       "      <th>unit</th>\n",
       "      <th>val_a</th>\n",
       "      <th>val_b</th>\n",
       "      <th>item_result</th>\n",
       "      <th>doc_url</th>\n",
       "      <th>jurir_no</th>\n",
       "      <th>bizr_no</th>\n",
       "      <th>induty_code</th>\n",
       "    </tr>\n",
       "  </thead>\n",
       "  <tbody>\n",
       "    <tr>\n",
       "      <th>2197</th>\n",
       "      <td>00854997</td>\n",
       "      <td>137310</td>\n",
       "      <td>Y</td>\n",
       "      <td>에스디바이오센서</td>\n",
       "      <td>20210514001634</td>\n",
       "      <td>[기재정정]사업보고서 (2020.12)</td>\n",
       "      <td>5. 재무제표 주석</td>\n",
       "      <td>OK</td>\n",
       "      <td>19. 확정기여형 퇴직급여제도</td>\n",
       "      <td>NaN</td>\n",
       "      <td>0.0</td>\n",
       "      <td>0.0</td>\n",
       "      <td>No Contents</td>\n",
       "      <td>http://dart.fss.or.kr/report/viewer.do?rcpNo=20210514001634&amp;dcmNo=8070680&amp;eleId=19&amp;offset=824780...</td>\n",
       "      <td>1358110191121</td>\n",
       "      <td>1358613315</td>\n",
       "      <td>27112</td>\n",
       "    </tr>\n",
       "    <tr>\n",
       "      <th>2196</th>\n",
       "      <td>00854997</td>\n",
       "      <td>137310</td>\n",
       "      <td>Y</td>\n",
       "      <td>에스디바이오센서</td>\n",
       "      <td>20220321001483</td>\n",
       "      <td>사업보고서 (2021.12)</td>\n",
       "      <td>5. 재무제표 주석</td>\n",
       "      <td>OK</td>\n",
       "      <td>20. 확정기여형 퇴직급여제도</td>\n",
       "      <td>NaN</td>\n",
       "      <td>0.0</td>\n",
       "      <td>0.0</td>\n",
       "      <td>No Contents</td>\n",
       "      <td>http://dart.fss.or.kr/report/viewer.do?rcpNo=20220321001483&amp;dcmNo=8487583&amp;eleId=22&amp;offset=891696...</td>\n",
       "      <td>1358110191121</td>\n",
       "      <td>1358613315</td>\n",
       "      <td>27112</td>\n",
       "    </tr>\n",
       "    <tr>\n",
       "      <th>2195</th>\n",
       "      <td>00854997</td>\n",
       "      <td>137310</td>\n",
       "      <td>Y</td>\n",
       "      <td>에스디바이오센서</td>\n",
       "      <td>20230515000371</td>\n",
       "      <td>[기재정정]사업보고서 (2022.12)</td>\n",
       "      <td>5. 재무제표 주석</td>\n",
       "      <td>OK</td>\n",
       "      <td>20. 확정기여형 퇴직급여제도</td>\n",
       "      <td>NaN</td>\n",
       "      <td>0.0</td>\n",
       "      <td>0.0</td>\n",
       "      <td>No Contents</td>\n",
       "      <td>http://dart.fss.or.kr/report/viewer.do?rcpNo=20230515000371&amp;dcmNo=9272423&amp;eleId=24&amp;offset=873206...</td>\n",
       "      <td>1358110191121</td>\n",
       "      <td>1358613315</td>\n",
       "      <td>27112</td>\n",
       "    </tr>\n",
       "  </tbody>\n",
       "</table>\n",
       "</div>"
      ],
      "text/plain": [
       "     corp_code stock_code corp_cls corp_name         rpt_num  \\\n",
       "2197  00854997     137310        Y  에스디바이오센서  20210514001634   \n",
       "2196  00854997     137310        Y  에스디바이오센서  20220321001483   \n",
       "2195  00854997     137310        Y  에스디바이오센서  20230515000371   \n",
       "\n",
       "                   rpt_name   doc_title doc_result     section_title unit  \\\n",
       "2197  [기재정정]사업보고서 (2020.12)  5. 재무제표 주석         OK  19. 확정기여형 퇴직급여제도  NaN   \n",
       "2196        사업보고서 (2021.12)  5. 재무제표 주석         OK  20. 확정기여형 퇴직급여제도  NaN   \n",
       "2195  [기재정정]사업보고서 (2022.12)  5. 재무제표 주석         OK  20. 확정기여형 퇴직급여제도  NaN   \n",
       "\n",
       "     val_a val_b  item_result  \\\n",
       "2197   0.0   0.0  No Contents   \n",
       "2196   0.0   0.0  No Contents   \n",
       "2195   0.0   0.0  No Contents   \n",
       "\n",
       "                                                                                                  doc_url  \\\n",
       "2197  http://dart.fss.or.kr/report/viewer.do?rcpNo=20210514001634&dcmNo=8070680&eleId=19&offset=824780...   \n",
       "2196  http://dart.fss.or.kr/report/viewer.do?rcpNo=20220321001483&dcmNo=8487583&eleId=22&offset=891696...   \n",
       "2195  http://dart.fss.or.kr/report/viewer.do?rcpNo=20230515000371&dcmNo=9272423&eleId=24&offset=873206...   \n",
       "\n",
       "           jurir_no     bizr_no induty_code  \n",
       "2197  1358110191121  1358613315       27112  \n",
       "2196  1358110191121  1358613315       27112  \n",
       "2195  1358110191121  1358613315       27112  "
      ]
     },
     "execution_count": 26,
     "metadata": {},
     "output_type": "execute_result"
    }
   ],
   "source": [
    "df_no_contents = df[df.item_result == \"No Contents\"]\n",
    "df_no_contents = df_no_contents.sort_values(by=['corp_code'], ascending=False)\n",
    "df_no_contents.to_csv(\"D:/PythonProject/data-gatherer/dart_fs_notes/output/\" + \"result_types_\" + myutil.now_dt_str() + \".csv\", index=False)\n",
    "num_of_rpt = int(df_no_contents.shape[0])\n",
    "num_of_corp = len(df_no_contents['corp_code'].unique())\n",
    "print(f\"Section Title은 찾았지만 금액 찾기는 실패한 경우: 기업 {num_of_corp}, 사업보고서 {num_of_rpt}\")\n",
    "df_no_contents.head(3)"
   ]
  },
  {
   "cell_type": "markdown",
   "metadata": {},
   "source": [
    "* 금액 찾기 오류 발생 건"
   ]
  },
  {
   "cell_type": "code",
   "execution_count": 23,
   "metadata": {},
   "outputs": [
    {
     "data": {
      "text/html": [
       "<div>\n",
       "<style scoped>\n",
       "    .dataframe tbody tr th:only-of-type {\n",
       "        vertical-align: middle;\n",
       "    }\n",
       "\n",
       "    .dataframe tbody tr th {\n",
       "        vertical-align: top;\n",
       "    }\n",
       "\n",
       "    .dataframe thead th {\n",
       "        text-align: right;\n",
       "    }\n",
       "</style>\n",
       "<table border=\"1\" class=\"dataframe\">\n",
       "  <thead>\n",
       "    <tr style=\"text-align: right;\">\n",
       "      <th></th>\n",
       "      <th>doc_result</th>\n",
       "      <th>item_result</th>\n",
       "      <th>count</th>\n",
       "    </tr>\n",
       "  </thead>\n",
       "  <tbody>\n",
       "    <tr>\n",
       "      <th>69</th>\n",
       "      <td>OK</td>\n",
       "      <td>Exception</td>\n",
       "      <td>1</td>\n",
       "    </tr>\n",
       "  </tbody>\n",
       "</table>\n",
       "</div>"
      ],
      "text/plain": [
       "   doc_result item_result  count\n",
       "69         OK   Exception      1"
      ]
     },
     "execution_count": 23,
     "metadata": {},
     "output_type": "execute_result"
    }
   ],
   "source": [
    "df_result_chk[df_result_chk.item_result == \"Exception\"]"
   ]
  },
  {
   "cell_type": "code",
   "execution_count": 24,
   "metadata": {},
   "outputs": [
    {
     "name": "stdout",
     "output_type": "stream",
     "text": [
      "금액 찾기 오류 발생 건: 기업 1, 사업보고서 1\n"
     ]
    },
    {
     "data": {
      "text/html": [
       "<div>\n",
       "<style scoped>\n",
       "    .dataframe tbody tr th:only-of-type {\n",
       "        vertical-align: middle;\n",
       "    }\n",
       "\n",
       "    .dataframe tbody tr th {\n",
       "        vertical-align: top;\n",
       "    }\n",
       "\n",
       "    .dataframe thead th {\n",
       "        text-align: right;\n",
       "    }\n",
       "</style>\n",
       "<table border=\"1\" class=\"dataframe\">\n",
       "  <thead>\n",
       "    <tr style=\"text-align: right;\">\n",
       "      <th></th>\n",
       "      <th>corp_code</th>\n",
       "      <th>stock_code</th>\n",
       "      <th>corp_cls</th>\n",
       "      <th>corp_name</th>\n",
       "      <th>rpt_num</th>\n",
       "      <th>rpt_name</th>\n",
       "      <th>doc_title</th>\n",
       "      <th>doc_result</th>\n",
       "      <th>section_title</th>\n",
       "      <th>unit</th>\n",
       "      <th>val_a</th>\n",
       "      <th>val_b</th>\n",
       "      <th>item_result</th>\n",
       "      <th>doc_url</th>\n",
       "      <th>jurir_no</th>\n",
       "      <th>bizr_no</th>\n",
       "      <th>induty_code</th>\n",
       "    </tr>\n",
       "  </thead>\n",
       "  <tbody>\n",
       "    <tr>\n",
       "      <th>681</th>\n",
       "      <td>00125530</td>\n",
       "      <td>005610</td>\n",
       "      <td>Y</td>\n",
       "      <td>SPC삼립</td>\n",
       "      <td>20230316001219</td>\n",
       "      <td>사업보고서 (2022.12)</td>\n",
       "      <td>5. 재무제표 주석</td>\n",
       "      <td>OK</td>\n",
       "      <td>3. 순확정급여부채의 재측정요소</td>\n",
       "      <td>NaN</td>\n",
       "      <td>0.0</td>\n",
       "      <td>0.0</td>\n",
       "      <td>Exception</td>\n",
       "      <td>http://dart.fss.or.kr/report/viewer.do?rcpNo=20230316001219&amp;dcmNo=9066329&amp;eleId=22&amp;offset=816226...</td>\n",
       "      <td>1101110090516</td>\n",
       "      <td>1338122244</td>\n",
       "      <td>10712</td>\n",
       "    </tr>\n",
       "  </tbody>\n",
       "</table>\n",
       "</div>"
      ],
      "text/plain": [
       "    corp_code stock_code corp_cls corp_name         rpt_num         rpt_name  \\\n",
       "681  00125530     005610        Y     SPC삼립  20230316001219  사업보고서 (2022.12)   \n",
       "\n",
       "      doc_title doc_result      section_title unit val_a val_b item_result  \\\n",
       "681  5. 재무제표 주석         OK  3. 순확정급여부채의 재측정요소  NaN   0.0   0.0   Exception   \n",
       "\n",
       "                                                                                                 doc_url  \\\n",
       "681  http://dart.fss.or.kr/report/viewer.do?rcpNo=20230316001219&dcmNo=9066329&eleId=22&offset=816226...   \n",
       "\n",
       "          jurir_no     bizr_no induty_code  \n",
       "681  1101110090516  1338122244       10712  "
      ]
     },
     "execution_count": 24,
     "metadata": {},
     "output_type": "execute_result"
    }
   ],
   "source": [
    "df_exception = df[df.item_result == \"Exception\"]\n",
    "df_exception.to_csv(\"D:/PythonProject/data-gatherer/dart_fs_notes/output/\" + \"result_chk_exception_\" + myutil.now_dt_str() + \".csv\", index=False)\n",
    "num_of_rpt = int(df_exception.shape[0])\n",
    "num_of_corp = len(df_exception['corp_code'].unique())\n",
    "print(f\"금액 찾기 오류 발생 건: 기업 {num_of_corp}, 사업보고서 {num_of_rpt}\")\n",
    "df_exception"
   ]
  },
  {
   "cell_type": "markdown",
   "metadata": {},
   "source": [
    "* 금액 찾기 오류 발생 건"
   ]
  },
  {
   "cell_type": "code",
   "execution_count": 25,
   "metadata": {},
   "outputs": [
    {
     "data": {
      "text/html": [
       "<div>\n",
       "<style scoped>\n",
       "    .dataframe tbody tr th:only-of-type {\n",
       "        vertical-align: middle;\n",
       "    }\n",
       "\n",
       "    .dataframe tbody tr th {\n",
       "        vertical-align: top;\n",
       "    }\n",
       "\n",
       "    .dataframe thead th {\n",
       "        text-align: right;\n",
       "    }\n",
       "</style>\n",
       "<table border=\"1\" class=\"dataframe\">\n",
       "  <thead>\n",
       "    <tr style=\"text-align: right;\">\n",
       "      <th></th>\n",
       "      <th>corp_code</th>\n",
       "      <th>stock_code</th>\n",
       "      <th>corp_cls</th>\n",
       "      <th>corp_name</th>\n",
       "      <th>rpt_num</th>\n",
       "      <th>rpt_name</th>\n",
       "      <th>doc_title</th>\n",
       "      <th>doc_result</th>\n",
       "      <th>section_title</th>\n",
       "      <th>unit</th>\n",
       "      <th>val_a</th>\n",
       "      <th>val_b</th>\n",
       "      <th>item_result</th>\n",
       "      <th>doc_url</th>\n",
       "      <th>jurir_no</th>\n",
       "      <th>bizr_no</th>\n",
       "      <th>induty_code</th>\n",
       "    </tr>\n",
       "  </thead>\n",
       "  <tbody>\n",
       "  </tbody>\n",
       "</table>\n",
       "</div>"
      ],
      "text/plain": [
       "Empty DataFrame\n",
       "Columns: [corp_code, stock_code, corp_cls, corp_name, rpt_num, rpt_name, doc_title, doc_result, section_title, unit, val_a, val_b, item_result, doc_url, jurir_no, bizr_no, induty_code]\n",
       "Index: []"
      ]
     },
     "execution_count": 25,
     "metadata": {},
     "output_type": "execute_result"
    }
   ],
   "source": [
    "str_expr = \"val_a == '-1'or val_b == '-1'\"\n",
    "df.query(str_expr)"
   ]
  }
 ],
 "metadata": {
  "kernelspec": {
   "display_name": "data-gatherer.venv",
   "language": "python",
   "name": "python3"
  },
  "language_info": {
   "codemirror_mode": {
    "name": "ipython",
    "version": 3
   },
   "file_extension": ".py",
   "mimetype": "text/x-python",
   "name": "python",
   "nbconvert_exporter": "python",
   "pygments_lexer": "ipython3",
   "version": "3.10.8"
  },
  "orig_nbformat": 4
 },
 "nbformat": 4,
 "nbformat_minor": 2
}
